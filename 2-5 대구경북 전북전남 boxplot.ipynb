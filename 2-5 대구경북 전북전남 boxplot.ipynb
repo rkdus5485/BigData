{
 "cells": [
  {
   "cell_type": "code",
   "execution_count": 4,
   "metadata": {},
   "outputs": [],
   "source": [
    "import pandas as pd\n",
    "import numpy as np\n",
    "import seaborn as sns\n",
    "import matplotlib.pyplot as plt\n",
    "\n",
    "df_d = pd.read_csv('1,2,3월_2.csv')\n",
    "df_j = pd.read_csv('1,2,3월_전북전남.csv')"
   ]
  },
  {
   "cell_type": "code",
   "execution_count": 5,
   "metadata": {},
   "outputs": [],
   "source": [
    "from matplotlib import font_manager, rc\n",
    "font_name = font_manager.FontProperties(fname=\"C:/Windows/Fonts/malgun.ttf\").get_name()\n",
    "rc('font', family=font_name)"
   ]
  },
  {
   "cell_type": "code",
   "execution_count": 6,
   "metadata": {},
   "outputs": [
    {
     "data": {
      "text/html": [
       "<div>\n",
       "<style scoped>\n",
       "    .dataframe tbody tr th:only-of-type {\n",
       "        vertical-align: middle;\n",
       "    }\n",
       "\n",
       "    .dataframe tbody tr th {\n",
       "        vertical-align: top;\n",
       "    }\n",
       "\n",
       "    .dataframe thead th {\n",
       "        text-align: right;\n",
       "    }\n",
       "</style>\n",
       "<table border=\"1\" class=\"dataframe\">\n",
       "  <thead>\n",
       "    <tr style=\"text-align: right;\">\n",
       "      <th></th>\n",
       "      <th>Unnamed: 0</th>\n",
       "      <th>년월</th>\n",
       "      <th>업종명</th>\n",
       "      <th>연령대</th>\n",
       "      <th>성별</th>\n",
       "      <th>생애주기</th>\n",
       "      <th>고객수</th>\n",
       "      <th>금액</th>\n",
       "      <th>건수</th>\n",
       "      <th>사용지_시도</th>\n",
       "    </tr>\n",
       "  </thead>\n",
       "  <tbody>\n",
       "    <tr>\n",
       "      <th>0</th>\n",
       "      <td>598167</td>\n",
       "      <td>201901</td>\n",
       "      <td>카페</td>\n",
       "      <td>20s</td>\n",
       "      <td>2</td>\n",
       "      <td>1</td>\n",
       "      <td>3</td>\n",
       "      <td>24890</td>\n",
       "      <td>3</td>\n",
       "      <td>대구경북</td>\n",
       "    </tr>\n",
       "    <tr>\n",
       "      <th>1</th>\n",
       "      <td>598168</td>\n",
       "      <td>201901</td>\n",
       "      <td>카페</td>\n",
       "      <td>20s</td>\n",
       "      <td>2</td>\n",
       "      <td>1</td>\n",
       "      <td>3</td>\n",
       "      <td>17800</td>\n",
       "      <td>3</td>\n",
       "      <td>대구경북</td>\n",
       "    </tr>\n",
       "    <tr>\n",
       "      <th>2</th>\n",
       "      <td>598169</td>\n",
       "      <td>201901</td>\n",
       "      <td>카페</td>\n",
       "      <td>30s</td>\n",
       "      <td>2</td>\n",
       "      <td>2</td>\n",
       "      <td>3</td>\n",
       "      <td>28500</td>\n",
       "      <td>4</td>\n",
       "      <td>대구경북</td>\n",
       "    </tr>\n",
       "    <tr>\n",
       "      <th>3</th>\n",
       "      <td>598170</td>\n",
       "      <td>201901</td>\n",
       "      <td>카페</td>\n",
       "      <td>20s</td>\n",
       "      <td>1</td>\n",
       "      <td>1</td>\n",
       "      <td>3</td>\n",
       "      <td>27900</td>\n",
       "      <td>4</td>\n",
       "      <td>대구경북</td>\n",
       "    </tr>\n",
       "    <tr>\n",
       "      <th>4</th>\n",
       "      <td>598171</td>\n",
       "      <td>201901</td>\n",
       "      <td>카페</td>\n",
       "      <td>40s</td>\n",
       "      <td>1</td>\n",
       "      <td>3</td>\n",
       "      <td>3</td>\n",
       "      <td>20600</td>\n",
       "      <td>3</td>\n",
       "      <td>대구경북</td>\n",
       "    </tr>\n",
       "  </tbody>\n",
       "</table>\n",
       "</div>"
      ],
      "text/plain": [
       "   Unnamed: 0      년월 업종명  연령대  성별  생애주기  고객수     금액  건수 사용지_시도\n",
       "0      598167  201901  카페  20s   2     1    3  24890   3   대구경북\n",
       "1      598168  201901  카페  20s   2     1    3  17800   3   대구경북\n",
       "2      598169  201901  카페  30s   2     2    3  28500   4   대구경북\n",
       "3      598170  201901  카페  20s   1     1    3  27900   4   대구경북\n",
       "4      598171  201901  카페  40s   1     3    3  20600   3   대구경북"
      ]
     },
     "execution_count": 6,
     "metadata": {},
     "output_type": "execute_result"
    }
   ],
   "source": [
    "df_d['사용지_시도']='대구경북'\n",
    "df_d.head()"
   ]
  },
  {
   "cell_type": "code",
   "execution_count": 7,
   "metadata": {},
   "outputs": [],
   "source": [
    "df_j=df_j.replace({'전남':'전북전남',\"전북\" : \"전북전남\"})"
   ]
  },
  {
   "cell_type": "code",
   "execution_count": 8,
   "metadata": {},
   "outputs": [
    {
     "name": "stdout",
     "output_type": "stream",
     "text": [
      "        Unnamed: 0      년월      업종명  연령대  성별  생애주기  고객수        금액   건수 사용지_시도\n",
      "0           598167  201901       카페  20s   2     1    3     24890    3   대구경북\n",
      "1           598168  201901       카페  20s   2     1    3     17800    3   대구경북\n",
      "2           598169  201901       카페  30s   2     2    3     28500    4   대구경북\n",
      "3           598170  201901       카페  20s   1     1    3     27900    4   대구경북\n",
      "4           598171  201901       카페  40s   1     3    3     20600    3   대구경북\n",
      "...            ...     ...      ...  ...  ..   ...  ...       ...  ...    ...\n",
      "186755    24538819  202003  일반 음식점업  60s   2     5  242  10799645  312   전북전남\n",
      "186756    24538820  202003  일반 음식점업  70s   1     5  176   8602400  294   전북전남\n",
      "186757    24538821  202003  일반 음식점업  70s   2     5   39   1431000   46   전북전남\n",
      "186758    24538822  202003  일반 음식점업  50s   1     4    4     75900    7   전북전남\n",
      "186759    24538823  202003  일반 음식점업  60s   1     5    4    195500    5   전북전남\n",
      "\n",
      "[411300 rows x 10 columns]\n"
     ]
    }
   ],
   "source": [
    "df_dj=pd.concat([df_d, df_j])\n",
    "print(df_dj)"
   ]
  },
  {
   "cell_type": "code",
   "execution_count": null,
   "metadata": {},
   "outputs": [],
   "source": []
  },
  {
   "cell_type": "code",
   "execution_count": 9,
   "metadata": {},
   "outputs": [
    {
     "data": {
      "text/html": [
       "<div>\n",
       "<style scoped>\n",
       "    .dataframe tbody tr th:only-of-type {\n",
       "        vertical-align: middle;\n",
       "    }\n",
       "\n",
       "    .dataframe tbody tr th {\n",
       "        vertical-align: top;\n",
       "    }\n",
       "\n",
       "    .dataframe thead th {\n",
       "        text-align: right;\n",
       "    }\n",
       "</style>\n",
       "<table border=\"1\" class=\"dataframe\">\n",
       "  <thead>\n",
       "    <tr style=\"text-align: right;\">\n",
       "      <th></th>\n",
       "      <th>Unnamed: 0</th>\n",
       "      <th>년월</th>\n",
       "      <th>업종명</th>\n",
       "      <th>연령대</th>\n",
       "      <th>성별</th>\n",
       "      <th>생애주기</th>\n",
       "      <th>고객수</th>\n",
       "      <th>금액</th>\n",
       "      <th>건수</th>\n",
       "      <th>사용지_시도</th>\n",
       "      <th>Log10_금액</th>\n",
       "    </tr>\n",
       "  </thead>\n",
       "  <tbody>\n",
       "    <tr>\n",
       "      <th>0</th>\n",
       "      <td>598167</td>\n",
       "      <td>201901</td>\n",
       "      <td>카페</td>\n",
       "      <td>20s</td>\n",
       "      <td>2</td>\n",
       "      <td>1</td>\n",
       "      <td>3</td>\n",
       "      <td>24890</td>\n",
       "      <td>3</td>\n",
       "      <td>대구경북</td>\n",
       "      <td>4.396025</td>\n",
       "    </tr>\n",
       "    <tr>\n",
       "      <th>1</th>\n",
       "      <td>598168</td>\n",
       "      <td>201901</td>\n",
       "      <td>카페</td>\n",
       "      <td>20s</td>\n",
       "      <td>2</td>\n",
       "      <td>1</td>\n",
       "      <td>3</td>\n",
       "      <td>17800</td>\n",
       "      <td>3</td>\n",
       "      <td>대구경북</td>\n",
       "      <td>4.250420</td>\n",
       "    </tr>\n",
       "    <tr>\n",
       "      <th>2</th>\n",
       "      <td>598169</td>\n",
       "      <td>201901</td>\n",
       "      <td>카페</td>\n",
       "      <td>30s</td>\n",
       "      <td>2</td>\n",
       "      <td>2</td>\n",
       "      <td>3</td>\n",
       "      <td>28500</td>\n",
       "      <td>4</td>\n",
       "      <td>대구경북</td>\n",
       "      <td>4.454845</td>\n",
       "    </tr>\n",
       "    <tr>\n",
       "      <th>3</th>\n",
       "      <td>598170</td>\n",
       "      <td>201901</td>\n",
       "      <td>카페</td>\n",
       "      <td>20s</td>\n",
       "      <td>1</td>\n",
       "      <td>1</td>\n",
       "      <td>3</td>\n",
       "      <td>27900</td>\n",
       "      <td>4</td>\n",
       "      <td>대구경북</td>\n",
       "      <td>4.445604</td>\n",
       "    </tr>\n",
       "    <tr>\n",
       "      <th>4</th>\n",
       "      <td>598171</td>\n",
       "      <td>201901</td>\n",
       "      <td>카페</td>\n",
       "      <td>40s</td>\n",
       "      <td>1</td>\n",
       "      <td>3</td>\n",
       "      <td>3</td>\n",
       "      <td>20600</td>\n",
       "      <td>3</td>\n",
       "      <td>대구경북</td>\n",
       "      <td>4.313867</td>\n",
       "    </tr>\n",
       "  </tbody>\n",
       "</table>\n",
       "</div>"
      ],
      "text/plain": [
       "   Unnamed: 0      년월 업종명  연령대  성별  생애주기  고객수     금액  건수 사용지_시도  Log10_금액\n",
       "0      598167  201901  카페  20s   2     1    3  24890   3   대구경북  4.396025\n",
       "1      598168  201901  카페  20s   2     1    3  17800   3   대구경북  4.250420\n",
       "2      598169  201901  카페  30s   2     2    3  28500   4   대구경북  4.454845\n",
       "3      598170  201901  카페  20s   1     1    3  27900   4   대구경북  4.445604\n",
       "4      598171  201901  카페  40s   1     3    3  20600   3   대구경북  4.313867"
      ]
     },
     "execution_count": 9,
     "metadata": {},
     "output_type": "execute_result"
    }
   ],
   "source": [
    "#전북 전남,대구 경북의 금액을 log10으로 변환\n",
    "df_dj[\"Log10_금액\"] = np.log10(df_dj[\"금액\"])\n",
    "df_dj.head()"
   ]
  },
  {
   "cell_type": "code",
   "execution_count": 10,
   "metadata": {},
   "outputs": [
    {
     "data": {
      "image/png": "[encoded data removed]",
      "text/plain": [
       "<Figure size 432x288 with 1 Axes>"
      ]
     },
     "metadata": {
      "needs_background": "light"
     },
     "output_type": "display_data"
    }
   ],
   "source": [
    "ax1=sns.boxplot(x=\"년월\",y=\"Log10_금액\",hue = \"사용지_시도\",data=df_dj)\n",
    "ax1.set_title('전북전남, 대구경북 매출 비교')\n",
    "plt.show()"
   ]
  },
  {
   "cell_type": "code",
   "execution_count": null,
   "metadata": {},
   "outputs": [],
   "source": []
  },
  {
   "cell_type": "markdown",
   "metadata": {},
   "source": [
    "# 2020 01 - 02  비교"
   ]
  },
  {
   "cell_type": "code",
   "execution_count": 11,
   "metadata": {},
   "outputs": [
    {
     "data": {
      "text/html": [
       "<div>\n",
       "<style scoped>\n",
       "    .dataframe tbody tr th:only-of-type {\n",
       "        vertical-align: middle;\n",
       "    }\n",
       "\n",
       "    .dataframe tbody tr th {\n",
       "        vertical-align: top;\n",
       "    }\n",
       "\n",
       "    .dataframe thead th {\n",
       "        text-align: right;\n",
       "    }\n",
       "</style>\n",
       "<table border=\"1\" class=\"dataframe\">\n",
       "  <thead>\n",
       "    <tr style=\"text-align: right;\">\n",
       "      <th></th>\n",
       "      <th>Unnamed: 0</th>\n",
       "      <th>년월</th>\n",
       "      <th>업종명</th>\n",
       "      <th>연령대</th>\n",
       "      <th>성별</th>\n",
       "      <th>생애주기</th>\n",
       "      <th>고객수</th>\n",
       "      <th>금액</th>\n",
       "      <th>건수</th>\n",
       "      <th>사용지_시도</th>\n",
       "      <th>Log10_금액</th>\n",
       "    </tr>\n",
       "  </thead>\n",
       "  <tbody>\n",
       "    <tr>\n",
       "      <th>46425</th>\n",
       "      <td>21057926</td>\n",
       "      <td>202001</td>\n",
       "      <td>카페</td>\n",
       "      <td>30s</td>\n",
       "      <td>1</td>\n",
       "      <td>2</td>\n",
       "      <td>3</td>\n",
       "      <td>33600</td>\n",
       "      <td>3</td>\n",
       "      <td>대구경북</td>\n",
       "      <td>4.526339</td>\n",
       "    </tr>\n",
       "    <tr>\n",
       "      <th>46426</th>\n",
       "      <td>21057927</td>\n",
       "      <td>202001</td>\n",
       "      <td>카페</td>\n",
       "      <td>20s</td>\n",
       "      <td>2</td>\n",
       "      <td>1</td>\n",
       "      <td>3</td>\n",
       "      <td>25700</td>\n",
       "      <td>3</td>\n",
       "      <td>대구경북</td>\n",
       "      <td>4.409933</td>\n",
       "    </tr>\n",
       "    <tr>\n",
       "      <th>46427</th>\n",
       "      <td>21057928</td>\n",
       "      <td>202001</td>\n",
       "      <td>카페</td>\n",
       "      <td>50s</td>\n",
       "      <td>1</td>\n",
       "      <td>4</td>\n",
       "      <td>3</td>\n",
       "      <td>31800</td>\n",
       "      <td>4</td>\n",
       "      <td>대구경북</td>\n",
       "      <td>4.502427</td>\n",
       "    </tr>\n",
       "    <tr>\n",
       "      <th>46428</th>\n",
       "      <td>21057929</td>\n",
       "      <td>202001</td>\n",
       "      <td>카페</td>\n",
       "      <td>50s</td>\n",
       "      <td>2</td>\n",
       "      <td>4</td>\n",
       "      <td>3</td>\n",
       "      <td>50600</td>\n",
       "      <td>3</td>\n",
       "      <td>대구경북</td>\n",
       "      <td>4.704151</td>\n",
       "    </tr>\n",
       "    <tr>\n",
       "      <th>46429</th>\n",
       "      <td>21057930</td>\n",
       "      <td>202001</td>\n",
       "      <td>카페</td>\n",
       "      <td>20s</td>\n",
       "      <td>1</td>\n",
       "      <td>1</td>\n",
       "      <td>4</td>\n",
       "      <td>27100</td>\n",
       "      <td>4</td>\n",
       "      <td>대구경북</td>\n",
       "      <td>4.432969</td>\n",
       "    </tr>\n",
       "  </tbody>\n",
       "</table>\n",
       "</div>"
      ],
      "text/plain": [
       "       Unnamed: 0      년월 업종명  연령대  성별  생애주기  고객수     금액  건수 사용지_시도  Log10_금액\n",
       "46425    21057926  202001  카페  30s   1     2    3  33600   3   대구경북  4.526339\n",
       "46426    21057927  202001  카페  20s   2     1    3  25700   3   대구경북  4.409933\n",
       "46427    21057928  202001  카페  50s   1     4    3  31800   4   대구경북  4.502427\n",
       "46428    21057929  202001  카페  50s   2     4    3  50600   3   대구경북  4.704151\n",
       "46429    21057930  202001  카페  20s   1     1    4  27100   4   대구경북  4.432969"
      ]
     },
     "execution_count": 11,
     "metadata": {},
     "output_type": "execute_result"
    }
   ],
   "source": [
    "df_a = df_dj[(df_dj['년월']==202001)|(df_dj['년월']==202002)]\n",
    "df_a.head()"
   ]
  },
  {
   "cell_type": "code",
   "execution_count": 12,
   "metadata": {},
   "outputs": [
    {
     "data": {
      "image/png": "[encoded data removed]",
      "text/plain": [
       "<Figure size 432x288 with 1 Axes>"
      ]
     },
     "metadata": {
      "needs_background": "light"
     },
     "output_type": "display_data"
    }
   ],
   "source": [
    "sns.boxplot(x = \"년월\", y = \"Log10_금액\",  hue = \"사용지_시도\", palette = \"Set3\", data = df_a)\n",
    "\n",
    "plt.show()"
   ]
  },
  {
   "cell_type": "code",
   "execution_count": null,
   "metadata": {},
   "outputs": [],
   "source": []
  },
  {
   "cell_type": "markdown",
   "metadata": {},
   "source": [
    "# 2020 02 - 03 비교"
   ]
  },
  {
   "cell_type": "code",
   "execution_count": 13,
   "metadata": {},
   "outputs": [],
   "source": [
    "df_b = df_dj[(df_dj['년월']==202002)|(df_dj['년월']==202003)]"
   ]
  },
  {
   "cell_type": "code",
   "execution_count": 14,
   "metadata": {},
   "outputs": [
    {
     "data": {
      "image/png": "[encoded data removed]",
      "text/plain": [
       "<Figure size 432x288 with 1 Axes>"
      ]
     },
     "metadata": {
      "needs_background": "light"
     },
     "output_type": "display_data"
    }
   ],
   "source": [
    "sns.boxplot(x = \"년월\", y = \"Log10_금액\",  hue = \"사용지_시도\", palette = \"Set3\", data = df_b)\n",
    "\n",
    "plt.show()"
   ]
  },
  {
   "cell_type": "code",
   "execution_count": null,
   "metadata": {},
   "outputs": [],
   "source": []
  },
  {
   "cell_type": "markdown",
   "metadata": {},
   "source": [
    "# 2019년 02 - 03 비교"
   ]
  },
  {
   "cell_type": "code",
   "execution_count": 15,
   "metadata": {},
   "outputs": [],
   "source": [
    "df_c = df_dj[(df_dj['년월']==201902)|(df_dj['년월']==201903)]"
   ]
  },
  {
   "cell_type": "code",
   "execution_count": 16,
   "metadata": {},
   "outputs": [
    {
     "data": {
      "image/png": "[encoded data removed]",
      "text/plain": [
       "<Figure size 432x288 with 1 Axes>"
      ]
     },
     "metadata": {
      "needs_background": "light"
     },
     "output_type": "display_data"
    }
   ],
   "source": [
    "sns.boxplot(x = \"년월\", y = \"Log10_금액\",  hue = \"사용지_시도\", palette = \"Set3\", data = df_c)\n",
    "\n",
    "plt.show()"
   ]
  },
  {
   "cell_type": "code",
   "execution_count": null,
   "metadata": {},
   "outputs": [],
   "source": []
  },
  {
   "cell_type": "code",
   "execution_count": null,
   "metadata": {},
   "outputs": [],
   "source": []
  },
  {
   "cell_type": "code",
   "execution_count": null,
   "metadata": {},
   "outputs": [],
   "source": []
  },
  {
   "cell_type": "code",
   "execution_count": null,
   "metadata": {},
   "outputs": [],
   "source": []
  },
  {
   "cell_type": "code",
   "execution_count": null,
   "metadata": {},
   "outputs": [],
   "source": []
  }
 ],
 "metadata": {
  "kernelspec": {
   "display_name": "Python 3",
   "language": "python",
   "name": "python3"
  },
  "language_info": {
   "codemirror_mode": {
    "name": "ipython",
    "version": 3
   },
   "file_extension": ".py",
   "mimetype": "text/x-python",
   "name": "python",
   "nbconvert_exporter": "python",
   "pygments_lexer": "ipython3",
   "version": "3.7.9"
  }
 },
 "nbformat": 4,
 "nbformat_minor": 4
}
