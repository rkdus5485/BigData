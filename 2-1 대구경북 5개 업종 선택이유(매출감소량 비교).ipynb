{
 "cells": [
  {
   "cell_type": "code",
   "execution_count": 57,
   "metadata": {},
   "outputs": [],
   "source": [
    "import pandas as pd\n",
    "import numpy as np\n",
    "import matplotlib.pyplot as plt\n",
    "import seaborn as sns\n",
    "import scipy as sp\n",
    "from scipy import stats\n",
    "from pandas import Series, DataFrame"
   ]
  },
  {
   "cell_type": "code",
   "execution_count": 58,
   "metadata": {},
   "outputs": [],
   "source": [
    "from matplotlib import font_manager, rc\n",
    "font_name = font_manager.FontProperties(fname=\"C:/Windows/Fonts/malgun.ttf\").get_name()\n",
    "rc('font', family=font_name)"
   ]
  },
  {
   "cell_type": "code",
   "execution_count": 59,
   "metadata": {},
   "outputs": [],
   "source": [
    "df = pd.read_csv(\"1,2,3월_2.csv\")"
   ]
  },
  {
   "cell_type": "code",
   "execution_count": 60,
   "metadata": {},
   "outputs": [],
   "source": [
    "df_cafe=df[df['업종명']=='카페']\n",
    "df_food=df[df['업종명']=='일반 음식점업']\n",
    "df_tour=df[df['업종명']=='관광업']\n",
    "df_sport=df[df['업종명']=='스포츠 및 레크레이션 용품 임대업']\n",
    "df_dis=df[df['업종명']=='전시 및 행사 대행업']"
   ]
  },
  {
   "cell_type": "code",
   "execution_count": 61,
   "metadata": {},
   "outputs": [],
   "source": [
    "# 스포츠"
   ]
  },
  {
   "cell_type": "code",
   "execution_count": 62,
   "metadata": {},
   "outputs": [],
   "source": [
    "df_sport_1901=df_sport[(df_sport['년월']==201901)]\n",
    "df_sport_1901\n",
    "df_sport_1901_금액=df_sport_1901['금액']\n",
    "df_sport_sum_1901=sum(df_sport_1901_금액)\n",
    "df_sport_1902=df_sport[(df_sport['년월']==201902)]\n",
    "df_sport_1902\n",
    "df_sport_1902_금액=df_sport_1902['금액']\n",
    "df_sport_sum_1902=sum(df_sport_1902_금액)\n",
    "df_sport_1903=df_sport[(df_sport['년월']==201903)]\n",
    "df_sport_1903\n",
    "df_sport_1903_금액=df_sport_1903['금액']\n",
    "df_sport_sum_1903=sum(df_sport_1903_금액)\n",
    "df_sport_2001=df_sport[(df_sport['년월']==202001)]\n",
    "df_sport_2001\n",
    "df_sport_2001_금액=df_sport_2001['금액']\n",
    "df_sport_sum_2001=sum(df_sport_2001_금액)\n",
    "df_sport_2002=df_sport[(df_sport['년월']==202002)]\n",
    "df_sport_2002\n",
    "df_sport_2002_금액=df_sport_2002['금액']\n",
    "df_sport_sum_2002=sum(df_sport_2002_금액)\n",
    "df_sport_2003=df_sport[(df_sport['년월']==202003)]\n",
    "df_sport_2003\n",
    "df_sport_2003_금액=df_sport_2003['금액']\n",
    "df_sport_sum_2003=sum(df_sport_2003_금액) #대구/경북 스포츠업 월뵬 금액으로 데이터 나누기"
   ]
  },
  {
   "cell_type": "code",
   "execution_count": 63,
   "metadata": {},
   "outputs": [
    {
     "data": {
      "text/plain": [
       "4882155491"
      ]
     },
     "execution_count": 63,
     "metadata": {},
     "output_type": "execute_result"
    }
   ],
   "source": [
    "df_sport_sum_2002"
   ]
  },
  {
   "cell_type": "code",
   "execution_count": 64,
   "metadata": {},
   "outputs": [
    {
     "data": {
      "text/plain": [
       "4790921262"
      ]
     },
     "execution_count": 64,
     "metadata": {},
     "output_type": "execute_result"
    }
   ],
   "source": [
    "df_sport_sum_2003"
   ]
  },
  {
   "cell_type": "code",
   "execution_count": 65,
   "metadata": {},
   "outputs": [
    {
     "name": "stdout",
     "output_type": "stream",
     "text": [
      "스포츠 2019 01, 2020 01 매출감소율 : 12.51555873694781 %\n"
     ]
    }
   ],
   "source": [
    "print('스포츠 2019 01, 2020 01 매출감소율 :',100-((df_sport_sum_2001/df_sport_sum_1901)*100),'%')"
   ]
  },
  {
   "cell_type": "code",
   "execution_count": 66,
   "metadata": {},
   "outputs": [
    {
     "name": "stdout",
     "output_type": "stream",
     "text": [
      "스포츠 2019 02, 2020 02 매출감소율 : 38.95253969228937 %\n"
     ]
    }
   ],
   "source": [
    "print('스포츠 2019 02, 2020 02 매출감소율 :',100-((df_sport_sum_2002/df_sport_sum_1902)*100),'%')"
   ]
  },
  {
   "cell_type": "code",
   "execution_count": 67,
   "metadata": {},
   "outputs": [
    {
     "name": "stdout",
     "output_type": "stream",
     "text": [
      "스포츠 2019 03, 2020 03 매출감소율 : 54.931692544919485 %\n"
     ]
    }
   ],
   "source": [
    "print('스포츠 2019 03, 2020 03 매출감소율 :',100-((df_sport_sum_2003/df_sport_sum_1903)*100),'%')"
   ]
  },
  {
   "cell_type": "code",
   "execution_count": 68,
   "metadata": {},
   "outputs": [],
   "source": [
    "# 카페"
   ]
  },
  {
   "cell_type": "code",
   "execution_count": 69,
   "metadata": {},
   "outputs": [],
   "source": [
    "df_cafe_1901=df_cafe[(df_cafe['년월']==201901)]\n",
    "df_cafe_1901\n",
    "df_cafe_1901_금액=df_cafe_1901['금액']\n",
    "df_cafe_sum_1901=sum(df_cafe_1901_금액)\n",
    "df_cafe_1902=df_cafe[(df_cafe['년월']==201902)]\n",
    "df_cafe_1902\n",
    "df_cafe_1902_금액=df_cafe_1902['금액']\n",
    "df_cafe_sum_1902=sum(df_cafe_1902_금액)\n",
    "df_cafe_1903=df_cafe[(df_cafe['년월']==201903)]\n",
    "df_cafe_1903\n",
    "df_cafe_1903_금액=df_cafe_1903['금액']\n",
    "df_cafe_sum_1903=sum(df_cafe_1903_금액)\n",
    "df_cafe_2001=df_cafe[(df_cafe['년월']==202001)]\n",
    "df_cafe_2001\n",
    "df_cafe_2001_금액=df_cafe_2001['금액']\n",
    "df_cafe_sum_2001=sum(df_cafe_2001_금액)\n",
    "df_cafe_2002=df_cafe[(df_cafe['년월']==202002)]\n",
    "df_cafe_2002\n",
    "df_cafe_2002_금액=df_cafe_2002['금액']\n",
    "df_cafe_sum_2002=sum(df_cafe_2002_금액)\n",
    "df_cafe_2003=df_cafe[(df_cafe['년월']==202003)]\n",
    "df_cafe_2003\n",
    "df_cafe_2003_금액=df_cafe_2003['금액']\n",
    "df_cafe_sum_2003=sum(df_cafe_2003_금액) #대구/경북 카페 월별 금액으로 데이터 나누기"
   ]
  },
  {
   "cell_type": "code",
   "execution_count": 70,
   "metadata": {},
   "outputs": [
    {
     "name": "stdout",
     "output_type": "stream",
     "text": [
      "카페 201901 202001 매출감소율 : -11.627405403377367 %\n"
     ]
    }
   ],
   "source": [
    "print('카페 201901 202001 매출감소율 :',100-((df_cafe_sum_2001/df_cafe_sum_1901)*100),'%')"
   ]
  },
  {
   "cell_type": "code",
   "execution_count": 71,
   "metadata": {},
   "outputs": [
    {
     "name": "stdout",
     "output_type": "stream",
     "text": [
      "카페 201902 202002 매출감소율 : 15.811518236026942 %\n"
     ]
    }
   ],
   "source": [
    "print('카페 201902 202002 매출감소율 :',100-((df_cafe_sum_2002/df_cafe_sum_1902)*100),'%')"
   ]
  },
  {
   "cell_type": "code",
   "execution_count": 72,
   "metadata": {},
   "outputs": [
    {
     "name": "stdout",
     "output_type": "stream",
     "text": [
      "카페 201903 202003 매출감소율 : 41.49726241065166 %\n"
     ]
    }
   ],
   "source": [
    "print('카페 201903 202003 매출감소율 :',100-((df_cafe_sum_2003/df_cafe_sum_1903)*100),'%')"
   ]
  },
  {
   "cell_type": "code",
   "execution_count": 73,
   "metadata": {},
   "outputs": [],
   "source": [
    "#일반 음식점"
   ]
  },
  {
   "cell_type": "code",
   "execution_count": 74,
   "metadata": {},
   "outputs": [],
   "source": [
    "df_food_1901=df_food[(df_food['년월']==201901)]\n",
    "df_food_1901\n",
    "df_food_1901_금액=df_food_1901['금액']\n",
    "df_food_sum_1901=sum(df_food_1901_금액)\n",
    "df_food_1902=df_food[(df_food['년월']==201902)]\n",
    "df_food_1902\n",
    "df_food_1902_금액=df_food_1902['금액']\n",
    "df_food_sum_1902=sum(df_food_1902_금액)\n",
    "df_food_1903=df_food[(df_food['년월']==201903)]\n",
    "df_food_1903\n",
    "df_food_1903_금액=df_food_1903['금액']\n",
    "df_food_sum_1903=sum(df_food_1903_금액)\n",
    "df_food_2001=df_food[(df_food['년월']==202001)]\n",
    "df_food_2001\n",
    "df_food_2001_금액=df_food_2001['금액']\n",
    "df_food_sum_2001=sum(df_food_2001_금액)\n",
    "df_food_2002=df_food[(df_food['년월']==202002)]\n",
    "df_food_2002\n",
    "df_food_2002_금액=df_food_2002['금액']\n",
    "df_food_sum_2002=sum(df_food_2002_금액)\n",
    "df_food_2003=df_food[(df_food['년월']==202003)]\n",
    "df_food_2003\n",
    "df_food_2003_금액=df_food_2003['금액']\n",
    "df_food_sum_2003=sum(df_food_2003_금액) #대구/경북 일반음식점업 월뵬 금액으로 데이터 나누기"
   ]
  },
  {
   "cell_type": "code",
   "execution_count": 75,
   "metadata": {},
   "outputs": [
    {
     "name": "stdout",
     "output_type": "stream",
     "text": [
      "일반음식점업 2019 01 2020 01 매출감소율 : 3.042907442732414 %\n"
     ]
    }
   ],
   "source": [
    "print('일반음식점업 2019 01 2020 01 매출감소율 :',100-((df_food_sum_2001/df_food_sum_1901)*100),'%')"
   ]
  },
  {
   "cell_type": "code",
   "execution_count": 76,
   "metadata": {},
   "outputs": [
    {
     "name": "stdout",
     "output_type": "stream",
     "text": [
      "일반음식점업 2019 02 2020 02 매출감소율 : 23.738525703727746 %\n"
     ]
    }
   ],
   "source": [
    "print('일반음식점업 2019 02 2020 02 매출감소율 :',100-((df_food_sum_2002/df_food_sum_1902)*100),'%')"
   ]
  },
  {
   "cell_type": "code",
   "execution_count": 77,
   "metadata": {},
   "outputs": [
    {
     "name": "stdout",
     "output_type": "stream",
     "text": [
      "일반음식점업 2019 03 2020 03 매출감소율 : 54.506719165856616 %\n"
     ]
    }
   ],
   "source": [
    "print('일반음식점업 2019 03 2020 03 매출감소율 :',100-((df_food_sum_2003/df_food_sum_1903)*100),'%')"
   ]
  },
  {
   "cell_type": "code",
   "execution_count": 78,
   "metadata": {},
   "outputs": [],
   "source": [
    "# 관광업"
   ]
  },
  {
   "cell_type": "code",
   "execution_count": 79,
   "metadata": {},
   "outputs": [],
   "source": [
    "df_tour_1901=df_tour[(df_tour['년월']==201901)]\n",
    "df_tour_1901\n",
    "df_tour_1901_금액=df_tour_1901['금액']\n",
    "df_tour_sum_1901=sum(df_tour_1901_금액)\n",
    "df_tour_1902=df_tour[(df_tour['년월']==201902)]\n",
    "df_tour_1902\n",
    "df_tour_1902_금액=df_tour_1902['금액']\n",
    "df_tour_sum_1902=sum(df_tour_1902_금액)\n",
    "df_tour_1903=df_tour[(df_tour['년월']==201903)]\n",
    "df_tour_1903\n",
    "df_tour_1903_금액=df_tour_1903['금액']\n",
    "df_tour_sum_1903=sum(df_tour_1903_금액)\n",
    "df_tour_2001=df_tour[(df_tour['년월']==202001)]\n",
    "df_tour_2001\n",
    "df_tour_2001_금액=df_tour_2001['금액']\n",
    "df_tour_sum_2001=sum(df_tour_2001_금액)\n",
    "df_tour_2002=df_tour[(df_tour['년월']==202002)]\n",
    "df_tour_2002\n",
    "df_tour_2002_금액=df_tour_2002['금액']\n",
    "df_tour_sum_2002=sum(df_tour_2002_금액)\n",
    "df_tour_2003=df_tour[(df_tour['년월']==202003)]\n",
    "df_tour_2003\n",
    "df_tour_2003_금액=df_tour_2003['금액']\n",
    "df_tour_sum_2003=sum(df_tour_2003_금액) #대구/경북 관광업 월뵬 금액으로 데이터 나누기"
   ]
  },
  {
   "cell_type": "code",
   "execution_count": 80,
   "metadata": {},
   "outputs": [
    {
     "name": "stdout",
     "output_type": "stream",
     "text": [
      "관광업 2019 01 2020 01 매출감소율 : 1.2365224322941373 %\n"
     ]
    }
   ],
   "source": [
    "print('관광업 2019 01 2020 01 매출감소율 :',100-((df_tour_sum_2001/df_tour_sum_1901)*100),'%')"
   ]
  },
  {
   "cell_type": "code",
   "execution_count": 81,
   "metadata": {},
   "outputs": [
    {
     "name": "stdout",
     "output_type": "stream",
     "text": [
      "관광업 2019 02 2020 02 매출감소율 : 41.91806452687648 %\n"
     ]
    }
   ],
   "source": [
    "print('관광업 2019 02 2020 02 매출감소율 :',100-((df_tour_sum_2002/df_tour_sum_1902)*100),'%')"
   ]
  },
  {
   "cell_type": "code",
   "execution_count": 82,
   "metadata": {},
   "outputs": [
    {
     "name": "stdout",
     "output_type": "stream",
     "text": [
      "관광업 2019 03 2020 03 매출감소율 : 93.84049417550582 %\n"
     ]
    }
   ],
   "source": [
    "print('관광업 2019 03 2020 03 매출감소율 :',100-((df_tour_sum_2003/df_tour_sum_1903)*100),'%')"
   ]
  },
  {
   "cell_type": "code",
   "execution_count": 83,
   "metadata": {},
   "outputs": [],
   "source": [
    "# 전시 및 행사 대행업"
   ]
  },
  {
   "cell_type": "code",
   "execution_count": 84,
   "metadata": {},
   "outputs": [],
   "source": [
    "df_dis_1901=df_dis[(df_dis['년월']==201901)]\n",
    "df_dis_1901\n",
    "df_dis_1901_금액=df_dis_1901['금액']\n",
    "df_dis_sum_1901=sum(df_dis_1901_금액)\n",
    "df_dis_1902=df_dis[(df_dis['년월']==201902)]\n",
    "df_dis_1902\n",
    "df_dis_1902_금액=df_dis_1902['금액']\n",
    "df_dis_sum_1902=sum(df_dis_1902_금액)\n",
    "df_dis_1903=df_dis[(df_dis['년월']==201903)]\n",
    "df_dis_1903\n",
    "df_dis_1903_금액=df_dis_1903['금액']\n",
    "df_dis_sum_1903=sum(df_dis_1903_금액)\n",
    "df_dis_2001=df_dis[(df_dis['년월']==202001)]\n",
    "df_dis_2001\n",
    "df_dis_2001_금액=df_dis_2001['금액']\n",
    "df_dis_sum_2001=sum(df_dis_2001_금액)\n",
    "df_dis_2002=df_dis[(df_dis['년월']==202002)]\n",
    "df_dis_2002\n",
    "df_dis_2002_금액=df_dis_2002['금액']\n",
    "df_dis_sum_2002=sum(df_dis_2002_금액)\n",
    "df_dis_2003=df_dis[(df_dis['년월']==202003)]\n",
    "df_dis_2003\n",
    "df_dis_2003_금액=df_dis_2003['금액']\n",
    "df_dis_sum_2003=sum(df_dis_2003_금액)"
   ]
  },
  {
   "cell_type": "code",
   "execution_count": 85,
   "metadata": {},
   "outputs": [
    {
     "name": "stdout",
     "output_type": "stream",
     "text": [
      "전시 및 행사업 2019 01 2020 01 매출감소율 : 3.04934009986421 %\n"
     ]
    }
   ],
   "source": [
    "print('전시 및 행사업 2019 01 2020 01 매출감소율 :',100-((df_dis_sum_2001/df_dis_sum_1901)*100),'%')"
   ]
  },
  {
   "cell_type": "code",
   "execution_count": 86,
   "metadata": {},
   "outputs": [
    {
     "name": "stdout",
     "output_type": "stream",
     "text": [
      "전시 및 행사업 2019 02 2020 02 매출감소율 : 46.5628358640114 %\n"
     ]
    }
   ],
   "source": [
    "print('전시 및 행사업 2019 02 2020 02 매출감소율 :',100-((df_dis_sum_2002/df_dis_sum_1902)*100),'%')"
   ]
  },
  {
   "cell_type": "code",
   "execution_count": 87,
   "metadata": {},
   "outputs": [
    {
     "name": "stdout",
     "output_type": "stream",
     "text": [
      "전시 및 행사업 2019 03 2020 03 매출감소율 : 89.90719100748667 %\n"
     ]
    }
   ],
   "source": [
    "print('전시 및 행사업 2019 03 2020 03 매출감소율 :',100-((df_dis_sum_2003/df_dis_sum_1903)*100),'%')"
   ]
  },
  {
   "cell_type": "code",
   "execution_count": 88,
   "metadata": {},
   "outputs": [],
   "source": [
    "cafe_1920_01 = 100-((df_cafe_sum_2001/df_cafe_sum_1901)*100)\n",
    "cafe_1920_02 = 100-((df_cafe_sum_2002/df_cafe_sum_1902)*100)\n",
    "cafe_1920_03 = 100-((df_cafe_sum_2003/df_cafe_sum_1903)*100)\n",
    "\n",
    "sports_1920_01 = 100-((df_sport_sum_2001/df_sport_sum_1901)*100)\n",
    "sports_1920_02 = 100-((df_sport_sum_2002/df_sport_sum_1902)*100)\n",
    "sports_1920_03 = 100-((df_sport_sum_2003/df_sport_sum_1903)*100)\n",
    "\n",
    "food_1920_01 = 100-((df_food_sum_2001/df_food_sum_1901)*100)\n",
    "food_1920_02 = 100-((df_food_sum_2002/df_food_sum_1902)*100)\n",
    "food_1920_03 = 100-((df_food_sum_2003/df_food_sum_1903)*100)\n",
    "\n",
    "tour_1920_01 = 100-((df_tour_sum_2001/df_tour_sum_1901)*100)\n",
    "tour_1920_02 = 100-((df_tour_sum_2002/df_tour_sum_1902)*100)\n",
    "tour_1920_03 = 100-((df_tour_sum_2003/df_tour_sum_1903)*100)\n",
    "\n",
    "dis_1920_01 = 100-((df_dis_sum_2001/df_dis_sum_1901)*100)\n",
    "dis_1920_02 = 100-((df_dis_sum_2002/df_dis_sum_1902)*100)\n",
    "dis_1920_03 = 100-((df_dis_sum_2003/df_dis_sum_1903)*100)"
   ]
  },
  {
   "cell_type": "code",
   "execution_count": 89,
   "metadata": {
    "scrolled": true
   },
   "outputs": [
    {
     "data": {
      "text/html": [
       "<div>\n",
       "<style scoped>\n",
       "    .dataframe tbody tr th:only-of-type {\n",
       "        vertical-align: middle;\n",
       "    }\n",
       "\n",
       "    .dataframe tbody tr th {\n",
       "        vertical-align: top;\n",
       "    }\n",
       "\n",
       "    .dataframe thead th {\n",
       "        text-align: right;\n",
       "    }\n",
       "</style>\n",
       "<table border=\"1\" class=\"dataframe\">\n",
       "  <thead>\n",
       "    <tr style=\"text-align: right;\">\n",
       "      <th></th>\n",
       "      <th>DATE</th>\n",
       "      <th>SECTOR</th>\n",
       "      <th>DEC_AMT</th>\n",
       "    </tr>\n",
       "  </thead>\n",
       "  <tbody>\n",
       "    <tr>\n",
       "      <th>0</th>\n",
       "      <td>01. 2019-2020</td>\n",
       "      <td>display</td>\n",
       "      <td>3.049340</td>\n",
       "    </tr>\n",
       "    <tr>\n",
       "      <th>1</th>\n",
       "      <td>02. 2019-2020</td>\n",
       "      <td>display</td>\n",
       "      <td>46.562836</td>\n",
       "    </tr>\n",
       "    <tr>\n",
       "      <th>2</th>\n",
       "      <td>03. 2019-2020</td>\n",
       "      <td>display</td>\n",
       "      <td>89.907191</td>\n",
       "    </tr>\n",
       "    <tr>\n",
       "      <th>3</th>\n",
       "      <td>01. 2019-2020</td>\n",
       "      <td>tour</td>\n",
       "      <td>1.236522</td>\n",
       "    </tr>\n",
       "    <tr>\n",
       "      <th>4</th>\n",
       "      <td>02. 2019-2020</td>\n",
       "      <td>tour</td>\n",
       "      <td>41.918065</td>\n",
       "    </tr>\n",
       "    <tr>\n",
       "      <th>5</th>\n",
       "      <td>03. 2019-2020</td>\n",
       "      <td>tour</td>\n",
       "      <td>93.840494</td>\n",
       "    </tr>\n",
       "    <tr>\n",
       "      <th>6</th>\n",
       "      <td>01. 2019-2020</td>\n",
       "      <td>cafe</td>\n",
       "      <td>-11.627405</td>\n",
       "    </tr>\n",
       "    <tr>\n",
       "      <th>7</th>\n",
       "      <td>02. 2019-2020</td>\n",
       "      <td>cafe</td>\n",
       "      <td>15.811518</td>\n",
       "    </tr>\n",
       "    <tr>\n",
       "      <th>8</th>\n",
       "      <td>03. 2019-2020</td>\n",
       "      <td>cafe</td>\n",
       "      <td>41.497262</td>\n",
       "    </tr>\n",
       "    <tr>\n",
       "      <th>9</th>\n",
       "      <td>01. 2019-2020</td>\n",
       "      <td>food</td>\n",
       "      <td>3.042907</td>\n",
       "    </tr>\n",
       "    <tr>\n",
       "      <th>10</th>\n",
       "      <td>02. 2019-2020</td>\n",
       "      <td>food</td>\n",
       "      <td>23.738526</td>\n",
       "    </tr>\n",
       "    <tr>\n",
       "      <th>11</th>\n",
       "      <td>03. 2019-2020</td>\n",
       "      <td>food</td>\n",
       "      <td>54.506719</td>\n",
       "    </tr>\n",
       "    <tr>\n",
       "      <th>12</th>\n",
       "      <td>01. 2019-2020</td>\n",
       "      <td>sports</td>\n",
       "      <td>12.515559</td>\n",
       "    </tr>\n",
       "    <tr>\n",
       "      <th>13</th>\n",
       "      <td>02. 2019-2020</td>\n",
       "      <td>sports</td>\n",
       "      <td>38.952540</td>\n",
       "    </tr>\n",
       "    <tr>\n",
       "      <th>14</th>\n",
       "      <td>03. 2019-2020</td>\n",
       "      <td>sports</td>\n",
       "      <td>54.931693</td>\n",
       "    </tr>\n",
       "  </tbody>\n",
       "</table>\n",
       "</div>"
      ],
      "text/plain": [
       "             DATE   SECTOR    DEC_AMT\n",
       "0   01. 2019-2020  display   3.049340\n",
       "1   02. 2019-2020  display  46.562836\n",
       "2   03. 2019-2020  display  89.907191\n",
       "3   01. 2019-2020     tour   1.236522\n",
       "4   02. 2019-2020     tour  41.918065\n",
       "5   03. 2019-2020     tour  93.840494\n",
       "6   01. 2019-2020     cafe -11.627405\n",
       "7   02. 2019-2020     cafe  15.811518\n",
       "8   03. 2019-2020     cafe  41.497262\n",
       "9   01. 2019-2020     food   3.042907\n",
       "10  02. 2019-2020     food  23.738526\n",
       "11  03. 2019-2020     food  54.506719\n",
       "12  01. 2019-2020   sports  12.515559\n",
       "13  02. 2019-2020   sports  38.952540\n",
       "14  03. 2019-2020   sports  54.931693"
      ]
     },
     "execution_count": 89,
     "metadata": {},
     "output_type": "execute_result"
    }
   ],
   "source": [
    "data = {'DATE' : ['01. 2019-2020','02. 2019-2020','03. 2019-2020','01. 2019-2020','02. 2019-2020','03. 2019-2020','01. 2019-2020','02. 2019-2020','03. 2019-2020','01. 2019-2020','02. 2019-2020','03. 2019-2020','01. 2019-2020','02. 2019-2020','03. 2019-2020'],\n",
    "        'SECTOR' : ['display','display','display','tour','tour','tour','cafe','cafe','cafe','food','food','food','sports','sports','sports'],\n",
    "       'DEC_AMT' : [dis_1920_01,dis_1920_02,dis_1920_03,tour_1920_01,tour_1920_02,tour_1920_03,cafe_1920_01,cafe_1920_02,cafe_1920_03,food_1920_01,food_1920_02,food_1920_03,sports_1920_01,sports_1920_02,sports_1920_03]}\n",
    "frame = DataFrame(data)\n",
    "frame"
   ]
  },
  {
   "cell_type": "code",
   "execution_count": 90,
   "metadata": {},
   "outputs": [
    {
     "data": {
      "text/html": [
       "<div>\n",
       "<style scoped>\n",
       "    .dataframe tbody tr th:only-of-type {\n",
       "        vertical-align: middle;\n",
       "    }\n",
       "\n",
       "    .dataframe tbody tr th {\n",
       "        vertical-align: top;\n",
       "    }\n",
       "\n",
       "    .dataframe thead th {\n",
       "        text-align: right;\n",
       "    }\n",
       "</style>\n",
       "<table border=\"1\" class=\"dataframe\">\n",
       "  <thead>\n",
       "    <tr style=\"text-align: right;\">\n",
       "      <th></th>\n",
       "      <th>DATE</th>\n",
       "      <th>SECTOR</th>\n",
       "      <th>DEC_AMT</th>\n",
       "    </tr>\n",
       "  </thead>\n",
       "  <tbody>\n",
       "    <tr>\n",
       "      <th>1</th>\n",
       "      <td>02. 2019-2020</td>\n",
       "      <td>display</td>\n",
       "      <td>46.562836</td>\n",
       "    </tr>\n",
       "    <tr>\n",
       "      <th>2</th>\n",
       "      <td>03. 2019-2020</td>\n",
       "      <td>display</td>\n",
       "      <td>89.907191</td>\n",
       "    </tr>\n",
       "    <tr>\n",
       "      <th>4</th>\n",
       "      <td>02. 2019-2020</td>\n",
       "      <td>tour</td>\n",
       "      <td>41.918065</td>\n",
       "    </tr>\n",
       "    <tr>\n",
       "      <th>5</th>\n",
       "      <td>03. 2019-2020</td>\n",
       "      <td>tour</td>\n",
       "      <td>93.840494</td>\n",
       "    </tr>\n",
       "    <tr>\n",
       "      <th>7</th>\n",
       "      <td>02. 2019-2020</td>\n",
       "      <td>cafe</td>\n",
       "      <td>15.811518</td>\n",
       "    </tr>\n",
       "    <tr>\n",
       "      <th>8</th>\n",
       "      <td>03. 2019-2020</td>\n",
       "      <td>cafe</td>\n",
       "      <td>41.497262</td>\n",
       "    </tr>\n",
       "    <tr>\n",
       "      <th>10</th>\n",
       "      <td>02. 2019-2020</td>\n",
       "      <td>food</td>\n",
       "      <td>23.738526</td>\n",
       "    </tr>\n",
       "    <tr>\n",
       "      <th>11</th>\n",
       "      <td>03. 2019-2020</td>\n",
       "      <td>food</td>\n",
       "      <td>54.506719</td>\n",
       "    </tr>\n",
       "    <tr>\n",
       "      <th>13</th>\n",
       "      <td>02. 2019-2020</td>\n",
       "      <td>sports</td>\n",
       "      <td>38.952540</td>\n",
       "    </tr>\n",
       "    <tr>\n",
       "      <th>14</th>\n",
       "      <td>03. 2019-2020</td>\n",
       "      <td>sports</td>\n",
       "      <td>54.931693</td>\n",
       "    </tr>\n",
       "  </tbody>\n",
       "</table>\n",
       "</div>"
      ],
      "text/plain": [
       "             DATE   SECTOR    DEC_AMT\n",
       "1   02. 2019-2020  display  46.562836\n",
       "2   03. 2019-2020  display  89.907191\n",
       "4   02. 2019-2020     tour  41.918065\n",
       "5   03. 2019-2020     tour  93.840494\n",
       "7   02. 2019-2020     cafe  15.811518\n",
       "8   03. 2019-2020     cafe  41.497262\n",
       "10  02. 2019-2020     food  23.738526\n",
       "11  03. 2019-2020     food  54.506719\n",
       "13  02. 2019-2020   sports  38.952540\n",
       "14  03. 2019-2020   sports  54.931693"
      ]
     },
     "execution_count": 90,
     "metadata": {},
     "output_type": "execute_result"
    }
   ],
   "source": [
    "frame_23=frame[(frame['DATE']=='02. 2019-2020')|(frame['DATE']=='03. 2019-2020')]\n",
    "frame_23"
   ]
  },
  {
   "cell_type": "code",
   "execution_count": 91,
   "metadata": {
    "scrolled": true
   },
   "outputs": [
    {
     "data": {
      "text/html": [
       "<div>\n",
       "<style scoped>\n",
       "    .dataframe tbody tr th:only-of-type {\n",
       "        vertical-align: middle;\n",
       "    }\n",
       "\n",
       "    .dataframe tbody tr th {\n",
       "        vertical-align: top;\n",
       "    }\n",
       "\n",
       "    .dataframe thead th {\n",
       "        text-align: right;\n",
       "    }\n",
       "</style>\n",
       "<table border=\"1\" class=\"dataframe\">\n",
       "  <thead>\n",
       "    <tr style=\"text-align: right;\">\n",
       "      <th></th>\n",
       "      <th>DEC_AMT</th>\n",
       "    </tr>\n",
       "  </thead>\n",
       "  <tbody>\n",
       "    <tr>\n",
       "      <th>count</th>\n",
       "      <td>10.000000</td>\n",
       "    </tr>\n",
       "    <tr>\n",
       "      <th>mean</th>\n",
       "      <td>50.166684</td>\n",
       "    </tr>\n",
       "    <tr>\n",
       "      <th>std</th>\n",
       "      <td>25.141641</td>\n",
       "    </tr>\n",
       "    <tr>\n",
       "      <th>min</th>\n",
       "      <td>15.811518</td>\n",
       "    </tr>\n",
       "    <tr>\n",
       "      <th>25%</th>\n",
       "      <td>39.588720</td>\n",
       "    </tr>\n",
       "    <tr>\n",
       "      <th>50%</th>\n",
       "      <td>44.240450</td>\n",
       "    </tr>\n",
       "    <tr>\n",
       "      <th>75%</th>\n",
       "      <td>54.825449</td>\n",
       "    </tr>\n",
       "    <tr>\n",
       "      <th>max</th>\n",
       "      <td>93.840494</td>\n",
       "    </tr>\n",
       "  </tbody>\n",
       "</table>\n",
       "</div>"
      ],
      "text/plain": [
       "         DEC_AMT\n",
       "count  10.000000\n",
       "mean   50.166684\n",
       "std    25.141641\n",
       "min    15.811518\n",
       "25%    39.588720\n",
       "50%    44.240450\n",
       "75%    54.825449\n",
       "max    93.840494"
      ]
     },
     "execution_count": 91,
     "metadata": {},
     "output_type": "execute_result"
    }
   ],
   "source": [
    "frame_23.describe()"
   ]
  },
  {
   "cell_type": "markdown",
   "metadata": {},
   "source": [
    "# 2019, 2020년 2,3월 매출 감소량\n",
    "\n",
    "- 평균 50% 매출 감소량을 보임\n",
    "- 모두 15% 이상 매출이 감소했음"
   ]
  },
  {
   "cell_type": "code",
   "execution_count": null,
   "metadata": {},
   "outputs": [],
   "source": []
  },
  {
   "cell_type": "code",
   "execution_count": 92,
   "metadata": {},
   "outputs": [
    {
     "data": {
      "image/png": "[encoded data removed]",
      "text/plain": [
       "<Figure size 432x288 with 1 Axes>"
      ]
     },
     "metadata": {
      "needs_background": "light"
     },
     "output_type": "display_data"
    }
   ],
   "source": [
    "sns.barplot(x='DATE', y='DEC_AMT', hue='SECTOR', data=frame) \n",
    "\n",
    "plt.title('업종별 1,2,3월 매출 감소량', fontsize=20)\n",
    "\n",
    "plt.legend(fontsize=12)\n",
    "\n",
    "plt.show()"
   ]
  },
  {
   "cell_type": "code",
   "execution_count": 93,
   "metadata": {
    "scrolled": true
   },
   "outputs": [
    {
     "data": {
      "image/png": "[encoded data removed]",
      "text/plain": [
       "<Figure size 432x288 with 1 Axes>"
      ]
     },
     "metadata": {
      "needs_background": "light"
     },
     "output_type": "display_data"
    }
   ],
   "source": [
    "sns.barplot(x='DATE', y='DEC_AMT', hue='SECTOR', data=frame_23) \n",
    "\n",
    "plt.title('업종별 2,3월 매출 감소량', fontsize=20)\n",
    "\n",
    "plt.legend(fontsize=12)\n",
    "\n",
    "plt.show()"
   ]
  },
  {
   "cell_type": "code",
   "execution_count": null,
   "metadata": {},
   "outputs": [],
   "source": []
  },
  {
   "cell_type": "code",
   "execution_count": 94,
   "metadata": {},
   "outputs": [
    {
     "data": {
      "text/html": [
       "<div>\n",
       "<style scoped>\n",
       "    .dataframe tbody tr th:only-of-type {\n",
       "        vertical-align: middle;\n",
       "    }\n",
       "\n",
       "    .dataframe tbody tr th {\n",
       "        vertical-align: top;\n",
       "    }\n",
       "\n",
       "    .dataframe thead th {\n",
       "        text-align: right;\n",
       "    }\n",
       "</style>\n",
       "<table border=\"1\" class=\"dataframe\">\n",
       "  <thead>\n",
       "    <tr style=\"text-align: right;\">\n",
       "      <th></th>\n",
       "      <th>Unnamed: 0</th>\n",
       "      <th>년월</th>\n",
       "      <th>업종명</th>\n",
       "      <th>연령대</th>\n",
       "      <th>성별</th>\n",
       "      <th>생애주기</th>\n",
       "      <th>고객수</th>\n",
       "      <th>금액</th>\n",
       "      <th>건수</th>\n",
       "    </tr>\n",
       "  </thead>\n",
       "  <tbody>\n",
       "    <tr>\n",
       "      <th>355</th>\n",
       "      <td>600007</td>\n",
       "      <td>201901</td>\n",
       "      <td>스포츠 및 레크레이션 용품 임대업</td>\n",
       "      <td>60s</td>\n",
       "      <td>2</td>\n",
       "      <td>5</td>\n",
       "      <td>3</td>\n",
       "      <td>295000</td>\n",
       "      <td>4</td>\n",
       "    </tr>\n",
       "    <tr>\n",
       "      <th>356</th>\n",
       "      <td>600008</td>\n",
       "      <td>201901</td>\n",
       "      <td>스포츠 및 레크레이션 용품 임대업</td>\n",
       "      <td>20s</td>\n",
       "      <td>1</td>\n",
       "      <td>1</td>\n",
       "      <td>14</td>\n",
       "      <td>621000</td>\n",
       "      <td>14</td>\n",
       "    </tr>\n",
       "    <tr>\n",
       "      <th>357</th>\n",
       "      <td>600009</td>\n",
       "      <td>201901</td>\n",
       "      <td>스포츠 및 레크레이션 용품 임대업</td>\n",
       "      <td>20s</td>\n",
       "      <td>2</td>\n",
       "      <td>1</td>\n",
       "      <td>3</td>\n",
       "      <td>70000</td>\n",
       "      <td>3</td>\n",
       "    </tr>\n",
       "    <tr>\n",
       "      <th>358</th>\n",
       "      <td>600010</td>\n",
       "      <td>201901</td>\n",
       "      <td>스포츠 및 레크레이션 용품 임대업</td>\n",
       "      <td>30s</td>\n",
       "      <td>1</td>\n",
       "      <td>2</td>\n",
       "      <td>8</td>\n",
       "      <td>452200</td>\n",
       "      <td>9</td>\n",
       "    </tr>\n",
       "    <tr>\n",
       "      <th>359</th>\n",
       "      <td>600011</td>\n",
       "      <td>201901</td>\n",
       "      <td>스포츠 및 레크레이션 용품 임대업</td>\n",
       "      <td>40s</td>\n",
       "      <td>1</td>\n",
       "      <td>3</td>\n",
       "      <td>13</td>\n",
       "      <td>5608600</td>\n",
       "      <td>16</td>\n",
       "    </tr>\n",
       "    <tr>\n",
       "      <th>...</th>\n",
       "      <td>...</td>\n",
       "      <td>...</td>\n",
       "      <td>...</td>\n",
       "      <td>...</td>\n",
       "      <td>...</td>\n",
       "      <td>...</td>\n",
       "      <td>...</td>\n",
       "      <td>...</td>\n",
       "      <td>...</td>\n",
       "    </tr>\n",
       "    <tr>\n",
       "      <th>224535</th>\n",
       "      <td>23899428</td>\n",
       "      <td>202003</td>\n",
       "      <td>일반 음식점업</td>\n",
       "      <td>20s</td>\n",
       "      <td>1</td>\n",
       "      <td>1</td>\n",
       "      <td>8</td>\n",
       "      <td>904800</td>\n",
       "      <td>16</td>\n",
       "    </tr>\n",
       "    <tr>\n",
       "      <th>224536</th>\n",
       "      <td>23899429</td>\n",
       "      <td>202003</td>\n",
       "      <td>일반 음식점업</td>\n",
       "      <td>30s</td>\n",
       "      <td>1</td>\n",
       "      <td>1</td>\n",
       "      <td>3</td>\n",
       "      <td>331800</td>\n",
       "      <td>4</td>\n",
       "    </tr>\n",
       "    <tr>\n",
       "      <th>224537</th>\n",
       "      <td>23899430</td>\n",
       "      <td>202003</td>\n",
       "      <td>일반 음식점업</td>\n",
       "      <td>30s</td>\n",
       "      <td>1</td>\n",
       "      <td>2</td>\n",
       "      <td>7</td>\n",
       "      <td>1153000</td>\n",
       "      <td>28</td>\n",
       "    </tr>\n",
       "    <tr>\n",
       "      <th>224538</th>\n",
       "      <td>23899431</td>\n",
       "      <td>202003</td>\n",
       "      <td>일반 음식점업</td>\n",
       "      <td>40s</td>\n",
       "      <td>1</td>\n",
       "      <td>3</td>\n",
       "      <td>3</td>\n",
       "      <td>73000</td>\n",
       "      <td>3</td>\n",
       "    </tr>\n",
       "    <tr>\n",
       "      <th>224539</th>\n",
       "      <td>23899432</td>\n",
       "      <td>202003</td>\n",
       "      <td>일반 음식점업</td>\n",
       "      <td>30s</td>\n",
       "      <td>1</td>\n",
       "      <td>2</td>\n",
       "      <td>4</td>\n",
       "      <td>321000</td>\n",
       "      <td>5</td>\n",
       "    </tr>\n",
       "  </tbody>\n",
       "</table>\n",
       "<p>188470 rows × 9 columns</p>\n",
       "</div>"
      ],
      "text/plain": [
       "        Unnamed: 0      년월                 업종명  연령대  성별  생애주기  고객수       금액  \\\n",
       "355         600007  201901  스포츠 및 레크레이션 용품 임대업  60s   2     5    3   295000   \n",
       "356         600008  201901  스포츠 및 레크레이션 용품 임대업  20s   1     1   14   621000   \n",
       "357         600009  201901  스포츠 및 레크레이션 용품 임대업  20s   2     1    3    70000   \n",
       "358         600010  201901  스포츠 및 레크레이션 용품 임대업  30s   1     2    8   452200   \n",
       "359         600011  201901  스포츠 및 레크레이션 용품 임대업  40s   1     3   13  5608600   \n",
       "...            ...     ...                 ...  ...  ..   ...  ...      ...   \n",
       "224535    23899428  202003             일반 음식점업  20s   1     1    8   904800   \n",
       "224536    23899429  202003             일반 음식점업  30s   1     1    3   331800   \n",
       "224537    23899430  202003             일반 음식점업  30s   1     2    7  1153000   \n",
       "224538    23899431  202003             일반 음식점업  40s   1     3    3    73000   \n",
       "224539    23899432  202003             일반 음식점업  30s   1     2    4   321000   \n",
       "\n",
       "        건수  \n",
       "355      4  \n",
       "356     14  \n",
       "357      3  \n",
       "358      9  \n",
       "359     16  \n",
       "...     ..  \n",
       "224535  16  \n",
       "224536   4  \n",
       "224537  28  \n",
       "224538   3  \n",
       "224539   5  \n",
       "\n",
       "[188470 rows x 9 columns]"
      ]
     },
     "execution_count": 94,
     "metadata": {},
     "output_type": "execute_result"
    }
   ],
   "source": [
    "example = df[df['업종명']!='카페']\n",
    "example"
   ]
  }
 ],
 "metadata": {
  "kernelspec": {
   "display_name": "Python 3",
   "language": "python",
   "name": "python3"
  },
  "language_info": {
   "codemirror_mode": {
    "name": "ipython",
    "version": 3
   },
   "file_extension": ".py",
   "mimetype": "text/x-python",
   "name": "python",
   "nbconvert_exporter": "python",
   "pygments_lexer": "ipython3",
   "version": "3.7.9"
  }
 },
 "nbformat": 4,
 "nbformat_minor": 4
}
