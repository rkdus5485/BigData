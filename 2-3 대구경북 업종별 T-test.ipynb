{
 "cells": [
  {
   "cell_type": "code",
   "execution_count": 271,
   "metadata": {},
   "outputs": [],
   "source": [
    "import pandas as pd\n",
    "import numpy as np\n",
    "import seaborn as sns\n",
    "from scipy import stats\n",
    "import matplotlib.pyplot as plt"
   ]
  },
  {
   "cell_type": "code",
   "execution_count": 272,
   "metadata": {},
   "outputs": [],
   "source": [
    "from matplotlib import font_manager, rc\n",
    "font_name = font_manager.FontProperties(fname=\"C:/Windows/Fonts/malgun.ttf\").get_name()\n",
    "rc('font', family=font_name)"
   ]
  },
  {
   "cell_type": "code",
   "execution_count": 273,
   "metadata": {},
   "outputs": [],
   "source": [
    "df = pd.read_csv('1,2,3월_2.csv')"
   ]
  },
  {
   "cell_type": "code",
   "execution_count": 274,
   "metadata": {},
   "outputs": [],
   "source": [
    "df['연령대'] = df['연령대'].str.rstrip('s').astype('int')"
   ]
  },
  {
   "cell_type": "code",
   "execution_count": 275,
   "metadata": {},
   "outputs": [
    {
     "data": {
      "text/html": [
       "<div>\n",
       "<style scoped>\n",
       "    .dataframe tbody tr th:only-of-type {\n",
       "        vertical-align: middle;\n",
       "    }\n",
       "\n",
       "    .dataframe tbody tr th {\n",
       "        vertical-align: top;\n",
       "    }\n",
       "\n",
       "    .dataframe thead th {\n",
       "        text-align: right;\n",
       "    }\n",
       "</style>\n",
       "<table border=\"1\" class=\"dataframe\">\n",
       "  <thead>\n",
       "    <tr style=\"text-align: right;\">\n",
       "      <th></th>\n",
       "      <th>Unnamed: 0</th>\n",
       "      <th>년월</th>\n",
       "      <th>업종명</th>\n",
       "      <th>연령대</th>\n",
       "      <th>성별</th>\n",
       "      <th>생애주기</th>\n",
       "      <th>고객수</th>\n",
       "      <th>금액</th>\n",
       "      <th>건수</th>\n",
       "      <th>Log10_금액</th>\n",
       "    </tr>\n",
       "  </thead>\n",
       "  <tbody>\n",
       "    <tr>\n",
       "      <th>0</th>\n",
       "      <td>598167</td>\n",
       "      <td>201901</td>\n",
       "      <td>카페</td>\n",
       "      <td>20</td>\n",
       "      <td>2</td>\n",
       "      <td>1</td>\n",
       "      <td>3</td>\n",
       "      <td>24890</td>\n",
       "      <td>3</td>\n",
       "      <td>4.396025</td>\n",
       "    </tr>\n",
       "    <tr>\n",
       "      <th>1</th>\n",
       "      <td>598168</td>\n",
       "      <td>201901</td>\n",
       "      <td>카페</td>\n",
       "      <td>20</td>\n",
       "      <td>2</td>\n",
       "      <td>1</td>\n",
       "      <td>3</td>\n",
       "      <td>17800</td>\n",
       "      <td>3</td>\n",
       "      <td>4.250420</td>\n",
       "    </tr>\n",
       "    <tr>\n",
       "      <th>2</th>\n",
       "      <td>598169</td>\n",
       "      <td>201901</td>\n",
       "      <td>카페</td>\n",
       "      <td>30</td>\n",
       "      <td>2</td>\n",
       "      <td>2</td>\n",
       "      <td>3</td>\n",
       "      <td>28500</td>\n",
       "      <td>4</td>\n",
       "      <td>4.454845</td>\n",
       "    </tr>\n",
       "    <tr>\n",
       "      <th>3</th>\n",
       "      <td>598170</td>\n",
       "      <td>201901</td>\n",
       "      <td>카페</td>\n",
       "      <td>20</td>\n",
       "      <td>1</td>\n",
       "      <td>1</td>\n",
       "      <td>3</td>\n",
       "      <td>27900</td>\n",
       "      <td>4</td>\n",
       "      <td>4.445604</td>\n",
       "    </tr>\n",
       "    <tr>\n",
       "      <th>4</th>\n",
       "      <td>598171</td>\n",
       "      <td>201901</td>\n",
       "      <td>카페</td>\n",
       "      <td>40</td>\n",
       "      <td>1</td>\n",
       "      <td>3</td>\n",
       "      <td>3</td>\n",
       "      <td>20600</td>\n",
       "      <td>3</td>\n",
       "      <td>4.313867</td>\n",
       "    </tr>\n",
       "    <tr>\n",
       "      <th>...</th>\n",
       "      <td>...</td>\n",
       "      <td>...</td>\n",
       "      <td>...</td>\n",
       "      <td>...</td>\n",
       "      <td>...</td>\n",
       "      <td>...</td>\n",
       "      <td>...</td>\n",
       "      <td>...</td>\n",
       "      <td>...</td>\n",
       "      <td>...</td>\n",
       "    </tr>\n",
       "    <tr>\n",
       "      <th>224535</th>\n",
       "      <td>23899428</td>\n",
       "      <td>202003</td>\n",
       "      <td>일반 음식점업</td>\n",
       "      <td>20</td>\n",
       "      <td>1</td>\n",
       "      <td>1</td>\n",
       "      <td>8</td>\n",
       "      <td>904800</td>\n",
       "      <td>16</td>\n",
       "      <td>5.956553</td>\n",
       "    </tr>\n",
       "    <tr>\n",
       "      <th>224536</th>\n",
       "      <td>23899429</td>\n",
       "      <td>202003</td>\n",
       "      <td>일반 음식점업</td>\n",
       "      <td>30</td>\n",
       "      <td>1</td>\n",
       "      <td>1</td>\n",
       "      <td>3</td>\n",
       "      <td>331800</td>\n",
       "      <td>4</td>\n",
       "      <td>5.520876</td>\n",
       "    </tr>\n",
       "    <tr>\n",
       "      <th>224537</th>\n",
       "      <td>23899430</td>\n",
       "      <td>202003</td>\n",
       "      <td>일반 음식점업</td>\n",
       "      <td>30</td>\n",
       "      <td>1</td>\n",
       "      <td>2</td>\n",
       "      <td>7</td>\n",
       "      <td>1153000</td>\n",
       "      <td>28</td>\n",
       "      <td>6.061829</td>\n",
       "    </tr>\n",
       "    <tr>\n",
       "      <th>224538</th>\n",
       "      <td>23899431</td>\n",
       "      <td>202003</td>\n",
       "      <td>일반 음식점업</td>\n",
       "      <td>40</td>\n",
       "      <td>1</td>\n",
       "      <td>3</td>\n",
       "      <td>3</td>\n",
       "      <td>73000</td>\n",
       "      <td>3</td>\n",
       "      <td>4.863323</td>\n",
       "    </tr>\n",
       "    <tr>\n",
       "      <th>224539</th>\n",
       "      <td>23899432</td>\n",
       "      <td>202003</td>\n",
       "      <td>일반 음식점업</td>\n",
       "      <td>30</td>\n",
       "      <td>1</td>\n",
       "      <td>2</td>\n",
       "      <td>4</td>\n",
       "      <td>321000</td>\n",
       "      <td>5</td>\n",
       "      <td>5.506505</td>\n",
       "    </tr>\n",
       "  </tbody>\n",
       "</table>\n",
       "<p>224540 rows × 10 columns</p>\n",
       "</div>"
      ],
      "text/plain": [
       "        Unnamed: 0      년월      업종명  연령대  성별  생애주기  고객수       금액  건수  Log10_금액\n",
       "0           598167  201901       카페   20   2     1    3    24890   3  4.396025\n",
       "1           598168  201901       카페   20   2     1    3    17800   3  4.250420\n",
       "2           598169  201901       카페   30   2     2    3    28500   4  4.454845\n",
       "3           598170  201901       카페   20   1     1    3    27900   4  4.445604\n",
       "4           598171  201901       카페   40   1     3    3    20600   3  4.313867\n",
       "...            ...     ...      ...  ...  ..   ...  ...      ...  ..       ...\n",
       "224535    23899428  202003  일반 음식점업   20   1     1    8   904800  16  5.956553\n",
       "224536    23899429  202003  일반 음식점업   30   1     1    3   331800   4  5.520876\n",
       "224537    23899430  202003  일반 음식점업   30   1     2    7  1153000  28  6.061829\n",
       "224538    23899431  202003  일반 음식점업   40   1     3    3    73000   3  4.863323\n",
       "224539    23899432  202003  일반 음식점업   30   1     2    4   321000   5  5.506505\n",
       "\n",
       "[224540 rows x 10 columns]"
      ]
     },
     "execution_count": 275,
     "metadata": {},
     "output_type": "execute_result"
    }
   ],
   "source": [
    "df['Log10_금액'] = np.log10(df['금액'])\n",
    "df"
   ]
  },
  {
   "cell_type": "code",
   "execution_count": 276,
   "metadata": {},
   "outputs": [
    {
     "data": {
      "text/plain": [
       "(224540, 10)"
      ]
     },
     "execution_count": 276,
     "metadata": {},
     "output_type": "execute_result"
    }
   ],
   "source": [
    "df.shape"
   ]
  },
  {
   "cell_type": "code",
   "execution_count": 277,
   "metadata": {
    "scrolled": true
   },
   "outputs": [
    {
     "name": "stdout",
     "output_type": "stream",
     "text": [
      "<class 'pandas.core.frame.DataFrame'>\n",
      "RangeIndex: 224540 entries, 0 to 224539\n",
      "Data columns (total 10 columns):\n",
      " #   Column      Non-Null Count   Dtype  \n",
      "---  ------      --------------   -----  \n",
      " 0   Unnamed: 0  224540 non-null  int64  \n",
      " 1   년월          224540 non-null  int64  \n",
      " 2   업종명         224540 non-null  object \n",
      " 3   연령대         224540 non-null  int32  \n",
      " 4   성별          224540 non-null  int64  \n",
      " 5   생애주기        224540 non-null  int64  \n",
      " 6   고객수         224540 non-null  int64  \n",
      " 7   금액          224540 non-null  int64  \n",
      " 8   건수          224540 non-null  int64  \n",
      " 9   Log10_금액    224540 non-null  float64\n",
      "dtypes: float64(1), int32(1), int64(7), object(1)\n",
      "memory usage: 16.3+ MB\n"
     ]
    }
   ],
   "source": [
    "df.info()"
   ]
  },
  {
   "cell_type": "code",
   "execution_count": 278,
   "metadata": {},
   "outputs": [
    {
     "data": {
      "text/html": [
       "<div>\n",
       "<style scoped>\n",
       "    .dataframe tbody tr th:only-of-type {\n",
       "        vertical-align: middle;\n",
       "    }\n",
       "\n",
       "    .dataframe tbody tr th {\n",
       "        vertical-align: top;\n",
       "    }\n",
       "\n",
       "    .dataframe thead th {\n",
       "        text-align: right;\n",
       "    }\n",
       "</style>\n",
       "<table border=\"1\" class=\"dataframe\">\n",
       "  <thead>\n",
       "    <tr style=\"text-align: right;\">\n",
       "      <th></th>\n",
       "      <th>업종명</th>\n",
       "      <th>년월</th>\n",
       "      <th>건수</th>\n",
       "    </tr>\n",
       "  </thead>\n",
       "  <tbody>\n",
       "    <tr>\n",
       "      <th>0</th>\n",
       "      <td>관광업</td>\n",
       "      <td>201901</td>\n",
       "      <td>1215</td>\n",
       "    </tr>\n",
       "    <tr>\n",
       "      <th>1</th>\n",
       "      <td>관광업</td>\n",
       "      <td>201902</td>\n",
       "      <td>1117</td>\n",
       "    </tr>\n",
       "    <tr>\n",
       "      <th>2</th>\n",
       "      <td>관광업</td>\n",
       "      <td>201903</td>\n",
       "      <td>1007</td>\n",
       "    </tr>\n",
       "    <tr>\n",
       "      <th>3</th>\n",
       "      <td>관광업</td>\n",
       "      <td>202001</td>\n",
       "      <td>1280</td>\n",
       "    </tr>\n",
       "    <tr>\n",
       "      <th>4</th>\n",
       "      <td>관광업</td>\n",
       "      <td>202002</td>\n",
       "      <td>524</td>\n",
       "    </tr>\n",
       "    <tr>\n",
       "      <th>5</th>\n",
       "      <td>관광업</td>\n",
       "      <td>202003</td>\n",
       "      <td>121</td>\n",
       "    </tr>\n",
       "    <tr>\n",
       "      <th>6</th>\n",
       "      <td>스포츠 및 레크레이션 용품 임대업</td>\n",
       "      <td>201901</td>\n",
       "      <td>1910</td>\n",
       "    </tr>\n",
       "    <tr>\n",
       "      <th>7</th>\n",
       "      <td>스포츠 및 레크레이션 용품 임대업</td>\n",
       "      <td>201902</td>\n",
       "      <td>1966</td>\n",
       "    </tr>\n",
       "    <tr>\n",
       "      <th>8</th>\n",
       "      <td>스포츠 및 레크레이션 용품 임대업</td>\n",
       "      <td>201903</td>\n",
       "      <td>2429</td>\n",
       "    </tr>\n",
       "    <tr>\n",
       "      <th>9</th>\n",
       "      <td>스포츠 및 레크레이션 용품 임대업</td>\n",
       "      <td>202001</td>\n",
       "      <td>1888</td>\n",
       "    </tr>\n",
       "    <tr>\n",
       "      <th>10</th>\n",
       "      <td>스포츠 및 레크레이션 용품 임대업</td>\n",
       "      <td>202002</td>\n",
       "      <td>1550</td>\n",
       "    </tr>\n",
       "    <tr>\n",
       "      <th>11</th>\n",
       "      <td>스포츠 및 레크레이션 용품 임대업</td>\n",
       "      <td>202003</td>\n",
       "      <td>1558</td>\n",
       "    </tr>\n",
       "    <tr>\n",
       "      <th>12</th>\n",
       "      <td>일반 음식점업</td>\n",
       "      <td>201901</td>\n",
       "      <td>30426</td>\n",
       "    </tr>\n",
       "    <tr>\n",
       "      <th>13</th>\n",
       "      <td>일반 음식점업</td>\n",
       "      <td>201902</td>\n",
       "      <td>31489</td>\n",
       "    </tr>\n",
       "    <tr>\n",
       "      <th>14</th>\n",
       "      <td>일반 음식점업</td>\n",
       "      <td>201903</td>\n",
       "      <td>32370</td>\n",
       "    </tr>\n",
       "    <tr>\n",
       "      <th>15</th>\n",
       "      <td>일반 음식점업</td>\n",
       "      <td>202001</td>\n",
       "      <td>32286</td>\n",
       "    </tr>\n",
       "    <tr>\n",
       "      <th>16</th>\n",
       "      <td>일반 음식점업</td>\n",
       "      <td>202002</td>\n",
       "      <td>23220</td>\n",
       "    </tr>\n",
       "    <tr>\n",
       "      <th>17</th>\n",
       "      <td>일반 음식점업</td>\n",
       "      <td>202003</td>\n",
       "      <td>15897</td>\n",
       "    </tr>\n",
       "    <tr>\n",
       "      <th>18</th>\n",
       "      <td>전시 및 행사 대행업</td>\n",
       "      <td>201901</td>\n",
       "      <td>1193</td>\n",
       "    </tr>\n",
       "    <tr>\n",
       "      <th>19</th>\n",
       "      <td>전시 및 행사 대행업</td>\n",
       "      <td>201902</td>\n",
       "      <td>1213</td>\n",
       "    </tr>\n",
       "    <tr>\n",
       "      <th>20</th>\n",
       "      <td>전시 및 행사 대행업</td>\n",
       "      <td>201903</td>\n",
       "      <td>1511</td>\n",
       "    </tr>\n",
       "    <tr>\n",
       "      <th>21</th>\n",
       "      <td>전시 및 행사 대행업</td>\n",
       "      <td>202001</td>\n",
       "      <td>1261</td>\n",
       "    </tr>\n",
       "    <tr>\n",
       "      <th>22</th>\n",
       "      <td>전시 및 행사 대행업</td>\n",
       "      <td>202002</td>\n",
       "      <td>712</td>\n",
       "    </tr>\n",
       "    <tr>\n",
       "      <th>23</th>\n",
       "      <td>전시 및 행사 대행업</td>\n",
       "      <td>202003</td>\n",
       "      <td>327</td>\n",
       "    </tr>\n",
       "    <tr>\n",
       "      <th>24</th>\n",
       "      <td>카페</td>\n",
       "      <td>201901</td>\n",
       "      <td>6224</td>\n",
       "    </tr>\n",
       "    <tr>\n",
       "      <th>25</th>\n",
       "      <td>카페</td>\n",
       "      <td>201902</td>\n",
       "      <td>6900</td>\n",
       "    </tr>\n",
       "    <tr>\n",
       "      <th>26</th>\n",
       "      <td>카페</td>\n",
       "      <td>201903</td>\n",
       "      <td>6926</td>\n",
       "    </tr>\n",
       "    <tr>\n",
       "      <th>27</th>\n",
       "      <td>카페</td>\n",
       "      <td>202001</td>\n",
       "      <td>7212</td>\n",
       "    </tr>\n",
       "    <tr>\n",
       "      <th>28</th>\n",
       "      <td>카페</td>\n",
       "      <td>202002</td>\n",
       "      <td>4948</td>\n",
       "    </tr>\n",
       "    <tr>\n",
       "      <th>29</th>\n",
       "      <td>카페</td>\n",
       "      <td>202003</td>\n",
       "      <td>3860</td>\n",
       "    </tr>\n",
       "  </tbody>\n",
       "</table>\n",
       "</div>"
      ],
      "text/plain": [
       "                   업종명      년월     건수\n",
       "0                  관광업  201901   1215\n",
       "1                  관광업  201902   1117\n",
       "2                  관광업  201903   1007\n",
       "3                  관광업  202001   1280\n",
       "4                  관광업  202002    524\n",
       "5                  관광업  202003    121\n",
       "6   스포츠 및 레크레이션 용품 임대업  201901   1910\n",
       "7   스포츠 및 레크레이션 용품 임대업  201902   1966\n",
       "8   스포츠 및 레크레이션 용품 임대업  201903   2429\n",
       "9   스포츠 및 레크레이션 용품 임대업  202001   1888\n",
       "10  스포츠 및 레크레이션 용품 임대업  202002   1550\n",
       "11  스포츠 및 레크레이션 용품 임대업  202003   1558\n",
       "12             일반 음식점업  201901  30426\n",
       "13             일반 음식점업  201902  31489\n",
       "14             일반 음식점업  201903  32370\n",
       "15             일반 음식점업  202001  32286\n",
       "16             일반 음식점업  202002  23220\n",
       "17             일반 음식점업  202003  15897\n",
       "18         전시 및 행사 대행업  201901   1193\n",
       "19         전시 및 행사 대행업  201902   1213\n",
       "20         전시 및 행사 대행업  201903   1511\n",
       "21         전시 및 행사 대행업  202001   1261\n",
       "22         전시 및 행사 대행업  202002    712\n",
       "23         전시 및 행사 대행업  202003    327\n",
       "24                  카페  201901   6224\n",
       "25                  카페  201902   6900\n",
       "26                  카페  201903   6926\n",
       "27                  카페  202001   7212\n",
       "28                  카페  202002   4948\n",
       "29                  카페  202003   3860"
      ]
     },
     "execution_count": 278,
     "metadata": {},
     "output_type": "execute_result"
    }
   ],
   "source": [
    "df.groupby(['업종명','년월'])['건수'].count().reset_index()"
   ]
  },
  {
   "cell_type": "code",
   "execution_count": 279,
   "metadata": {},
   "outputs": [],
   "source": [
    "tour = df['업종명']=='관광업'\n",
    "sports = df['업종명']=='스포츠 및 레크레이션 용품 임대업'\n",
    "food = df['업종명']=='일반 음식점업'\n",
    "cafe = df['업종명']=='카페'\n",
    "dis = df['업종명']=='전시 및 행사 대행업'\n",
    "\n",
    "df_201901 = df['년월']==201901\n",
    "df_201902 = df['년월']==201902\n",
    "df_201903 = df['년월']==201903\n",
    "df_202001 = df['년월']==202001\n",
    "df_202002 = df['년월']==202002\n",
    "df_202003 = df['년월']==202003"
   ]
  },
  {
   "cell_type": "code",
   "execution_count": 280,
   "metadata": {},
   "outputs": [],
   "source": [
    "# 관광업\n",
    "df_tour = df[tour]\n",
    "df_tour_1901 = df[tour & df_201901]\n",
    "df_tour_1902 = df[tour & df_201902]\n",
    "df_tour_1903 = df[tour & df_201903]\n",
    "df_tour_2001 = df[tour & df_202001]\n",
    "df_tour_2002 = df[tour & df_202002]\n",
    "df_tour_2003 = df[tour & df_202003]\n",
    "\n",
    "# 일반 음식점업\n",
    "df_food = df[food]\n",
    "df_food_1901 = df[food & df_201901]\n",
    "df_food_1902 = df[food & df_201902]\n",
    "df_food_1903 = df[food & df_201903]\n",
    "df_food_2001 = df[food & df_202001]\n",
    "df_food_2002 = df[food & df_202002]\n",
    "df_food_2003 = df[food & df_202003]\n",
    "\n",
    "# 스포츠\n",
    "df_sport = df[sports]\n",
    "df_sports_1901 = df[sports & df_201901]\n",
    "df_sports_1902 = df[sports & df_201902]\n",
    "df_sports_1903 = df[sports & df_201903]\n",
    "df_sports_2001 = df[sports & df_202001]\n",
    "df_sports_2002 = df[sports & df_202002]\n",
    "df_sports_2003 = df[sports & df_202003]\n",
    "\n",
    "# 전시 및 행사 대행업\n",
    "df_dis = df[dis]\n",
    "df_dis_1901 = df[dis & df_201901]\n",
    "df_dis_1902 = df[dis & df_201902]\n",
    "df_dis_1903 = df[dis & df_201903]\n",
    "df_dis_2001 = df[dis & df_202001]\n",
    "df_dis_2002 = df[dis & df_202002]\n",
    "df_dis_2003 = df[dis & df_202003]\n",
    "\n",
    "# 카페\n",
    "df_cafe = df[cafe]\n",
    "df_cafe_1901 = df[cafe & df_201901]\n",
    "df_cafe_1902 = df[cafe & df_201902]\n",
    "df_cafe_1903 = df[cafe & df_201903]\n",
    "df_cafe_2001 = df[cafe & df_202001]\n",
    "df_cafe_2002 = df[cafe & df_202002]\n",
    "df_cafe_2003 = df[cafe & df_202003]"
   ]
  },
  {
   "cell_type": "code",
   "execution_count": 281,
   "metadata": {},
   "outputs": [
    {
     "data": {
      "text/html": [
       "<div>\n",
       "<style scoped>\n",
       "    .dataframe tbody tr th:only-of-type {\n",
       "        vertical-align: middle;\n",
       "    }\n",
       "\n",
       "    .dataframe tbody tr th {\n",
       "        vertical-align: top;\n",
       "    }\n",
       "\n",
       "    .dataframe thead th {\n",
       "        text-align: right;\n",
       "    }\n",
       "</style>\n",
       "<table border=\"1\" class=\"dataframe\">\n",
       "  <thead>\n",
       "    <tr style=\"text-align: right;\">\n",
       "      <th></th>\n",
       "      <th>Unnamed: 0</th>\n",
       "      <th>년월</th>\n",
       "      <th>업종명</th>\n",
       "      <th>연령대</th>\n",
       "      <th>성별</th>\n",
       "      <th>생애주기</th>\n",
       "      <th>고객수</th>\n",
       "      <th>금액</th>\n",
       "      <th>건수</th>\n",
       "      <th>Log10_금액</th>\n",
       "    </tr>\n",
       "  </thead>\n",
       "  <tbody>\n",
       "    <tr>\n",
       "      <th>72861</th>\n",
       "      <td>23922543</td>\n",
       "      <td>202003</td>\n",
       "      <td>카페</td>\n",
       "      <td>20</td>\n",
       "      <td>1</td>\n",
       "      <td>1</td>\n",
       "      <td>3</td>\n",
       "      <td>41060</td>\n",
       "      <td>6</td>\n",
       "      <td>4.613419</td>\n",
       "    </tr>\n",
       "    <tr>\n",
       "      <th>72862</th>\n",
       "      <td>23922544</td>\n",
       "      <td>202003</td>\n",
       "      <td>카페</td>\n",
       "      <td>20</td>\n",
       "      <td>2</td>\n",
       "      <td>1</td>\n",
       "      <td>3</td>\n",
       "      <td>25700</td>\n",
       "      <td>5</td>\n",
       "      <td>4.409933</td>\n",
       "    </tr>\n",
       "    <tr>\n",
       "      <th>72863</th>\n",
       "      <td>23922545</td>\n",
       "      <td>202003</td>\n",
       "      <td>카페</td>\n",
       "      <td>20</td>\n",
       "      <td>1</td>\n",
       "      <td>1</td>\n",
       "      <td>26</td>\n",
       "      <td>237900</td>\n",
       "      <td>32</td>\n",
       "      <td>5.376394</td>\n",
       "    </tr>\n",
       "    <tr>\n",
       "      <th>72864</th>\n",
       "      <td>23922546</td>\n",
       "      <td>202003</td>\n",
       "      <td>카페</td>\n",
       "      <td>20</td>\n",
       "      <td>1</td>\n",
       "      <td>2</td>\n",
       "      <td>5</td>\n",
       "      <td>43800</td>\n",
       "      <td>5</td>\n",
       "      <td>4.641474</td>\n",
       "    </tr>\n",
       "    <tr>\n",
       "      <th>72865</th>\n",
       "      <td>23922547</td>\n",
       "      <td>202003</td>\n",
       "      <td>카페</td>\n",
       "      <td>20</td>\n",
       "      <td>2</td>\n",
       "      <td>1</td>\n",
       "      <td>41</td>\n",
       "      <td>480170</td>\n",
       "      <td>54</td>\n",
       "      <td>5.681395</td>\n",
       "    </tr>\n",
       "    <tr>\n",
       "      <th>...</th>\n",
       "      <td>...</td>\n",
       "      <td>...</td>\n",
       "      <td>...</td>\n",
       "      <td>...</td>\n",
       "      <td>...</td>\n",
       "      <td>...</td>\n",
       "      <td>...</td>\n",
       "      <td>...</td>\n",
       "      <td>...</td>\n",
       "      <td>...</td>\n",
       "    </tr>\n",
       "    <tr>\n",
       "      <th>223758</th>\n",
       "      <td>23896787</td>\n",
       "      <td>202003</td>\n",
       "      <td>카페</td>\n",
       "      <td>30</td>\n",
       "      <td>1</td>\n",
       "      <td>2</td>\n",
       "      <td>3</td>\n",
       "      <td>29600</td>\n",
       "      <td>5</td>\n",
       "      <td>4.471292</td>\n",
       "    </tr>\n",
       "    <tr>\n",
       "      <th>223759</th>\n",
       "      <td>23896788</td>\n",
       "      <td>202003</td>\n",
       "      <td>카페</td>\n",
       "      <td>40</td>\n",
       "      <td>1</td>\n",
       "      <td>3</td>\n",
       "      <td>3</td>\n",
       "      <td>21800</td>\n",
       "      <td>7</td>\n",
       "      <td>4.338456</td>\n",
       "    </tr>\n",
       "    <tr>\n",
       "      <th>223760</th>\n",
       "      <td>23896789</td>\n",
       "      <td>202003</td>\n",
       "      <td>카페</td>\n",
       "      <td>20</td>\n",
       "      <td>2</td>\n",
       "      <td>1</td>\n",
       "      <td>3</td>\n",
       "      <td>7500</td>\n",
       "      <td>3</td>\n",
       "      <td>3.875061</td>\n",
       "    </tr>\n",
       "    <tr>\n",
       "      <th>223761</th>\n",
       "      <td>23896790</td>\n",
       "      <td>202003</td>\n",
       "      <td>카페</td>\n",
       "      <td>20</td>\n",
       "      <td>1</td>\n",
       "      <td>1</td>\n",
       "      <td>6</td>\n",
       "      <td>54900</td>\n",
       "      <td>7</td>\n",
       "      <td>4.739572</td>\n",
       "    </tr>\n",
       "    <tr>\n",
       "      <th>223762</th>\n",
       "      <td>23896791</td>\n",
       "      <td>202003</td>\n",
       "      <td>카페</td>\n",
       "      <td>20</td>\n",
       "      <td>2</td>\n",
       "      <td>1</td>\n",
       "      <td>3</td>\n",
       "      <td>53000</td>\n",
       "      <td>7</td>\n",
       "      <td>4.724276</td>\n",
       "    </tr>\n",
       "  </tbody>\n",
       "</table>\n",
       "<p>3860 rows × 10 columns</p>\n",
       "</div>"
      ],
      "text/plain": [
       "        Unnamed: 0      년월 업종명  연령대  성별  생애주기  고객수      금액  건수  Log10_금액\n",
       "72861     23922543  202003  카페   20   1     1    3   41060   6  4.613419\n",
       "72862     23922544  202003  카페   20   2     1    3   25700   5  4.409933\n",
       "72863     23922545  202003  카페   20   1     1   26  237900  32  5.376394\n",
       "72864     23922546  202003  카페   20   1     2    5   43800   5  4.641474\n",
       "72865     23922547  202003  카페   20   2     1   41  480170  54  5.681395\n",
       "...            ...     ...  ..  ...  ..   ...  ...     ...  ..       ...\n",
       "223758    23896787  202003  카페   30   1     2    3   29600   5  4.471292\n",
       "223759    23896788  202003  카페   40   1     3    3   21800   7  4.338456\n",
       "223760    23896789  202003  카페   20   2     1    3    7500   3  3.875061\n",
       "223761    23896790  202003  카페   20   1     1    6   54900   7  4.739572\n",
       "223762    23896791  202003  카페   20   2     1    3   53000   7  4.724276\n",
       "\n",
       "[3860 rows x 10 columns]"
      ]
     },
     "execution_count": 281,
     "metadata": {},
     "output_type": "execute_result"
    }
   ],
   "source": [
    "df_cafe_2003"
   ]
  },
  {
   "cell_type": "code",
   "execution_count": null,
   "metadata": {},
   "outputs": [],
   "source": []
  },
  {
   "cell_type": "markdown",
   "metadata": {},
   "source": [
    "# T - test"
   ]
  },
  {
   "cell_type": "code",
   "execution_count": null,
   "metadata": {},
   "outputs": [],
   "source": []
  },
  {
   "cell_type": "markdown",
   "metadata": {},
   "source": [
    "## Log10_금액"
   ]
  },
  {
   "cell_type": "markdown",
   "metadata": {},
   "source": [
    "### 관광업 1월"
   ]
  },
  {
   "cell_type": "code",
   "execution_count": 282,
   "metadata": {},
   "outputs": [
    {
     "name": "stdout",
     "output_type": "stream",
     "text": [
      "201901 평균 :  5.48802603850468\n",
      "202001 평균 :  5.466499763838419\n"
     ]
    }
   ],
   "source": [
    "df_t_1901_1 = np.array(df_tour_1901['Log10_금액'])\n",
    "df_t_2001_1 = np.array(df_tour_2001['Log10_금액'])\n",
    "print('201901 평균 : ',np.mean(df_t_1901_1))\n",
    "print('202001 평균 : ',np.mean(df_t_2001_1))"
   ]
  },
  {
   "cell_type": "code",
   "execution_count": 283,
   "metadata": {},
   "outputs": [
    {
     "data": {
      "text/plain": [
       "LeveneResult(statistic=1.5187208939545147, pvalue=0.2179293729115172)"
      ]
     },
     "execution_count": 283,
     "metadata": {},
     "output_type": "execute_result"
    }
   ],
   "source": [
    "stats.levene(df_t_1901_1, df_t_2001_1)"
   ]
  },
  {
   "cell_type": "code",
   "execution_count": 284,
   "metadata": {},
   "outputs": [
    {
     "data": {
      "text/plain": [
       "Ttest_indResult(statistic=0.9986168382529358, pvalue=0.3180772560899787)"
      ]
     },
     "execution_count": 284,
     "metadata": {},
     "output_type": "execute_result"
    }
   ],
   "source": [
    "stats.ttest_ind(df_t_1901_1, df_t_2001_1, equal_var=True)"
   ]
  },
  {
   "cell_type": "markdown",
   "metadata": {},
   "source": [
    "### 관광업 2월"
   ]
  },
  {
   "cell_type": "code",
   "execution_count": 285,
   "metadata": {},
   "outputs": [
    {
     "name": "stdout",
     "output_type": "stream",
     "text": [
      "201902 평균 :  5.4523746436501295\n",
      "202002 평균 :  5.411101394543164\n"
     ]
    }
   ],
   "source": [
    "df_t_1902_1 = np.array(df_tour_1902['Log10_금액'])\n",
    "df_t_2002_1 = np.array(df_tour_2002['Log10_금액'])\n",
    "print('201902 평균 : ',np.mean(df_t_1902_1))\n",
    "print('202002 평균 : ',np.mean(df_t_2002_1))"
   ]
  },
  {
   "cell_type": "code",
   "execution_count": 286,
   "metadata": {},
   "outputs": [
    {
     "data": {
      "text/plain": [
       "LeveneResult(statistic=5.054134641830404, pvalue=0.024699685579550146)"
      ]
     },
     "execution_count": 286,
     "metadata": {},
     "output_type": "execute_result"
    }
   ],
   "source": [
    "stats.levene(df_t_1902_1, df_t_2002_1)"
   ]
  },
  {
   "cell_type": "code",
   "execution_count": 287,
   "metadata": {},
   "outputs": [
    {
     "data": {
      "text/plain": [
       "Ttest_indResult(statistic=1.337388360739153, pvalue=0.1814228597047916)"
      ]
     },
     "execution_count": 287,
     "metadata": {},
     "output_type": "execute_result"
    }
   ],
   "source": [
    "stats.ttest_ind(df_t_1902_1, df_t_2002_1, equal_var=False)"
   ]
  },
  {
   "cell_type": "markdown",
   "metadata": {},
   "source": [
    "### 관광업 3월"
   ]
  },
  {
   "cell_type": "code",
   "execution_count": 288,
   "metadata": {},
   "outputs": [
    {
     "name": "stdout",
     "output_type": "stream",
     "text": [
      "201903 평균 :  5.45218298487345\n",
      "202003 평균 :  5.346826629218789\n"
     ]
    }
   ],
   "source": [
    "df_t_1903_1 = np.array(df_tour_1903['Log10_금액'])\n",
    "df_t_2003_1 = np.array(df_tour_2003['Log10_금액'])\n",
    "print('201903 평균 : ',np.mean(df_t_1903_1))\n",
    "print('202003 평균 : ',np.mean(df_t_2003_1))"
   ]
  },
  {
   "cell_type": "code",
   "execution_count": 289,
   "metadata": {},
   "outputs": [
    {
     "data": {
      "text/plain": [
       "LeveneResult(statistic=0.4480345426981178, pvalue=0.5034070190282655)"
      ]
     },
     "execution_count": 289,
     "metadata": {},
     "output_type": "execute_result"
    }
   ],
   "source": [
    "stats.levene(df_t_1903_1, df_t_2003_1)"
   ]
  },
  {
   "cell_type": "code",
   "execution_count": 290,
   "metadata": {},
   "outputs": [
    {
     "data": {
      "text/plain": [
       "Ttest_indResult(statistic=2.0577184012700953, pvalue=0.039846984200052935)"
      ]
     },
     "execution_count": 290,
     "metadata": {},
     "output_type": "execute_result"
    }
   ],
   "source": [
    "stats.ttest_ind(df_t_1903_1, df_t_2003_1, equal_var=True)"
   ]
  },
  {
   "cell_type": "markdown",
   "metadata": {},
   "source": [
    "### 전시회 1월"
   ]
  },
  {
   "cell_type": "code",
   "execution_count": 291,
   "metadata": {},
   "outputs": [
    {
     "name": "stdout",
     "output_type": "stream",
     "text": [
      "201901 평균 :  5.066695356872308\n",
      "202001 평균 :  5.032321569221859\n"
     ]
    }
   ],
   "source": [
    "df_d_1901_1 = np.array(df_dis_1901['Log10_금액'])\n",
    "df_d_2001_1 = np.array(df_dis_2001['Log10_금액'])\n",
    "print('201901 평균 : ',np.mean(df_d_1901_1))\n",
    "print('202001 평균 : ',np.mean(df_d_2001_1))"
   ]
  },
  {
   "cell_type": "code",
   "execution_count": 292,
   "metadata": {},
   "outputs": [
    {
     "data": {
      "text/plain": [
       "LeveneResult(statistic=0.23403816623854443, pvalue=0.6285888211977807)"
      ]
     },
     "execution_count": 292,
     "metadata": {},
     "output_type": "execute_result"
    }
   ],
   "source": [
    "stats.levene(df_d_1901_1, df_d_2001_1)"
   ]
  },
  {
   "cell_type": "code",
   "execution_count": 293,
   "metadata": {},
   "outputs": [
    {
     "data": {
      "text/plain": [
       "Ttest_indResult(statistic=1.988898538391989, pvalue=0.046823367886434215)"
      ]
     },
     "execution_count": 293,
     "metadata": {},
     "output_type": "execute_result"
    }
   ],
   "source": [
    "stats.ttest_ind(df_d_1901_1, df_d_2001_1, equal_var=True)"
   ]
  },
  {
   "cell_type": "markdown",
   "metadata": {},
   "source": [
    "### 전시회 2월"
   ]
  },
  {
   "cell_type": "code",
   "execution_count": 294,
   "metadata": {},
   "outputs": [
    {
     "name": "stdout",
     "output_type": "stream",
     "text": [
      "201902 평균 :  5.0932903452332825\n",
      "202002 평균 :  5.034924210126256\n"
     ]
    }
   ],
   "source": [
    "df_d_1902_1 = np.array(df_dis_1902['Log10_금액'])\n",
    "df_d_2002_1 = np.array(df_dis_2002['Log10_금액'])\n",
    "print('201902 평균 : ',np.mean(df_d_1902_1))\n",
    "print('202002 평균 : ',np.mean(df_d_2002_1))"
   ]
  },
  {
   "cell_type": "code",
   "execution_count": 295,
   "metadata": {},
   "outputs": [
    {
     "data": {
      "text/plain": [
       "LeveneResult(statistic=1.4372352649314006, pvalue=0.23073496907024277)"
      ]
     },
     "execution_count": 295,
     "metadata": {},
     "output_type": "execute_result"
    }
   ],
   "source": [
    "stats.levene(df_d_1902_1, df_d_2002_1)"
   ]
  },
  {
   "cell_type": "code",
   "execution_count": 296,
   "metadata": {},
   "outputs": [
    {
     "data": {
      "text/plain": [
       "Ttest_indResult(statistic=2.5939454613629973, pvalue=0.009560190407854953)"
      ]
     },
     "execution_count": 296,
     "metadata": {},
     "output_type": "execute_result"
    }
   ],
   "source": [
    "stats.ttest_ind(df_d_1902_1, df_d_2002_1, equal_var=True)"
   ]
  },
  {
   "cell_type": "markdown",
   "metadata": {},
   "source": [
    "### 전시회 3월"
   ]
  },
  {
   "cell_type": "code",
   "execution_count": 297,
   "metadata": {},
   "outputs": [
    {
     "name": "stdout",
     "output_type": "stream",
     "text": [
      "201903 평균 :  5.051340928754077\n",
      "202003 평균 :  4.879898112632233\n"
     ]
    }
   ],
   "source": [
    "df_d_1903_1 = np.array(df_dis_1903['Log10_금액'])\n",
    "df_d_2003_1 = np.array(df_dis_2003['Log10_금액'])\n",
    "print('201903 평균 : ',np.mean(df_d_1903_1))\n",
    "print('202003 평균 : ',np.mean(df_d_2003_1))"
   ]
  },
  {
   "cell_type": "code",
   "execution_count": 298,
   "metadata": {},
   "outputs": [
    {
     "data": {
      "text/plain": [
       "LeveneResult(statistic=2.7027240709657594, pvalue=0.10034815743054702)"
      ]
     },
     "execution_count": 298,
     "metadata": {},
     "output_type": "execute_result"
    }
   ],
   "source": [
    "stats.levene(df_d_1903_1, df_d_2003_1)"
   ]
  },
  {
   "cell_type": "code",
   "execution_count": 299,
   "metadata": {},
   "outputs": [
    {
     "data": {
      "text/plain": [
       "Ttest_indResult(statistic=6.029804973817057, pvalue=1.979832119530464e-09)"
      ]
     },
     "execution_count": 299,
     "metadata": {},
     "output_type": "execute_result"
    }
   ],
   "source": [
    "stats.ttest_ind(df_d_1903_1, df_d_2003_1, equal_var=True)"
   ]
  },
  {
   "cell_type": "markdown",
   "metadata": {},
   "source": [
    "### 카페 1월"
   ]
  },
  {
   "cell_type": "code",
   "execution_count": 300,
   "metadata": {},
   "outputs": [
    {
     "name": "stdout",
     "output_type": "stream",
     "text": [
      "201901 평균 :  5.098097934016562\n",
      "202001 평균 :  5.064275744654157\n"
     ]
    }
   ],
   "source": [
    "df_c_1901_1 = np.array(df_cafe_1901['Log10_금액'])\n",
    "df_c_2001_1 = np.array(df_cafe_2001['Log10_금액'])\n",
    "print('201901 평균 : ',np.mean(df_c_1901_1))\n",
    "print('202001 평균 : ',np.mean(df_c_2001_1))"
   ]
  },
  {
   "cell_type": "code",
   "execution_count": 301,
   "metadata": {},
   "outputs": [
    {
     "data": {
      "text/plain": [
       "LeveneResult(statistic=2.120779681949321, pvalue=0.14533592236532547)"
      ]
     },
     "execution_count": 301,
     "metadata": {},
     "output_type": "execute_result"
    }
   ],
   "source": [
    "stats.levene(df_c_1901_1, df_c_2001_1)"
   ]
  },
  {
   "cell_type": "code",
   "execution_count": 302,
   "metadata": {},
   "outputs": [
    {
     "data": {
      "text/plain": [
       "Ttest_indResult(statistic=2.729191628793607, pvalue=0.0063572439586522915)"
      ]
     },
     "execution_count": 302,
     "metadata": {},
     "output_type": "execute_result"
    }
   ],
   "source": [
    "stats.ttest_ind(df_c_1901_1, df_c_2001_1, equal_var=True)"
   ]
  },
  {
   "cell_type": "markdown",
   "metadata": {},
   "source": [
    "### 카페 2월"
   ]
  },
  {
   "cell_type": "code",
   "execution_count": 303,
   "metadata": {},
   "outputs": [
    {
     "name": "stdout",
     "output_type": "stream",
     "text": [
      "201901 평균 :  5.0483683414481835\n",
      "202002 평균 :  5.1556312886380375\n"
     ]
    }
   ],
   "source": [
    "df_c_1902_1 = np.array(df_cafe_1902['Log10_금액'])\n",
    "df_c_2002_1 = np.array(df_cafe_2002['Log10_금액'])\n",
    "print('201901 평균 : ',np.mean(df_c_1902_1))\n",
    "print('202002 평균 : ',np.mean(df_c_2002_1))"
   ]
  },
  {
   "cell_type": "code",
   "execution_count": 304,
   "metadata": {},
   "outputs": [
    {
     "data": {
      "text/plain": [
       "LeveneResult(statistic=22.200998283809334, pvalue=2.4833890725977257e-06)"
      ]
     },
     "execution_count": 304,
     "metadata": {},
     "output_type": "execute_result"
    }
   ],
   "source": [
    "stats.levene(df_c_1902_1, df_c_2002_1)"
   ]
  },
  {
   "cell_type": "code",
   "execution_count": 305,
   "metadata": {},
   "outputs": [
    {
     "data": {
      "text/plain": [
       "Ttest_indResult(statistic=-8.060985099856008, pvalue=8.397364457197866e-16)"
      ]
     },
     "execution_count": 305,
     "metadata": {},
     "output_type": "execute_result"
    }
   ],
   "source": [
    "stats.ttest_ind(df_c_1902_1, df_c_2002_1, equal_var=False)"
   ]
  },
  {
   "cell_type": "markdown",
   "metadata": {},
   "source": [
    "### 카페 3월"
   ]
  },
  {
   "cell_type": "code",
   "execution_count": 306,
   "metadata": {},
   "outputs": [
    {
     "name": "stdout",
     "output_type": "stream",
     "text": [
      "201903 평균 :  5.09509369831541\n",
      "202003 평균 :  5.222014859135214\n"
     ]
    }
   ],
   "source": [
    "df_c_1903_1 = np.array(df_cafe_1903['Log10_금액'])\n",
    "df_c_2003_1 = np.array(df_cafe_2003['Log10_금액'])\n",
    "print('201903 평균 : ',np.mean(df_c_1903_1))\n",
    "print('202003 평균 : ',np.mean(df_c_2003_1))"
   ]
  },
  {
   "cell_type": "code",
   "execution_count": 307,
   "metadata": {},
   "outputs": [
    {
     "data": {
      "text/plain": [
       "LeveneResult(statistic=4.116625771582053, pvalue=0.04248820956197639)"
      ]
     },
     "execution_count": 307,
     "metadata": {},
     "output_type": "execute_result"
    }
   ],
   "source": [
    "stats.levene(df_c_1903_1, df_c_2003_1)"
   ]
  },
  {
   "cell_type": "code",
   "execution_count": 308,
   "metadata": {},
   "outputs": [
    {
     "data": {
      "text/plain": [
       "Ttest_indResult(statistic=-8.794643765192566, pvalue=1.7359425280512503e-18)"
      ]
     },
     "execution_count": 308,
     "metadata": {},
     "output_type": "execute_result"
    }
   ],
   "source": [
    "stats.ttest_ind(df_c_1903_1, df_c_2003_1, equal_var=False)"
   ]
  },
  {
   "cell_type": "markdown",
   "metadata": {},
   "source": [
    "### 스포츠 1월"
   ]
  },
  {
   "cell_type": "code",
   "execution_count": 309,
   "metadata": {},
   "outputs": [
    {
     "name": "stdout",
     "output_type": "stream",
     "text": [
      "201901 평균 :  6.053863178577422\n",
      "202001 평균 :  6.047532410746838\n"
     ]
    }
   ],
   "source": [
    "df_s_1901_1 = np.array(df_sports_1901['Log10_금액'])\n",
    "df_s_2001_1 = np.array(df_sports_2001['Log10_금액'])\n",
    "print('201901 평균 : ',np.mean(df_s_1901_1))\n",
    "print('202001 평균 : ',np.mean(df_s_2001_1))"
   ]
  },
  {
   "cell_type": "code",
   "execution_count": 310,
   "metadata": {},
   "outputs": [
    {
     "data": {
      "text/plain": [
       "LeveneResult(statistic=5.408900464709576, pvalue=0.020086756719661928)"
      ]
     },
     "execution_count": 310,
     "metadata": {},
     "output_type": "execute_result"
    }
   ],
   "source": [
    "stats.levene(df_s_1901_1, df_s_2001_1)"
   ]
  },
  {
   "cell_type": "code",
   "execution_count": 311,
   "metadata": {},
   "outputs": [
    {
     "data": {
      "text/plain": [
       "Ttest_indResult(statistic=0.28051188874156546, pvalue=0.7791001206047452)"
      ]
     },
     "execution_count": 311,
     "metadata": {},
     "output_type": "execute_result"
    }
   ],
   "source": [
    "stats.ttest_ind(df_s_1901_1, df_s_2001_1, equal_var=False)"
   ]
  },
  {
   "cell_type": "markdown",
   "metadata": {},
   "source": [
    "### 스포츠 2월"
   ]
  },
  {
   "cell_type": "code",
   "execution_count": 312,
   "metadata": {},
   "outputs": [
    {
     "name": "stdout",
     "output_type": "stream",
     "text": [
      "201902 평균 :  6.054733746626083\n",
      "202002 평균 :  6.004369039082129\n"
     ]
    }
   ],
   "source": [
    "df_s_1902_1 = np.array(df_sports_1902['Log10_금액'])\n",
    "df_s_2002_1 = np.array(df_sports_2002['Log10_금액'])\n",
    "print('201902 평균 : ',np.mean(df_s_1902_1))\n",
    "print('202002 평균 : ',np.mean(df_s_2002_1))"
   ]
  },
  {
   "cell_type": "code",
   "execution_count": 313,
   "metadata": {},
   "outputs": [
    {
     "data": {
      "text/plain": [
       "LeveneResult(statistic=2.7921917601511312, pvalue=0.09481363438750658)"
      ]
     },
     "execution_count": 313,
     "metadata": {},
     "output_type": "execute_result"
    }
   ],
   "source": [
    "stats.levene(df_s_1902_1, df_s_2002_1)"
   ]
  },
  {
   "cell_type": "code",
   "execution_count": 467,
   "metadata": {},
   "outputs": [
    {
     "data": {
      "text/plain": [
       "Ttest_indResult(statistic=2.2241643392015034, pvalue=0.02620069920670168)"
      ]
     },
     "execution_count": 467,
     "metadata": {},
     "output_type": "execute_result"
    }
   ],
   "source": [
    "stats.ttest_ind(df_s_1902_1, df_s_2002_1, equal_var=True)"
   ]
  },
  {
   "cell_type": "markdown",
   "metadata": {},
   "source": [
    "### 스포츠 3월"
   ]
  },
  {
   "cell_type": "code",
   "execution_count": 315,
   "metadata": {},
   "outputs": [
    {
     "name": "stdout",
     "output_type": "stream",
     "text": [
      "201903 평균 :  6.012038247776921\n",
      "202003 평균 :  5.949325284143789\n"
     ]
    }
   ],
   "source": [
    "df_s_1903_1 = np.array(df_sports_1903['Log10_금액'])\n",
    "df_s_2003_1 = np.array(df_sports_2003['Log10_금액'])\n",
    "print('201903 평균 : ',np.mean(df_s_1903_1))\n",
    "print('202003 평균 : ',np.mean(df_s_2003_1))"
   ]
  },
  {
   "cell_type": "code",
   "execution_count": 316,
   "metadata": {},
   "outputs": [
    {
     "data": {
      "text/plain": [
       "LeveneResult(statistic=1.0424134304485553, pvalue=0.30732281242708553)"
      ]
     },
     "execution_count": 316,
     "metadata": {},
     "output_type": "execute_result"
    }
   ],
   "source": [
    "stats.levene(df_s_1903_1, df_s_2003_1)"
   ]
  },
  {
   "cell_type": "code",
   "execution_count": 317,
   "metadata": {},
   "outputs": [
    {
     "data": {
      "text/plain": [
       "Ttest_indResult(statistic=2.7421384733534624, pvalue=0.006131324478908421)"
      ]
     },
     "execution_count": 317,
     "metadata": {},
     "output_type": "execute_result"
    }
   ],
   "source": [
    "stats.ttest_ind(df_s_1903_1, df_s_2003_1, equal_var=True)"
   ]
  },
  {
   "cell_type": "markdown",
   "metadata": {},
   "source": [
    "### 일반 음식점업 1월"
   ]
  },
  {
   "cell_type": "code",
   "execution_count": 318,
   "metadata": {},
   "outputs": [
    {
     "name": "stdout",
     "output_type": "stream",
     "text": [
      "201901 평균 :  5.486198127699646\n",
      "202001 평균 :  5.4665891428578375\n"
     ]
    }
   ],
   "source": [
    "df_f_1901_1 = np.array(df_food_1901['Log10_금액'])\n",
    "df_f_2001_1 = np.array(df_food_2001['Log10_금액'])\n",
    "print('201901 평균 : ',np.mean(df_f_1901_1))\n",
    "print('202001 평균 : ',np.mean(df_f_2001_1))"
   ]
  },
  {
   "cell_type": "code",
   "execution_count": 319,
   "metadata": {},
   "outputs": [
    {
     "data": {
      "text/plain": [
       "LeveneResult(statistic=15.023572291318024, pvalue=0.00010628466248501213)"
      ]
     },
     "execution_count": 319,
     "metadata": {},
     "output_type": "execute_result"
    }
   ],
   "source": [
    "stats.levene(df_f_1901_1, df_f_2001_1)"
   ]
  },
  {
   "cell_type": "code",
   "execution_count": 320,
   "metadata": {},
   "outputs": [
    {
     "data": {
      "text/plain": [
       "Ttest_indResult(statistic=3.212253894316517, pvalue=0.0013176482190835998)"
      ]
     },
     "execution_count": 320,
     "metadata": {},
     "output_type": "execute_result"
    }
   ],
   "source": [
    "stats.ttest_ind(df_f_1901_1, df_f_2001_1, equal_var=False)"
   ]
  },
  {
   "cell_type": "markdown",
   "metadata": {},
   "source": [
    "### 일반 음식점업 2월"
   ]
  },
  {
   "cell_type": "code",
   "execution_count": 321,
   "metadata": {},
   "outputs": [
    {
     "name": "stdout",
     "output_type": "stream",
     "text": [
      "201902 평균 :  5.456800769682234\n",
      "202002 평균 :  5.460070268880517\n"
     ]
    }
   ],
   "source": [
    "df_f_1902_1 = np.array(df_food_1902['Log10_금액'])\n",
    "df_f_2002_1 = np.array(df_food_2002['Log10_금액'])\n",
    "print('201902 평균 : ',np.mean(df_f_1902_1))\n",
    "print('202002 평균 : ',np.mean(df_f_2002_1))"
   ]
  },
  {
   "cell_type": "code",
   "execution_count": 322,
   "metadata": {},
   "outputs": [
    {
     "data": {
      "text/plain": [
       "LeveneResult(statistic=45.27087432178224, pvalue=1.7326653722351025e-11)"
      ]
     },
     "execution_count": 322,
     "metadata": {},
     "output_type": "execute_result"
    }
   ],
   "source": [
    "stats.levene(df_f_1902_1, df_f_2002_1)"
   ]
  },
  {
   "cell_type": "code",
   "execution_count": 323,
   "metadata": {},
   "outputs": [
    {
     "data": {
      "text/plain": [
       "Ttest_indResult(statistic=-0.490674348999868, pvalue=0.6236589933981549)"
      ]
     },
     "execution_count": 323,
     "metadata": {},
     "output_type": "execute_result"
    }
   ],
   "source": [
    "stats.ttest_ind(df_f_1902_1, df_f_2002_1, equal_var=False)"
   ]
  },
  {
   "cell_type": "markdown",
   "metadata": {},
   "source": [
    "### 일반 음식점업 3월"
   ]
  },
  {
   "cell_type": "code",
   "execution_count": 324,
   "metadata": {},
   "outputs": [
    {
     "name": "stdout",
     "output_type": "stream",
     "text": [
      "201903 평균 :  5.488599520580235\n",
      "202003 평균 :  5.481529085683175\n"
     ]
    }
   ],
   "source": [
    "df_f_1903_1 = np.array(df_food_1903['Log10_금액'])\n",
    "df_f_2003_1 = np.array(df_food_2003['Log10_금액'])\n",
    "print('201903 평균 : ',np.mean(df_f_1903_1))\n",
    "print('202003 평균 : ',np.mean(df_f_2003_1))"
   ]
  },
  {
   "cell_type": "code",
   "execution_count": 325,
   "metadata": {},
   "outputs": [
    {
     "data": {
      "text/plain": [
       "LeveneResult(statistic=106.23131771826459, pvalue=6.963127672252634e-25)"
      ]
     },
     "execution_count": 325,
     "metadata": {},
     "output_type": "execute_result"
    }
   ],
   "source": [
    "stats.levene(df_f_1903_1, df_f_2003_1)"
   ]
  },
  {
   "cell_type": "code",
   "execution_count": 326,
   "metadata": {},
   "outputs": [
    {
     "data": {
      "text/plain": [
       "Ttest_indResult(statistic=0.9122612909732283, pvalue=0.3616385056336595)"
      ]
     },
     "execution_count": 326,
     "metadata": {},
     "output_type": "execute_result"
    }
   ],
   "source": [
    "stats.ttest_ind(df_f_1903_1, df_f_2003_1, equal_var=False)"
   ]
  },
  {
   "cell_type": "code",
   "execution_count": null,
   "metadata": {},
   "outputs": [],
   "source": []
  },
  {
   "cell_type": "markdown",
   "metadata": {},
   "source": [
    "## 연령대"
   ]
  },
  {
   "cell_type": "markdown",
   "metadata": {},
   "source": [
    "### 관광업 1월"
   ]
  },
  {
   "cell_type": "code",
   "execution_count": 327,
   "metadata": {},
   "outputs": [
    {
     "name": "stdout",
     "output_type": "stream",
     "text": [
      "201901 평균 :  45.34156378600823\n",
      "202001 평균 :  44.421875\n"
     ]
    }
   ],
   "source": [
    "df_t_1901_2 = np.array(df_tour_1901['연령대'])\n",
    "df_t_2001_2 = np.array(df_tour_2001['연령대'])\n",
    "print('201901 평균 : ',np.mean(df_t_1901_2))\n",
    "print('202001 평균 : ',np.mean(df_t_2001_2))"
   ]
  },
  {
   "cell_type": "code",
   "execution_count": 328,
   "metadata": {},
   "outputs": [
    {
     "data": {
      "text/plain": [
       "LeveneResult(statistic=0.002184538007627243, pvalue=0.9627249572523904)"
      ]
     },
     "execution_count": 328,
     "metadata": {},
     "output_type": "execute_result"
    }
   ],
   "source": [
    "stats.levene(df_t_1901_2, df_t_2001_2)"
   ]
  },
  {
   "cell_type": "code",
   "execution_count": 329,
   "metadata": {},
   "outputs": [
    {
     "data": {
      "text/plain": [
       "Ttest_indResult(statistic=1.848639245326813, pvalue=0.06462825842570197)"
      ]
     },
     "execution_count": 329,
     "metadata": {},
     "output_type": "execute_result"
    }
   ],
   "source": [
    "stats.ttest_ind(df_t_1901_2, df_t_2001_2, equal_var=True)"
   ]
  },
  {
   "cell_type": "markdown",
   "metadata": {},
   "source": [
    "### 관광업 2월"
   ]
  },
  {
   "cell_type": "code",
   "execution_count": 330,
   "metadata": {},
   "outputs": [
    {
     "name": "stdout",
     "output_type": "stream",
     "text": [
      "201902 평균 :  45.76544315129812\n",
      "202002 평균 :  45.36259541984733\n"
     ]
    }
   ],
   "source": [
    "df_t_1902_2 = np.array(df_tour_1902['연령대'])\n",
    "df_t_2002_2 = np.array(df_tour_2002['연령대'])\n",
    "print('201902 평균 : ',np.mean(df_t_1902_2))\n",
    "print('202002 평균 : ',np.mean(df_t_2002_2))"
   ]
  },
  {
   "cell_type": "code",
   "execution_count": 331,
   "metadata": {},
   "outputs": [
    {
     "data": {
      "text/plain": [
       "LeveneResult(statistic=0.7433153562757394, pvalue=0.3887270400440531)"
      ]
     },
     "execution_count": 331,
     "metadata": {},
     "output_type": "execute_result"
    }
   ],
   "source": [
    "stats.levene(df_t_1902_2, df_t_2002_2)"
   ]
  },
  {
   "cell_type": "code",
   "execution_count": 332,
   "metadata": {},
   "outputs": [
    {
     "data": {
      "text/plain": [
       "Ttest_indResult(statistic=0.5904766774958107, pvalue=0.5549525223164018)"
      ]
     },
     "execution_count": 332,
     "metadata": {},
     "output_type": "execute_result"
    }
   ],
   "source": [
    "stats.ttest_ind(df_t_1902_2, df_t_2002_2, equal_var=True)"
   ]
  },
  {
   "cell_type": "markdown",
   "metadata": {},
   "source": [
    "### 관광업 3월"
   ]
  },
  {
   "cell_type": "code",
   "execution_count": 333,
   "metadata": {},
   "outputs": [
    {
     "name": "stdout",
     "output_type": "stream",
     "text": [
      "201903 평균 :  45.80933465739821\n",
      "202003 평균 :  48.51239669421488\n"
     ]
    }
   ],
   "source": [
    "df_t_1903_2 = np.array(df_tour_1903['연령대'])\n",
    "df_t_2003_2 = np.array(df_tour_2003['연령대'])\n",
    "print('201903 평균 : ',np.mean(df_t_1903_2))\n",
    "print('202003 평균 : ',np.mean(df_t_2003_2))"
   ]
  },
  {
   "cell_type": "code",
   "execution_count": 334,
   "metadata": {},
   "outputs": [
    {
     "data": {
      "text/plain": [
       "LeveneResult(statistic=0.8255100691204131, pvalue=0.36376848039645404)"
      ]
     },
     "execution_count": 334,
     "metadata": {},
     "output_type": "execute_result"
    }
   ],
   "source": [
    "stats.levene(df_t_1903_2, df_t_2003_2)"
   ]
  },
  {
   "cell_type": "code",
   "execution_count": 335,
   "metadata": {},
   "outputs": [
    {
     "data": {
      "text/plain": [
       "Ttest_indResult(statistic=-2.1704631136910386, pvalue=0.030180232935278224)"
      ]
     },
     "execution_count": 335,
     "metadata": {},
     "output_type": "execute_result"
    }
   ],
   "source": [
    "stats.ttest_ind(df_t_1903_2, df_t_2003_2, equal_var=True)"
   ]
  },
  {
   "cell_type": "markdown",
   "metadata": {},
   "source": [
    "### 전시회 1월"
   ]
  },
  {
   "cell_type": "code",
   "execution_count": 336,
   "metadata": {},
   "outputs": [
    {
     "name": "stdout",
     "output_type": "stream",
     "text": [
      "201901 평균 :  38.37384744341995\n",
      "202001 평균 :  38.4853291038858\n"
     ]
    }
   ],
   "source": [
    "df_d_1901_2 = np.array(df_dis_1901['연령대'])\n",
    "df_d_2001_2 = np.array(df_dis_2001['연령대'])\n",
    "print('201901 평균 : ',np.mean(df_d_1901_2))\n",
    "print('202001 평균 : ',np.mean(df_d_2001_2))"
   ]
  },
  {
   "cell_type": "code",
   "execution_count": 337,
   "metadata": {},
   "outputs": [
    {
     "data": {
      "text/plain": [
       "LeveneResult(statistic=3.1707889731052648, pvalue=0.0750900026176484)"
      ]
     },
     "execution_count": 337,
     "metadata": {},
     "output_type": "execute_result"
    }
   ],
   "source": [
    "stats.levene(df_d_1901_2, df_d_2001_2)"
   ]
  },
  {
   "cell_type": "code",
   "execution_count": 338,
   "metadata": {},
   "outputs": [
    {
     "data": {
      "text/plain": [
       "Ttest_indResult(statistic=-0.23486979546121775, pvalue=0.8143294048220734)"
      ]
     },
     "execution_count": 338,
     "metadata": {},
     "output_type": "execute_result"
    }
   ],
   "source": [
    "stats.ttest_ind(df_d_1901_2, df_d_2001_2, equal_var=True)"
   ]
  },
  {
   "cell_type": "markdown",
   "metadata": {},
   "source": [
    "### 전시회 2월"
   ]
  },
  {
   "cell_type": "code",
   "execution_count": 339,
   "metadata": {},
   "outputs": [
    {
     "name": "stdout",
     "output_type": "stream",
     "text": [
      "201902 평균 :  38.57378400659522\n",
      "202002 평균 :  37.12078651685393\n"
     ]
    }
   ],
   "source": [
    "df_d_1902_2 = np.array(df_dis_1902['연령대'])\n",
    "df_d_2002_2 = np.array(df_dis_2002['연령대'])\n",
    "print('201902 평균 : ',np.mean(df_d_1902_2))\n",
    "print('202002 평균 : ',np.mean(df_d_2002_2))"
   ]
  },
  {
   "cell_type": "code",
   "execution_count": 340,
   "metadata": {},
   "outputs": [
    {
     "data": {
      "text/plain": [
       "LeveneResult(statistic=9.920971800342747, pvalue=0.001659180196619012)"
      ]
     },
     "execution_count": 340,
     "metadata": {},
     "output_type": "execute_result"
    }
   ],
   "source": [
    "stats.levene(df_d_1902_2, df_d_2002_2)"
   ]
  },
  {
   "cell_type": "code",
   "execution_count": 341,
   "metadata": {},
   "outputs": [
    {
     "data": {
      "text/plain": [
       "Ttest_indResult(statistic=2.405964018615298, pvalue=0.016257098759077757)"
      ]
     },
     "execution_count": 341,
     "metadata": {},
     "output_type": "execute_result"
    }
   ],
   "source": [
    "stats.ttest_ind(df_d_1902_2, df_d_2002_2, equal_var=False)"
   ]
  },
  {
   "cell_type": "markdown",
   "metadata": {},
   "source": [
    "### 전시회 3월"
   ]
  },
  {
   "cell_type": "code",
   "execution_count": 342,
   "metadata": {},
   "outputs": [
    {
     "name": "stdout",
     "output_type": "stream",
     "text": [
      "201903 평균 :  38.99404367968233\n",
      "202003 평균 :  37.308868501529055\n"
     ]
    }
   ],
   "source": [
    "df_d_1903_2 = np.array(df_dis_1903['연령대'])\n",
    "df_d_2003_2 = np.array(df_dis_2003['연령대'])\n",
    "print('201903 평균 : ',np.mean(df_d_1903_2))\n",
    "print('202003 평균 : ',np.mean(df_d_2003_2))"
   ]
  },
  {
   "cell_type": "code",
   "execution_count": 343,
   "metadata": {},
   "outputs": [
    {
     "data": {
      "text/plain": [
       "LeveneResult(statistic=7.293220984480971, pvalue=0.006985115890831519)"
      ]
     },
     "execution_count": 343,
     "metadata": {},
     "output_type": "execute_result"
    }
   ],
   "source": [
    "stats.levene(df_d_1903_2, df_d_2003_2)"
   ]
  },
  {
   "cell_type": "code",
   "execution_count": 344,
   "metadata": {},
   "outputs": [
    {
     "data": {
      "text/plain": [
       "Ttest_indResult(statistic=2.2648147264310947, pvalue=0.023983982640539955)"
      ]
     },
     "execution_count": 344,
     "metadata": {},
     "output_type": "execute_result"
    }
   ],
   "source": [
    "stats.ttest_ind(df_d_1903_2, df_d_2003_2, equal_var=False)"
   ]
  },
  {
   "cell_type": "markdown",
   "metadata": {},
   "source": [
    "### 카페 1월"
   ]
  },
  {
   "cell_type": "code",
   "execution_count": 345,
   "metadata": {},
   "outputs": [
    {
     "name": "stdout",
     "output_type": "stream",
     "text": [
      "201901 평균 :  35.287596401028274\n",
      "202001 평균 :  34.74486966167498\n"
     ]
    }
   ],
   "source": [
    "df_c_1901_2 = np.array(df_cafe_1901['연령대'])\n",
    "df_c_2001_2 = np.array(df_cafe_2001['연령대'])\n",
    "print('201901 평균 : ',np.mean(df_c_1901_2))\n",
    "print('202001 평균 : ',np.mean(df_c_2001_2))"
   ]
  },
  {
   "cell_type": "code",
   "execution_count": 346,
   "metadata": {},
   "outputs": [
    {
     "data": {
      "text/plain": [
       "LeveneResult(statistic=0.9882761413157473, pvalue=0.32018197117556835)"
      ]
     },
     "execution_count": 346,
     "metadata": {},
     "output_type": "execute_result"
    }
   ],
   "source": [
    "stats.levene(df_c_1901_2, df_c_2001_2)"
   ]
  },
  {
   "cell_type": "code",
   "execution_count": 348,
   "metadata": {},
   "outputs": [
    {
     "data": {
      "text/plain": [
       "Ttest_indResult(statistic=2.271231090295986, pvalue=0.02314874301754909)"
      ]
     },
     "execution_count": 348,
     "metadata": {},
     "output_type": "execute_result"
    }
   ],
   "source": [
    "stats.ttest_ind(df_c_1901_2, df_c_2001_2, equal_var=True)"
   ]
  },
  {
   "cell_type": "markdown",
   "metadata": {},
   "source": [
    "### 카페 2월"
   ]
  },
  {
   "cell_type": "code",
   "execution_count": 349,
   "metadata": {},
   "outputs": [
    {
     "name": "stdout",
     "output_type": "stream",
     "text": [
      "201902 평균 :  34.70579710144928\n",
      "202002 평균 :  34.387631366208566\n"
     ]
    }
   ],
   "source": [
    "df_c_1902_2 = np.array(df_cafe_1902['연령대'])\n",
    "df_c_2002_2 = np.array(df_cafe_2002['연령대'])\n",
    "print('201902 평균 : ',np.mean(df_c_1902_2))\n",
    "print('202002 평균 : ',np.mean(df_c_2002_2))"
   ]
  },
  {
   "cell_type": "code",
   "execution_count": 350,
   "metadata": {},
   "outputs": [
    {
     "data": {
      "text/plain": [
       "LeveneResult(statistic=22.91394639806433, pvalue=1.7146637160056196e-06)"
      ]
     },
     "execution_count": 350,
     "metadata": {},
     "output_type": "execute_result"
    }
   ],
   "source": [
    "stats.levene(df_c_1902_2, df_c_2002_2)"
   ]
  },
  {
   "cell_type": "code",
   "execution_count": 351,
   "metadata": {},
   "outputs": [
    {
     "data": {
      "text/plain": [
       "Ttest_indResult(statistic=1.2296468591116396, pvalue=0.2188574982750557)"
      ]
     },
     "execution_count": 351,
     "metadata": {},
     "output_type": "execute_result"
    }
   ],
   "source": [
    "stats.ttest_ind(df_c_1902_2, df_c_2002_2, equal_var=False)"
   ]
  },
  {
   "cell_type": "markdown",
   "metadata": {},
   "source": [
    "### 카페 3월"
   ]
  },
  {
   "cell_type": "code",
   "execution_count": 352,
   "metadata": {},
   "outputs": [
    {
     "name": "stdout",
     "output_type": "stream",
     "text": [
      "201903 평균 :  34.30984695350852\n",
      "202003 평균 :  34.961139896373055\n"
     ]
    }
   ],
   "source": [
    "df_c_1903_2 = np.array(df_cafe_1903['연령대'])\n",
    "df_c_2003_2 = np.array(df_cafe_2003['연령대'])\n",
    "print('201903 평균 : ',np.mean(df_c_1903_2))\n",
    "print('202003 평균 : ',np.mean(df_c_2003_2))"
   ]
  },
  {
   "cell_type": "code",
   "execution_count": 353,
   "metadata": {},
   "outputs": [
    {
     "data": {
      "text/plain": [
       "LeveneResult(statistic=3.0670919002725747, pvalue=0.07992069877072126)"
      ]
     },
     "execution_count": 353,
     "metadata": {},
     "output_type": "execute_result"
    }
   ],
   "source": [
    "stats.levene(df_c_1903_2, df_c_2003_2)"
   ]
  },
  {
   "cell_type": "code",
   "execution_count": 354,
   "metadata": {},
   "outputs": [
    {
     "data": {
      "text/plain": [
       "Ttest_indResult(statistic=-2.3213100037040966, pvalue=0.020288662540453556)"
      ]
     },
     "execution_count": 354,
     "metadata": {},
     "output_type": "execute_result"
    }
   ],
   "source": [
    "stats.ttest_ind(df_c_1903_2, df_c_2003_2, equal_var=True)"
   ]
  },
  {
   "cell_type": "markdown",
   "metadata": {},
   "source": [
    "### 스포츠 1월"
   ]
  },
  {
   "cell_type": "code",
   "execution_count": 355,
   "metadata": {},
   "outputs": [
    {
     "name": "stdout",
     "output_type": "stream",
     "text": [
      "201901 평균 :  41.41361256544503\n",
      "202001 평균 :  39.894067796610166\n"
     ]
    }
   ],
   "source": [
    "df_s_1901_2 = np.array(df_sports_1901['연령대'])\n",
    "df_s_2001_2 = np.array(df_sports_2001['연령대'])\n",
    "print('201901 평균 : ',np.mean(df_s_1901_2))\n",
    "print('202001 평균 : ',np.mean(df_s_2001_2))"
   ]
  },
  {
   "cell_type": "code",
   "execution_count": 356,
   "metadata": {},
   "outputs": [
    {
     "data": {
      "text/plain": [
       "LeveneResult(statistic=0.03875638545351423, pvalue=0.8439426152964272)"
      ]
     },
     "execution_count": 356,
     "metadata": {},
     "output_type": "execute_result"
    }
   ],
   "source": [
    "stats.levene(df_s_1901_2, df_s_2001_2)"
   ]
  },
  {
   "cell_type": "code",
   "execution_count": 357,
   "metadata": {},
   "outputs": [
    {
     "data": {
      "text/plain": [
       "Ttest_indResult(statistic=3.096110119579264, pvalue=0.001975078156866936)"
      ]
     },
     "execution_count": 357,
     "metadata": {},
     "output_type": "execute_result"
    }
   ],
   "source": [
    "stats.ttest_ind(df_s_1901_2, df_s_2001_2, equal_var=True)"
   ]
  },
  {
   "cell_type": "markdown",
   "metadata": {},
   "source": [
    "### 스포츠 2월"
   ]
  },
  {
   "cell_type": "code",
   "execution_count": 358,
   "metadata": {},
   "outputs": [
    {
     "name": "stdout",
     "output_type": "stream",
     "text": [
      "201902 평균 :  40.03051881993896\n",
      "202002 평균 :  40.225806451612904\n"
     ]
    }
   ],
   "source": [
    "df_s_1902_2 = np.array(df_sports_1902['연령대'])\n",
    "df_s_2002_2 = np.array(df_sports_2002['연령대'])\n",
    "print('201902 평균 : ',np.mean(df_s_1902_2))\n",
    "print('202002 평균 : ',np.mean(df_s_2002_2))"
   ]
  },
  {
   "cell_type": "code",
   "execution_count": 359,
   "metadata": {},
   "outputs": [
    {
     "data": {
      "text/plain": [
       "LeveneResult(statistic=1.1495108819371473, pvalue=0.2837251882119187)"
      ]
     },
     "execution_count": 359,
     "metadata": {},
     "output_type": "execute_result"
    }
   ],
   "source": [
    "stats.levene(df_s_1902_2, df_s_2002_2)"
   ]
  },
  {
   "cell_type": "code",
   "execution_count": 360,
   "metadata": {},
   "outputs": [
    {
     "data": {
      "text/plain": [
       "Ttest_indResult(statistic=-0.3747127782898768, pvalue=0.7078966994434119)"
      ]
     },
     "execution_count": 360,
     "metadata": {},
     "output_type": "execute_result"
    }
   ],
   "source": [
    "stats.ttest_ind(df_s_1902_2, df_s_2002_2, equal_var=True)"
   ]
  },
  {
   "cell_type": "markdown",
   "metadata": {},
   "source": [
    "### 스포츠 3월"
   ]
  },
  {
   "cell_type": "code",
   "execution_count": 361,
   "metadata": {},
   "outputs": [
    {
     "name": "stdout",
     "output_type": "stream",
     "text": [
      "201903 평균 :  40.85631947303417\n",
      "202003 평균 :  40.51347881899871\n"
     ]
    }
   ],
   "source": [
    "df_s_1903_2 = np.array(df_sports_1903['연령대'])\n",
    "df_s_2003_2 = np.array(df_sports_2003['연령대'])\n",
    "print('201903 평균 : ',np.mean(df_s_1903_2))\n",
    "print('202003 평균 : ',np.mean(df_s_2003_2))"
   ]
  },
  {
   "cell_type": "code",
   "execution_count": 362,
   "metadata": {},
   "outputs": [
    {
     "data": {
      "text/plain": [
       "LeveneResult(statistic=1.623268363590878, pvalue=0.20271095970137218)"
      ]
     },
     "execution_count": 362,
     "metadata": {},
     "output_type": "execute_result"
    }
   ],
   "source": [
    "stats.levene(df_s_1903_2, df_s_2003_2)"
   ]
  },
  {
   "cell_type": "code",
   "execution_count": 363,
   "metadata": {},
   "outputs": [
    {
     "data": {
      "text/plain": [
       "Ttest_indResult(statistic=0.6993538564318972, pvalue=0.4843717347895069)"
      ]
     },
     "execution_count": 363,
     "metadata": {},
     "output_type": "execute_result"
    }
   ],
   "source": [
    "stats.ttest_ind(df_s_1903_2, df_s_2003_2, equal_var=True)"
   ]
  },
  {
   "cell_type": "markdown",
   "metadata": {},
   "source": [
    "### 일반 음식점 1월"
   ]
  },
  {
   "cell_type": "code",
   "execution_count": 364,
   "metadata": {},
   "outputs": [
    {
     "name": "stdout",
     "output_type": "stream",
     "text": [
      "201901 평균 :  39.071517780845326\n",
      "202001 평균 :  38.545499597348694\n"
     ]
    }
   ],
   "source": [
    "df_f_1901_2 = np.array(df_food_1901['연령대'])\n",
    "df_f_2001_2 = np.array(df_food_2001['연령대'])\n",
    "print('201901 평균 : ',np.mean(df_f_1901_2))\n",
    "print('202001 평균 : ',np.mean(df_f_2001_2))"
   ]
  },
  {
   "cell_type": "code",
   "execution_count": 365,
   "metadata": {},
   "outputs": [
    {
     "data": {
      "text/plain": [
       "LeveneResult(statistic=0.3112480244081133, pvalue=0.5769173471937035)"
      ]
     },
     "execution_count": 365,
     "metadata": {},
     "output_type": "execute_result"
    }
   ],
   "source": [
    "stats.levene(df_f_1901_2, df_f_2001_2)"
   ]
  },
  {
   "cell_type": "code",
   "execution_count": 366,
   "metadata": {},
   "outputs": [
    {
     "data": {
      "text/plain": [
       "Ttest_indResult(statistic=4.653702650195855, pvalue=3.2669235947768307e-06)"
      ]
     },
     "execution_count": 366,
     "metadata": {},
     "output_type": "execute_result"
    }
   ],
   "source": [
    "stats.ttest_ind(df_f_1901_2, df_f_2001_2, equal_var=True)"
   ]
  },
  {
   "cell_type": "markdown",
   "metadata": {},
   "source": [
    "### 일반 음식점 2월"
   ]
  },
  {
   "cell_type": "code",
   "execution_count": 367,
   "metadata": {},
   "outputs": [
    {
     "name": "stdout",
     "output_type": "stream",
     "text": [
      "201902 평균 :  38.48709073009623\n",
      "202002 평균 :  38.48449612403101\n"
     ]
    }
   ],
   "source": [
    "df_f_1902_2 = np.array(df_food_1902['연령대'])\n",
    "df_f_2002_2 = np.array(df_food_2002['연령대'])\n",
    "print('201902 평균 : ',np.mean(df_f_1902_2))\n",
    "print('202002 평균 : ',np.mean(df_f_2002_2))"
   ]
  },
  {
   "cell_type": "code",
   "execution_count": 368,
   "metadata": {},
   "outputs": [
    {
     "data": {
      "text/plain": [
       "LeveneResult(statistic=44.09134133896229, pvalue=3.163255424758987e-11)"
      ]
     },
     "execution_count": 368,
     "metadata": {},
     "output_type": "execute_result"
    }
   ],
   "source": [
    "stats.levene(df_f_1902_2, df_f_2002_2)"
   ]
  },
  {
   "cell_type": "code",
   "execution_count": 369,
   "metadata": {},
   "outputs": [
    {
     "data": {
      "text/plain": [
       "Ttest_indResult(statistic=0.021139208111999905, pvalue=0.9831346942529982)"
      ]
     },
     "execution_count": 369,
     "metadata": {},
     "output_type": "execute_result"
    }
   ],
   "source": [
    "stats.ttest_ind(df_f_1902_2, df_f_2002_2, equal_var=False)"
   ]
  },
  {
   "cell_type": "markdown",
   "metadata": {},
   "source": [
    "### 일반 음식점 3월"
   ]
  },
  {
   "cell_type": "code",
   "execution_count": 370,
   "metadata": {},
   "outputs": [
    {
     "name": "stdout",
     "output_type": "stream",
     "text": [
      "201903 평균 :  38.66697559468644\n",
      "202003 평균 :  39.39108007800214\n"
     ]
    }
   ],
   "source": [
    "df_f_1903_2 = np.array(df_food_1903['연령대'])\n",
    "df_f_2003_2 = np.array(df_food_2003['연령대'])\n",
    "print('201903 평균 : ',np.mean(df_f_1903_2))\n",
    "print('202003 평균 : ',np.mean(df_f_2003_2))"
   ]
  },
  {
   "cell_type": "code",
   "execution_count": 371,
   "metadata": {},
   "outputs": [
    {
     "data": {
      "text/plain": [
       "LeveneResult(statistic=11.021014715581872, pvalue=0.0009015145791622503)"
      ]
     },
     "execution_count": 371,
     "metadata": {},
     "output_type": "execute_result"
    }
   ],
   "source": [
    "stats.levene(df_f_1903_2, df_f_2003_2)"
   ]
  },
  {
   "cell_type": "code",
   "execution_count": 372,
   "metadata": {},
   "outputs": [
    {
     "data": {
      "text/plain": [
       "Ttest_indResult(statistic=-5.228332679187183, pvalue=1.7212485738757925e-07)"
      ]
     },
     "execution_count": 372,
     "metadata": {},
     "output_type": "execute_result"
    }
   ],
   "source": [
    "stats.ttest_ind(df_f_1903_2, df_f_2003_2, equal_var=False)"
   ]
  },
  {
   "cell_type": "code",
   "execution_count": null,
   "metadata": {},
   "outputs": [],
   "source": []
  },
  {
   "cell_type": "markdown",
   "metadata": {},
   "source": [
    "## 건수"
   ]
  },
  {
   "cell_type": "markdown",
   "metadata": {},
   "source": [
    "### 광관업 1월"
   ]
  },
  {
   "cell_type": "code",
   "execution_count": 373,
   "metadata": {},
   "outputs": [
    {
     "name": "stdout",
     "output_type": "stream",
     "text": [
      "201901 평균 :  12.881481481481481\n",
      "202001 평균 :  12.99609375\n"
     ]
    }
   ],
   "source": [
    "df_t_1901_3 = np.array(df_tour_1901['건수'])\n",
    "df_t_2001_3 = np.array(df_tour_2001['건수'])\n",
    "print('201901 평균 : ',np.mean(df_t_1901_3))\n",
    "print('202001 평균 : ',np.mean(df_t_2001_3))"
   ]
  },
  {
   "cell_type": "code",
   "execution_count": 374,
   "metadata": {},
   "outputs": [
    {
     "data": {
      "text/plain": [
       "LeveneResult(statistic=0.0032806114904175283, pvalue=0.954329432392089)"
      ]
     },
     "execution_count": 374,
     "metadata": {},
     "output_type": "execute_result"
    }
   ],
   "source": [
    "stats.levene(df_t_1901_3, df_t_2001_3)"
   ]
  },
  {
   "cell_type": "code",
   "execution_count": 375,
   "metadata": {},
   "outputs": [
    {
     "data": {
      "text/plain": [
       "Ttest_indResult(statistic=-0.14863985844140504, pvalue=0.8818498415176155)"
      ]
     },
     "execution_count": 375,
     "metadata": {},
     "output_type": "execute_result"
    }
   ],
   "source": [
    "stats.ttest_ind(df_t_1901_3, df_t_2001_3, equal_var=True)"
   ]
  },
  {
   "cell_type": "markdown",
   "metadata": {},
   "source": [
    "### 광관업 2월"
   ]
  },
  {
   "cell_type": "code",
   "execution_count": 376,
   "metadata": {},
   "outputs": [
    {
     "name": "stdout",
     "output_type": "stream",
     "text": [
      "201902 평균 :  12.498657117278425\n",
      "202002 평균 :  12.307251908396946\n"
     ]
    }
   ],
   "source": [
    "df_t_1902_3 = np.array(df_tour_1902['건수'])\n",
    "df_t_2002_3 = np.array(df_tour_2002['건수'])\n",
    "print('201902 평균 : ',np.mean(df_t_1902_3))\n",
    "print('202002 평균 : ',np.mean(df_t_2002_3))"
   ]
  },
  {
   "cell_type": "code",
   "execution_count": 377,
   "metadata": {},
   "outputs": [
    {
     "data": {
      "text/plain": [
       "LeveneResult(statistic=0.015389753198461321, pvalue=0.9012865876422111)"
      ]
     },
     "execution_count": 377,
     "metadata": {},
     "output_type": "execute_result"
    }
   ],
   "source": [
    "stats.levene(df_t_1902_3, df_t_2002_3)"
   ]
  },
  {
   "cell_type": "code",
   "execution_count": 378,
   "metadata": {},
   "outputs": [
    {
     "data": {
      "text/plain": [
       "Ttest_indResult(statistic=0.1983408757312188, pvalue=0.8428029703610312)"
      ]
     },
     "execution_count": 378,
     "metadata": {},
     "output_type": "execute_result"
    }
   ],
   "source": [
    "stats.ttest_ind(df_t_1902_3, df_t_2002_3, equal_var=True)"
   ]
  },
  {
   "cell_type": "markdown",
   "metadata": {},
   "source": [
    "### 광관업 3월"
   ]
  },
  {
   "cell_type": "code",
   "execution_count": 379,
   "metadata": {},
   "outputs": [
    {
     "name": "stdout",
     "output_type": "stream",
     "text": [
      "201903 평균 :  12.528301886792454\n",
      "202003 평균 :  12.28099173553719\n"
     ]
    }
   ],
   "source": [
    "df_t_1903_3 = np.array(df_tour_1903['건수'])\n",
    "df_t_2003_3 = np.array(df_tour_2003['건수'])\n",
    "print('201903 평균 : ',np.mean(df_t_1903_3))\n",
    "print('202003 평균 : ',np.mean(df_t_2003_3))"
   ]
  },
  {
   "cell_type": "code",
   "execution_count": 380,
   "metadata": {},
   "outputs": [
    {
     "data": {
      "text/plain": [
       "LeveneResult(statistic=0.14406299868464495, pvalue=0.7043463613037129)"
      ]
     },
     "execution_count": 380,
     "metadata": {},
     "output_type": "execute_result"
    }
   ],
   "source": [
    "stats.levene(df_t_1903_3, df_t_2003_3)"
   ]
  },
  {
   "cell_type": "code",
   "execution_count": 381,
   "metadata": {},
   "outputs": [
    {
     "data": {
      "text/plain": [
       "Ttest_indResult(statistic=0.13871747665845635, pvalue=0.8896982113204694)"
      ]
     },
     "execution_count": 381,
     "metadata": {},
     "output_type": "execute_result"
    }
   ],
   "source": [
    "stats.ttest_ind(df_t_1903_3, df_t_2003_3, equal_var=True)"
   ]
  },
  {
   "cell_type": "markdown",
   "metadata": {},
   "source": [
    "### 전시회 1월"
   ]
  },
  {
   "cell_type": "code",
   "execution_count": 382,
   "metadata": {},
   "outputs": [
    {
     "name": "stdout",
     "output_type": "stream",
     "text": [
      "201901 평균 :  9.436714165968148\n",
      "202001 평균 :  9.74306106264869\n"
     ]
    }
   ],
   "source": [
    "df_d_1901_3 = np.array(df_dis_1901['건수'])\n",
    "df_d_2001_3 = np.array(df_dis_2001['건수'])\n",
    "print('201901 평균 : ',np.mean(df_d_1901_3))\n",
    "print('202001 평균 : ',np.mean(df_d_2001_3))"
   ]
  },
  {
   "cell_type": "code",
   "execution_count": 383,
   "metadata": {},
   "outputs": [
    {
     "data": {
      "text/plain": [
       "LeveneResult(statistic=0.24065868231836193, pvalue=0.6237746802060193)"
      ]
     },
     "execution_count": 383,
     "metadata": {},
     "output_type": "execute_result"
    }
   ],
   "source": [
    "stats.levene(df_d_1901_3, df_d_2001_3)"
   ]
  },
  {
   "cell_type": "code",
   "execution_count": 384,
   "metadata": {},
   "outputs": [
    {
     "data": {
      "text/plain": [
       "Ttest_indResult(statistic=-0.6263854625696607, pvalue=0.5311204496294204)"
      ]
     },
     "execution_count": 384,
     "metadata": {},
     "output_type": "execute_result"
    }
   ],
   "source": [
    "stats.ttest_ind(df_d_1901_3, df_d_2001_3, equal_var=True)"
   ]
  },
  {
   "cell_type": "markdown",
   "metadata": {},
   "source": [
    "### 전시회 2월"
   ]
  },
  {
   "cell_type": "code",
   "execution_count": 385,
   "metadata": {},
   "outputs": [
    {
     "name": "stdout",
     "output_type": "stream",
     "text": [
      "201902 평균 :  10.934047815333884\n",
      "202002 평균 :  9.457865168539326\n"
     ]
    }
   ],
   "source": [
    "df_d_1902_3 = np.array(df_dis_1902['건수'])\n",
    "df_d_2002_3 = np.array(df_dis_2002['건수'])\n",
    "print('201902 평균 : ',np.mean(df_d_1902_3))\n",
    "print('202002 평균 : ',np.mean(df_d_2002_3))"
   ]
  },
  {
   "cell_type": "code",
   "execution_count": 386,
   "metadata": {},
   "outputs": [
    {
     "data": {
      "text/plain": [
       "LeveneResult(statistic=2.430052107123413, pvalue=0.11919349006039137)"
      ]
     },
     "execution_count": 386,
     "metadata": {},
     "output_type": "execute_result"
    }
   ],
   "source": [
    "stats.levene(df_d_1902_3, df_d_2002_3)"
   ]
  },
  {
   "cell_type": "code",
   "execution_count": 387,
   "metadata": {},
   "outputs": [
    {
     "data": {
      "text/plain": [
       "Ttest_indResult(statistic=1.8382471756602325, pvalue=0.06618014525962539)"
      ]
     },
     "execution_count": 387,
     "metadata": {},
     "output_type": "execute_result"
    }
   ],
   "source": [
    "stats.ttest_ind(df_d_1902_3, df_d_2002_3, equal_var=True)"
   ]
  },
  {
   "cell_type": "markdown",
   "metadata": {},
   "source": [
    "### 전시회 3월"
   ]
  },
  {
   "cell_type": "code",
   "execution_count": 388,
   "metadata": {},
   "outputs": [
    {
     "name": "stdout",
     "output_type": "stream",
     "text": [
      "201903 평균 :  10.939113170086035\n",
      "202003 평균 :  9.755351681957187\n"
     ]
    }
   ],
   "source": [
    "df_d_1903_3 = np.array(df_dis_1903['건수'])\n",
    "df_d_2003_3 = np.array(df_dis_2003['건수'])\n",
    "print('201903 평균 : ',np.mean(df_d_1903_3))\n",
    "print('202003 평균 : ',np.mean(df_d_2003_3))"
   ]
  },
  {
   "cell_type": "code",
   "execution_count": 389,
   "metadata": {},
   "outputs": [
    {
     "data": {
      "text/plain": [
       "LeveneResult(statistic=0.6766624209856508, pvalue=0.4108452020874378)"
      ]
     },
     "execution_count": 389,
     "metadata": {},
     "output_type": "execute_result"
    }
   ],
   "source": [
    "stats.levene(df_d_1903_3, df_d_2003_3)"
   ]
  },
  {
   "cell_type": "code",
   "execution_count": 390,
   "metadata": {},
   "outputs": [
    {
     "data": {
      "text/plain": [
       "Ttest_indResult(statistic=1.0565886589395264, pvalue=0.29083836253857026)"
      ]
     },
     "execution_count": 390,
     "metadata": {},
     "output_type": "execute_result"
    }
   ],
   "source": [
    "stats.ttest_ind(df_d_1903_3, df_d_2003_3, equal_var=True)"
   ]
  },
  {
   "cell_type": "markdown",
   "metadata": {},
   "source": [
    "### 카페 1월"
   ]
  },
  {
   "cell_type": "code",
   "execution_count": 391,
   "metadata": {},
   "outputs": [
    {
     "name": "stdout",
     "output_type": "stream",
     "text": [
      "201901 평균 :  103.12596401028277\n",
      "202001 평균 :  101.54783693843594\n"
     ]
    }
   ],
   "source": [
    "df_c_1901_3 = np.array(df_cafe_1901['건수'])\n",
    "df_c_2001_3 = np.array(df_cafe_2001['건수'])\n",
    "print('201901 평균 : ',np.mean(df_c_1901_3))\n",
    "print('202001 평균 : ',np.mean(df_c_2001_3))"
   ]
  },
  {
   "cell_type": "code",
   "execution_count": 392,
   "metadata": {},
   "outputs": [
    {
     "data": {
      "text/plain": [
       "LeveneResult(statistic=0.026081736671766127, pvalue=0.871703291578059)"
      ]
     },
     "execution_count": 392,
     "metadata": {},
     "output_type": "execute_result"
    }
   ],
   "source": [
    "stats.levene(df_c_1901_3, df_c_2001_3)"
   ]
  },
  {
   "cell_type": "code",
   "execution_count": 393,
   "metadata": {},
   "outputs": [
    {
     "data": {
      "text/plain": [
       "Ttest_indResult(statistic=0.19594608538776967, pvalue=0.8446553291458273)"
      ]
     },
     "execution_count": 393,
     "metadata": {},
     "output_type": "execute_result"
    }
   ],
   "source": [
    "stats.ttest_ind(df_c_1901_3, df_c_2001_3, equal_var=True)"
   ]
  },
  {
   "cell_type": "markdown",
   "metadata": {},
   "source": [
    "### 카페 2월"
   ]
  },
  {
   "cell_type": "code",
   "execution_count": 394,
   "metadata": {},
   "outputs": [
    {
     "name": "stdout",
     "output_type": "stream",
     "text": [
      "201902 평균 :  89.54579710144928\n",
      "202002 평균 :  114.53556992724333\n"
     ]
    }
   ],
   "source": [
    "df_c_1902_3 = np.array(df_cafe_1902['건수'])\n",
    "df_c_2002_3 = np.array(df_cafe_2002['건수'])\n",
    "print('201902 평균 : ',np.mean(df_c_1902_3))\n",
    "print('202002 평균 : ',np.mean(df_c_2002_3))"
   ]
  },
  {
   "cell_type": "code",
   "execution_count": 395,
   "metadata": {},
   "outputs": [
    {
     "data": {
      "text/plain": [
       "LeveneResult(statistic=8.888774945397536, pvalue=0.0028751253797117504)"
      ]
     },
     "execution_count": 395,
     "metadata": {},
     "output_type": "execute_result"
    }
   ],
   "source": [
    "stats.levene(df_c_1902_3, df_c_2002_3)"
   ]
  },
  {
   "cell_type": "code",
   "execution_count": 397,
   "metadata": {},
   "outputs": [
    {
     "data": {
      "text/plain": [
       "Ttest_indResult(statistic=-3.0400063314624046, pvalue=0.0023718543495278304)"
      ]
     },
     "execution_count": 397,
     "metadata": {},
     "output_type": "execute_result"
    }
   ],
   "source": [
    "stats.ttest_ind(df_c_1902_3, df_c_2002_3, equal_var=False)"
   ]
  },
  {
   "cell_type": "markdown",
   "metadata": {},
   "source": [
    "### 카페 3월"
   ]
  },
  {
   "cell_type": "code",
   "execution_count": 398,
   "metadata": {},
   "outputs": [
    {
     "name": "stdout",
     "output_type": "stream",
     "text": [
      "201903 평균 :  110.11651747040139\n",
      "202003 평균 :  124.42487046632124\n"
     ]
    }
   ],
   "source": [
    "df_c_1903_3 = np.array(df_cafe_1903['건수'])\n",
    "df_c_2003_3 = np.array(df_cafe_2003['건수'])\n",
    "print('201903 평균 : ',np.mean(df_c_1903_3))\n",
    "print('202003 평균 : ',np.mean(df_c_2003_3))"
   ]
  },
  {
   "cell_type": "code",
   "execution_count": 399,
   "metadata": {},
   "outputs": [
    {
     "data": {
      "text/plain": [
       "LeveneResult(statistic=1.782265711072532, pvalue=0.18189953739148224)"
      ]
     },
     "execution_count": 399,
     "metadata": {},
     "output_type": "execute_result"
    }
   ],
   "source": [
    "stats.levene(df_c_1903_3, df_c_2003_3)"
   ]
  },
  {
   "cell_type": "code",
   "execution_count": 400,
   "metadata": {},
   "outputs": [
    {
     "data": {
      "text/plain": [
       "Ttest_indResult(statistic=-1.4592114129431242, pvalue=0.14453605483195406)"
      ]
     },
     "execution_count": 400,
     "metadata": {},
     "output_type": "execute_result"
    }
   ],
   "source": [
    "stats.ttest_ind(df_c_1903_3, df_c_2003_3, equal_var=True)"
   ]
  },
  {
   "cell_type": "markdown",
   "metadata": {},
   "source": [
    "### 스포츠 1월"
   ]
  },
  {
   "cell_type": "code",
   "execution_count": 401,
   "metadata": {},
   "outputs": [
    {
     "name": "stdout",
     "output_type": "stream",
     "text": [
      "201901 평균 :  40.31204188481676\n",
      "202001 평균 :  39.01059322033898\n"
     ]
    }
   ],
   "source": [
    "df_s_1901_3 = np.array(df_sports_1901['건수'])\n",
    "df_s_2001_3 = np.array(df_sports_2001['건수'])\n",
    "print('201901 평균 : ',np.mean(df_s_1901_3))\n",
    "print('202001 평균 : ',np.mean(df_s_2001_3))"
   ]
  },
  {
   "cell_type": "code",
   "execution_count": 402,
   "metadata": {},
   "outputs": [
    {
     "data": {
      "text/plain": [
       "LeveneResult(statistic=0.24342544679380204, pvalue=0.6217714914766876)"
      ]
     },
     "execution_count": 402,
     "metadata": {},
     "output_type": "execute_result"
    }
   ],
   "source": [
    "stats.levene(df_s_1901_3, df_s_2001_3)"
   ]
  },
  {
   "cell_type": "code",
   "execution_count": 403,
   "metadata": {},
   "outputs": [
    {
     "data": {
      "text/plain": [
       "Ttest_indResult(statistic=0.4581721397185009, pvalue=0.6468550005261501)"
      ]
     },
     "execution_count": 403,
     "metadata": {},
     "output_type": "execute_result"
    }
   ],
   "source": [
    "stats.ttest_ind(df_s_1901_3, df_s_2001_3, equal_var=True)"
   ]
  },
  {
   "cell_type": "markdown",
   "metadata": {},
   "source": [
    "### 스포츠 2월"
   ]
  },
  {
   "cell_type": "code",
   "execution_count": 404,
   "metadata": {},
   "outputs": [
    {
     "name": "stdout",
     "output_type": "stream",
     "text": [
      "201902 평균 :  40.13428280773143\n",
      "202002 평균 :  33.34322580645161\n"
     ]
    }
   ],
   "source": [
    "df_s_1902_3 = np.array(df_sports_1902['건수'])\n",
    "df_s_2002_3 = np.array(df_sports_2002['건수'])\n",
    "print('201902 평균 : ',np.mean(df_s_1902_3))\n",
    "print('202002 평균 : ',np.mean(df_s_2002_3))"
   ]
  },
  {
   "cell_type": "code",
   "execution_count": 405,
   "metadata": {},
   "outputs": [
    {
     "data": {
      "text/plain": [
       "LeveneResult(statistic=6.586610739745865, pvalue=0.010315932159139472)"
      ]
     },
     "execution_count": 405,
     "metadata": {},
     "output_type": "execute_result"
    }
   ],
   "source": [
    "stats.levene(df_s_1902_3, df_s_2002_3)"
   ]
  },
  {
   "cell_type": "code",
   "execution_count": 406,
   "metadata": {},
   "outputs": [
    {
     "data": {
      "text/plain": [
       "Ttest_indResult(statistic=2.529073489580431, pvalue=0.011479991751305929)"
      ]
     },
     "execution_count": 406,
     "metadata": {},
     "output_type": "execute_result"
    }
   ],
   "source": [
    "stats.ttest_ind(df_s_1902_3, df_s_2002_3, equal_var=False)"
   ]
  },
  {
   "cell_type": "markdown",
   "metadata": {},
   "source": [
    "### 스포츠 3월"
   ]
  },
  {
   "cell_type": "code",
   "execution_count": 407,
   "metadata": {},
   "outputs": [
    {
     "name": "stdout",
     "output_type": "stream",
     "text": [
      "201903 평균 :  45.08316179497736\n",
      "202003 평균 :  34.898587933247754\n"
     ]
    }
   ],
   "source": [
    "df_s_1903_3 = np.array(df_sports_1903['건수'])\n",
    "df_s_2003_3 = np.array(df_sports_2003['건수'])\n",
    "print('201903 평균 : ',np.mean(df_s_1903_3))\n",
    "print('202003 평균 : ',np.mean(df_s_2003_3))"
   ]
  },
  {
   "cell_type": "code",
   "execution_count": 408,
   "metadata": {},
   "outputs": [
    {
     "data": {
      "text/plain": [
       "LeveneResult(statistic=10.551250910721183, pvalue=0.0011707245319847704)"
      ]
     },
     "execution_count": 408,
     "metadata": {},
     "output_type": "execute_result"
    }
   ],
   "source": [
    "stats.levene(df_s_1903_3, df_s_2003_3)"
   ]
  },
  {
   "cell_type": "code",
   "execution_count": 409,
   "metadata": {},
   "outputs": [
    {
     "data": {
      "text/plain": [
       "Ttest_indResult(statistic=3.480258434959996, pvalue=0.0005063025247024074)"
      ]
     },
     "execution_count": 409,
     "metadata": {},
     "output_type": "execute_result"
    }
   ],
   "source": [
    "stats.ttest_ind(df_s_1903_3, df_s_2003_3, equal_var=False)"
   ]
  },
  {
   "cell_type": "markdown",
   "metadata": {},
   "source": [
    "### 일반 음식점업 1월"
   ]
  },
  {
   "cell_type": "code",
   "execution_count": 410,
   "metadata": {},
   "outputs": [
    {
     "name": "stdout",
     "output_type": "stream",
     "text": [
      "201901 평균 :  109.7400249786367\n",
      "202001 평균 :  101.27169671064858\n"
     ]
    }
   ],
   "source": [
    "df_f_1901_3 = np.array(df_food_1901['건수'])\n",
    "df_f_2001_3 = np.array(df_food_2001['건수'])\n",
    "print('201901 평균 : ',np.mean(df_f_1901_3))\n",
    "print('202001 평균 : ',np.mean(df_f_2001_3))"
   ]
  },
  {
   "cell_type": "code",
   "execution_count": 411,
   "metadata": {},
   "outputs": [
    {
     "data": {
      "text/plain": [
       "LeveneResult(statistic=1.9434604692049238, pvalue=0.1632982332220819)"
      ]
     },
     "execution_count": 411,
     "metadata": {},
     "output_type": "execute_result"
    }
   ],
   "source": [
    "stats.levene(df_f_1901_3, df_f_2001_3)"
   ]
  },
  {
   "cell_type": "code",
   "execution_count": 412,
   "metadata": {},
   "outputs": [
    {
     "data": {
      "text/plain": [
       "Ttest_indResult(statistic=1.3873358099262405, pvalue=0.16534431860772048)"
      ]
     },
     "execution_count": 412,
     "metadata": {},
     "output_type": "execute_result"
    }
   ],
   "source": [
    "stats.ttest_ind(df_f_1901_3, df_f_2001_3, equal_var=True)"
   ]
  },
  {
   "cell_type": "markdown",
   "metadata": {},
   "source": [
    "### 일반 음식점업 2월"
   ]
  },
  {
   "cell_type": "code",
   "execution_count": 413,
   "metadata": {},
   "outputs": [
    {
     "name": "stdout",
     "output_type": "stream",
     "text": [
      "201902 평균 :  96.04198291466861\n",
      "202002 평균 :  103.58673557278209\n"
     ]
    }
   ],
   "source": [
    "df_f_1902_3 = np.array(df_food_1902['건수'])\n",
    "df_f_2002_3 = np.array(df_food_2002['건수'])\n",
    "print('201902 평균 : ',np.mean(df_f_1902_3))\n",
    "print('202002 평균 : ',np.mean(df_f_2002_3))"
   ]
  },
  {
   "cell_type": "code",
   "execution_count": 414,
   "metadata": {},
   "outputs": [
    {
     "data": {
      "text/plain": [
       "LeveneResult(statistic=1.7258280559421535, pvalue=0.1889500804626676)"
      ]
     },
     "execution_count": 414,
     "metadata": {},
     "output_type": "execute_result"
    }
   ],
   "source": [
    "stats.levene(df_f_1902_3, df_f_2002_3)"
   ]
  },
  {
   "cell_type": "code",
   "execution_count": 415,
   "metadata": {},
   "outputs": [
    {
     "data": {
      "text/plain": [
       "Ttest_indResult(statistic=-1.2770194889478632, pvalue=0.20160078682606436)"
      ]
     },
     "execution_count": 415,
     "metadata": {},
     "output_type": "execute_result"
    }
   ],
   "source": [
    "stats.ttest_ind(df_f_1902_3, df_f_2002_3, equal_var=True)"
   ]
  },
  {
   "cell_type": "markdown",
   "metadata": {},
   "source": [
    "### 일반 음식점업 3월"
   ]
  },
  {
   "cell_type": "code",
   "execution_count": 416,
   "metadata": {},
   "outputs": [
    {
     "name": "stdout",
     "output_type": "stream",
     "text": [
      "201903 평균 :  111.51794871794871\n",
      "202003 평균 :  109.15738818645028\n"
     ]
    }
   ],
   "source": [
    "df_f_1903_3 = np.array(df_food_1903['건수'])\n",
    "df_f_2003_3 = np.array(df_food_2003['건수'])\n",
    "print('201903 평균 : ',np.mean(df_f_1903_3))\n",
    "print('202003 평균 : ',np.mean(df_f_2003_3))"
   ]
  },
  {
   "cell_type": "code",
   "execution_count": 417,
   "metadata": {},
   "outputs": [
    {
     "data": {
      "text/plain": [
       "LeveneResult(statistic=0.09802199614364379, pvalue=0.7542177059465616)"
      ]
     },
     "execution_count": 417,
     "metadata": {},
     "output_type": "execute_result"
    }
   ],
   "source": [
    "stats.levene(df_f_1903_3, df_f_2003_3)"
   ]
  },
  {
   "cell_type": "code",
   "execution_count": 418,
   "metadata": {},
   "outputs": [
    {
     "data": {
      "text/plain": [
       "Ttest_indResult(statistic=0.32563183123099637, pvalue=0.74470433750108)"
      ]
     },
     "execution_count": 418,
     "metadata": {},
     "output_type": "execute_result"
    }
   ],
   "source": [
    "stats.ttest_ind(df_f_1903_3, df_f_2003_3, equal_var=True)"
   ]
  },
  {
   "cell_type": "markdown",
   "metadata": {},
   "source": [
    "## 고객수"
   ]
  },
  {
   "cell_type": "markdown",
   "metadata": {},
   "source": [
    "### 관광업 1월"
   ]
  },
  {
   "cell_type": "code",
   "execution_count": 419,
   "metadata": {},
   "outputs": [
    {
     "name": "stdout",
     "output_type": "stream",
     "text": [
      "201901 평균 :  8.956378600823045\n",
      "202001 평균 :  8.9265625\n"
     ]
    }
   ],
   "source": [
    "df_t_1901_4 = np.array(df_tour_1901['고객수'])\n",
    "df_t_2001_4 = np.array(df_tour_2001['고객수'])\n",
    "print('201901 평균 : ',np.mean(df_t_1901_4))\n",
    "print('202001 평균 : ',np.mean(df_t_2001_4))"
   ]
  },
  {
   "cell_type": "code",
   "execution_count": 420,
   "metadata": {},
   "outputs": [
    {
     "data": {
      "text/plain": [
       "LeveneResult(statistic=0.00985184479897685, pvalue=0.920942627928422)"
      ]
     },
     "execution_count": 420,
     "metadata": {},
     "output_type": "execute_result"
    }
   ],
   "source": [
    "stats.levene(df_t_1901_4, df_t_2001_4)"
   ]
  },
  {
   "cell_type": "code",
   "execution_count": 421,
   "metadata": {},
   "outputs": [
    {
     "data": {
      "text/plain": [
       "Ttest_indResult(statistic=0.06103698490573511, pvalue=0.9513346468037716)"
      ]
     },
     "execution_count": 421,
     "metadata": {},
     "output_type": "execute_result"
    }
   ],
   "source": [
    "stats.ttest_ind(df_t_1901_4, df_t_2001_4, equal_var=True)"
   ]
  },
  {
   "cell_type": "markdown",
   "metadata": {},
   "source": [
    "### 관광업 2월"
   ]
  },
  {
   "cell_type": "code",
   "execution_count": 422,
   "metadata": {},
   "outputs": [
    {
     "name": "stdout",
     "output_type": "stream",
     "text": [
      "201902 평균 :  8.877350044762757\n",
      "202002 평균 :  8.854961832061068\n"
     ]
    }
   ],
   "source": [
    "df_t_1902_4 = np.array(df_tour_1902['고객수'])\n",
    "df_t_2002_4 = np.array(df_tour_2002['고객수'])\n",
    "print('201902 평균 : ',np.mean(df_t_1902_4))\n",
    "print('202002 평균 : ',np.mean(df_t_2002_4))"
   ]
  },
  {
   "cell_type": "code",
   "execution_count": 423,
   "metadata": {},
   "outputs": [
    {
     "data": {
      "text/plain": [
       "LeveneResult(statistic=0.014777064461251774, pvalue=0.9032616430667012)"
      ]
     },
     "execution_count": 423,
     "metadata": {},
     "output_type": "execute_result"
    }
   ],
   "source": [
    "stats.levene(df_t_1902_4, df_t_2002_4)"
   ]
  },
  {
   "cell_type": "code",
   "execution_count": 424,
   "metadata": {},
   "outputs": [
    {
     "data": {
      "text/plain": [
       "Ttest_indResult(statistic=0.03512643503803348, pvalue=0.9719831996025264)"
      ]
     },
     "execution_count": 424,
     "metadata": {},
     "output_type": "execute_result"
    }
   ],
   "source": [
    "stats.ttest_ind(df_t_1902_4, df_t_2002_4, equal_var=True)"
   ]
  },
  {
   "cell_type": "markdown",
   "metadata": {},
   "source": [
    "### 관광업 3월"
   ]
  },
  {
   "cell_type": "code",
   "execution_count": 425,
   "metadata": {},
   "outputs": [
    {
     "name": "stdout",
     "output_type": "stream",
     "text": [
      "201903 평균 :  8.687189672293943\n",
      "202003 평균 :  6.9421487603305785\n"
     ]
    }
   ],
   "source": [
    "df_t_1903_4 = np.array(df_tour_1903['고객수'])\n",
    "df_t_2003_4 = np.array(df_tour_2003['고객수'])\n",
    "print('201903 평균 : ',np.mean(df_t_1903_4))\n",
    "print('202003 평균 : ',np.mean(df_t_2003_4))"
   ]
  },
  {
   "cell_type": "code",
   "execution_count": 426,
   "metadata": {},
   "outputs": [
    {
     "data": {
      "text/plain": [
       "LeveneResult(statistic=2.5927966416777486, pvalue=0.10763091657813437)"
      ]
     },
     "execution_count": 426,
     "metadata": {},
     "output_type": "execute_result"
    }
   ],
   "source": [
    "stats.levene(df_t_1903_4, df_t_2003_4)"
   ]
  },
  {
   "cell_type": "code",
   "execution_count": 428,
   "metadata": {},
   "outputs": [
    {
     "data": {
      "text/plain": [
       "Ttest_indResult(statistic=1.559252116206118, pvalue=0.11921772038053915)"
      ]
     },
     "execution_count": 428,
     "metadata": {},
     "output_type": "execute_result"
    }
   ],
   "source": [
    "stats.ttest_ind(df_t_1903_4, df_t_2003_4, equal_var=True)"
   ]
  },
  {
   "cell_type": "markdown",
   "metadata": {},
   "source": [
    "### 전시회 1월"
   ]
  },
  {
   "cell_type": "code",
   "execution_count": 429,
   "metadata": {},
   "outputs": [
    {
     "name": "stdout",
     "output_type": "stream",
     "text": [
      "201901 평균 :  7.86756077116513\n",
      "202001 평균 :  7.846946867565424\n"
     ]
    }
   ],
   "source": [
    "df_d_1901_4 = np.array(df_dis_1901['고객수'])\n",
    "df_d_2001_4 = np.array(df_dis_2001['고객수'])\n",
    "print('201901 평균 : ',np.mean(df_d_1901_4))\n",
    "print('202001 평균 : ',np.mean(df_d_2001_4))"
   ]
  },
  {
   "cell_type": "code",
   "execution_count": 430,
   "metadata": {},
   "outputs": [
    {
     "data": {
      "text/plain": [
       "LeveneResult(statistic=0.009546625244133756, pvalue=0.9221730752024395)"
      ]
     },
     "execution_count": 430,
     "metadata": {},
     "output_type": "execute_result"
    }
   ],
   "source": [
    "stats.levene(df_d_1901_4, df_d_2001_4)"
   ]
  },
  {
   "cell_type": "code",
   "execution_count": 431,
   "metadata": {},
   "outputs": [
    {
     "data": {
      "text/plain": [
       "Ttest_indResult(statistic=0.05417974634313967, pvalue=0.956796370828708)"
      ]
     },
     "execution_count": 431,
     "metadata": {},
     "output_type": "execute_result"
    }
   ],
   "source": [
    "stats.ttest_ind(df_d_1901_4, df_d_2001_4, equal_var=True)"
   ]
  },
  {
   "cell_type": "markdown",
   "metadata": {},
   "source": [
    "### 전시회 2월"
   ]
  },
  {
   "cell_type": "code",
   "execution_count": 432,
   "metadata": {},
   "outputs": [
    {
     "name": "stdout",
     "output_type": "stream",
     "text": [
      "201902 평균 :  9.088211046990931\n",
      "202002 평균 :  8.143258426966293\n"
     ]
    }
   ],
   "source": [
    "df_d_1902_4 = np.array(df_dis_1902['고객수'])\n",
    "df_d_2002_4 = np.array(df_dis_2002['고객수'])\n",
    "print('201902 평균 : ',np.mean(df_d_1902_4))\n",
    "print('202002 평균 : ',np.mean(df_d_2002_4))"
   ]
  },
  {
   "cell_type": "code",
   "execution_count": 433,
   "metadata": {},
   "outputs": [
    {
     "data": {
      "text/plain": [
       "LeveneResult(statistic=1.1159916483363255, pvalue=0.29091589007021373)"
      ]
     },
     "execution_count": 433,
     "metadata": {},
     "output_type": "execute_result"
    }
   ],
   "source": [
    "stats.levene(df_d_1902_4, df_d_2002_4)"
   ]
  },
  {
   "cell_type": "code",
   "execution_count": 434,
   "metadata": {},
   "outputs": [
    {
     "data": {
      "text/plain": [
       "Ttest_indResult(statistic=1.329260172552412, pvalue=0.1839198255049254)"
      ]
     },
     "execution_count": 434,
     "metadata": {},
     "output_type": "execute_result"
    }
   ],
   "source": [
    "stats.ttest_ind(df_d_1902_4, df_d_2002_4, equal_var=True)"
   ]
  },
  {
   "cell_type": "markdown",
   "metadata": {},
   "source": [
    "### 전시회 3월"
   ]
  },
  {
   "cell_type": "code",
   "execution_count": 435,
   "metadata": {},
   "outputs": [
    {
     "name": "stdout",
     "output_type": "stream",
     "text": [
      "201903 평균 :  9.162806088682991\n",
      "202003 평균 :  8.19571865443425\n"
     ]
    }
   ],
   "source": [
    "df_d_1903_4 = np.array(df_dis_1903['고객수'])\n",
    "df_d_2003_4 = np.array(df_dis_2003['고객수'])\n",
    "print('201903 평균 : ',np.mean(df_d_1903_4))\n",
    "print('202003 평균 : ',np.mean(df_d_2003_4))"
   ]
  },
  {
   "cell_type": "code",
   "execution_count": 436,
   "metadata": {},
   "outputs": [
    {
     "data": {
      "text/plain": [
       "LeveneResult(statistic=1.0154650894341612, pvalue=0.31372990855129523)"
      ]
     },
     "execution_count": 436,
     "metadata": {},
     "output_type": "execute_result"
    }
   ],
   "source": [
    "stats.levene(df_d_1903_4, df_d_2003_4)"
   ]
  },
  {
   "cell_type": "code",
   "execution_count": 437,
   "metadata": {},
   "outputs": [
    {
     "data": {
      "text/plain": [
       "Ttest_indResult(statistic=0.9682828620120499, pvalue=0.3330306532541176)"
      ]
     },
     "execution_count": 437,
     "metadata": {},
     "output_type": "execute_result"
    }
   ],
   "source": [
    "stats.ttest_ind(df_d_1903_4, df_d_2003_4, equal_var=True)"
   ]
  },
  {
   "cell_type": "markdown",
   "metadata": {},
   "source": [
    "### 카페 1월"
   ]
  },
  {
   "cell_type": "code",
   "execution_count": 438,
   "metadata": {},
   "outputs": [
    {
     "name": "stdout",
     "output_type": "stream",
     "text": [
      "201901 평균 :  69.83901028277634\n",
      "202001 평균 :  66.87160288408208\n"
     ]
    }
   ],
   "source": [
    "df_c_1901_4 = np.array(df_cafe_1901['고객수'])\n",
    "df_c_2001_4 = np.array(df_cafe_2001['고객수'])\n",
    "print('201901 평균 : ',np.mean(df_c_1901_4))\n",
    "print('202001 평균 : ',np.mean(df_c_2001_4))"
   ]
  },
  {
   "cell_type": "code",
   "execution_count": 439,
   "metadata": {},
   "outputs": [
    {
     "data": {
      "text/plain": [
       "LeveneResult(statistic=0.3141975524192457, pvalue=0.5751250973064959)"
      ]
     },
     "execution_count": 439,
     "metadata": {},
     "output_type": "execute_result"
    }
   ],
   "source": [
    "stats.levene(df_c_1901_4, df_c_2001_4)"
   ]
  },
  {
   "cell_type": "code",
   "execution_count": 440,
   "metadata": {},
   "outputs": [
    {
     "data": {
      "text/plain": [
       "Ttest_indResult(statistic=0.5868618280924206, pvalue=0.5573063698967304)"
      ]
     },
     "execution_count": 440,
     "metadata": {},
     "output_type": "execute_result"
    }
   ],
   "source": [
    "stats.ttest_ind(df_c_1901_4, df_c_2001_4, equal_var=True)"
   ]
  },
  {
   "cell_type": "markdown",
   "metadata": {},
   "source": [
    "### 카페 2월"
   ]
  },
  {
   "cell_type": "code",
   "execution_count": 441,
   "metadata": {},
   "outputs": [
    {
     "name": "stdout",
     "output_type": "stream",
     "text": [
      "201902 평균 :  62.65449275362319\n",
      "202002 평균 :  74.37247372675829\n"
     ]
    }
   ],
   "source": [
    "df_c_1902_4 = np.array(df_cafe_1902['고객수'])\n",
    "df_c_2002_4 = np.array(df_cafe_2002['고객수'])\n",
    "print('201902 평균 : ',np.mean(df_c_1902_4))\n",
    "print('202002 평균 : ',np.mean(df_c_2002_4))"
   ]
  },
  {
   "cell_type": "code",
   "execution_count": 442,
   "metadata": {},
   "outputs": [
    {
     "data": {
      "text/plain": [
       "LeveneResult(statistic=4.772703825778774, pvalue=0.028933912233557447)"
      ]
     },
     "execution_count": 442,
     "metadata": {},
     "output_type": "execute_result"
    }
   ],
   "source": [
    "stats.levene(df_c_1902_4, df_c_2002_4)"
   ]
  },
  {
   "cell_type": "code",
   "execution_count": 443,
   "metadata": {},
   "outputs": [
    {
     "data": {
      "text/plain": [
       "Ttest_indResult(statistic=-2.2542973260419483, pvalue=0.024198082303582467)"
      ]
     },
     "execution_count": 443,
     "metadata": {},
     "output_type": "execute_result"
    }
   ],
   "source": [
    "stats.ttest_ind(df_c_1902_4, df_c_2002_4, equal_var=False)"
   ]
  },
  {
   "cell_type": "markdown",
   "metadata": {},
   "source": [
    "### 카페 3월"
   ]
  },
  {
   "cell_type": "code",
   "execution_count": 445,
   "metadata": {},
   "outputs": [
    {
     "name": "stdout",
     "output_type": "stream",
     "text": [
      "201903 평균 :  71.7014149581288\n",
      "202003 평균 :  75.66943005181348\n"
     ]
    }
   ],
   "source": [
    "df_c_1903_4 = np.array(df_cafe_1903['고객수'])\n",
    "df_c_2003_4 = np.array(df_cafe_2003['고객수'])\n",
    "print('201903 평균 : ',np.mean(df_c_1903_4))\n",
    "print('202003 평균 : ',np.mean(df_c_2003_4))"
   ]
  },
  {
   "cell_type": "code",
   "execution_count": 446,
   "metadata": {},
   "outputs": [
    {
     "data": {
      "text/plain": [
       "LeveneResult(statistic=0.31466232406303324, pvalue=0.5748448446675191)"
      ]
     },
     "execution_count": 446,
     "metadata": {},
     "output_type": "execute_result"
    }
   ],
   "source": [
    "stats.levene(df_c_1903_4, df_c_2003_4)"
   ]
  },
  {
   "cell_type": "code",
   "execution_count": 447,
   "metadata": {},
   "outputs": [
    {
     "data": {
      "text/plain": [
       "Ttest_indResult(statistic=-0.6761165988785088, pvalue=0.49898111806974776)"
      ]
     },
     "execution_count": 447,
     "metadata": {},
     "output_type": "execute_result"
    }
   ],
   "source": [
    "stats.ttest_ind(df_c_1903_4, df_c_2003_4, equal_var=True)"
   ]
  },
  {
   "cell_type": "markdown",
   "metadata": {},
   "source": [
    "### 스포츠 1월"
   ]
  },
  {
   "cell_type": "code",
   "execution_count": 448,
   "metadata": {},
   "outputs": [
    {
     "name": "stdout",
     "output_type": "stream",
     "text": [
      "201901 평균 :  33.30052356020943\n",
      "202001 평균 :  31.709216101694917\n"
     ]
    }
   ],
   "source": [
    "df_s_1901_4 = np.array(df_sports_1901['고객수'])\n",
    "df_s_2001_4 = np.array(df_sports_2001['고객수'])\n",
    "print('201901 평균 : ',np.mean(df_s_1901_4))\n",
    "print('202001 평균 : ',np.mean(df_s_2001_4))"
   ]
  },
  {
   "cell_type": "code",
   "execution_count": 449,
   "metadata": {},
   "outputs": [
    {
     "data": {
      "text/plain": [
       "LeveneResult(statistic=0.49856530216476774, pvalue=0.4801745269505939)"
      ]
     },
     "execution_count": 449,
     "metadata": {},
     "output_type": "execute_result"
    }
   ],
   "source": [
    "stats.levene(df_s_1901_4, df_s_2001_4)"
   ]
  },
  {
   "cell_type": "code",
   "execution_count": 450,
   "metadata": {},
   "outputs": [
    {
     "data": {
      "text/plain": [
       "Ttest_indResult(statistic=0.6920474373695358, pvalue=0.48894986605701396)"
      ]
     },
     "execution_count": 450,
     "metadata": {},
     "output_type": "execute_result"
    }
   ],
   "source": [
    "stats.ttest_ind(df_s_1901_4, df_s_2001_4, equal_var=True)"
   ]
  },
  {
   "cell_type": "markdown",
   "metadata": {},
   "source": [
    "### 스포츠 2월"
   ]
  },
  {
   "cell_type": "code",
   "execution_count": 451,
   "metadata": {},
   "outputs": [
    {
     "name": "stdout",
     "output_type": "stream",
     "text": [
      "201902 평균 :  32.99033570701933\n",
      "202002 평균 :  27.115483870967743\n"
     ]
    }
   ],
   "source": [
    "df_s_1902_4 = np.array(df_sports_1902['고객수'])\n",
    "df_s_2002_4 = np.array(df_sports_2002['고객수'])\n",
    "print('201902 평균 : ',np.mean(df_s_1902_4))\n",
    "print('202002 평균 : ',np.mean(df_s_2002_4))"
   ]
  },
  {
   "cell_type": "code",
   "execution_count": 452,
   "metadata": {},
   "outputs": [
    {
     "data": {
      "text/plain": [
       "LeveneResult(statistic=7.129749969043051, pvalue=0.007616437932025584)"
      ]
     },
     "execution_count": 452,
     "metadata": {},
     "output_type": "execute_result"
    }
   ],
   "source": [
    "stats.levene(df_s_1902_4, df_s_2002_4)"
   ]
  },
  {
   "cell_type": "code",
   "execution_count": 453,
   "metadata": {},
   "outputs": [
    {
     "data": {
      "text/plain": [
       "Ttest_indResult(statistic=2.7055871664190163, pvalue=0.006851510480193474)"
      ]
     },
     "execution_count": 453,
     "metadata": {},
     "output_type": "execute_result"
    }
   ],
   "source": [
    "stats.ttest_ind(df_s_1902_4, df_s_2002_4, equal_var=False)"
   ]
  },
  {
   "cell_type": "markdown",
   "metadata": {},
   "source": [
    "### 스포츠 3월"
   ]
  },
  {
   "cell_type": "code",
   "execution_count": 454,
   "metadata": {},
   "outputs": [
    {
     "name": "stdout",
     "output_type": "stream",
     "text": [
      "201903 평균 :  36.25030876904076\n",
      "202003 평균 :  27.104621309370987\n"
     ]
    }
   ],
   "source": [
    "df_s_1903_4 = np.array(df_sports_1903['고객수'])\n",
    "df_s_2003_4 = np.array(df_sports_2003['고객수'])\n",
    "print('201903 평균 : ',np.mean(df_s_1903_4))\n",
    "print('202003 평균 : ',np.mean(df_s_2003_4))"
   ]
  },
  {
   "cell_type": "code",
   "execution_count": 455,
   "metadata": {},
   "outputs": [
    {
     "data": {
      "text/plain": [
       "LeveneResult(statistic=13.613375451470883, pvalue=0.0002275789207924369)"
      ]
     },
     "execution_count": 455,
     "metadata": {},
     "output_type": "execute_result"
    }
   ],
   "source": [
    "stats.levene(df_s_1903_4, df_s_2003_4)"
   ]
  },
  {
   "cell_type": "code",
   "execution_count": 456,
   "metadata": {},
   "outputs": [
    {
     "data": {
      "text/plain": [
       "Ttest_indResult(statistic=4.001308556481587, pvalue=6.413847217683678e-05)"
      ]
     },
     "execution_count": 456,
     "metadata": {},
     "output_type": "execute_result"
    }
   ],
   "source": [
    "stats.ttest_ind(df_s_1903_4, df_s_2003_4, equal_var=False)"
   ]
  },
  {
   "cell_type": "markdown",
   "metadata": {},
   "source": [
    "### 일반 음식점 1월"
   ]
  },
  {
   "cell_type": "code",
   "execution_count": 457,
   "metadata": {},
   "outputs": [
    {
     "name": "stdout",
     "output_type": "stream",
     "text": [
      "201901 평균 :  77.65996187471242\n",
      "202001 평균 :  72.12925106857462\n"
     ]
    }
   ],
   "source": [
    "df_f_1901_4 = np.array(df_food_1901['고객수'])\n",
    "df_f_2001_4 = np.array(df_food_2001['고객수'])\n",
    "print('201901 평균 : ',np.mean(df_f_1901_4))\n",
    "print('202001 평균 : ',np.mean(df_f_2001_4))"
   ]
  },
  {
   "cell_type": "code",
   "execution_count": 458,
   "metadata": {},
   "outputs": [
    {
     "data": {
      "text/plain": [
       "LeveneResult(statistic=1.9317424124474567, pvalue=0.16457287588461156)"
      ]
     },
     "execution_count": 458,
     "metadata": {},
     "output_type": "execute_result"
    }
   ],
   "source": [
    "stats.levene(df_f_1901_4, df_f_2001_4)"
   ]
  },
  {
   "cell_type": "code",
   "execution_count": 459,
   "metadata": {},
   "outputs": [
    {
     "data": {
      "text/plain": [
       "Ttest_indResult(statistic=1.3786772989831644, pvalue=0.16799918954573798)"
      ]
     },
     "execution_count": 459,
     "metadata": {},
     "output_type": "execute_result"
    }
   ],
   "source": [
    "stats.ttest_ind(df_f_1901_4, df_f_2001_4, equal_var=True)"
   ]
  },
  {
   "cell_type": "markdown",
   "metadata": {},
   "source": [
    "### 일반 음식점 2월"
   ]
  },
  {
   "cell_type": "code",
   "execution_count": 460,
   "metadata": {},
   "outputs": [
    {
     "name": "stdout",
     "output_type": "stream",
     "text": [
      "201902 평균 :  70.2422433230652\n",
      "202002 평균 :  74.92859603789836\n"
     ]
    }
   ],
   "source": [
    "df_f_1902_4 = np.array(df_food_1902['고객수'])\n",
    "df_f_2002_4 = np.array(df_food_2002['고객수'])\n",
    "print('201902 평균 : ',np.mean(df_f_1902_4))\n",
    "print('202002 평균 : ',np.mean(df_f_2002_4))"
   ]
  },
  {
   "cell_type": "code",
   "execution_count": 461,
   "metadata": {},
   "outputs": [
    {
     "data": {
      "text/plain": [
       "LeveneResult(statistic=1.4928003625107127, pvalue=0.22178774024863782)"
      ]
     },
     "execution_count": 461,
     "metadata": {},
     "output_type": "execute_result"
    }
   ],
   "source": [
    "stats.levene(df_f_1902_4, df_f_2002_4)"
   ]
  },
  {
   "cell_type": "code",
   "execution_count": 462,
   "metadata": {},
   "outputs": [
    {
     "data": {
      "text/plain": [
       "Ttest_indResult(statistic=-1.1666199717745445, pvalue=0.24336895965108088)"
      ]
     },
     "execution_count": 462,
     "metadata": {},
     "output_type": "execute_result"
    }
   ],
   "source": [
    "stats.ttest_ind(df_f_1902_4, df_f_2002_4, equal_var=True)"
   ]
  },
  {
   "cell_type": "markdown",
   "metadata": {},
   "source": [
    "### 일반 음식점 3월"
   ]
  },
  {
   "cell_type": "code",
   "execution_count": 463,
   "metadata": {},
   "outputs": [
    {
     "name": "stdout",
     "output_type": "stream",
     "text": [
      "201903 평균 :  77.49885696632684\n",
      "202003 평균 :  77.73013776184186\n"
     ]
    }
   ],
   "source": [
    "df_f_1903_4 = np.array(df_food_1903['고객수'])\n",
    "df_f_2003_4 = np.array(df_food_2003['고객수'])\n",
    "print('201903 평균 : ',np.mean(df_f_1903_4))\n",
    "print('202003 평균 : ',np.mean(df_f_2003_4))"
   ]
  },
  {
   "cell_type": "code",
   "execution_count": 464,
   "metadata": {},
   "outputs": [
    {
     "data": {
      "text/plain": [
       "LeveneResult(statistic=0.0036014942661344355, pvalue=0.9521459666306815)"
      ]
     },
     "execution_count": 464,
     "metadata": {},
     "output_type": "execute_result"
    }
   ],
   "source": [
    "stats.levene(df_f_1903_4, df_f_2003_4)"
   ]
  },
  {
   "cell_type": "code",
   "execution_count": 466,
   "metadata": {},
   "outputs": [
    {
     "data": {
      "text/plain": [
       "Ttest_indResult(statistic=-0.04906353280905306, pvalue=0.9608688680060316)"
      ]
     },
     "execution_count": 466,
     "metadata": {},
     "output_type": "execute_result"
    }
   ],
   "source": [
    "stats.ttest_ind(df_f_1903_4, df_f_2003_4, equal_var=True)"
   ]
  },
  {
   "cell_type": "markdown",
   "metadata": {},
   "source": [
    "# 결과 해석"
   ]
  },
  {
   "cell_type": "markdown",
   "metadata": {},
   "source": [
    "\n",
    "# Log10_금액\n",
    "## (관광업)\n",
    "- 1월 : 차이가 없다\n",
    "- 2월 : 차이가 없다\n",
    "- 3월 : 차이가 있다 ( 2020년 3월의 매출액이 더 적다)\n",
    "## (전시)\n",
    "- 1월 : 차이가 있다 ( 2020년 1월의 매출액이 더 적다)\n",
    "- 2월 : 차이가 있다 ( 2020년 2월의 매출액이 더 적다)\n",
    "- 3월 : 차이가 있다 ( 2020년 3월의 매출액이 더 적다)\n",
    "## (카페)\n",
    "- 1월 : 차이가 있다 ( 2020년 1월의 매출액이 더 적다)\n",
    "- 2월 : 차이가 있다 ( 2020년 2월의 매출액이 더 적다)\n",
    "- 3월 : 차이가 있다 ( 2020년 3월의 매출액이 더 적다)\n",
    "## (스포츠)\n",
    "- 1월 : 차이가 없다\n",
    "- 2월 : 차이가 있다 ( 2020년 2월의 매출액이 더 적다)\n",
    "- 3월 : 차이가 있다 ( 2020년 3월의 매출액이 더 적다)\n",
    "## (일반 음식점업)\n",
    "- 1월 : 차이가 있다 ( 2020년 3월의 매출액이 더 적다)\n",
    "- 2월 : 차이가 없다\n",
    "- 3월 : 차이가 없다\n",
    "\n",
    "# 연령대\n",
    "## (관광업)\n",
    "- 1월 : 차이가 없다\n",
    "- 2월 : 차이가 없다\n",
    "- 3월 : 차이가 있다 ( 2020년 3월의 연령대가 더 높다)\n",
    "## (전시)\n",
    "- 1월 : 차이가 없다.\n",
    "- 2월 : 차이가 있다 ( 2020년 2월의 연령대가 더 낮다)\n",
    "- 3월 : 차이가 있다 ( 2020년 3월의 연령대가 더 낮다)\n",
    "## (카페)\n",
    "- 1월 : 차이가 있다 ( 2020년 1월의 연령대가 더 낮다)\n",
    "- 2월 : 차이가 없다\n",
    "- 3월 : 차이가 있다 ( 2020년 3월의 연령대가 더 높다)\n",
    "## (스포츠)\n",
    "- 1월 : 차이가 있다 ( 2020년 1월의 연령대가 더 낮다)\n",
    "- 2월 : 차이가 없다\n",
    "- 3월 : 차이가 없다\n",
    "## (일반 음식점업)\n",
    "- 1월 : 차이가 있다 ( 2020년 1월의 연령대가 더 낮다)\n",
    "- 2월 : 차이가 없다\n",
    "- 3월 : 차이가 있다 ( 2020년 3월의 연령대가 더 높다)\n",
    "\n",
    "\n",
    "# 건수\n",
    "## (관광업)\n",
    "- 1월 : 차이가 없다\n",
    "- 2월 : 차이가 없다\n",
    "- 3월 : 차이가 없다\n",
    "## (전시)\n",
    "- 1월 : 차이가 없다\n",
    "- 2월 : 차이가 없다\n",
    "- 3월 : 차이가 없다\n",
    "## (카페)\n",
    "- 1월 : 차이가 없다\n",
    "- 2월 : 차이가 있다 ( 2020년 2월의 사용 건수가 더 많다)\n",
    "- 3월 : 차이가 없다\n",
    "## (스포츠)\n",
    "- 1월 : 차이가 없다\n",
    "- 2월 : 차이가 있다 ( 2020년 2월의 사용 건수가 더 적다)\n",
    "- 3월 : 차이가 있다 ( 2020년 3월의 사용 건수가 더 적다)\n",
    "## (일반 음식점업)\n",
    "- 1월 : 차이가 없다\n",
    "- 2월 : 차이가 없다\n",
    "- 3월 : 차이가 없다\n",
    "\n",
    "# 고객수\n",
    "## (관광업)\n",
    "- 1월 : 차이가 없다\n",
    "- 2월 : 차이가 없다\n",
    "- 3월 : 차이가 없다\n",
    "## (전시)\n",
    "- 1월 : 차이가 없다\n",
    "- 2월 : 차이가 없다\n",
    "- 3월 : 차이가 없다\n",
    "## (카페)\n",
    "- 1월 : 차이가 없다\n",
    "- 2월 : 차이가 있다 ( 2020년 2월의 고객수가 더 많다)\n",
    "- 3월 : 차이가 없다\n",
    "## (스포츠)\n",
    "- 1월 : 차이가 없다\n",
    "- 2월 : 차이가 있다 ( 2020년 2월의 고객수가 더 적다)\n",
    "- 3월 : 차이가 있다 ( 2020년 3월의 고객수가 더 적다)\n",
    "## (일반 음식점업)\n",
    "- 1월 : 차이가 없다\n",
    "- 2월 : 차이가 없다\n",
    "- 3월 : 차이가 없다\n"
   ]
  }
 ],
 "metadata": {
  "kernelspec": {
   "display_name": "Python 3",
   "language": "python",
   "name": "python3"
  },
  "language_info": {
   "codemirror_mode": {
    "name": "ipython",
    "version": 3
   },
   "file_extension": ".py",
   "mimetype": "text/x-python",
   "name": "python",
   "nbconvert_exporter": "python",
   "pygments_lexer": "ipython3",
   "version": "3.7.9"
  }
 },
 "nbformat": 4,
 "nbformat_minor": 4
}
