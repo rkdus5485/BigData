{
 "cells": [
  {
   "cell_type": "code",
   "execution_count": 44,
   "metadata": {},
   "outputs": [
    {
     "data": {
      "text/html": [
       "<div>\n",
       "<style scoped>\n",
       "    .dataframe tbody tr th:only-of-type {\n",
       "        vertical-align: middle;\n",
       "    }\n",
       "\n",
       "    .dataframe tbody tr th {\n",
       "        vertical-align: top;\n",
       "    }\n",
       "\n",
       "    .dataframe thead th {\n",
       "        text-align: right;\n",
       "    }\n",
       "</style>\n",
       "<table border=\"1\" class=\"dataframe\">\n",
       "  <thead>\n",
       "    <tr style=\"text-align: right;\">\n",
       "      <th></th>\n",
       "      <th>Unnamed: 0</th>\n",
       "      <th>년월</th>\n",
       "      <th>업종명</th>\n",
       "      <th>연령대</th>\n",
       "      <th>성별</th>\n",
       "      <th>생애주기</th>\n",
       "      <th>고객수</th>\n",
       "      <th>금액</th>\n",
       "      <th>건수</th>\n",
       "    </tr>\n",
       "  </thead>\n",
       "  <tbody>\n",
       "    <tr>\n",
       "      <th>0</th>\n",
       "      <td>598167</td>\n",
       "      <td>201901</td>\n",
       "      <td>카페</td>\n",
       "      <td>20s</td>\n",
       "      <td>2</td>\n",
       "      <td>1</td>\n",
       "      <td>3</td>\n",
       "      <td>24890</td>\n",
       "      <td>3</td>\n",
       "    </tr>\n",
       "    <tr>\n",
       "      <th>1</th>\n",
       "      <td>598168</td>\n",
       "      <td>201901</td>\n",
       "      <td>카페</td>\n",
       "      <td>20s</td>\n",
       "      <td>2</td>\n",
       "      <td>1</td>\n",
       "      <td>3</td>\n",
       "      <td>17800</td>\n",
       "      <td>3</td>\n",
       "    </tr>\n",
       "    <tr>\n",
       "      <th>2</th>\n",
       "      <td>598169</td>\n",
       "      <td>201901</td>\n",
       "      <td>카페</td>\n",
       "      <td>30s</td>\n",
       "      <td>2</td>\n",
       "      <td>2</td>\n",
       "      <td>3</td>\n",
       "      <td>28500</td>\n",
       "      <td>4</td>\n",
       "    </tr>\n",
       "    <tr>\n",
       "      <th>3</th>\n",
       "      <td>598170</td>\n",
       "      <td>201901</td>\n",
       "      <td>카페</td>\n",
       "      <td>20s</td>\n",
       "      <td>1</td>\n",
       "      <td>1</td>\n",
       "      <td>3</td>\n",
       "      <td>27900</td>\n",
       "      <td>4</td>\n",
       "    </tr>\n",
       "    <tr>\n",
       "      <th>4</th>\n",
       "      <td>598171</td>\n",
       "      <td>201901</td>\n",
       "      <td>카페</td>\n",
       "      <td>40s</td>\n",
       "      <td>1</td>\n",
       "      <td>3</td>\n",
       "      <td>3</td>\n",
       "      <td>20600</td>\n",
       "      <td>3</td>\n",
       "    </tr>\n",
       "    <tr>\n",
       "      <th>...</th>\n",
       "      <td>...</td>\n",
       "      <td>...</td>\n",
       "      <td>...</td>\n",
       "      <td>...</td>\n",
       "      <td>...</td>\n",
       "      <td>...</td>\n",
       "      <td>...</td>\n",
       "      <td>...</td>\n",
       "      <td>...</td>\n",
       "    </tr>\n",
       "    <tr>\n",
       "      <th>224535</th>\n",
       "      <td>23899428</td>\n",
       "      <td>202003</td>\n",
       "      <td>일반 음식점업</td>\n",
       "      <td>20s</td>\n",
       "      <td>1</td>\n",
       "      <td>1</td>\n",
       "      <td>8</td>\n",
       "      <td>904800</td>\n",
       "      <td>16</td>\n",
       "    </tr>\n",
       "    <tr>\n",
       "      <th>224536</th>\n",
       "      <td>23899429</td>\n",
       "      <td>202003</td>\n",
       "      <td>일반 음식점업</td>\n",
       "      <td>30s</td>\n",
       "      <td>1</td>\n",
       "      <td>1</td>\n",
       "      <td>3</td>\n",
       "      <td>331800</td>\n",
       "      <td>4</td>\n",
       "    </tr>\n",
       "    <tr>\n",
       "      <th>224537</th>\n",
       "      <td>23899430</td>\n",
       "      <td>202003</td>\n",
       "      <td>일반 음식점업</td>\n",
       "      <td>30s</td>\n",
       "      <td>1</td>\n",
       "      <td>2</td>\n",
       "      <td>7</td>\n",
       "      <td>1153000</td>\n",
       "      <td>28</td>\n",
       "    </tr>\n",
       "    <tr>\n",
       "      <th>224538</th>\n",
       "      <td>23899431</td>\n",
       "      <td>202003</td>\n",
       "      <td>일반 음식점업</td>\n",
       "      <td>40s</td>\n",
       "      <td>1</td>\n",
       "      <td>3</td>\n",
       "      <td>3</td>\n",
       "      <td>73000</td>\n",
       "      <td>3</td>\n",
       "    </tr>\n",
       "    <tr>\n",
       "      <th>224539</th>\n",
       "      <td>23899432</td>\n",
       "      <td>202003</td>\n",
       "      <td>일반 음식점업</td>\n",
       "      <td>30s</td>\n",
       "      <td>1</td>\n",
       "      <td>2</td>\n",
       "      <td>4</td>\n",
       "      <td>321000</td>\n",
       "      <td>5</td>\n",
       "    </tr>\n",
       "  </tbody>\n",
       "</table>\n",
       "<p>224540 rows × 9 columns</p>\n",
       "</div>"
      ],
      "text/plain": [
       "        Unnamed: 0      년월      업종명  연령대  성별  생애주기  고객수       금액  건수\n",
       "0           598167  201901       카페  20s   2     1    3    24890   3\n",
       "1           598168  201901       카페  20s   2     1    3    17800   3\n",
       "2           598169  201901       카페  30s   2     2    3    28500   4\n",
       "3           598170  201901       카페  20s   1     1    3    27900   4\n",
       "4           598171  201901       카페  40s   1     3    3    20600   3\n",
       "...            ...     ...      ...  ...  ..   ...  ...      ...  ..\n",
       "224535    23899428  202003  일반 음식점업  20s   1     1    8   904800  16\n",
       "224536    23899429  202003  일반 음식점업  30s   1     1    3   331800   4\n",
       "224537    23899430  202003  일반 음식점업  30s   1     2    7  1153000  28\n",
       "224538    23899431  202003  일반 음식점업  40s   1     3    3    73000   3\n",
       "224539    23899432  202003  일반 음식점업  30s   1     2    4   321000   5\n",
       "\n",
       "[224540 rows x 9 columns]"
      ]
     },
     "execution_count": 44,
     "metadata": {},
     "output_type": "execute_result"
    }
   ],
   "source": [
    "import pandas as pd\n",
    "import numpy as np\n",
    "import statsmodels.api as sm\n",
    "from sklearn.model_selection import train_test_split\n",
    "from statsmodels.stats.outliers_influence import variance_inflation_factor\n",
    "\n",
    "\n",
    "data = pd.read_csv('1,2,3월_2.csv')\n",
    "data"
   ]
  },
  {
   "cell_type": "code",
   "execution_count": 45,
   "metadata": {},
   "outputs": [],
   "source": [
    "data_ = data.drop(['Unnamed: 0'], axis=1, inplace=False)"
   ]
  },
  {
   "cell_type": "code",
   "execution_count": 46,
   "metadata": {},
   "outputs": [
    {
     "data": {
      "text/html": [
       "<div>\n",
       "<style scoped>\n",
       "    .dataframe tbody tr th:only-of-type {\n",
       "        vertical-align: middle;\n",
       "    }\n",
       "\n",
       "    .dataframe tbody tr th {\n",
       "        vertical-align: top;\n",
       "    }\n",
       "\n",
       "    .dataframe thead th {\n",
       "        text-align: right;\n",
       "    }\n",
       "</style>\n",
       "<table border=\"1\" class=\"dataframe\">\n",
       "  <thead>\n",
       "    <tr style=\"text-align: right;\">\n",
       "      <th></th>\n",
       "      <th>년월</th>\n",
       "      <th>업종명</th>\n",
       "      <th>연령대</th>\n",
       "      <th>성별</th>\n",
       "      <th>생애주기</th>\n",
       "      <th>고객수</th>\n",
       "      <th>금액</th>\n",
       "      <th>건수</th>\n",
       "    </tr>\n",
       "  </thead>\n",
       "  <tbody>\n",
       "    <tr>\n",
       "      <th>0</th>\n",
       "      <td>201901</td>\n",
       "      <td>카페</td>\n",
       "      <td>20</td>\n",
       "      <td>2</td>\n",
       "      <td>1</td>\n",
       "      <td>3</td>\n",
       "      <td>24890</td>\n",
       "      <td>3</td>\n",
       "    </tr>\n",
       "    <tr>\n",
       "      <th>1</th>\n",
       "      <td>201901</td>\n",
       "      <td>카페</td>\n",
       "      <td>20</td>\n",
       "      <td>2</td>\n",
       "      <td>1</td>\n",
       "      <td>3</td>\n",
       "      <td>17800</td>\n",
       "      <td>3</td>\n",
       "    </tr>\n",
       "    <tr>\n",
       "      <th>2</th>\n",
       "      <td>201901</td>\n",
       "      <td>카페</td>\n",
       "      <td>30</td>\n",
       "      <td>2</td>\n",
       "      <td>2</td>\n",
       "      <td>3</td>\n",
       "      <td>28500</td>\n",
       "      <td>4</td>\n",
       "    </tr>\n",
       "    <tr>\n",
       "      <th>3</th>\n",
       "      <td>201901</td>\n",
       "      <td>카페</td>\n",
       "      <td>20</td>\n",
       "      <td>1</td>\n",
       "      <td>1</td>\n",
       "      <td>3</td>\n",
       "      <td>27900</td>\n",
       "      <td>4</td>\n",
       "    </tr>\n",
       "    <tr>\n",
       "      <th>4</th>\n",
       "      <td>201901</td>\n",
       "      <td>카페</td>\n",
       "      <td>40</td>\n",
       "      <td>1</td>\n",
       "      <td>3</td>\n",
       "      <td>3</td>\n",
       "      <td>20600</td>\n",
       "      <td>3</td>\n",
       "    </tr>\n",
       "    <tr>\n",
       "      <th>...</th>\n",
       "      <td>...</td>\n",
       "      <td>...</td>\n",
       "      <td>...</td>\n",
       "      <td>...</td>\n",
       "      <td>...</td>\n",
       "      <td>...</td>\n",
       "      <td>...</td>\n",
       "      <td>...</td>\n",
       "    </tr>\n",
       "    <tr>\n",
       "      <th>224535</th>\n",
       "      <td>202003</td>\n",
       "      <td>일반 음식점업</td>\n",
       "      <td>20</td>\n",
       "      <td>1</td>\n",
       "      <td>1</td>\n",
       "      <td>8</td>\n",
       "      <td>904800</td>\n",
       "      <td>16</td>\n",
       "    </tr>\n",
       "    <tr>\n",
       "      <th>224536</th>\n",
       "      <td>202003</td>\n",
       "      <td>일반 음식점업</td>\n",
       "      <td>30</td>\n",
       "      <td>1</td>\n",
       "      <td>1</td>\n",
       "      <td>3</td>\n",
       "      <td>331800</td>\n",
       "      <td>4</td>\n",
       "    </tr>\n",
       "    <tr>\n",
       "      <th>224537</th>\n",
       "      <td>202003</td>\n",
       "      <td>일반 음식점업</td>\n",
       "      <td>30</td>\n",
       "      <td>1</td>\n",
       "      <td>2</td>\n",
       "      <td>7</td>\n",
       "      <td>1153000</td>\n",
       "      <td>28</td>\n",
       "    </tr>\n",
       "    <tr>\n",
       "      <th>224538</th>\n",
       "      <td>202003</td>\n",
       "      <td>일반 음식점업</td>\n",
       "      <td>40</td>\n",
       "      <td>1</td>\n",
       "      <td>3</td>\n",
       "      <td>3</td>\n",
       "      <td>73000</td>\n",
       "      <td>3</td>\n",
       "    </tr>\n",
       "    <tr>\n",
       "      <th>224539</th>\n",
       "      <td>202003</td>\n",
       "      <td>일반 음식점업</td>\n",
       "      <td>30</td>\n",
       "      <td>1</td>\n",
       "      <td>2</td>\n",
       "      <td>4</td>\n",
       "      <td>321000</td>\n",
       "      <td>5</td>\n",
       "    </tr>\n",
       "  </tbody>\n",
       "</table>\n",
       "<p>224540 rows × 8 columns</p>\n",
       "</div>"
      ],
      "text/plain": [
       "            년월      업종명  연령대  성별  생애주기  고객수       금액  건수\n",
       "0       201901       카페   20   2     1    3    24890   3\n",
       "1       201901       카페   20   2     1    3    17800   3\n",
       "2       201901       카페   30   2     2    3    28500   4\n",
       "3       201901       카페   20   1     1    3    27900   4\n",
       "4       201901       카페   40   1     3    3    20600   3\n",
       "...        ...      ...  ...  ..   ...  ...      ...  ..\n",
       "224535  202003  일반 음식점업   20   1     1    8   904800  16\n",
       "224536  202003  일반 음식점업   30   1     1    3   331800   4\n",
       "224537  202003  일반 음식점업   30   1     2    7  1153000  28\n",
       "224538  202003  일반 음식점업   40   1     3    3    73000   3\n",
       "224539  202003  일반 음식점업   30   1     2    4   321000   5\n",
       "\n",
       "[224540 rows x 8 columns]"
      ]
     },
     "execution_count": 46,
     "metadata": {},
     "output_type": "execute_result"
    }
   ],
   "source": [
    "data_a=data_\n",
    "data_a['연령대'] = data_a['연령대'].str.rstrip('s').astype('int')\n",
    "data_a"
   ]
  },
  {
   "cell_type": "code",
   "execution_count": 47,
   "metadata": {},
   "outputs": [
    {
     "data": {
      "text/plain": [
       "array(['카페', '스포츠 및 레크레이션 용품 임대업', '일반 음식점업', '전시 및 행사 대행업', '관광업'],\n",
       "      dtype=object)"
      ]
     },
     "execution_count": 47,
     "metadata": {},
     "output_type": "execute_result"
    }
   ],
   "source": [
    "data.업종명.unique()"
   ]
  },
  {
   "cell_type": "code",
   "execution_count": 48,
   "metadata": {},
   "outputs": [],
   "source": [
    "data_cafe = data_a[data_a['업종명']=='카페']\n",
    "data_sports = data_a[data_a['업종명']=='스포츠 및 레크레이션 용품 임대업']\n",
    "data_food = data_a[data_a['업종명']=='일반 음식점업']\n",
    "data_display = data_a[data_a['업종명']=='전시 및 행사 대행업']\n",
    "data_tour = data_a[data_a['업종명']=='관광업']"
   ]
  },
  {
   "cell_type": "code",
   "execution_count": 49,
   "metadata": {},
   "outputs": [],
   "source": [
    "# 불필요한 열 삭제\n",
    "data_cafe = data_cafe.drop(['업종명','년월'], axis=1, inplace=False)\n",
    "data_sports = data_sports.drop(['업종명','년월'], axis=1, inplace=False)\n",
    "data_food = data_food.drop(['업종명','년월'], axis=1, inplace=False)\n",
    "data_display = data_display.drop(['업종명','년월'], axis=1, inplace=False)\n",
    "data_tour = data_tour.drop(['업종명','년월'], axis=1, inplace=False)"
   ]
  },
  {
   "cell_type": "code",
   "execution_count": 50,
   "metadata": {},
   "outputs": [
    {
     "data": {
      "text/html": [
       "<div>\n",
       "<style scoped>\n",
       "    .dataframe tbody tr th:only-of-type {\n",
       "        vertical-align: middle;\n",
       "    }\n",
       "\n",
       "    .dataframe tbody tr th {\n",
       "        vertical-align: top;\n",
       "    }\n",
       "\n",
       "    .dataframe thead th {\n",
       "        text-align: right;\n",
       "    }\n",
       "</style>\n",
       "<table border=\"1\" class=\"dataframe\">\n",
       "  <thead>\n",
       "    <tr style=\"text-align: right;\">\n",
       "      <th></th>\n",
       "      <th>const</th>\n",
       "      <th>연령대</th>\n",
       "      <th>성별</th>\n",
       "      <th>생애주기</th>\n",
       "      <th>고객수</th>\n",
       "      <th>금액</th>\n",
       "      <th>건수</th>\n",
       "    </tr>\n",
       "  </thead>\n",
       "  <tbody>\n",
       "    <tr>\n",
       "      <th>1961</th>\n",
       "      <td>1.0</td>\n",
       "      <td>50</td>\n",
       "      <td>1</td>\n",
       "      <td>4</td>\n",
       "      <td>3</td>\n",
       "      <td>218000</td>\n",
       "      <td>3</td>\n",
       "    </tr>\n",
       "    <tr>\n",
       "      <th>2440</th>\n",
       "      <td>1.0</td>\n",
       "      <td>50</td>\n",
       "      <td>1</td>\n",
       "      <td>4</td>\n",
       "      <td>3</td>\n",
       "      <td>4844400</td>\n",
       "      <td>3</td>\n",
       "    </tr>\n",
       "    <tr>\n",
       "      <th>3687</th>\n",
       "      <td>1.0</td>\n",
       "      <td>50</td>\n",
       "      <td>1</td>\n",
       "      <td>4</td>\n",
       "      <td>6</td>\n",
       "      <td>420500</td>\n",
       "      <td>6</td>\n",
       "    </tr>\n",
       "    <tr>\n",
       "      <th>3688</th>\n",
       "      <td>1.0</td>\n",
       "      <td>50</td>\n",
       "      <td>2</td>\n",
       "      <td>4</td>\n",
       "      <td>4</td>\n",
       "      <td>217500</td>\n",
       "      <td>4</td>\n",
       "    </tr>\n",
       "    <tr>\n",
       "      <th>7074</th>\n",
       "      <td>1.0</td>\n",
       "      <td>60</td>\n",
       "      <td>1</td>\n",
       "      <td>5</td>\n",
       "      <td>3</td>\n",
       "      <td>272000</td>\n",
       "      <td>3</td>\n",
       "    </tr>\n",
       "    <tr>\n",
       "      <th>...</th>\n",
       "      <td>...</td>\n",
       "      <td>...</td>\n",
       "      <td>...</td>\n",
       "      <td>...</td>\n",
       "      <td>...</td>\n",
       "      <td>...</td>\n",
       "      <td>...</td>\n",
       "    </tr>\n",
       "    <tr>\n",
       "      <th>221295</th>\n",
       "      <td>1.0</td>\n",
       "      <td>40</td>\n",
       "      <td>2</td>\n",
       "      <td>3</td>\n",
       "      <td>4</td>\n",
       "      <td>30000</td>\n",
       "      <td>5</td>\n",
       "    </tr>\n",
       "    <tr>\n",
       "      <th>221296</th>\n",
       "      <td>1.0</td>\n",
       "      <td>50</td>\n",
       "      <td>1</td>\n",
       "      <td>4</td>\n",
       "      <td>6</td>\n",
       "      <td>90000</td>\n",
       "      <td>13</td>\n",
       "    </tr>\n",
       "    <tr>\n",
       "      <th>221297</th>\n",
       "      <td>1.0</td>\n",
       "      <td>50</td>\n",
       "      <td>2</td>\n",
       "      <td>4</td>\n",
       "      <td>6</td>\n",
       "      <td>53000</td>\n",
       "      <td>7</td>\n",
       "    </tr>\n",
       "    <tr>\n",
       "      <th>221298</th>\n",
       "      <td>1.0</td>\n",
       "      <td>60</td>\n",
       "      <td>1</td>\n",
       "      <td>5</td>\n",
       "      <td>11</td>\n",
       "      <td>160000</td>\n",
       "      <td>14</td>\n",
       "    </tr>\n",
       "    <tr>\n",
       "      <th>221299</th>\n",
       "      <td>1.0</td>\n",
       "      <td>60</td>\n",
       "      <td>2</td>\n",
       "      <td>5</td>\n",
       "      <td>8</td>\n",
       "      <td>160000</td>\n",
       "      <td>15</td>\n",
       "    </tr>\n",
       "  </tbody>\n",
       "</table>\n",
       "<p>5264 rows × 7 columns</p>\n",
       "</div>"
      ],
      "text/plain": [
       "        const  연령대  성별  생애주기  고객수       금액  건수\n",
       "1961      1.0   50   1     4    3   218000   3\n",
       "2440      1.0   50   1     4    3  4844400   3\n",
       "3687      1.0   50   1     4    6   420500   6\n",
       "3688      1.0   50   2     4    4   217500   4\n",
       "7074      1.0   60   1     5    3   272000   3\n",
       "...       ...  ...  ..   ...  ...      ...  ..\n",
       "221295    1.0   40   2     3    4    30000   5\n",
       "221296    1.0   50   1     4    6    90000  13\n",
       "221297    1.0   50   2     4    6    53000   7\n",
       "221298    1.0   60   1     5   11   160000  14\n",
       "221299    1.0   60   2     5    8   160000  15\n",
       "\n",
       "[5264 rows x 7 columns]"
      ]
     },
     "execution_count": 50,
     "metadata": {},
     "output_type": "execute_result"
    }
   ],
   "source": [
    "# bias 위한 상수항 추가\n",
    "data_cafe = sm.add_constant(data_cafe, has_constant=\"add\")\n",
    "data_sports = sm.add_constant(data_sports, has_constant=\"add\")\n",
    "data_food = sm.add_constant(data_food, has_constant=\"add\")\n",
    "data_display = sm.add_constant(data_display, has_constant=\"add\")\n",
    "data_tour = sm.add_constant(data_tour, has_constant=\"add\")\n",
    "\n",
    "data_tour"
   ]
  },
  {
   "cell_type": "code",
   "execution_count": 51,
   "metadata": {},
   "outputs": [
    {
     "name": "stdout",
     "output_type": "stream",
     "text": [
      "(25249, 6) (10821, 6) (25249,) (10821,)\n",
      "(7910, 6) (3391, 6) (7910,) (3391,)\n",
      "(115981, 6) (49707, 6) (115981,) (49707,)\n",
      "(4351, 6) (1866, 6) (4351,) (1866,)\n",
      "(3684, 6) (1580, 6) (3684,) (1580,)\n"
     ]
    }
   ],
   "source": [
    "# 설명변수(X) 와 타겟변수(y)를 분리 / 학습데이터와 평가데이터를 분할\n",
    "\n",
    "# 타겟변수 : 금액\n",
    "feature_columns_cafe = data_cafe.columns.difference(['금액'])\n",
    "feature_columns_sports = data_sports.columns.difference(['금액'])\n",
    "feature_columns_food = data_food.columns.difference(['금액'])\n",
    "feature_columns_display = data_display.columns.difference(['금액'])\n",
    "feature_columns_tour = data_tour.columns.difference(['금액'])\n",
    "\n",
    "X_cafe = data_cafe[feature_columns_cafe]\n",
    "y_cafe = data_cafe.금액\n",
    "\n",
    "X_sports = data_sports[feature_columns_sports]\n",
    "y_sports = data_sports.금액\n",
    "\n",
    "X_food = data_food[feature_columns_food]\n",
    "y_food = data_food.금액\n",
    "\n",
    "X_display = data_display[feature_columns_display]\n",
    "y_display = data_display.금액\n",
    "\n",
    "X_tour = data_tour[feature_columns_tour]\n",
    "y_tour = data_tour.금액\n",
    "\n",
    "\n",
    "train_x_cafe, test_x_cafe, train_y_cafe, test_y_cafe = train_test_split(X_cafe, y_cafe, train_size = 0.7, test_size=0.3)\n",
    "print(train_x_cafe.shape, test_x_cafe.shape, train_y_cafe.shape, test_y_cafe.shape)\n",
    "\n",
    "train_x_sports, test_x_sports, train_y_sports, test_y_sports = train_test_split(X_sports, y_sports, train_size = 0.7, test_size=0.3)\n",
    "print(train_x_sports.shape, test_x_sports.shape, train_y_sports.shape, test_y_sports.shape)\n",
    "\n",
    "train_x_food, test_x_food, train_y_food, test_y_food = train_test_split(X_food, y_food, train_size = 0.7, test_size=0.3)\n",
    "print(train_x_food.shape, test_x_food.shape, train_y_food.shape, test_y_food.shape)\n",
    "\n",
    "train_x_display, test_x_display, train_y_display, test_y_display = train_test_split(X_display, y_display, train_size = 0.7, test_size=0.3)\n",
    "print(train_x_display.shape, test_x_display.shape, train_y_display.shape, test_y_display.shape)\n",
    "\n",
    "train_x_tour, test_x_tour, train_y_tour, test_y_tour = train_test_split(X_tour, y_tour, train_size = 0.7, test_size=0.3)\n",
    "print(train_x_tour.shape, test_x_tour.shape, train_y_tour.shape, test_y_tour.shape)"
   ]
  },
  {
   "cell_type": "markdown",
   "metadata": {},
   "source": [
    "# 5가지 업종들의 모든 변수를 선택한 model"
   ]
  },
  {
   "cell_type": "markdown",
   "metadata": {},
   "source": [
    "### 1) cafe"
   ]
  },
  {
   "cell_type": "code",
   "execution_count": 52,
   "metadata": {},
   "outputs": [
    {
     "data": {
      "text/html": [
       "<table class=\"simpletable\">\n",
       "<caption>OLS Regression Results</caption>\n",
       "<tr>\n",
       "  <th>Dep. Variable:</th>           <td>금액</td>        <th>  R-squared:         </th>  <td>   0.981</td>  \n",
       "</tr>\n",
       "<tr>\n",
       "  <th>Model:</th>                   <td>OLS</td>       <th>  Adj. R-squared:    </th>  <td>   0.981</td>  \n",
       "</tr>\n",
       "<tr>\n",
       "  <th>Method:</th>             <td>Least Squares</td>  <th>  F-statistic:       </th>  <td>2.667e+05</td> \n",
       "</tr>\n",
       "<tr>\n",
       "  <th>Date:</th>             <td>Mon, 18 Jan 2021</td> <th>  Prob (F-statistic):</th>   <td>  0.00</td>   \n",
       "</tr>\n",
       "<tr>\n",
       "  <th>Time:</th>                 <td>17:41:43</td>     <th>  Log-Likelihood:    </th> <td>-3.6609e+05</td>\n",
       "</tr>\n",
       "<tr>\n",
       "  <th>No. Observations:</th>      <td> 25249</td>      <th>  AIC:               </th>  <td>7.322e+05</td> \n",
       "</tr>\n",
       "<tr>\n",
       "  <th>Df Residuals:</th>          <td> 25243</td>      <th>  BIC:               </th>  <td>7.322e+05</td> \n",
       "</tr>\n",
       "<tr>\n",
       "  <th>Df Model:</th>              <td>     5</td>      <th>                     </th>      <td> </td>     \n",
       "</tr>\n",
       "<tr>\n",
       "  <th>Covariance Type:</th>      <td>nonrobust</td>    <th>                     </th>      <td> </td>     \n",
       "</tr>\n",
       "</table>\n",
       "<table class=\"simpletable\">\n",
       "<tr>\n",
       "    <td></td>       <th>coef</th>     <th>std err</th>      <th>t</th>      <th>P>|t|</th>  <th>[0.025</th>    <th>0.975]</th>  \n",
       "</tr>\n",
       "<tr>\n",
       "  <th>const</th> <td>-1.507e+05</td> <td> 1.32e+04</td> <td>  -11.413</td> <td> 0.000</td> <td>-1.77e+05</td> <td>-1.25e+05</td>\n",
       "</tr>\n",
       "<tr>\n",
       "  <th>건수</th>    <td>  845.4997</td> <td>   64.875</td> <td>   13.033</td> <td> 0.000</td> <td>  718.340</td> <td>  972.659</td>\n",
       "</tr>\n",
       "<tr>\n",
       "  <th>고객수</th>   <td> 1.067e+04</td> <td>  104.732</td> <td>  101.898</td> <td> 0.000</td> <td> 1.05e+04</td> <td> 1.09e+04</td>\n",
       "</tr>\n",
       "<tr>\n",
       "  <th>생애주기</th>  <td> 1.339e+04</td> <td> 6613.168</td> <td>    2.024</td> <td> 0.043</td> <td>  424.436</td> <td> 2.63e+04</td>\n",
       "</tr>\n",
       "<tr>\n",
       "  <th>성별</th>    <td>  276.5807</td> <td> 6084.098</td> <td>    0.045</td> <td> 0.964</td> <td>-1.16e+04</td> <td> 1.22e+04</td>\n",
       "</tr>\n",
       "<tr>\n",
       "  <th>연령대</th>   <td> 3661.6523</td> <td>  637.740</td> <td>    5.742</td> <td> 0.000</td> <td> 2411.645</td> <td> 4911.660</td>\n",
       "</tr>\n",
       "</table>\n",
       "<table class=\"simpletable\">\n",
       "<tr>\n",
       "  <th>Omnibus:</th>       <td>44364.682</td> <th>  Durbin-Watson:     </th>   <td>   2.000</td>   \n",
       "</tr>\n",
       "<tr>\n",
       "  <th>Prob(Omnibus):</th>  <td> 0.000</td>   <th>  Jarque-Bera (JB):  </th> <td>404013048.735</td>\n",
       "</tr>\n",
       "<tr>\n",
       "  <th>Skew:</th>           <td>11.643</td>   <th>  Prob(JB):          </th>   <td>    0.00</td>   \n",
       "</tr>\n",
       "<tr>\n",
       "  <th>Kurtosis:</th>       <td>622.262</td>  <th>  Cond. No.          </th>   <td>2.65e+03</td>   \n",
       "</tr>\n",
       "</table><br/><br/>Notes:<br/>[1] Standard Errors assume that the covariance matrix of the errors is correctly specified.<br/>[2] The condition number is large, 2.65e+03. This might indicate that there are<br/>strong multicollinearity or other numerical problems."
      ],
      "text/plain": [
       "<class 'statsmodels.iolib.summary.Summary'>\n",
       "\"\"\"\n",
       "                            OLS Regression Results                            \n",
       "==============================================================================\n",
       "Dep. Variable:                     금액   R-squared:                       0.981\n",
       "Model:                            OLS   Adj. R-squared:                  0.981\n",
       "Method:                 Least Squares   F-statistic:                 2.667e+05\n",
       "Date:                Mon, 18 Jan 2021   Prob (F-statistic):               0.00\n",
       "Time:                        17:41:43   Log-Likelihood:            -3.6609e+05\n",
       "No. Observations:               25249   AIC:                         7.322e+05\n",
       "Df Residuals:                   25243   BIC:                         7.322e+05\n",
       "Df Model:                           5                                         \n",
       "Covariance Type:            nonrobust                                         \n",
       "==============================================================================\n",
       "                 coef    std err          t      P>|t|      [0.025      0.975]\n",
       "------------------------------------------------------------------------------\n",
       "const      -1.507e+05   1.32e+04    -11.413      0.000   -1.77e+05   -1.25e+05\n",
       "건수           845.4997     64.875     13.033      0.000     718.340     972.659\n",
       "고객수         1.067e+04    104.732    101.898      0.000    1.05e+04    1.09e+04\n",
       "생애주기        1.339e+04   6613.168      2.024      0.043     424.436    2.63e+04\n",
       "성별           276.5807   6084.098      0.045      0.964   -1.16e+04    1.22e+04\n",
       "연령대         3661.6523    637.740      5.742      0.000    2411.645    4911.660\n",
       "==============================================================================\n",
       "Omnibus:                    44364.682   Durbin-Watson:                   2.000\n",
       "Prob(Omnibus):                  0.000   Jarque-Bera (JB):        404013048.735\n",
       "Skew:                          11.643   Prob(JB):                         0.00\n",
       "Kurtosis:                     622.262   Cond. No.                     2.65e+03\n",
       "==============================================================================\n",
       "\n",
       "Notes:\n",
       "[1] Standard Errors assume that the covariance matrix of the errors is correctly specified.\n",
       "[2] The condition number is large, 2.65e+03. This might indicate that there are\n",
       "strong multicollinearity or other numerical problems.\n",
       "\"\"\""
      ]
     },
     "execution_count": 52,
     "metadata": {},
     "output_type": "execute_result"
    }
   ],
   "source": [
    "# cafe train & 회귀모델 적합\n",
    "\n",
    "full_model_cafe = sm.OLS(train_y_cafe, train_x_cafe)\n",
    "fitted_full_model_cafe = full_model_cafe.fit()\n",
    "\n",
    "fitted_full_model_cafe.summary()"
   ]
  },
  {
   "cell_type": "markdown",
   "metadata": {},
   "source": [
    "### 2) sports"
   ]
  },
  {
   "cell_type": "code",
   "execution_count": 53,
   "metadata": {},
   "outputs": [
    {
     "data": {
      "text/html": [
       "<table class=\"simpletable\">\n",
       "<caption>OLS Regression Results</caption>\n",
       "<tr>\n",
       "  <th>Dep. Variable:</th>           <td>금액</td>        <th>  R-squared:         </th>  <td>   0.934</td>  \n",
       "</tr>\n",
       "<tr>\n",
       "  <th>Model:</th>                   <td>OLS</td>       <th>  Adj. R-squared:    </th>  <td>   0.934</td>  \n",
       "</tr>\n",
       "<tr>\n",
       "  <th>Method:</th>             <td>Least Squares</td>  <th>  F-statistic:       </th>  <td>2.236e+04</td> \n",
       "</tr>\n",
       "<tr>\n",
       "  <th>Date:</th>             <td>Mon, 18 Jan 2021</td> <th>  Prob (F-statistic):</th>   <td>  0.00</td>   \n",
       "</tr>\n",
       "<tr>\n",
       "  <th>Time:</th>                 <td>17:41:45</td>     <th>  Log-Likelihood:    </th> <td>-1.2763e+05</td>\n",
       "</tr>\n",
       "<tr>\n",
       "  <th>No. Observations:</th>      <td>  7910</td>      <th>  AIC:               </th>  <td>2.553e+05</td> \n",
       "</tr>\n",
       "<tr>\n",
       "  <th>Df Residuals:</th>          <td>  7904</td>      <th>  BIC:               </th>  <td>2.553e+05</td> \n",
       "</tr>\n",
       "<tr>\n",
       "  <th>Df Model:</th>              <td>     5</td>      <th>                     </th>      <td> </td>     \n",
       "</tr>\n",
       "<tr>\n",
       "  <th>Covariance Type:</th>      <td>nonrobust</td>    <th>                     </th>      <td> </td>     \n",
       "</tr>\n",
       "</table>\n",
       "<table class=\"simpletable\">\n",
       "<tr>\n",
       "    <td></td>       <th>coef</th>     <th>std err</th>      <th>t</th>      <th>P>|t|</th>  <th>[0.025</th>    <th>0.975]</th>  \n",
       "</tr>\n",
       "<tr>\n",
       "  <th>const</th> <td> -1.81e+06</td> <td> 1.17e+05</td> <td>  -15.476</td> <td> 0.000</td> <td>-2.04e+06</td> <td>-1.58e+06</td>\n",
       "</tr>\n",
       "<tr>\n",
       "  <th>건수</th>    <td> 4.575e+04</td> <td> 2432.163</td> <td>   18.809</td> <td> 0.000</td> <td>  4.1e+04</td> <td> 5.05e+04</td>\n",
       "</tr>\n",
       "<tr>\n",
       "  <th>고객수</th>   <td> 6.984e+04</td> <td> 3042.199</td> <td>   22.956</td> <td> 0.000</td> <td> 6.39e+04</td> <td> 7.58e+04</td>\n",
       "</tr>\n",
       "<tr>\n",
       "  <th>생애주기</th>  <td> 2.879e+05</td> <td> 5.79e+04</td> <td>    4.972</td> <td> 0.000</td> <td> 1.74e+05</td> <td> 4.01e+05</td>\n",
       "</tr>\n",
       "<tr>\n",
       "  <th>성별</th>    <td> 1.795e+05</td> <td> 5.64e+04</td> <td>    3.181</td> <td> 0.001</td> <td> 6.89e+04</td> <td>  2.9e+05</td>\n",
       "</tr>\n",
       "<tr>\n",
       "  <th>연령대</th>   <td> 1.355e+04</td> <td> 5397.107</td> <td>    2.510</td> <td> 0.012</td> <td> 2968.405</td> <td> 2.41e+04</td>\n",
       "</tr>\n",
       "</table>\n",
       "<table class=\"simpletable\">\n",
       "<tr>\n",
       "  <th>Omnibus:</th>       <td>2973.025</td> <th>  Durbin-Watson:     </th>  <td>   2.018</td> \n",
       "</tr>\n",
       "<tr>\n",
       "  <th>Prob(Omnibus):</th>  <td> 0.000</td>  <th>  Jarque-Bera (JB):  </th> <td>454606.583</td>\n",
       "</tr>\n",
       "<tr>\n",
       "  <th>Skew:</th>           <td>-0.718</td>  <th>  Prob(JB):          </th>  <td>    0.00</td> \n",
       "</tr>\n",
       "<tr>\n",
       "  <th>Kurtosis:</th>       <td>40.112</td>  <th>  Cond. No.          </th>  <td>    577.</td> \n",
       "</tr>\n",
       "</table><br/><br/>Notes:<br/>[1] Standard Errors assume that the covariance matrix of the errors is correctly specified."
      ],
      "text/plain": [
       "<class 'statsmodels.iolib.summary.Summary'>\n",
       "\"\"\"\n",
       "                            OLS Regression Results                            \n",
       "==============================================================================\n",
       "Dep. Variable:                     금액   R-squared:                       0.934\n",
       "Model:                            OLS   Adj. R-squared:                  0.934\n",
       "Method:                 Least Squares   F-statistic:                 2.236e+04\n",
       "Date:                Mon, 18 Jan 2021   Prob (F-statistic):               0.00\n",
       "Time:                        17:41:45   Log-Likelihood:            -1.2763e+05\n",
       "No. Observations:                7910   AIC:                         2.553e+05\n",
       "Df Residuals:                    7904   BIC:                         2.553e+05\n",
       "Df Model:                           5                                         \n",
       "Covariance Type:            nonrobust                                         \n",
       "==============================================================================\n",
       "                 coef    std err          t      P>|t|      [0.025      0.975]\n",
       "------------------------------------------------------------------------------\n",
       "const       -1.81e+06   1.17e+05    -15.476      0.000   -2.04e+06   -1.58e+06\n",
       "건수          4.575e+04   2432.163     18.809      0.000     4.1e+04    5.05e+04\n",
       "고객수         6.984e+04   3042.199     22.956      0.000    6.39e+04    7.58e+04\n",
       "생애주기        2.879e+05   5.79e+04      4.972      0.000    1.74e+05    4.01e+05\n",
       "성별          1.795e+05   5.64e+04      3.181      0.001    6.89e+04     2.9e+05\n",
       "연령대         1.355e+04   5397.107      2.510      0.012    2968.405    2.41e+04\n",
       "==============================================================================\n",
       "Omnibus:                     2973.025   Durbin-Watson:                   2.018\n",
       "Prob(Omnibus):                  0.000   Jarque-Bera (JB):           454606.583\n",
       "Skew:                          -0.718   Prob(JB):                         0.00\n",
       "Kurtosis:                      40.112   Cond. No.                         577.\n",
       "==============================================================================\n",
       "\n",
       "Notes:\n",
       "[1] Standard Errors assume that the covariance matrix of the errors is correctly specified.\n",
       "\"\"\""
      ]
     },
     "execution_count": 53,
     "metadata": {},
     "output_type": "execute_result"
    }
   ],
   "source": [
    "# sports train & 회귀모델 적합\n",
    "\n",
    "full_model_sports = sm.OLS(train_y_sports, train_x_sports)\n",
    "fitted_full_model_sports = full_model_sports.fit()\n",
    "\n",
    "fitted_full_model_sports.summary()"
   ]
  },
  {
   "cell_type": "markdown",
   "metadata": {},
   "source": [
    "### 3) food"
   ]
  },
  {
   "cell_type": "code",
   "execution_count": 54,
   "metadata": {},
   "outputs": [
    {
     "data": {
      "text/html": [
       "<table class=\"simpletable\">\n",
       "<caption>OLS Regression Results</caption>\n",
       "<tr>\n",
       "  <th>Dep. Variable:</th>           <td>금액</td>        <th>  R-squared:         </th>  <td>   0.976</td>  \n",
       "</tr>\n",
       "<tr>\n",
       "  <th>Model:</th>                   <td>OLS</td>       <th>  Adj. R-squared:    </th>  <td>   0.976</td>  \n",
       "</tr>\n",
       "<tr>\n",
       "  <th>Method:</th>             <td>Least Squares</td>  <th>  F-statistic:       </th>  <td>9.326e+05</td> \n",
       "</tr>\n",
       "<tr>\n",
       "  <th>Date:</th>             <td>Mon, 18 Jan 2021</td> <th>  Prob (F-statistic):</th>   <td>  0.00</td>   \n",
       "</tr>\n",
       "<tr>\n",
       "  <th>Time:</th>                 <td>17:41:46</td>     <th>  Log-Likelihood:    </th> <td>-1.9191e+06</td>\n",
       "</tr>\n",
       "<tr>\n",
       "  <th>No. Observations:</th>      <td>115981</td>      <th>  AIC:               </th>  <td>3.838e+06</td> \n",
       "</tr>\n",
       "<tr>\n",
       "  <th>Df Residuals:</th>          <td>115975</td>      <th>  BIC:               </th>  <td>3.838e+06</td> \n",
       "</tr>\n",
       "<tr>\n",
       "  <th>Df Model:</th>              <td>     5</td>      <th>                     </th>      <td> </td>     \n",
       "</tr>\n",
       "<tr>\n",
       "  <th>Covariance Type:</th>      <td>nonrobust</td>    <th>                     </th>      <td> </td>     \n",
       "</tr>\n",
       "</table>\n",
       "<table class=\"simpletable\">\n",
       "<tr>\n",
       "    <td></td>       <th>coef</th>     <th>std err</th>      <th>t</th>      <th>P>|t|</th>  <th>[0.025</th>    <th>0.975]</th>  \n",
       "</tr>\n",
       "<tr>\n",
       "  <th>const</th> <td>-4.697e+05</td> <td> 4.86e+04</td> <td>   -9.668</td> <td> 0.000</td> <td>-5.65e+05</td> <td>-3.74e+05</td>\n",
       "</tr>\n",
       "<tr>\n",
       "  <th>건수</th>    <td> 3.919e+04</td> <td>  175.273</td> <td>  223.605</td> <td> 0.000</td> <td> 3.88e+04</td> <td> 3.95e+04</td>\n",
       "</tr>\n",
       "<tr>\n",
       "  <th>고객수</th>   <td>-9751.2978</td> <td>  264.086</td> <td>  -36.925</td> <td> 0.000</td> <td>-1.03e+04</td> <td>-9233.693</td>\n",
       "</tr>\n",
       "<tr>\n",
       "  <th>생애주기</th>  <td> 1.146e+05</td> <td> 2.37e+04</td> <td>    4.835</td> <td> 0.000</td> <td> 6.81e+04</td> <td> 1.61e+05</td>\n",
       "</tr>\n",
       "<tr>\n",
       "  <th>성별</th>    <td>-3.494e+05</td> <td> 2.27e+04</td> <td>  -15.383</td> <td> 0.000</td> <td>-3.94e+05</td> <td>-3.05e+05</td>\n",
       "</tr>\n",
       "<tr>\n",
       "  <th>연령대</th>   <td> 1.239e+04</td> <td> 2302.598</td> <td>    5.380</td> <td> 0.000</td> <td> 7875.307</td> <td> 1.69e+04</td>\n",
       "</tr>\n",
       "</table>\n",
       "<table class=\"simpletable\">\n",
       "<tr>\n",
       "  <th>Omnibus:</th>       <td>86735.767</td> <th>  Durbin-Watson:     </th>    <td>   1.993</td>   \n",
       "</tr>\n",
       "<tr>\n",
       "  <th>Prob(Omnibus):</th>  <td> 0.000</td>   <th>  Jarque-Bera (JB):  </th> <td>2112870930.592</td>\n",
       "</tr>\n",
       "<tr>\n",
       "  <th>Skew:</th>           <td>-1.673</td>   <th>  Prob(JB):          </th>    <td>    0.00</td>   \n",
       "</tr>\n",
       "<tr>\n",
       "  <th>Kurtosis:</th>       <td>664.216</td>  <th>  Cond. No.          </th>    <td>4.16e+03</td>   \n",
       "</tr>\n",
       "</table><br/><br/>Notes:<br/>[1] Standard Errors assume that the covariance matrix of the errors is correctly specified.<br/>[2] The condition number is large, 4.16e+03. This might indicate that there are<br/>strong multicollinearity or other numerical problems."
      ],
      "text/plain": [
       "<class 'statsmodels.iolib.summary.Summary'>\n",
       "\"\"\"\n",
       "                            OLS Regression Results                            \n",
       "==============================================================================\n",
       "Dep. Variable:                     금액   R-squared:                       0.976\n",
       "Model:                            OLS   Adj. R-squared:                  0.976\n",
       "Method:                 Least Squares   F-statistic:                 9.326e+05\n",
       "Date:                Mon, 18 Jan 2021   Prob (F-statistic):               0.00\n",
       "Time:                        17:41:46   Log-Likelihood:            -1.9191e+06\n",
       "No. Observations:              115981   AIC:                         3.838e+06\n",
       "Df Residuals:                  115975   BIC:                         3.838e+06\n",
       "Df Model:                           5                                         \n",
       "Covariance Type:            nonrobust                                         \n",
       "==============================================================================\n",
       "                 coef    std err          t      P>|t|      [0.025      0.975]\n",
       "------------------------------------------------------------------------------\n",
       "const      -4.697e+05   4.86e+04     -9.668      0.000   -5.65e+05   -3.74e+05\n",
       "건수          3.919e+04    175.273    223.605      0.000    3.88e+04    3.95e+04\n",
       "고객수        -9751.2978    264.086    -36.925      0.000   -1.03e+04   -9233.693\n",
       "생애주기        1.146e+05   2.37e+04      4.835      0.000    6.81e+04    1.61e+05\n",
       "성별         -3.494e+05   2.27e+04    -15.383      0.000   -3.94e+05   -3.05e+05\n",
       "연령대         1.239e+04   2302.598      5.380      0.000    7875.307    1.69e+04\n",
       "==============================================================================\n",
       "Omnibus:                    86735.767   Durbin-Watson:                   1.993\n",
       "Prob(Omnibus):                  0.000   Jarque-Bera (JB):       2112870930.592\n",
       "Skew:                          -1.673   Prob(JB):                         0.00\n",
       "Kurtosis:                     664.216   Cond. No.                     4.16e+03\n",
       "==============================================================================\n",
       "\n",
       "Notes:\n",
       "[1] Standard Errors assume that the covariance matrix of the errors is correctly specified.\n",
       "[2] The condition number is large, 4.16e+03. This might indicate that there are\n",
       "strong multicollinearity or other numerical problems.\n",
       "\"\"\""
      ]
     },
     "execution_count": 54,
     "metadata": {},
     "output_type": "execute_result"
    }
   ],
   "source": [
    "# food train & 회귀모델 적합\n",
    "\n",
    "full_model_food = sm.OLS(train_y_food, train_x_food)\n",
    "fitted_full_model_food = full_model_food.fit()\n",
    "\n",
    "fitted_full_model_food.summary()"
   ]
  },
  {
   "cell_type": "markdown",
   "metadata": {},
   "source": [
    "### 4) display"
   ]
  },
  {
   "cell_type": "code",
   "execution_count": 55,
   "metadata": {},
   "outputs": [
    {
     "data": {
      "text/html": [
       "<table class=\"simpletable\">\n",
       "<caption>OLS Regression Results</caption>\n",
       "<tr>\n",
       "  <th>Dep. Variable:</th>           <td>금액</td>        <th>  R-squared:         </th> <td>   0.810</td> \n",
       "</tr>\n",
       "<tr>\n",
       "  <th>Model:</th>                   <td>OLS</td>       <th>  Adj. R-squared:    </th> <td>   0.809</td> \n",
       "</tr>\n",
       "<tr>\n",
       "  <th>Method:</th>             <td>Least Squares</td>  <th>  F-statistic:       </th> <td>   3695.</td> \n",
       "</tr>\n",
       "<tr>\n",
       "  <th>Date:</th>             <td>Mon, 18 Jan 2021</td> <th>  Prob (F-statistic):</th>  <td>  0.00</td>  \n",
       "</tr>\n",
       "<tr>\n",
       "  <th>Time:</th>                 <td>17:41:47</td>     <th>  Log-Likelihood:    </th> <td> -61196.</td> \n",
       "</tr>\n",
       "<tr>\n",
       "  <th>No. Observations:</th>      <td>  4351</td>      <th>  AIC:               </th> <td>1.224e+05</td>\n",
       "</tr>\n",
       "<tr>\n",
       "  <th>Df Residuals:</th>          <td>  4345</td>      <th>  BIC:               </th> <td>1.224e+05</td>\n",
       "</tr>\n",
       "<tr>\n",
       "  <th>Df Model:</th>              <td>     5</td>      <th>                     </th>     <td> </td>    \n",
       "</tr>\n",
       "<tr>\n",
       "  <th>Covariance Type:</th>      <td>nonrobust</td>    <th>                     </th>     <td> </td>    \n",
       "</tr>\n",
       "</table>\n",
       "<table class=\"simpletable\">\n",
       "<tr>\n",
       "    <td></td>       <th>coef</th>     <th>std err</th>      <th>t</th>      <th>P>|t|</th>  <th>[0.025</th>    <th>0.975]</th>  \n",
       "</tr>\n",
       "<tr>\n",
       "  <th>const</th> <td> -3.66e+05</td> <td> 2.66e+04</td> <td>  -13.771</td> <td> 0.000</td> <td>-4.18e+05</td> <td>-3.14e+05</td>\n",
       "</tr>\n",
       "<tr>\n",
       "  <th>건수</th>    <td>-1.444e+04</td> <td> 1612.856</td> <td>   -8.953</td> <td> 0.000</td> <td>-1.76e+04</td> <td>-1.13e+04</td>\n",
       "</tr>\n",
       "<tr>\n",
       "  <th>고객수</th>   <td> 6.283e+04</td> <td> 1872.847</td> <td>   33.546</td> <td> 0.000</td> <td> 5.92e+04</td> <td> 6.65e+04</td>\n",
       "</tr>\n",
       "<tr>\n",
       "  <th>생애주기</th>  <td> 1460.6683</td> <td> 1.68e+04</td> <td>    0.087</td> <td> 0.931</td> <td>-3.14e+04</td> <td> 3.44e+04</td>\n",
       "</tr>\n",
       "<tr>\n",
       "  <th>성별</th>    <td> 4.134e+04</td> <td> 9579.808</td> <td>    4.315</td> <td> 0.000</td> <td> 2.26e+04</td> <td> 6.01e+04</td>\n",
       "</tr>\n",
       "<tr>\n",
       "  <th>연령대</th>   <td> 4307.0315</td> <td> 1656.674</td> <td>    2.600</td> <td> 0.009</td> <td> 1059.106</td> <td> 7554.957</td>\n",
       "</tr>\n",
       "</table>\n",
       "<table class=\"simpletable\">\n",
       "<tr>\n",
       "  <th>Omnibus:</th>       <td>5591.763</td> <th>  Durbin-Watson:     </th>  <td>   2.031</td>  \n",
       "</tr>\n",
       "<tr>\n",
       "  <th>Prob(Omnibus):</th>  <td> 0.000</td>  <th>  Jarque-Bera (JB):  </th> <td>3725119.056</td>\n",
       "</tr>\n",
       "<tr>\n",
       "  <th>Skew:</th>           <td> 6.524</td>  <th>  Prob(JB):          </th>  <td>    0.00</td>  \n",
       "</tr>\n",
       "<tr>\n",
       "  <th>Kurtosis:</th>       <td>145.749</td> <th>  Cond. No.          </th>  <td>    266.</td>  \n",
       "</tr>\n",
       "</table><br/><br/>Notes:<br/>[1] Standard Errors assume that the covariance matrix of the errors is correctly specified."
      ],
      "text/plain": [
       "<class 'statsmodels.iolib.summary.Summary'>\n",
       "\"\"\"\n",
       "                            OLS Regression Results                            \n",
       "==============================================================================\n",
       "Dep. Variable:                     금액   R-squared:                       0.810\n",
       "Model:                            OLS   Adj. R-squared:                  0.809\n",
       "Method:                 Least Squares   F-statistic:                     3695.\n",
       "Date:                Mon, 18 Jan 2021   Prob (F-statistic):               0.00\n",
       "Time:                        17:41:47   Log-Likelihood:                -61196.\n",
       "No. Observations:                4351   AIC:                         1.224e+05\n",
       "Df Residuals:                    4345   BIC:                         1.224e+05\n",
       "Df Model:                           5                                         \n",
       "Covariance Type:            nonrobust                                         \n",
       "==============================================================================\n",
       "                 coef    std err          t      P>|t|      [0.025      0.975]\n",
       "------------------------------------------------------------------------------\n",
       "const       -3.66e+05   2.66e+04    -13.771      0.000   -4.18e+05   -3.14e+05\n",
       "건수         -1.444e+04   1612.856     -8.953      0.000   -1.76e+04   -1.13e+04\n",
       "고객수         6.283e+04   1872.847     33.546      0.000    5.92e+04    6.65e+04\n",
       "생애주기        1460.6683   1.68e+04      0.087      0.931   -3.14e+04    3.44e+04\n",
       "성별          4.134e+04   9579.808      4.315      0.000    2.26e+04    6.01e+04\n",
       "연령대         4307.0315   1656.674      2.600      0.009    1059.106    7554.957\n",
       "==============================================================================\n",
       "Omnibus:                     5591.763   Durbin-Watson:                   2.031\n",
       "Prob(Omnibus):                  0.000   Jarque-Bera (JB):          3725119.056\n",
       "Skew:                           6.524   Prob(JB):                         0.00\n",
       "Kurtosis:                     145.749   Cond. No.                         266.\n",
       "==============================================================================\n",
       "\n",
       "Notes:\n",
       "[1] Standard Errors assume that the covariance matrix of the errors is correctly specified.\n",
       "\"\"\""
      ]
     },
     "execution_count": 55,
     "metadata": {},
     "output_type": "execute_result"
    }
   ],
   "source": [
    "# display train & 회귀모델 적합\n",
    "\n",
    "full_model_display = sm.OLS(train_y_display, train_x_display)\n",
    "fitted_full_model_display = full_model_display.fit()\n",
    "\n",
    "fitted_full_model_display.summary()"
   ]
  },
  {
   "cell_type": "markdown",
   "metadata": {},
   "source": [
    "### 5) tour"
   ]
  },
  {
   "cell_type": "code",
   "execution_count": 56,
   "metadata": {},
   "outputs": [
    {
     "data": {
      "text/html": [
       "<table class=\"simpletable\">\n",
       "<caption>OLS Regression Results</caption>\n",
       "<tr>\n",
       "  <th>Dep. Variable:</th>           <td>금액</td>        <th>  R-squared:         </th> <td>   0.350</td> \n",
       "</tr>\n",
       "<tr>\n",
       "  <th>Model:</th>                   <td>OLS</td>       <th>  Adj. R-squared:    </th> <td>   0.349</td> \n",
       "</tr>\n",
       "<tr>\n",
       "  <th>Method:</th>             <td>Least Squares</td>  <th>  F-statistic:       </th> <td>   396.2</td> \n",
       "</tr>\n",
       "<tr>\n",
       "  <th>Date:</th>             <td>Mon, 18 Jan 2021</td> <th>  Prob (F-statistic):</th>  <td>  0.00</td>  \n",
       "</tr>\n",
       "<tr>\n",
       "  <th>Time:</th>                 <td>17:41:47</td>     <th>  Log-Likelihood:    </th> <td> -58695.</td> \n",
       "</tr>\n",
       "<tr>\n",
       "  <th>No. Observations:</th>      <td>  3684</td>      <th>  AIC:               </th> <td>1.174e+05</td>\n",
       "</tr>\n",
       "<tr>\n",
       "  <th>Df Residuals:</th>          <td>  3678</td>      <th>  BIC:               </th> <td>1.174e+05</td>\n",
       "</tr>\n",
       "<tr>\n",
       "  <th>Df Model:</th>              <td>     5</td>      <th>                     </th>     <td> </td>    \n",
       "</tr>\n",
       "<tr>\n",
       "  <th>Covariance Type:</th>      <td>nonrobust</td>    <th>                     </th>     <td> </td>    \n",
       "</tr>\n",
       "</table>\n",
       "<table class=\"simpletable\">\n",
       "<tr>\n",
       "    <td></td>       <th>coef</th>     <th>std err</th>      <th>t</th>      <th>P>|t|</th>  <th>[0.025</th>    <th>0.975]</th>  \n",
       "</tr>\n",
       "<tr>\n",
       "  <th>const</th> <td> 2.281e+04</td> <td> 1.73e+05</td> <td>    0.132</td> <td> 0.895</td> <td>-3.15e+05</td> <td> 3.61e+05</td>\n",
       "</tr>\n",
       "<tr>\n",
       "  <th>건수</th>    <td>-8.221e+04</td> <td> 7542.932</td> <td>  -10.900</td> <td> 0.000</td> <td> -9.7e+04</td> <td>-6.74e+04</td>\n",
       "</tr>\n",
       "<tr>\n",
       "  <th>고객수</th>   <td> 2.389e+05</td> <td> 1.16e+04</td> <td>   20.680</td> <td> 0.000</td> <td> 2.16e+05</td> <td> 2.62e+05</td>\n",
       "</tr>\n",
       "<tr>\n",
       "  <th>생애주기</th>  <td>-3.107e+04</td> <td> 9.91e+04</td> <td>   -0.314</td> <td> 0.754</td> <td>-2.25e+05</td> <td> 1.63e+05</td>\n",
       "</tr>\n",
       "<tr>\n",
       "  <th>성별</th>    <td>-1.865e+05</td> <td> 6.76e+04</td> <td>   -2.758</td> <td> 0.006</td> <td>-3.19e+05</td> <td>-5.39e+04</td>\n",
       "</tr>\n",
       "<tr>\n",
       "  <th>연령대</th>   <td> 2258.2664</td> <td> 9319.562</td> <td>    0.242</td> <td> 0.809</td> <td> -1.6e+04</td> <td> 2.05e+04</td>\n",
       "</tr>\n",
       "</table>\n",
       "<table class=\"simpletable\">\n",
       "<tr>\n",
       "  <th>Omnibus:</th>       <td>4784.523</td> <th>  Durbin-Watson:     </th>  <td>   2.002</td>  \n",
       "</tr>\n",
       "<tr>\n",
       "  <th>Prob(Omnibus):</th>  <td> 0.000</td>  <th>  Jarque-Bera (JB):  </th> <td>1179538.533</td>\n",
       "</tr>\n",
       "<tr>\n",
       "  <th>Skew:</th>           <td> 7.074</td>  <th>  Prob(JB):          </th>  <td>    0.00</td>  \n",
       "</tr>\n",
       "<tr>\n",
       "  <th>Kurtosis:</th>       <td>89.511</td>  <th>  Cond. No.          </th>  <td>    277.</td>  \n",
       "</tr>\n",
       "</table><br/><br/>Notes:<br/>[1] Standard Errors assume that the covariance matrix of the errors is correctly specified."
      ],
      "text/plain": [
       "<class 'statsmodels.iolib.summary.Summary'>\n",
       "\"\"\"\n",
       "                            OLS Regression Results                            \n",
       "==============================================================================\n",
       "Dep. Variable:                     금액   R-squared:                       0.350\n",
       "Model:                            OLS   Adj. R-squared:                  0.349\n",
       "Method:                 Least Squares   F-statistic:                     396.2\n",
       "Date:                Mon, 18 Jan 2021   Prob (F-statistic):               0.00\n",
       "Time:                        17:41:47   Log-Likelihood:                -58695.\n",
       "No. Observations:                3684   AIC:                         1.174e+05\n",
       "Df Residuals:                    3678   BIC:                         1.174e+05\n",
       "Df Model:                           5                                         \n",
       "Covariance Type:            nonrobust                                         \n",
       "==============================================================================\n",
       "                 coef    std err          t      P>|t|      [0.025      0.975]\n",
       "------------------------------------------------------------------------------\n",
       "const       2.281e+04   1.73e+05      0.132      0.895   -3.15e+05    3.61e+05\n",
       "건수         -8.221e+04   7542.932    -10.900      0.000    -9.7e+04   -6.74e+04\n",
       "고객수         2.389e+05   1.16e+04     20.680      0.000    2.16e+05    2.62e+05\n",
       "생애주기       -3.107e+04   9.91e+04     -0.314      0.754   -2.25e+05    1.63e+05\n",
       "성별         -1.865e+05   6.76e+04     -2.758      0.006   -3.19e+05   -5.39e+04\n",
       "연령대         2258.2664   9319.562      0.242      0.809    -1.6e+04    2.05e+04\n",
       "==============================================================================\n",
       "Omnibus:                     4784.523   Durbin-Watson:                   2.002\n",
       "Prob(Omnibus):                  0.000   Jarque-Bera (JB):          1179538.533\n",
       "Skew:                           7.074   Prob(JB):                         0.00\n",
       "Kurtosis:                      89.511   Cond. No.                         277.\n",
       "==============================================================================\n",
       "\n",
       "Notes:\n",
       "[1] Standard Errors assume that the covariance matrix of the errors is correctly specified.\n",
       "\"\"\""
      ]
     },
     "execution_count": 56,
     "metadata": {},
     "output_type": "execute_result"
    }
   ],
   "source": [
    "# tour train & 회귀모델 적합\n",
    "\n",
    "full_model_tour = sm.OLS(train_y_tour, train_x_tour)\n",
    "fitted_full_model_tour = full_model_tour.fit()\n",
    "\n",
    "fitted_full_model_tour.summary()"
   ]
  },
  {
   "cell_type": "markdown",
   "metadata": {},
   "source": [
    "***"
   ]
  },
  {
   "cell_type": "markdown",
   "metadata": {},
   "source": [
    "# 5가지 업종의 q-q plot"
   ]
  },
  {
   "cell_type": "markdown",
   "metadata": {},
   "source": [
    "### q-q plot은 잔차의 정규성을 확인할때 쓰는 그래프로,  y=x 형태를 띄면 정규성을 보임\n",
    "\n",
    "- 우리는 이상치가 너무 많아서 이런 모양인가봐!"
   ]
  },
  {
   "cell_type": "markdown",
   "metadata": {},
   "source": [
    "### 1) cafe"
   ]
  },
  {
   "cell_type": "code",
   "execution_count": 57,
   "metadata": {},
   "outputs": [
    {
     "data": {
      "image/png": "[encoded data removed]",
      "text/plain": [
       "<Figure size 432x288 with 1 Axes>"
      ]
     },
     "metadata": {
      "needs_background": "light"
     },
     "output_type": "display_data"
    }
   ],
   "source": [
    "# 학습데이터의 잔차 확인\n",
    "res_cafe = fitted_full_model_cafe.resid\n",
    "\n",
    "# q-q plot을 통해 잔차의 정규분포 확인\n",
    "fig = sm.qqplot(res_cafe, fit=True, line='45')"
   ]
  },
  {
   "cell_type": "markdown",
   "metadata": {},
   "source": [
    "### 2) sports"
   ]
  },
  {
   "cell_type": "code",
   "execution_count": 58,
   "metadata": {},
   "outputs": [
    {
     "data": {
      "image/png": "[encoded data removed]",
      "text/plain": [
       "<Figure size 432x288 with 1 Axes>"
      ]
     },
     "metadata": {
      "needs_background": "light"
     },
     "output_type": "display_data"
    }
   ],
   "source": [
    "# 학습데이터의 잔차 확인\n",
    "res_sports = fitted_full_model_sports.resid\n",
    "\n",
    "# q-q plot을 통해 잔차의 정규분포 확인\n",
    "fig = sm.qqplot(res_sports, fit=True, line='45')"
   ]
  },
  {
   "cell_type": "markdown",
   "metadata": {},
   "source": [
    "### 3) food"
   ]
  },
  {
   "cell_type": "code",
   "execution_count": 59,
   "metadata": {},
   "outputs": [
    {
     "data": {
      "image/png": "[encoded data removed]",
      "text/plain": [
       "<Figure size 432x288 with 1 Axes>"
      ]
     },
     "metadata": {
      "needs_background": "light"
     },
     "output_type": "display_data"
    }
   ],
   "source": [
    "# 학습데이터의 잔차 확인\n",
    "res_food= fitted_full_model_food.resid\n",
    "\n",
    "# q-q plot을 통해 잔차의 정규분포 확인\n",
    "fig = sm.qqplot(res_food, fit=True, line='45')"
   ]
  },
  {
   "cell_type": "markdown",
   "metadata": {},
   "source": [
    "### 4) display"
   ]
  },
  {
   "cell_type": "code",
   "execution_count": 60,
   "metadata": {},
   "outputs": [
    {
     "data": {
      "image/png": "[encoded data removed]",
      "text/plain": [
       "<Figure size 432x288 with 1 Axes>"
      ]
     },
     "metadata": {
      "needs_background": "light"
     },
     "output_type": "display_data"
    }
   ],
   "source": [
    "# 학습데이터의 잔차 확인\n",
    "res_display = fitted_full_model_display.resid\n",
    "\n",
    "# q-q plot을 통해 잔차의 정규분포 확인\n",
    "fig = sm.qqplot(res_display, fit=True, line='45')"
   ]
  },
  {
   "cell_type": "markdown",
   "metadata": {},
   "source": [
    "### 5) tour"
   ]
  },
  {
   "cell_type": "code",
   "execution_count": 61,
   "metadata": {},
   "outputs": [
    {
     "data": {
      "image/png": "[encoded data removed]",
      "text/plain": [
       "<Figure size 432x288 with 1 Axes>"
      ]
     },
     "metadata": {
      "needs_background": "light"
     },
     "output_type": "display_data"
    }
   ],
   "source": [
    "# 학습데이터의 잔차 확인\n",
    "res_tour = fitted_full_model_tour.resid\n",
    "\n",
    "# q-q plot을 통해 잔차의 정규분포 확인\n",
    "fig = sm.qqplot(res_tour, fit=True, line='45')"
   ]
  },
  {
   "cell_type": "markdown",
   "metadata": {},
   "source": [
    "## 변수 선택법\n",
    "- 전체 경우의 수\n",
    "- 전진 선택법\n",
    "- 후진 소거법\n",
    "- 단계적 선택법"
   ]
  },
  {
   "cell_type": "markdown",
   "metadata": {},
   "source": [
    "## (함수 정의)\n",
    "## 1) 전체 경우의 수\n",
    "### 모든 경우의 수를 실행해 단순히 aic가 가장 낮은 모델 선택하는 방법"
   ]
  },
  {
   "cell_type": "code",
   "execution_count": 62,
   "metadata": {},
   "outputs": [],
   "source": [
    "# 변수선택을 통해 형성한 모델의 aic 구하는 함수\n",
    "# aic가 낮을수록 모델이 좋다고 평가\n",
    "\n",
    "def processSubset(X, y ,feature_set):\n",
    "    model = sm.OLS(y,X[list(feature_set)]) #Modeling\n",
    "    regr = model.fit() # model fitting\n",
    "    AIC = regr.aic # models' AIC\n",
    "    return {'model' : regr, 'AIC' : AIC}"
   ]
  },
  {
   "cell_type": "code",
   "execution_count": 63,
   "metadata": {},
   "outputs": [],
   "source": [
    "import time\n",
    "import itertools\n",
    "\n",
    "#getBest : 가장 낮은 AIC 를 가지는 모델을 선택하고 저장하는 함수\n",
    "\n",
    "def getBest(X, y, k):\n",
    "    tic = time.time() # 시작시간\n",
    "    results =[] # 결과 저장 공간\n",
    "    for combo in itertools.combinations(X.columns.difference(['const']),k):\n",
    "                                        # 각 변수 조합을 고려한 경우의수\n",
    "        \n",
    "        combo = (list(combo)+['const'])\n",
    "        # 상수항을 추가하여 combo를 결성\n",
    "        \n",
    "        results.append(processSubset(X,y,feature_set = combo)) # 모델링된것을 저장\n",
    "        \n",
    "        # 만약 k=2이면 여기서 두가지 변수만 뽑아서 경우의 수를 분석하여\n",
    "        # 저장 후 그 중 AIC가 가장 낮은 모델을 선택하도록 함\n",
    "                                        \n",
    "    models = pd.DataFrame(results) # 데이터프레임으로 모델결과 변환\n",
    "    best_model = models.loc[models['AIC'].argmin()] # argmin은 최소값의 인덱스를 뽑는 함수\n",
    "    toc = time.time() # 종료시간\n",
    "    print('Prcessed', models.shape[0], 'models on', k, 'predictors in', (toc-tic), 'seconds')\n",
    "    return best_model"
   ]
  },
  {
   "cell_type": "markdown",
   "metadata": {},
   "source": [
    "## 2) 전진 선택법"
   ]
  },
  {
   "cell_type": "code",
   "execution_count": 64,
   "metadata": {},
   "outputs": [],
   "source": [
    "### 전진 선택법(step=1)\n",
    "\n",
    "def forward(X,y,predictors):\n",
    "\n",
    "    # predictor - 현재 선택되어있는 변수\n",
    "    # 데이터 변수들이 미리정의된 predictors에 있는지 없는지 확인 및 분류\n",
    "    \n",
    "    remaining_predictors = [p for p in X.columns.difference(['const']) if p not in predictors]\n",
    "    tic = time.time()\n",
    "    results = []\n",
    "    for p in remaining_predictors :\n",
    "        results.append(processSubset(X=X,y=y,feature_set=predictors+[p]+['const']))\n",
    "    \n",
    "    # 데이터프레임으로 변환\n",
    "    models = pd.DataFrame(results)\n",
    "    \n",
    "    # AIC가 가장 낮은 것을 선택\n",
    "    best_model = models.loc[models['AIC'].argmin()]\n",
    "    toc = time.time()\n",
    "    print(\"Processed \",models.shape[0], \"models on\", len(predictors)+1, \"predictors in\", (toc-tic))\n",
    "    print(\"Selected predictors:\",best_model[\"model\"].model.exog_names,\"AIC: \",best_model[0])\n",
    "    return best_model\n",
    "    \n",
    "### 전진선택법 모델\n",
    "\n",
    "def forward_model(X,y):\n",
    "\n",
    "    Fmodels = pd.DataFrame(columns=[\"AIC\",\"model\"])\n",
    "    tic = time.time()\n",
    "    \n",
    "    # 미리 정의된 데이터 변수\n",
    "    predictors = []\n",
    "    \n",
    "    # 변수 1~10개 : 0-9 -> 1-10\n",
    "    for i in range(1,len(X.columns.difference(['const']))+1):\n",
    "        Forward_result = forward(X=X,y=y,predictors=predictors)\n",
    "        if i > 1 :\n",
    "            if Forward_result[\"AIC\"] > Fmodel_before:\n",
    "                break\n",
    "        Fmodels.loc[i] = Forward_result\n",
    "        predictors = Fmodels.loc[i][\"model\"].model.exog_names\n",
    "        Fmodel_before = Fmodels.loc[i][\"AIC\"]\n",
    "        predictors = [k for k in predictors if k != 'const']\n",
    "    toc = time.time()\n",
    "    print(\"Total elapsed time:\",(toc-tic), \"seconds.\")\n",
    "    \n",
    "    return (Fmodels['model'][len(Fmodels['model'])])"
   ]
  },
  {
   "cell_type": "markdown",
   "metadata": {},
   "source": [
    "## 3) 후진 소거법"
   ]
  },
  {
   "cell_type": "code",
   "execution_count": 65,
   "metadata": {},
   "outputs": [],
   "source": [
    "### 후진소거법(step=1)\n",
    "\n",
    "def backward(X,y,predictors):\n",
    "    tic = time.time()\n",
    "    results = []\n",
    "    \n",
    "    # 데이터 변수들이 미리 정의된 predictors 조합 확인\n",
    "    \n",
    "    for combo in itertools.combinations(predictors, len(predictors) - 1):\n",
    "        results.append(processSubset(X=X,y=y,feature_set=list(combo)+['const']))\n",
    "    models = pd.DataFrame(results)\n",
    "    \n",
    "    # 가장 낮은 AIC를 가진 모델을 선택\n",
    "    best_model = models.loc[models['AIC'].argmin()]\n",
    "    toc = time.time()\n",
    "    \n",
    "    print(\"Processed \",models.shape[0], \"models on\", len(predictors) - 1, \"predictors in\",(toc-tic))\n",
    "    print(\"Selected predictors:\",best_model['model'].model.exog_names,' AIC:',best_model[0])\n",
    "    return best_model\n",
    "    \n",
    "def backward_model(X,y) :\n",
    "    Bmodels = pd.DataFrame(columns=[\"AIC\",\"model\"], index = range(1,len(X.columns)))\n",
    "    tic = time.time()\n",
    "    predictors = X.columns.difference(['const'])\n",
    "    Bmodel_before = processSubset(X,y,predictors)['AIC']\n",
    "    while (len(predictors) > 1):\n",
    "        Backward_result = backward(X=X, y= y, predictors=predictors)\n",
    "        if Backward_result['AIC'] > Bmodel_before :\n",
    "            break\n",
    "        Bmodels.loc[len(predictors) -1] = Backward_result\n",
    "        predictors = Bmodels.loc[len(predictors) - 1]['model'].model.exog_names\n",
    "        Bmodel_before = Backward_result[\"AIC\"]\n",
    "        predictors = [k for k in predictors if k != 'const']\n",
    "    \n",
    "    toc = time.time()\n",
    "    print(\"Total elapsed time:\",(toc-tic),\"seconds.\")\n",
    "    return (Bmodels[\"model\"].dropna().iloc[0])"
   ]
  },
  {
   "cell_type": "code",
   "execution_count": null,
   "metadata": {},
   "outputs": [],
   "source": []
  },
  {
   "cell_type": "markdown",
   "metadata": {},
   "source": [
    "## 4) 단계적 선택법"
   ]
  },
  {
   "cell_type": "code",
   "execution_count": 66,
   "metadata": {},
   "outputs": [],
   "source": [
    "### 단계적 선택법\n",
    "def Stepwise_model(X,y):\n",
    "    Stepmodels = pd.DataFrame(columns = [\"AIC\",\"model\"])\n",
    "    tic = time.time()\n",
    "    predictors = []\n",
    "    Smodel_before = processSubset(X,y,predictors + ['const'])['AIC']\n",
    "    \n",
    "    # 변수 1~10개 0-9 -> 1-10\n",
    "    for i in range(1,len(X.columns.difference(['const']))+1) :\n",
    "        Forward_result = forward(X=X,y=y,predictors = predictors) # constant added\n",
    "        print('forward')\n",
    "        Stepmodels.loc[i] = Forward_result\n",
    "        predictors = Stepmodels.loc[i]['model'].model.exog_names\n",
    "        predictors = [k for k in predictors if k != 'const']\n",
    "        Backward_result = backward(X=X,y=y,predictors = predictors)\n",
    "        if Backward_result[\"AIC\"] < Forward_result[\"AIC\"]:\n",
    "            Stepmodels.loc[i] = Backward_result\n",
    "            predictors = Stepmodels.loc[i][\"model\"].model.exog_names\n",
    "            Smodel_before = Stepmodels.loc[i][\"AIC\"]\n",
    "            predictors = [k for k in predictors if k != \"const\"]\n",
    "            print('backward')\n",
    "        if Stepmodels.loc[i][\"AIC\"] > Smodel_before:\n",
    "            break\n",
    "        else :\n",
    "            Smodel_before = Stepmodels.loc[i][\"AIC\"]\n",
    "    toc = time.time()\n",
    "    print(\"Total elapsed time:\",(toc-tic),\"seconds.\")\n",
    "    return (Stepmodels[\"model\"][len(Stepmodels[\"model\"])])"
   ]
  },
  {
   "cell_type": "code",
   "execution_count": null,
   "metadata": {},
   "outputs": [],
   "source": []
  },
  {
   "cell_type": "markdown",
   "metadata": {},
   "source": [
    "# CAFE"
   ]
  },
  {
   "cell_type": "code",
   "execution_count": 67,
   "metadata": {},
   "outputs": [
    {
     "data": {
      "text/html": [
       "<table class=\"simpletable\">\n",
       "<caption>OLS Regression Results</caption>\n",
       "<tr>\n",
       "  <th>Dep. Variable:</th>           <td>금액</td>        <th>  R-squared:         </th>  <td>   0.981</td>  \n",
       "</tr>\n",
       "<tr>\n",
       "  <th>Model:</th>                   <td>OLS</td>       <th>  Adj. R-squared:    </th>  <td>   0.981</td>  \n",
       "</tr>\n",
       "<tr>\n",
       "  <th>Method:</th>             <td>Least Squares</td>  <th>  F-statistic:       </th>  <td>2.667e+05</td> \n",
       "</tr>\n",
       "<tr>\n",
       "  <th>Date:</th>             <td>Mon, 18 Jan 2021</td> <th>  Prob (F-statistic):</th>   <td>  0.00</td>   \n",
       "</tr>\n",
       "<tr>\n",
       "  <th>Time:</th>                 <td>17:42:01</td>     <th>  Log-Likelihood:    </th> <td>-3.6609e+05</td>\n",
       "</tr>\n",
       "<tr>\n",
       "  <th>No. Observations:</th>      <td> 25249</td>      <th>  AIC:               </th>  <td>7.322e+05</td> \n",
       "</tr>\n",
       "<tr>\n",
       "  <th>Df Residuals:</th>          <td> 25243</td>      <th>  BIC:               </th>  <td>7.322e+05</td> \n",
       "</tr>\n",
       "<tr>\n",
       "  <th>Df Model:</th>              <td>     5</td>      <th>                     </th>      <td> </td>     \n",
       "</tr>\n",
       "<tr>\n",
       "  <th>Covariance Type:</th>      <td>nonrobust</td>    <th>                     </th>      <td> </td>     \n",
       "</tr>\n",
       "</table>\n",
       "<table class=\"simpletable\">\n",
       "<tr>\n",
       "    <td></td>       <th>coef</th>     <th>std err</th>      <th>t</th>      <th>P>|t|</th>  <th>[0.025</th>    <th>0.975]</th>  \n",
       "</tr>\n",
       "<tr>\n",
       "  <th>const</th> <td>-1.507e+05</td> <td> 1.32e+04</td> <td>  -11.413</td> <td> 0.000</td> <td>-1.77e+05</td> <td>-1.25e+05</td>\n",
       "</tr>\n",
       "<tr>\n",
       "  <th>건수</th>    <td>  845.4997</td> <td>   64.875</td> <td>   13.033</td> <td> 0.000</td> <td>  718.340</td> <td>  972.659</td>\n",
       "</tr>\n",
       "<tr>\n",
       "  <th>고객수</th>   <td> 1.067e+04</td> <td>  104.732</td> <td>  101.898</td> <td> 0.000</td> <td> 1.05e+04</td> <td> 1.09e+04</td>\n",
       "</tr>\n",
       "<tr>\n",
       "  <th>생애주기</th>  <td> 1.339e+04</td> <td> 6613.168</td> <td>    2.024</td> <td> 0.043</td> <td>  424.436</td> <td> 2.63e+04</td>\n",
       "</tr>\n",
       "<tr>\n",
       "  <th>성별</th>    <td>  276.5807</td> <td> 6084.098</td> <td>    0.045</td> <td> 0.964</td> <td>-1.16e+04</td> <td> 1.22e+04</td>\n",
       "</tr>\n",
       "<tr>\n",
       "  <th>연령대</th>   <td> 3661.6523</td> <td>  637.740</td> <td>    5.742</td> <td> 0.000</td> <td> 2411.645</td> <td> 4911.660</td>\n",
       "</tr>\n",
       "</table>\n",
       "<table class=\"simpletable\">\n",
       "<tr>\n",
       "  <th>Omnibus:</th>       <td>44364.682</td> <th>  Durbin-Watson:     </th>   <td>   2.000</td>   \n",
       "</tr>\n",
       "<tr>\n",
       "  <th>Prob(Omnibus):</th>  <td> 0.000</td>   <th>  Jarque-Bera (JB):  </th> <td>404013048.735</td>\n",
       "</tr>\n",
       "<tr>\n",
       "  <th>Skew:</th>           <td>11.643</td>   <th>  Prob(JB):          </th>   <td>    0.00</td>   \n",
       "</tr>\n",
       "<tr>\n",
       "  <th>Kurtosis:</th>       <td>622.262</td>  <th>  Cond. No.          </th>   <td>2.65e+03</td>   \n",
       "</tr>\n",
       "</table><br/><br/>Notes:<br/>[1] Standard Errors assume that the covariance matrix of the errors is correctly specified.<br/>[2] The condition number is large, 2.65e+03. This might indicate that there are<br/>strong multicollinearity or other numerical problems."
      ],
      "text/plain": [
       "<class 'statsmodels.iolib.summary.Summary'>\n",
       "\"\"\"\n",
       "                            OLS Regression Results                            \n",
       "==============================================================================\n",
       "Dep. Variable:                     금액   R-squared:                       0.981\n",
       "Model:                            OLS   Adj. R-squared:                  0.981\n",
       "Method:                 Least Squares   F-statistic:                 2.667e+05\n",
       "Date:                Mon, 18 Jan 2021   Prob (F-statistic):               0.00\n",
       "Time:                        17:42:01   Log-Likelihood:            -3.6609e+05\n",
       "No. Observations:               25249   AIC:                         7.322e+05\n",
       "Df Residuals:                   25243   BIC:                         7.322e+05\n",
       "Df Model:                           5                                         \n",
       "Covariance Type:            nonrobust                                         \n",
       "==============================================================================\n",
       "                 coef    std err          t      P>|t|      [0.025      0.975]\n",
       "------------------------------------------------------------------------------\n",
       "const      -1.507e+05   1.32e+04    -11.413      0.000   -1.77e+05   -1.25e+05\n",
       "건수           845.4997     64.875     13.033      0.000     718.340     972.659\n",
       "고객수         1.067e+04    104.732    101.898      0.000    1.05e+04    1.09e+04\n",
       "생애주기        1.339e+04   6613.168      2.024      0.043     424.436    2.63e+04\n",
       "성별           276.5807   6084.098      0.045      0.964   -1.16e+04    1.22e+04\n",
       "연령대         3661.6523    637.740      5.742      0.000    2411.645    4911.660\n",
       "==============================================================================\n",
       "Omnibus:                    44364.682   Durbin-Watson:                   2.000\n",
       "Prob(Omnibus):                  0.000   Jarque-Bera (JB):        404013048.735\n",
       "Skew:                          11.643   Prob(JB):                         0.00\n",
       "Kurtosis:                     622.262   Cond. No.                     2.65e+03\n",
       "==============================================================================\n",
       "\n",
       "Notes:\n",
       "[1] Standard Errors assume that the covariance matrix of the errors is correctly specified.\n",
       "[2] The condition number is large, 2.65e+03. This might indicate that there are\n",
       "strong multicollinearity or other numerical problems.\n",
       "\"\"\""
      ]
     },
     "execution_count": 67,
     "metadata": {},
     "output_type": "execute_result"
    }
   ],
   "source": [
    "# 모든 변수를 사용한 cafe의 회귀모델 적합\n",
    "\n",
    "full_model_cafe = sm.OLS(train_y_cafe, train_x_cafe)\n",
    "fitted_full_model_cafe = full_model_cafe.fit()\n",
    "\n",
    "fitted_full_model_cafe.summary()"
   ]
  },
  {
   "cell_type": "code",
   "execution_count": 68,
   "metadata": {},
   "outputs": [
    {
     "data": {
      "text/html": [
       "<table class=\"simpletable\">\n",
       "<caption>OLS Regression Results</caption>\n",
       "<tr>\n",
       "  <th>Dep. Variable:</th>           <td>금액</td>        <th>  R-squared:         </th>  <td>   0.982</td>  \n",
       "</tr>\n",
       "<tr>\n",
       "  <th>Model:</th>                   <td>OLS</td>       <th>  Adj. R-squared:    </th>  <td>   0.982</td>  \n",
       "</tr>\n",
       "<tr>\n",
       "  <th>Method:</th>             <td>Least Squares</td>  <th>  F-statistic:       </th>  <td>3.937e+05</td> \n",
       "</tr>\n",
       "<tr>\n",
       "  <th>Date:</th>             <td>Mon, 18 Jan 2021</td> <th>  Prob (F-statistic):</th>   <td>  0.00</td>   \n",
       "</tr>\n",
       "<tr>\n",
       "  <th>Time:</th>                 <td>17:42:02</td>     <th>  Log-Likelihood:    </th> <td>-5.2200e+05</td>\n",
       "</tr>\n",
       "<tr>\n",
       "  <th>No. Observations:</th>      <td> 36070</td>      <th>  AIC:               </th>  <td>1.044e+06</td> \n",
       "</tr>\n",
       "<tr>\n",
       "  <th>Df Residuals:</th>          <td> 36064</td>      <th>  BIC:               </th>  <td>1.044e+06</td> \n",
       "</tr>\n",
       "<tr>\n",
       "  <th>Df Model:</th>              <td>     5</td>      <th>                     </th>      <td> </td>     \n",
       "</tr>\n",
       "<tr>\n",
       "  <th>Covariance Type:</th>      <td>nonrobust</td>    <th>                     </th>      <td> </td>     \n",
       "</tr>\n",
       "</table>\n",
       "<table class=\"simpletable\">\n",
       "<tr>\n",
       "    <td></td>       <th>coef</th>     <th>std err</th>      <th>t</th>      <th>P>|t|</th>  <th>[0.025</th>    <th>0.975]</th>  \n",
       "</tr>\n",
       "<tr>\n",
       "  <th>const</th> <td>-1.538e+05</td> <td> 1.08e+04</td> <td>  -14.234</td> <td> 0.000</td> <td>-1.75e+05</td> <td>-1.33e+05</td>\n",
       "</tr>\n",
       "<tr>\n",
       "  <th>건수</th>    <td>  778.4693</td> <td>   52.236</td> <td>   14.903</td> <td> 0.000</td> <td>  676.086</td> <td>  880.853</td>\n",
       "</tr>\n",
       "<tr>\n",
       "  <th>고객수</th>   <td> 1.074e+04</td> <td>   84.050</td> <td>  127.790</td> <td> 0.000</td> <td> 1.06e+04</td> <td> 1.09e+04</td>\n",
       "</tr>\n",
       "<tr>\n",
       "  <th>생애주기</th>  <td> 1.488e+04</td> <td> 5401.510</td> <td>    2.755</td> <td> 0.006</td> <td> 4293.805</td> <td> 2.55e+04</td>\n",
       "</tr>\n",
       "<tr>\n",
       "  <th>성별</th>    <td> 1283.7650</td> <td> 4957.572</td> <td>    0.259</td> <td> 0.796</td> <td>-8433.223</td> <td>  1.1e+04</td>\n",
       "</tr>\n",
       "<tr>\n",
       "  <th>연령대</th>   <td> 3614.5068</td> <td>  522.327</td> <td>    6.920</td> <td> 0.000</td> <td> 2590.731</td> <td> 4638.283</td>\n",
       "</tr>\n",
       "</table>\n",
       "<table class=\"simpletable\">\n",
       "<tr>\n",
       "  <th>Omnibus:</th>       <td>60761.453</td> <th>  Durbin-Watson:     </th>   <td>   1.588</td>   \n",
       "</tr>\n",
       "<tr>\n",
       "  <th>Prob(Omnibus):</th>  <td> 0.000</td>   <th>  Jarque-Bera (JB):  </th> <td>472984919.025</td>\n",
       "</tr>\n",
       "<tr>\n",
       "  <th>Skew:</th>           <td>10.632</td>   <th>  Prob(JB):          </th>   <td>    0.00</td>   \n",
       "</tr>\n",
       "<tr>\n",
       "  <th>Kurtosis:</th>       <td>563.588</td>  <th>  Cond. No.          </th>   <td>2.64e+03</td>   \n",
       "</tr>\n",
       "</table><br/><br/>Notes:<br/>[1] Standard Errors assume that the covariance matrix of the errors is correctly specified.<br/>[2] The condition number is large, 2.64e+03. This might indicate that there are<br/>strong multicollinearity or other numerical problems."
      ],
      "text/plain": [
       "<class 'statsmodels.iolib.summary.Summary'>\n",
       "\"\"\"\n",
       "                            OLS Regression Results                            \n",
       "==============================================================================\n",
       "Dep. Variable:                     금액   R-squared:                       0.982\n",
       "Model:                            OLS   Adj. R-squared:                  0.982\n",
       "Method:                 Least Squares   F-statistic:                 3.937e+05\n",
       "Date:                Mon, 18 Jan 2021   Prob (F-statistic):               0.00\n",
       "Time:                        17:42:02   Log-Likelihood:            -5.2200e+05\n",
       "No. Observations:               36070   AIC:                         1.044e+06\n",
       "Df Residuals:                   36064   BIC:                         1.044e+06\n",
       "Df Model:                           5                                         \n",
       "Covariance Type:            nonrobust                                         \n",
       "==============================================================================\n",
       "                 coef    std err          t      P>|t|      [0.025      0.975]\n",
       "------------------------------------------------------------------------------\n",
       "const      -1.538e+05   1.08e+04    -14.234      0.000   -1.75e+05   -1.33e+05\n",
       "건수           778.4693     52.236     14.903      0.000     676.086     880.853\n",
       "고객수         1.074e+04     84.050    127.790      0.000    1.06e+04    1.09e+04\n",
       "생애주기        1.488e+04   5401.510      2.755      0.006    4293.805    2.55e+04\n",
       "성별          1283.7650   4957.572      0.259      0.796   -8433.223     1.1e+04\n",
       "연령대         3614.5068    522.327      6.920      0.000    2590.731    4638.283\n",
       "==============================================================================\n",
       "Omnibus:                    60761.453   Durbin-Watson:                   1.588\n",
       "Prob(Omnibus):                  0.000   Jarque-Bera (JB):        472984919.025\n",
       "Skew:                          10.632   Prob(JB):                         0.00\n",
       "Kurtosis:                     563.588   Cond. No.                     2.64e+03\n",
       "==============================================================================\n",
       "\n",
       "Notes:\n",
       "[1] Standard Errors assume that the covariance matrix of the errors is correctly specified.\n",
       "[2] The condition number is large, 2.64e+03. This might indicate that there are\n",
       "strong multicollinearity or other numerical problems.\n",
       "\"\"\""
      ]
     },
     "execution_count": 68,
     "metadata": {},
     "output_type": "execute_result"
    }
   ],
   "source": [
    "# 모든 변수를 사용한 cafe의 회귀모델 적합\n",
    "\n",
    "full_model_cafe_1 = sm.OLS(y_cafe, X_cafe)\n",
    "fitted_full_model_cafe_1 = full_model_cafe_1.fit()\n",
    "\n",
    "fitted_full_model_cafe_1.summary()"
   ]
  },
  {
   "cell_type": "code",
   "execution_count": 69,
   "metadata": {
    "scrolled": true
   },
   "outputs": [
    {
     "data": {
      "text/html": [
       "<div>\n",
       "<style scoped>\n",
       "    .dataframe tbody tr th:only-of-type {\n",
       "        vertical-align: middle;\n",
       "    }\n",
       "\n",
       "    .dataframe tbody tr th {\n",
       "        vertical-align: top;\n",
       "    }\n",
       "\n",
       "    .dataframe thead th {\n",
       "        text-align: right;\n",
       "    }\n",
       "</style>\n",
       "<table border=\"1\" class=\"dataframe\">\n",
       "  <thead>\n",
       "    <tr style=\"text-align: right;\">\n",
       "      <th></th>\n",
       "      <th>VIF Factor</th>\n",
       "      <th>features</th>\n",
       "    </tr>\n",
       "  </thead>\n",
       "  <tbody>\n",
       "    <tr>\n",
       "      <th>0</th>\n",
       "      <td>19.452794</td>\n",
       "      <td>const</td>\n",
       "    </tr>\n",
       "    <tr>\n",
       "      <th>1</th>\n",
       "      <td>8.681696</td>\n",
       "      <td>연령대</td>\n",
       "    </tr>\n",
       "    <tr>\n",
       "      <th>2</th>\n",
       "      <td>1.012088</td>\n",
       "      <td>성별</td>\n",
       "    </tr>\n",
       "    <tr>\n",
       "      <th>3</th>\n",
       "      <td>8.657437</td>\n",
       "      <td>생애주기</td>\n",
       "    </tr>\n",
       "    <tr>\n",
       "      <th>4</th>\n",
       "      <td>140.659465</td>\n",
       "      <td>고객수</td>\n",
       "    </tr>\n",
       "    <tr>\n",
       "      <th>5</th>\n",
       "      <td>55.586846</td>\n",
       "      <td>금액</td>\n",
       "    </tr>\n",
       "    <tr>\n",
       "      <th>6</th>\n",
       "      <td>97.383132</td>\n",
       "      <td>건수</td>\n",
       "    </tr>\n",
       "  </tbody>\n",
       "</table>\n",
       "</div>"
      ],
      "text/plain": [
       "   VIF Factor features\n",
       "0   19.452794    const\n",
       "1    8.681696      연령대\n",
       "2    1.012088       성별\n",
       "3    8.657437     생애주기\n",
       "4  140.659465      고객수\n",
       "5   55.586846       금액\n",
       "6   97.383132       건수"
      ]
     },
     "execution_count": 69,
     "metadata": {},
     "output_type": "execute_result"
    }
   ],
   "source": [
    "# cafe VIF로 다중공선성 확인\n",
    "\n",
    "vif_cafe=pd.DataFrame()\n",
    "vif_cafe['VIF Factor'] = [variance_inflation_factor(data_cafe.values, i) for i in range(data_cafe.shape[1])]\n",
    "vif_cafe['features'] = data_cafe.columns\n",
    "vif_cafe"
   ]
  },
  {
   "cell_type": "markdown",
   "metadata": {},
   "source": [
    "***"
   ]
  },
  {
   "cell_type": "markdown",
   "metadata": {},
   "source": [
    "## 1) 전체 경우의 수"
   ]
  },
  {
   "cell_type": "code",
   "execution_count": 70,
   "metadata": {
    "scrolled": true
   },
   "outputs": [
    {
     "name": "stdout",
     "output_type": "stream",
     "text": [
      "카페: {'model': <statsmodels.regression.linear_model.RegressionResultsWrapper object at 0x000002029BA0F488>, 'AIC': 732187.8391197859}\n"
     ]
    }
   ],
   "source": [
    "print(\"카페:\", processSubset(X = train_x_cafe, y=train_y_cafe, feature_set = feature_columns_cafe))"
   ]
  },
  {
   "cell_type": "code",
   "execution_count": 71,
   "metadata": {},
   "outputs": [
    {
     "name": "stdout",
     "output_type": "stream",
     "text": [
      "Prcessed 5 models on 1 predictors in 0.021035194396972656 seconds\n",
      "Prcessed 10 models on 2 predictors in 0.039998769760131836 seconds\n",
      "Prcessed 10 models on 3 predictors in 0.04999995231628418 seconds\n",
      "Prcessed 5 models on 4 predictors in 0.044001102447509766 seconds\n",
      "Prcessed 1 models on 5 predictors in 0.008002519607543945 seconds\n",
      "카페 Total elapsed time: 0.1880335807800293 seconds\n"
     ]
    }
   ],
   "source": [
    "# 카페 변수 선택에 따른 학습시간과 저장\n",
    "models_cafe = pd.DataFrame(columns=['AIC', 'model'])\n",
    "tic = time.time()\n",
    "for i in range(1,6):\n",
    "    models_cafe.loc[i] = getBest(X=train_x_cafe, y=train_y_cafe, k=i)\n",
    "toc = time.time()\n",
    "print('카페 Total elapsed time:', (toc-tic), 'seconds')"
   ]
  },
  {
   "cell_type": "code",
   "execution_count": 72,
   "metadata": {},
   "outputs": [
    {
     "name": "stdout",
     "output_type": "stream",
     "text": [
      "Prcessed 5 models on 1 predictors in 0.025981903076171875 seconds\n",
      "Prcessed 10 models on 2 predictors in 0.05700206756591797 seconds\n",
      "Prcessed 10 models on 3 predictors in 0.09699892997741699 seconds\n",
      "Prcessed 5 models on 4 predictors in 0.04100823402404785 seconds\n",
      "Prcessed 1 models on 5 predictors in 0.010003089904785156 seconds\n",
      "카페 Total elapsed time: 0.25498199462890625 seconds\n"
     ]
    }
   ],
   "source": [
    "# 카페 변수 선택에 따른 학습시간과 저장\n",
    "models_cafe_1 = pd.DataFrame(columns=['AIC', 'model'])\n",
    "tic = time.time()\n",
    "for i in range(1,6):\n",
    "    models_cafe_1.loc[i] = getBest(X=X_cafe, y=y_cafe, k=i)\n",
    "toc = time.time()\n",
    "print('카페 Total elapsed time:', (toc-tic), 'seconds')"
   ]
  },
  {
   "cell_type": "code",
   "execution_count": 73,
   "metadata": {},
   "outputs": [
    {
     "data": {
      "text/html": [
       "<div>\n",
       "<style scoped>\n",
       "    .dataframe tbody tr th:only-of-type {\n",
       "        vertical-align: middle;\n",
       "    }\n",
       "\n",
       "    .dataframe tbody tr th {\n",
       "        vertical-align: top;\n",
       "    }\n",
       "\n",
       "    .dataframe thead th {\n",
       "        text-align: right;\n",
       "    }\n",
       "</style>\n",
       "<table border=\"1\" class=\"dataframe\">\n",
       "  <thead>\n",
       "    <tr style=\"text-align: right;\">\n",
       "      <th></th>\n",
       "      <th>AIC</th>\n",
       "      <th>model</th>\n",
       "    </tr>\n",
       "  </thead>\n",
       "  <tbody>\n",
       "    <tr>\n",
       "      <th>1</th>\n",
       "      <td>732818.234121</td>\n",
       "      <td>&lt;statsmodels.regression.linear_model.Regressio...</td>\n",
       "    </tr>\n",
       "    <tr>\n",
       "      <th>2</th>\n",
       "      <td>732354.802505</td>\n",
       "      <td>&lt;statsmodels.regression.linear_model.Regressio...</td>\n",
       "    </tr>\n",
       "    <tr>\n",
       "      <th>3</th>\n",
       "      <td>732187.954028</td>\n",
       "      <td>&lt;statsmodels.regression.linear_model.Regressio...</td>\n",
       "    </tr>\n",
       "    <tr>\n",
       "      <th>4</th>\n",
       "      <td>732185.841187</td>\n",
       "      <td>&lt;statsmodels.regression.linear_model.Regressio...</td>\n",
       "    </tr>\n",
       "    <tr>\n",
       "      <th>5</th>\n",
       "      <td>732187.839120</td>\n",
       "      <td>&lt;statsmodels.regression.linear_model.Regressio...</td>\n",
       "    </tr>\n",
       "  </tbody>\n",
       "</table>\n",
       "</div>"
      ],
      "text/plain": [
       "             AIC                                              model\n",
       "1  732818.234121  <statsmodels.regression.linear_model.Regressio...\n",
       "2  732354.802505  <statsmodels.regression.linear_model.Regressio...\n",
       "3  732187.954028  <statsmodels.regression.linear_model.Regressio...\n",
       "4  732185.841187  <statsmodels.regression.linear_model.Regressio...\n",
       "5  732187.839120  <statsmodels.regression.linear_model.Regressio..."
      ]
     },
     "execution_count": 73,
     "metadata": {},
     "output_type": "execute_result"
    }
   ],
   "source": [
    "# 선택된 변수의 개수(1,2,3,4,5) 별 가장 낮음 AIC를 보유한 모델들이 들어있는 data frame\n",
    "models_cafe"
   ]
  },
  {
   "cell_type": "code",
   "execution_count": 74,
   "metadata": {},
   "outputs": [
    {
     "data": {
      "text/html": [
       "<div>\n",
       "<style scoped>\n",
       "    .dataframe tbody tr th:only-of-type {\n",
       "        vertical-align: middle;\n",
       "    }\n",
       "\n",
       "    .dataframe tbody tr th {\n",
       "        vertical-align: top;\n",
       "    }\n",
       "\n",
       "    .dataframe thead th {\n",
       "        text-align: right;\n",
       "    }\n",
       "</style>\n",
       "<table border=\"1\" class=\"dataframe\">\n",
       "  <thead>\n",
       "    <tr style=\"text-align: right;\">\n",
       "      <th></th>\n",
       "      <th>AIC</th>\n",
       "      <th>model</th>\n",
       "    </tr>\n",
       "  </thead>\n",
       "  <tbody>\n",
       "    <tr>\n",
       "      <th>1</th>\n",
       "      <td>1.044953e+06</td>\n",
       "      <td>&lt;statsmodels.regression.linear_model.Regressio...</td>\n",
       "    </tr>\n",
       "    <tr>\n",
       "      <th>2</th>\n",
       "      <td>1.044225e+06</td>\n",
       "      <td>&lt;statsmodels.regression.linear_model.Regressio...</td>\n",
       "    </tr>\n",
       "    <tr>\n",
       "      <th>3</th>\n",
       "      <td>1.044006e+06</td>\n",
       "      <td>&lt;statsmodels.regression.linear_model.Regressio...</td>\n",
       "    </tr>\n",
       "    <tr>\n",
       "      <th>4</th>\n",
       "      <td>1.044001e+06</td>\n",
       "      <td>&lt;statsmodels.regression.linear_model.Regressio...</td>\n",
       "    </tr>\n",
       "    <tr>\n",
       "      <th>5</th>\n",
       "      <td>1.044003e+06</td>\n",
       "      <td>&lt;statsmodels.regression.linear_model.Regressio...</td>\n",
       "    </tr>\n",
       "  </tbody>\n",
       "</table>\n",
       "</div>"
      ],
      "text/plain": [
       "            AIC                                              model\n",
       "1  1.044953e+06  <statsmodels.regression.linear_model.Regressio...\n",
       "2  1.044225e+06  <statsmodels.regression.linear_model.Regressio...\n",
       "3  1.044006e+06  <statsmodels.regression.linear_model.Regressio...\n",
       "4  1.044001e+06  <statsmodels.regression.linear_model.Regressio...\n",
       "5  1.044003e+06  <statsmodels.regression.linear_model.Regressio..."
      ]
     },
     "execution_count": 74,
     "metadata": {},
     "output_type": "execute_result"
    }
   ],
   "source": [
    "models_cafe_1"
   ]
  },
  {
   "cell_type": "code",
   "execution_count": 75,
   "metadata": {},
   "outputs": [
    {
     "data": {
      "text/html": [
       "<table class=\"simpletable\">\n",
       "<caption>OLS Regression Results</caption>\n",
       "<tr>\n",
       "  <th>Dep. Variable:</th>           <td>금액</td>        <th>  R-squared:         </th>  <td>   0.981</td>  \n",
       "</tr>\n",
       "<tr>\n",
       "  <th>Model:</th>                   <td>OLS</td>       <th>  Adj. R-squared:    </th>  <td>   0.981</td>  \n",
       "</tr>\n",
       "<tr>\n",
       "  <th>Method:</th>             <td>Least Squares</td>  <th>  F-statistic:       </th>  <td>3.334e+05</td> \n",
       "</tr>\n",
       "<tr>\n",
       "  <th>Date:</th>             <td>Mon, 18 Jan 2021</td> <th>  Prob (F-statistic):</th>   <td>  0.00</td>   \n",
       "</tr>\n",
       "<tr>\n",
       "  <th>Time:</th>                 <td>17:42:09</td>     <th>  Log-Likelihood:    </th> <td>-3.6609e+05</td>\n",
       "</tr>\n",
       "<tr>\n",
       "  <th>No. Observations:</th>      <td> 25249</td>      <th>  AIC:               </th>  <td>7.322e+05</td> \n",
       "</tr>\n",
       "<tr>\n",
       "  <th>Df Residuals:</th>          <td> 25244</td>      <th>  BIC:               </th>  <td>7.322e+05</td> \n",
       "</tr>\n",
       "<tr>\n",
       "  <th>Df Model:</th>              <td>     4</td>      <th>                     </th>      <td> </td>     \n",
       "</tr>\n",
       "<tr>\n",
       "  <th>Covariance Type:</th>      <td>nonrobust</td>    <th>                     </th>      <td> </td>     \n",
       "</tr>\n",
       "</table>\n",
       "<table class=\"simpletable\">\n",
       "<tr>\n",
       "    <td></td>       <th>coef</th>     <th>std err</th>      <th>t</th>      <th>P>|t|</th>  <th>[0.025</th>    <th>0.975]</th>  \n",
       "</tr>\n",
       "<tr>\n",
       "  <th>건수</th>    <td>  845.3158</td> <td>   64.748</td> <td>   13.056</td> <td> 0.000</td> <td>  718.407</td> <td>  972.225</td>\n",
       "</tr>\n",
       "<tr>\n",
       "  <th>고객수</th>   <td> 1.067e+04</td> <td>  104.499</td> <td>  102.128</td> <td> 0.000</td> <td> 1.05e+04</td> <td> 1.09e+04</td>\n",
       "</tr>\n",
       "<tr>\n",
       "  <th>생애주기</th>  <td>  1.34e+04</td> <td> 6607.375</td> <td>    2.028</td> <td> 0.043</td> <td>  448.230</td> <td> 2.63e+04</td>\n",
       "</tr>\n",
       "<tr>\n",
       "  <th>연령대</th>   <td> 3659.9263</td> <td>  636.596</td> <td>    5.749</td> <td> 0.000</td> <td> 2412.160</td> <td> 4907.692</td>\n",
       "</tr>\n",
       "<tr>\n",
       "  <th>const</th> <td>-1.503e+05</td> <td> 9198.581</td> <td>  -16.337</td> <td> 0.000</td> <td>-1.68e+05</td> <td>-1.32e+05</td>\n",
       "</tr>\n",
       "</table>\n",
       "<table class=\"simpletable\">\n",
       "<tr>\n",
       "  <th>Omnibus:</th>       <td>44364.388</td> <th>  Durbin-Watson:     </th>   <td>   2.000</td>   \n",
       "</tr>\n",
       "<tr>\n",
       "  <th>Prob(Omnibus):</th>  <td> 0.000</td>   <th>  Jarque-Bera (JB):  </th> <td>404002731.499</td>\n",
       "</tr>\n",
       "<tr>\n",
       "  <th>Skew:</th>           <td>11.642</td>   <th>  Prob(JB):          </th>   <td>    0.00</td>   \n",
       "</tr>\n",
       "<tr>\n",
       "  <th>Kurtosis:</th>       <td>622.254</td>  <th>  Cond. No.          </th>   <td>1.86e+03</td>   \n",
       "</tr>\n",
       "</table><br/><br/>Notes:<br/>[1] Standard Errors assume that the covariance matrix of the errors is correctly specified.<br/>[2] The condition number is large, 1.86e+03. This might indicate that there are<br/>strong multicollinearity or other numerical problems."
      ],
      "text/plain": [
       "<class 'statsmodels.iolib.summary.Summary'>\n",
       "\"\"\"\n",
       "                            OLS Regression Results                            \n",
       "==============================================================================\n",
       "Dep. Variable:                     금액   R-squared:                       0.981\n",
       "Model:                            OLS   Adj. R-squared:                  0.981\n",
       "Method:                 Least Squares   F-statistic:                 3.334e+05\n",
       "Date:                Mon, 18 Jan 2021   Prob (F-statistic):               0.00\n",
       "Time:                        17:42:09   Log-Likelihood:            -3.6609e+05\n",
       "No. Observations:               25249   AIC:                         7.322e+05\n",
       "Df Residuals:                   25244   BIC:                         7.322e+05\n",
       "Df Model:                           4                                         \n",
       "Covariance Type:            nonrobust                                         \n",
       "==============================================================================\n",
       "                 coef    std err          t      P>|t|      [0.025      0.975]\n",
       "------------------------------------------------------------------------------\n",
       "건수           845.3158     64.748     13.056      0.000     718.407     972.225\n",
       "고객수         1.067e+04    104.499    102.128      0.000    1.05e+04    1.09e+04\n",
       "생애주기         1.34e+04   6607.375      2.028      0.043     448.230    2.63e+04\n",
       "연령대         3659.9263    636.596      5.749      0.000    2412.160    4907.692\n",
       "const      -1.503e+05   9198.581    -16.337      0.000   -1.68e+05   -1.32e+05\n",
       "==============================================================================\n",
       "Omnibus:                    44364.388   Durbin-Watson:                   2.000\n",
       "Prob(Omnibus):                  0.000   Jarque-Bera (JB):        404002731.499\n",
       "Skew:                          11.642   Prob(JB):                         0.00\n",
       "Kurtosis:                     622.254   Cond. No.                     1.86e+03\n",
       "==============================================================================\n",
       "\n",
       "Notes:\n",
       "[1] Standard Errors assume that the covariance matrix of the errors is correctly specified.\n",
       "[2] The condition number is large, 1.86e+03. This might indicate that there are\n",
       "strong multicollinearity or other numerical problems.\n",
       "\"\"\""
      ]
     },
     "execution_count": 75,
     "metadata": {},
     "output_type": "execute_result"
    }
   ],
   "source": [
    "# 가장 AIC가 낮은 4번째 모델의 OLS 결과 출력\n",
    "models_cafe.loc[4, 'model'].summary()"
   ]
  },
  {
   "cell_type": "code",
   "execution_count": 76,
   "metadata": {},
   "outputs": [
    {
     "data": {
      "text/html": [
       "<table class=\"simpletable\">\n",
       "<caption>OLS Regression Results</caption>\n",
       "<tr>\n",
       "  <th>Dep. Variable:</th>           <td>금액</td>        <th>  R-squared:         </th>  <td>   0.981</td>  \n",
       "</tr>\n",
       "<tr>\n",
       "  <th>Model:</th>                   <td>OLS</td>       <th>  Adj. R-squared:    </th>  <td>   0.981</td>  \n",
       "</tr>\n",
       "<tr>\n",
       "  <th>Method:</th>             <td>Least Squares</td>  <th>  F-statistic:       </th>  <td>3.334e+05</td> \n",
       "</tr>\n",
       "<tr>\n",
       "  <th>Date:</th>             <td>Mon, 18 Jan 2021</td> <th>  Prob (F-statistic):</th>   <td>  0.00</td>   \n",
       "</tr>\n",
       "<tr>\n",
       "  <th>Time:</th>                 <td>17:42:10</td>     <th>  Log-Likelihood:    </th> <td>-3.6609e+05</td>\n",
       "</tr>\n",
       "<tr>\n",
       "  <th>No. Observations:</th>      <td> 25249</td>      <th>  AIC:               </th>  <td>7.322e+05</td> \n",
       "</tr>\n",
       "<tr>\n",
       "  <th>Df Residuals:</th>          <td> 25244</td>      <th>  BIC:               </th>  <td>7.322e+05</td> \n",
       "</tr>\n",
       "<tr>\n",
       "  <th>Df Model:</th>              <td>     4</td>      <th>                     </th>      <td> </td>     \n",
       "</tr>\n",
       "<tr>\n",
       "  <th>Covariance Type:</th>      <td>nonrobust</td>    <th>                     </th>      <td> </td>     \n",
       "</tr>\n",
       "</table>\n",
       "<table class=\"simpletable\">\n",
       "<tr>\n",
       "    <td></td>       <th>coef</th>     <th>std err</th>      <th>t</th>      <th>P>|t|</th>  <th>[0.025</th>    <th>0.975]</th>  \n",
       "</tr>\n",
       "<tr>\n",
       "  <th>건수</th>    <td>  845.3158</td> <td>   64.748</td> <td>   13.056</td> <td> 0.000</td> <td>  718.407</td> <td>  972.225</td>\n",
       "</tr>\n",
       "<tr>\n",
       "  <th>고객수</th>   <td> 1.067e+04</td> <td>  104.499</td> <td>  102.128</td> <td> 0.000</td> <td> 1.05e+04</td> <td> 1.09e+04</td>\n",
       "</tr>\n",
       "<tr>\n",
       "  <th>생애주기</th>  <td>  1.34e+04</td> <td> 6607.375</td> <td>    2.028</td> <td> 0.043</td> <td>  448.230</td> <td> 2.63e+04</td>\n",
       "</tr>\n",
       "<tr>\n",
       "  <th>연령대</th>   <td> 3659.9263</td> <td>  636.596</td> <td>    5.749</td> <td> 0.000</td> <td> 2412.160</td> <td> 4907.692</td>\n",
       "</tr>\n",
       "<tr>\n",
       "  <th>const</th> <td>-1.503e+05</td> <td> 9198.581</td> <td>  -16.337</td> <td> 0.000</td> <td>-1.68e+05</td> <td>-1.32e+05</td>\n",
       "</tr>\n",
       "</table>\n",
       "<table class=\"simpletable\">\n",
       "<tr>\n",
       "  <th>Omnibus:</th>       <td>44364.388</td> <th>  Durbin-Watson:     </th>   <td>   2.000</td>   \n",
       "</tr>\n",
       "<tr>\n",
       "  <th>Prob(Omnibus):</th>  <td> 0.000</td>   <th>  Jarque-Bera (JB):  </th> <td>404002731.499</td>\n",
       "</tr>\n",
       "<tr>\n",
       "  <th>Skew:</th>           <td>11.642</td>   <th>  Prob(JB):          </th>   <td>    0.00</td>   \n",
       "</tr>\n",
       "<tr>\n",
       "  <th>Kurtosis:</th>       <td>622.254</td>  <th>  Cond. No.          </th>   <td>1.86e+03</td>   \n",
       "</tr>\n",
       "</table><br/><br/>Notes:<br/>[1] Standard Errors assume that the covariance matrix of the errors is correctly specified.<br/>[2] The condition number is large, 1.86e+03. This might indicate that there are<br/>strong multicollinearity or other numerical problems."
      ],
      "text/plain": [
       "<class 'statsmodels.iolib.summary.Summary'>\n",
       "\"\"\"\n",
       "                            OLS Regression Results                            \n",
       "==============================================================================\n",
       "Dep. Variable:                     금액   R-squared:                       0.981\n",
       "Model:                            OLS   Adj. R-squared:                  0.981\n",
       "Method:                 Least Squares   F-statistic:                 3.334e+05\n",
       "Date:                Mon, 18 Jan 2021   Prob (F-statistic):               0.00\n",
       "Time:                        17:42:10   Log-Likelihood:            -3.6609e+05\n",
       "No. Observations:               25249   AIC:                         7.322e+05\n",
       "Df Residuals:                   25244   BIC:                         7.322e+05\n",
       "Df Model:                           4                                         \n",
       "Covariance Type:            nonrobust                                         \n",
       "==============================================================================\n",
       "                 coef    std err          t      P>|t|      [0.025      0.975]\n",
       "------------------------------------------------------------------------------\n",
       "건수           845.3158     64.748     13.056      0.000     718.407     972.225\n",
       "고객수         1.067e+04    104.499    102.128      0.000    1.05e+04    1.09e+04\n",
       "생애주기         1.34e+04   6607.375      2.028      0.043     448.230    2.63e+04\n",
       "연령대         3659.9263    636.596      5.749      0.000    2412.160    4907.692\n",
       "const      -1.503e+05   9198.581    -16.337      0.000   -1.68e+05   -1.32e+05\n",
       "==============================================================================\n",
       "Omnibus:                    44364.388   Durbin-Watson:                   2.000\n",
       "Prob(Omnibus):                  0.000   Jarque-Bera (JB):        404002731.499\n",
       "Skew:                          11.642   Prob(JB):                         0.00\n",
       "Kurtosis:                     622.254   Cond. No.                     1.86e+03\n",
       "==============================================================================\n",
       "\n",
       "Notes:\n",
       "[1] Standard Errors assume that the covariance matrix of the errors is correctly specified.\n",
       "[2] The condition number is large, 1.86e+03. This might indicate that there are\n",
       "strong multicollinearity or other numerical problems.\n",
       "\"\"\""
      ]
     },
     "execution_count": 76,
     "metadata": {},
     "output_type": "execute_result"
    }
   ],
   "source": [
    "# 가장 AIC가 낮은 4번째 모델의 OLS 결과 출력\n",
    "models_cafe.loc[4, 'model'].summary()"
   ]
  },
  {
   "cell_type": "code",
   "execution_count": 77,
   "metadata": {},
   "outputs": [
    {
     "name": "stdout",
     "output_type": "stream",
     "text": [
      "full model Adj.Rsquared: 0.98142\n",
      "full model AIC: 732187.83912\n",
      "full model MSE: 12370206798766.04492\n",
      "selected model Adj.Rsquared: 0.98142\n",
      "selected model AIC: 732185.84119\n",
      "selected model MSE: 12370206798766.04492\n"
     ]
    }
   ],
   "source": [
    "# 모든 변수를 모델링 한것과 비교\n",
    "print(\"full model Adj.Rsquared:\",\"{:.5f}\".format(fitted_full_model_cafe.rsquared_adj))\n",
    "print(\"full model AIC:\",\"{:.5f}\".format(fitted_full_model_cafe.aic))\n",
    "print(\"full model MSE:\",\"{:.5f}\".format(fitted_full_model_cafe.mse_total))\n",
    "\n",
    "print(\"selected model Adj.Rsquared:\",\"{:.5f}\".format(models_cafe.loc[4,\"model\"].rsquared_adj))\n",
    "print(\"selected model AIC:\",\"{:.5f}\".format(models_cafe.loc[4,\"model\"].aic))\n",
    "print(\"selected model MSE:\",\"{:.5f}\".format(models_cafe.loc[4,\"model\"].mse_total))"
   ]
  },
  {
   "cell_type": "markdown",
   "metadata": {},
   "source": [
    "- ① 모든 변수를 선택한 model\n",
    "- 건수, 고객수, 생애주기, 성별, 연령대\n",
    "- '성별' 변수가 유의하지 않음\n",
    "\n",
    "\n",
    "- ② 변수 4가지 선택한 model\n",
    "- 건수, 고객수, 생애주기, 연령대\n",
    "- 모든 변수가 유의함\n",
    "\n",
    "\n",
    "- adj. r-squared는 같다\n",
    "- aic : ②번 model이 더 낮다\n",
    "- mse : 같다\n",
    "\n",
    "### aic가 더 낮고 모든 변수가 유의한 ②번 model이 더 좋다"
   ]
  },
  {
   "cell_type": "markdown",
   "metadata": {},
   "source": [
    "***"
   ]
  },
  {
   "cell_type": "markdown",
   "metadata": {},
   "source": [
    "## 2) 전진 선택법"
   ]
  },
  {
   "cell_type": "code",
   "execution_count": 78,
   "metadata": {
    "scrolled": true
   },
   "outputs": [
    {
     "name": "stdout",
     "output_type": "stream",
     "text": [
      "Processed  5 models on 1 predictors in 0.019037961959838867\n",
      "Selected predictors: ['고객수', 'const'] AIC:  <statsmodels.regression.linear_model.RegressionResultsWrapper object at 0x000002029A93E388>\n",
      "Processed  4 models on 2 predictors in 0.02000117301940918\n",
      "Selected predictors: ['고객수', '연령대', 'const'] AIC:  <statsmodels.regression.linear_model.RegressionResultsWrapper object at 0x000002029A941D48>\n",
      "Processed  3 models on 3 predictors in 0.01700139045715332\n",
      "Selected predictors: ['고객수', '연령대', '건수', 'const'] AIC:  <statsmodels.regression.linear_model.RegressionResultsWrapper object at 0x000002029A910188>\n",
      "Processed  2 models on 4 predictors in 0.014999866485595703\n",
      "Selected predictors: ['고객수', '연령대', '건수', '생애주기', 'const'] AIC:  <statsmodels.regression.linear_model.RegressionResultsWrapper object at 0x000002029A941048>\n",
      "Processed  1 models on 5 predictors in 0.009004831314086914\n",
      "Selected predictors: ['고객수', '연령대', '건수', '생애주기', '성별', 'const'] AIC:  <statsmodels.regression.linear_model.RegressionResultsWrapper object at 0x000002029A9420C8>\n",
      "Total elapsed time: 0.10299062728881836 seconds.\n"
     ]
    }
   ],
   "source": [
    "Forward_best_model = forward_model(X=train_x_cafe, y=train_y_cafe)"
   ]
  },
  {
   "cell_type": "code",
   "execution_count": 79,
   "metadata": {},
   "outputs": [
    {
     "name": "stdout",
     "output_type": "stream",
     "text": [
      "Processed  5 models on 1 predictors in 0.02803492546081543\n",
      "Selected predictors: ['고객수', 'const'] AIC:  <statsmodels.regression.linear_model.RegressionResultsWrapper object at 0x000002029A941788>\n",
      "Processed  4 models on 2 predictors in 0.020001649856567383\n",
      "Selected predictors: ['고객수', '연령대', 'const'] AIC:  <statsmodels.regression.linear_model.RegressionResultsWrapper object at 0x000002029A948548>\n",
      "Processed  3 models on 3 predictors in 0.021001815795898438\n",
      "Selected predictors: ['고객수', '연령대', '건수', 'const'] AIC:  <statsmodels.regression.linear_model.RegressionResultsWrapper object at 0x000002029A946F48>\n",
      "Processed  2 models on 4 predictors in 0.017999887466430664\n",
      "Selected predictors: ['고객수', '연령대', '건수', '생애주기', 'const'] AIC:  <statsmodels.regression.linear_model.RegressionResultsWrapper object at 0x000002029A948C08>\n",
      "Processed  1 models on 5 predictors in 0.011000871658325195\n",
      "Selected predictors: ['고객수', '연령대', '건수', '생애주기', '성별', 'const'] AIC:  <statsmodels.regression.linear_model.RegressionResultsWrapper object at 0x000002029A94AB08>\n",
      "Total elapsed time: 0.11203575134277344 seconds.\n"
     ]
    }
   ],
   "source": [
    "Forward_best_model_1 = forward_model(X=X_cafe, y=y_cafe)"
   ]
  },
  {
   "cell_type": "code",
   "execution_count": 80,
   "metadata": {},
   "outputs": [
    {
     "name": "stdout",
     "output_type": "stream",
     "text": [
      "['고객수', '연령대', '건수', '생애주기', 'const']\n",
      "732185.8411868532\n"
     ]
    }
   ],
   "source": [
    "# 전진 선택법 모델 최종 선택된 변수와 AIC\n",
    "print(Forward_best_model.model.exog_names)\n",
    "print(Forward_best_model.aic)"
   ]
  },
  {
   "cell_type": "code",
   "execution_count": 81,
   "metadata": {},
   "outputs": [
    {
     "name": "stdout",
     "output_type": "stream",
     "text": [
      "['고객수', '연령대', '건수', '생애주기', 'const']\n",
      "1044000.6490818263\n"
     ]
    }
   ],
   "source": [
    "# 전진 선택법 모델 최종 선택된 변수와 AIC\n",
    "print(Forward_best_model_1.model.exog_names)\n",
    "print(Forward_best_model_1.aic)"
   ]
  },
  {
   "cell_type": "code",
   "execution_count": 82,
   "metadata": {},
   "outputs": [
    {
     "data": {
      "text/html": [
       "<table class=\"simpletable\">\n",
       "<caption>OLS Regression Results</caption>\n",
       "<tr>\n",
       "  <th>Dep. Variable:</th>           <td>금액</td>        <th>  R-squared:         </th>  <td>   0.981</td>  \n",
       "</tr>\n",
       "<tr>\n",
       "  <th>Model:</th>                   <td>OLS</td>       <th>  Adj. R-squared:    </th>  <td>   0.981</td>  \n",
       "</tr>\n",
       "<tr>\n",
       "  <th>Method:</th>             <td>Least Squares</td>  <th>  F-statistic:       </th>  <td>3.334e+05</td> \n",
       "</tr>\n",
       "<tr>\n",
       "  <th>Date:</th>             <td>Mon, 18 Jan 2021</td> <th>  Prob (F-statistic):</th>   <td>  0.00</td>   \n",
       "</tr>\n",
       "<tr>\n",
       "  <th>Time:</th>                 <td>17:42:16</td>     <th>  Log-Likelihood:    </th> <td>-3.6609e+05</td>\n",
       "</tr>\n",
       "<tr>\n",
       "  <th>No. Observations:</th>      <td> 25249</td>      <th>  AIC:               </th>  <td>7.322e+05</td> \n",
       "</tr>\n",
       "<tr>\n",
       "  <th>Df Residuals:</th>          <td> 25244</td>      <th>  BIC:               </th>  <td>7.322e+05</td> \n",
       "</tr>\n",
       "<tr>\n",
       "  <th>Df Model:</th>              <td>     4</td>      <th>                     </th>      <td> </td>     \n",
       "</tr>\n",
       "<tr>\n",
       "  <th>Covariance Type:</th>      <td>nonrobust</td>    <th>                     </th>      <td> </td>     \n",
       "</tr>\n",
       "</table>\n",
       "<table class=\"simpletable\">\n",
       "<tr>\n",
       "    <td></td>       <th>coef</th>     <th>std err</th>      <th>t</th>      <th>P>|t|</th>  <th>[0.025</th>    <th>0.975]</th>  \n",
       "</tr>\n",
       "<tr>\n",
       "  <th>고객수</th>   <td> 1.067e+04</td> <td>  104.499</td> <td>  102.128</td> <td> 0.000</td> <td> 1.05e+04</td> <td> 1.09e+04</td>\n",
       "</tr>\n",
       "<tr>\n",
       "  <th>연령대</th>   <td> 3659.9263</td> <td>  636.596</td> <td>    5.749</td> <td> 0.000</td> <td> 2412.160</td> <td> 4907.692</td>\n",
       "</tr>\n",
       "<tr>\n",
       "  <th>건수</th>    <td>  845.3158</td> <td>   64.748</td> <td>   13.056</td> <td> 0.000</td> <td>  718.407</td> <td>  972.225</td>\n",
       "</tr>\n",
       "<tr>\n",
       "  <th>생애주기</th>  <td>  1.34e+04</td> <td> 6607.375</td> <td>    2.028</td> <td> 0.043</td> <td>  448.230</td> <td> 2.63e+04</td>\n",
       "</tr>\n",
       "<tr>\n",
       "  <th>const</th> <td>-1.503e+05</td> <td> 9198.581</td> <td>  -16.337</td> <td> 0.000</td> <td>-1.68e+05</td> <td>-1.32e+05</td>\n",
       "</tr>\n",
       "</table>\n",
       "<table class=\"simpletable\">\n",
       "<tr>\n",
       "  <th>Omnibus:</th>       <td>44364.388</td> <th>  Durbin-Watson:     </th>   <td>   2.000</td>   \n",
       "</tr>\n",
       "<tr>\n",
       "  <th>Prob(Omnibus):</th>  <td> 0.000</td>   <th>  Jarque-Bera (JB):  </th> <td>404002731.499</td>\n",
       "</tr>\n",
       "<tr>\n",
       "  <th>Skew:</th>           <td>11.642</td>   <th>  Prob(JB):          </th>   <td>    0.00</td>   \n",
       "</tr>\n",
       "<tr>\n",
       "  <th>Kurtosis:</th>       <td>622.254</td>  <th>  Cond. No.          </th>   <td>1.86e+03</td>   \n",
       "</tr>\n",
       "</table><br/><br/>Notes:<br/>[1] Standard Errors assume that the covariance matrix of the errors is correctly specified.<br/>[2] The condition number is large, 1.86e+03. This might indicate that there are<br/>strong multicollinearity or other numerical problems."
      ],
      "text/plain": [
       "<class 'statsmodels.iolib.summary.Summary'>\n",
       "\"\"\"\n",
       "                            OLS Regression Results                            \n",
       "==============================================================================\n",
       "Dep. Variable:                     금액   R-squared:                       0.981\n",
       "Model:                            OLS   Adj. R-squared:                  0.981\n",
       "Method:                 Least Squares   F-statistic:                 3.334e+05\n",
       "Date:                Mon, 18 Jan 2021   Prob (F-statistic):               0.00\n",
       "Time:                        17:42:16   Log-Likelihood:            -3.6609e+05\n",
       "No. Observations:               25249   AIC:                         7.322e+05\n",
       "Df Residuals:                   25244   BIC:                         7.322e+05\n",
       "Df Model:                           4                                         \n",
       "Covariance Type:            nonrobust                                         \n",
       "==============================================================================\n",
       "                 coef    std err          t      P>|t|      [0.025      0.975]\n",
       "------------------------------------------------------------------------------\n",
       "고객수         1.067e+04    104.499    102.128      0.000    1.05e+04    1.09e+04\n",
       "연령대         3659.9263    636.596      5.749      0.000    2412.160    4907.692\n",
       "건수           845.3158     64.748     13.056      0.000     718.407     972.225\n",
       "생애주기         1.34e+04   6607.375      2.028      0.043     448.230    2.63e+04\n",
       "const      -1.503e+05   9198.581    -16.337      0.000   -1.68e+05   -1.32e+05\n",
       "==============================================================================\n",
       "Omnibus:                    44364.388   Durbin-Watson:                   2.000\n",
       "Prob(Omnibus):                  0.000   Jarque-Bera (JB):        404002731.499\n",
       "Skew:                          11.642   Prob(JB):                         0.00\n",
       "Kurtosis:                     622.254   Cond. No.                     1.86e+03\n",
       "==============================================================================\n",
       "\n",
       "Notes:\n",
       "[1] Standard Errors assume that the covariance matrix of the errors is correctly specified.\n",
       "[2] The condition number is large, 1.86e+03. This might indicate that there are\n",
       "strong multicollinearity or other numerical problems.\n",
       "\"\"\""
      ]
     },
     "execution_count": 82,
     "metadata": {},
     "output_type": "execute_result"
    }
   ],
   "source": [
    "Forward_best_model.summary()"
   ]
  },
  {
   "cell_type": "markdown",
   "metadata": {},
   "source": [
    "***"
   ]
  },
  {
   "cell_type": "markdown",
   "metadata": {},
   "source": [
    "## 3) 후진 소거법"
   ]
  },
  {
   "cell_type": "code",
   "execution_count": 83,
   "metadata": {
    "scrolled": false
   },
   "outputs": [
    {
     "name": "stdout",
     "output_type": "stream",
     "text": [
      "Processed  5 models on 4 predictors in 0.030954360961914062\n",
      "Selected predictors: ['건수', '고객수', '생애주기', '연령대', 'const']  AIC: <statsmodels.regression.linear_model.RegressionResultsWrapper object at 0x000002029A951748>\n",
      "Processed  4 models on 3 predictors in 0.02000117301940918\n",
      "Selected predictors: ['건수', '고객수', '연령대', 'const']  AIC: <statsmodels.regression.linear_model.RegressionResultsWrapper object at 0x000002029C59FE88>\n",
      "Total elapsed time: 0.06596803665161133 seconds.\n"
     ]
    }
   ],
   "source": [
    "Backward_best_model = backward_model(X=train_x_cafe, y= train_y_cafe)"
   ]
  },
  {
   "cell_type": "code",
   "execution_count": 84,
   "metadata": {},
   "outputs": [
    {
     "name": "stdout",
     "output_type": "stream",
     "text": [
      "Processed  5 models on 4 predictors in 0.04400062561035156\n",
      "Selected predictors: ['건수', '고객수', '생애주기', '연령대', 'const']  AIC: <statsmodels.regression.linear_model.RegressionResultsWrapper object at 0x000002029A95A848>\n",
      "Processed  4 models on 3 predictors in 0.030999422073364258\n",
      "Selected predictors: ['건수', '고객수', '연령대', 'const']  AIC: <statsmodels.regression.linear_model.RegressionResultsWrapper object at 0x000002029A95E208>\n",
      "Total elapsed time: 0.09797883033752441 seconds.\n"
     ]
    }
   ],
   "source": [
    "Backward_best_model_1 = backward_model(X=X_cafe, y= y_cafe)"
   ]
  },
  {
   "cell_type": "code",
   "execution_count": 85,
   "metadata": {},
   "outputs": [
    {
     "name": "stdout",
     "output_type": "stream",
     "text": [
      "['건수', '고객수', '생애주기', '연령대', 'const']\n",
      "732185.8411868532\n"
     ]
    }
   ],
   "source": [
    "# 후진 소거법 모델 최종 선택된 변수와 AIC\n",
    "print(Backward_best_model.model.exog_names)\n",
    "print(Backward_best_model.aic)"
   ]
  },
  {
   "cell_type": "code",
   "execution_count": 86,
   "metadata": {
    "scrolled": true
   },
   "outputs": [
    {
     "name": "stdout",
     "output_type": "stream",
     "text": [
      "['건수', '고객수', '생애주기', '연령대', 'const']\n",
      "1044000.6490818263\n"
     ]
    }
   ],
   "source": [
    "# 후진 소거법 모델 최종 선택된 변수와 AIC\n",
    "print(Backward_best_model_1.model.exog_names)\n",
    "print(Backward_best_model_1.aic)"
   ]
  },
  {
   "cell_type": "code",
   "execution_count": 87,
   "metadata": {
    "scrolled": true
   },
   "outputs": [
    {
     "data": {
      "text/html": [
       "<table class=\"simpletable\">\n",
       "<caption>OLS Regression Results</caption>\n",
       "<tr>\n",
       "  <th>Dep. Variable:</th>           <td>금액</td>        <th>  R-squared:         </th>  <td>   0.981</td>  \n",
       "</tr>\n",
       "<tr>\n",
       "  <th>Model:</th>                   <td>OLS</td>       <th>  Adj. R-squared:    </th>  <td>   0.981</td>  \n",
       "</tr>\n",
       "<tr>\n",
       "  <th>Method:</th>             <td>Least Squares</td>  <th>  F-statistic:       </th>  <td>3.334e+05</td> \n",
       "</tr>\n",
       "<tr>\n",
       "  <th>Date:</th>             <td>Mon, 18 Jan 2021</td> <th>  Prob (F-statistic):</th>   <td>  0.00</td>   \n",
       "</tr>\n",
       "<tr>\n",
       "  <th>Time:</th>                 <td>17:42:22</td>     <th>  Log-Likelihood:    </th> <td>-3.6609e+05</td>\n",
       "</tr>\n",
       "<tr>\n",
       "  <th>No. Observations:</th>      <td> 25249</td>      <th>  AIC:               </th>  <td>7.322e+05</td> \n",
       "</tr>\n",
       "<tr>\n",
       "  <th>Df Residuals:</th>          <td> 25244</td>      <th>  BIC:               </th>  <td>7.322e+05</td> \n",
       "</tr>\n",
       "<tr>\n",
       "  <th>Df Model:</th>              <td>     4</td>      <th>                     </th>      <td> </td>     \n",
       "</tr>\n",
       "<tr>\n",
       "  <th>Covariance Type:</th>      <td>nonrobust</td>    <th>                     </th>      <td> </td>     \n",
       "</tr>\n",
       "</table>\n",
       "<table class=\"simpletable\">\n",
       "<tr>\n",
       "    <td></td>       <th>coef</th>     <th>std err</th>      <th>t</th>      <th>P>|t|</th>  <th>[0.025</th>    <th>0.975]</th>  \n",
       "</tr>\n",
       "<tr>\n",
       "  <th>건수</th>    <td>  845.3158</td> <td>   64.748</td> <td>   13.056</td> <td> 0.000</td> <td>  718.407</td> <td>  972.225</td>\n",
       "</tr>\n",
       "<tr>\n",
       "  <th>고객수</th>   <td> 1.067e+04</td> <td>  104.499</td> <td>  102.128</td> <td> 0.000</td> <td> 1.05e+04</td> <td> 1.09e+04</td>\n",
       "</tr>\n",
       "<tr>\n",
       "  <th>생애주기</th>  <td>  1.34e+04</td> <td> 6607.375</td> <td>    2.028</td> <td> 0.043</td> <td>  448.230</td> <td> 2.63e+04</td>\n",
       "</tr>\n",
       "<tr>\n",
       "  <th>연령대</th>   <td> 3659.9263</td> <td>  636.596</td> <td>    5.749</td> <td> 0.000</td> <td> 2412.160</td> <td> 4907.692</td>\n",
       "</tr>\n",
       "<tr>\n",
       "  <th>const</th> <td>-1.503e+05</td> <td> 9198.581</td> <td>  -16.337</td> <td> 0.000</td> <td>-1.68e+05</td> <td>-1.32e+05</td>\n",
       "</tr>\n",
       "</table>\n",
       "<table class=\"simpletable\">\n",
       "<tr>\n",
       "  <th>Omnibus:</th>       <td>44364.388</td> <th>  Durbin-Watson:     </th>   <td>   2.000</td>   \n",
       "</tr>\n",
       "<tr>\n",
       "  <th>Prob(Omnibus):</th>  <td> 0.000</td>   <th>  Jarque-Bera (JB):  </th> <td>404002731.499</td>\n",
       "</tr>\n",
       "<tr>\n",
       "  <th>Skew:</th>           <td>11.642</td>   <th>  Prob(JB):          </th>   <td>    0.00</td>   \n",
       "</tr>\n",
       "<tr>\n",
       "  <th>Kurtosis:</th>       <td>622.254</td>  <th>  Cond. No.          </th>   <td>1.86e+03</td>   \n",
       "</tr>\n",
       "</table><br/><br/>Notes:<br/>[1] Standard Errors assume that the covariance matrix of the errors is correctly specified.<br/>[2] The condition number is large, 1.86e+03. This might indicate that there are<br/>strong multicollinearity or other numerical problems."
      ],
      "text/plain": [
       "<class 'statsmodels.iolib.summary.Summary'>\n",
       "\"\"\"\n",
       "                            OLS Regression Results                            \n",
       "==============================================================================\n",
       "Dep. Variable:                     금액   R-squared:                       0.981\n",
       "Model:                            OLS   Adj. R-squared:                  0.981\n",
       "Method:                 Least Squares   F-statistic:                 3.334e+05\n",
       "Date:                Mon, 18 Jan 2021   Prob (F-statistic):               0.00\n",
       "Time:                        17:42:22   Log-Likelihood:            -3.6609e+05\n",
       "No. Observations:               25249   AIC:                         7.322e+05\n",
       "Df Residuals:                   25244   BIC:                         7.322e+05\n",
       "Df Model:                           4                                         \n",
       "Covariance Type:            nonrobust                                         \n",
       "==============================================================================\n",
       "                 coef    std err          t      P>|t|      [0.025      0.975]\n",
       "------------------------------------------------------------------------------\n",
       "건수           845.3158     64.748     13.056      0.000     718.407     972.225\n",
       "고객수         1.067e+04    104.499    102.128      0.000    1.05e+04    1.09e+04\n",
       "생애주기         1.34e+04   6607.375      2.028      0.043     448.230    2.63e+04\n",
       "연령대         3659.9263    636.596      5.749      0.000    2412.160    4907.692\n",
       "const      -1.503e+05   9198.581    -16.337      0.000   -1.68e+05   -1.32e+05\n",
       "==============================================================================\n",
       "Omnibus:                    44364.388   Durbin-Watson:                   2.000\n",
       "Prob(Omnibus):                  0.000   Jarque-Bera (JB):        404002731.499\n",
       "Skew:                          11.642   Prob(JB):                         0.00\n",
       "Kurtosis:                     622.254   Cond. No.                     1.86e+03\n",
       "==============================================================================\n",
       "\n",
       "Notes:\n",
       "[1] Standard Errors assume that the covariance matrix of the errors is correctly specified.\n",
       "[2] The condition number is large, 1.86e+03. This might indicate that there are\n",
       "strong multicollinearity or other numerical problems.\n",
       "\"\"\""
      ]
     },
     "execution_count": 87,
     "metadata": {},
     "output_type": "execute_result"
    }
   ],
   "source": [
    "Backward_best_model.summary()"
   ]
  },
  {
   "cell_type": "markdown",
   "metadata": {},
   "source": [
    "***"
   ]
  },
  {
   "cell_type": "markdown",
   "metadata": {},
   "source": [
    "## 4) 단계적 선택법"
   ]
  },
  {
   "cell_type": "code",
   "execution_count": 88,
   "metadata": {
    "scrolled": true
   },
   "outputs": [
    {
     "name": "stdout",
     "output_type": "stream",
     "text": [
      "Processed  5 models on 1 predictors in 0.01596522331237793\n",
      "Selected predictors: ['고객수', 'const'] AIC:  <statsmodels.regression.linear_model.RegressionResultsWrapper object at 0x000002029A9713C8>\n",
      "forward\n",
      "Processed  1 models on 0 predictors in 0.0030014514923095703\n",
      "Selected predictors: ['const']  AIC: <statsmodels.regression.linear_model.RegressionResultsWrapper object at 0x000002029A971E88>\n",
      "Processed  4 models on 2 predictors in 0.016001462936401367\n",
      "Selected predictors: ['고객수', '연령대', 'const'] AIC:  <statsmodels.regression.linear_model.RegressionResultsWrapper object at 0x000002029A97A588>\n",
      "forward\n",
      "Processed  2 models on 1 predictors in 0.007001161575317383\n",
      "Selected predictors: ['고객수', 'const']  AIC: <statsmodels.regression.linear_model.RegressionResultsWrapper object at 0x000002029A9747C8>\n",
      "Processed  3 models on 3 predictors in 0.014000177383422852\n",
      "Selected predictors: ['고객수', '연령대', '건수', 'const'] AIC:  <statsmodels.regression.linear_model.RegressionResultsWrapper object at 0x000002029A971C08>\n",
      "forward\n",
      "Processed  3 models on 2 predictors in 0.014983415603637695\n",
      "Selected predictors: ['고객수', '연령대', 'const']  AIC: <statsmodels.regression.linear_model.RegressionResultsWrapper object at 0x000002029A97A8C8>\n",
      "Processed  2 models on 4 predictors in 0.01600050926208496\n",
      "Selected predictors: ['고객수', '연령대', '건수', '생애주기', 'const'] AIC:  <statsmodels.regression.linear_model.RegressionResultsWrapper object at 0x000002029A97A608>\n",
      "forward\n",
      "Processed  4 models on 3 predictors in 0.02804112434387207\n",
      "Selected predictors: ['고객수', '연령대', '건수', 'const']  AIC: <statsmodels.regression.linear_model.RegressionResultsWrapper object at 0x000002029A97EF88>\n",
      "Processed  1 models on 5 predictors in 0.007998228073120117\n",
      "Selected predictors: ['고객수', '연령대', '건수', '생애주기', '성별', 'const'] AIC:  <statsmodels.regression.linear_model.RegressionResultsWrapper object at 0x000002029A9800C8>\n",
      "forward\n",
      "Processed  5 models on 4 predictors in 0.028001070022583008\n",
      "Selected predictors: ['고객수', '연령대', '건수', '생애주기', 'const']  AIC: <statsmodels.regression.linear_model.RegressionResultsWrapper object at 0x000002029A980508>\n",
      "backward\n",
      "Total elapsed time: 0.1920299530029297 seconds.\n"
     ]
    }
   ],
   "source": [
    "Stepwise_best_model = Stepwise_model(X=train_x_cafe, y=train_y_cafe)"
   ]
  },
  {
   "cell_type": "code",
   "execution_count": 89,
   "metadata": {},
   "outputs": [
    {
     "name": "stdout",
     "output_type": "stream",
     "text": [
      "Processed  5 models on 1 predictors in 0.02804851531982422\n",
      "Selected predictors: ['고객수', 'const'] AIC:  <statsmodels.regression.linear_model.RegressionResultsWrapper object at 0x000002029A971CC8>\n",
      "forward\n",
      "Processed  1 models on 0 predictors in 0.004000186920166016\n",
      "Selected predictors: ['const']  AIC: <statsmodels.regression.linear_model.RegressionResultsWrapper object at 0x000002029A9744C8>\n",
      "Processed  4 models on 2 predictors in 0.0240023136138916\n",
      "Selected predictors: ['고객수', '연령대', 'const'] AIC:  <statsmodels.regression.linear_model.RegressionResultsWrapper object at 0x000002029A9859C8>\n",
      "forward\n",
      "Processed  2 models on 1 predictors in 0.010000228881835938\n",
      "Selected predictors: ['고객수', 'const']  AIC: <statsmodels.regression.linear_model.RegressionResultsWrapper object at 0x000002029A9804C8>\n",
      "Processed  3 models on 3 predictors in 0.020003795623779297\n",
      "Selected predictors: ['고객수', '연령대', '건수', 'const'] AIC:  <statsmodels.regression.linear_model.RegressionResultsWrapper object at 0x000002029A982B88>\n",
      "forward\n",
      "Processed  3 models on 2 predictors in 0.01800060272216797\n",
      "Selected predictors: ['고객수', '연령대', 'const']  AIC: <statsmodels.regression.linear_model.RegressionResultsWrapper object at 0x000002029A985548>\n",
      "Processed  2 models on 4 predictors in 0.03200054168701172\n",
      "Selected predictors: ['고객수', '연령대', '건수', '생애주기', 'const'] AIC:  <statsmodels.regression.linear_model.RegressionResultsWrapper object at 0x000002029A985288>\n",
      "forward\n",
      "Processed  4 models on 3 predictors in 0.030000686645507812\n",
      "Selected predictors: ['고객수', '연령대', '건수', 'const']  AIC: <statsmodels.regression.linear_model.RegressionResultsWrapper object at 0x000002029A972D08>\n",
      "Processed  1 models on 5 predictors in 0.009987831115722656\n",
      "Selected predictors: ['고객수', '연령대', '건수', '생애주기', '성별', 'const'] AIC:  <statsmodels.regression.linear_model.RegressionResultsWrapper object at 0x000002029A987388>\n",
      "forward\n",
      "Processed  5 models on 4 predictors in 0.04400634765625\n",
      "Selected predictors: ['고객수', '연령대', '건수', '생애주기', 'const']  AIC: <statsmodels.regression.linear_model.RegressionResultsWrapper object at 0x000002029A9879C8>\n",
      "backward\n",
      "Total elapsed time: 0.25804805755615234 seconds.\n"
     ]
    }
   ],
   "source": [
    "Stepwise_best_model_1 = Stepwise_model(X=X_cafe, y=y_cafe)"
   ]
  },
  {
   "cell_type": "code",
   "execution_count": 90,
   "metadata": {},
   "outputs": [
    {
     "name": "stdout",
     "output_type": "stream",
     "text": [
      "['고객수', '연령대', '건수', '생애주기', 'const']\n",
      "732185.8411868532\n"
     ]
    }
   ],
   "source": [
    "# 단계적 선택법 모델 최종 선택된 변수와 AIC\n",
    "print(Stepwise_best_model.model.exog_names)\n",
    "print(Stepwise_best_model.aic)"
   ]
  },
  {
   "cell_type": "code",
   "execution_count": 91,
   "metadata": {},
   "outputs": [
    {
     "name": "stdout",
     "output_type": "stream",
     "text": [
      "['고객수', '연령대', '건수', '생애주기', 'const']\n",
      "1044000.6490818263\n"
     ]
    }
   ],
   "source": [
    "# 단계적 선택법 모델 최종 선택된 변수와 AIC\n",
    "print(Stepwise_best_model_1.model.exog_names)\n",
    "print(Stepwise_best_model_1.aic)"
   ]
  },
  {
   "cell_type": "code",
   "execution_count": 92,
   "metadata": {},
   "outputs": [
    {
     "data": {
      "text/html": [
       "<table class=\"simpletable\">\n",
       "<caption>OLS Regression Results</caption>\n",
       "<tr>\n",
       "  <th>Dep. Variable:</th>           <td>금액</td>        <th>  R-squared:         </th>  <td>   0.981</td>  \n",
       "</tr>\n",
       "<tr>\n",
       "  <th>Model:</th>                   <td>OLS</td>       <th>  Adj. R-squared:    </th>  <td>   0.981</td>  \n",
       "</tr>\n",
       "<tr>\n",
       "  <th>Method:</th>             <td>Least Squares</td>  <th>  F-statistic:       </th>  <td>3.334e+05</td> \n",
       "</tr>\n",
       "<tr>\n",
       "  <th>Date:</th>             <td>Mon, 18 Jan 2021</td> <th>  Prob (F-statistic):</th>   <td>  0.00</td>   \n",
       "</tr>\n",
       "<tr>\n",
       "  <th>Time:</th>                 <td>17:42:27</td>     <th>  Log-Likelihood:    </th> <td>-3.6609e+05</td>\n",
       "</tr>\n",
       "<tr>\n",
       "  <th>No. Observations:</th>      <td> 25249</td>      <th>  AIC:               </th>  <td>7.322e+05</td> \n",
       "</tr>\n",
       "<tr>\n",
       "  <th>Df Residuals:</th>          <td> 25244</td>      <th>  BIC:               </th>  <td>7.322e+05</td> \n",
       "</tr>\n",
       "<tr>\n",
       "  <th>Df Model:</th>              <td>     4</td>      <th>                     </th>      <td> </td>     \n",
       "</tr>\n",
       "<tr>\n",
       "  <th>Covariance Type:</th>      <td>nonrobust</td>    <th>                     </th>      <td> </td>     \n",
       "</tr>\n",
       "</table>\n",
       "<table class=\"simpletable\">\n",
       "<tr>\n",
       "    <td></td>       <th>coef</th>     <th>std err</th>      <th>t</th>      <th>P>|t|</th>  <th>[0.025</th>    <th>0.975]</th>  \n",
       "</tr>\n",
       "<tr>\n",
       "  <th>고객수</th>   <td> 1.067e+04</td> <td>  104.499</td> <td>  102.128</td> <td> 0.000</td> <td> 1.05e+04</td> <td> 1.09e+04</td>\n",
       "</tr>\n",
       "<tr>\n",
       "  <th>연령대</th>   <td> 3659.9263</td> <td>  636.596</td> <td>    5.749</td> <td> 0.000</td> <td> 2412.160</td> <td> 4907.692</td>\n",
       "</tr>\n",
       "<tr>\n",
       "  <th>건수</th>    <td>  845.3158</td> <td>   64.748</td> <td>   13.056</td> <td> 0.000</td> <td>  718.407</td> <td>  972.225</td>\n",
       "</tr>\n",
       "<tr>\n",
       "  <th>생애주기</th>  <td>  1.34e+04</td> <td> 6607.375</td> <td>    2.028</td> <td> 0.043</td> <td>  448.230</td> <td> 2.63e+04</td>\n",
       "</tr>\n",
       "<tr>\n",
       "  <th>const</th> <td>-1.503e+05</td> <td> 9198.581</td> <td>  -16.337</td> <td> 0.000</td> <td>-1.68e+05</td> <td>-1.32e+05</td>\n",
       "</tr>\n",
       "</table>\n",
       "<table class=\"simpletable\">\n",
       "<tr>\n",
       "  <th>Omnibus:</th>       <td>44364.388</td> <th>  Durbin-Watson:     </th>   <td>   2.000</td>   \n",
       "</tr>\n",
       "<tr>\n",
       "  <th>Prob(Omnibus):</th>  <td> 0.000</td>   <th>  Jarque-Bera (JB):  </th> <td>404002731.499</td>\n",
       "</tr>\n",
       "<tr>\n",
       "  <th>Skew:</th>           <td>11.642</td>   <th>  Prob(JB):          </th>   <td>    0.00</td>   \n",
       "</tr>\n",
       "<tr>\n",
       "  <th>Kurtosis:</th>       <td>622.254</td>  <th>  Cond. No.          </th>   <td>1.86e+03</td>   \n",
       "</tr>\n",
       "</table><br/><br/>Notes:<br/>[1] Standard Errors assume that the covariance matrix of the errors is correctly specified.<br/>[2] The condition number is large, 1.86e+03. This might indicate that there are<br/>strong multicollinearity or other numerical problems."
      ],
      "text/plain": [
       "<class 'statsmodels.iolib.summary.Summary'>\n",
       "\"\"\"\n",
       "                            OLS Regression Results                            \n",
       "==============================================================================\n",
       "Dep. Variable:                     금액   R-squared:                       0.981\n",
       "Model:                            OLS   Adj. R-squared:                  0.981\n",
       "Method:                 Least Squares   F-statistic:                 3.334e+05\n",
       "Date:                Mon, 18 Jan 2021   Prob (F-statistic):               0.00\n",
       "Time:                        17:42:27   Log-Likelihood:            -3.6609e+05\n",
       "No. Observations:               25249   AIC:                         7.322e+05\n",
       "Df Residuals:                   25244   BIC:                         7.322e+05\n",
       "Df Model:                           4                                         \n",
       "Covariance Type:            nonrobust                                         \n",
       "==============================================================================\n",
       "                 coef    std err          t      P>|t|      [0.025      0.975]\n",
       "------------------------------------------------------------------------------\n",
       "고객수         1.067e+04    104.499    102.128      0.000    1.05e+04    1.09e+04\n",
       "연령대         3659.9263    636.596      5.749      0.000    2412.160    4907.692\n",
       "건수           845.3158     64.748     13.056      0.000     718.407     972.225\n",
       "생애주기         1.34e+04   6607.375      2.028      0.043     448.230    2.63e+04\n",
       "const      -1.503e+05   9198.581    -16.337      0.000   -1.68e+05   -1.32e+05\n",
       "==============================================================================\n",
       "Omnibus:                    44364.388   Durbin-Watson:                   2.000\n",
       "Prob(Omnibus):                  0.000   Jarque-Bera (JB):        404002731.499\n",
       "Skew:                          11.642   Prob(JB):                         0.00\n",
       "Kurtosis:                     622.254   Cond. No.                     1.86e+03\n",
       "==============================================================================\n",
       "\n",
       "Notes:\n",
       "[1] Standard Errors assume that the covariance matrix of the errors is correctly specified.\n",
       "[2] The condition number is large, 1.86e+03. This might indicate that there are\n",
       "strong multicollinearity or other numerical problems.\n",
       "\"\"\""
      ]
     },
     "execution_count": 92,
     "metadata": {},
     "output_type": "execute_result"
    }
   ],
   "source": [
    "Stepwise_best_model.summary()"
   ]
  },
  {
   "cell_type": "markdown",
   "metadata": {},
   "source": [
    "***"
   ]
  },
  {
   "cell_type": "code",
   "execution_count": 93,
   "metadata": {
    "scrolled": true
   },
   "outputs": [
    {
     "name": "stdout",
     "output_type": "stream",
     "text": [
      "(5,) (5,) (5,)\n"
     ]
    }
   ],
   "source": [
    "# number of params\n",
    "print(Forward_best_model.params.shape, Backward_best_model.params.shape, Stepwise_best_model.params.shape)"
   ]
  },
  {
   "cell_type": "markdown",
   "metadata": {},
   "source": [
    "- 전진, 후진, 단계적 세가지 방법 모두 \"고객수, 연령대, 건수, 생애주기\" 변수를 선택하였고 모든 변수가 유의하다."
   ]
  },
  {
   "cell_type": "code",
   "execution_count": 94,
   "metadata": {},
   "outputs": [],
   "source": [
    "# 모델에 의해 예측된/추정된 값 = test_y\n",
    "pred_y_full = fitted_full_model_cafe_1.predict(X_cafe)\n",
    "pred_y_selected = models_cafe.loc[4,'model'].predict(X_cafe[models_cafe_1.loc[4,'model'].model.exog_names])\n",
    "pred_y_forward = Forward_best_model_1.predict(X_cafe[Forward_best_model_1.model.exog_names])\n",
    "pred_y_backward = Backward_best_model_1.predict(X_cafe[Backward_best_model_1.model.exog_names])\n",
    "pred_y_stepwise = Stepwise_best_model_1.predict(X_cafe[Stepwise_best_model_1.model.exog_names])"
   ]
  },
  {
   "cell_type": "code",
   "execution_count": null,
   "metadata": {},
   "outputs": [],
   "source": []
  },
  {
   "cell_type": "code",
   "execution_count": null,
   "metadata": {},
   "outputs": [],
   "source": []
  },
  {
   "cell_type": "code",
   "execution_count": null,
   "metadata": {},
   "outputs": [],
   "source": []
  },
  {
   "cell_type": "markdown",
   "metadata": {},
   "source": []
  },
  {
   "cell_type": "markdown",
   "metadata": {},
   "source": [
    "***\n",
    "***"
   ]
  },
  {
   "cell_type": "markdown",
   "metadata": {},
   "source": [
    "# SPORTS"
   ]
  },
  {
   "cell_type": "code",
   "execution_count": 97,
   "metadata": {},
   "outputs": [
    {
     "data": {
      "text/html": [
       "<table class=\"simpletable\">\n",
       "<caption>OLS Regression Results</caption>\n",
       "<tr>\n",
       "  <th>Dep. Variable:</th>           <td>금액</td>        <th>  R-squared:         </th>  <td>   0.934</td>  \n",
       "</tr>\n",
       "<tr>\n",
       "  <th>Model:</th>                   <td>OLS</td>       <th>  Adj. R-squared:    </th>  <td>   0.934</td>  \n",
       "</tr>\n",
       "<tr>\n",
       "  <th>Method:</th>             <td>Least Squares</td>  <th>  F-statistic:       </th>  <td>2.236e+04</td> \n",
       "</tr>\n",
       "<tr>\n",
       "  <th>Date:</th>             <td>Mon, 18 Jan 2021</td> <th>  Prob (F-statistic):</th>   <td>  0.00</td>   \n",
       "</tr>\n",
       "<tr>\n",
       "  <th>Time:</th>                 <td>17:42:54</td>     <th>  Log-Likelihood:    </th> <td>-1.2763e+05</td>\n",
       "</tr>\n",
       "<tr>\n",
       "  <th>No. Observations:</th>      <td>  7910</td>      <th>  AIC:               </th>  <td>2.553e+05</td> \n",
       "</tr>\n",
       "<tr>\n",
       "  <th>Df Residuals:</th>          <td>  7904</td>      <th>  BIC:               </th>  <td>2.553e+05</td> \n",
       "</tr>\n",
       "<tr>\n",
       "  <th>Df Model:</th>              <td>     5</td>      <th>                     </th>      <td> </td>     \n",
       "</tr>\n",
       "<tr>\n",
       "  <th>Covariance Type:</th>      <td>nonrobust</td>    <th>                     </th>      <td> </td>     \n",
       "</tr>\n",
       "</table>\n",
       "<table class=\"simpletable\">\n",
       "<tr>\n",
       "    <td></td>       <th>coef</th>     <th>std err</th>      <th>t</th>      <th>P>|t|</th>  <th>[0.025</th>    <th>0.975]</th>  \n",
       "</tr>\n",
       "<tr>\n",
       "  <th>const</th> <td> -1.81e+06</td> <td> 1.17e+05</td> <td>  -15.476</td> <td> 0.000</td> <td>-2.04e+06</td> <td>-1.58e+06</td>\n",
       "</tr>\n",
       "<tr>\n",
       "  <th>건수</th>    <td> 4.575e+04</td> <td> 2432.163</td> <td>   18.809</td> <td> 0.000</td> <td>  4.1e+04</td> <td> 5.05e+04</td>\n",
       "</tr>\n",
       "<tr>\n",
       "  <th>고객수</th>   <td> 6.984e+04</td> <td> 3042.199</td> <td>   22.956</td> <td> 0.000</td> <td> 6.39e+04</td> <td> 7.58e+04</td>\n",
       "</tr>\n",
       "<tr>\n",
       "  <th>생애주기</th>  <td> 2.879e+05</td> <td> 5.79e+04</td> <td>    4.972</td> <td> 0.000</td> <td> 1.74e+05</td> <td> 4.01e+05</td>\n",
       "</tr>\n",
       "<tr>\n",
       "  <th>성별</th>    <td> 1.795e+05</td> <td> 5.64e+04</td> <td>    3.181</td> <td> 0.001</td> <td> 6.89e+04</td> <td>  2.9e+05</td>\n",
       "</tr>\n",
       "<tr>\n",
       "  <th>연령대</th>   <td> 1.355e+04</td> <td> 5397.107</td> <td>    2.510</td> <td> 0.012</td> <td> 2968.405</td> <td> 2.41e+04</td>\n",
       "</tr>\n",
       "</table>\n",
       "<table class=\"simpletable\">\n",
       "<tr>\n",
       "  <th>Omnibus:</th>       <td>2973.025</td> <th>  Durbin-Watson:     </th>  <td>   2.018</td> \n",
       "</tr>\n",
       "<tr>\n",
       "  <th>Prob(Omnibus):</th>  <td> 0.000</td>  <th>  Jarque-Bera (JB):  </th> <td>454606.583</td>\n",
       "</tr>\n",
       "<tr>\n",
       "  <th>Skew:</th>           <td>-0.718</td>  <th>  Prob(JB):          </th>  <td>    0.00</td> \n",
       "</tr>\n",
       "<tr>\n",
       "  <th>Kurtosis:</th>       <td>40.112</td>  <th>  Cond. No.          </th>  <td>    577.</td> \n",
       "</tr>\n",
       "</table><br/><br/>Notes:<br/>[1] Standard Errors assume that the covariance matrix of the errors is correctly specified."
      ],
      "text/plain": [
       "<class 'statsmodels.iolib.summary.Summary'>\n",
       "\"\"\"\n",
       "                            OLS Regression Results                            \n",
       "==============================================================================\n",
       "Dep. Variable:                     금액   R-squared:                       0.934\n",
       "Model:                            OLS   Adj. R-squared:                  0.934\n",
       "Method:                 Least Squares   F-statistic:                 2.236e+04\n",
       "Date:                Mon, 18 Jan 2021   Prob (F-statistic):               0.00\n",
       "Time:                        17:42:54   Log-Likelihood:            -1.2763e+05\n",
       "No. Observations:                7910   AIC:                         2.553e+05\n",
       "Df Residuals:                    7904   BIC:                         2.553e+05\n",
       "Df Model:                           5                                         \n",
       "Covariance Type:            nonrobust                                         \n",
       "==============================================================================\n",
       "                 coef    std err          t      P>|t|      [0.025      0.975]\n",
       "------------------------------------------------------------------------------\n",
       "const       -1.81e+06   1.17e+05    -15.476      0.000   -2.04e+06   -1.58e+06\n",
       "건수          4.575e+04   2432.163     18.809      0.000     4.1e+04    5.05e+04\n",
       "고객수         6.984e+04   3042.199     22.956      0.000    6.39e+04    7.58e+04\n",
       "생애주기        2.879e+05   5.79e+04      4.972      0.000    1.74e+05    4.01e+05\n",
       "성별          1.795e+05   5.64e+04      3.181      0.001    6.89e+04     2.9e+05\n",
       "연령대         1.355e+04   5397.107      2.510      0.012    2968.405    2.41e+04\n",
       "==============================================================================\n",
       "Omnibus:                     2973.025   Durbin-Watson:                   2.018\n",
       "Prob(Omnibus):                  0.000   Jarque-Bera (JB):           454606.583\n",
       "Skew:                          -0.718   Prob(JB):                         0.00\n",
       "Kurtosis:                      40.112   Cond. No.                         577.\n",
       "==============================================================================\n",
       "\n",
       "Notes:\n",
       "[1] Standard Errors assume that the covariance matrix of the errors is correctly specified.\n",
       "\"\"\""
      ]
     },
     "execution_count": 97,
     "metadata": {},
     "output_type": "execute_result"
    }
   ],
   "source": [
    "# 모든 변수를 사용한 sports의 회귀모델 적합\n",
    "\n",
    "full_model_sports = sm.OLS(train_y_sports, train_x_sports)\n",
    "fitted_full_model_sports = full_model_sports.fit()\n",
    "\n",
    "fitted_full_model_sports.summary()"
   ]
  },
  {
   "cell_type": "code",
   "execution_count": 98,
   "metadata": {},
   "outputs": [
    {
     "data": {
      "text/html": [
       "<div>\n",
       "<style scoped>\n",
       "    .dataframe tbody tr th:only-of-type {\n",
       "        vertical-align: middle;\n",
       "    }\n",
       "\n",
       "    .dataframe tbody tr th {\n",
       "        vertical-align: top;\n",
       "    }\n",
       "\n",
       "    .dataframe thead th {\n",
       "        text-align: right;\n",
       "    }\n",
       "</style>\n",
       "<table border=\"1\" class=\"dataframe\">\n",
       "  <thead>\n",
       "    <tr style=\"text-align: right;\">\n",
       "      <th></th>\n",
       "      <th>VIF Factor</th>\n",
       "      <th>features</th>\n",
       "    </tr>\n",
       "  </thead>\n",
       "  <tbody>\n",
       "    <tr>\n",
       "      <th>0</th>\n",
       "      <td>18.432677</td>\n",
       "      <td>const</td>\n",
       "    </tr>\n",
       "    <tr>\n",
       "      <th>1</th>\n",
       "      <td>8.840694</td>\n",
       "      <td>연령대</td>\n",
       "    </tr>\n",
       "    <tr>\n",
       "      <th>2</th>\n",
       "      <td>1.014996</td>\n",
       "      <td>성별</td>\n",
       "    </tr>\n",
       "    <tr>\n",
       "      <th>3</th>\n",
       "      <td>8.884632</td>\n",
       "      <td>생애주기</td>\n",
       "    </tr>\n",
       "    <tr>\n",
       "      <th>4</th>\n",
       "      <td>70.650069</td>\n",
       "      <td>고객수</td>\n",
       "    </tr>\n",
       "    <tr>\n",
       "      <th>5</th>\n",
       "      <td>15.794784</td>\n",
       "      <td>금액</td>\n",
       "    </tr>\n",
       "    <tr>\n",
       "      <th>6</th>\n",
       "      <td>69.796621</td>\n",
       "      <td>건수</td>\n",
       "    </tr>\n",
       "  </tbody>\n",
       "</table>\n",
       "</div>"
      ],
      "text/plain": [
       "   VIF Factor features\n",
       "0   18.432677    const\n",
       "1    8.840694      연령대\n",
       "2    1.014996       성별\n",
       "3    8.884632     생애주기\n",
       "4   70.650069      고객수\n",
       "5   15.794784       금액\n",
       "6   69.796621       건수"
      ]
     },
     "execution_count": 98,
     "metadata": {},
     "output_type": "execute_result"
    }
   ],
   "source": [
    "# sports VIF로 다중공선성 확인\n",
    "\n",
    "vif_sports=pd.DataFrame()\n",
    "vif_sports['VIF Factor'] = [variance_inflation_factor(data_sports.values, i) for i in range(data_sports.shape[1])]\n",
    "vif_sports['features'] = data_sports.columns\n",
    "vif_sports"
   ]
  },
  {
   "cell_type": "markdown",
   "metadata": {},
   "source": [
    "***\n",
    "## 1) 전체 경우의 수"
   ]
  },
  {
   "cell_type": "code",
   "execution_count": 99,
   "metadata": {},
   "outputs": [
    {
     "name": "stdout",
     "output_type": "stream",
     "text": [
      "스포츠 : {'model': <statsmodels.regression.linear_model.RegressionResultsWrapper object at 0x000002029B9E0588>, 'AIC': 255269.7692526795}\n"
     ]
    }
   ],
   "source": [
    "print(\"스포츠 :\", processSubset(X = train_x_sports, y=train_y_sports, feature_set = feature_columns_sports))"
   ]
  },
  {
   "cell_type": "code",
   "execution_count": 100,
   "metadata": {},
   "outputs": [
    {
     "name": "stdout",
     "output_type": "stream",
     "text": [
      "Prcessed 5 models on 1 predictors in 0.015999555587768555 seconds\n",
      "Prcessed 10 models on 2 predictors in 0.020000457763671875 seconds\n",
      "Prcessed 10 models on 3 predictors in 0.021000385284423828 seconds\n",
      "Prcessed 5 models on 4 predictors in 0.012996673583984375 seconds\n",
      "Prcessed 1 models on 5 predictors in 0.0050008296966552734 seconds\n",
      "스포츠 Total elapsed time: 0.08699941635131836 seconds\n"
     ]
    }
   ],
   "source": [
    "# 스포츠 변수 선택에 따른 학습시간과 저장\n",
    "models_sports = pd.DataFrame(columns=['AIC', 'model'])\n",
    "tic = time.time()\n",
    "for i in range(1,6):\n",
    "    models_sports.loc[i] = getBest(X=train_x_sports, y=train_y_sports, k=i)\n",
    "toc = time.time()\n",
    "print('스포츠 Total elapsed time:', (toc-tic), 'seconds')"
   ]
  },
  {
   "cell_type": "code",
   "execution_count": 101,
   "metadata": {},
   "outputs": [
    {
     "data": {
      "text/html": [
       "<div>\n",
       "<style scoped>\n",
       "    .dataframe tbody tr th:only-of-type {\n",
       "        vertical-align: middle;\n",
       "    }\n",
       "\n",
       "    .dataframe tbody tr th {\n",
       "        vertical-align: top;\n",
       "    }\n",
       "\n",
       "    .dataframe thead th {\n",
       "        text-align: right;\n",
       "    }\n",
       "</style>\n",
       "<table border=\"1\" class=\"dataframe\">\n",
       "  <thead>\n",
       "    <tr style=\"text-align: right;\">\n",
       "      <th></th>\n",
       "      <th>AIC</th>\n",
       "      <th>model</th>\n",
       "    </tr>\n",
       "  </thead>\n",
       "  <tbody>\n",
       "    <tr>\n",
       "      <th>1</th>\n",
       "      <td>256081.223065</td>\n",
       "      <td>&lt;statsmodels.regression.linear_model.Regressio...</td>\n",
       "    </tr>\n",
       "    <tr>\n",
       "      <th>2</th>\n",
       "      <td>255615.101061</td>\n",
       "      <td>&lt;statsmodels.regression.linear_model.Regressio...</td>\n",
       "    </tr>\n",
       "    <tr>\n",
       "      <th>3</th>\n",
       "      <td>255281.431900</td>\n",
       "      <td>&lt;statsmodels.regression.linear_model.Regressio...</td>\n",
       "    </tr>\n",
       "    <tr>\n",
       "      <th>4</th>\n",
       "      <td>255274.072947</td>\n",
       "      <td>&lt;statsmodels.regression.linear_model.Regressio...</td>\n",
       "    </tr>\n",
       "    <tr>\n",
       "      <th>5</th>\n",
       "      <td>255269.769253</td>\n",
       "      <td>&lt;statsmodels.regression.linear_model.Regressio...</td>\n",
       "    </tr>\n",
       "  </tbody>\n",
       "</table>\n",
       "</div>"
      ],
      "text/plain": [
       "             AIC                                              model\n",
       "1  256081.223065  <statsmodels.regression.linear_model.Regressio...\n",
       "2  255615.101061  <statsmodels.regression.linear_model.Regressio...\n",
       "3  255281.431900  <statsmodels.regression.linear_model.Regressio...\n",
       "4  255274.072947  <statsmodels.regression.linear_model.Regressio...\n",
       "5  255269.769253  <statsmodels.regression.linear_model.Regressio..."
      ]
     },
     "execution_count": 101,
     "metadata": {},
     "output_type": "execute_result"
    }
   ],
   "source": [
    "# 선택된 변수의 개수(1,2,3) 별 가장 낮음 AIC를 보유한 모델들이 들어있는 data frame\n",
    "models_sports"
   ]
  },
  {
   "cell_type": "code",
   "execution_count": 102,
   "metadata": {},
   "outputs": [
    {
     "data": {
      "text/html": [
       "<table class=\"simpletable\">\n",
       "<caption>OLS Regression Results</caption>\n",
       "<tr>\n",
       "  <th>Dep. Variable:</th>           <td>금액</td>        <th>  R-squared:         </th>  <td>   0.934</td>  \n",
       "</tr>\n",
       "<tr>\n",
       "  <th>Model:</th>                   <td>OLS</td>       <th>  Adj. R-squared:    </th>  <td>   0.934</td>  \n",
       "</tr>\n",
       "<tr>\n",
       "  <th>Method:</th>             <td>Least Squares</td>  <th>  F-statistic:       </th>  <td>2.236e+04</td> \n",
       "</tr>\n",
       "<tr>\n",
       "  <th>Date:</th>             <td>Mon, 18 Jan 2021</td> <th>  Prob (F-statistic):</th>   <td>  0.00</td>   \n",
       "</tr>\n",
       "<tr>\n",
       "  <th>Time:</th>                 <td>17:42:59</td>     <th>  Log-Likelihood:    </th> <td>-1.2763e+05</td>\n",
       "</tr>\n",
       "<tr>\n",
       "  <th>No. Observations:</th>      <td>  7910</td>      <th>  AIC:               </th>  <td>2.553e+05</td> \n",
       "</tr>\n",
       "<tr>\n",
       "  <th>Df Residuals:</th>          <td>  7904</td>      <th>  BIC:               </th>  <td>2.553e+05</td> \n",
       "</tr>\n",
       "<tr>\n",
       "  <th>Df Model:</th>              <td>     5</td>      <th>                     </th>      <td> </td>     \n",
       "</tr>\n",
       "<tr>\n",
       "  <th>Covariance Type:</th>      <td>nonrobust</td>    <th>                     </th>      <td> </td>     \n",
       "</tr>\n",
       "</table>\n",
       "<table class=\"simpletable\">\n",
       "<tr>\n",
       "    <td></td>       <th>coef</th>     <th>std err</th>      <th>t</th>      <th>P>|t|</th>  <th>[0.025</th>    <th>0.975]</th>  \n",
       "</tr>\n",
       "<tr>\n",
       "  <th>건수</th>    <td> 4.575e+04</td> <td> 2432.163</td> <td>   18.809</td> <td> 0.000</td> <td>  4.1e+04</td> <td> 5.05e+04</td>\n",
       "</tr>\n",
       "<tr>\n",
       "  <th>고객수</th>   <td> 6.984e+04</td> <td> 3042.199</td> <td>   22.956</td> <td> 0.000</td> <td> 6.39e+04</td> <td> 7.58e+04</td>\n",
       "</tr>\n",
       "<tr>\n",
       "  <th>생애주기</th>  <td> 2.879e+05</td> <td> 5.79e+04</td> <td>    4.972</td> <td> 0.000</td> <td> 1.74e+05</td> <td> 4.01e+05</td>\n",
       "</tr>\n",
       "<tr>\n",
       "  <th>성별</th>    <td> 1.795e+05</td> <td> 5.64e+04</td> <td>    3.181</td> <td> 0.001</td> <td> 6.89e+04</td> <td>  2.9e+05</td>\n",
       "</tr>\n",
       "<tr>\n",
       "  <th>연령대</th>   <td> 1.355e+04</td> <td> 5397.107</td> <td>    2.510</td> <td> 0.012</td> <td> 2968.405</td> <td> 2.41e+04</td>\n",
       "</tr>\n",
       "<tr>\n",
       "  <th>const</th> <td> -1.81e+06</td> <td> 1.17e+05</td> <td>  -15.476</td> <td> 0.000</td> <td>-2.04e+06</td> <td>-1.58e+06</td>\n",
       "</tr>\n",
       "</table>\n",
       "<table class=\"simpletable\">\n",
       "<tr>\n",
       "  <th>Omnibus:</th>       <td>2973.025</td> <th>  Durbin-Watson:     </th>  <td>   2.018</td> \n",
       "</tr>\n",
       "<tr>\n",
       "  <th>Prob(Omnibus):</th>  <td> 0.000</td>  <th>  Jarque-Bera (JB):  </th> <td>454606.583</td>\n",
       "</tr>\n",
       "<tr>\n",
       "  <th>Skew:</th>           <td>-0.718</td>  <th>  Prob(JB):          </th>  <td>    0.00</td> \n",
       "</tr>\n",
       "<tr>\n",
       "  <th>Kurtosis:</th>       <td>40.112</td>  <th>  Cond. No.          </th>  <td>    577.</td> \n",
       "</tr>\n",
       "</table><br/><br/>Notes:<br/>[1] Standard Errors assume that the covariance matrix of the errors is correctly specified."
      ],
      "text/plain": [
       "<class 'statsmodels.iolib.summary.Summary'>\n",
       "\"\"\"\n",
       "                            OLS Regression Results                            \n",
       "==============================================================================\n",
       "Dep. Variable:                     금액   R-squared:                       0.934\n",
       "Model:                            OLS   Adj. R-squared:                  0.934\n",
       "Method:                 Least Squares   F-statistic:                 2.236e+04\n",
       "Date:                Mon, 18 Jan 2021   Prob (F-statistic):               0.00\n",
       "Time:                        17:42:59   Log-Likelihood:            -1.2763e+05\n",
       "No. Observations:                7910   AIC:                         2.553e+05\n",
       "Df Residuals:                    7904   BIC:                         2.553e+05\n",
       "Df Model:                           5                                         \n",
       "Covariance Type:            nonrobust                                         \n",
       "==============================================================================\n",
       "                 coef    std err          t      P>|t|      [0.025      0.975]\n",
       "------------------------------------------------------------------------------\n",
       "건수          4.575e+04   2432.163     18.809      0.000     4.1e+04    5.05e+04\n",
       "고객수         6.984e+04   3042.199     22.956      0.000    6.39e+04    7.58e+04\n",
       "생애주기        2.879e+05   5.79e+04      4.972      0.000    1.74e+05    4.01e+05\n",
       "성별          1.795e+05   5.64e+04      3.181      0.001    6.89e+04     2.9e+05\n",
       "연령대         1.355e+04   5397.107      2.510      0.012    2968.405    2.41e+04\n",
       "const       -1.81e+06   1.17e+05    -15.476      0.000   -2.04e+06   -1.58e+06\n",
       "==============================================================================\n",
       "Omnibus:                     2973.025   Durbin-Watson:                   2.018\n",
       "Prob(Omnibus):                  0.000   Jarque-Bera (JB):           454606.583\n",
       "Skew:                          -0.718   Prob(JB):                         0.00\n",
       "Kurtosis:                      40.112   Cond. No.                         577.\n",
       "==============================================================================\n",
       "\n",
       "Notes:\n",
       "[1] Standard Errors assume that the covariance matrix of the errors is correctly specified.\n",
       "\"\"\""
      ]
     },
     "execution_count": 102,
     "metadata": {},
     "output_type": "execute_result"
    }
   ],
   "source": [
    "# 가장 AIC가 낮은 5번째 모델의 OLS 결과 출력\n",
    "models_sports.loc[5, 'model'].summary()"
   ]
  },
  {
   "cell_type": "code",
   "execution_count": 103,
   "metadata": {},
   "outputs": [
    {
     "name": "stdout",
     "output_type": "stream",
     "text": [
      "full model Adj.Rsquared: 0.93393\n",
      "full model AIC: 255269.76925\n",
      "full model MSE: 91753059408227.26562\n"
     ]
    }
   ],
   "source": [
    "# aic가 가장 낲은 모델은 모든 변수를 선택한 모델이다\n",
    "print(\"full model Adj.Rsquared:\",\"{:.5f}\".format(fitted_full_model_sports.rsquared_adj))\n",
    "print(\"full model AIC:\",\"{:.5f}\".format(fitted_full_model_sports.aic))\n",
    "print(\"full model MSE:\",\"{:.5f}\".format(fitted_full_model_sports.mse_total))"
   ]
  },
  {
   "cell_type": "markdown",
   "metadata": {},
   "source": [
    "### 이 model에는 모든 변수가 유의하게 나오고 설명력(adj.r-squared)도 높다\n",
    "### 고객수와 건수의 다중 공선성이 높지만 두 변수 모두 유의한 변수이므로 둘 중 하나를 무조건 제거하는 것은 바람직 하지 못하다"
   ]
  },
  {
   "cell_type": "markdown",
   "metadata": {},
   "source": [
    "***\n",
    "## 2) 전진 선택법"
   ]
  },
  {
   "cell_type": "code",
   "execution_count": 104,
   "metadata": {},
   "outputs": [
    {
     "name": "stdout",
     "output_type": "stream",
     "text": [
      "Processed  5 models on 1 predictors in 0.015000581741333008\n",
      "Selected predictors: ['고객수', 'const'] AIC:  <statsmodels.regression.linear_model.RegressionResultsWrapper object at 0x000002029B9E07C8>\n",
      "Processed  4 models on 2 predictors in 0.009000539779663086\n",
      "Selected predictors: ['고객수', '생애주기', 'const'] AIC:  <statsmodels.regression.linear_model.RegressionResultsWrapper object at 0x000002029A908788>\n",
      "Processed  3 models on 3 predictors in 0.007000446319580078\n",
      "Selected predictors: ['고객수', '생애주기', '건수', 'const'] AIC:  <statsmodels.regression.linear_model.RegressionResultsWrapper object at 0x000002029B9E8D48>\n",
      "Processed  2 models on 4 predictors in 0.005000591278076172\n",
      "Selected predictors: ['고객수', '생애주기', '건수', '성별', 'const'] AIC:  <statsmodels.regression.linear_model.RegressionResultsWrapper object at 0x000002029B978148>\n",
      "Processed  1 models on 5 predictors in 0.004003286361694336\n",
      "Selected predictors: ['고객수', '생애주기', '건수', '성별', '연령대', 'const'] AIC:  <statsmodels.regression.linear_model.RegressionResultsWrapper object at 0x000002029A908608>\n",
      "Total elapsed time: 0.05900239944458008 seconds.\n"
     ]
    }
   ],
   "source": [
    "Forward_best_model = forward_model(X=train_x_sports, y=train_y_sports)"
   ]
  },
  {
   "cell_type": "code",
   "execution_count": 105,
   "metadata": {},
   "outputs": [
    {
     "name": "stdout",
     "output_type": "stream",
     "text": [
      "['고객수', '생애주기', '건수', '성별', '연령대', 'const']\n",
      "255269.7692526795\n"
     ]
    }
   ],
   "source": [
    "# 전진 선택법 모델 최종 선택된 변수와 AIC\n",
    "print(Forward_best_model.model.exog_names)\n",
    "print(Forward_best_model.aic)"
   ]
  },
  {
   "cell_type": "code",
   "execution_count": 106,
   "metadata": {},
   "outputs": [
    {
     "data": {
      "text/html": [
       "<table class=\"simpletable\">\n",
       "<caption>OLS Regression Results</caption>\n",
       "<tr>\n",
       "  <th>Dep. Variable:</th>           <td>금액</td>        <th>  R-squared:         </th>  <td>   0.934</td>  \n",
       "</tr>\n",
       "<tr>\n",
       "  <th>Model:</th>                   <td>OLS</td>       <th>  Adj. R-squared:    </th>  <td>   0.934</td>  \n",
       "</tr>\n",
       "<tr>\n",
       "  <th>Method:</th>             <td>Least Squares</td>  <th>  F-statistic:       </th>  <td>2.236e+04</td> \n",
       "</tr>\n",
       "<tr>\n",
       "  <th>Date:</th>             <td>Mon, 18 Jan 2021</td> <th>  Prob (F-statistic):</th>   <td>  0.00</td>   \n",
       "</tr>\n",
       "<tr>\n",
       "  <th>Time:</th>                 <td>17:43:03</td>     <th>  Log-Likelihood:    </th> <td>-1.2763e+05</td>\n",
       "</tr>\n",
       "<tr>\n",
       "  <th>No. Observations:</th>      <td>  7910</td>      <th>  AIC:               </th>  <td>2.553e+05</td> \n",
       "</tr>\n",
       "<tr>\n",
       "  <th>Df Residuals:</th>          <td>  7904</td>      <th>  BIC:               </th>  <td>2.553e+05</td> \n",
       "</tr>\n",
       "<tr>\n",
       "  <th>Df Model:</th>              <td>     5</td>      <th>                     </th>      <td> </td>     \n",
       "</tr>\n",
       "<tr>\n",
       "  <th>Covariance Type:</th>      <td>nonrobust</td>    <th>                     </th>      <td> </td>     \n",
       "</tr>\n",
       "</table>\n",
       "<table class=\"simpletable\">\n",
       "<tr>\n",
       "    <td></td>       <th>coef</th>     <th>std err</th>      <th>t</th>      <th>P>|t|</th>  <th>[0.025</th>    <th>0.975]</th>  \n",
       "</tr>\n",
       "<tr>\n",
       "  <th>고객수</th>   <td> 6.984e+04</td> <td> 3042.199</td> <td>   22.956</td> <td> 0.000</td> <td> 6.39e+04</td> <td> 7.58e+04</td>\n",
       "</tr>\n",
       "<tr>\n",
       "  <th>생애주기</th>  <td> 2.879e+05</td> <td> 5.79e+04</td> <td>    4.972</td> <td> 0.000</td> <td> 1.74e+05</td> <td> 4.01e+05</td>\n",
       "</tr>\n",
       "<tr>\n",
       "  <th>건수</th>    <td> 4.575e+04</td> <td> 2432.163</td> <td>   18.809</td> <td> 0.000</td> <td>  4.1e+04</td> <td> 5.05e+04</td>\n",
       "</tr>\n",
       "<tr>\n",
       "  <th>성별</th>    <td> 1.795e+05</td> <td> 5.64e+04</td> <td>    3.181</td> <td> 0.001</td> <td> 6.89e+04</td> <td>  2.9e+05</td>\n",
       "</tr>\n",
       "<tr>\n",
       "  <th>연령대</th>   <td> 1.355e+04</td> <td> 5397.107</td> <td>    2.510</td> <td> 0.012</td> <td> 2968.405</td> <td> 2.41e+04</td>\n",
       "</tr>\n",
       "<tr>\n",
       "  <th>const</th> <td> -1.81e+06</td> <td> 1.17e+05</td> <td>  -15.476</td> <td> 0.000</td> <td>-2.04e+06</td> <td>-1.58e+06</td>\n",
       "</tr>\n",
       "</table>\n",
       "<table class=\"simpletable\">\n",
       "<tr>\n",
       "  <th>Omnibus:</th>       <td>2973.025</td> <th>  Durbin-Watson:     </th>  <td>   2.018</td> \n",
       "</tr>\n",
       "<tr>\n",
       "  <th>Prob(Omnibus):</th>  <td> 0.000</td>  <th>  Jarque-Bera (JB):  </th> <td>454606.583</td>\n",
       "</tr>\n",
       "<tr>\n",
       "  <th>Skew:</th>           <td>-0.718</td>  <th>  Prob(JB):          </th>  <td>    0.00</td> \n",
       "</tr>\n",
       "<tr>\n",
       "  <th>Kurtosis:</th>       <td>40.112</td>  <th>  Cond. No.          </th>  <td>    577.</td> \n",
       "</tr>\n",
       "</table><br/><br/>Notes:<br/>[1] Standard Errors assume that the covariance matrix of the errors is correctly specified."
      ],
      "text/plain": [
       "<class 'statsmodels.iolib.summary.Summary'>\n",
       "\"\"\"\n",
       "                            OLS Regression Results                            \n",
       "==============================================================================\n",
       "Dep. Variable:                     금액   R-squared:                       0.934\n",
       "Model:                            OLS   Adj. R-squared:                  0.934\n",
       "Method:                 Least Squares   F-statistic:                 2.236e+04\n",
       "Date:                Mon, 18 Jan 2021   Prob (F-statistic):               0.00\n",
       "Time:                        17:43:03   Log-Likelihood:            -1.2763e+05\n",
       "No. Observations:                7910   AIC:                         2.553e+05\n",
       "Df Residuals:                    7904   BIC:                         2.553e+05\n",
       "Df Model:                           5                                         \n",
       "Covariance Type:            nonrobust                                         \n",
       "==============================================================================\n",
       "                 coef    std err          t      P>|t|      [0.025      0.975]\n",
       "------------------------------------------------------------------------------\n",
       "고객수         6.984e+04   3042.199     22.956      0.000    6.39e+04    7.58e+04\n",
       "생애주기        2.879e+05   5.79e+04      4.972      0.000    1.74e+05    4.01e+05\n",
       "건수          4.575e+04   2432.163     18.809      0.000     4.1e+04    5.05e+04\n",
       "성별          1.795e+05   5.64e+04      3.181      0.001    6.89e+04     2.9e+05\n",
       "연령대         1.355e+04   5397.107      2.510      0.012    2968.405    2.41e+04\n",
       "const       -1.81e+06   1.17e+05    -15.476      0.000   -2.04e+06   -1.58e+06\n",
       "==============================================================================\n",
       "Omnibus:                     2973.025   Durbin-Watson:                   2.018\n",
       "Prob(Omnibus):                  0.000   Jarque-Bera (JB):           454606.583\n",
       "Skew:                          -0.718   Prob(JB):                         0.00\n",
       "Kurtosis:                      40.112   Cond. No.                         577.\n",
       "==============================================================================\n",
       "\n",
       "Notes:\n",
       "[1] Standard Errors assume that the covariance matrix of the errors is correctly specified.\n",
       "\"\"\""
      ]
     },
     "execution_count": 106,
     "metadata": {},
     "output_type": "execute_result"
    }
   ],
   "source": [
    "Forward_best_model.summary()"
   ]
  },
  {
   "cell_type": "markdown",
   "metadata": {},
   "source": [
    "***\n",
    "## 3) 후진 소거법"
   ]
  },
  {
   "cell_type": "code",
   "execution_count": 107,
   "metadata": {},
   "outputs": [
    {
     "name": "stdout",
     "output_type": "stream",
     "text": [
      "Processed  5 models on 4 predictors in 0.015991926193237305\n",
      "Selected predictors: ['건수', '고객수', '생애주기', '성별', 'const']  AIC: <statsmodels.regression.linear_model.RegressionResultsWrapper object at 0x000002029A971948>\n",
      "Processed  4 models on 3 predictors in 0.008999347686767578\n",
      "Selected predictors: ['건수', '고객수', '생애주기', 'const']  AIC: <statsmodels.regression.linear_model.RegressionResultsWrapper object at 0x000002029A99E308>\n",
      "Total elapsed time: 0.031998395919799805 seconds.\n"
     ]
    }
   ],
   "source": [
    "Backward_best_model = backward_model(X=train_x_sports, y= train_y_sports)"
   ]
  },
  {
   "cell_type": "code",
   "execution_count": 108,
   "metadata": {},
   "outputs": [
    {
     "name": "stdout",
     "output_type": "stream",
     "text": [
      "['건수', '고객수', '생애주기', '성별', 'const']\n",
      "255274.07294665958\n"
     ]
    }
   ],
   "source": [
    "# 후진 소거법 모델 최종 선택된 변수와 AIC\n",
    "print(Backward_best_model.model.exog_names)\n",
    "print(Backward_best_model.aic)"
   ]
  },
  {
   "cell_type": "code",
   "execution_count": 109,
   "metadata": {
    "scrolled": true
   },
   "outputs": [
    {
     "data": {
      "text/html": [
       "<table class=\"simpletable\">\n",
       "<caption>OLS Regression Results</caption>\n",
       "<tr>\n",
       "  <th>Dep. Variable:</th>           <td>금액</td>        <th>  R-squared:         </th>  <td>   0.934</td>  \n",
       "</tr>\n",
       "<tr>\n",
       "  <th>Model:</th>                   <td>OLS</td>       <th>  Adj. R-squared:    </th>  <td>   0.934</td>  \n",
       "</tr>\n",
       "<tr>\n",
       "  <th>Method:</th>             <td>Least Squares</td>  <th>  F-statistic:       </th>  <td>2.793e+04</td> \n",
       "</tr>\n",
       "<tr>\n",
       "  <th>Date:</th>             <td>Mon, 18 Jan 2021</td> <th>  Prob (F-statistic):</th>   <td>  0.00</td>   \n",
       "</tr>\n",
       "<tr>\n",
       "  <th>Time:</th>                 <td>17:43:06</td>     <th>  Log-Likelihood:    </th> <td>-1.2763e+05</td>\n",
       "</tr>\n",
       "<tr>\n",
       "  <th>No. Observations:</th>      <td>  7910</td>      <th>  AIC:               </th>  <td>2.553e+05</td> \n",
       "</tr>\n",
       "<tr>\n",
       "  <th>Df Residuals:</th>          <td>  7905</td>      <th>  BIC:               </th>  <td>2.553e+05</td> \n",
       "</tr>\n",
       "<tr>\n",
       "  <th>Df Model:</th>              <td>     4</td>      <th>                     </th>      <td> </td>     \n",
       "</tr>\n",
       "<tr>\n",
       "  <th>Covariance Type:</th>      <td>nonrobust</td>    <th>                     </th>      <td> </td>     \n",
       "</tr>\n",
       "</table>\n",
       "<table class=\"simpletable\">\n",
       "<tr>\n",
       "    <td></td>       <th>coef</th>     <th>std err</th>      <th>t</th>      <th>P>|t|</th>  <th>[0.025</th>    <th>0.975]</th>  \n",
       "</tr>\n",
       "<tr>\n",
       "  <th>건수</th>    <td> 4.557e+04</td> <td> 2431.971</td> <td>   18.739</td> <td> 0.000</td> <td> 4.08e+04</td> <td> 5.03e+04</td>\n",
       "</tr>\n",
       "<tr>\n",
       "  <th>고객수</th>   <td> 7.005e+04</td> <td> 3042.039</td> <td>   23.027</td> <td> 0.000</td> <td> 6.41e+04</td> <td>  7.6e+04</td>\n",
       "</tr>\n",
       "<tr>\n",
       "  <th>생애주기</th>  <td> 4.246e+05</td> <td> 1.96e+04</td> <td>   21.685</td> <td> 0.000</td> <td> 3.86e+05</td> <td> 4.63e+05</td>\n",
       "</tr>\n",
       "<tr>\n",
       "  <th>성별</th>    <td> 1.724e+05</td> <td> 5.64e+04</td> <td>    3.059</td> <td> 0.002</td> <td> 6.19e+04</td> <td> 2.83e+05</td>\n",
       "</tr>\n",
       "<tr>\n",
       "  <th>const</th> <td>-1.669e+06</td> <td> 1.03e+05</td> <td>  -16.267</td> <td> 0.000</td> <td>-1.87e+06</td> <td>-1.47e+06</td>\n",
       "</tr>\n",
       "</table>\n",
       "<table class=\"simpletable\">\n",
       "<tr>\n",
       "  <th>Omnibus:</th>       <td>2966.364</td> <th>  Durbin-Watson:     </th>  <td>   2.017</td> \n",
       "</tr>\n",
       "<tr>\n",
       "  <th>Prob(Omnibus):</th>  <td> 0.000</td>  <th>  Jarque-Bera (JB):  </th> <td>452854.997</td>\n",
       "</tr>\n",
       "<tr>\n",
       "  <th>Skew:</th>           <td>-0.714</td>  <th>  Prob(JB):          </th>  <td>    0.00</td> \n",
       "</tr>\n",
       "<tr>\n",
       "  <th>Kurtosis:</th>       <td>40.040</td>  <th>  Cond. No.          </th>  <td>    514.</td> \n",
       "</tr>\n",
       "</table><br/><br/>Notes:<br/>[1] Standard Errors assume that the covariance matrix of the errors is correctly specified."
      ],
      "text/plain": [
       "<class 'statsmodels.iolib.summary.Summary'>\n",
       "\"\"\"\n",
       "                            OLS Regression Results                            \n",
       "==============================================================================\n",
       "Dep. Variable:                     금액   R-squared:                       0.934\n",
       "Model:                            OLS   Adj. R-squared:                  0.934\n",
       "Method:                 Least Squares   F-statistic:                 2.793e+04\n",
       "Date:                Mon, 18 Jan 2021   Prob (F-statistic):               0.00\n",
       "Time:                        17:43:06   Log-Likelihood:            -1.2763e+05\n",
       "No. Observations:                7910   AIC:                         2.553e+05\n",
       "Df Residuals:                    7905   BIC:                         2.553e+05\n",
       "Df Model:                           4                                         \n",
       "Covariance Type:            nonrobust                                         \n",
       "==============================================================================\n",
       "                 coef    std err          t      P>|t|      [0.025      0.975]\n",
       "------------------------------------------------------------------------------\n",
       "건수          4.557e+04   2431.971     18.739      0.000    4.08e+04    5.03e+04\n",
       "고객수         7.005e+04   3042.039     23.027      0.000    6.41e+04     7.6e+04\n",
       "생애주기        4.246e+05   1.96e+04     21.685      0.000    3.86e+05    4.63e+05\n",
       "성별          1.724e+05   5.64e+04      3.059      0.002    6.19e+04    2.83e+05\n",
       "const      -1.669e+06   1.03e+05    -16.267      0.000   -1.87e+06   -1.47e+06\n",
       "==============================================================================\n",
       "Omnibus:                     2966.364   Durbin-Watson:                   2.017\n",
       "Prob(Omnibus):                  0.000   Jarque-Bera (JB):           452854.997\n",
       "Skew:                          -0.714   Prob(JB):                         0.00\n",
       "Kurtosis:                      40.040   Cond. No.                         514.\n",
       "==============================================================================\n",
       "\n",
       "Notes:\n",
       "[1] Standard Errors assume that the covariance matrix of the errors is correctly specified.\n",
       "\"\"\""
      ]
     },
     "execution_count": 109,
     "metadata": {},
     "output_type": "execute_result"
    }
   ],
   "source": [
    "Backward_best_model.summary()"
   ]
  },
  {
   "cell_type": "markdown",
   "metadata": {},
   "source": [
    "***\n",
    "## 4) 단계적 선택법"
   ]
  },
  {
   "cell_type": "code",
   "execution_count": 110,
   "metadata": {},
   "outputs": [
    {
     "name": "stdout",
     "output_type": "stream",
     "text": [
      "Processed  5 models on 1 predictors in 0.013998031616210938\n",
      "Selected predictors: ['고객수', 'const'] AIC:  <statsmodels.regression.linear_model.RegressionResultsWrapper object at 0x00000202A0623F88>\n",
      "forward\n",
      "Processed  1 models on 0 predictors in 0.003998517990112305\n",
      "Selected predictors: ['const']  AIC: <statsmodels.regression.linear_model.RegressionResultsWrapper object at 0x000002029A95AE08>\n",
      "Processed  4 models on 2 predictors in 0.011000394821166992\n",
      "Selected predictors: ['고객수', '생애주기', 'const'] AIC:  <statsmodels.regression.linear_model.RegressionResultsWrapper object at 0x000002029B955188>\n",
      "forward\n",
      "Processed  2 models on 1 predictors in 0.005985736846923828\n",
      "Selected predictors: ['고객수', 'const']  AIC: <statsmodels.regression.linear_model.RegressionResultsWrapper object at 0x000002029B9552C8>\n",
      "Processed  3 models on 3 predictors in 0.00700068473815918\n",
      "Selected predictors: ['고객수', '생애주기', '건수', 'const'] AIC:  <statsmodels.regression.linear_model.RegressionResultsWrapper object at 0x000002029B955388>\n",
      "forward\n",
      "Processed  3 models on 2 predictors in 0.008002758026123047\n",
      "Selected predictors: ['고객수', '생애주기', 'const']  AIC: <statsmodels.regression.linear_model.RegressionResultsWrapper object at 0x000002029B9177C8>\n",
      "Processed  2 models on 4 predictors in 0.006001710891723633\n",
      "Selected predictors: ['고객수', '생애주기', '건수', '성별', 'const'] AIC:  <statsmodels.regression.linear_model.RegressionResultsWrapper object at 0x000002029B917D08>\n",
      "forward\n",
      "Processed  4 models on 3 predictors in 0.009000778198242188\n",
      "Selected predictors: ['고객수', '생애주기', '건수', 'const']  AIC: <statsmodels.regression.linear_model.RegressionResultsWrapper object at 0x000002029B95D608>\n",
      "Processed  1 models on 5 predictors in 0.0030045509338378906\n",
      "Selected predictors: ['고객수', '생애주기', '건수', '성별', '연령대', 'const'] AIC:  <statsmodels.regression.linear_model.RegressionResultsWrapper object at 0x000002029B939408>\n",
      "forward\n",
      "Processed  5 models on 4 predictors in 0.016034364700317383\n",
      "Selected predictors: ['고객수', '생애주기', '건수', '성별', 'const']  AIC: <statsmodels.regression.linear_model.RegressionResultsWrapper object at 0x000002029B95D488>\n",
      "Total elapsed time: 0.1099855899810791 seconds.\n"
     ]
    }
   ],
   "source": [
    "Stepwise_best_model = Stepwise_model(X=train_x_sports, y=train_y_sports)"
   ]
  },
  {
   "cell_type": "code",
   "execution_count": 111,
   "metadata": {},
   "outputs": [
    {
     "name": "stdout",
     "output_type": "stream",
     "text": [
      "['고객수', '생애주기', '건수', '성별', '연령대', 'const']\n",
      "255269.7692526795\n"
     ]
    }
   ],
   "source": [
    "# 단계적 선택법 모델 최종 선택된 변수와 AIC\n",
    "print(Stepwise_best_model.model.exog_names)\n",
    "print(Stepwise_best_model.aic)"
   ]
  },
  {
   "cell_type": "code",
   "execution_count": 112,
   "metadata": {},
   "outputs": [
    {
     "data": {
      "text/html": [
       "<table class=\"simpletable\">\n",
       "<caption>OLS Regression Results</caption>\n",
       "<tr>\n",
       "  <th>Dep. Variable:</th>           <td>금액</td>        <th>  R-squared:         </th>  <td>   0.934</td>  \n",
       "</tr>\n",
       "<tr>\n",
       "  <th>Model:</th>                   <td>OLS</td>       <th>  Adj. R-squared:    </th>  <td>   0.934</td>  \n",
       "</tr>\n",
       "<tr>\n",
       "  <th>Method:</th>             <td>Least Squares</td>  <th>  F-statistic:       </th>  <td>2.236e+04</td> \n",
       "</tr>\n",
       "<tr>\n",
       "  <th>Date:</th>             <td>Mon, 18 Jan 2021</td> <th>  Prob (F-statistic):</th>   <td>  0.00</td>   \n",
       "</tr>\n",
       "<tr>\n",
       "  <th>Time:</th>                 <td>17:43:09</td>     <th>  Log-Likelihood:    </th> <td>-1.2763e+05</td>\n",
       "</tr>\n",
       "<tr>\n",
       "  <th>No. Observations:</th>      <td>  7910</td>      <th>  AIC:               </th>  <td>2.553e+05</td> \n",
       "</tr>\n",
       "<tr>\n",
       "  <th>Df Residuals:</th>          <td>  7904</td>      <th>  BIC:               </th>  <td>2.553e+05</td> \n",
       "</tr>\n",
       "<tr>\n",
       "  <th>Df Model:</th>              <td>     5</td>      <th>                     </th>      <td> </td>     \n",
       "</tr>\n",
       "<tr>\n",
       "  <th>Covariance Type:</th>      <td>nonrobust</td>    <th>                     </th>      <td> </td>     \n",
       "</tr>\n",
       "</table>\n",
       "<table class=\"simpletable\">\n",
       "<tr>\n",
       "    <td></td>       <th>coef</th>     <th>std err</th>      <th>t</th>      <th>P>|t|</th>  <th>[0.025</th>    <th>0.975]</th>  \n",
       "</tr>\n",
       "<tr>\n",
       "  <th>고객수</th>   <td> 6.984e+04</td> <td> 3042.199</td> <td>   22.956</td> <td> 0.000</td> <td> 6.39e+04</td> <td> 7.58e+04</td>\n",
       "</tr>\n",
       "<tr>\n",
       "  <th>생애주기</th>  <td> 2.879e+05</td> <td> 5.79e+04</td> <td>    4.972</td> <td> 0.000</td> <td> 1.74e+05</td> <td> 4.01e+05</td>\n",
       "</tr>\n",
       "<tr>\n",
       "  <th>건수</th>    <td> 4.575e+04</td> <td> 2432.163</td> <td>   18.809</td> <td> 0.000</td> <td>  4.1e+04</td> <td> 5.05e+04</td>\n",
       "</tr>\n",
       "<tr>\n",
       "  <th>성별</th>    <td> 1.795e+05</td> <td> 5.64e+04</td> <td>    3.181</td> <td> 0.001</td> <td> 6.89e+04</td> <td>  2.9e+05</td>\n",
       "</tr>\n",
       "<tr>\n",
       "  <th>연령대</th>   <td> 1.355e+04</td> <td> 5397.107</td> <td>    2.510</td> <td> 0.012</td> <td> 2968.405</td> <td> 2.41e+04</td>\n",
       "</tr>\n",
       "<tr>\n",
       "  <th>const</th> <td> -1.81e+06</td> <td> 1.17e+05</td> <td>  -15.476</td> <td> 0.000</td> <td>-2.04e+06</td> <td>-1.58e+06</td>\n",
       "</tr>\n",
       "</table>\n",
       "<table class=\"simpletable\">\n",
       "<tr>\n",
       "  <th>Omnibus:</th>       <td>2973.025</td> <th>  Durbin-Watson:     </th>  <td>   2.018</td> \n",
       "</tr>\n",
       "<tr>\n",
       "  <th>Prob(Omnibus):</th>  <td> 0.000</td>  <th>  Jarque-Bera (JB):  </th> <td>454606.583</td>\n",
       "</tr>\n",
       "<tr>\n",
       "  <th>Skew:</th>           <td>-0.718</td>  <th>  Prob(JB):          </th>  <td>    0.00</td> \n",
       "</tr>\n",
       "<tr>\n",
       "  <th>Kurtosis:</th>       <td>40.112</td>  <th>  Cond. No.          </th>  <td>    577.</td> \n",
       "</tr>\n",
       "</table><br/><br/>Notes:<br/>[1] Standard Errors assume that the covariance matrix of the errors is correctly specified."
      ],
      "text/plain": [
       "<class 'statsmodels.iolib.summary.Summary'>\n",
       "\"\"\"\n",
       "                            OLS Regression Results                            \n",
       "==============================================================================\n",
       "Dep. Variable:                     금액   R-squared:                       0.934\n",
       "Model:                            OLS   Adj. R-squared:                  0.934\n",
       "Method:                 Least Squares   F-statistic:                 2.236e+04\n",
       "Date:                Mon, 18 Jan 2021   Prob (F-statistic):               0.00\n",
       "Time:                        17:43:09   Log-Likelihood:            -1.2763e+05\n",
       "No. Observations:                7910   AIC:                         2.553e+05\n",
       "Df Residuals:                    7904   BIC:                         2.553e+05\n",
       "Df Model:                           5                                         \n",
       "Covariance Type:            nonrobust                                         \n",
       "==============================================================================\n",
       "                 coef    std err          t      P>|t|      [0.025      0.975]\n",
       "------------------------------------------------------------------------------\n",
       "고객수         6.984e+04   3042.199     22.956      0.000    6.39e+04    7.58e+04\n",
       "생애주기        2.879e+05   5.79e+04      4.972      0.000    1.74e+05    4.01e+05\n",
       "건수          4.575e+04   2432.163     18.809      0.000     4.1e+04    5.05e+04\n",
       "성별          1.795e+05   5.64e+04      3.181      0.001    6.89e+04     2.9e+05\n",
       "연령대         1.355e+04   5397.107      2.510      0.012    2968.405    2.41e+04\n",
       "const       -1.81e+06   1.17e+05    -15.476      0.000   -2.04e+06   -1.58e+06\n",
       "==============================================================================\n",
       "Omnibus:                     2973.025   Durbin-Watson:                   2.018\n",
       "Prob(Omnibus):                  0.000   Jarque-Bera (JB):           454606.583\n",
       "Skew:                          -0.718   Prob(JB):                         0.00\n",
       "Kurtosis:                      40.112   Cond. No.                         577.\n",
       "==============================================================================\n",
       "\n",
       "Notes:\n",
       "[1] Standard Errors assume that the covariance matrix of the errors is correctly specified.\n",
       "\"\"\""
      ]
     },
     "execution_count": 112,
     "metadata": {},
     "output_type": "execute_result"
    }
   ],
   "source": [
    "Stepwise_best_model.summary()"
   ]
  },
  {
   "cell_type": "markdown",
   "metadata": {},
   "source": [
    "***"
   ]
  },
  {
   "cell_type": "code",
   "execution_count": 113,
   "metadata": {},
   "outputs": [
    {
     "name": "stdout",
     "output_type": "stream",
     "text": [
      "(6,) (5,) (6,)\n"
     ]
    }
   ],
   "source": [
    "# number of params\n",
    "print(Forward_best_model.params.shape, Backward_best_model.params.shape, Stepwise_best_model.params.shape)"
   ]
  },
  {
   "cell_type": "markdown",
   "metadata": {},
   "source": [
    "- 전진, 단계적 선택법은 \"건수, 생애주기, 고객수, 성별, 연령대\" 변수를 선택했고\n",
    "- 후진 소거법은 \"건수, 고객수, 생애주기, 성별\" 변수를 선택했다\n",
    "- 각 방법 별 선택된 변수들은 모두 유의하다"
   ]
  },
  {
   "cell_type": "code",
   "execution_count": 114,
   "metadata": {},
   "outputs": [],
   "source": [
    "# 모델에 의해 예측된/추정된 값 = test_y\n",
    "pred_y_full = fitted_full_model_sports.predict(test_x_sports)\n",
    "pred_y_forward = Forward_best_model.predict(test_x_sports[Forward_best_model.model.exog_names])\n",
    "pred_y_backward = Backward_best_model.predict(test_x_sports[Backward_best_model.model.exog_names])\n",
    "pred_y_stepwise = Stepwise_best_model.predict(test_x_sports[Stepwise_best_model.model.exog_names])"
   ]
  },
  {
   "cell_type": "code",
   "execution_count": null,
   "metadata": {},
   "outputs": [],
   "source": []
  },
  {
   "cell_type": "markdown",
   "metadata": {},
   "source": [
    "- ① model : 모든 변수를 선택(ALL), 모든 경우의 수(SELECTED), 전진(FORWARD), 단계(STEPWISE)\n",
    "- ② model : 후진(BACKWARD)\n",
    "    - \"건수, 고객수, 생애주기, 성별\" 변수를 선택\n",
    "***\n",
    "- MSE : ①<②\n",
    "- RMSE : ①<②\n",
    "- MAE : ①<②\n",
    "- MAPE : ①<②\n",
    "\n",
    "### ★ ① model이 더 좋음\n",
    "***\n",
    "- 다중공선성 같은 문제가 있으면 변수를 줄이는 방법으로 모델의 신뢰성을 높일 수 있다.\n",
    "- 하지만 고객수, 건수 변수가 높은 다중 공선성을 가지지만 모두 유의했다\n",
    "- 변수를 제거해야 하는지는 논리적인 이유가 필요하다\n",
    "***"
   ]
  },
  {
   "cell_type": "markdown",
   "metadata": {},
   "source": [
    "# FOOD"
   ]
  },
  {
   "cell_type": "code",
   "execution_count": 115,
   "metadata": {},
   "outputs": [
    {
     "data": {
      "text/html": [
       "<table class=\"simpletable\">\n",
       "<caption>OLS Regression Results</caption>\n",
       "<tr>\n",
       "  <th>Dep. Variable:</th>           <td>금액</td>        <th>  R-squared:         </th>  <td>   0.976</td>  \n",
       "</tr>\n",
       "<tr>\n",
       "  <th>Model:</th>                   <td>OLS</td>       <th>  Adj. R-squared:    </th>  <td>   0.976</td>  \n",
       "</tr>\n",
       "<tr>\n",
       "  <th>Method:</th>             <td>Least Squares</td>  <th>  F-statistic:       </th>  <td>9.326e+05</td> \n",
       "</tr>\n",
       "<tr>\n",
       "  <th>Date:</th>             <td>Mon, 18 Jan 2021</td> <th>  Prob (F-statistic):</th>   <td>  0.00</td>   \n",
       "</tr>\n",
       "<tr>\n",
       "  <th>Time:</th>                 <td>17:43:19</td>     <th>  Log-Likelihood:    </th> <td>-1.9191e+06</td>\n",
       "</tr>\n",
       "<tr>\n",
       "  <th>No. Observations:</th>      <td>115981</td>      <th>  AIC:               </th>  <td>3.838e+06</td> \n",
       "</tr>\n",
       "<tr>\n",
       "  <th>Df Residuals:</th>          <td>115975</td>      <th>  BIC:               </th>  <td>3.838e+06</td> \n",
       "</tr>\n",
       "<tr>\n",
       "  <th>Df Model:</th>              <td>     5</td>      <th>                     </th>      <td> </td>     \n",
       "</tr>\n",
       "<tr>\n",
       "  <th>Covariance Type:</th>      <td>nonrobust</td>    <th>                     </th>      <td> </td>     \n",
       "</tr>\n",
       "</table>\n",
       "<table class=\"simpletable\">\n",
       "<tr>\n",
       "    <td></td>       <th>coef</th>     <th>std err</th>      <th>t</th>      <th>P>|t|</th>  <th>[0.025</th>    <th>0.975]</th>  \n",
       "</tr>\n",
       "<tr>\n",
       "  <th>const</th> <td>-4.697e+05</td> <td> 4.86e+04</td> <td>   -9.668</td> <td> 0.000</td> <td>-5.65e+05</td> <td>-3.74e+05</td>\n",
       "</tr>\n",
       "<tr>\n",
       "  <th>건수</th>    <td> 3.919e+04</td> <td>  175.273</td> <td>  223.605</td> <td> 0.000</td> <td> 3.88e+04</td> <td> 3.95e+04</td>\n",
       "</tr>\n",
       "<tr>\n",
       "  <th>고객수</th>   <td>-9751.2978</td> <td>  264.086</td> <td>  -36.925</td> <td> 0.000</td> <td>-1.03e+04</td> <td>-9233.693</td>\n",
       "</tr>\n",
       "<tr>\n",
       "  <th>생애주기</th>  <td> 1.146e+05</td> <td> 2.37e+04</td> <td>    4.835</td> <td> 0.000</td> <td> 6.81e+04</td> <td> 1.61e+05</td>\n",
       "</tr>\n",
       "<tr>\n",
       "  <th>성별</th>    <td>-3.494e+05</td> <td> 2.27e+04</td> <td>  -15.383</td> <td> 0.000</td> <td>-3.94e+05</td> <td>-3.05e+05</td>\n",
       "</tr>\n",
       "<tr>\n",
       "  <th>연령대</th>   <td> 1.239e+04</td> <td> 2302.598</td> <td>    5.380</td> <td> 0.000</td> <td> 7875.307</td> <td> 1.69e+04</td>\n",
       "</tr>\n",
       "</table>\n",
       "<table class=\"simpletable\">\n",
       "<tr>\n",
       "  <th>Omnibus:</th>       <td>86735.767</td> <th>  Durbin-Watson:     </th>    <td>   1.993</td>   \n",
       "</tr>\n",
       "<tr>\n",
       "  <th>Prob(Omnibus):</th>  <td> 0.000</td>   <th>  Jarque-Bera (JB):  </th> <td>2112870930.592</td>\n",
       "</tr>\n",
       "<tr>\n",
       "  <th>Skew:</th>           <td>-1.673</td>   <th>  Prob(JB):          </th>    <td>    0.00</td>   \n",
       "</tr>\n",
       "<tr>\n",
       "  <th>Kurtosis:</th>       <td>664.216</td>  <th>  Cond. No.          </th>    <td>4.16e+03</td>   \n",
       "</tr>\n",
       "</table><br/><br/>Notes:<br/>[1] Standard Errors assume that the covariance matrix of the errors is correctly specified.<br/>[2] The condition number is large, 4.16e+03. This might indicate that there are<br/>strong multicollinearity or other numerical problems."
      ],
      "text/plain": [
       "<class 'statsmodels.iolib.summary.Summary'>\n",
       "\"\"\"\n",
       "                            OLS Regression Results                            \n",
       "==============================================================================\n",
       "Dep. Variable:                     금액   R-squared:                       0.976\n",
       "Model:                            OLS   Adj. R-squared:                  0.976\n",
       "Method:                 Least Squares   F-statistic:                 9.326e+05\n",
       "Date:                Mon, 18 Jan 2021   Prob (F-statistic):               0.00\n",
       "Time:                        17:43:19   Log-Likelihood:            -1.9191e+06\n",
       "No. Observations:              115981   AIC:                         3.838e+06\n",
       "Df Residuals:                  115975   BIC:                         3.838e+06\n",
       "Df Model:                           5                                         \n",
       "Covariance Type:            nonrobust                                         \n",
       "==============================================================================\n",
       "                 coef    std err          t      P>|t|      [0.025      0.975]\n",
       "------------------------------------------------------------------------------\n",
       "const      -4.697e+05   4.86e+04     -9.668      0.000   -5.65e+05   -3.74e+05\n",
       "건수          3.919e+04    175.273    223.605      0.000    3.88e+04    3.95e+04\n",
       "고객수        -9751.2978    264.086    -36.925      0.000   -1.03e+04   -9233.693\n",
       "생애주기        1.146e+05   2.37e+04      4.835      0.000    6.81e+04    1.61e+05\n",
       "성별         -3.494e+05   2.27e+04    -15.383      0.000   -3.94e+05   -3.05e+05\n",
       "연령대         1.239e+04   2302.598      5.380      0.000    7875.307    1.69e+04\n",
       "==============================================================================\n",
       "Omnibus:                    86735.767   Durbin-Watson:                   1.993\n",
       "Prob(Omnibus):                  0.000   Jarque-Bera (JB):       2112870930.592\n",
       "Skew:                          -1.673   Prob(JB):                         0.00\n",
       "Kurtosis:                     664.216   Cond. No.                     4.16e+03\n",
       "==============================================================================\n",
       "\n",
       "Notes:\n",
       "[1] Standard Errors assume that the covariance matrix of the errors is correctly specified.\n",
       "[2] The condition number is large, 4.16e+03. This might indicate that there are\n",
       "strong multicollinearity or other numerical problems.\n",
       "\"\"\""
      ]
     },
     "execution_count": 115,
     "metadata": {},
     "output_type": "execute_result"
    }
   ],
   "source": [
    "# 모든 변수를 사용한 일반 음식점업의 회귀모델 적합\n",
    "\n",
    "full_model_food = sm.OLS(train_y_food, train_x_food)\n",
    "fitted_full_model_food = full_model_food.fit()\n",
    "\n",
    "fitted_full_model_food.summary()"
   ]
  },
  {
   "cell_type": "code",
   "execution_count": 116,
   "metadata": {},
   "outputs": [
    {
     "data": {
      "text/html": [
       "<div>\n",
       "<style scoped>\n",
       "    .dataframe tbody tr th:only-of-type {\n",
       "        vertical-align: middle;\n",
       "    }\n",
       "\n",
       "    .dataframe tbody tr th {\n",
       "        vertical-align: top;\n",
       "    }\n",
       "\n",
       "    .dataframe thead th {\n",
       "        text-align: right;\n",
       "    }\n",
       "</style>\n",
       "<table border=\"1\" class=\"dataframe\">\n",
       "  <thead>\n",
       "    <tr style=\"text-align: right;\">\n",
       "      <th></th>\n",
       "      <th>VIF Factor</th>\n",
       "      <th>features</th>\n",
       "    </tr>\n",
       "  </thead>\n",
       "  <tbody>\n",
       "    <tr>\n",
       "      <th>0</th>\n",
       "      <td>19.812261</td>\n",
       "      <td>const</td>\n",
       "    </tr>\n",
       "    <tr>\n",
       "      <th>1</th>\n",
       "      <td>8.925375</td>\n",
       "      <td>연령대</td>\n",
       "    </tr>\n",
       "    <tr>\n",
       "      <th>2</th>\n",
       "      <td>1.009970</td>\n",
       "      <td>성별</td>\n",
       "    </tr>\n",
       "    <tr>\n",
       "      <th>3</th>\n",
       "      <td>8.911244</td>\n",
       "      <td>생애주기</td>\n",
       "    </tr>\n",
       "    <tr>\n",
       "      <th>4</th>\n",
       "      <td>141.084806</td>\n",
       "      <td>고객수</td>\n",
       "    </tr>\n",
       "    <tr>\n",
       "      <th>5</th>\n",
       "      <td>43.608068</td>\n",
       "      <td>금액</td>\n",
       "    </tr>\n",
       "    <tr>\n",
       "      <th>6</th>\n",
       "      <td>197.955838</td>\n",
       "      <td>건수</td>\n",
       "    </tr>\n",
       "  </tbody>\n",
       "</table>\n",
       "</div>"
      ],
      "text/plain": [
       "   VIF Factor features\n",
       "0   19.812261    const\n",
       "1    8.925375      연령대\n",
       "2    1.009970       성별\n",
       "3    8.911244     생애주기\n",
       "4  141.084806      고객수\n",
       "5   43.608068       금액\n",
       "6  197.955838       건수"
      ]
     },
     "execution_count": 116,
     "metadata": {},
     "output_type": "execute_result"
    }
   ],
   "source": [
    "# 일반 음식점업 VIF로 다중공선성 확인\n",
    "\n",
    "vif_food=pd.DataFrame()\n",
    "vif_food['VIF Factor'] = [variance_inflation_factor(data_food.values, i) for i in range(data_food.shape[1])]\n",
    "vif_food['features'] = data_food.columns\n",
    "vif_food"
   ]
  },
  {
   "cell_type": "markdown",
   "metadata": {},
   "source": [
    "***\n",
    "## 1) 전체 경우의 수"
   ]
  },
  {
   "cell_type": "code",
   "execution_count": 117,
   "metadata": {
    "scrolled": true
   },
   "outputs": [
    {
     "name": "stdout",
     "output_type": "stream",
     "text": [
      "일반 음식점업: {'model': <statsmodels.regression.linear_model.RegressionResultsWrapper object at 0x000002029B940388>, 'AIC': 3838198.6488677696}\n"
     ]
    }
   ],
   "source": [
    "print(\"일반 음식점업:\", processSubset(X = train_x_food, y=train_y_food, feature_set = feature_columns_food))"
   ]
  },
  {
   "cell_type": "code",
   "execution_count": 118,
   "metadata": {},
   "outputs": [
    {
     "name": "stdout",
     "output_type": "stream",
     "text": [
      "Prcessed 5 models on 1 predictors in 0.06999993324279785 seconds\n",
      "Prcessed 10 models on 2 predictors in 0.1959998607635498 seconds\n",
      "Prcessed 10 models on 3 predictors in 0.25800204277038574 seconds\n",
      "Prcessed 5 models on 4 predictors in 0.13407468795776367 seconds\n",
      "Prcessed 1 models on 5 predictors in 0.029999971389770508 seconds\n",
      "일반 음식점업 Total elapsed time: 0.738074779510498 seconds\n"
     ]
    }
   ],
   "source": [
    "# 일반 음식점업 변수 선택에 따른 학습시간과 저장\n",
    "models_food = pd.DataFrame(columns=['AIC', 'model'])\n",
    "tic = time.time()\n",
    "for i in range(1,6):\n",
    "    models_food.loc[i] = getBest(X=train_x_food, y=train_y_food, k=i)\n",
    "toc = time.time()\n",
    "print('일반 음식점업 Total elapsed time:', (toc-tic), 'seconds')"
   ]
  },
  {
   "cell_type": "code",
   "execution_count": 119,
   "metadata": {},
   "outputs": [
    {
     "data": {
      "text/html": [
       "<div>\n",
       "<style scoped>\n",
       "    .dataframe tbody tr th:only-of-type {\n",
       "        vertical-align: middle;\n",
       "    }\n",
       "\n",
       "    .dataframe tbody tr th {\n",
       "        vertical-align: top;\n",
       "    }\n",
       "\n",
       "    .dataframe thead th {\n",
       "        text-align: right;\n",
       "    }\n",
       "</style>\n",
       "<table border=\"1\" class=\"dataframe\">\n",
       "  <thead>\n",
       "    <tr style=\"text-align: right;\">\n",
       "      <th></th>\n",
       "      <th>AIC</th>\n",
       "      <th>model</th>\n",
       "    </tr>\n",
       "  </thead>\n",
       "  <tbody>\n",
       "    <tr>\n",
       "      <th>1</th>\n",
       "      <td>3.840715e+06</td>\n",
       "      <td>&lt;statsmodels.regression.linear_model.Regressio...</td>\n",
       "    </tr>\n",
       "    <tr>\n",
       "      <th>2</th>\n",
       "      <td>3.839377e+06</td>\n",
       "      <td>&lt;statsmodels.regression.linear_model.Regressio...</td>\n",
       "    </tr>\n",
       "    <tr>\n",
       "      <th>3</th>\n",
       "      <td>3.838448e+06</td>\n",
       "      <td>&lt;statsmodels.regression.linear_model.Regressio...</td>\n",
       "    </tr>\n",
       "    <tr>\n",
       "      <th>4</th>\n",
       "      <td>3.838220e+06</td>\n",
       "      <td>&lt;statsmodels.regression.linear_model.Regressio...</td>\n",
       "    </tr>\n",
       "    <tr>\n",
       "      <th>5</th>\n",
       "      <td>3.838199e+06</td>\n",
       "      <td>&lt;statsmodels.regression.linear_model.Regressio...</td>\n",
       "    </tr>\n",
       "  </tbody>\n",
       "</table>\n",
       "</div>"
      ],
      "text/plain": [
       "            AIC                                              model\n",
       "1  3.840715e+06  <statsmodels.regression.linear_model.Regressio...\n",
       "2  3.839377e+06  <statsmodels.regression.linear_model.Regressio...\n",
       "3  3.838448e+06  <statsmodels.regression.linear_model.Regressio...\n",
       "4  3.838220e+06  <statsmodels.regression.linear_model.Regressio...\n",
       "5  3.838199e+06  <statsmodels.regression.linear_model.Regressio..."
      ]
     },
     "execution_count": 119,
     "metadata": {},
     "output_type": "execute_result"
    }
   ],
   "source": [
    "# 선택된 변수의 개수(1,2,3,4,5) 별 가장 낮음 AIC를 보유한 모델들이 들어있는 data frame\n",
    "models_food"
   ]
  },
  {
   "cell_type": "code",
   "execution_count": 120,
   "metadata": {},
   "outputs": [
    {
     "data": {
      "text/html": [
       "<table class=\"simpletable\">\n",
       "<caption>OLS Regression Results</caption>\n",
       "<tr>\n",
       "  <th>Dep. Variable:</th>           <td>금액</td>        <th>  R-squared:         </th>  <td>   0.976</td>  \n",
       "</tr>\n",
       "<tr>\n",
       "  <th>Model:</th>                   <td>OLS</td>       <th>  Adj. R-squared:    </th>  <td>   0.976</td>  \n",
       "</tr>\n",
       "<tr>\n",
       "  <th>Method:</th>             <td>Least Squares</td>  <th>  F-statistic:       </th>  <td>9.326e+05</td> \n",
       "</tr>\n",
       "<tr>\n",
       "  <th>Date:</th>             <td>Mon, 18 Jan 2021</td> <th>  Prob (F-statistic):</th>   <td>  0.00</td>   \n",
       "</tr>\n",
       "<tr>\n",
       "  <th>Time:</th>                 <td>17:43:24</td>     <th>  Log-Likelihood:    </th> <td>-1.9191e+06</td>\n",
       "</tr>\n",
       "<tr>\n",
       "  <th>No. Observations:</th>      <td>115981</td>      <th>  AIC:               </th>  <td>3.838e+06</td> \n",
       "</tr>\n",
       "<tr>\n",
       "  <th>Df Residuals:</th>          <td>115975</td>      <th>  BIC:               </th>  <td>3.838e+06</td> \n",
       "</tr>\n",
       "<tr>\n",
       "  <th>Df Model:</th>              <td>     5</td>      <th>                     </th>      <td> </td>     \n",
       "</tr>\n",
       "<tr>\n",
       "  <th>Covariance Type:</th>      <td>nonrobust</td>    <th>                     </th>      <td> </td>     \n",
       "</tr>\n",
       "</table>\n",
       "<table class=\"simpletable\">\n",
       "<tr>\n",
       "    <td></td>       <th>coef</th>     <th>std err</th>      <th>t</th>      <th>P>|t|</th>  <th>[0.025</th>    <th>0.975]</th>  \n",
       "</tr>\n",
       "<tr>\n",
       "  <th>건수</th>    <td> 3.919e+04</td> <td>  175.273</td> <td>  223.605</td> <td> 0.000</td> <td> 3.88e+04</td> <td> 3.95e+04</td>\n",
       "</tr>\n",
       "<tr>\n",
       "  <th>고객수</th>   <td>-9751.2978</td> <td>  264.086</td> <td>  -36.925</td> <td> 0.000</td> <td>-1.03e+04</td> <td>-9233.693</td>\n",
       "</tr>\n",
       "<tr>\n",
       "  <th>생애주기</th>  <td> 1.146e+05</td> <td> 2.37e+04</td> <td>    4.835</td> <td> 0.000</td> <td> 6.81e+04</td> <td> 1.61e+05</td>\n",
       "</tr>\n",
       "<tr>\n",
       "  <th>성별</th>    <td>-3.494e+05</td> <td> 2.27e+04</td> <td>  -15.383</td> <td> 0.000</td> <td>-3.94e+05</td> <td>-3.05e+05</td>\n",
       "</tr>\n",
       "<tr>\n",
       "  <th>연령대</th>   <td> 1.239e+04</td> <td> 2302.598</td> <td>    5.380</td> <td> 0.000</td> <td> 7875.307</td> <td> 1.69e+04</td>\n",
       "</tr>\n",
       "<tr>\n",
       "  <th>const</th> <td>-4.697e+05</td> <td> 4.86e+04</td> <td>   -9.668</td> <td> 0.000</td> <td>-5.65e+05</td> <td>-3.74e+05</td>\n",
       "</tr>\n",
       "</table>\n",
       "<table class=\"simpletable\">\n",
       "<tr>\n",
       "  <th>Omnibus:</th>       <td>86735.767</td> <th>  Durbin-Watson:     </th>    <td>   1.993</td>   \n",
       "</tr>\n",
       "<tr>\n",
       "  <th>Prob(Omnibus):</th>  <td> 0.000</td>   <th>  Jarque-Bera (JB):  </th> <td>2112870930.592</td>\n",
       "</tr>\n",
       "<tr>\n",
       "  <th>Skew:</th>           <td>-1.673</td>   <th>  Prob(JB):          </th>    <td>    0.00</td>   \n",
       "</tr>\n",
       "<tr>\n",
       "  <th>Kurtosis:</th>       <td>664.216</td>  <th>  Cond. No.          </th>    <td>4.16e+03</td>   \n",
       "</tr>\n",
       "</table><br/><br/>Notes:<br/>[1] Standard Errors assume that the covariance matrix of the errors is correctly specified.<br/>[2] The condition number is large, 4.16e+03. This might indicate that there are<br/>strong multicollinearity or other numerical problems."
      ],
      "text/plain": [
       "<class 'statsmodels.iolib.summary.Summary'>\n",
       "\"\"\"\n",
       "                            OLS Regression Results                            \n",
       "==============================================================================\n",
       "Dep. Variable:                     금액   R-squared:                       0.976\n",
       "Model:                            OLS   Adj. R-squared:                  0.976\n",
       "Method:                 Least Squares   F-statistic:                 9.326e+05\n",
       "Date:                Mon, 18 Jan 2021   Prob (F-statistic):               0.00\n",
       "Time:                        17:43:24   Log-Likelihood:            -1.9191e+06\n",
       "No. Observations:              115981   AIC:                         3.838e+06\n",
       "Df Residuals:                  115975   BIC:                         3.838e+06\n",
       "Df Model:                           5                                         \n",
       "Covariance Type:            nonrobust                                         \n",
       "==============================================================================\n",
       "                 coef    std err          t      P>|t|      [0.025      0.975]\n",
       "------------------------------------------------------------------------------\n",
       "건수          3.919e+04    175.273    223.605      0.000    3.88e+04    3.95e+04\n",
       "고객수        -9751.2978    264.086    -36.925      0.000   -1.03e+04   -9233.693\n",
       "생애주기        1.146e+05   2.37e+04      4.835      0.000    6.81e+04    1.61e+05\n",
       "성별         -3.494e+05   2.27e+04    -15.383      0.000   -3.94e+05   -3.05e+05\n",
       "연령대         1.239e+04   2302.598      5.380      0.000    7875.307    1.69e+04\n",
       "const      -4.697e+05   4.86e+04     -9.668      0.000   -5.65e+05   -3.74e+05\n",
       "==============================================================================\n",
       "Omnibus:                    86735.767   Durbin-Watson:                   1.993\n",
       "Prob(Omnibus):                  0.000   Jarque-Bera (JB):       2112870930.592\n",
       "Skew:                          -1.673   Prob(JB):                         0.00\n",
       "Kurtosis:                     664.216   Cond. No.                     4.16e+03\n",
       "==============================================================================\n",
       "\n",
       "Notes:\n",
       "[1] Standard Errors assume that the covariance matrix of the errors is correctly specified.\n",
       "[2] The condition number is large, 4.16e+03. This might indicate that there are\n",
       "strong multicollinearity or other numerical problems.\n",
       "\"\"\""
      ]
     },
     "execution_count": 120,
     "metadata": {},
     "output_type": "execute_result"
    }
   ],
   "source": [
    "# 가장 AIC가 낮은 5번째 모델의 OLS 결과 출력\n",
    "models_food.loc[5, 'model'].summary()"
   ]
  },
  {
   "cell_type": "code",
   "execution_count": 121,
   "metadata": {
    "scrolled": true
   },
   "outputs": [
    {
     "name": "stdout",
     "output_type": "stream",
     "text": [
      "full model Adj.Rsquared: 0.97573\n",
      "full model AIC: 3838198.64887\n",
      "full model MSE: 568499204917427.87500\n"
     ]
    }
   ],
   "source": [
    "# aic가 가장 낮은 모델은 모든 변수를 선택한 모델이다\n",
    "print(\"full model Adj.Rsquared:\",\"{:.5f}\".format(fitted_full_model_food.rsquared_adj))\n",
    "print(\"full model AIC:\",\"{:.5f}\".format(fitted_full_model_food.aic))\n",
    "print(\"full model MSE:\",\"{:.5f}\".format(fitted_full_model_food.mse_total))"
   ]
  },
  {
   "cell_type": "markdown",
   "metadata": {},
   "source": [
    "### 이 model에는 모든 변수가 유의하게 나오고 설명력(adj.r-squared)도 높다\n",
    "### 고객수와 건수의 다중 공선성이 높지만 두 변수 모두 유의한 변수이므로 둘 중 하나를 무조건 제거하는 것은 바람직 하지 못하다"
   ]
  },
  {
   "cell_type": "markdown",
   "metadata": {},
   "source": [
    "***\n",
    "## 2) 전진 선택법"
   ]
  },
  {
   "cell_type": "code",
   "execution_count": 122,
   "metadata": {
    "scrolled": true
   },
   "outputs": [
    {
     "name": "stdout",
     "output_type": "stream",
     "text": [
      "Processed  5 models on 1 predictors in 0.0749514102935791\n",
      "Selected predictors: ['건수', 'const'] AIC:  <statsmodels.regression.linear_model.RegressionResultsWrapper object at 0x000002029B951B08>\n",
      "Processed  4 models on 2 predictors in 0.0950016975402832\n",
      "Selected predictors: ['건수', '고객수', 'const'] AIC:  <statsmodels.regression.linear_model.RegressionResultsWrapper object at 0x000002029B8C8908>\n",
      "Processed  3 models on 3 predictors in 0.06200242042541504\n",
      "Selected predictors: ['건수', '고객수', '연령대', 'const'] AIC:  <statsmodels.regression.linear_model.RegressionResultsWrapper object at 0x000002029B8EC888>\n",
      "Processed  2 models on 4 predictors in 0.05300116539001465\n",
      "Selected predictors: ['건수', '고객수', '연령대', '성별', 'const'] AIC:  <statsmodels.regression.linear_model.RegressionResultsWrapper object at 0x000002029B8CBE08>\n",
      "Processed  1 models on 5 predictors in 0.0350039005279541\n",
      "Selected predictors: ['건수', '고객수', '연령대', '성별', '생애주기', 'const'] AIC:  <statsmodels.regression.linear_model.RegressionResultsWrapper object at 0x000002029B8CBCC8>\n",
      "Total elapsed time: 0.34995150566101074 seconds.\n"
     ]
    }
   ],
   "source": [
    "Forward_best_model = forward_model(X=train_x_food, y=train_y_food)"
   ]
  },
  {
   "cell_type": "code",
   "execution_count": 123,
   "metadata": {},
   "outputs": [
    {
     "name": "stdout",
     "output_type": "stream",
     "text": [
      "['건수', '고객수', '연령대', '성별', '생애주기', 'const']\n",
      "3838198.6488677696\n"
     ]
    }
   ],
   "source": [
    "# 전진 선택법 모델 최종 선택된 변수와 AIC\n",
    "print(Forward_best_model.model.exog_names)\n",
    "print(Forward_best_model.aic)"
   ]
  },
  {
   "cell_type": "code",
   "execution_count": 124,
   "metadata": {},
   "outputs": [
    {
     "data": {
      "text/html": [
       "<table class=\"simpletable\">\n",
       "<caption>OLS Regression Results</caption>\n",
       "<tr>\n",
       "  <th>Dep. Variable:</th>           <td>금액</td>        <th>  R-squared:         </th>  <td>   0.976</td>  \n",
       "</tr>\n",
       "<tr>\n",
       "  <th>Model:</th>                   <td>OLS</td>       <th>  Adj. R-squared:    </th>  <td>   0.976</td>  \n",
       "</tr>\n",
       "<tr>\n",
       "  <th>Method:</th>             <td>Least Squares</td>  <th>  F-statistic:       </th>  <td>9.326e+05</td> \n",
       "</tr>\n",
       "<tr>\n",
       "  <th>Date:</th>             <td>Mon, 18 Jan 2021</td> <th>  Prob (F-statistic):</th>   <td>  0.00</td>   \n",
       "</tr>\n",
       "<tr>\n",
       "  <th>Time:</th>                 <td>17:43:28</td>     <th>  Log-Likelihood:    </th> <td>-1.9191e+06</td>\n",
       "</tr>\n",
       "<tr>\n",
       "  <th>No. Observations:</th>      <td>115981</td>      <th>  AIC:               </th>  <td>3.838e+06</td> \n",
       "</tr>\n",
       "<tr>\n",
       "  <th>Df Residuals:</th>          <td>115975</td>      <th>  BIC:               </th>  <td>3.838e+06</td> \n",
       "</tr>\n",
       "<tr>\n",
       "  <th>Df Model:</th>              <td>     5</td>      <th>                     </th>      <td> </td>     \n",
       "</tr>\n",
       "<tr>\n",
       "  <th>Covariance Type:</th>      <td>nonrobust</td>    <th>                     </th>      <td> </td>     \n",
       "</tr>\n",
       "</table>\n",
       "<table class=\"simpletable\">\n",
       "<tr>\n",
       "    <td></td>       <th>coef</th>     <th>std err</th>      <th>t</th>      <th>P>|t|</th>  <th>[0.025</th>    <th>0.975]</th>  \n",
       "</tr>\n",
       "<tr>\n",
       "  <th>건수</th>    <td> 3.919e+04</td> <td>  175.273</td> <td>  223.605</td> <td> 0.000</td> <td> 3.88e+04</td> <td> 3.95e+04</td>\n",
       "</tr>\n",
       "<tr>\n",
       "  <th>고객수</th>   <td>-9751.2978</td> <td>  264.086</td> <td>  -36.925</td> <td> 0.000</td> <td>-1.03e+04</td> <td>-9233.693</td>\n",
       "</tr>\n",
       "<tr>\n",
       "  <th>연령대</th>   <td> 1.239e+04</td> <td> 2302.598</td> <td>    5.380</td> <td> 0.000</td> <td> 7875.307</td> <td> 1.69e+04</td>\n",
       "</tr>\n",
       "<tr>\n",
       "  <th>성별</th>    <td>-3.494e+05</td> <td> 2.27e+04</td> <td>  -15.383</td> <td> 0.000</td> <td>-3.94e+05</td> <td>-3.05e+05</td>\n",
       "</tr>\n",
       "<tr>\n",
       "  <th>생애주기</th>  <td> 1.146e+05</td> <td> 2.37e+04</td> <td>    4.835</td> <td> 0.000</td> <td> 6.81e+04</td> <td> 1.61e+05</td>\n",
       "</tr>\n",
       "<tr>\n",
       "  <th>const</th> <td>-4.697e+05</td> <td> 4.86e+04</td> <td>   -9.668</td> <td> 0.000</td> <td>-5.65e+05</td> <td>-3.74e+05</td>\n",
       "</tr>\n",
       "</table>\n",
       "<table class=\"simpletable\">\n",
       "<tr>\n",
       "  <th>Omnibus:</th>       <td>86735.767</td> <th>  Durbin-Watson:     </th>    <td>   1.993</td>   \n",
       "</tr>\n",
       "<tr>\n",
       "  <th>Prob(Omnibus):</th>  <td> 0.000</td>   <th>  Jarque-Bera (JB):  </th> <td>2112870930.592</td>\n",
       "</tr>\n",
       "<tr>\n",
       "  <th>Skew:</th>           <td>-1.673</td>   <th>  Prob(JB):          </th>    <td>    0.00</td>   \n",
       "</tr>\n",
       "<tr>\n",
       "  <th>Kurtosis:</th>       <td>664.216</td>  <th>  Cond. No.          </th>    <td>4.16e+03</td>   \n",
       "</tr>\n",
       "</table><br/><br/>Notes:<br/>[1] Standard Errors assume that the covariance matrix of the errors is correctly specified.<br/>[2] The condition number is large, 4.16e+03. This might indicate that there are<br/>strong multicollinearity or other numerical problems."
      ],
      "text/plain": [
       "<class 'statsmodels.iolib.summary.Summary'>\n",
       "\"\"\"\n",
       "                            OLS Regression Results                            \n",
       "==============================================================================\n",
       "Dep. Variable:                     금액   R-squared:                       0.976\n",
       "Model:                            OLS   Adj. R-squared:                  0.976\n",
       "Method:                 Least Squares   F-statistic:                 9.326e+05\n",
       "Date:                Mon, 18 Jan 2021   Prob (F-statistic):               0.00\n",
       "Time:                        17:43:28   Log-Likelihood:            -1.9191e+06\n",
       "No. Observations:              115981   AIC:                         3.838e+06\n",
       "Df Residuals:                  115975   BIC:                         3.838e+06\n",
       "Df Model:                           5                                         \n",
       "Covariance Type:            nonrobust                                         \n",
       "==============================================================================\n",
       "                 coef    std err          t      P>|t|      [0.025      0.975]\n",
       "------------------------------------------------------------------------------\n",
       "건수          3.919e+04    175.273    223.605      0.000    3.88e+04    3.95e+04\n",
       "고객수        -9751.2978    264.086    -36.925      0.000   -1.03e+04   -9233.693\n",
       "연령대         1.239e+04   2302.598      5.380      0.000    7875.307    1.69e+04\n",
       "성별         -3.494e+05   2.27e+04    -15.383      0.000   -3.94e+05   -3.05e+05\n",
       "생애주기        1.146e+05   2.37e+04      4.835      0.000    6.81e+04    1.61e+05\n",
       "const      -4.697e+05   4.86e+04     -9.668      0.000   -5.65e+05   -3.74e+05\n",
       "==============================================================================\n",
       "Omnibus:                    86735.767   Durbin-Watson:                   1.993\n",
       "Prob(Omnibus):                  0.000   Jarque-Bera (JB):       2112870930.592\n",
       "Skew:                          -1.673   Prob(JB):                         0.00\n",
       "Kurtosis:                     664.216   Cond. No.                     4.16e+03\n",
       "==============================================================================\n",
       "\n",
       "Notes:\n",
       "[1] Standard Errors assume that the covariance matrix of the errors is correctly specified.\n",
       "[2] The condition number is large, 4.16e+03. This might indicate that there are\n",
       "strong multicollinearity or other numerical problems.\n",
       "\"\"\""
      ]
     },
     "execution_count": 124,
     "metadata": {},
     "output_type": "execute_result"
    }
   ],
   "source": [
    "Forward_best_model.summary()"
   ]
  },
  {
   "cell_type": "markdown",
   "metadata": {},
   "source": [
    "***\n",
    "## 3) 후진 소거법"
   ]
  },
  {
   "cell_type": "code",
   "execution_count": 125,
   "metadata": {},
   "outputs": [
    {
     "name": "stdout",
     "output_type": "stream",
     "text": [
      "Processed  5 models on 4 predictors in 0.16499924659729004\n",
      "Selected predictors: ['건수', '고객수', '성별', '연령대', 'const']  AIC: <statsmodels.regression.linear_model.RegressionResultsWrapper object at 0x000002029B8DC8C8>\n",
      "Processed  4 models on 3 predictors in 0.08300304412841797\n",
      "Selected predictors: ['건수', '고객수', '연령대', 'const']  AIC: <statsmodels.regression.linear_model.RegressionResultsWrapper object at 0x000002029B8DCB08>\n",
      "Total elapsed time: 0.3130524158477783 seconds.\n"
     ]
    }
   ],
   "source": [
    "Backward_best_model = backward_model(X=train_x_food, y= train_y_food)"
   ]
  },
  {
   "cell_type": "code",
   "execution_count": 126,
   "metadata": {},
   "outputs": [
    {
     "name": "stdout",
     "output_type": "stream",
     "text": [
      "['건수', '고객수', '성별', '연령대', 'const']\n",
      "3838220.024705662\n"
     ]
    }
   ],
   "source": [
    "# 후진 소거법 모델 최종 선택된 변수와 AIC\n",
    "print(Backward_best_model.model.exog_names)\n",
    "print(Backward_best_model.aic)"
   ]
  },
  {
   "cell_type": "code",
   "execution_count": 127,
   "metadata": {},
   "outputs": [
    {
     "data": {
      "text/html": [
       "<table class=\"simpletable\">\n",
       "<caption>OLS Regression Results</caption>\n",
       "<tr>\n",
       "  <th>Dep. Variable:</th>           <td>금액</td>        <th>  R-squared:         </th>  <td>   0.976</td>  \n",
       "</tr>\n",
       "<tr>\n",
       "  <th>Model:</th>                   <td>OLS</td>       <th>  Adj. R-squared:    </th>  <td>   0.976</td>  \n",
       "</tr>\n",
       "<tr>\n",
       "  <th>Method:</th>             <td>Least Squares</td>  <th>  F-statistic:       </th>  <td>1.166e+06</td> \n",
       "</tr>\n",
       "<tr>\n",
       "  <th>Date:</th>             <td>Mon, 18 Jan 2021</td> <th>  Prob (F-statistic):</th>   <td>  0.00</td>   \n",
       "</tr>\n",
       "<tr>\n",
       "  <th>Time:</th>                 <td>17:43:30</td>     <th>  Log-Likelihood:    </th> <td>-1.9191e+06</td>\n",
       "</tr>\n",
       "<tr>\n",
       "  <th>No. Observations:</th>      <td>115981</td>      <th>  AIC:               </th>  <td>3.838e+06</td> \n",
       "</tr>\n",
       "<tr>\n",
       "  <th>Df Residuals:</th>          <td>115976</td>      <th>  BIC:               </th>  <td>3.838e+06</td> \n",
       "</tr>\n",
       "<tr>\n",
       "  <th>Df Model:</th>              <td>     4</td>      <th>                     </th>      <td> </td>     \n",
       "</tr>\n",
       "<tr>\n",
       "  <th>Covariance Type:</th>      <td>nonrobust</td>    <th>                     </th>      <td> </td>     \n",
       "</tr>\n",
       "</table>\n",
       "<table class=\"simpletable\">\n",
       "<tr>\n",
       "    <td></td>       <th>coef</th>     <th>std err</th>      <th>t</th>      <th>P>|t|</th>  <th>[0.025</th>    <th>0.975]</th>  \n",
       "</tr>\n",
       "<tr>\n",
       "  <th>건수</th>    <td> 3.919e+04</td> <td>  175.290</td> <td>  223.585</td> <td> 0.000</td> <td> 3.88e+04</td> <td> 3.95e+04</td>\n",
       "</tr>\n",
       "<tr>\n",
       "  <th>고객수</th>   <td>-9751.0549</td> <td>  264.112</td> <td>  -36.920</td> <td> 0.000</td> <td>-1.03e+04</td> <td>-9233.400</td>\n",
       "</tr>\n",
       "<tr>\n",
       "  <th>성별</th>    <td>-3.441e+05</td> <td> 2.27e+04</td> <td>  -15.166</td> <td> 0.000</td> <td>-3.89e+05</td> <td>   -3e+05</td>\n",
       "</tr>\n",
       "<tr>\n",
       "  <th>연령대</th>   <td> 2.288e+04</td> <td>  768.076</td> <td>   29.794</td> <td> 0.000</td> <td> 2.14e+04</td> <td> 2.44e+04</td>\n",
       "</tr>\n",
       "<tr>\n",
       "  <th>const</th> <td> -5.54e+05</td> <td> 4.53e+04</td> <td>  -12.216</td> <td> 0.000</td> <td>-6.43e+05</td> <td>-4.65e+05</td>\n",
       "</tr>\n",
       "</table>\n",
       "<table class=\"simpletable\">\n",
       "<tr>\n",
       "  <th>Omnibus:</th>       <td>86773.193</td> <th>  Durbin-Watson:     </th>    <td>   1.993</td>   \n",
       "</tr>\n",
       "<tr>\n",
       "  <th>Prob(Omnibus):</th>  <td> 0.000</td>   <th>  Jarque-Bera (JB):  </th> <td>2113176432.414</td>\n",
       "</tr>\n",
       "<tr>\n",
       "  <th>Skew:</th>           <td>-1.674</td>   <th>  Prob(JB):          </th>    <td>    0.00</td>   \n",
       "</tr>\n",
       "<tr>\n",
       "  <th>Kurtosis:</th>       <td>664.263</td>  <th>  Cond. No.          </th>    <td>3.88e+03</td>   \n",
       "</tr>\n",
       "</table><br/><br/>Notes:<br/>[1] Standard Errors assume that the covariance matrix of the errors is correctly specified.<br/>[2] The condition number is large, 3.88e+03. This might indicate that there are<br/>strong multicollinearity or other numerical problems."
      ],
      "text/plain": [
       "<class 'statsmodels.iolib.summary.Summary'>\n",
       "\"\"\"\n",
       "                            OLS Regression Results                            \n",
       "==============================================================================\n",
       "Dep. Variable:                     금액   R-squared:                       0.976\n",
       "Model:                            OLS   Adj. R-squared:                  0.976\n",
       "Method:                 Least Squares   F-statistic:                 1.166e+06\n",
       "Date:                Mon, 18 Jan 2021   Prob (F-statistic):               0.00\n",
       "Time:                        17:43:30   Log-Likelihood:            -1.9191e+06\n",
       "No. Observations:              115981   AIC:                         3.838e+06\n",
       "Df Residuals:                  115976   BIC:                         3.838e+06\n",
       "Df Model:                           4                                         \n",
       "Covariance Type:            nonrobust                                         \n",
       "==============================================================================\n",
       "                 coef    std err          t      P>|t|      [0.025      0.975]\n",
       "------------------------------------------------------------------------------\n",
       "건수          3.919e+04    175.290    223.585      0.000    3.88e+04    3.95e+04\n",
       "고객수        -9751.0549    264.112    -36.920      0.000   -1.03e+04   -9233.400\n",
       "성별         -3.441e+05   2.27e+04    -15.166      0.000   -3.89e+05      -3e+05\n",
       "연령대         2.288e+04    768.076     29.794      0.000    2.14e+04    2.44e+04\n",
       "const       -5.54e+05   4.53e+04    -12.216      0.000   -6.43e+05   -4.65e+05\n",
       "==============================================================================\n",
       "Omnibus:                    86773.193   Durbin-Watson:                   1.993\n",
       "Prob(Omnibus):                  0.000   Jarque-Bera (JB):       2113176432.414\n",
       "Skew:                          -1.674   Prob(JB):                         0.00\n",
       "Kurtosis:                     664.263   Cond. No.                     3.88e+03\n",
       "==============================================================================\n",
       "\n",
       "Notes:\n",
       "[1] Standard Errors assume that the covariance matrix of the errors is correctly specified.\n",
       "[2] The condition number is large, 3.88e+03. This might indicate that there are\n",
       "strong multicollinearity or other numerical problems.\n",
       "\"\"\""
      ]
     },
     "execution_count": 127,
     "metadata": {},
     "output_type": "execute_result"
    }
   ],
   "source": [
    "Backward_best_model.summary()"
   ]
  },
  {
   "cell_type": "markdown",
   "metadata": {},
   "source": [
    "***\n",
    "## 4) 단계적 선택법"
   ]
  },
  {
   "cell_type": "code",
   "execution_count": 128,
   "metadata": {},
   "outputs": [
    {
     "name": "stdout",
     "output_type": "stream",
     "text": [
      "Processed  5 models on 1 predictors in 0.06999707221984863\n",
      "Selected predictors: ['건수', 'const'] AIC:  <statsmodels.regression.linear_model.RegressionResultsWrapper object at 0x000002029B944F88>\n",
      "forward\n",
      "Processed  1 models on 0 predictors in 0.008999347686767578\n",
      "Selected predictors: ['const']  AIC: <statsmodels.regression.linear_model.RegressionResultsWrapper object at 0x000002029B951C08>\n",
      "Processed  4 models on 2 predictors in 0.09399962425231934\n",
      "Selected predictors: ['건수', '고객수', 'const'] AIC:  <statsmodels.regression.linear_model.RegressionResultsWrapper object at 0x00000202A2105308>\n",
      "forward\n",
      "Processed  2 models on 1 predictors in 0.02599811553955078\n",
      "Selected predictors: ['건수', 'const']  AIC: <statsmodels.regression.linear_model.RegressionResultsWrapper object at 0x000002029B8F2508>\n",
      "Processed  3 models on 3 predictors in 0.05800032615661621\n",
      "Selected predictors: ['건수', '고객수', '연령대', 'const'] AIC:  <statsmodels.regression.linear_model.RegressionResultsWrapper object at 0x00000202A20FE6C8>\n",
      "forward\n",
      "Processed  3 models on 2 predictors in 0.0579991340637207\n",
      "Selected predictors: ['건수', '고객수', 'const']  AIC: <statsmodels.regression.linear_model.RegressionResultsWrapper object at 0x00000202A2105788>\n",
      "Processed  2 models on 4 predictors in 0.07401371002197266\n",
      "Selected predictors: ['건수', '고객수', '연령대', '성별', 'const'] AIC:  <statsmodels.regression.linear_model.RegressionResultsWrapper object at 0x000002029B873D48>\n",
      "forward\n",
      "Processed  4 models on 3 predictors in 0.11899781227111816\n",
      "Selected predictors: ['건수', '고객수', '연령대', 'const']  AIC: <statsmodels.regression.linear_model.RegressionResultsWrapper object at 0x00000202A20FF908>\n",
      "Processed  1 models on 5 predictors in 0.04299569129943848\n",
      "Selected predictors: ['건수', '고객수', '연령대', '성별', '생애주기', 'const'] AIC:  <statsmodels.regression.linear_model.RegressionResultsWrapper object at 0x000002029B873AC8>\n",
      "forward\n",
      "Processed  5 models on 4 predictors in 0.16099977493286133\n",
      "Selected predictors: ['건수', '고객수', '연령대', '성별', 'const']  AIC: <statsmodels.regression.linear_model.RegressionResultsWrapper object at 0x000002029B864EC8>\n",
      "Total elapsed time: 0.7780001163482666 seconds.\n"
     ]
    }
   ],
   "source": [
    "Stepwise_best_model = Stepwise_model(X=train_x_food, y=train_y_food)"
   ]
  },
  {
   "cell_type": "code",
   "execution_count": 129,
   "metadata": {},
   "outputs": [
    {
     "name": "stdout",
     "output_type": "stream",
     "text": [
      "['건수', '고객수', '연령대', '성별', '생애주기', 'const']\n",
      "3838198.6488677696\n"
     ]
    }
   ],
   "source": [
    "# 단계적 선택법 모델 최종 선택된 변수와 AIC\n",
    "print(Stepwise_best_model.model.exog_names)\n",
    "print(Stepwise_best_model.aic)"
   ]
  },
  {
   "cell_type": "code",
   "execution_count": 130,
   "metadata": {},
   "outputs": [
    {
     "data": {
      "text/html": [
       "<table class=\"simpletable\">\n",
       "<caption>OLS Regression Results</caption>\n",
       "<tr>\n",
       "  <th>Dep. Variable:</th>           <td>금액</td>        <th>  R-squared:         </th>  <td>   0.976</td>  \n",
       "</tr>\n",
       "<tr>\n",
       "  <th>Model:</th>                   <td>OLS</td>       <th>  Adj. R-squared:    </th>  <td>   0.976</td>  \n",
       "</tr>\n",
       "<tr>\n",
       "  <th>Method:</th>             <td>Least Squares</td>  <th>  F-statistic:       </th>  <td>9.326e+05</td> \n",
       "</tr>\n",
       "<tr>\n",
       "  <th>Date:</th>             <td>Mon, 18 Jan 2021</td> <th>  Prob (F-statistic):</th>   <td>  0.00</td>   \n",
       "</tr>\n",
       "<tr>\n",
       "  <th>Time:</th>                 <td>17:43:34</td>     <th>  Log-Likelihood:    </th> <td>-1.9191e+06</td>\n",
       "</tr>\n",
       "<tr>\n",
       "  <th>No. Observations:</th>      <td>115981</td>      <th>  AIC:               </th>  <td>3.838e+06</td> \n",
       "</tr>\n",
       "<tr>\n",
       "  <th>Df Residuals:</th>          <td>115975</td>      <th>  BIC:               </th>  <td>3.838e+06</td> \n",
       "</tr>\n",
       "<tr>\n",
       "  <th>Df Model:</th>              <td>     5</td>      <th>                     </th>      <td> </td>     \n",
       "</tr>\n",
       "<tr>\n",
       "  <th>Covariance Type:</th>      <td>nonrobust</td>    <th>                     </th>      <td> </td>     \n",
       "</tr>\n",
       "</table>\n",
       "<table class=\"simpletable\">\n",
       "<tr>\n",
       "    <td></td>       <th>coef</th>     <th>std err</th>      <th>t</th>      <th>P>|t|</th>  <th>[0.025</th>    <th>0.975]</th>  \n",
       "</tr>\n",
       "<tr>\n",
       "  <th>건수</th>    <td> 3.919e+04</td> <td>  175.273</td> <td>  223.605</td> <td> 0.000</td> <td> 3.88e+04</td> <td> 3.95e+04</td>\n",
       "</tr>\n",
       "<tr>\n",
       "  <th>고객수</th>   <td>-9751.2978</td> <td>  264.086</td> <td>  -36.925</td> <td> 0.000</td> <td>-1.03e+04</td> <td>-9233.693</td>\n",
       "</tr>\n",
       "<tr>\n",
       "  <th>연령대</th>   <td> 1.239e+04</td> <td> 2302.598</td> <td>    5.380</td> <td> 0.000</td> <td> 7875.307</td> <td> 1.69e+04</td>\n",
       "</tr>\n",
       "<tr>\n",
       "  <th>성별</th>    <td>-3.494e+05</td> <td> 2.27e+04</td> <td>  -15.383</td> <td> 0.000</td> <td>-3.94e+05</td> <td>-3.05e+05</td>\n",
       "</tr>\n",
       "<tr>\n",
       "  <th>생애주기</th>  <td> 1.146e+05</td> <td> 2.37e+04</td> <td>    4.835</td> <td> 0.000</td> <td> 6.81e+04</td> <td> 1.61e+05</td>\n",
       "</tr>\n",
       "<tr>\n",
       "  <th>const</th> <td>-4.697e+05</td> <td> 4.86e+04</td> <td>   -9.668</td> <td> 0.000</td> <td>-5.65e+05</td> <td>-3.74e+05</td>\n",
       "</tr>\n",
       "</table>\n",
       "<table class=\"simpletable\">\n",
       "<tr>\n",
       "  <th>Omnibus:</th>       <td>86735.767</td> <th>  Durbin-Watson:     </th>    <td>   1.993</td>   \n",
       "</tr>\n",
       "<tr>\n",
       "  <th>Prob(Omnibus):</th>  <td> 0.000</td>   <th>  Jarque-Bera (JB):  </th> <td>2112870930.592</td>\n",
       "</tr>\n",
       "<tr>\n",
       "  <th>Skew:</th>           <td>-1.673</td>   <th>  Prob(JB):          </th>    <td>    0.00</td>   \n",
       "</tr>\n",
       "<tr>\n",
       "  <th>Kurtosis:</th>       <td>664.216</td>  <th>  Cond. No.          </th>    <td>4.16e+03</td>   \n",
       "</tr>\n",
       "</table><br/><br/>Notes:<br/>[1] Standard Errors assume that the covariance matrix of the errors is correctly specified.<br/>[2] The condition number is large, 4.16e+03. This might indicate that there are<br/>strong multicollinearity or other numerical problems."
      ],
      "text/plain": [
       "<class 'statsmodels.iolib.summary.Summary'>\n",
       "\"\"\"\n",
       "                            OLS Regression Results                            \n",
       "==============================================================================\n",
       "Dep. Variable:                     금액   R-squared:                       0.976\n",
       "Model:                            OLS   Adj. R-squared:                  0.976\n",
       "Method:                 Least Squares   F-statistic:                 9.326e+05\n",
       "Date:                Mon, 18 Jan 2021   Prob (F-statistic):               0.00\n",
       "Time:                        17:43:34   Log-Likelihood:            -1.9191e+06\n",
       "No. Observations:              115981   AIC:                         3.838e+06\n",
       "Df Residuals:                  115975   BIC:                         3.838e+06\n",
       "Df Model:                           5                                         \n",
       "Covariance Type:            nonrobust                                         \n",
       "==============================================================================\n",
       "                 coef    std err          t      P>|t|      [0.025      0.975]\n",
       "------------------------------------------------------------------------------\n",
       "건수          3.919e+04    175.273    223.605      0.000    3.88e+04    3.95e+04\n",
       "고객수        -9751.2978    264.086    -36.925      0.000   -1.03e+04   -9233.693\n",
       "연령대         1.239e+04   2302.598      5.380      0.000    7875.307    1.69e+04\n",
       "성별         -3.494e+05   2.27e+04    -15.383      0.000   -3.94e+05   -3.05e+05\n",
       "생애주기        1.146e+05   2.37e+04      4.835      0.000    6.81e+04    1.61e+05\n",
       "const      -4.697e+05   4.86e+04     -9.668      0.000   -5.65e+05   -3.74e+05\n",
       "==============================================================================\n",
       "Omnibus:                    86735.767   Durbin-Watson:                   1.993\n",
       "Prob(Omnibus):                  0.000   Jarque-Bera (JB):       2112870930.592\n",
       "Skew:                          -1.673   Prob(JB):                         0.00\n",
       "Kurtosis:                     664.216   Cond. No.                     4.16e+03\n",
       "==============================================================================\n",
       "\n",
       "Notes:\n",
       "[1] Standard Errors assume that the covariance matrix of the errors is correctly specified.\n",
       "[2] The condition number is large, 4.16e+03. This might indicate that there are\n",
       "strong multicollinearity or other numerical problems.\n",
       "\"\"\""
      ]
     },
     "execution_count": 130,
     "metadata": {},
     "output_type": "execute_result"
    }
   ],
   "source": [
    "Stepwise_best_model.summary()"
   ]
  },
  {
   "cell_type": "code",
   "execution_count": 131,
   "metadata": {
    "scrolled": true
   },
   "outputs": [
    {
     "name": "stdout",
     "output_type": "stream",
     "text": [
      "(6,) (5,) (6,)\n"
     ]
    }
   ],
   "source": [
    "# number of params\n",
    "print(Forward_best_model.params.shape, Backward_best_model.params.shape, Stepwise_best_model.params.shape)"
   ]
  },
  {
   "cell_type": "markdown",
   "metadata": {},
   "source": [
    "- 전진, 단계적 선택법은 \"건수, 연령대, 고객수, 성별, 생애주기\" 변수를 선택했고\n",
    "- 후진 소거법은 \"건수, 고객수, 성별, 연령대\" 변수를 선택했다\n",
    "- 각 방법 별 선택된 변수들은 모두 유의하다"
   ]
  },
  {
   "cell_type": "code",
   "execution_count": 132,
   "metadata": {},
   "outputs": [],
   "source": [
    "# 모델에 의해 예측된/추정된 값 = test_y\n",
    "pred_y_full = fitted_full_model_food.predict(test_x_food)\n",
    "pred_y_forward = Forward_best_model.predict(test_x_food[Forward_best_model.model.exog_names])\n",
    "pred_y_backward = Backward_best_model.predict(test_x_food[Backward_best_model.model.exog_names])\n",
    "pred_y_stepwise = Stepwise_best_model.predict(test_x_food[Stepwise_best_model.model.exog_names])"
   ]
  },
  {
   "cell_type": "code",
   "execution_count": 117,
   "metadata": {},
   "outputs": [
    {
     "name": "stdout",
     "output_type": "stream",
     "text": [
      "              ALL      FORWARD     BACKWARD     STEPWISE\n",
      "MSE    1.3291e+13   1.3291e+13  1.32933e+13   1.3291e+13\n",
      "RMSE  3.64568e+06  3.64568e+06    3.646e+06  3.64568e+06\n",
      "MAE        890684       890684       887798       890684\n",
      "MAPE       322.56       322.56       318.33       322.56\n"
     ]
    }
   ],
   "source": [
    "# MSE, RMSE, MAE, MAPE 4가지 지표를 통해 예측성능을 확인\n",
    "\n",
    "perf_mat = pd.DataFrame(columns=[\"ALL\", \"FORWARD\", \"BACKWARD\", \"STEPWISE\"],index =['MSE', 'RMSE','MAE', 'MAPE'])\n",
    "\n",
    "# MAPE의 함수\n",
    "def mean_absolute_percentage_error(y_true, y_pred):\n",
    "    y_true, y_pred = np.array(y_true), np.array(y_pred)\n",
    "    return np.mean(np.abs((y_true - y_pred) / y_true)) * 100\n",
    "from sklearn import metrics  # 나머지는 sklearn에서 활용\n",
    "\n",
    "# 성능지표\n",
    "perf_mat.loc['MSE']['ALL'] = metrics.mean_squared_error(test_y_food,pred_y_full)\n",
    "perf_mat.loc['MSE']['FORWARD'] = metrics.mean_squared_error(test_y_food,pred_y_forward)\n",
    "perf_mat.loc['MSE']['BACKWARD'] = metrics.mean_squared_error(test_y_food,pred_y_backward)\n",
    "perf_mat.loc['MSE']['STEPWISE'] = metrics.mean_squared_error(test_y_food,pred_y_stepwise)\n",
    "\n",
    "perf_mat.loc['RMSE']['ALL'] = np.sqrt(metrics.mean_squared_error(test_y_food, pred_y_full))\n",
    "perf_mat.loc['RMSE']['FORWARD'] = np.sqrt(metrics.mean_squared_error(test_y_food, pred_y_forward))\n",
    "perf_mat.loc['RMSE']['BACKWARD'] = np.sqrt(metrics.mean_squared_error(test_y_food, pred_y_backward))\n",
    "perf_mat.loc['RMSE']['STEPWISE'] = np.sqrt(metrics.mean_squared_error(test_y_food, pred_y_stepwise))\n",
    "\n",
    "perf_mat.loc['MAE']['ALL'] = metrics.mean_absolute_error(test_y_food, pred_y_full)\n",
    "perf_mat.loc['MAE']['FORWARD'] = metrics.mean_absolute_error(test_y_food, pred_y_forward)\n",
    "perf_mat.loc['MAE']['BACKWARD'] = metrics.mean_absolute_error(test_y_food, pred_y_backward)\n",
    "perf_mat.loc['MAE']['STEPWISE'] = metrics.mean_absolute_error(test_y_food, pred_y_stepwise)\n",
    "\n",
    "perf_mat.loc['MAPE']['ALL'] = mean_absolute_percentage_error(test_y_food, pred_y_full)\n",
    "perf_mat.loc['MAPE']['FORWARD'] = mean_absolute_percentage_error(test_y_food, pred_y_forward)\n",
    "perf_mat.loc['MAPE']['BACKWARD'] = mean_absolute_percentage_error(test_y_food, pred_y_backward)\n",
    "perf_mat.loc['MAPE']['STEPWISE'] = mean_absolute_percentage_error(test_y_food, pred_y_stepwise)\n",
    "\n",
    "print(perf_mat)"
   ]
  },
  {
   "cell_type": "markdown",
   "metadata": {},
   "source": [
    "- ① model : 모든 변수를 선택(ALL), 모든 경우의 수(SELECTED), 전진(FORWARD), 단계(STEPWISE)\n",
    "- ② model : 후진(BACKWARD)\n",
    "    - \"건수, 고객수, 성별, 연령대\" 변수를 선택\n",
    "***\n",
    "\n",
    "- MSE : ①<②\n",
    "- RMSE : ①<②\n",
    "- MAE : ①>②\n",
    "- MAPE : ①>②\n",
    "\n",
    "### ★ ? model이 더 좋음"
   ]
  },
  {
   "cell_type": "markdown",
   "metadata": {},
   "source": [
    "# DISPLAY"
   ]
  },
  {
   "cell_type": "code",
   "execution_count": 133,
   "metadata": {},
   "outputs": [
    {
     "data": {
      "text/html": [
       "<table class=\"simpletable\">\n",
       "<caption>OLS Regression Results</caption>\n",
       "<tr>\n",
       "  <th>Dep. Variable:</th>           <td>금액</td>        <th>  R-squared:         </th> <td>   0.810</td> \n",
       "</tr>\n",
       "<tr>\n",
       "  <th>Model:</th>                   <td>OLS</td>       <th>  Adj. R-squared:    </th> <td>   0.809</td> \n",
       "</tr>\n",
       "<tr>\n",
       "  <th>Method:</th>             <td>Least Squares</td>  <th>  F-statistic:       </th> <td>   3695.</td> \n",
       "</tr>\n",
       "<tr>\n",
       "  <th>Date:</th>             <td>Mon, 18 Jan 2021</td> <th>  Prob (F-statistic):</th>  <td>  0.00</td>  \n",
       "</tr>\n",
       "<tr>\n",
       "  <th>Time:</th>                 <td>17:43:41</td>     <th>  Log-Likelihood:    </th> <td> -61196.</td> \n",
       "</tr>\n",
       "<tr>\n",
       "  <th>No. Observations:</th>      <td>  4351</td>      <th>  AIC:               </th> <td>1.224e+05</td>\n",
       "</tr>\n",
       "<tr>\n",
       "  <th>Df Residuals:</th>          <td>  4345</td>      <th>  BIC:               </th> <td>1.224e+05</td>\n",
       "</tr>\n",
       "<tr>\n",
       "  <th>Df Model:</th>              <td>     5</td>      <th>                     </th>     <td> </td>    \n",
       "</tr>\n",
       "<tr>\n",
       "  <th>Covariance Type:</th>      <td>nonrobust</td>    <th>                     </th>     <td> </td>    \n",
       "</tr>\n",
       "</table>\n",
       "<table class=\"simpletable\">\n",
       "<tr>\n",
       "    <td></td>       <th>coef</th>     <th>std err</th>      <th>t</th>      <th>P>|t|</th>  <th>[0.025</th>    <th>0.975]</th>  \n",
       "</tr>\n",
       "<tr>\n",
       "  <th>const</th> <td> -3.66e+05</td> <td> 2.66e+04</td> <td>  -13.771</td> <td> 0.000</td> <td>-4.18e+05</td> <td>-3.14e+05</td>\n",
       "</tr>\n",
       "<tr>\n",
       "  <th>건수</th>    <td>-1.444e+04</td> <td> 1612.856</td> <td>   -8.953</td> <td> 0.000</td> <td>-1.76e+04</td> <td>-1.13e+04</td>\n",
       "</tr>\n",
       "<tr>\n",
       "  <th>고객수</th>   <td> 6.283e+04</td> <td> 1872.847</td> <td>   33.546</td> <td> 0.000</td> <td> 5.92e+04</td> <td> 6.65e+04</td>\n",
       "</tr>\n",
       "<tr>\n",
       "  <th>생애주기</th>  <td> 1460.6683</td> <td> 1.68e+04</td> <td>    0.087</td> <td> 0.931</td> <td>-3.14e+04</td> <td> 3.44e+04</td>\n",
       "</tr>\n",
       "<tr>\n",
       "  <th>성별</th>    <td> 4.134e+04</td> <td> 9579.808</td> <td>    4.315</td> <td> 0.000</td> <td> 2.26e+04</td> <td> 6.01e+04</td>\n",
       "</tr>\n",
       "<tr>\n",
       "  <th>연령대</th>   <td> 4307.0315</td> <td> 1656.674</td> <td>    2.600</td> <td> 0.009</td> <td> 1059.106</td> <td> 7554.957</td>\n",
       "</tr>\n",
       "</table>\n",
       "<table class=\"simpletable\">\n",
       "<tr>\n",
       "  <th>Omnibus:</th>       <td>5591.763</td> <th>  Durbin-Watson:     </th>  <td>   2.031</td>  \n",
       "</tr>\n",
       "<tr>\n",
       "  <th>Prob(Omnibus):</th>  <td> 0.000</td>  <th>  Jarque-Bera (JB):  </th> <td>3725119.056</td>\n",
       "</tr>\n",
       "<tr>\n",
       "  <th>Skew:</th>           <td> 6.524</td>  <th>  Prob(JB):          </th>  <td>    0.00</td>  \n",
       "</tr>\n",
       "<tr>\n",
       "  <th>Kurtosis:</th>       <td>145.749</td> <th>  Cond. No.          </th>  <td>    266.</td>  \n",
       "</tr>\n",
       "</table><br/><br/>Notes:<br/>[1] Standard Errors assume that the covariance matrix of the errors is correctly specified."
      ],
      "text/plain": [
       "<class 'statsmodels.iolib.summary.Summary'>\n",
       "\"\"\"\n",
       "                            OLS Regression Results                            \n",
       "==============================================================================\n",
       "Dep. Variable:                     금액   R-squared:                       0.810\n",
       "Model:                            OLS   Adj. R-squared:                  0.809\n",
       "Method:                 Least Squares   F-statistic:                     3695.\n",
       "Date:                Mon, 18 Jan 2021   Prob (F-statistic):               0.00\n",
       "Time:                        17:43:41   Log-Likelihood:                -61196.\n",
       "No. Observations:                4351   AIC:                         1.224e+05\n",
       "Df Residuals:                    4345   BIC:                         1.224e+05\n",
       "Df Model:                           5                                         \n",
       "Covariance Type:            nonrobust                                         \n",
       "==============================================================================\n",
       "                 coef    std err          t      P>|t|      [0.025      0.975]\n",
       "------------------------------------------------------------------------------\n",
       "const       -3.66e+05   2.66e+04    -13.771      0.000   -4.18e+05   -3.14e+05\n",
       "건수         -1.444e+04   1612.856     -8.953      0.000   -1.76e+04   -1.13e+04\n",
       "고객수         6.283e+04   1872.847     33.546      0.000    5.92e+04    6.65e+04\n",
       "생애주기        1460.6683   1.68e+04      0.087      0.931   -3.14e+04    3.44e+04\n",
       "성별          4.134e+04   9579.808      4.315      0.000    2.26e+04    6.01e+04\n",
       "연령대         4307.0315   1656.674      2.600      0.009    1059.106    7554.957\n",
       "==============================================================================\n",
       "Omnibus:                     5591.763   Durbin-Watson:                   2.031\n",
       "Prob(Omnibus):                  0.000   Jarque-Bera (JB):          3725119.056\n",
       "Skew:                           6.524   Prob(JB):                         0.00\n",
       "Kurtosis:                     145.749   Cond. No.                         266.\n",
       "==============================================================================\n",
       "\n",
       "Notes:\n",
       "[1] Standard Errors assume that the covariance matrix of the errors is correctly specified.\n",
       "\"\"\""
      ]
     },
     "execution_count": 133,
     "metadata": {},
     "output_type": "execute_result"
    }
   ],
   "source": [
    "# 모든 변수를 사용한 전시 및 행사 대행업의 회귀모델 적합\n",
    "\n",
    "full_model_display = sm.OLS(train_y_display, train_x_display)\n",
    "fitted_full_model_display = full_model_display.fit()\n",
    "\n",
    "fitted_full_model_display.summary()"
   ]
  },
  {
   "cell_type": "code",
   "execution_count": 134,
   "metadata": {},
   "outputs": [
    {
     "data": {
      "text/html": [
       "<div>\n",
       "<style scoped>\n",
       "    .dataframe tbody tr th:only-of-type {\n",
       "        vertical-align: middle;\n",
       "    }\n",
       "\n",
       "    .dataframe tbody tr th {\n",
       "        vertical-align: top;\n",
       "    }\n",
       "\n",
       "    .dataframe thead th {\n",
       "        text-align: right;\n",
       "    }\n",
       "</style>\n",
       "<table border=\"1\" class=\"dataframe\">\n",
       "  <thead>\n",
       "    <tr style=\"text-align: right;\">\n",
       "      <th></th>\n",
       "      <th>VIF Factor</th>\n",
       "      <th>features</th>\n",
       "    </tr>\n",
       "  </thead>\n",
       "  <tbody>\n",
       "    <tr>\n",
       "      <th>0</th>\n",
       "      <td>33.104128</td>\n",
       "      <td>const</td>\n",
       "    </tr>\n",
       "    <tr>\n",
       "      <th>1</th>\n",
       "      <td>17.445517</td>\n",
       "      <td>연령대</td>\n",
       "    </tr>\n",
       "    <tr>\n",
       "      <th>2</th>\n",
       "      <td>1.026553</td>\n",
       "      <td>성별</td>\n",
       "    </tr>\n",
       "    <tr>\n",
       "      <th>3</th>\n",
       "      <td>17.360261</td>\n",
       "      <td>생애주기</td>\n",
       "    </tr>\n",
       "    <tr>\n",
       "      <th>4</th>\n",
       "      <td>33.780653</td>\n",
       "      <td>고객수</td>\n",
       "    </tr>\n",
       "    <tr>\n",
       "      <th>5</th>\n",
       "      <td>5.269301</td>\n",
       "      <td>금액</td>\n",
       "    </tr>\n",
       "    <tr>\n",
       "      <th>6</th>\n",
       "      <td>27.221018</td>\n",
       "      <td>건수</td>\n",
       "    </tr>\n",
       "  </tbody>\n",
       "</table>\n",
       "</div>"
      ],
      "text/plain": [
       "   VIF Factor features\n",
       "0   33.104128    const\n",
       "1   17.445517      연령대\n",
       "2    1.026553       성별\n",
       "3   17.360261     생애주기\n",
       "4   33.780653      고객수\n",
       "5    5.269301       금액\n",
       "6   27.221018       건수"
      ]
     },
     "execution_count": 134,
     "metadata": {},
     "output_type": "execute_result"
    }
   ],
   "source": [
    "# 전시 및 행사 대행업 VIF로 다중공선성 확인\n",
    "\n",
    "vif_display=pd.DataFrame()\n",
    "vif_display['VIF Factor'] = [variance_inflation_factor(data_display.values, i) for i in range(data_display.shape[1])]\n",
    "vif_display['features'] = data_display.columns\n",
    "vif_display"
   ]
  },
  {
   "cell_type": "markdown",
   "metadata": {},
   "source": [
    "***\n",
    "## 1) 전체 경우의 수"
   ]
  },
  {
   "cell_type": "code",
   "execution_count": 135,
   "metadata": {},
   "outputs": [
    {
     "name": "stdout",
     "output_type": "stream",
     "text": [
      "전시 및 행사 대행업: {'model': <statsmodels.regression.linear_model.RegressionResultsWrapper object at 0x000002029B9E3708>, 'AIC': 122403.06643398764}\n"
     ]
    }
   ],
   "source": [
    "print(\"전시 및 행사 대행업:\", processSubset(X = train_x_display, y=train_y_display, feature_set = feature_columns_display))"
   ]
  },
  {
   "cell_type": "code",
   "execution_count": 136,
   "metadata": {},
   "outputs": [
    {
     "name": "stdout",
     "output_type": "stream",
     "text": [
      "Prcessed 5 models on 1 predictors in 0.017999887466430664 seconds\n",
      "Prcessed 10 models on 2 predictors in 0.029000282287597656 seconds\n",
      "Prcessed 10 models on 3 predictors in 0.03100419044494629 seconds\n",
      "Prcessed 5 models on 4 predictors in 0.01900029182434082 seconds\n",
      "Prcessed 1 models on 5 predictors in 0.005999565124511719 seconds\n",
      "전시 및 행사 대행업 Total elapsed time: 0.12699651718139648 seconds\n"
     ]
    }
   ],
   "source": [
    "# 전시 및 행사 대행업 변수 선택에 따른 학습시간과 저장\n",
    "models_display = pd.DataFrame(columns=['AIC', 'model'])\n",
    "tic = time.time()\n",
    "for i in range(1,6):\n",
    "    models_display.loc[i] = getBest(X=train_x_display, y=train_y_display, k=i)\n",
    "toc = time.time()\n",
    "print('전시 및 행사 대행업 Total elapsed time:', (toc-tic), 'seconds')"
   ]
  },
  {
   "cell_type": "code",
   "execution_count": 137,
   "metadata": {},
   "outputs": [
    {
     "data": {
      "text/html": [
       "<div>\n",
       "<style scoped>\n",
       "    .dataframe tbody tr th:only-of-type {\n",
       "        vertical-align: middle;\n",
       "    }\n",
       "\n",
       "    .dataframe tbody tr th {\n",
       "        vertical-align: top;\n",
       "    }\n",
       "\n",
       "    .dataframe thead th {\n",
       "        text-align: right;\n",
       "    }\n",
       "</style>\n",
       "<table border=\"1\" class=\"dataframe\">\n",
       "  <thead>\n",
       "    <tr style=\"text-align: right;\">\n",
       "      <th></th>\n",
       "      <th>AIC</th>\n",
       "      <th>model</th>\n",
       "    </tr>\n",
       "  </thead>\n",
       "  <tbody>\n",
       "    <tr>\n",
       "      <th>1</th>\n",
       "      <td>122633.702214</td>\n",
       "      <td>&lt;statsmodels.regression.linear_model.Regressio...</td>\n",
       "    </tr>\n",
       "    <tr>\n",
       "      <th>2</th>\n",
       "      <td>122502.133164</td>\n",
       "      <td>&lt;statsmodels.regression.linear_model.Regressio...</td>\n",
       "    </tr>\n",
       "    <tr>\n",
       "      <th>3</th>\n",
       "      <td>122417.714065</td>\n",
       "      <td>&lt;statsmodels.regression.linear_model.Regressio...</td>\n",
       "    </tr>\n",
       "    <tr>\n",
       "      <th>4</th>\n",
       "      <td>122401.074017</td>\n",
       "      <td>&lt;statsmodels.regression.linear_model.Regressio...</td>\n",
       "    </tr>\n",
       "    <tr>\n",
       "      <th>5</th>\n",
       "      <td>122403.066434</td>\n",
       "      <td>&lt;statsmodels.regression.linear_model.Regressio...</td>\n",
       "    </tr>\n",
       "  </tbody>\n",
       "</table>\n",
       "</div>"
      ],
      "text/plain": [
       "             AIC                                              model\n",
       "1  122633.702214  <statsmodels.regression.linear_model.Regressio...\n",
       "2  122502.133164  <statsmodels.regression.linear_model.Regressio...\n",
       "3  122417.714065  <statsmodels.regression.linear_model.Regressio...\n",
       "4  122401.074017  <statsmodels.regression.linear_model.Regressio...\n",
       "5  122403.066434  <statsmodels.regression.linear_model.Regressio..."
      ]
     },
     "execution_count": 137,
     "metadata": {},
     "output_type": "execute_result"
    }
   ],
   "source": [
    "# 선택된 변수의 개수(1,2,3,4,5) 별 가장 낮음 AIC를 보유한 모델들이 들어있는 data frame\n",
    "models_display"
   ]
  },
  {
   "cell_type": "code",
   "execution_count": 139,
   "metadata": {},
   "outputs": [
    {
     "data": {
      "text/html": [
       "<table class=\"simpletable\">\n",
       "<caption>OLS Regression Results</caption>\n",
       "<tr>\n",
       "  <th>Dep. Variable:</th>           <td>금액</td>        <th>  R-squared:         </th> <td>   0.810</td> \n",
       "</tr>\n",
       "<tr>\n",
       "  <th>Model:</th>                   <td>OLS</td>       <th>  Adj. R-squared:    </th> <td>   0.809</td> \n",
       "</tr>\n",
       "<tr>\n",
       "  <th>Method:</th>             <td>Least Squares</td>  <th>  F-statistic:       </th> <td>   4620.</td> \n",
       "</tr>\n",
       "<tr>\n",
       "  <th>Date:</th>             <td>Mon, 18 Jan 2021</td> <th>  Prob (F-statistic):</th>  <td>  0.00</td>  \n",
       "</tr>\n",
       "<tr>\n",
       "  <th>Time:</th>                 <td>17:44:08</td>     <th>  Log-Likelihood:    </th> <td> -61196.</td> \n",
       "</tr>\n",
       "<tr>\n",
       "  <th>No. Observations:</th>      <td>  4351</td>      <th>  AIC:               </th> <td>1.224e+05</td>\n",
       "</tr>\n",
       "<tr>\n",
       "  <th>Df Residuals:</th>          <td>  4346</td>      <th>  BIC:               </th> <td>1.224e+05</td>\n",
       "</tr>\n",
       "<tr>\n",
       "  <th>Df Model:</th>              <td>     4</td>      <th>                     </th>     <td> </td>    \n",
       "</tr>\n",
       "<tr>\n",
       "  <th>Covariance Type:</th>      <td>nonrobust</td>    <th>                     </th>     <td> </td>    \n",
       "</tr>\n",
       "</table>\n",
       "<table class=\"simpletable\">\n",
       "<tr>\n",
       "    <td></td>       <th>coef</th>     <th>std err</th>      <th>t</th>      <th>P>|t|</th>  <th>[0.025</th>    <th>0.975]</th>  \n",
       "</tr>\n",
       "<tr>\n",
       "  <th>건수</th>    <td>-1.444e+04</td> <td> 1612.585</td> <td>   -8.953</td> <td> 0.000</td> <td>-1.76e+04</td> <td>-1.13e+04</td>\n",
       "</tr>\n",
       "<tr>\n",
       "  <th>고객수</th>   <td> 6.282e+04</td> <td> 1872.389</td> <td>   33.553</td> <td> 0.000</td> <td> 5.92e+04</td> <td> 6.65e+04</td>\n",
       "</tr>\n",
       "<tr>\n",
       "  <th>성별</th>    <td> 4.136e+04</td> <td> 9575.235</td> <td>    4.320</td> <td> 0.000</td> <td> 2.26e+04</td> <td> 6.01e+04</td>\n",
       "</tr>\n",
       "<tr>\n",
       "  <th>연령대</th>   <td> 4447.0539</td> <td>  394.067</td> <td>   11.285</td> <td> 0.000</td> <td> 3674.481</td> <td> 5219.627</td>\n",
       "</tr>\n",
       "<tr>\n",
       "  <th>const</th> <td>-3.673e+05</td> <td> 2.21e+04</td> <td>  -16.586</td> <td> 0.000</td> <td>-4.11e+05</td> <td>-3.24e+05</td>\n",
       "</tr>\n",
       "</table>\n",
       "<table class=\"simpletable\">\n",
       "<tr>\n",
       "  <th>Omnibus:</th>       <td>5591.108</td> <th>  Durbin-Watson:     </th>  <td>   2.030</td>  \n",
       "</tr>\n",
       "<tr>\n",
       "  <th>Prob(Omnibus):</th>  <td> 0.000</td>  <th>  Jarque-Bera (JB):  </th> <td>3722033.531</td>\n",
       "</tr>\n",
       "<tr>\n",
       "  <th>Skew:</th>           <td> 6.523</td>  <th>  Prob(JB):          </th>  <td>    0.00</td>  \n",
       "</tr>\n",
       "<tr>\n",
       "  <th>Kurtosis:</th>       <td>145.690</td> <th>  Cond. No.          </th>  <td>    212.</td>  \n",
       "</tr>\n",
       "</table><br/><br/>Notes:<br/>[1] Standard Errors assume that the covariance matrix of the errors is correctly specified."
      ],
      "text/plain": [
       "<class 'statsmodels.iolib.summary.Summary'>\n",
       "\"\"\"\n",
       "                            OLS Regression Results                            \n",
       "==============================================================================\n",
       "Dep. Variable:                     금액   R-squared:                       0.810\n",
       "Model:                            OLS   Adj. R-squared:                  0.809\n",
       "Method:                 Least Squares   F-statistic:                     4620.\n",
       "Date:                Mon, 18 Jan 2021   Prob (F-statistic):               0.00\n",
       "Time:                        17:44:08   Log-Likelihood:                -61196.\n",
       "No. Observations:                4351   AIC:                         1.224e+05\n",
       "Df Residuals:                    4346   BIC:                         1.224e+05\n",
       "Df Model:                           4                                         \n",
       "Covariance Type:            nonrobust                                         \n",
       "==============================================================================\n",
       "                 coef    std err          t      P>|t|      [0.025      0.975]\n",
       "------------------------------------------------------------------------------\n",
       "건수         -1.444e+04   1612.585     -8.953      0.000   -1.76e+04   -1.13e+04\n",
       "고객수         6.282e+04   1872.389     33.553      0.000    5.92e+04    6.65e+04\n",
       "성별          4.136e+04   9575.235      4.320      0.000    2.26e+04    6.01e+04\n",
       "연령대         4447.0539    394.067     11.285      0.000    3674.481    5219.627\n",
       "const      -3.673e+05   2.21e+04    -16.586      0.000   -4.11e+05   -3.24e+05\n",
       "==============================================================================\n",
       "Omnibus:                     5591.108   Durbin-Watson:                   2.030\n",
       "Prob(Omnibus):                  0.000   Jarque-Bera (JB):          3722033.531\n",
       "Skew:                           6.523   Prob(JB):                         0.00\n",
       "Kurtosis:                     145.690   Cond. No.                         212.\n",
       "==============================================================================\n",
       "\n",
       "Notes:\n",
       "[1] Standard Errors assume that the covariance matrix of the errors is correctly specified.\n",
       "\"\"\""
      ]
     },
     "execution_count": 139,
     "metadata": {},
     "output_type": "execute_result"
    }
   ],
   "source": [
    "# 가장 AIC가 낮은 4번째 모델의 OLS 결과 출력\n",
    "models_display.loc[4, 'model'].summary()"
   ]
  },
  {
   "cell_type": "code",
   "execution_count": 140,
   "metadata": {},
   "outputs": [
    {
     "name": "stdout",
     "output_type": "stream",
     "text": [
      "full model Adj.Rsquared: 0.80939\n",
      "full model AIC: 122403.06643\n",
      "full model MSE: 506314483303.99091\n",
      "selected model Adj.Rsquared: 0.80943\n",
      "selected model AIC: 122401.07402\n",
      "selected model MSE: 506314483303.99091\n"
     ]
    }
   ],
   "source": [
    "# 모든 변수를 모델링 한것과 비교\n",
    "print(\"full model Adj.Rsquared:\",\"{:.5f}\".format(fitted_full_model_display.rsquared_adj))\n",
    "print(\"full model AIC:\",\"{:.5f}\".format(fitted_full_model_display.aic))\n",
    "print(\"full model MSE:\",\"{:.5f}\".format(fitted_full_model_display.mse_total))\n",
    "\n",
    "print(\"selected model Adj.Rsquared:\",\"{:.5f}\".format(models_display.loc[4,\"model\"].rsquared_adj))\n",
    "print(\"selected model AIC:\",\"{:.5f}\".format(models_display.loc[4,\"model\"].aic))\n",
    "print(\"selected model MSE:\",\"{:.5f}\".format(models_display.loc[4,\"model\"].mse_total))"
   ]
  },
  {
   "cell_type": "markdown",
   "metadata": {},
   "source": [
    "- ① 모든 변수를 선택한 model\n",
    "- 건수, 고객수, 생애주기, 성별, 연령대\n",
    "- '생애주기' 변수가 유의하지 않음\n",
    "\n",
    "\n",
    "- ② 변수 4가지 선택한 model\n",
    "- 건수, 고객수, 성별, 연령대\n",
    "- 모든 변수가 유의함\n",
    "\n",
    "\n",
    "- adj. r-squared : ② model이 더 높다\n",
    "- aic : ②번 model이 더 낮다\n",
    "- mse : 같다\n",
    "\n",
    "### 설명력이 높고 aic가 더 낮으며 모든 변수가 유의한 ②번 model이 더 좋다"
   ]
  },
  {
   "cell_type": "markdown",
   "metadata": {},
   "source": [
    "***\n",
    "## 2) 전진 선택법"
   ]
  },
  {
   "cell_type": "code",
   "execution_count": 141,
   "metadata": {},
   "outputs": [
    {
     "name": "stdout",
     "output_type": "stream",
     "text": [
      "Processed  5 models on 1 predictors in 0.013030529022216797\n",
      "Selected predictors: ['고객수', 'const'] AIC:  <statsmodels.regression.linear_model.RegressionResultsWrapper object at 0x000002029C55E648>\n",
      "Processed  4 models on 2 predictors in 0.008000612258911133\n",
      "Selected predictors: ['고객수', '연령대', 'const'] AIC:  <statsmodels.regression.linear_model.RegressionResultsWrapper object at 0x000002029C5573C8>\n",
      "Processed  3 models on 3 predictors in 0.007999181747436523\n",
      "Selected predictors: ['고객수', '연령대', '건수', 'const'] AIC:  <statsmodels.regression.linear_model.RegressionResultsWrapper object at 0x000002029B825AC8>\n",
      "Processed  2 models on 4 predictors in 0.005001068115234375\n",
      "Selected predictors: ['고객수', '연령대', '건수', '성별', 'const'] AIC:  <statsmodels.regression.linear_model.RegressionResultsWrapper object at 0x00000202A2116488>\n",
      "Processed  1 models on 5 predictors in 0.0030002593994140625\n",
      "Selected predictors: ['고객수', '연령대', '건수', '성별', '생애주기', 'const'] AIC:  <statsmodels.regression.linear_model.RegressionResultsWrapper object at 0x000002029B117148>\n",
      "Total elapsed time: 0.05402827262878418 seconds.\n"
     ]
    }
   ],
   "source": [
    "Forward_best_model = forward_model(X=train_x_display, y=train_y_display)"
   ]
  },
  {
   "cell_type": "code",
   "execution_count": 142,
   "metadata": {},
   "outputs": [
    {
     "name": "stdout",
     "output_type": "stream",
     "text": [
      "['고객수', '연령대', '건수', '성별', 'const']\n",
      "122401.0740166416\n"
     ]
    }
   ],
   "source": [
    "# 전진 선택법 모델 최종 선택된 변수와 AIC\n",
    "print(Forward_best_model.model.exog_names)\n",
    "print(Forward_best_model.aic)"
   ]
  },
  {
   "cell_type": "code",
   "execution_count": 143,
   "metadata": {},
   "outputs": [
    {
     "data": {
      "text/html": [
       "<table class=\"simpletable\">\n",
       "<caption>OLS Regression Results</caption>\n",
       "<tr>\n",
       "  <th>Dep. Variable:</th>           <td>금액</td>        <th>  R-squared:         </th> <td>   0.810</td> \n",
       "</tr>\n",
       "<tr>\n",
       "  <th>Model:</th>                   <td>OLS</td>       <th>  Adj. R-squared:    </th> <td>   0.809</td> \n",
       "</tr>\n",
       "<tr>\n",
       "  <th>Method:</th>             <td>Least Squares</td>  <th>  F-statistic:       </th> <td>   4620.</td> \n",
       "</tr>\n",
       "<tr>\n",
       "  <th>Date:</th>             <td>Mon, 18 Jan 2021</td> <th>  Prob (F-statistic):</th>  <td>  0.00</td>  \n",
       "</tr>\n",
       "<tr>\n",
       "  <th>Time:</th>                 <td>17:44:36</td>     <th>  Log-Likelihood:    </th> <td> -61196.</td> \n",
       "</tr>\n",
       "<tr>\n",
       "  <th>No. Observations:</th>      <td>  4351</td>      <th>  AIC:               </th> <td>1.224e+05</td>\n",
       "</tr>\n",
       "<tr>\n",
       "  <th>Df Residuals:</th>          <td>  4346</td>      <th>  BIC:               </th> <td>1.224e+05</td>\n",
       "</tr>\n",
       "<tr>\n",
       "  <th>Df Model:</th>              <td>     4</td>      <th>                     </th>     <td> </td>    \n",
       "</tr>\n",
       "<tr>\n",
       "  <th>Covariance Type:</th>      <td>nonrobust</td>    <th>                     </th>     <td> </td>    \n",
       "</tr>\n",
       "</table>\n",
       "<table class=\"simpletable\">\n",
       "<tr>\n",
       "    <td></td>       <th>coef</th>     <th>std err</th>      <th>t</th>      <th>P>|t|</th>  <th>[0.025</th>    <th>0.975]</th>  \n",
       "</tr>\n",
       "<tr>\n",
       "  <th>고객수</th>   <td> 6.282e+04</td> <td> 1872.389</td> <td>   33.553</td> <td> 0.000</td> <td> 5.92e+04</td> <td> 6.65e+04</td>\n",
       "</tr>\n",
       "<tr>\n",
       "  <th>연령대</th>   <td> 4447.0539</td> <td>  394.067</td> <td>   11.285</td> <td> 0.000</td> <td> 3674.481</td> <td> 5219.627</td>\n",
       "</tr>\n",
       "<tr>\n",
       "  <th>건수</th>    <td>-1.444e+04</td> <td> 1612.585</td> <td>   -8.953</td> <td> 0.000</td> <td>-1.76e+04</td> <td>-1.13e+04</td>\n",
       "</tr>\n",
       "<tr>\n",
       "  <th>성별</th>    <td> 4.136e+04</td> <td> 9575.235</td> <td>    4.320</td> <td> 0.000</td> <td> 2.26e+04</td> <td> 6.01e+04</td>\n",
       "</tr>\n",
       "<tr>\n",
       "  <th>const</th> <td>-3.673e+05</td> <td> 2.21e+04</td> <td>  -16.586</td> <td> 0.000</td> <td>-4.11e+05</td> <td>-3.24e+05</td>\n",
       "</tr>\n",
       "</table>\n",
       "<table class=\"simpletable\">\n",
       "<tr>\n",
       "  <th>Omnibus:</th>       <td>5591.108</td> <th>  Durbin-Watson:     </th>  <td>   2.030</td>  \n",
       "</tr>\n",
       "<tr>\n",
       "  <th>Prob(Omnibus):</th>  <td> 0.000</td>  <th>  Jarque-Bera (JB):  </th> <td>3722033.531</td>\n",
       "</tr>\n",
       "<tr>\n",
       "  <th>Skew:</th>           <td> 6.523</td>  <th>  Prob(JB):          </th>  <td>    0.00</td>  \n",
       "</tr>\n",
       "<tr>\n",
       "  <th>Kurtosis:</th>       <td>145.690</td> <th>  Cond. No.          </th>  <td>    212.</td>  \n",
       "</tr>\n",
       "</table><br/><br/>Notes:<br/>[1] Standard Errors assume that the covariance matrix of the errors is correctly specified."
      ],
      "text/plain": [
       "<class 'statsmodels.iolib.summary.Summary'>\n",
       "\"\"\"\n",
       "                            OLS Regression Results                            \n",
       "==============================================================================\n",
       "Dep. Variable:                     금액   R-squared:                       0.810\n",
       "Model:                            OLS   Adj. R-squared:                  0.809\n",
       "Method:                 Least Squares   F-statistic:                     4620.\n",
       "Date:                Mon, 18 Jan 2021   Prob (F-statistic):               0.00\n",
       "Time:                        17:44:36   Log-Likelihood:                -61196.\n",
       "No. Observations:                4351   AIC:                         1.224e+05\n",
       "Df Residuals:                    4346   BIC:                         1.224e+05\n",
       "Df Model:                           4                                         \n",
       "Covariance Type:            nonrobust                                         \n",
       "==============================================================================\n",
       "                 coef    std err          t      P>|t|      [0.025      0.975]\n",
       "------------------------------------------------------------------------------\n",
       "고객수         6.282e+04   1872.389     33.553      0.000    5.92e+04    6.65e+04\n",
       "연령대         4447.0539    394.067     11.285      0.000    3674.481    5219.627\n",
       "건수         -1.444e+04   1612.585     -8.953      0.000   -1.76e+04   -1.13e+04\n",
       "성별          4.136e+04   9575.235      4.320      0.000    2.26e+04    6.01e+04\n",
       "const      -3.673e+05   2.21e+04    -16.586      0.000   -4.11e+05   -3.24e+05\n",
       "==============================================================================\n",
       "Omnibus:                     5591.108   Durbin-Watson:                   2.030\n",
       "Prob(Omnibus):                  0.000   Jarque-Bera (JB):          3722033.531\n",
       "Skew:                           6.523   Prob(JB):                         0.00\n",
       "Kurtosis:                     145.690   Cond. No.                         212.\n",
       "==============================================================================\n",
       "\n",
       "Notes:\n",
       "[1] Standard Errors assume that the covariance matrix of the errors is correctly specified.\n",
       "\"\"\""
      ]
     },
     "execution_count": 143,
     "metadata": {},
     "output_type": "execute_result"
    }
   ],
   "source": [
    "Forward_best_model.summary()"
   ]
  },
  {
   "cell_type": "markdown",
   "metadata": {},
   "source": [
    "***\n",
    "## 3) 후진 소거법"
   ]
  },
  {
   "cell_type": "code",
   "execution_count": 144,
   "metadata": {},
   "outputs": [
    {
     "name": "stdout",
     "output_type": "stream",
     "text": [
      "Processed  5 models on 4 predictors in 0.012619256973266602\n",
      "Selected predictors: ['건수', '고객수', '성별', '연령대', 'const']  AIC: <statsmodels.regression.linear_model.RegressionResultsWrapper object at 0x000002029C52A5C8>\n",
      "Processed  4 models on 3 predictors in 0.007998943328857422\n",
      "Selected predictors: ['건수', '고객수', '연령대', 'const']  AIC: <statsmodels.regression.linear_model.RegressionResultsWrapper object at 0x000002029B80DA48>\n",
      "Total elapsed time: 0.02755260467529297 seconds.\n"
     ]
    }
   ],
   "source": [
    "Backward_best_model = backward_model(X=train_x_display, y= train_y_display)"
   ]
  },
  {
   "cell_type": "code",
   "execution_count": 145,
   "metadata": {},
   "outputs": [
    {
     "name": "stdout",
     "output_type": "stream",
     "text": [
      "['건수', '고객수', '성별', '연령대', 'const']\n",
      "122401.0740166416\n"
     ]
    }
   ],
   "source": [
    "# 후진 소거법 모델 최종 선택된 변수와 AIC\n",
    "print(Backward_best_model.model.exog_names)\n",
    "print(Backward_best_model.aic)"
   ]
  },
  {
   "cell_type": "code",
   "execution_count": 146,
   "metadata": {},
   "outputs": [
    {
     "data": {
      "text/html": [
       "<table class=\"simpletable\">\n",
       "<caption>OLS Regression Results</caption>\n",
       "<tr>\n",
       "  <th>Dep. Variable:</th>           <td>금액</td>        <th>  R-squared:         </th> <td>   0.810</td> \n",
       "</tr>\n",
       "<tr>\n",
       "  <th>Model:</th>                   <td>OLS</td>       <th>  Adj. R-squared:    </th> <td>   0.809</td> \n",
       "</tr>\n",
       "<tr>\n",
       "  <th>Method:</th>             <td>Least Squares</td>  <th>  F-statistic:       </th> <td>   4620.</td> \n",
       "</tr>\n",
       "<tr>\n",
       "  <th>Date:</th>             <td>Mon, 18 Jan 2021</td> <th>  Prob (F-statistic):</th>  <td>  0.00</td>  \n",
       "</tr>\n",
       "<tr>\n",
       "  <th>Time:</th>                 <td>17:44:40</td>     <th>  Log-Likelihood:    </th> <td> -61196.</td> \n",
       "</tr>\n",
       "<tr>\n",
       "  <th>No. Observations:</th>      <td>  4351</td>      <th>  AIC:               </th> <td>1.224e+05</td>\n",
       "</tr>\n",
       "<tr>\n",
       "  <th>Df Residuals:</th>          <td>  4346</td>      <th>  BIC:               </th> <td>1.224e+05</td>\n",
       "</tr>\n",
       "<tr>\n",
       "  <th>Df Model:</th>              <td>     4</td>      <th>                     </th>     <td> </td>    \n",
       "</tr>\n",
       "<tr>\n",
       "  <th>Covariance Type:</th>      <td>nonrobust</td>    <th>                     </th>     <td> </td>    \n",
       "</tr>\n",
       "</table>\n",
       "<table class=\"simpletable\">\n",
       "<tr>\n",
       "    <td></td>       <th>coef</th>     <th>std err</th>      <th>t</th>      <th>P>|t|</th>  <th>[0.025</th>    <th>0.975]</th>  \n",
       "</tr>\n",
       "<tr>\n",
       "  <th>건수</th>    <td>-1.444e+04</td> <td> 1612.585</td> <td>   -8.953</td> <td> 0.000</td> <td>-1.76e+04</td> <td>-1.13e+04</td>\n",
       "</tr>\n",
       "<tr>\n",
       "  <th>고객수</th>   <td> 6.282e+04</td> <td> 1872.389</td> <td>   33.553</td> <td> 0.000</td> <td> 5.92e+04</td> <td> 6.65e+04</td>\n",
       "</tr>\n",
       "<tr>\n",
       "  <th>성별</th>    <td> 4.136e+04</td> <td> 9575.235</td> <td>    4.320</td> <td> 0.000</td> <td> 2.26e+04</td> <td> 6.01e+04</td>\n",
       "</tr>\n",
       "<tr>\n",
       "  <th>연령대</th>   <td> 4447.0539</td> <td>  394.067</td> <td>   11.285</td> <td> 0.000</td> <td> 3674.481</td> <td> 5219.627</td>\n",
       "</tr>\n",
       "<tr>\n",
       "  <th>const</th> <td>-3.673e+05</td> <td> 2.21e+04</td> <td>  -16.586</td> <td> 0.000</td> <td>-4.11e+05</td> <td>-3.24e+05</td>\n",
       "</tr>\n",
       "</table>\n",
       "<table class=\"simpletable\">\n",
       "<tr>\n",
       "  <th>Omnibus:</th>       <td>5591.108</td> <th>  Durbin-Watson:     </th>  <td>   2.030</td>  \n",
       "</tr>\n",
       "<tr>\n",
       "  <th>Prob(Omnibus):</th>  <td> 0.000</td>  <th>  Jarque-Bera (JB):  </th> <td>3722033.531</td>\n",
       "</tr>\n",
       "<tr>\n",
       "  <th>Skew:</th>           <td> 6.523</td>  <th>  Prob(JB):          </th>  <td>    0.00</td>  \n",
       "</tr>\n",
       "<tr>\n",
       "  <th>Kurtosis:</th>       <td>145.690</td> <th>  Cond. No.          </th>  <td>    212.</td>  \n",
       "</tr>\n",
       "</table><br/><br/>Notes:<br/>[1] Standard Errors assume that the covariance matrix of the errors is correctly specified."
      ],
      "text/plain": [
       "<class 'statsmodels.iolib.summary.Summary'>\n",
       "\"\"\"\n",
       "                            OLS Regression Results                            \n",
       "==============================================================================\n",
       "Dep. Variable:                     금액   R-squared:                       0.810\n",
       "Model:                            OLS   Adj. R-squared:                  0.809\n",
       "Method:                 Least Squares   F-statistic:                     4620.\n",
       "Date:                Mon, 18 Jan 2021   Prob (F-statistic):               0.00\n",
       "Time:                        17:44:40   Log-Likelihood:                -61196.\n",
       "No. Observations:                4351   AIC:                         1.224e+05\n",
       "Df Residuals:                    4346   BIC:                         1.224e+05\n",
       "Df Model:                           4                                         \n",
       "Covariance Type:            nonrobust                                         \n",
       "==============================================================================\n",
       "                 coef    std err          t      P>|t|      [0.025      0.975]\n",
       "------------------------------------------------------------------------------\n",
       "건수         -1.444e+04   1612.585     -8.953      0.000   -1.76e+04   -1.13e+04\n",
       "고객수         6.282e+04   1872.389     33.553      0.000    5.92e+04    6.65e+04\n",
       "성별          4.136e+04   9575.235      4.320      0.000    2.26e+04    6.01e+04\n",
       "연령대         4447.0539    394.067     11.285      0.000    3674.481    5219.627\n",
       "const      -3.673e+05   2.21e+04    -16.586      0.000   -4.11e+05   -3.24e+05\n",
       "==============================================================================\n",
       "Omnibus:                     5591.108   Durbin-Watson:                   2.030\n",
       "Prob(Omnibus):                  0.000   Jarque-Bera (JB):          3722033.531\n",
       "Skew:                           6.523   Prob(JB):                         0.00\n",
       "Kurtosis:                     145.690   Cond. No.                         212.\n",
       "==============================================================================\n",
       "\n",
       "Notes:\n",
       "[1] Standard Errors assume that the covariance matrix of the errors is correctly specified.\n",
       "\"\"\""
      ]
     },
     "execution_count": 146,
     "metadata": {},
     "output_type": "execute_result"
    }
   ],
   "source": [
    "Backward_best_model.summary()"
   ]
  },
  {
   "cell_type": "markdown",
   "metadata": {},
   "source": [
    "***\n",
    "## 4) 단계적 선택법"
   ]
  },
  {
   "cell_type": "code",
   "execution_count": 147,
   "metadata": {},
   "outputs": [
    {
     "name": "stdout",
     "output_type": "stream",
     "text": [
      "Processed  5 models on 1 predictors in 0.009551763534545898\n",
      "Selected predictors: ['고객수', 'const'] AIC:  <statsmodels.regression.linear_model.RegressionResultsWrapper object at 0x00000202A20CC908>\n",
      "forward\n",
      "Processed  1 models on 0 predictors in 0.002997159957885742\n",
      "Selected predictors: ['const']  AIC: <statsmodels.regression.linear_model.RegressionResultsWrapper object at 0x000002029B8D92C8>\n",
      "Processed  4 models on 2 predictors in 0.008002996444702148\n",
      "Selected predictors: ['고객수', '연령대', 'const'] AIC:  <statsmodels.regression.linear_model.RegressionResultsWrapper object at 0x00000202A20D0AC8>\n",
      "forward\n",
      "Processed  2 models on 1 predictors in 0.0049974918365478516\n",
      "Selected predictors: ['고객수', 'const']  AIC: <statsmodels.regression.linear_model.RegressionResultsWrapper object at 0x00000202A20CC608>\n",
      "Processed  3 models on 3 predictors in 0.007000446319580078\n",
      "Selected predictors: ['고객수', '연령대', '건수', 'const'] AIC:  <statsmodels.regression.linear_model.RegressionResultsWrapper object at 0x000002029B7B53C8>\n",
      "forward\n",
      "Processed  3 models on 2 predictors in 0.0060007572174072266\n",
      "Selected predictors: ['고객수', '연령대', 'const']  AIC: <statsmodels.regression.linear_model.RegressionResultsWrapper object at 0x00000202A20D0A08>\n",
      "Processed  2 models on 4 predictors in 0.006047964096069336\n",
      "Selected predictors: ['고객수', '연령대', '건수', '성별', 'const'] AIC:  <statsmodels.regression.linear_model.RegressionResultsWrapper object at 0x00000202A20BD4C8>\n",
      "forward\n",
      "Processed  4 models on 3 predictors in 0.008000612258911133\n",
      "Selected predictors: ['고객수', '연령대', '건수', 'const']  AIC: <statsmodels.regression.linear_model.RegressionResultsWrapper object at 0x00000202A20CC148>\n",
      "Processed  1 models on 5 predictors in 0.003999948501586914\n",
      "Selected predictors: ['고객수', '연령대', '건수', '성별', '생애주기', 'const'] AIC:  <statsmodels.regression.linear_model.RegressionResultsWrapper object at 0x00000202A20BD1C8>\n",
      "forward\n",
      "Processed  5 models on 4 predictors in 0.010997533798217773\n",
      "Selected predictors: ['고객수', '연령대', '건수', '성별', 'const']  AIC: <statsmodels.regression.linear_model.RegressionResultsWrapper object at 0x00000202A20C9F48>\n",
      "backward\n",
      "Total elapsed time: 0.09601950645446777 seconds.\n"
     ]
    }
   ],
   "source": [
    "Stepwise_best_model = Stepwise_model(X=train_x_display, y=train_y_display)"
   ]
  },
  {
   "cell_type": "code",
   "execution_count": 148,
   "metadata": {},
   "outputs": [
    {
     "name": "stdout",
     "output_type": "stream",
     "text": [
      "['고객수', '연령대', '건수', '성별', 'const']\n",
      "122401.0740166416\n"
     ]
    }
   ],
   "source": [
    "# 단계적 선택법 모델 최종 선택된 변수와 AIC\n",
    "print(Stepwise_best_model.model.exog_names)\n",
    "print(Stepwise_best_model.aic)"
   ]
  },
  {
   "cell_type": "code",
   "execution_count": 149,
   "metadata": {},
   "outputs": [
    {
     "data": {
      "text/html": [
       "<table class=\"simpletable\">\n",
       "<caption>OLS Regression Results</caption>\n",
       "<tr>\n",
       "  <th>Dep. Variable:</th>           <td>금액</td>        <th>  R-squared:         </th> <td>   0.810</td> \n",
       "</tr>\n",
       "<tr>\n",
       "  <th>Model:</th>                   <td>OLS</td>       <th>  Adj. R-squared:    </th> <td>   0.809</td> \n",
       "</tr>\n",
       "<tr>\n",
       "  <th>Method:</th>             <td>Least Squares</td>  <th>  F-statistic:       </th> <td>   4620.</td> \n",
       "</tr>\n",
       "<tr>\n",
       "  <th>Date:</th>             <td>Mon, 18 Jan 2021</td> <th>  Prob (F-statistic):</th>  <td>  0.00</td>  \n",
       "</tr>\n",
       "<tr>\n",
       "  <th>Time:</th>                 <td>17:44:44</td>     <th>  Log-Likelihood:    </th> <td> -61196.</td> \n",
       "</tr>\n",
       "<tr>\n",
       "  <th>No. Observations:</th>      <td>  4351</td>      <th>  AIC:               </th> <td>1.224e+05</td>\n",
       "</tr>\n",
       "<tr>\n",
       "  <th>Df Residuals:</th>          <td>  4346</td>      <th>  BIC:               </th> <td>1.224e+05</td>\n",
       "</tr>\n",
       "<tr>\n",
       "  <th>Df Model:</th>              <td>     4</td>      <th>                     </th>     <td> </td>    \n",
       "</tr>\n",
       "<tr>\n",
       "  <th>Covariance Type:</th>      <td>nonrobust</td>    <th>                     </th>     <td> </td>    \n",
       "</tr>\n",
       "</table>\n",
       "<table class=\"simpletable\">\n",
       "<tr>\n",
       "    <td></td>       <th>coef</th>     <th>std err</th>      <th>t</th>      <th>P>|t|</th>  <th>[0.025</th>    <th>0.975]</th>  \n",
       "</tr>\n",
       "<tr>\n",
       "  <th>고객수</th>   <td> 6.282e+04</td> <td> 1872.389</td> <td>   33.553</td> <td> 0.000</td> <td> 5.92e+04</td> <td> 6.65e+04</td>\n",
       "</tr>\n",
       "<tr>\n",
       "  <th>연령대</th>   <td> 4447.0539</td> <td>  394.067</td> <td>   11.285</td> <td> 0.000</td> <td> 3674.481</td> <td> 5219.627</td>\n",
       "</tr>\n",
       "<tr>\n",
       "  <th>건수</th>    <td>-1.444e+04</td> <td> 1612.585</td> <td>   -8.953</td> <td> 0.000</td> <td>-1.76e+04</td> <td>-1.13e+04</td>\n",
       "</tr>\n",
       "<tr>\n",
       "  <th>성별</th>    <td> 4.136e+04</td> <td> 9575.235</td> <td>    4.320</td> <td> 0.000</td> <td> 2.26e+04</td> <td> 6.01e+04</td>\n",
       "</tr>\n",
       "<tr>\n",
       "  <th>const</th> <td>-3.673e+05</td> <td> 2.21e+04</td> <td>  -16.586</td> <td> 0.000</td> <td>-4.11e+05</td> <td>-3.24e+05</td>\n",
       "</tr>\n",
       "</table>\n",
       "<table class=\"simpletable\">\n",
       "<tr>\n",
       "  <th>Omnibus:</th>       <td>5591.108</td> <th>  Durbin-Watson:     </th>  <td>   2.030</td>  \n",
       "</tr>\n",
       "<tr>\n",
       "  <th>Prob(Omnibus):</th>  <td> 0.000</td>  <th>  Jarque-Bera (JB):  </th> <td>3722033.531</td>\n",
       "</tr>\n",
       "<tr>\n",
       "  <th>Skew:</th>           <td> 6.523</td>  <th>  Prob(JB):          </th>  <td>    0.00</td>  \n",
       "</tr>\n",
       "<tr>\n",
       "  <th>Kurtosis:</th>       <td>145.690</td> <th>  Cond. No.          </th>  <td>    212.</td>  \n",
       "</tr>\n",
       "</table><br/><br/>Notes:<br/>[1] Standard Errors assume that the covariance matrix of the errors is correctly specified."
      ],
      "text/plain": [
       "<class 'statsmodels.iolib.summary.Summary'>\n",
       "\"\"\"\n",
       "                            OLS Regression Results                            \n",
       "==============================================================================\n",
       "Dep. Variable:                     금액   R-squared:                       0.810\n",
       "Model:                            OLS   Adj. R-squared:                  0.809\n",
       "Method:                 Least Squares   F-statistic:                     4620.\n",
       "Date:                Mon, 18 Jan 2021   Prob (F-statistic):               0.00\n",
       "Time:                        17:44:44   Log-Likelihood:                -61196.\n",
       "No. Observations:                4351   AIC:                         1.224e+05\n",
       "Df Residuals:                    4346   BIC:                         1.224e+05\n",
       "Df Model:                           4                                         \n",
       "Covariance Type:            nonrobust                                         \n",
       "==============================================================================\n",
       "                 coef    std err          t      P>|t|      [0.025      0.975]\n",
       "------------------------------------------------------------------------------\n",
       "고객수         6.282e+04   1872.389     33.553      0.000    5.92e+04    6.65e+04\n",
       "연령대         4447.0539    394.067     11.285      0.000    3674.481    5219.627\n",
       "건수         -1.444e+04   1612.585     -8.953      0.000   -1.76e+04   -1.13e+04\n",
       "성별          4.136e+04   9575.235      4.320      0.000    2.26e+04    6.01e+04\n",
       "const      -3.673e+05   2.21e+04    -16.586      0.000   -4.11e+05   -3.24e+05\n",
       "==============================================================================\n",
       "Omnibus:                     5591.108   Durbin-Watson:                   2.030\n",
       "Prob(Omnibus):                  0.000   Jarque-Bera (JB):          3722033.531\n",
       "Skew:                           6.523   Prob(JB):                         0.00\n",
       "Kurtosis:                     145.690   Cond. No.                         212.\n",
       "==============================================================================\n",
       "\n",
       "Notes:\n",
       "[1] Standard Errors assume that the covariance matrix of the errors is correctly specified.\n",
       "\"\"\""
      ]
     },
     "execution_count": 149,
     "metadata": {},
     "output_type": "execute_result"
    }
   ],
   "source": [
    "Stepwise_best_model.summary()"
   ]
  },
  {
   "cell_type": "markdown",
   "metadata": {},
   "source": [
    "***"
   ]
  },
  {
   "cell_type": "code",
   "execution_count": 150,
   "metadata": {},
   "outputs": [
    {
     "name": "stdout",
     "output_type": "stream",
     "text": [
      "(5,) (5,) (5,)\n"
     ]
    }
   ],
   "source": [
    "# number of params\n",
    "print(Forward_best_model.params.shape, Backward_best_model.params.shape, Stepwise_best_model.params.shape)"
   ]
  },
  {
   "cell_type": "markdown",
   "metadata": {},
   "source": [
    "- 전진, 후진, 단계적 선택법은 \"건수, 고객수, 성별, 연령대\" 변수를 선택했고\n",
    "- 모든 변수가 유의했다"
   ]
  },
  {
   "cell_type": "code",
   "execution_count": 151,
   "metadata": {},
   "outputs": [],
   "source": [
    "# 모델에 의해 예측된/추정된 값 = test_y\n",
    "pred_y_full = fitted_full_model_display.predict(test_x_display)\n",
    "pred_y_selected = models_display.loc[4,'model'].predict(test_x_display[models_display.loc[4,'model'].model.exog_names])\n",
    "pred_y_forward = Forward_best_model.predict(test_x_display[Forward_best_model.model.exog_names])\n",
    "pred_y_backward = Backward_best_model.predict(test_x_display[Backward_best_model.model.exog_names])\n",
    "pred_y_stepwise = Stepwise_best_model.predict(test_x_display[Stepwise_best_model.model.exog_names])"
   ]
  },
  {
   "cell_type": "code",
   "execution_count": 152,
   "metadata": {
    "scrolled": true
   },
   "outputs": [
    {
     "name": "stdout",
     "output_type": "stream",
     "text": [
      "                      ALL             SELECTED              FORWARD  \\\n",
      "MSE   112662044031.374390  112666745198.901764  112666745198.901611   \n",
      "RMSE        335651.670682        335658.673654        335658.673654   \n",
      "MAE         141901.078084        141899.658943        141899.658943   \n",
      "MAPE            99.088402            99.085947            99.085947   \n",
      "\n",
      "                 BACKWARD             STEPWISE  \n",
      "MSE   112666745198.901764  112666745198.901611  \n",
      "RMSE        335658.673654        335658.673654  \n",
      "MAE         141899.658943        141899.658943  \n",
      "MAPE            99.085947            99.085947  \n"
     ]
    }
   ],
   "source": [
    "# MSE, RMSE, MAE, MAPE 4가지 지표를 통해 예측성능을 확인\n",
    "\n",
    "perf_mat = pd.DataFrame(columns=[\"ALL\",\"SELECTED\", \"FORWARD\", \"BACKWARD\", \"STEPWISE\"],index =['MSE', 'RMSE','MAE', 'MAPE'])\n",
    "# MAPE의 함수\n",
    "def mean_absolute_percentage_error(y_true, y_pred):\n",
    "    y_true, y_pred = np.array(y_true), np.array(y_pred)\n",
    "    return np.mean(np.abs((y_true - y_pred) / y_true)) * 100\n",
    "from sklearn import metrics  # 나머지는 sklearn에서 활용\n",
    "\n",
    "# 성능지표\n",
    "perf_mat.loc['MSE']['ALL'] = metrics.mean_squared_error(test_y_display,pred_y_full)\n",
    "perf_mat.loc['MSE']['SELECTED'] = metrics.mean_squared_error(test_y_display,pred_y_selected)\n",
    "perf_mat.loc['MSE']['FORWARD'] = metrics.mean_squared_error(test_y_display,pred_y_forward)\n",
    "perf_mat.loc['MSE']['BACKWARD'] = metrics.mean_squared_error(test_y_display,pred_y_backward)\n",
    "perf_mat.loc['MSE']['STEPWISE'] = metrics.mean_squared_error(test_y_display,pred_y_stepwise)\n",
    "\n",
    "perf_mat.loc['RMSE']['ALL'] = np.sqrt(metrics.mean_squared_error(test_y_display, pred_y_full))\n",
    "perf_mat.loc['RMSE']['SELECTED'] = np.sqrt(metrics.mean_squared_error(test_y_display, pred_y_selected))\n",
    "perf_mat.loc['RMSE']['FORWARD'] = np.sqrt(metrics.mean_squared_error(test_y_display, pred_y_forward))\n",
    "perf_mat.loc['RMSE']['BACKWARD'] = np.sqrt(metrics.mean_squared_error(test_y_display, pred_y_backward))\n",
    "perf_mat.loc['RMSE']['STEPWISE'] = np.sqrt(metrics.mean_squared_error(test_y_display, pred_y_stepwise))\n",
    "\n",
    "perf_mat.loc['MAE']['ALL'] = metrics.mean_absolute_error(test_y_display, pred_y_full)\n",
    "perf_mat.loc['MAE']['SELECTED'] = metrics.mean_absolute_error(test_y_display, pred_y_selected)\n",
    "perf_mat.loc['MAE']['FORWARD'] = metrics.mean_absolute_error(test_y_display, pred_y_forward)\n",
    "perf_mat.loc['MAE']['BACKWARD'] = metrics.mean_absolute_error(test_y_display, pred_y_backward)\n",
    "perf_mat.loc['MAE']['STEPWISE'] = metrics.mean_absolute_error(test_y_display, pred_y_stepwise)\n",
    "\n",
    "perf_mat.loc['MAPE']['ALL'] = mean_absolute_percentage_error(test_y_display, pred_y_full)\n",
    "perf_mat.loc['MAPE']['SELECTED'] = mean_absolute_percentage_error(test_y_display, pred_y_selected)\n",
    "perf_mat.loc['MAPE']['FORWARD'] = mean_absolute_percentage_error(test_y_display, pred_y_forward)\n",
    "perf_mat.loc['MAPE']['BACKWARD'] = mean_absolute_percentage_error(test_y_display, pred_y_backward)\n",
    "perf_mat.loc['MAPE']['STEPWISE'] = mean_absolute_percentage_error(test_y_display, pred_y_stepwise)\n",
    "\n",
    "print(perf_mat)"
   ]
  },
  {
   "cell_type": "markdown",
   "metadata": {},
   "source": [
    "- ① model : 모든 변수를 선택(ALL)\n",
    "- ② model : 모든 경우의 수(SELECTED), 전진(FORWARD), 후진(BACKWARD), 단계(STEPWISE)\n",
    "    - \"건수, 고객수, 성별, 연령대\" 변수를 선택\n",
    "***\n",
    "- MSE : ①<②\n",
    "- RMSE : ①<②\n",
    "- MAE : ①=②\n",
    "- MAPE : ①=②\n",
    "\n",
    "### ★ ? model이 더 좋음\n",
    "***\n",
    "- 특히 ① model은 생애주기 변수가 유의하지 않다"
   ]
  },
  {
   "cell_type": "markdown",
   "metadata": {},
   "source": [
    "# TOUR"
   ]
  },
  {
   "cell_type": "code",
   "execution_count": 153,
   "metadata": {},
   "outputs": [
    {
     "data": {
      "text/html": [
       "<table class=\"simpletable\">\n",
       "<caption>OLS Regression Results</caption>\n",
       "<tr>\n",
       "  <th>Dep. Variable:</th>           <td>금액</td>        <th>  R-squared:         </th> <td>   0.350</td> \n",
       "</tr>\n",
       "<tr>\n",
       "  <th>Model:</th>                   <td>OLS</td>       <th>  Adj. R-squared:    </th> <td>   0.349</td> \n",
       "</tr>\n",
       "<tr>\n",
       "  <th>Method:</th>             <td>Least Squares</td>  <th>  F-statistic:       </th> <td>   396.2</td> \n",
       "</tr>\n",
       "<tr>\n",
       "  <th>Date:</th>             <td>Mon, 18 Jan 2021</td> <th>  Prob (F-statistic):</th>  <td>  0.00</td>  \n",
       "</tr>\n",
       "<tr>\n",
       "  <th>Time:</th>                 <td>17:44:51</td>     <th>  Log-Likelihood:    </th> <td> -58695.</td> \n",
       "</tr>\n",
       "<tr>\n",
       "  <th>No. Observations:</th>      <td>  3684</td>      <th>  AIC:               </th> <td>1.174e+05</td>\n",
       "</tr>\n",
       "<tr>\n",
       "  <th>Df Residuals:</th>          <td>  3678</td>      <th>  BIC:               </th> <td>1.174e+05</td>\n",
       "</tr>\n",
       "<tr>\n",
       "  <th>Df Model:</th>              <td>     5</td>      <th>                     </th>     <td> </td>    \n",
       "</tr>\n",
       "<tr>\n",
       "  <th>Covariance Type:</th>      <td>nonrobust</td>    <th>                     </th>     <td> </td>    \n",
       "</tr>\n",
       "</table>\n",
       "<table class=\"simpletable\">\n",
       "<tr>\n",
       "    <td></td>       <th>coef</th>     <th>std err</th>      <th>t</th>      <th>P>|t|</th>  <th>[0.025</th>    <th>0.975]</th>  \n",
       "</tr>\n",
       "<tr>\n",
       "  <th>const</th> <td> 2.281e+04</td> <td> 1.73e+05</td> <td>    0.132</td> <td> 0.895</td> <td>-3.15e+05</td> <td> 3.61e+05</td>\n",
       "</tr>\n",
       "<tr>\n",
       "  <th>건수</th>    <td>-8.221e+04</td> <td> 7542.932</td> <td>  -10.900</td> <td> 0.000</td> <td> -9.7e+04</td> <td>-6.74e+04</td>\n",
       "</tr>\n",
       "<tr>\n",
       "  <th>고객수</th>   <td> 2.389e+05</td> <td> 1.16e+04</td> <td>   20.680</td> <td> 0.000</td> <td> 2.16e+05</td> <td> 2.62e+05</td>\n",
       "</tr>\n",
       "<tr>\n",
       "  <th>생애주기</th>  <td>-3.107e+04</td> <td> 9.91e+04</td> <td>   -0.314</td> <td> 0.754</td> <td>-2.25e+05</td> <td> 1.63e+05</td>\n",
       "</tr>\n",
       "<tr>\n",
       "  <th>성별</th>    <td>-1.865e+05</td> <td> 6.76e+04</td> <td>   -2.758</td> <td> 0.006</td> <td>-3.19e+05</td> <td>-5.39e+04</td>\n",
       "</tr>\n",
       "<tr>\n",
       "  <th>연령대</th>   <td> 2258.2664</td> <td> 9319.562</td> <td>    0.242</td> <td> 0.809</td> <td> -1.6e+04</td> <td> 2.05e+04</td>\n",
       "</tr>\n",
       "</table>\n",
       "<table class=\"simpletable\">\n",
       "<tr>\n",
       "  <th>Omnibus:</th>       <td>4784.523</td> <th>  Durbin-Watson:     </th>  <td>   2.002</td>  \n",
       "</tr>\n",
       "<tr>\n",
       "  <th>Prob(Omnibus):</th>  <td> 0.000</td>  <th>  Jarque-Bera (JB):  </th> <td>1179538.533</td>\n",
       "</tr>\n",
       "<tr>\n",
       "  <th>Skew:</th>           <td> 7.074</td>  <th>  Prob(JB):          </th>  <td>    0.00</td>  \n",
       "</tr>\n",
       "<tr>\n",
       "  <th>Kurtosis:</th>       <td>89.511</td>  <th>  Cond. No.          </th>  <td>    277.</td>  \n",
       "</tr>\n",
       "</table><br/><br/>Notes:<br/>[1] Standard Errors assume that the covariance matrix of the errors is correctly specified."
      ],
      "text/plain": [
       "<class 'statsmodels.iolib.summary.Summary'>\n",
       "\"\"\"\n",
       "                            OLS Regression Results                            \n",
       "==============================================================================\n",
       "Dep. Variable:                     금액   R-squared:                       0.350\n",
       "Model:                            OLS   Adj. R-squared:                  0.349\n",
       "Method:                 Least Squares   F-statistic:                     396.2\n",
       "Date:                Mon, 18 Jan 2021   Prob (F-statistic):               0.00\n",
       "Time:                        17:44:51   Log-Likelihood:                -58695.\n",
       "No. Observations:                3684   AIC:                         1.174e+05\n",
       "Df Residuals:                    3678   BIC:                         1.174e+05\n",
       "Df Model:                           5                                         \n",
       "Covariance Type:            nonrobust                                         \n",
       "==============================================================================\n",
       "                 coef    std err          t      P>|t|      [0.025      0.975]\n",
       "------------------------------------------------------------------------------\n",
       "const       2.281e+04   1.73e+05      0.132      0.895   -3.15e+05    3.61e+05\n",
       "건수         -8.221e+04   7542.932    -10.900      0.000    -9.7e+04   -6.74e+04\n",
       "고객수         2.389e+05   1.16e+04     20.680      0.000    2.16e+05    2.62e+05\n",
       "생애주기       -3.107e+04   9.91e+04     -0.314      0.754   -2.25e+05    1.63e+05\n",
       "성별         -1.865e+05   6.76e+04     -2.758      0.006   -3.19e+05   -5.39e+04\n",
       "연령대         2258.2664   9319.562      0.242      0.809    -1.6e+04    2.05e+04\n",
       "==============================================================================\n",
       "Omnibus:                     4784.523   Durbin-Watson:                   2.002\n",
       "Prob(Omnibus):                  0.000   Jarque-Bera (JB):          1179538.533\n",
       "Skew:                           7.074   Prob(JB):                         0.00\n",
       "Kurtosis:                      89.511   Cond. No.                         277.\n",
       "==============================================================================\n",
       "\n",
       "Notes:\n",
       "[1] Standard Errors assume that the covariance matrix of the errors is correctly specified.\n",
       "\"\"\""
      ]
     },
     "execution_count": 153,
     "metadata": {},
     "output_type": "execute_result"
    }
   ],
   "source": [
    "# 모든 변수를 사용한 관광업의 회귀모델 적합\n",
    "\n",
    "full_model_tour = sm.OLS(train_y_tour, train_x_tour)\n",
    "fitted_full_model_tour = full_model_tour.fit()\n",
    "\n",
    "fitted_full_model_tour.summary()"
   ]
  },
  {
   "cell_type": "code",
   "execution_count": 154,
   "metadata": {},
   "outputs": [
    {
     "data": {
      "text/html": [
       "<div>\n",
       "<style scoped>\n",
       "    .dataframe tbody tr th:only-of-type {\n",
       "        vertical-align: middle;\n",
       "    }\n",
       "\n",
       "    .dataframe tbody tr th {\n",
       "        vertical-align: top;\n",
       "    }\n",
       "\n",
       "    .dataframe thead th {\n",
       "        text-align: right;\n",
       "    }\n",
       "</style>\n",
       "<table border=\"1\" class=\"dataframe\">\n",
       "  <thead>\n",
       "    <tr style=\"text-align: right;\">\n",
       "      <th></th>\n",
       "      <th>VIF Factor</th>\n",
       "      <th>features</th>\n",
       "    </tr>\n",
       "  </thead>\n",
       "  <tbody>\n",
       "    <tr>\n",
       "      <th>0</th>\n",
       "      <td>27.888356</td>\n",
       "      <td>const</td>\n",
       "    </tr>\n",
       "    <tr>\n",
       "      <th>1</th>\n",
       "      <td>12.954146</td>\n",
       "      <td>연령대</td>\n",
       "    </tr>\n",
       "    <tr>\n",
       "      <th>2</th>\n",
       "      <td>1.012601</td>\n",
       "      <td>성별</td>\n",
       "    </tr>\n",
       "    <tr>\n",
       "      <th>3</th>\n",
       "      <td>12.942010</td>\n",
       "      <td>생애주기</td>\n",
       "    </tr>\n",
       "    <tr>\n",
       "      <th>4</th>\n",
       "      <td>18.973749</td>\n",
       "      <td>고객수</td>\n",
       "    </tr>\n",
       "    <tr>\n",
       "      <th>5</th>\n",
       "      <td>1.488353</td>\n",
       "      <td>금액</td>\n",
       "    </tr>\n",
       "    <tr>\n",
       "      <th>6</th>\n",
       "      <td>17.449036</td>\n",
       "      <td>건수</td>\n",
       "    </tr>\n",
       "  </tbody>\n",
       "</table>\n",
       "</div>"
      ],
      "text/plain": [
       "   VIF Factor features\n",
       "0   27.888356    const\n",
       "1   12.954146      연령대\n",
       "2    1.012601       성별\n",
       "3   12.942010     생애주기\n",
       "4   18.973749      고객수\n",
       "5    1.488353       금액\n",
       "6   17.449036       건수"
      ]
     },
     "execution_count": 154,
     "metadata": {},
     "output_type": "execute_result"
    }
   ],
   "source": [
    "# 관광업 VIF로 다중공선성 확인\n",
    "\n",
    "vif_tour=pd.DataFrame()\n",
    "vif_tour['VIF Factor'] = [variance_inflation_factor(data_tour.values, i) for i in range(data_tour.shape[1])]\n",
    "vif_tour['features'] = data_tour.columns\n",
    "vif_tour"
   ]
  },
  {
   "cell_type": "markdown",
   "metadata": {},
   "source": [
    "***\n",
    "## 1) 전체 경우의 수"
   ]
  },
  {
   "cell_type": "code",
   "execution_count": 155,
   "metadata": {},
   "outputs": [
    {
     "name": "stdout",
     "output_type": "stream",
     "text": [
      "관광업 : {'model': <statsmodels.regression.linear_model.RegressionResultsWrapper object at 0x000002029B828C48>, 'AIC': 117401.40397403184}\n"
     ]
    }
   ],
   "source": [
    "print(\"관광업 :\", processSubset(X = train_x_tour, y=train_y_tour, feature_set = feature_columns_tour))"
   ]
  },
  {
   "cell_type": "code",
   "execution_count": 156,
   "metadata": {},
   "outputs": [
    {
     "name": "stdout",
     "output_type": "stream",
     "text": [
      "Prcessed 5 models on 1 predictors in 0.014029741287231445 seconds\n",
      "Prcessed 10 models on 2 predictors in 0.018996715545654297 seconds\n",
      "Prcessed 10 models on 3 predictors in 0.02100062370300293 seconds\n",
      "Prcessed 5 models on 4 predictors in 0.011003971099853516 seconds\n",
      "Prcessed 1 models on 5 predictors in 0.004998683929443359 seconds\n",
      "관광업 Total elapsed time: 0.08603096008300781 seconds\n"
     ]
    }
   ],
   "source": [
    "# 관광업 변수 선택에 따른 학습시간과 저장\n",
    "models_tour = pd.DataFrame(columns=['AIC', 'model'])\n",
    "tic = time.time()\n",
    "for i in range(1,6):\n",
    "    models_tour.loc[i] = getBest(X=train_x_tour, y=train_y_tour, k=i)\n",
    "toc = time.time()\n",
    "print('관광업 Total elapsed time:', (toc-tic), 'seconds')"
   ]
  },
  {
   "cell_type": "code",
   "execution_count": 157,
   "metadata": {
    "scrolled": true
   },
   "outputs": [
    {
     "data": {
      "text/html": [
       "<div>\n",
       "<style scoped>\n",
       "    .dataframe tbody tr th:only-of-type {\n",
       "        vertical-align: middle;\n",
       "    }\n",
       "\n",
       "    .dataframe tbody tr th {\n",
       "        vertical-align: top;\n",
       "    }\n",
       "\n",
       "    .dataframe thead th {\n",
       "        text-align: right;\n",
       "    }\n",
       "</style>\n",
       "<table border=\"1\" class=\"dataframe\">\n",
       "  <thead>\n",
       "    <tr style=\"text-align: right;\">\n",
       "      <th></th>\n",
       "      <th>AIC</th>\n",
       "      <th>model</th>\n",
       "    </tr>\n",
       "  </thead>\n",
       "  <tbody>\n",
       "    <tr>\n",
       "      <th>1</th>\n",
       "      <td>117515.874640</td>\n",
       "      <td>&lt;statsmodels.regression.linear_model.Regressio...</td>\n",
       "    </tr>\n",
       "    <tr>\n",
       "      <th>2</th>\n",
       "      <td>117403.165128</td>\n",
       "      <td>&lt;statsmodels.regression.linear_model.Regressio...</td>\n",
       "    </tr>\n",
       "    <tr>\n",
       "      <th>3</th>\n",
       "      <td>117397.545926</td>\n",
       "      <td>&lt;statsmodels.regression.linear_model.Regressio...</td>\n",
       "    </tr>\n",
       "    <tr>\n",
       "      <th>4</th>\n",
       "      <td>117399.462786</td>\n",
       "      <td>&lt;statsmodels.regression.linear_model.Regressio...</td>\n",
       "    </tr>\n",
       "    <tr>\n",
       "      <th>5</th>\n",
       "      <td>117401.403974</td>\n",
       "      <td>&lt;statsmodels.regression.linear_model.Regressio...</td>\n",
       "    </tr>\n",
       "  </tbody>\n",
       "</table>\n",
       "</div>"
      ],
      "text/plain": [
       "             AIC                                              model\n",
       "1  117515.874640  <statsmodels.regression.linear_model.Regressio...\n",
       "2  117403.165128  <statsmodels.regression.linear_model.Regressio...\n",
       "3  117397.545926  <statsmodels.regression.linear_model.Regressio...\n",
       "4  117399.462786  <statsmodels.regression.linear_model.Regressio...\n",
       "5  117401.403974  <statsmodels.regression.linear_model.Regressio..."
      ]
     },
     "execution_count": 157,
     "metadata": {},
     "output_type": "execute_result"
    }
   ],
   "source": [
    "# 선택된 변수의 개수(1,2,3,4,5) 별 가장 낮음 AIC를 보유한 모델들이 들어있는 data frame\n",
    "models_tour"
   ]
  },
  {
   "cell_type": "code",
   "execution_count": 158,
   "metadata": {},
   "outputs": [
    {
     "data": {
      "text/html": [
       "<table class=\"simpletable\">\n",
       "<caption>OLS Regression Results</caption>\n",
       "<tr>\n",
       "  <th>Dep. Variable:</th>           <td>금액</td>        <th>  R-squared:         </th> <td>   0.350</td> \n",
       "</tr>\n",
       "<tr>\n",
       "  <th>Model:</th>                   <td>OLS</td>       <th>  Adj. R-squared:    </th> <td>   0.349</td> \n",
       "</tr>\n",
       "<tr>\n",
       "  <th>Method:</th>             <td>Least Squares</td>  <th>  F-statistic:       </th> <td>   660.6</td> \n",
       "</tr>\n",
       "<tr>\n",
       "  <th>Date:</th>             <td>Mon, 18 Jan 2021</td> <th>  Prob (F-statistic):</th>  <td>  0.00</td>  \n",
       "</tr>\n",
       "<tr>\n",
       "  <th>Time:</th>                 <td>17:44:57</td>     <th>  Log-Likelihood:    </th> <td> -58695.</td> \n",
       "</tr>\n",
       "<tr>\n",
       "  <th>No. Observations:</th>      <td>  3684</td>      <th>  AIC:               </th> <td>1.174e+05</td>\n",
       "</tr>\n",
       "<tr>\n",
       "  <th>Df Residuals:</th>          <td>  3680</td>      <th>  BIC:               </th> <td>1.174e+05</td>\n",
       "</tr>\n",
       "<tr>\n",
       "  <th>Df Model:</th>              <td>     3</td>      <th>                     </th>     <td> </td>    \n",
       "</tr>\n",
       "<tr>\n",
       "  <th>Covariance Type:</th>      <td>nonrobust</td>    <th>                     </th>     <td> </td>    \n",
       "</tr>\n",
       "</table>\n",
       "<table class=\"simpletable\">\n",
       "<tr>\n",
       "    <td></td>       <th>coef</th>     <th>std err</th>      <th>t</th>      <th>P>|t|</th>  <th>[0.025</th>    <th>0.975]</th>  \n",
       "</tr>\n",
       "<tr>\n",
       "  <th>건수</th>    <td>-8.223e+04</td> <td> 7514.245</td> <td>  -10.944</td> <td> 0.000</td> <td> -9.7e+04</td> <td>-6.75e+04</td>\n",
       "</tr>\n",
       "<tr>\n",
       "  <th>고객수</th>   <td> 2.388e+05</td> <td> 1.15e+04</td> <td>   20.734</td> <td> 0.000</td> <td> 2.16e+05</td> <td> 2.61e+05</td>\n",
       "</tr>\n",
       "<tr>\n",
       "  <th>성별</th>    <td>-1.863e+05</td> <td> 6.75e+04</td> <td>   -2.760</td> <td> 0.006</td> <td>-3.19e+05</td> <td> -5.4e+04</td>\n",
       "</tr>\n",
       "<tr>\n",
       "  <th>const</th> <td> 1.748e+04</td> <td> 1.04e+05</td> <td>    0.168</td> <td> 0.866</td> <td>-1.86e+05</td> <td> 2.21e+05</td>\n",
       "</tr>\n",
       "</table>\n",
       "<table class=\"simpletable\">\n",
       "<tr>\n",
       "  <th>Omnibus:</th>       <td>4783.070</td> <th>  Durbin-Watson:     </th>  <td>   2.002</td>  \n",
       "</tr>\n",
       "<tr>\n",
       "  <th>Prob(Omnibus):</th>  <td> 0.000</td>  <th>  Jarque-Bera (JB):  </th> <td>1177992.257</td>\n",
       "</tr>\n",
       "<tr>\n",
       "  <th>Skew:</th>           <td> 7.070</td>  <th>  Prob(JB):          </th>  <td>    0.00</td>  \n",
       "</tr>\n",
       "<tr>\n",
       "  <th>Kurtosis:</th>       <td>89.454</td>  <th>  Cond. No.          </th>  <td>    99.6</td>  \n",
       "</tr>\n",
       "</table><br/><br/>Notes:<br/>[1] Standard Errors assume that the covariance matrix of the errors is correctly specified."
      ],
      "text/plain": [
       "<class 'statsmodels.iolib.summary.Summary'>\n",
       "\"\"\"\n",
       "                            OLS Regression Results                            \n",
       "==============================================================================\n",
       "Dep. Variable:                     금액   R-squared:                       0.350\n",
       "Model:                            OLS   Adj. R-squared:                  0.349\n",
       "Method:                 Least Squares   F-statistic:                     660.6\n",
       "Date:                Mon, 18 Jan 2021   Prob (F-statistic):               0.00\n",
       "Time:                        17:44:57   Log-Likelihood:                -58695.\n",
       "No. Observations:                3684   AIC:                         1.174e+05\n",
       "Df Residuals:                    3680   BIC:                         1.174e+05\n",
       "Df Model:                           3                                         \n",
       "Covariance Type:            nonrobust                                         \n",
       "==============================================================================\n",
       "                 coef    std err          t      P>|t|      [0.025      0.975]\n",
       "------------------------------------------------------------------------------\n",
       "건수         -8.223e+04   7514.245    -10.944      0.000    -9.7e+04   -6.75e+04\n",
       "고객수         2.388e+05   1.15e+04     20.734      0.000    2.16e+05    2.61e+05\n",
       "성별         -1.863e+05   6.75e+04     -2.760      0.006   -3.19e+05    -5.4e+04\n",
       "const       1.748e+04   1.04e+05      0.168      0.866   -1.86e+05    2.21e+05\n",
       "==============================================================================\n",
       "Omnibus:                     4783.070   Durbin-Watson:                   2.002\n",
       "Prob(Omnibus):                  0.000   Jarque-Bera (JB):          1177992.257\n",
       "Skew:                           7.070   Prob(JB):                         0.00\n",
       "Kurtosis:                      89.454   Cond. No.                         99.6\n",
       "==============================================================================\n",
       "\n",
       "Notes:\n",
       "[1] Standard Errors assume that the covariance matrix of the errors is correctly specified.\n",
       "\"\"\""
      ]
     },
     "execution_count": 158,
     "metadata": {},
     "output_type": "execute_result"
    }
   ],
   "source": [
    "# 가장 AIC가 낮은 3번째 모델의 OLS 결과 출력\n",
    "models_tour.loc[3, 'model'].summary()"
   ]
  },
  {
   "cell_type": "code",
   "execution_count": 159,
   "metadata": {
    "scrolled": true
   },
   "outputs": [
    {
     "name": "stdout",
     "output_type": "stream",
     "text": [
      "full model Adj.Rsquared: 0.34916\n",
      "full model AIC: 117401.40397\n",
      "full model MSE: 6214438865140.93555\n",
      "selected model Adj.Rsquared: 0.34948\n",
      "selected model AIC: 117397.54593\n",
      "selected model MSE: 6214438865140.93555\n"
     ]
    }
   ],
   "source": [
    "# 모든 변수를 모델링 한것과 비교\n",
    "print(\"full model Adj.Rsquared:\",\"{:.5f}\".format(fitted_full_model_tour.rsquared_adj))\n",
    "print(\"full model AIC:\",\"{:.5f}\".format(fitted_full_model_tour.aic))\n",
    "print(\"full model MSE:\",\"{:.5f}\".format(fitted_full_model_tour.mse_total))\n",
    "\n",
    "print(\"selected model Adj.Rsquared:\",\"{:.5f}\".format(models_tour.loc[3,\"model\"].rsquared_adj))\n",
    "print(\"selected model AIC:\",\"{:.5f}\".format(models_tour.loc[3,\"model\"].aic))\n",
    "print(\"selected model MSE:\",\"{:.5f}\".format(models_tour.loc[3,\"model\"].mse_total))"
   ]
  },
  {
   "cell_type": "markdown",
   "metadata": {},
   "source": [
    "- ① 모든 변수를 선택한 model\n",
    "- 건수, 고객수, 생애주기, 성별, 연령대\n",
    "- '생애주기','연령대' 변수가 유의하지 않음\n",
    "\n",
    "\n",
    "- ② 변수 4가지 선택한 model\n",
    "- 건수, 고객수, 성별\n",
    "- 모든 변수가 유의함\n",
    "\n",
    "\n",
    "- adj. r-squared : ② model이 더 높다\n",
    "- aic : ②번 model이 더 낮다\n",
    "- mse : 같다\n",
    "\n",
    "### 설명력이 높고, aic가 더 낮으며 모든 변수가 유의한 ②번 model이 더 좋다"
   ]
  },
  {
   "cell_type": "markdown",
   "metadata": {},
   "source": [
    "***\n",
    "## 2) 전진 선택법"
   ]
  },
  {
   "cell_type": "code",
   "execution_count": 160,
   "metadata": {},
   "outputs": [
    {
     "name": "stdout",
     "output_type": "stream",
     "text": [
      "Processed  5 models on 1 predictors in 0.011029958724975586\n",
      "Selected predictors: ['고객수', 'const'] AIC:  <statsmodels.regression.linear_model.RegressionResultsWrapper object at 0x00000202A20A8C88>\n",
      "Processed  4 models on 2 predictors in 0.009002685546875\n",
      "Selected predictors: ['고객수', '건수', 'const'] AIC:  <statsmodels.regression.linear_model.RegressionResultsWrapper object at 0x00000202A205AAC8>\n",
      "Processed  3 models on 3 predictors in 0.007004499435424805\n",
      "Selected predictors: ['고객수', '건수', '성별', 'const'] AIC:  <statsmodels.regression.linear_model.RegressionResultsWrapper object at 0x00000202A0AB2B48>\n",
      "Processed  2 models on 4 predictors in 0.00500035285949707\n",
      "Selected predictors: ['고객수', '건수', '성별', '생애주기', 'const'] AIC:  <statsmodels.regression.linear_model.RegressionResultsWrapper object at 0x00000202A0AB2A88>\n",
      "Total elapsed time: 0.04502725601196289 seconds.\n"
     ]
    }
   ],
   "source": [
    "Forward_best_model = forward_model(X=train_x_tour, y=train_y_tour)"
   ]
  },
  {
   "cell_type": "code",
   "execution_count": 161,
   "metadata": {},
   "outputs": [
    {
     "name": "stdout",
     "output_type": "stream",
     "text": [
      "['고객수', '건수', '성별', 'const']\n",
      "117397.54592622913\n"
     ]
    }
   ],
   "source": [
    "# 전진 선택법 모델 최종 선택된 변수와 AIC\n",
    "print(Forward_best_model.model.exog_names)\n",
    "print(Forward_best_model.aic)"
   ]
  },
  {
   "cell_type": "code",
   "execution_count": 162,
   "metadata": {},
   "outputs": [
    {
     "data": {
      "text/html": [
       "<table class=\"simpletable\">\n",
       "<caption>OLS Regression Results</caption>\n",
       "<tr>\n",
       "  <th>Dep. Variable:</th>           <td>금액</td>        <th>  R-squared:         </th> <td>   0.350</td> \n",
       "</tr>\n",
       "<tr>\n",
       "  <th>Model:</th>                   <td>OLS</td>       <th>  Adj. R-squared:    </th> <td>   0.349</td> \n",
       "</tr>\n",
       "<tr>\n",
       "  <th>Method:</th>             <td>Least Squares</td>  <th>  F-statistic:       </th> <td>   660.6</td> \n",
       "</tr>\n",
       "<tr>\n",
       "  <th>Date:</th>             <td>Mon, 18 Jan 2021</td> <th>  Prob (F-statistic):</th>  <td>  0.00</td>  \n",
       "</tr>\n",
       "<tr>\n",
       "  <th>Time:</th>                 <td>17:45:02</td>     <th>  Log-Likelihood:    </th> <td> -58695.</td> \n",
       "</tr>\n",
       "<tr>\n",
       "  <th>No. Observations:</th>      <td>  3684</td>      <th>  AIC:               </th> <td>1.174e+05</td>\n",
       "</tr>\n",
       "<tr>\n",
       "  <th>Df Residuals:</th>          <td>  3680</td>      <th>  BIC:               </th> <td>1.174e+05</td>\n",
       "</tr>\n",
       "<tr>\n",
       "  <th>Df Model:</th>              <td>     3</td>      <th>                     </th>     <td> </td>    \n",
       "</tr>\n",
       "<tr>\n",
       "  <th>Covariance Type:</th>      <td>nonrobust</td>    <th>                     </th>     <td> </td>    \n",
       "</tr>\n",
       "</table>\n",
       "<table class=\"simpletable\">\n",
       "<tr>\n",
       "    <td></td>       <th>coef</th>     <th>std err</th>      <th>t</th>      <th>P>|t|</th>  <th>[0.025</th>    <th>0.975]</th>  \n",
       "</tr>\n",
       "<tr>\n",
       "  <th>고객수</th>   <td> 2.388e+05</td> <td> 1.15e+04</td> <td>   20.734</td> <td> 0.000</td> <td> 2.16e+05</td> <td> 2.61e+05</td>\n",
       "</tr>\n",
       "<tr>\n",
       "  <th>건수</th>    <td>-8.223e+04</td> <td> 7514.245</td> <td>  -10.944</td> <td> 0.000</td> <td> -9.7e+04</td> <td>-6.75e+04</td>\n",
       "</tr>\n",
       "<tr>\n",
       "  <th>성별</th>    <td>-1.863e+05</td> <td> 6.75e+04</td> <td>   -2.760</td> <td> 0.006</td> <td>-3.19e+05</td> <td> -5.4e+04</td>\n",
       "</tr>\n",
       "<tr>\n",
       "  <th>const</th> <td> 1.748e+04</td> <td> 1.04e+05</td> <td>    0.168</td> <td> 0.866</td> <td>-1.86e+05</td> <td> 2.21e+05</td>\n",
       "</tr>\n",
       "</table>\n",
       "<table class=\"simpletable\">\n",
       "<tr>\n",
       "  <th>Omnibus:</th>       <td>4783.070</td> <th>  Durbin-Watson:     </th>  <td>   2.002</td>  \n",
       "</tr>\n",
       "<tr>\n",
       "  <th>Prob(Omnibus):</th>  <td> 0.000</td>  <th>  Jarque-Bera (JB):  </th> <td>1177992.257</td>\n",
       "</tr>\n",
       "<tr>\n",
       "  <th>Skew:</th>           <td> 7.070</td>  <th>  Prob(JB):          </th>  <td>    0.00</td>  \n",
       "</tr>\n",
       "<tr>\n",
       "  <th>Kurtosis:</th>       <td>89.454</td>  <th>  Cond. No.          </th>  <td>    99.6</td>  \n",
       "</tr>\n",
       "</table><br/><br/>Notes:<br/>[1] Standard Errors assume that the covariance matrix of the errors is correctly specified."
      ],
      "text/plain": [
       "<class 'statsmodels.iolib.summary.Summary'>\n",
       "\"\"\"\n",
       "                            OLS Regression Results                            \n",
       "==============================================================================\n",
       "Dep. Variable:                     금액   R-squared:                       0.350\n",
       "Model:                            OLS   Adj. R-squared:                  0.349\n",
       "Method:                 Least Squares   F-statistic:                     660.6\n",
       "Date:                Mon, 18 Jan 2021   Prob (F-statistic):               0.00\n",
       "Time:                        17:45:02   Log-Likelihood:                -58695.\n",
       "No. Observations:                3684   AIC:                         1.174e+05\n",
       "Df Residuals:                    3680   BIC:                         1.174e+05\n",
       "Df Model:                           3                                         \n",
       "Covariance Type:            nonrobust                                         \n",
       "==============================================================================\n",
       "                 coef    std err          t      P>|t|      [0.025      0.975]\n",
       "------------------------------------------------------------------------------\n",
       "고객수         2.388e+05   1.15e+04     20.734      0.000    2.16e+05    2.61e+05\n",
       "건수         -8.223e+04   7514.245    -10.944      0.000    -9.7e+04   -6.75e+04\n",
       "성별         -1.863e+05   6.75e+04     -2.760      0.006   -3.19e+05    -5.4e+04\n",
       "const       1.748e+04   1.04e+05      0.168      0.866   -1.86e+05    2.21e+05\n",
       "==============================================================================\n",
       "Omnibus:                     4783.070   Durbin-Watson:                   2.002\n",
       "Prob(Omnibus):                  0.000   Jarque-Bera (JB):          1177992.257\n",
       "Skew:                           7.070   Prob(JB):                         0.00\n",
       "Kurtosis:                      89.454   Cond. No.                         99.6\n",
       "==============================================================================\n",
       "\n",
       "Notes:\n",
       "[1] Standard Errors assume that the covariance matrix of the errors is correctly specified.\n",
       "\"\"\""
      ]
     },
     "execution_count": 162,
     "metadata": {},
     "output_type": "execute_result"
    }
   ],
   "source": [
    "Forward_best_model.summary()"
   ]
  },
  {
   "cell_type": "markdown",
   "metadata": {},
   "source": [
    "***\n",
    "## 3) 후진 소거법"
   ]
  },
  {
   "cell_type": "code",
   "execution_count": 163,
   "metadata": {
    "scrolled": true
   },
   "outputs": [
    {
     "name": "stdout",
     "output_type": "stream",
     "text": [
      "Processed  5 models on 4 predictors in 0.012676715850830078\n",
      "Selected predictors: ['건수', '고객수', '생애주기', '성별', 'const']  AIC: <statsmodels.regression.linear_model.RegressionResultsWrapper object at 0x00000202A205AE08>\n",
      "Total elapsed time: 0.017040252685546875 seconds.\n"
     ]
    },
    {
     "ename": "IndexError",
     "evalue": "single positional indexer is out-of-bounds",
     "output_type": "error",
     "traceback": [
      "\u001b[1;31m---------------------------------------------------------------------------\u001b[0m",
      "\u001b[1;31mIndexError\u001b[0m                                Traceback (most recent call last)",
      "\u001b[1;32m<ipython-input-163-b5d89b60405d>\u001b[0m in \u001b[0;36m<module>\u001b[1;34m\u001b[0m\n\u001b[1;32m----> 1\u001b[1;33m \u001b[0mBackward_best_model\u001b[0m \u001b[1;33m=\u001b[0m \u001b[0mbackward_model\u001b[0m\u001b[1;33m(\u001b[0m\u001b[0mX\u001b[0m\u001b[1;33m=\u001b[0m\u001b[0mtrain_x_tour\u001b[0m\u001b[1;33m,\u001b[0m \u001b[0my\u001b[0m\u001b[1;33m=\u001b[0m \u001b[0mtrain_y_tour\u001b[0m\u001b[1;33m)\u001b[0m\u001b[1;33m\u001b[0m\u001b[1;33m\u001b[0m\u001b[0m\n\u001b[0m",
      "\u001b[1;32m<ipython-input-65-d7b2fddd9e15>\u001b[0m in \u001b[0;36mbackward_model\u001b[1;34m(X, y)\u001b[0m\n\u001b[0;32m     35\u001b[0m     \u001b[0mtoc\u001b[0m \u001b[1;33m=\u001b[0m \u001b[0mtime\u001b[0m\u001b[1;33m.\u001b[0m\u001b[0mtime\u001b[0m\u001b[1;33m(\u001b[0m\u001b[1;33m)\u001b[0m\u001b[1;33m\u001b[0m\u001b[1;33m\u001b[0m\u001b[0m\n\u001b[0;32m     36\u001b[0m     \u001b[0mprint\u001b[0m\u001b[1;33m(\u001b[0m\u001b[1;34m\"Total elapsed time:\"\u001b[0m\u001b[1;33m,\u001b[0m\u001b[1;33m(\u001b[0m\u001b[0mtoc\u001b[0m\u001b[1;33m-\u001b[0m\u001b[0mtic\u001b[0m\u001b[1;33m)\u001b[0m\u001b[1;33m,\u001b[0m\u001b[1;34m\"seconds.\"\u001b[0m\u001b[1;33m)\u001b[0m\u001b[1;33m\u001b[0m\u001b[1;33m\u001b[0m\u001b[0m\n\u001b[1;32m---> 37\u001b[1;33m     \u001b[1;32mreturn\u001b[0m \u001b[1;33m(\u001b[0m\u001b[0mBmodels\u001b[0m\u001b[1;33m[\u001b[0m\u001b[1;34m\"model\"\u001b[0m\u001b[1;33m]\u001b[0m\u001b[1;33m.\u001b[0m\u001b[0mdropna\u001b[0m\u001b[1;33m(\u001b[0m\u001b[1;33m)\u001b[0m\u001b[1;33m.\u001b[0m\u001b[0miloc\u001b[0m\u001b[1;33m[\u001b[0m\u001b[1;36m0\u001b[0m\u001b[1;33m]\u001b[0m\u001b[1;33m)\u001b[0m\u001b[1;33m\u001b[0m\u001b[1;33m\u001b[0m\u001b[0m\n\u001b[0m",
      "\u001b[1;32m~\\anaconda3\\envs\\tens_2\\lib\\site-packages\\pandas\\core\\indexing.py\u001b[0m in \u001b[0;36m__getitem__\u001b[1;34m(self, key)\u001b[0m\n\u001b[0;32m    892\u001b[0m \u001b[1;33m\u001b[0m\u001b[0m\n\u001b[0;32m    893\u001b[0m             \u001b[0mmaybe_callable\u001b[0m \u001b[1;33m=\u001b[0m \u001b[0mcom\u001b[0m\u001b[1;33m.\u001b[0m\u001b[0mapply_if_callable\u001b[0m\u001b[1;33m(\u001b[0m\u001b[0mkey\u001b[0m\u001b[1;33m,\u001b[0m \u001b[0mself\u001b[0m\u001b[1;33m.\u001b[0m\u001b[0mobj\u001b[0m\u001b[1;33m)\u001b[0m\u001b[1;33m\u001b[0m\u001b[1;33m\u001b[0m\u001b[0m\n\u001b[1;32m--> 894\u001b[1;33m             \u001b[1;32mreturn\u001b[0m \u001b[0mself\u001b[0m\u001b[1;33m.\u001b[0m\u001b[0m_getitem_axis\u001b[0m\u001b[1;33m(\u001b[0m\u001b[0mmaybe_callable\u001b[0m\u001b[1;33m,\u001b[0m \u001b[0maxis\u001b[0m\u001b[1;33m=\u001b[0m\u001b[0maxis\u001b[0m\u001b[1;33m)\u001b[0m\u001b[1;33m\u001b[0m\u001b[1;33m\u001b[0m\u001b[0m\n\u001b[0m\u001b[0;32m    895\u001b[0m \u001b[1;33m\u001b[0m\u001b[0m\n\u001b[0;32m    896\u001b[0m     \u001b[1;32mdef\u001b[0m \u001b[0m_is_scalar_access\u001b[0m\u001b[1;33m(\u001b[0m\u001b[0mself\u001b[0m\u001b[1;33m,\u001b[0m \u001b[0mkey\u001b[0m\u001b[1;33m:\u001b[0m \u001b[0mTuple\u001b[0m\u001b[1;33m)\u001b[0m\u001b[1;33m:\u001b[0m\u001b[1;33m\u001b[0m\u001b[1;33m\u001b[0m\u001b[0m\n",
      "\u001b[1;32m~\\anaconda3\\envs\\tens_2\\lib\\site-packages\\pandas\\core\\indexing.py\u001b[0m in \u001b[0;36m_getitem_axis\u001b[1;34m(self, key, axis)\u001b[0m\n\u001b[0;32m   1498\u001b[0m \u001b[1;33m\u001b[0m\u001b[0m\n\u001b[0;32m   1499\u001b[0m             \u001b[1;31m# validate the location\u001b[0m\u001b[1;33m\u001b[0m\u001b[1;33m\u001b[0m\u001b[1;33m\u001b[0m\u001b[0m\n\u001b[1;32m-> 1500\u001b[1;33m             \u001b[0mself\u001b[0m\u001b[1;33m.\u001b[0m\u001b[0m_validate_integer\u001b[0m\u001b[1;33m(\u001b[0m\u001b[0mkey\u001b[0m\u001b[1;33m,\u001b[0m \u001b[0maxis\u001b[0m\u001b[1;33m)\u001b[0m\u001b[1;33m\u001b[0m\u001b[1;33m\u001b[0m\u001b[0m\n\u001b[0m\u001b[0;32m   1501\u001b[0m \u001b[1;33m\u001b[0m\u001b[0m\n\u001b[0;32m   1502\u001b[0m             \u001b[1;32mreturn\u001b[0m \u001b[0mself\u001b[0m\u001b[1;33m.\u001b[0m\u001b[0mobj\u001b[0m\u001b[1;33m.\u001b[0m\u001b[0m_ixs\u001b[0m\u001b[1;33m(\u001b[0m\u001b[0mkey\u001b[0m\u001b[1;33m,\u001b[0m \u001b[0maxis\u001b[0m\u001b[1;33m=\u001b[0m\u001b[0maxis\u001b[0m\u001b[1;33m)\u001b[0m\u001b[1;33m\u001b[0m\u001b[1;33m\u001b[0m\u001b[0m\n",
      "\u001b[1;32m~\\anaconda3\\envs\\tens_2\\lib\\site-packages\\pandas\\core\\indexing.py\u001b[0m in \u001b[0;36m_validate_integer\u001b[1;34m(self, key, axis)\u001b[0m\n\u001b[0;32m   1441\u001b[0m         \u001b[0mlen_axis\u001b[0m \u001b[1;33m=\u001b[0m \u001b[0mlen\u001b[0m\u001b[1;33m(\u001b[0m\u001b[0mself\u001b[0m\u001b[1;33m.\u001b[0m\u001b[0mobj\u001b[0m\u001b[1;33m.\u001b[0m\u001b[0m_get_axis\u001b[0m\u001b[1;33m(\u001b[0m\u001b[0maxis\u001b[0m\u001b[1;33m)\u001b[0m\u001b[1;33m)\u001b[0m\u001b[1;33m\u001b[0m\u001b[1;33m\u001b[0m\u001b[0m\n\u001b[0;32m   1442\u001b[0m         \u001b[1;32mif\u001b[0m \u001b[0mkey\u001b[0m \u001b[1;33m>=\u001b[0m \u001b[0mlen_axis\u001b[0m \u001b[1;32mor\u001b[0m \u001b[0mkey\u001b[0m \u001b[1;33m<\u001b[0m \u001b[1;33m-\u001b[0m\u001b[0mlen_axis\u001b[0m\u001b[1;33m:\u001b[0m\u001b[1;33m\u001b[0m\u001b[1;33m\u001b[0m\u001b[0m\n\u001b[1;32m-> 1443\u001b[1;33m             \u001b[1;32mraise\u001b[0m \u001b[0mIndexError\u001b[0m\u001b[1;33m(\u001b[0m\u001b[1;34m\"single positional indexer is out-of-bounds\"\u001b[0m\u001b[1;33m)\u001b[0m\u001b[1;33m\u001b[0m\u001b[1;33m\u001b[0m\u001b[0m\n\u001b[0m\u001b[0;32m   1444\u001b[0m \u001b[1;33m\u001b[0m\u001b[0m\n\u001b[0;32m   1445\u001b[0m     \u001b[1;31m# -------------------------------------------------------------------\u001b[0m\u001b[1;33m\u001b[0m\u001b[1;33m\u001b[0m\u001b[1;33m\u001b[0m\u001b[0m\n",
      "\u001b[1;31mIndexError\u001b[0m: single positional indexer is out-of-bounds"
     ]
    }
   ],
   "source": [
    "Backward_best_model = backward_model(X=train_x_tour, y= train_y_tour)"
   ]
  },
  {
   "cell_type": "code",
   "execution_count": 164,
   "metadata": {},
   "outputs": [
    {
     "name": "stdout",
     "output_type": "stream",
     "text": [
      "['건수', '고객수', '성별', '연령대', 'const']\n",
      "122401.0740166416\n"
     ]
    }
   ],
   "source": [
    "# 후진 소거법 모델 최종 선택된 변수와 AIC\n",
    "print(Backward_best_model.model.exog_names)\n",
    "print(Backward_best_model.aic)"
   ]
  },
  {
   "cell_type": "code",
   "execution_count": null,
   "metadata": {},
   "outputs": [],
   "source": []
  },
  {
   "cell_type": "code",
   "execution_count": 165,
   "metadata": {},
   "outputs": [
    {
     "data": {
      "text/html": [
       "<table class=\"simpletable\">\n",
       "<caption>OLS Regression Results</caption>\n",
       "<tr>\n",
       "  <th>Dep. Variable:</th>           <td>금액</td>        <th>  R-squared:         </th> <td>   0.810</td> \n",
       "</tr>\n",
       "<tr>\n",
       "  <th>Model:</th>                   <td>OLS</td>       <th>  Adj. R-squared:    </th> <td>   0.809</td> \n",
       "</tr>\n",
       "<tr>\n",
       "  <th>Method:</th>             <td>Least Squares</td>  <th>  F-statistic:       </th> <td>   4620.</td> \n",
       "</tr>\n",
       "<tr>\n",
       "  <th>Date:</th>             <td>Mon, 18 Jan 2021</td> <th>  Prob (F-statistic):</th>  <td>  0.00</td>  \n",
       "</tr>\n",
       "<tr>\n",
       "  <th>Time:</th>                 <td>17:45:08</td>     <th>  Log-Likelihood:    </th> <td> -61196.</td> \n",
       "</tr>\n",
       "<tr>\n",
       "  <th>No. Observations:</th>      <td>  4351</td>      <th>  AIC:               </th> <td>1.224e+05</td>\n",
       "</tr>\n",
       "<tr>\n",
       "  <th>Df Residuals:</th>          <td>  4346</td>      <th>  BIC:               </th> <td>1.224e+05</td>\n",
       "</tr>\n",
       "<tr>\n",
       "  <th>Df Model:</th>              <td>     4</td>      <th>                     </th>     <td> </td>    \n",
       "</tr>\n",
       "<tr>\n",
       "  <th>Covariance Type:</th>      <td>nonrobust</td>    <th>                     </th>     <td> </td>    \n",
       "</tr>\n",
       "</table>\n",
       "<table class=\"simpletable\">\n",
       "<tr>\n",
       "    <td></td>       <th>coef</th>     <th>std err</th>      <th>t</th>      <th>P>|t|</th>  <th>[0.025</th>    <th>0.975]</th>  \n",
       "</tr>\n",
       "<tr>\n",
       "  <th>건수</th>    <td>-1.444e+04</td> <td> 1612.585</td> <td>   -8.953</td> <td> 0.000</td> <td>-1.76e+04</td> <td>-1.13e+04</td>\n",
       "</tr>\n",
       "<tr>\n",
       "  <th>고객수</th>   <td> 6.282e+04</td> <td> 1872.389</td> <td>   33.553</td> <td> 0.000</td> <td> 5.92e+04</td> <td> 6.65e+04</td>\n",
       "</tr>\n",
       "<tr>\n",
       "  <th>성별</th>    <td> 4.136e+04</td> <td> 9575.235</td> <td>    4.320</td> <td> 0.000</td> <td> 2.26e+04</td> <td> 6.01e+04</td>\n",
       "</tr>\n",
       "<tr>\n",
       "  <th>연령대</th>   <td> 4447.0539</td> <td>  394.067</td> <td>   11.285</td> <td> 0.000</td> <td> 3674.481</td> <td> 5219.627</td>\n",
       "</tr>\n",
       "<tr>\n",
       "  <th>const</th> <td>-3.673e+05</td> <td> 2.21e+04</td> <td>  -16.586</td> <td> 0.000</td> <td>-4.11e+05</td> <td>-3.24e+05</td>\n",
       "</tr>\n",
       "</table>\n",
       "<table class=\"simpletable\">\n",
       "<tr>\n",
       "  <th>Omnibus:</th>       <td>5591.108</td> <th>  Durbin-Watson:     </th>  <td>   2.030</td>  \n",
       "</tr>\n",
       "<tr>\n",
       "  <th>Prob(Omnibus):</th>  <td> 0.000</td>  <th>  Jarque-Bera (JB):  </th> <td>3722033.531</td>\n",
       "</tr>\n",
       "<tr>\n",
       "  <th>Skew:</th>           <td> 6.523</td>  <th>  Prob(JB):          </th>  <td>    0.00</td>  \n",
       "</tr>\n",
       "<tr>\n",
       "  <th>Kurtosis:</th>       <td>145.690</td> <th>  Cond. No.          </th>  <td>    212.</td>  \n",
       "</tr>\n",
       "</table><br/><br/>Notes:<br/>[1] Standard Errors assume that the covariance matrix of the errors is correctly specified."
      ],
      "text/plain": [
       "<class 'statsmodels.iolib.summary.Summary'>\n",
       "\"\"\"\n",
       "                            OLS Regression Results                            \n",
       "==============================================================================\n",
       "Dep. Variable:                     금액   R-squared:                       0.810\n",
       "Model:                            OLS   Adj. R-squared:                  0.809\n",
       "Method:                 Least Squares   F-statistic:                     4620.\n",
       "Date:                Mon, 18 Jan 2021   Prob (F-statistic):               0.00\n",
       "Time:                        17:45:08   Log-Likelihood:                -61196.\n",
       "No. Observations:                4351   AIC:                         1.224e+05\n",
       "Df Residuals:                    4346   BIC:                         1.224e+05\n",
       "Df Model:                           4                                         \n",
       "Covariance Type:            nonrobust                                         \n",
       "==============================================================================\n",
       "                 coef    std err          t      P>|t|      [0.025      0.975]\n",
       "------------------------------------------------------------------------------\n",
       "건수         -1.444e+04   1612.585     -8.953      0.000   -1.76e+04   -1.13e+04\n",
       "고객수         6.282e+04   1872.389     33.553      0.000    5.92e+04    6.65e+04\n",
       "성별          4.136e+04   9575.235      4.320      0.000    2.26e+04    6.01e+04\n",
       "연령대         4447.0539    394.067     11.285      0.000    3674.481    5219.627\n",
       "const      -3.673e+05   2.21e+04    -16.586      0.000   -4.11e+05   -3.24e+05\n",
       "==============================================================================\n",
       "Omnibus:                     5591.108   Durbin-Watson:                   2.030\n",
       "Prob(Omnibus):                  0.000   Jarque-Bera (JB):          3722033.531\n",
       "Skew:                           6.523   Prob(JB):                         0.00\n",
       "Kurtosis:                     145.690   Cond. No.                         212.\n",
       "==============================================================================\n",
       "\n",
       "Notes:\n",
       "[1] Standard Errors assume that the covariance matrix of the errors is correctly specified.\n",
       "\"\"\""
      ]
     },
     "execution_count": 165,
     "metadata": {},
     "output_type": "execute_result"
    }
   ],
   "source": [
    "Backward_best_model.summary()"
   ]
  },
  {
   "cell_type": "markdown",
   "metadata": {},
   "source": [
    "***\n",
    "## 4) 단계적 선택법"
   ]
  },
  {
   "cell_type": "code",
   "execution_count": 166,
   "metadata": {
    "scrolled": true
   },
   "outputs": [
    {
     "name": "stdout",
     "output_type": "stream",
     "text": [
      "Processed  5 models on 1 predictors in 0.011545658111572266\n",
      "Selected predictors: ['고객수', 'const'] AIC:  <statsmodels.regression.linear_model.RegressionResultsWrapper object at 0x00000202A0AA7AC8>\n",
      "forward\n",
      "Processed  1 models on 0 predictors in 0.004000663757324219\n",
      "Selected predictors: ['const']  AIC: <statsmodels.regression.linear_model.RegressionResultsWrapper object at 0x000002029C7A09C8>\n",
      "Processed  4 models on 2 predictors in 0.008999824523925781\n",
      "Selected predictors: ['고객수', '건수', 'const'] AIC:  <statsmodels.regression.linear_model.RegressionResultsWrapper object at 0x000002029AA955C8>\n",
      "forward\n",
      "Processed  2 models on 1 predictors in 0.005000114440917969\n",
      "Selected predictors: ['고객수', 'const']  AIC: <statsmodels.regression.linear_model.RegressionResultsWrapper object at 0x000002029AA9B308>\n",
      "Processed  3 models on 3 predictors in 0.00600123405456543\n",
      "Selected predictors: ['고객수', '건수', '성별', 'const'] AIC:  <statsmodels.regression.linear_model.RegressionResultsWrapper object at 0x000002029AAD3E88>\n",
      "forward\n",
      "Processed  3 models on 2 predictors in 0.006998300552368164\n",
      "Selected predictors: ['고객수', '건수', 'const']  AIC: <statsmodels.regression.linear_model.RegressionResultsWrapper object at 0x00000202A0566F48>\n",
      "Processed  2 models on 4 predictors in 0.0070002079010009766\n",
      "Selected predictors: ['고객수', '건수', '성별', '생애주기', 'const'] AIC:  <statsmodels.regression.linear_model.RegressionResultsWrapper object at 0x00000202A056CF48>\n",
      "forward\n",
      "Processed  4 models on 3 predictors in 0.007989883422851562\n",
      "Selected predictors: ['고객수', '건수', '성별', 'const']  AIC: <statsmodels.regression.linear_model.RegressionResultsWrapper object at 0x00000202A056CA08>\n",
      "backward\n",
      "Processed  2 models on 4 predictors in 0.00499725341796875\n",
      "Selected predictors: ['고객수', '건수', '성별', '생애주기', 'const'] AIC:  <statsmodels.regression.linear_model.RegressionResultsWrapper object at 0x00000202A0561F88>\n",
      "forward\n",
      "Processed  4 models on 3 predictors in 0.008002281188964844\n",
      "Selected predictors: ['고객수', '건수', '성별', 'const']  AIC: <statsmodels.regression.linear_model.RegressionResultsWrapper object at 0x00000202A0561A48>\n",
      "backward\n",
      "Total elapsed time: 0.09681868553161621 seconds.\n"
     ]
    }
   ],
   "source": [
    "Stepwise_best_model = Stepwise_model(X=train_x_tour, y=train_y_tour)"
   ]
  },
  {
   "cell_type": "code",
   "execution_count": 167,
   "metadata": {},
   "outputs": [
    {
     "name": "stdout",
     "output_type": "stream",
     "text": [
      "['고객수', '건수', '성별', 'const']\n",
      "117397.54592622913\n"
     ]
    }
   ],
   "source": [
    "# 단계적 선택법 모델 최종 선택된 변수와 AIC\n",
    "print(Stepwise_best_model.model.exog_names)\n",
    "print(Stepwise_best_model.aic)"
   ]
  },
  {
   "cell_type": "code",
   "execution_count": 168,
   "metadata": {
    "scrolled": true
   },
   "outputs": [
    {
     "data": {
      "text/html": [
       "<table class=\"simpletable\">\n",
       "<caption>OLS Regression Results</caption>\n",
       "<tr>\n",
       "  <th>Dep. Variable:</th>           <td>금액</td>        <th>  R-squared:         </th> <td>   0.350</td> \n",
       "</tr>\n",
       "<tr>\n",
       "  <th>Model:</th>                   <td>OLS</td>       <th>  Adj. R-squared:    </th> <td>   0.349</td> \n",
       "</tr>\n",
       "<tr>\n",
       "  <th>Method:</th>             <td>Least Squares</td>  <th>  F-statistic:       </th> <td>   660.6</td> \n",
       "</tr>\n",
       "<tr>\n",
       "  <th>Date:</th>             <td>Mon, 18 Jan 2021</td> <th>  Prob (F-statistic):</th>  <td>  0.00</td>  \n",
       "</tr>\n",
       "<tr>\n",
       "  <th>Time:</th>                 <td>17:45:11</td>     <th>  Log-Likelihood:    </th> <td> -58695.</td> \n",
       "</tr>\n",
       "<tr>\n",
       "  <th>No. Observations:</th>      <td>  3684</td>      <th>  AIC:               </th> <td>1.174e+05</td>\n",
       "</tr>\n",
       "<tr>\n",
       "  <th>Df Residuals:</th>          <td>  3680</td>      <th>  BIC:               </th> <td>1.174e+05</td>\n",
       "</tr>\n",
       "<tr>\n",
       "  <th>Df Model:</th>              <td>     3</td>      <th>                     </th>     <td> </td>    \n",
       "</tr>\n",
       "<tr>\n",
       "  <th>Covariance Type:</th>      <td>nonrobust</td>    <th>                     </th>     <td> </td>    \n",
       "</tr>\n",
       "</table>\n",
       "<table class=\"simpletable\">\n",
       "<tr>\n",
       "    <td></td>       <th>coef</th>     <th>std err</th>      <th>t</th>      <th>P>|t|</th>  <th>[0.025</th>    <th>0.975]</th>  \n",
       "</tr>\n",
       "<tr>\n",
       "  <th>고객수</th>   <td> 2.388e+05</td> <td> 1.15e+04</td> <td>   20.734</td> <td> 0.000</td> <td> 2.16e+05</td> <td> 2.61e+05</td>\n",
       "</tr>\n",
       "<tr>\n",
       "  <th>건수</th>    <td>-8.223e+04</td> <td> 7514.245</td> <td>  -10.944</td> <td> 0.000</td> <td> -9.7e+04</td> <td>-6.75e+04</td>\n",
       "</tr>\n",
       "<tr>\n",
       "  <th>성별</th>    <td>-1.863e+05</td> <td> 6.75e+04</td> <td>   -2.760</td> <td> 0.006</td> <td>-3.19e+05</td> <td> -5.4e+04</td>\n",
       "</tr>\n",
       "<tr>\n",
       "  <th>const</th> <td> 1.748e+04</td> <td> 1.04e+05</td> <td>    0.168</td> <td> 0.866</td> <td>-1.86e+05</td> <td> 2.21e+05</td>\n",
       "</tr>\n",
       "</table>\n",
       "<table class=\"simpletable\">\n",
       "<tr>\n",
       "  <th>Omnibus:</th>       <td>4783.070</td> <th>  Durbin-Watson:     </th>  <td>   2.002</td>  \n",
       "</tr>\n",
       "<tr>\n",
       "  <th>Prob(Omnibus):</th>  <td> 0.000</td>  <th>  Jarque-Bera (JB):  </th> <td>1177992.257</td>\n",
       "</tr>\n",
       "<tr>\n",
       "  <th>Skew:</th>           <td> 7.070</td>  <th>  Prob(JB):          </th>  <td>    0.00</td>  \n",
       "</tr>\n",
       "<tr>\n",
       "  <th>Kurtosis:</th>       <td>89.454</td>  <th>  Cond. No.          </th>  <td>    99.6</td>  \n",
       "</tr>\n",
       "</table><br/><br/>Notes:<br/>[1] Standard Errors assume that the covariance matrix of the errors is correctly specified."
      ],
      "text/plain": [
       "<class 'statsmodels.iolib.summary.Summary'>\n",
       "\"\"\"\n",
       "                            OLS Regression Results                            \n",
       "==============================================================================\n",
       "Dep. Variable:                     금액   R-squared:                       0.350\n",
       "Model:                            OLS   Adj. R-squared:                  0.349\n",
       "Method:                 Least Squares   F-statistic:                     660.6\n",
       "Date:                Mon, 18 Jan 2021   Prob (F-statistic):               0.00\n",
       "Time:                        17:45:11   Log-Likelihood:                -58695.\n",
       "No. Observations:                3684   AIC:                         1.174e+05\n",
       "Df Residuals:                    3680   BIC:                         1.174e+05\n",
       "Df Model:                           3                                         \n",
       "Covariance Type:            nonrobust                                         \n",
       "==============================================================================\n",
       "                 coef    std err          t      P>|t|      [0.025      0.975]\n",
       "------------------------------------------------------------------------------\n",
       "고객수         2.388e+05   1.15e+04     20.734      0.000    2.16e+05    2.61e+05\n",
       "건수         -8.223e+04   7514.245    -10.944      0.000    -9.7e+04   -6.75e+04\n",
       "성별         -1.863e+05   6.75e+04     -2.760      0.006   -3.19e+05    -5.4e+04\n",
       "const       1.748e+04   1.04e+05      0.168      0.866   -1.86e+05    2.21e+05\n",
       "==============================================================================\n",
       "Omnibus:                     4783.070   Durbin-Watson:                   2.002\n",
       "Prob(Omnibus):                  0.000   Jarque-Bera (JB):          1177992.257\n",
       "Skew:                           7.070   Prob(JB):                         0.00\n",
       "Kurtosis:                      89.454   Cond. No.                         99.6\n",
       "==============================================================================\n",
       "\n",
       "Notes:\n",
       "[1] Standard Errors assume that the covariance matrix of the errors is correctly specified.\n",
       "\"\"\""
      ]
     },
     "execution_count": 168,
     "metadata": {},
     "output_type": "execute_result"
    }
   ],
   "source": [
    "Stepwise_best_model.summary()"
   ]
  },
  {
   "cell_type": "code",
   "execution_count": 169,
   "metadata": {},
   "outputs": [
    {
     "name": "stdout",
     "output_type": "stream",
     "text": [
      "(4,) (5,) (4,)\n"
     ]
    }
   ],
   "source": [
    "# number of params\n",
    "print(Forward_best_model.params.shape, Backward_best_model.params.shape, Stepwise_best_model.params.shape)"
   ]
  },
  {
   "cell_type": "markdown",
   "metadata": {},
   "source": [
    "- 전진, 단계적 선택법은 \"고객수, 건수, 성별\" 변수를 선택했고\n",
    "- 후진, 단계적 선택법은 \"건수, 고객수, 성별, 연령대\" 변수를 선택했다\n",
    "- 각 방법 별 선택된 변수들은 모두 유의하다"
   ]
  },
  {
   "cell_type": "code",
   "execution_count": 170,
   "metadata": {},
   "outputs": [],
   "source": [
    "# 모델에 의해 예측된/추정된 값 = test_y\n",
    "pred_y_full = fitted_full_model_tour.predict(test_x_tour)\n",
    "pred_y_selected = models_tour.loc[3,'model'].predict(test_x_tour[models_tour.loc[3,'model'].model.exog_names])\n",
    "pred_y_forward = Forward_best_model.predict(test_x_tour[Forward_best_model.model.exog_names])\n",
    "pred_y_backward = Backward_best_model.predict(test_x_tour[Backward_best_model.model.exog_names])\n",
    "pred_y_stepwise = Stepwise_best_model.predict(test_x_tour[Stepwise_best_model.model.exog_names])"
   ]
  },
  {
   "cell_type": "code",
   "execution_count": 171,
   "metadata": {},
   "outputs": [
    {
     "name": "stdout",
     "output_type": "stream",
     "text": [
      "                       ALL              SELECTED               FORWARD  \\\n",
      "MSE   4098749308373.353027  4099705432311.891113  4099705432311.891113   \n",
      "RMSE        2024536.813292        2024772.933519        2024772.933519   \n",
      "MAE          744124.960509         745195.796079         745195.796079   \n",
      "MAPE            200.882263            200.985277            200.985277   \n",
      "\n",
      "                  BACKWARD              STEPWISE  \n",
      "MSE   4962178046895.832031  4099705432311.891113  \n",
      "RMSE        2227594.677426        2024772.933519  \n",
      "MAE          607981.018836         745195.796079  \n",
      "MAPE             80.219864            200.985277  \n"
     ]
    }
   ],
   "source": [
    "# MSE, RMSE, MAE, MAPE 4가지 지표를 통해 예측성능을 확인\n",
    "\n",
    "perf_mat = pd.DataFrame(columns=[\"ALL\",\"SELECTED\", \"FORWARD\", \"BACKWARD\", \"STEPWISE\"],index =['MSE', 'RMSE','MAE', 'MAPE'])\n",
    "\n",
    "# MAPE의 함수\n",
    "def mean_absolute_percentage_error(y_true, y_pred):\n",
    "    y_true, y_pred = np.array(y_true), np.array(y_pred)\n",
    "    return np.mean(np.abs((y_true - y_pred) / y_true)) * 100\n",
    "from sklearn import metrics  # 나머지는 sklearn에서 활용\n",
    "\n",
    "# 성능지표\n",
    "perf_mat.loc['MSE']['ALL'] = metrics.mean_squared_error(test_y_tour,pred_y_full)\n",
    "perf_mat.loc['MSE']['SELECTED'] = metrics.mean_squared_error(test_y_tour,pred_y_selected)\n",
    "perf_mat.loc['MSE']['FORWARD'] = metrics.mean_squared_error(test_y_tour,pred_y_forward)\n",
    "perf_mat.loc['MSE']['BACKWARD'] = metrics.mean_squared_error(test_y_tour,pred_y_backward)\n",
    "perf_mat.loc['MSE']['STEPWISE'] = metrics.mean_squared_error(test_y_tour,pred_y_stepwise)\n",
    "\n",
    "perf_mat.loc['RMSE']['ALL'] = np.sqrt(metrics.mean_squared_error(test_y_tour, pred_y_full))\n",
    "perf_mat.loc['RMSE']['SELECTED'] = np.sqrt(metrics.mean_squared_error(test_y_tour, pred_y_selected))\n",
    "perf_mat.loc['RMSE']['FORWARD'] = np.sqrt(metrics.mean_squared_error(test_y_tour, pred_y_forward))\n",
    "perf_mat.loc['RMSE']['BACKWARD'] = np.sqrt(metrics.mean_squared_error(test_y_tour, pred_y_backward))\n",
    "perf_mat.loc['RMSE']['STEPWISE'] = np.sqrt(metrics.mean_squared_error(test_y_tour, pred_y_stepwise))\n",
    "\n",
    "perf_mat.loc['MAE']['ALL'] = metrics.mean_absolute_error(test_y_tour, pred_y_full)\n",
    "perf_mat.loc['MAE']['SELECTED'] = metrics.mean_absolute_error(test_y_tour, pred_y_selected)\n",
    "perf_mat.loc['MAE']['FORWARD'] = metrics.mean_absolute_error(test_y_tour, pred_y_forward)\n",
    "perf_mat.loc['MAE']['BACKWARD'] = metrics.mean_absolute_error(test_y_tour, pred_y_backward)\n",
    "perf_mat.loc['MAE']['STEPWISE'] = metrics.mean_absolute_error(test_y_tour, pred_y_stepwise)\n",
    "\n",
    "perf_mat.loc['MAPE']['ALL'] = mean_absolute_percentage_error(test_y_tour, pred_y_full)\n",
    "perf_mat.loc['MAPE']['SELECTED'] = mean_absolute_percentage_error(test_y_tour, pred_y_selected)\n",
    "perf_mat.loc['MAPE']['FORWARD'] = mean_absolute_percentage_error(test_y_tour, pred_y_forward)\n",
    "perf_mat.loc['MAPE']['BACKWARD'] = mean_absolute_percentage_error(test_y_tour, pred_y_backward)\n",
    "perf_mat.loc['MAPE']['STEPWISE'] = mean_absolute_percentage_error(test_y_tour, pred_y_stepwise)\n",
    "\n",
    "print(perf_mat)"
   ]
  },
  {
   "cell_type": "markdown",
   "metadata": {},
   "source": [
    "- ① model : 모든 변수를 선택(ALL)\n",
    "- ② model : 모든 경우의 수(SELECTED), 전진(FORWARD), 단계(STEPWISE)\n",
    "    - \"건수, 고객수, 성별\" 변수를 선택\n",
    "- ③ model : 후진(BACKWARD)\n",
    "    - \"건수, 고객수, 성별, 연령대\" 변수를 선택\n",
    "***\n",
    "- MSE : ①<②<③\n",
    "- RMSE : ①<②<③\n",
    "- MAE : ③<①<②\n",
    "- MAPE : ③<①<②\n",
    "\n",
    "### ★ ? model이 더 좋음\n",
    "***\n",
    "- ① model은 생애주기, 연령대 변수가 유의하지 않다"
   ]
  },
  {
   "cell_type": "code",
   "execution_count": null,
   "metadata": {},
   "outputs": [],
   "source": []
  },
  {
   "cell_type": "code",
   "execution_count": null,
   "metadata": {},
   "outputs": [],
   "source": []
  },
  {
   "cell_type": "code",
   "execution_count": null,
   "metadata": {},
   "outputs": [],
   "source": []
  },
  {
   "cell_type": "code",
   "execution_count": null,
   "metadata": {},
   "outputs": [],
   "source": []
  },
  {
   "cell_type": "code",
   "execution_count": null,
   "metadata": {},
   "outputs": [],
   "source": []
  }
 ],
 "metadata": {
  "kernelspec": {
   "display_name": "Python 3",
   "language": "python",
   "name": "python3"
  },
  "language_info": {
   "codemirror_mode": {
    "name": "ipython",
    "version": 3
   },
   "file_extension": ".py",
   "mimetype": "text/x-python",
   "name": "python",
   "nbconvert_exporter": "python",
   "pygments_lexer": "ipython3",
   "version": "3.7.9"
  }
 },
 "nbformat": 4,
 "nbformat_minor": 4
}
