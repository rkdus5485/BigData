{
 "cells": [
  {
   "cell_type": "code",
   "execution_count": 11,
   "metadata": {},
   "outputs": [],
   "source": [
    "import pandas as pd\n",
    "import numpy as np\n",
    "import matplotlib.pyplot as plt\n",
    "import seaborn as sns\n",
    "import scipy as sp\n",
    "from scipy import stats"
   ]
  },
  {
   "cell_type": "code",
   "execution_count": 12,
   "metadata": {},
   "outputs": [],
   "source": [
    "from matplotlib import font_manager, rc\n",
    "fn_name = font_manager.FontProperties(fname='c:/Windows/Fonts/malgun.ttf').get_name()\n",
    "rc('font',family=fn_name)"
   ]
  },
  {
   "cell_type": "code",
   "execution_count": 13,
   "metadata": {},
   "outputs": [],
   "source": [
    "df = pd.read_csv(\"1,2,3월_2.csv\")\n",
    "df2 = pd.read_csv(\"1,2,3월_전북전남.csv\")\n",
    "df['사용지_시도']='대구경북'"
   ]
  },
  {
   "cell_type": "code",
   "execution_count": 14,
   "metadata": {},
   "outputs": [
    {
     "data": {
      "text/html": [
       "<div>\n",
       "<style scoped>\n",
       "    .dataframe tbody tr th:only-of-type {\n",
       "        vertical-align: middle;\n",
       "    }\n",
       "\n",
       "    .dataframe tbody tr th {\n",
       "        vertical-align: top;\n",
       "    }\n",
       "\n",
       "    .dataframe thead th {\n",
       "        text-align: right;\n",
       "    }\n",
       "</style>\n",
       "<table border=\"1\" class=\"dataframe\">\n",
       "  <thead>\n",
       "    <tr style=\"text-align: right;\">\n",
       "      <th></th>\n",
       "      <th>Unnamed: 0</th>\n",
       "      <th>년월</th>\n",
       "      <th>사용지_시도</th>\n",
       "      <th>업종명</th>\n",
       "      <th>연령대</th>\n",
       "      <th>성별</th>\n",
       "      <th>생애주기</th>\n",
       "      <th>고객수</th>\n",
       "      <th>금액</th>\n",
       "      <th>건수</th>\n",
       "    </tr>\n",
       "  </thead>\n",
       "  <tbody>\n",
       "    <tr>\n",
       "      <th>0</th>\n",
       "      <td>1402924</td>\n",
       "      <td>201901</td>\n",
       "      <td>전북</td>\n",
       "      <td>카페</td>\n",
       "      <td>40s</td>\n",
       "      <td>2</td>\n",
       "      <td>3</td>\n",
       "      <td>3</td>\n",
       "      <td>13800</td>\n",
       "      <td>3</td>\n",
       "    </tr>\n",
       "    <tr>\n",
       "      <th>1</th>\n",
       "      <td>1402925</td>\n",
       "      <td>201901</td>\n",
       "      <td>전북</td>\n",
       "      <td>카페</td>\n",
       "      <td>40s</td>\n",
       "      <td>1</td>\n",
       "      <td>3</td>\n",
       "      <td>3</td>\n",
       "      <td>14300</td>\n",
       "      <td>3</td>\n",
       "    </tr>\n",
       "    <tr>\n",
       "      <th>2</th>\n",
       "      <td>1402926</td>\n",
       "      <td>201901</td>\n",
       "      <td>전북</td>\n",
       "      <td>카페</td>\n",
       "      <td>40s</td>\n",
       "      <td>1</td>\n",
       "      <td>3</td>\n",
       "      <td>3</td>\n",
       "      <td>17490</td>\n",
       "      <td>3</td>\n",
       "    </tr>\n",
       "    <tr>\n",
       "      <th>3</th>\n",
       "      <td>1402927</td>\n",
       "      <td>201901</td>\n",
       "      <td>전북</td>\n",
       "      <td>카페</td>\n",
       "      <td>40s</td>\n",
       "      <td>1</td>\n",
       "      <td>3</td>\n",
       "      <td>5</td>\n",
       "      <td>34900</td>\n",
       "      <td>5</td>\n",
       "    </tr>\n",
       "    <tr>\n",
       "      <th>4</th>\n",
       "      <td>1402928</td>\n",
       "      <td>201901</td>\n",
       "      <td>전북</td>\n",
       "      <td>카페</td>\n",
       "      <td>50s</td>\n",
       "      <td>1</td>\n",
       "      <td>4</td>\n",
       "      <td>3</td>\n",
       "      <td>13300</td>\n",
       "      <td>3</td>\n",
       "    </tr>\n",
       "    <tr>\n",
       "      <th>...</th>\n",
       "      <td>...</td>\n",
       "      <td>...</td>\n",
       "      <td>...</td>\n",
       "      <td>...</td>\n",
       "      <td>...</td>\n",
       "      <td>...</td>\n",
       "      <td>...</td>\n",
       "      <td>...</td>\n",
       "      <td>...</td>\n",
       "      <td>...</td>\n",
       "    </tr>\n",
       "    <tr>\n",
       "      <th>186755</th>\n",
       "      <td>24538819</td>\n",
       "      <td>202003</td>\n",
       "      <td>전남</td>\n",
       "      <td>일반 음식점업</td>\n",
       "      <td>60s</td>\n",
       "      <td>2</td>\n",
       "      <td>5</td>\n",
       "      <td>242</td>\n",
       "      <td>10799645</td>\n",
       "      <td>312</td>\n",
       "    </tr>\n",
       "    <tr>\n",
       "      <th>186756</th>\n",
       "      <td>24538820</td>\n",
       "      <td>202003</td>\n",
       "      <td>전남</td>\n",
       "      <td>일반 음식점업</td>\n",
       "      <td>70s</td>\n",
       "      <td>1</td>\n",
       "      <td>5</td>\n",
       "      <td>176</td>\n",
       "      <td>8602400</td>\n",
       "      <td>294</td>\n",
       "    </tr>\n",
       "    <tr>\n",
       "      <th>186757</th>\n",
       "      <td>24538821</td>\n",
       "      <td>202003</td>\n",
       "      <td>전남</td>\n",
       "      <td>일반 음식점업</td>\n",
       "      <td>70s</td>\n",
       "      <td>2</td>\n",
       "      <td>5</td>\n",
       "      <td>39</td>\n",
       "      <td>1431000</td>\n",
       "      <td>46</td>\n",
       "    </tr>\n",
       "    <tr>\n",
       "      <th>186758</th>\n",
       "      <td>24538822</td>\n",
       "      <td>202003</td>\n",
       "      <td>전남</td>\n",
       "      <td>일반 음식점업</td>\n",
       "      <td>50s</td>\n",
       "      <td>1</td>\n",
       "      <td>4</td>\n",
       "      <td>4</td>\n",
       "      <td>75900</td>\n",
       "      <td>7</td>\n",
       "    </tr>\n",
       "    <tr>\n",
       "      <th>186759</th>\n",
       "      <td>24538823</td>\n",
       "      <td>202003</td>\n",
       "      <td>전남</td>\n",
       "      <td>일반 음식점업</td>\n",
       "      <td>60s</td>\n",
       "      <td>1</td>\n",
       "      <td>5</td>\n",
       "      <td>4</td>\n",
       "      <td>195500</td>\n",
       "      <td>5</td>\n",
       "    </tr>\n",
       "  </tbody>\n",
       "</table>\n",
       "<p>186760 rows × 10 columns</p>\n",
       "</div>"
      ],
      "text/plain": [
       "        Unnamed: 0      년월 사용지_시도      업종명  연령대  성별  생애주기  고객수        금액   건수\n",
       "0          1402924  201901     전북       카페  40s   2     3    3     13800    3\n",
       "1          1402925  201901     전북       카페  40s   1     3    3     14300    3\n",
       "2          1402926  201901     전북       카페  40s   1     3    3     17490    3\n",
       "3          1402927  201901     전북       카페  40s   1     3    5     34900    5\n",
       "4          1402928  201901     전북       카페  50s   1     4    3     13300    3\n",
       "...            ...     ...    ...      ...  ...  ..   ...  ...       ...  ...\n",
       "186755    24538819  202003     전남  일반 음식점업  60s   2     5  242  10799645  312\n",
       "186756    24538820  202003     전남  일반 음식점업  70s   1     5  176   8602400  294\n",
       "186757    24538821  202003     전남  일반 음식점업  70s   2     5   39   1431000   46\n",
       "186758    24538822  202003     전남  일반 음식점업  50s   1     4    4     75900    7\n",
       "186759    24538823  202003     전남  일반 음식점업  60s   1     5    4    195500    5\n",
       "\n",
       "[186760 rows x 10 columns]"
      ]
     },
     "execution_count": 14,
     "metadata": {},
     "output_type": "execute_result"
    }
   ],
   "source": [
    "df2"
   ]
  },
  {
   "cell_type": "code",
   "execution_count": 15,
   "metadata": {},
   "outputs": [],
   "source": [
    "df2['사용지_시도']=\"전북전남\""
   ]
  },
  {
   "cell_type": "code",
   "execution_count": 16,
   "metadata": {},
   "outputs": [
    {
     "data": {
      "text/html": [
       "<div>\n",
       "<style scoped>\n",
       "    .dataframe tbody tr th:only-of-type {\n",
       "        vertical-align: middle;\n",
       "    }\n",
       "\n",
       "    .dataframe tbody tr th {\n",
       "        vertical-align: top;\n",
       "    }\n",
       "\n",
       "    .dataframe thead th {\n",
       "        text-align: right;\n",
       "    }\n",
       "</style>\n",
       "<table border=\"1\" class=\"dataframe\">\n",
       "  <thead>\n",
       "    <tr style=\"text-align: right;\">\n",
       "      <th></th>\n",
       "      <th>Unnamed: 0</th>\n",
       "      <th>년월</th>\n",
       "      <th>사용지_시도</th>\n",
       "      <th>업종명</th>\n",
       "      <th>연령대</th>\n",
       "      <th>성별</th>\n",
       "      <th>생애주기</th>\n",
       "      <th>고객수</th>\n",
       "      <th>금액</th>\n",
       "      <th>건수</th>\n",
       "    </tr>\n",
       "  </thead>\n",
       "  <tbody>\n",
       "    <tr>\n",
       "      <th>0</th>\n",
       "      <td>1402924</td>\n",
       "      <td>201901</td>\n",
       "      <td>전북전남</td>\n",
       "      <td>카페</td>\n",
       "      <td>40s</td>\n",
       "      <td>2</td>\n",
       "      <td>3</td>\n",
       "      <td>3</td>\n",
       "      <td>13800</td>\n",
       "      <td>3</td>\n",
       "    </tr>\n",
       "    <tr>\n",
       "      <th>1</th>\n",
       "      <td>1402925</td>\n",
       "      <td>201901</td>\n",
       "      <td>전북전남</td>\n",
       "      <td>카페</td>\n",
       "      <td>40s</td>\n",
       "      <td>1</td>\n",
       "      <td>3</td>\n",
       "      <td>3</td>\n",
       "      <td>14300</td>\n",
       "      <td>3</td>\n",
       "    </tr>\n",
       "    <tr>\n",
       "      <th>2</th>\n",
       "      <td>1402926</td>\n",
       "      <td>201901</td>\n",
       "      <td>전북전남</td>\n",
       "      <td>카페</td>\n",
       "      <td>40s</td>\n",
       "      <td>1</td>\n",
       "      <td>3</td>\n",
       "      <td>3</td>\n",
       "      <td>17490</td>\n",
       "      <td>3</td>\n",
       "    </tr>\n",
       "    <tr>\n",
       "      <th>3</th>\n",
       "      <td>1402927</td>\n",
       "      <td>201901</td>\n",
       "      <td>전북전남</td>\n",
       "      <td>카페</td>\n",
       "      <td>40s</td>\n",
       "      <td>1</td>\n",
       "      <td>3</td>\n",
       "      <td>5</td>\n",
       "      <td>34900</td>\n",
       "      <td>5</td>\n",
       "    </tr>\n",
       "    <tr>\n",
       "      <th>4</th>\n",
       "      <td>1402928</td>\n",
       "      <td>201901</td>\n",
       "      <td>전북전남</td>\n",
       "      <td>카페</td>\n",
       "      <td>50s</td>\n",
       "      <td>1</td>\n",
       "      <td>4</td>\n",
       "      <td>3</td>\n",
       "      <td>13300</td>\n",
       "      <td>3</td>\n",
       "    </tr>\n",
       "    <tr>\n",
       "      <th>...</th>\n",
       "      <td>...</td>\n",
       "      <td>...</td>\n",
       "      <td>...</td>\n",
       "      <td>...</td>\n",
       "      <td>...</td>\n",
       "      <td>...</td>\n",
       "      <td>...</td>\n",
       "      <td>...</td>\n",
       "      <td>...</td>\n",
       "      <td>...</td>\n",
       "    </tr>\n",
       "    <tr>\n",
       "      <th>186755</th>\n",
       "      <td>24538819</td>\n",
       "      <td>202003</td>\n",
       "      <td>전북전남</td>\n",
       "      <td>일반 음식점업</td>\n",
       "      <td>60s</td>\n",
       "      <td>2</td>\n",
       "      <td>5</td>\n",
       "      <td>242</td>\n",
       "      <td>10799645</td>\n",
       "      <td>312</td>\n",
       "    </tr>\n",
       "    <tr>\n",
       "      <th>186756</th>\n",
       "      <td>24538820</td>\n",
       "      <td>202003</td>\n",
       "      <td>전북전남</td>\n",
       "      <td>일반 음식점업</td>\n",
       "      <td>70s</td>\n",
       "      <td>1</td>\n",
       "      <td>5</td>\n",
       "      <td>176</td>\n",
       "      <td>8602400</td>\n",
       "      <td>294</td>\n",
       "    </tr>\n",
       "    <tr>\n",
       "      <th>186757</th>\n",
       "      <td>24538821</td>\n",
       "      <td>202003</td>\n",
       "      <td>전북전남</td>\n",
       "      <td>일반 음식점업</td>\n",
       "      <td>70s</td>\n",
       "      <td>2</td>\n",
       "      <td>5</td>\n",
       "      <td>39</td>\n",
       "      <td>1431000</td>\n",
       "      <td>46</td>\n",
       "    </tr>\n",
       "    <tr>\n",
       "      <th>186758</th>\n",
       "      <td>24538822</td>\n",
       "      <td>202003</td>\n",
       "      <td>전북전남</td>\n",
       "      <td>일반 음식점업</td>\n",
       "      <td>50s</td>\n",
       "      <td>1</td>\n",
       "      <td>4</td>\n",
       "      <td>4</td>\n",
       "      <td>75900</td>\n",
       "      <td>7</td>\n",
       "    </tr>\n",
       "    <tr>\n",
       "      <th>186759</th>\n",
       "      <td>24538823</td>\n",
       "      <td>202003</td>\n",
       "      <td>전북전남</td>\n",
       "      <td>일반 음식점업</td>\n",
       "      <td>60s</td>\n",
       "      <td>1</td>\n",
       "      <td>5</td>\n",
       "      <td>4</td>\n",
       "      <td>195500</td>\n",
       "      <td>5</td>\n",
       "    </tr>\n",
       "  </tbody>\n",
       "</table>\n",
       "<p>186760 rows × 10 columns</p>\n",
       "</div>"
      ],
      "text/plain": [
       "        Unnamed: 0      년월 사용지_시도      업종명  연령대  성별  생애주기  고객수        금액   건수\n",
       "0          1402924  201901   전북전남       카페  40s   2     3    3     13800    3\n",
       "1          1402925  201901   전북전남       카페  40s   1     3    3     14300    3\n",
       "2          1402926  201901   전북전남       카페  40s   1     3    3     17490    3\n",
       "3          1402927  201901   전북전남       카페  40s   1     3    5     34900    5\n",
       "4          1402928  201901   전북전남       카페  50s   1     4    3     13300    3\n",
       "...            ...     ...    ...      ...  ...  ..   ...  ...       ...  ...\n",
       "186755    24538819  202003   전북전남  일반 음식점업  60s   2     5  242  10799645  312\n",
       "186756    24538820  202003   전북전남  일반 음식점업  70s   1     5  176   8602400  294\n",
       "186757    24538821  202003   전북전남  일반 음식점업  70s   2     5   39   1431000   46\n",
       "186758    24538822  202003   전북전남  일반 음식점업  50s   1     4    4     75900    7\n",
       "186759    24538823  202003   전북전남  일반 음식점업  60s   1     5    4    195500    5\n",
       "\n",
       "[186760 rows x 10 columns]"
      ]
     },
     "execution_count": 16,
     "metadata": {},
     "output_type": "execute_result"
    }
   ],
   "source": [
    "df2"
   ]
  },
  {
   "cell_type": "code",
   "execution_count": 17,
   "metadata": {},
   "outputs": [],
   "source": [
    "df_cafe=df[df['업종명']=='카페']\n",
    "df_food=df[df['업종명']=='일반 음식점업']\n",
    "df_tour=df[df['업종명']=='관광업']\n",
    "df_sport=df[df['업종명']=='스포츠 및 레크레이션 용품 임대업']\n",
    "df_dis=df[df['업종명']=='전시 및 행사 대행업']\n",
    "df2_cafe=df2[df2['업종명']=='카페']\n",
    "df2_food=df2[df2['업종명']=='일반 음식점업']\n",
    "df2_tour=df2[df2['업종명']=='관광업']\n",
    "df2_sport=df2[df2['업종명']=='스포츠 및 레크레이션 용품 임대업']\n",
    "df2_dis=df2[df2['업종명']=='전시 및 행사 대행업']"
   ]
  },
  {
   "cell_type": "markdown",
   "metadata": {},
   "source": [
    "# 카페"
   ]
  },
  {
   "cell_type": "code",
   "execution_count": 18,
   "metadata": {},
   "outputs": [],
   "source": [
    "df_cafe_1901=df_cafe[(df_cafe['년월']==201901)]\n",
    "df_cafe_1901\n",
    "df_cafe_1901_금액=df_cafe_1901['금액']\n",
    "df_cafe_sum_1901=sum(df_cafe_1901_금액)\n",
    "df_cafe_1902=df_cafe[(df_cafe['년월']==201902)]\n",
    "df_cafe_1902\n",
    "df_cafe_1902_금액=df_cafe_1902['금액']\n",
    "df_cafe_sum_1902=sum(df_cafe_1902_금액)\n",
    "df_cafe_1903=df_cafe[(df_cafe['년월']==201903)]\n",
    "df_cafe_1903\n",
    "df_cafe_1903_금액=df_cafe_1903['금액']\n",
    "df_cafe_sum_1903=sum(df_cafe_1903_금액)\n",
    "df_cafe_2001=df_cafe[(df_cafe['년월']==202001)]\n",
    "df_cafe_2001\n",
    "df_cafe_2001_금액=df_cafe_2001['금액']\n",
    "df_cafe_sum_2001=sum(df_cafe_2001_금액)\n",
    "df_cafe_2002=df_cafe[(df_cafe['년월']==202002)]\n",
    "df_cafe_2002\n",
    "df_cafe_2002_금액=df_cafe_2002['금액']\n",
    "df_cafe_sum_2002=sum(df_cafe_2002_금액)\n",
    "df_cafe_2003=df_cafe[(df_cafe['년월']==202003)]\n",
    "df_cafe_2003\n",
    "df_cafe_2003_금액=df_cafe_2003['금액']\n",
    "df_cafe_sum_2003=sum(df_cafe_2003_금액)\n",
    "df2_cafe_1901=df_cafe[(df_cafe['년월']==201901)]\n",
    "df2_cafe_1901\n",
    "df2_cafe_1901_금액=df_cafe_1901['금액']\n",
    "df2_cafe_sum_1901=sum(df_cafe_1901_금액)\n",
    "df2_cafe_1902=df_cafe[(df_cafe['년월']==201902)]\n",
    "df2_cafe_1902\n",
    "df2_cafe_1902_금액=df_cafe_1902['금액']\n",
    "df2_cafe_sum_1902=sum(df_cafe_1902_금액)\n",
    "df2_cafe_1903=df2_cafe[(df2_cafe['년월']==201903)]\n",
    "df2_cafe_1903\n",
    "df2_cafe_1903_금액=df2_cafe_1903['금액']\n",
    "df2_cafe_sum_1903=sum(df2_cafe_1903_금액)\n",
    "df2_cafe_2001=df2_cafe[(df2_cafe['년월']==202001)]\n",
    "df2_cafe_2001\n",
    "df2_cafe_2001_금액=df2_cafe_2001['금액']\n",
    "df2_cafe_sum_2001=sum(df2_cafe_2001_금액)\n",
    "df2_cafe_2002=df2_cafe[(df2_cafe['년월']==202002)]\n",
    "df2_cafe_2002\n",
    "df2_cafe_2002_금액=df2_cafe_2002['금액']\n",
    "df2_cafe_sum_2002=sum(df2_cafe_2002_금액)\n",
    "df2_cafe_2003=df2_cafe[(df2_cafe['년월']==202003)]\n",
    "df2_cafe_2003\n",
    "df2_cafe_2003_금액=df2_cafe_2003['금액']\n",
    "df2_cafe_sum_2003=sum(df2_cafe_2003_금액)"
   ]
  },
  {
   "cell_type": "code",
   "execution_count": 19,
   "metadata": {},
   "outputs": [
    {
     "data": {
      "image/png": "[encoded data removed]",
      "text/plain": [
       "<Figure size 432x288 with 1 Axes>"
      ]
     },
     "metadata": {
      "needs_background": "light"
     },
     "output_type": "display_data"
    }
   ],
   "source": [
    "df_cafe_dggb = pd.DataFrame({'년월' : [201901,201902,201903,202001,202002,202003],\n",
    "                             '금액' : [df_cafe_sum_1901,df_cafe_sum_1902,df_cafe_sum_1903,df_cafe_sum_2001,df_cafe_sum_2002,df_cafe_sum_2003]})\n",
    "df_cafe_jbjn = pd.DataFrame({'년월' : [201901,201902,201903,202001,202002,202003],\n",
    "                             '금액' : [df2_cafe_sum_1901,df2_cafe_sum_1902,df2_cafe_sum_1903,df2_cafe_sum_2001,df2_cafe_sum_2002,df2_cafe_sum_2003]})\n",
    "\n",
    "label = ['19.01', '19.02', '19.03', '20.01','20.02','20.03']\n",
    "index = np.arange(len(label))\n",
    "\n",
    "bar_width = 0.3\n",
    "alpha = 0.5\n",
    "p1 = plt.bar(index, df_cafe_dggb['금액'], \n",
    "\n",
    "             bar_width, \n",
    "\n",
    "             color='b', \n",
    "\n",
    "             alpha=alpha,\n",
    "\n",
    "             label='대구경북')\n",
    "\n",
    "p2 = plt.bar(index + bar_width, df_cafe_jbjn['금액'], \n",
    "\n",
    "             bar_width, \n",
    "\n",
    "             color='r', \n",
    "\n",
    "             alpha=alpha,\n",
    "\n",
    "             label='전북전남')\n",
    "\n",
    "\n",
    "plt.title('카페', fontsize=20)\n",
    "plt.ylabel('금액', fontsize=12)\n",
    "plt.xlabel('년월', fontsize=12)\n",
    "plt.xticks(index, label, fontsize=11)\n",
    "plt.legend((p1[0], p2[0]), ('대구경북', '전북전남'), fontsize=11)\n",
    "plt.show()"
   ]
  },
  {
   "cell_type": "code",
   "execution_count": 20,
   "metadata": {},
   "outputs": [
    {
     "data": {
      "image/png": "[encoded data removed]",
      "text/plain": [
       "<Figure size 432x288 with 1 Axes>"
      ]
     },
     "metadata": {
      "needs_background": "light"
     },
     "output_type": "display_data"
    }
   ],
   "source": [
    "df3_cafe=pd.concat([df_cafe, df2_cafe])\n",
    "df3_cafe['Log_금액']=np.log10(df3_cafe['금액'])\n",
    "cafe=sns.boxplot(x='년월',y='Log_금액',hue='사용지_시도',data=df3_cafe)\n",
    "cafe.set_title('전북전남,대구경북 카페 매출비교')\n",
    "plt.show()"
   ]
  },
  {
   "cell_type": "markdown",
   "metadata": {},
   "source": [
    "# 일반 음식점업"
   ]
  },
  {
   "cell_type": "code",
   "execution_count": 21,
   "metadata": {},
   "outputs": [],
   "source": [
    "df_food_1901=df_food[(df_food['년월']==201901)]\n",
    "df_food_1901\n",
    "df_food_1901_금액=df_food_1901['금액']\n",
    "df_food_sum_1901=sum(df_food_1901_금액)\n",
    "df_food_1902=df_food[(df_food['년월']==201902)]\n",
    "df_food_1902\n",
    "df_food_1902_금액=df_food_1902['금액']\n",
    "df_food_sum_1902=sum(df_food_1902_금액)\n",
    "df_food_1903=df_food[(df_food['년월']==201903)]\n",
    "df_food_1903\n",
    "df_food_1903_금액=df_food_1903['금액']\n",
    "df_food_sum_1903=sum(df_food_1903_금액)\n",
    "df_food_2001=df_food[(df_food['년월']==202001)]\n",
    "df_food_2001\n",
    "df_food_2001_금액=df_food_2001['금액']\n",
    "df_food_sum_2001=sum(df_food_2001_금액)\n",
    "df_food_2002=df_food[(df_food['년월']==202002)]\n",
    "df_food_2002\n",
    "df_food_2002_금액=df_food_2002['금액']\n",
    "df_food_sum_2002=sum(df_food_2002_금액)\n",
    "df_food_2003=df_food[(df_food['년월']==202003)]\n",
    "df_food_2003\n",
    "df_food_2003_금액=df_food_2003['금액']\n",
    "df_food_sum_2003=sum(df_food_2003_금액)\n",
    "df2_food_1901=df2_food[(df2_food['년월']==201901)]\n",
    "df2_food_1901\n",
    "df2_food_1901_금액=df2_food_1901['금액']\n",
    "df2_food_sum_1901=sum(df2_food_1901_금액)\n",
    "df2_food_1902=df2_food[(df2_food['년월']==201902)]\n",
    "df2_food_1902\n",
    "df2_food_1902_금액=df2_food_1902['금액']\n",
    "df2_food_sum_1902=sum(df2_food_1902_금액)\n",
    "df2_food_1903=df2_food[(df2_food['년월']==201903)]\n",
    "df2_food_1903\n",
    "df2_food_1903_금액=df2_food_1903['금액']\n",
    "df2_food_sum_1903=sum(df2_food_1903_금액)\n",
    "df2_food_2001=df2_food[(df2_food['년월']==202001)]\n",
    "df2_food_2001\n",
    "df2_food_2001_금액=df2_food_2001['금액']\n",
    "df2_food_sum_2001=sum(df2_food_2001_금액)\n",
    "df2_food_2002=df2_food[(df2_food['년월']==202002)]\n",
    "df2_food_2002\n",
    "df2_food_2002_금액=df2_food_2002['금액']\n",
    "df2_food_sum_2002=sum(df2_food_2002_금액)\n",
    "df2_food_2003=df2_food[(df2_food['년월']==202003)]\n",
    "df2_food_2003\n",
    "df2_food_2003_금액=df2_food_2003['금액']\n",
    "df2_food_sum_2003=sum(df2_food_2003_금액)"
   ]
  },
  {
   "cell_type": "code",
   "execution_count": 22,
   "metadata": {},
   "outputs": [
    {
     "data": {
      "image/png": "[encoded data removed]",
      "text/plain": [
       "<Figure size 432x288 with 1 Axes>"
      ]
     },
     "metadata": {
      "needs_background": "light"
     },
     "output_type": "display_data"
    }
   ],
   "source": [
    "df_food_dggb = pd.DataFrame({'년월' : [201901,201902,201903,202001,202002,202003],\n",
    "                             '금액' : [df_food_sum_1901,df_food_sum_1902,df_food_sum_1903,df_food_sum_2001,df_food_sum_2002,df_food_sum_2003]})\n",
    "df_food_jbjn = pd.DataFrame({'년월' : [201901,201902,201903,202001,202002,202003],\n",
    "                             '금액' : [df2_food_sum_1901,df2_food_sum_1902,df2_food_sum_1903,df2_food_sum_2001,df2_food_sum_2002,df2_food_sum_2003]})\n",
    "\n",
    "label = ['19.01', '19.02', '19.03', '20.01','20.02','20.03']\n",
    "index = np.arange(len(label))\n",
    "\n",
    "bar_width = 0.3\n",
    "alpha = 0.5\n",
    "p1 = plt.bar(index, df_food_dggb['금액'], \n",
    "\n",
    "             bar_width, \n",
    "\n",
    "             color='b', \n",
    "\n",
    "             alpha=alpha,\n",
    "\n",
    "             label='대구경북')\n",
    "\n",
    "p2 = plt.bar(index + bar_width, df_food_jbjn['금액'], \n",
    "\n",
    "             bar_width, \n",
    "\n",
    "             color='r', \n",
    "\n",
    "             alpha=alpha,\n",
    "\n",
    "             label='전북전남')\n",
    "\n",
    "\n",
    "plt.title('일반 음식점업', fontsize=20)\n",
    "plt.ylabel('금액', fontsize=12)\n",
    "plt.xlabel('년월', fontsize=12)\n",
    "plt.xticks(index, label, fontsize=11)\n",
    "plt.legend((p1[0], p2[0]), ('대구경북', '전북전남'), fontsize=11)\n",
    "plt.show()"
   ]
  },
  {
   "cell_type": "code",
   "execution_count": 23,
   "metadata": {},
   "outputs": [
    {
     "data": {
      "image/png": "[encoded data removed]",
      "text/plain": [
       "<Figure size 432x288 with 1 Axes>"
      ]
     },
     "metadata": {
      "needs_background": "light"
     },
     "output_type": "display_data"
    }
   ],
   "source": [
    "df3_food=pd.concat([df_food, df2_food])\n",
    "df3_food['Log_금액']=np.log10(df3_food['금액'])\n",
    "food=sns.boxplot(x='년월',y='Log_금액',hue='사용지_시도',data=df3_food)\n",
    "food.set_title('전북전남,대구경북 일반 음식점업 매출비교')\n",
    "plt.show()"
   ]
  },
  {
   "cell_type": "markdown",
   "metadata": {},
   "source": [
    "# 관광업"
   ]
  },
  {
   "cell_type": "code",
   "execution_count": 24,
   "metadata": {},
   "outputs": [],
   "source": [
    "df_tour_1901=df_tour[(df_tour['년월']==201901)]\n",
    "df_tour_1901\n",
    "df_tour_1901_금액=df_tour_1901['금액']\n",
    "df_tour_sum_1901=sum(df_tour_1901_금액)\n",
    "df_tour_1902=df_tour[(df_tour['년월']==201902)]\n",
    "df_tour_1902\n",
    "df_tour_1902_금액=df_tour_1902['금액']\n",
    "df_tour_sum_1902=sum(df_tour_1902_금액)\n",
    "df_tour_1903=df_tour[(df_tour['년월']==201903)]\n",
    "df_tour_1903\n",
    "df_tour_1903_금액=df_tour_1903['금액']\n",
    "df_tour_sum_1903=sum(df_tour_1903_금액)\n",
    "df_tour_2001=df_tour[(df_tour['년월']==202001)]\n",
    "df_tour_2001\n",
    "df_tour_2001_금액=df_tour_2001['금액']\n",
    "df_tour_sum_2001=sum(df_tour_2001_금액)\n",
    "df_tour_2002=df_tour[(df_tour['년월']==202002)]\n",
    "df_tour_2002\n",
    "df_tour_2002_금액=df_tour_2002['금액']\n",
    "df_tour_sum_2002=sum(df_tour_2002_금액)\n",
    "df_tour_2003=df_tour[(df_tour['년월']==202003)]\n",
    "df_tour_2003\n",
    "df_tour_2003_금액=df_tour_2003['금액']\n",
    "df_tour_sum_2003=sum(df_tour_2003_금액)\n",
    "df2_tour_1901=df2_tour[(df2_tour['년월']==201901)]\n",
    "df2_tour_1901\n",
    "df2_tour_1901_금액=df2_tour_1901['금액']\n",
    "df2_tour_sum_1901=sum(df2_tour_1901_금액)\n",
    "df2_tour_1902=df2_tour[(df2_tour['년월']==201902)]\n",
    "df2_tour_1902\n",
    "df2_tour_1902_금액=df2_tour_1902['금액']\n",
    "df2_tour_sum_1902=sum(df2_tour_1902_금액)\n",
    "df2_tour_1903=df2_tour[(df2_tour['년월']==201903)]\n",
    "df2_tour_1903\n",
    "df2_tour_1903_금액=df2_tour_1903['금액']\n",
    "df2_tour_sum_1903=sum(df2_tour_1903_금액)\n",
    "df2_tour_2001=df2_tour[(df2_tour['년월']==202001)]\n",
    "df2_tour_2001\n",
    "df2_tour_2001_금액=df2_tour_2001['금액']\n",
    "df2_tour_sum_2001=sum(df2_tour_2001_금액)\n",
    "df2_tour_2002=df2_tour[(df2_tour['년월']==202002)]\n",
    "df2_tour_2002\n",
    "df2_tour_2002_금액=df2_tour_2002['금액']\n",
    "df2_tour_sum_2002=sum(df2_tour_2002_금액)\n",
    "df2_tour_2003=df2_tour[(df2_tour['년월']==202003)]\n",
    "df2_tour_2003\n",
    "df2_tour_2003_금액=df2_tour_2003['금액']\n",
    "df2_tour_sum_2003=sum(df2_tour_2003_금액)"
   ]
  },
  {
   "cell_type": "code",
   "execution_count": 25,
   "metadata": {},
   "outputs": [
    {
     "data": {
      "image/png": "[encoded data removed]",
      "text/plain": [
       "<Figure size 432x288 with 1 Axes>"
      ]
     },
     "metadata": {
      "needs_background": "light"
     },
     "output_type": "display_data"
    }
   ],
   "source": [
    "df_tour_dggb = pd.DataFrame({'년월' : [201901,201902,201903,202001,202002,202003],\n",
    "                             '금액' : [df_tour_sum_1901,df_tour_sum_1902,df_tour_sum_1903,df_tour_sum_2001,df_tour_sum_2002,df_tour_sum_2003]})\n",
    "df_tour_jbjn = pd.DataFrame({'년월' : [201901,201902,201903,202001,202002,202003],\n",
    "                             '금액' : [df2_tour_sum_1901,df2_tour_sum_1902,df2_tour_sum_1903,df2_tour_sum_2001,df2_tour_sum_2002,df2_tour_sum_2003]})\n",
    "\n",
    "label = ['19.01', '19.02', '19.03', '20.01','20.02','20.03']\n",
    "index = np.arange(len(label))\n",
    "\n",
    "bar_width = 0.3\n",
    "alpha = 0.5\n",
    "p1 = plt.bar(index, df_tour_dggb['금액'], \n",
    "\n",
    "             bar_width, \n",
    "\n",
    "             color='b', \n",
    "\n",
    "             alpha=alpha,\n",
    "\n",
    "             label='대구경북')\n",
    "\n",
    "p2 = plt.bar(index + bar_width, df_tour_jbjn['금액'], \n",
    "\n",
    "             bar_width, \n",
    "\n",
    "             color='r', \n",
    "\n",
    "             alpha=alpha,\n",
    "\n",
    "             label='전북전남')\n",
    "\n",
    "\n",
    "plt.title('관광업', fontsize=20)\n",
    "plt.ylabel('금액', fontsize=12)\n",
    "plt.xlabel('년월', fontsize=12)\n",
    "plt.xticks(index, label, fontsize=11)\n",
    "plt.legend((p1[0], p2[0]), ('대구경북', '전북전남'), fontsize=11)\n",
    "plt.show()"
   ]
  },
  {
   "cell_type": "code",
   "execution_count": 26,
   "metadata": {},
   "outputs": [
    {
     "data": {
      "image/png": "[encoded data removed]",
      "text/plain": [
       "<Figure size 432x288 with 1 Axes>"
      ]
     },
     "metadata": {
      "needs_background": "light"
     },
     "output_type": "display_data"
    }
   ],
   "source": [
    "df3_tour=pd.concat([df_tour, df2_tour])\n",
    "df3_tour['Log_금액']=np.log10(df3_tour['금액'])\n",
    "tour=sns.boxplot(x='년월',y='Log_금액',hue='사용지_시도',data=df3_tour)\n",
    "tour.set_title('전북전남,대구경북 관광업 매출비교')\n",
    "plt.show()"
   ]
  },
  {
   "cell_type": "markdown",
   "metadata": {},
   "source": [
    "# 스포츠 및 레크레이션 용품 임대업"
   ]
  },
  {
   "cell_type": "code",
   "execution_count": 27,
   "metadata": {},
   "outputs": [],
   "source": [
    "df_sport_1901=df_sport[(df_sport['년월']==201901)]\n",
    "df_sport_1901\n",
    "df_sport_1901_금액=df_sport_1901['금액']\n",
    "df_sport_sum_1901=sum(df_sport_1901_금액)\n",
    "df_sport_1902=df_sport[(df_sport['년월']==201902)]\n",
    "df_sport_1902\n",
    "df_sport_1902_금액=df_sport_1902['금액']\n",
    "df_sport_sum_1902=sum(df_sport_1902_금액)\n",
    "df_sport_1903=df_sport[(df_sport['년월']==201903)]\n",
    "df_sport_1903\n",
    "df_sport_1903_금액=df_sport_1903['금액']\n",
    "df_sport_sum_1903=sum(df_sport_1903_금액)\n",
    "df_sport_2001=df_sport[(df_sport['년월']==202001)]\n",
    "df_sport_2001\n",
    "df_sport_2001_금액=df_sport_2001['금액']\n",
    "df_sport_sum_2001=sum(df_sport_2001_금액)\n",
    "df_sport_2002=df_sport[(df_sport['년월']==202002)]\n",
    "df_sport_2002\n",
    "df_sport_2002_금액=df_sport_2002['금액']\n",
    "df_sport_sum_2002=sum(df_sport_2002_금액)\n",
    "df_sport_2003=df_sport[(df_sport['년월']==202003)]\n",
    "df_sport_2003\n",
    "df_sport_2003_금액=df_sport_2003['금액']\n",
    "df_sport_sum_2003=sum(df_sport_2003_금액)\n",
    "df2_sport_1901=df2_sport[(df2_sport['년월']==201901)]\n",
    "df2_sport_1901\n",
    "df2_sport_1901_금액=df2_sport_1901['금액']\n",
    "df2_sport_sum_1901=sum(df2_sport_1901_금액)\n",
    "df2_sport_1902=df2_sport[(df2_sport['년월']==201902)]\n",
    "df2_sport_1902\n",
    "df2_sport_1902_금액=df2_sport_1902['금액']\n",
    "df2_sport_sum_1902=sum(df2_sport_1902_금액)\n",
    "df2_sport_1903=df2_sport[(df2_sport['년월']==201903)]\n",
    "df2_sport_1903\n",
    "df2_sport_1903_금액=df2_sport_1903['금액']\n",
    "df2_sport_sum_1903=sum(df2_sport_1903_금액)\n",
    "df2_sport_2001=df2_sport[(df2_sport['년월']==202001)]\n",
    "df2_sport_2001\n",
    "df2_sport_2001_금액=df2_sport_2001['금액']\n",
    "df2_sport_sum_2001=sum(df2_sport_2001_금액)\n",
    "df2_sport_2002=df2_sport[(df2_sport['년월']==202002)]\n",
    "df2_sport_2002\n",
    "df2_sport_2002_금액=df2_sport_2002['금액']\n",
    "df2_sport_sum_2002=sum(df2_sport_2002_금액)\n",
    "df2_sport_2003=df2_sport[(df2_sport['년월']==202003)]\n",
    "df2_sport_2003\n",
    "df2_sport_2003_금액=df2_sport_2003['금액']\n",
    "df2_sport_sum_2003=sum(df2_sport_2003_금액)"
   ]
  },
  {
   "cell_type": "code",
   "execution_count": 28,
   "metadata": {},
   "outputs": [
    {
     "data": {
      "image/png": "[encoded data removed]",
      "text/plain": [
       "<Figure size 432x288 with 1 Axes>"
      ]
     },
     "metadata": {
      "needs_background": "light"
     },
     "output_type": "display_data"
    }
   ],
   "source": [
    "df_sport_dggb = pd.DataFrame({'년월' : [201901,201902,201903,202001,202002,202003],\n",
    "                             '금액' : [df_sport_sum_1901,df_sport_sum_1902,df_sport_sum_1903,df_sport_sum_2001,df_sport_sum_2002,df_sport_sum_2003]})\n",
    "df_sport_jbjn = pd.DataFrame({'년월' : [201901,201902,201903,202001,202002,202003],\n",
    "                             '금액' : [df2_sport_sum_1901,df2_sport_sum_1902,df2_sport_sum_1903,df2_sport_sum_2001,df2_sport_sum_2002,df2_sport_sum_2003]})\n",
    "\n",
    "label = ['19.01', '19.02', '19.03', '20.01','20.02','20.03']\n",
    "index = np.arange(len(label))\n",
    "\n",
    "bar_width = 0.3\n",
    "alpha = 0.5\n",
    "p1 = plt.bar(index, df_sport_dggb['금액'], \n",
    "\n",
    "             bar_width, \n",
    "\n",
    "             color='b', \n",
    "\n",
    "             alpha=alpha,\n",
    "\n",
    "             label='대구경북')\n",
    "\n",
    "p2 = plt.bar(index + bar_width, df_sport_jbjn['금액'], \n",
    "\n",
    "             bar_width, \n",
    "\n",
    "             color='r', \n",
    "\n",
    "             alpha=alpha,\n",
    "\n",
    "             label='전북전남')\n",
    "\n",
    "\n",
    "plt.title('스포츠업', fontsize=20)\n",
    "plt.ylabel('금액', fontsize=12)\n",
    "plt.xlabel('년월', fontsize=12)\n",
    "plt.xticks(index, label, fontsize=11)\n",
    "plt.legend((p1[0], p2[0]), ('대구경북', '전북전남'), fontsize=11)\n",
    "plt.show()"
   ]
  },
  {
   "cell_type": "code",
   "execution_count": 29,
   "metadata": {},
   "outputs": [
    {
     "data": {
      "image/png": "[encoded data removed]",
      "text/plain": [
       "<Figure size 432x288 with 1 Axes>"
      ]
     },
     "metadata": {
      "needs_background": "light"
     },
     "output_type": "display_data"
    }
   ],
   "source": [
    "df3_sport=pd.concat([df_sport, df2_sport])\n",
    "df3_sport['Log_금액']=np.log10(df3_sport['금액'])\n",
    "sport=sns.boxplot(x='년월',y='Log_금액',hue='사용지_시도',data=df3_tour)\n",
    "sport.set_title('전북전남,대구경북 스포츠업 매출비교')\n",
    "plt.show()"
   ]
  },
  {
   "cell_type": "markdown",
   "metadata": {},
   "source": [
    "# 전시 및 행사 대행업"
   ]
  },
  {
   "cell_type": "code",
   "execution_count": 30,
   "metadata": {},
   "outputs": [],
   "source": [
    "df_dis_1901=df_dis[(df_dis['년월']==201901)]\n",
    "df_dis_1901\n",
    "df_dis_1901_금액=df_dis_1901['금액']\n",
    "df_dis_sum_1901=sum(df_dis_1901_금액)\n",
    "df_dis_1902=df_dis[(df_dis['년월']==201902)]\n",
    "df_dis_1902\n",
    "df_dis_1902_금액=df_dis_1902['금액']\n",
    "df_dis_sum_1902=sum(df_dis_1902_금액)\n",
    "df_dis_1903=df_dis[(df_dis['년월']==201903)]\n",
    "df_dis_1903\n",
    "df_dis_1903_금액=df_dis_1903['금액']\n",
    "df_dis_sum_1903=sum(df_dis_1903_금액)\n",
    "df_dis_2001=df_dis[(df_dis['년월']==202001)]\n",
    "df_dis_2001\n",
    "df_dis_2001_금액=df_dis_2001['금액']\n",
    "df_dis_sum_2001=sum(df_dis_2001_금액)\n",
    "df_dis_2002=df_dis[(df_dis['년월']==202002)]\n",
    "df_dis_2002\n",
    "df_dis_2002_금액=df_dis_2002['금액']\n",
    "df_dis_sum_2002=sum(df_dis_2002_금액)\n",
    "df_dis_2003=df_dis[(df_dis['년월']==202003)]\n",
    "df_dis_2003\n",
    "df_dis_2003_금액=df_dis_2003['금액']\n",
    "df_dis_sum_2003=sum(df_dis_2003_금액)\n",
    "df2_dis_1901=df2_dis[(df2_dis['년월']==201901)]\n",
    "df2_dis_1901\n",
    "df2_dis_1901_금액=df2_dis_1901['금액']\n",
    "df2_dis_sum_1901=sum(df2_dis_1901_금액)\n",
    "df2_dis_1902=df2_dis[(df2_dis['년월']==201902)]\n",
    "df2_dis_1902\n",
    "df2_dis_1902_금액=df2_dis_1902['금액']\n",
    "df2_dis_sum_1902=sum(df2_dis_1902_금액)\n",
    "df2_dis_1903=df2_dis[(df2_dis['년월']==201903)]\n",
    "df2_dis_1903\n",
    "df2_dis_1903_금액=df2_dis_1903['금액']\n",
    "df2_dis_sum_1903=sum(df2_dis_1903_금액)\n",
    "df2_dis_2001=df2_dis[(df2_dis['년월']==202001)]\n",
    "df2_dis_2001\n",
    "df2_dis_2001_금액=df2_dis_2001['금액']\n",
    "df2_dis_sum_2001=sum(df2_dis_2001_금액)\n",
    "df2_dis_2002=df2_dis[(df2_dis['년월']==202002)]\n",
    "df2_dis_2002\n",
    "df2_dis_2002_금액=df2_dis_2002['금액']\n",
    "df2_dis_sum_2002=sum(df2_dis_2002_금액)\n",
    "df2_dis_2003=df2_dis[(df2_dis['년월']==202003)]\n",
    "df2_dis_2003\n",
    "df2_dis_2003_금액=df2_dis_2003['금액']\n",
    "df2_dis_sum_2003=sum(df2_dis_2003_금액)"
   ]
  },
  {
   "cell_type": "code",
   "execution_count": 31,
   "metadata": {},
   "outputs": [
    {
     "data": {
      "image/png": "[encoded data removed]",
      "text/plain": [
       "<Figure size 432x288 with 1 Axes>"
      ]
     },
     "metadata": {
      "needs_background": "light"
     },
     "output_type": "display_data"
    }
   ],
   "source": [
    "df_dis_dggb = pd.DataFrame({'년월' : [201901,201902,201903,202001,202002,202003],\n",
    "                             '금액' : [df_dis_sum_1901,df_dis_sum_1902,df_dis_sum_1903,df_dis_sum_2001,df_dis_sum_2002,df_dis_sum_2003]})\n",
    "df_dis_jbjn = pd.DataFrame({'년월' : [201901,201902,201903,202001,202002,202003],\n",
    "                             '금액' : [df2_dis_sum_1901,df2_dis_sum_1902,df2_dis_sum_1903,df2_dis_sum_2001,df2_dis_sum_2002,df2_dis_sum_2003]})\n",
    "\n",
    "label = ['19.01', '19.02', '19.03', '20.01','20.02','20.03']\n",
    "index = np.arange(len(label))\n",
    "\n",
    "bar_width = 0.3\n",
    "alpha = 0.5\n",
    "p1 = plt.bar(index, df_dis_dggb['금액'], \n",
    "\n",
    "             bar_width, \n",
    "\n",
    "             color='b', \n",
    "\n",
    "             alpha=alpha,\n",
    "\n",
    "             label='대구경북')\n",
    "\n",
    "p2 = plt.bar(index + bar_width, df_dis_jbjn['금액'], \n",
    "\n",
    "             bar_width, \n",
    "\n",
    "             color='r', \n",
    "\n",
    "             alpha=alpha,\n",
    "\n",
    "             label='전북전남')\n",
    "\n",
    "\n",
    "plt.title('전시 및 행사 대행업', fontsize=20)\n",
    "plt.ylabel('금액', fontsize=12)\n",
    "plt.xlabel('년월', fontsize=12)\n",
    "plt.xticks(index, label, fontsize=11)\n",
    "plt.legend((p1[0], p2[0]), ('대구경북', '전북전남'), fontsize=11)\n",
    "plt.show()"
   ]
  },
  {
   "cell_type": "code",
   "execution_count": 32,
   "metadata": {},
   "outputs": [
    {
     "data": {
      "image/png": "[encoded data removed]",
      "text/plain": [
       "<Figure size 432x288 with 1 Axes>"
      ]
     },
     "metadata": {
      "needs_background": "light"
     },
     "output_type": "display_data"
    }
   ],
   "source": [
    "df3_dis=pd.concat([df_dis, df2_dis])\n",
    "df3_dis['Log_금액']=np.log10(df3_dis['금액'])\n",
    "dis=sns.boxplot(x='년월',y='Log_금액',hue='사용지_시도',data=df3_dis)\n",
    "dis.set_title('전북전남,대구경북 전시 및 행사 대행업 매출비교')\n",
    "plt.show()"
   ]
  },
  {
   "cell_type": "code",
   "execution_count": null,
   "metadata": {},
   "outputs": [],
   "source": []
  },
  {
   "cell_type": "code",
   "execution_count": null,
   "metadata": {},
   "outputs": [],
   "source": []
  },
  {
   "cell_type": "code",
   "execution_count": null,
   "metadata": {},
   "outputs": [],
   "source": []
  },
  {
   "cell_type": "code",
   "execution_count": null,
   "metadata": {},
   "outputs": [],
   "source": []
  },
  {
   "cell_type": "code",
   "execution_count": null,
   "metadata": {},
   "outputs": [],
   "source": []
  },
  {
   "cell_type": "code",
   "execution_count": null,
   "metadata": {},
   "outputs": [],
   "source": []
  },
  {
   "cell_type": "code",
   "execution_count": null,
   "metadata": {},
   "outputs": [],
   "source": []
  },
  {
   "cell_type": "code",
   "execution_count": null,
   "metadata": {},
   "outputs": [],
   "source": []
  },
  {
   "cell_type": "code",
   "execution_count": null,
   "metadata": {},
   "outputs": [],
   "source": []
  },
  {
   "cell_type": "code",
   "execution_count": null,
   "metadata": {},
   "outputs": [],
   "source": []
  },
  {
   "cell_type": "code",
   "execution_count": null,
   "metadata": {},
   "outputs": [],
   "source": []
  },
  {
   "cell_type": "code",
   "execution_count": null,
   "metadata": {},
   "outputs": [],
   "source": []
  },
  {
   "cell_type": "code",
   "execution_count": null,
   "metadata": {},
   "outputs": [],
   "source": []
  },
  {
   "cell_type": "code",
   "execution_count": null,
   "metadata": {},
   "outputs": [],
   "source": []
  },
  {
   "cell_type": "code",
   "execution_count": null,
   "metadata": {},
   "outputs": [],
   "source": []
  },
  {
   "cell_type": "code",
   "execution_count": null,
   "metadata": {},
   "outputs": [],
   "source": []
  },
  {
   "cell_type": "code",
   "execution_count": null,
   "metadata": {},
   "outputs": [],
   "source": []
  },
  {
   "cell_type": "code",
   "execution_count": null,
   "metadata": {},
   "outputs": [],
   "source": []
  },
  {
   "cell_type": "code",
   "execution_count": null,
   "metadata": {},
   "outputs": [],
   "source": []
  },
  {
   "cell_type": "code",
   "execution_count": null,
   "metadata": {},
   "outputs": [],
   "source": []
  }
 ],
 "metadata": {
  "kernelspec": {
   "display_name": "Python 3",
   "language": "python",
   "name": "python3"
  },
  "language_info": {
   "codemirror_mode": {
    "name": "ipython",
    "version": 3
   },
   "file_extension": ".py",
   "mimetype": "text/x-python",
   "name": "python",
   "nbconvert_exporter": "python",
   "pygments_lexer": "ipython3",
   "version": "3.7.9"
  }
 },
 "nbformat": 4,
 "nbformat_minor": 4
}
