{
 "cells": [
  {
   "cell_type": "code",
   "execution_count": 1,
   "metadata": {},
   "outputs": [],
   "source": [
    "import pandas as pd\n",
    "import numpy as np\n",
    "import matplotlib.pyplot as plt\n",
    "import seaborn as sns\n",
    "import scipy as sp\n",
    "from scipy import stats"
   ]
  },
  {
   "cell_type": "code",
   "execution_count": 2,
   "metadata": {},
   "outputs": [],
   "source": [
    "df = pd.read_csv(\"1,2,3월_전북전남.csv\")"
   ]
  },
  {
   "cell_type": "code",
   "execution_count": 3,
   "metadata": {},
   "outputs": [
    {
     "data": {
      "text/html": [
       "<div>\n",
       "<style scoped>\n",
       "    .dataframe tbody tr th:only-of-type {\n",
       "        vertical-align: middle;\n",
       "    }\n",
       "\n",
       "    .dataframe tbody tr th {\n",
       "        vertical-align: top;\n",
       "    }\n",
       "\n",
       "    .dataframe thead th {\n",
       "        text-align: right;\n",
       "    }\n",
       "</style>\n",
       "<table border=\"1\" class=\"dataframe\">\n",
       "  <thead>\n",
       "    <tr style=\"text-align: right;\">\n",
       "      <th></th>\n",
       "      <th>Unnamed: 0</th>\n",
       "      <th>년월</th>\n",
       "      <th>사용지_시도</th>\n",
       "      <th>업종명</th>\n",
       "      <th>연령대</th>\n",
       "      <th>성별</th>\n",
       "      <th>생애주기</th>\n",
       "      <th>고객수</th>\n",
       "      <th>금액</th>\n",
       "      <th>건수</th>\n",
       "    </tr>\n",
       "  </thead>\n",
       "  <tbody>\n",
       "    <tr>\n",
       "      <th>0</th>\n",
       "      <td>1402924</td>\n",
       "      <td>201901</td>\n",
       "      <td>전북</td>\n",
       "      <td>카페</td>\n",
       "      <td>40s</td>\n",
       "      <td>2</td>\n",
       "      <td>3</td>\n",
       "      <td>3</td>\n",
       "      <td>13800</td>\n",
       "      <td>3</td>\n",
       "    </tr>\n",
       "    <tr>\n",
       "      <th>1</th>\n",
       "      <td>1402925</td>\n",
       "      <td>201901</td>\n",
       "      <td>전북</td>\n",
       "      <td>카페</td>\n",
       "      <td>40s</td>\n",
       "      <td>1</td>\n",
       "      <td>3</td>\n",
       "      <td>3</td>\n",
       "      <td>14300</td>\n",
       "      <td>3</td>\n",
       "    </tr>\n",
       "    <tr>\n",
       "      <th>2</th>\n",
       "      <td>1402926</td>\n",
       "      <td>201901</td>\n",
       "      <td>전북</td>\n",
       "      <td>카페</td>\n",
       "      <td>40s</td>\n",
       "      <td>1</td>\n",
       "      <td>3</td>\n",
       "      <td>3</td>\n",
       "      <td>17490</td>\n",
       "      <td>3</td>\n",
       "    </tr>\n",
       "    <tr>\n",
       "      <th>3</th>\n",
       "      <td>1402927</td>\n",
       "      <td>201901</td>\n",
       "      <td>전북</td>\n",
       "      <td>카페</td>\n",
       "      <td>40s</td>\n",
       "      <td>1</td>\n",
       "      <td>3</td>\n",
       "      <td>5</td>\n",
       "      <td>34900</td>\n",
       "      <td>5</td>\n",
       "    </tr>\n",
       "    <tr>\n",
       "      <th>4</th>\n",
       "      <td>1402928</td>\n",
       "      <td>201901</td>\n",
       "      <td>전북</td>\n",
       "      <td>카페</td>\n",
       "      <td>50s</td>\n",
       "      <td>1</td>\n",
       "      <td>4</td>\n",
       "      <td>3</td>\n",
       "      <td>13300</td>\n",
       "      <td>3</td>\n",
       "    </tr>\n",
       "    <tr>\n",
       "      <th>...</th>\n",
       "      <td>...</td>\n",
       "      <td>...</td>\n",
       "      <td>...</td>\n",
       "      <td>...</td>\n",
       "      <td>...</td>\n",
       "      <td>...</td>\n",
       "      <td>...</td>\n",
       "      <td>...</td>\n",
       "      <td>...</td>\n",
       "      <td>...</td>\n",
       "    </tr>\n",
       "    <tr>\n",
       "      <th>186755</th>\n",
       "      <td>24538819</td>\n",
       "      <td>202003</td>\n",
       "      <td>전남</td>\n",
       "      <td>일반 음식점업</td>\n",
       "      <td>60s</td>\n",
       "      <td>2</td>\n",
       "      <td>5</td>\n",
       "      <td>242</td>\n",
       "      <td>10799645</td>\n",
       "      <td>312</td>\n",
       "    </tr>\n",
       "    <tr>\n",
       "      <th>186756</th>\n",
       "      <td>24538820</td>\n",
       "      <td>202003</td>\n",
       "      <td>전남</td>\n",
       "      <td>일반 음식점업</td>\n",
       "      <td>70s</td>\n",
       "      <td>1</td>\n",
       "      <td>5</td>\n",
       "      <td>176</td>\n",
       "      <td>8602400</td>\n",
       "      <td>294</td>\n",
       "    </tr>\n",
       "    <tr>\n",
       "      <th>186757</th>\n",
       "      <td>24538821</td>\n",
       "      <td>202003</td>\n",
       "      <td>전남</td>\n",
       "      <td>일반 음식점업</td>\n",
       "      <td>70s</td>\n",
       "      <td>2</td>\n",
       "      <td>5</td>\n",
       "      <td>39</td>\n",
       "      <td>1431000</td>\n",
       "      <td>46</td>\n",
       "    </tr>\n",
       "    <tr>\n",
       "      <th>186758</th>\n",
       "      <td>24538822</td>\n",
       "      <td>202003</td>\n",
       "      <td>전남</td>\n",
       "      <td>일반 음식점업</td>\n",
       "      <td>50s</td>\n",
       "      <td>1</td>\n",
       "      <td>4</td>\n",
       "      <td>4</td>\n",
       "      <td>75900</td>\n",
       "      <td>7</td>\n",
       "    </tr>\n",
       "    <tr>\n",
       "      <th>186759</th>\n",
       "      <td>24538823</td>\n",
       "      <td>202003</td>\n",
       "      <td>전남</td>\n",
       "      <td>일반 음식점업</td>\n",
       "      <td>60s</td>\n",
       "      <td>1</td>\n",
       "      <td>5</td>\n",
       "      <td>4</td>\n",
       "      <td>195500</td>\n",
       "      <td>5</td>\n",
       "    </tr>\n",
       "  </tbody>\n",
       "</table>\n",
       "<p>186760 rows × 10 columns</p>\n",
       "</div>"
      ],
      "text/plain": [
       "        Unnamed: 0      년월 사용지_시도      업종명  연령대  성별  생애주기  고객수        금액   건수\n",
       "0          1402924  201901     전북       카페  40s   2     3    3     13800    3\n",
       "1          1402925  201901     전북       카페  40s   1     3    3     14300    3\n",
       "2          1402926  201901     전북       카페  40s   1     3    3     17490    3\n",
       "3          1402927  201901     전북       카페  40s   1     3    5     34900    5\n",
       "4          1402928  201901     전북       카페  50s   1     4    3     13300    3\n",
       "...            ...     ...    ...      ...  ...  ..   ...  ...       ...  ...\n",
       "186755    24538819  202003     전남  일반 음식점업  60s   2     5  242  10799645  312\n",
       "186756    24538820  202003     전남  일반 음식점업  70s   1     5  176   8602400  294\n",
       "186757    24538821  202003     전남  일반 음식점업  70s   2     5   39   1431000   46\n",
       "186758    24538822  202003     전남  일반 음식점업  50s   1     4    4     75900    7\n",
       "186759    24538823  202003     전남  일반 음식점업  60s   1     5    4    195500    5\n",
       "\n",
       "[186760 rows x 10 columns]"
      ]
     },
     "execution_count": 3,
     "metadata": {},
     "output_type": "execute_result"
    }
   ],
   "source": [
    "df"
   ]
  },
  {
   "cell_type": "code",
   "execution_count": 4,
   "metadata": {},
   "outputs": [],
   "source": [
    "df_cafe=df[df['업종명']=='카페']\n",
    "df_food=df[df['업종명']=='일반 음식점업']\n",
    "df_tour=df[df['업종명']=='관광업']\n",
    "df_sport=df[df['업종명']=='스포츠 및 레크레이션 용품 임대업']\n",
    "df_dis=df[df['업종명']=='전시 및 행사 대행업']"
   ]
  },
  {
   "cell_type": "code",
   "execution_count": 5,
   "metadata": {},
   "outputs": [],
   "source": [
    "df_cafe_1901=df_cafe[(df_cafe['년월']==201901)]\n",
    "df_cafe_1901\n",
    "df_cafe_1901_금액=df_cafe_1901['금액']\n",
    "df_cafe_sum_1901=sum(df_cafe_1901_금액)\n",
    "df_cafe_1902=df_cafe[(df_cafe['년월']==201902)]\n",
    "df_cafe_1902\n",
    "df_cafe_1902_금액=df_cafe_1902['금액']\n",
    "df_cafe_sum_1902=sum(df_cafe_1902_금액)\n",
    "df_cafe_1903=df_cafe[(df_cafe['년월']==201903)]\n",
    "df_cafe_1903\n",
    "df_cafe_1903_금액=df_cafe_1903['금액']\n",
    "df_cafe_sum_1903=sum(df_cafe_1903_금액)\n",
    "df_cafe_2001=df_cafe[(df_cafe['년월']==202001)]\n",
    "df_cafe_2001\n",
    "df_cafe_2001_금액=df_cafe_2001['금액']\n",
    "df_cafe_sum_2001=sum(df_cafe_2001_금액)\n",
    "df_cafe_2002=df_cafe[(df_cafe['년월']==202002)]\n",
    "df_cafe_2002\n",
    "df_cafe_2002_금액=df_cafe_2002['금액']\n",
    "df_cafe_sum_2002=sum(df_cafe_2002_금액)\n",
    "df_cafe_2003=df_cafe[(df_cafe['년월']==202003)]\n",
    "df_cafe_2003\n",
    "df_cafe_2003_금액=df_cafe_2003['금액']\n",
    "df_cafe_sum_2003=sum(df_cafe_2003_금액)"
   ]
  },
  {
   "cell_type": "code",
   "execution_count": 6,
   "metadata": {},
   "outputs": [
    {
     "name": "stdout",
     "output_type": "stream",
     "text": [
      "19년 전북/전남 카페 1,2월 매출감소율 : 0.7817459850026154 %\n"
     ]
    }
   ],
   "source": [
    "print('19년 전북/전남 카페 1,2월 매출감소율 :',100-((df_cafe_sum_1902/df_cafe_sum_1901)*100),'%')"
   ]
  },
  {
   "cell_type": "code",
   "execution_count": 7,
   "metadata": {},
   "outputs": [
    {
     "name": "stdout",
     "output_type": "stream",
     "text": [
      "19년 전북/전남 카페 2,3월 매출감소율 : -11.984254218727685 %\n"
     ]
    }
   ],
   "source": [
    "print('19년 전북/전남 카페 2,3월 매출감소율 :',100-((df_cafe_sum_1903/df_cafe_sum_1902)*100),'%')"
   ]
  },
  {
   "cell_type": "code",
   "execution_count": 8,
   "metadata": {},
   "outputs": [
    {
     "name": "stdout",
     "output_type": "stream",
     "text": [
      "20년 전북/전남 카페 1,2월 매출감소율 : 15.318410648225253 %\n"
     ]
    }
   ],
   "source": [
    "print('20년 전북/전남 카페 1,2월 매출감소율 :',100-((df_cafe_sum_2002/df_cafe_sum_2001)*100),'%')"
   ]
  },
  {
   "cell_type": "code",
   "execution_count": 9,
   "metadata": {},
   "outputs": [
    {
     "name": "stdout",
     "output_type": "stream",
     "text": [
      "20년 전북/전남 카페 2,3월 매출감소율 : -7.983130884944444 %\n"
     ]
    }
   ],
   "source": [
    "print('20년 전북/전남 카페 2,3월 매출감소율 :',100-((df_cafe_sum_2003/df_cafe_sum_2002)*100),'%')"
   ]
  },
  {
   "cell_type": "code",
   "execution_count": 10,
   "metadata": {},
   "outputs": [],
   "source": [
    "label = ['01', '02', '03']\n",
    "\n",
    "index = np.arange(len(label))"
   ]
  },
  {
   "cell_type": "code",
   "execution_count": 11,
   "metadata": {},
   "outputs": [
    {
     "data": {
      "image/png": "[encoded data removed]",
      "text/plain": [
       "<Figure size 432x288 with 1 Axes>"
      ]
     },
     "metadata": {
      "needs_background": "light"
     },
     "output_type": "display_data"
    }
   ],
   "source": [
    "df_cafe_2019 = pd.DataFrame({'년월' : [201901,201902,201903],\n",
    "                             '금액' : [df_cafe_sum_1901,df_cafe_sum_1902,df_cafe_sum_1903]})\n",
    "df_cafe_2020 = pd.DataFrame({'년월' : [202001,202002,202003],\n",
    "                             '금액' : [df_cafe_sum_2001,df_cafe_sum_2002,df_cafe_sum_2003]})\n",
    "\n",
    "bar_width = 0.2\n",
    "alpha = 0.5\n",
    "p1 = plt.bar(index, df_cafe_2019['금액'], \n",
    "\n",
    "             bar_width, \n",
    "\n",
    "             color='b', \n",
    "\n",
    "             alpha=alpha,\n",
    "\n",
    "             label='2019')\n",
    "\n",
    "p2 = plt.bar(index + bar_width, df_cafe_2020['금액'], \n",
    "\n",
    "             bar_width, \n",
    "\n",
    "             color='r', \n",
    "\n",
    "             alpha=alpha,\n",
    "\n",
    "             label='2020')\n",
    "\n",
    "\n",
    "plt.title('cafe', fontsize=20)\n",
    "plt.ylabel('AMT', fontsize=12)\n",
    "plt.xlabel('REG_YYMM', fontsize=12)\n",
    "plt.xticks(index, label, fontsize=11)\n",
    "plt.legend((p1[0], p2[0]), ('2019', '2020'), fontsize=11)\n",
    "plt.show()"
   ]
  },
  {
   "cell_type": "code",
   "execution_count": 12,
   "metadata": {},
   "outputs": [],
   "source": [
    "df_food_1901=df_food[(df_food['년월']==201901)]\n",
    "df_food_1901\n",
    "df_food_1901_금액=df_food_1901['금액']\n",
    "df_food_sum_1901=sum(df_food_1901_금액)\n",
    "df_food_1902=df_food[(df_food['년월']==201902)]\n",
    "df_food_1902\n",
    "df_food_1902_금액=df_food_1902['금액']\n",
    "df_food_sum_1902=sum(df_food_1902_금액)\n",
    "df_food_1903=df_food[(df_food['년월']==201903)]\n",
    "df_food_1903\n",
    "df_food_1903_금액=df_food_1903['금액']\n",
    "df_food_sum_1903=sum(df_food_1903_금액)\n",
    "df_food_2001=df_food[(df_food['년월']==202001)]\n",
    "df_food_2001\n",
    "df_food_2001_금액=df_food_2001['금액']\n",
    "df_food_sum_2001=sum(df_food_2001_금액)\n",
    "df_food_2002=df_food[(df_food['년월']==202002)]\n",
    "df_food_2002\n",
    "df_food_2002_금액=df_food_2002['금액']\n",
    "df_food_sum_2002=sum(df_food_2002_금액)\n",
    "df_food_2003=df_food[(df_food['년월']==202003)]\n",
    "df_food_2003\n",
    "df_food_2003_금액=df_food_2003['금액']\n",
    "df_food_sum_2003=sum(df_food_2003_금액)"
   ]
  },
  {
   "cell_type": "code",
   "execution_count": 13,
   "metadata": {},
   "outputs": [
    {
     "name": "stdout",
     "output_type": "stream",
     "text": [
      "19년 전북/전남 일반음식점업 1,2월 매출감소율 : 11.193755778440277 %\n"
     ]
    }
   ],
   "source": [
    "print('19년 전북/전남 일반음식점업 1,2월 매출감소율 :',100-((df_food_sum_1902/df_food_sum_1901)*100),'%')"
   ]
  },
  {
   "cell_type": "code",
   "execution_count": 14,
   "metadata": {},
   "outputs": [
    {
     "name": "stdout",
     "output_type": "stream",
     "text": [
      "19년 전북/전남 일반음식점업 2,3월 매출감소율 : -17.709715656386905 %\n"
     ]
    }
   ],
   "source": [
    "print('19년 전북/전남 일반음식점업 2,3월 매출감소율 :',100-((df_food_sum_1903/df_food_sum_1902)*100),'%')"
   ]
  },
  {
   "cell_type": "code",
   "execution_count": 15,
   "metadata": {},
   "outputs": [
    {
     "name": "stdout",
     "output_type": "stream",
     "text": [
      "20년 전북/전남 일반음식점업 1,2월 매출감소율 : 16.368054152802372 %\n"
     ]
    }
   ],
   "source": [
    "print('20년 전북/전남 일반음식점업 1,2월 매출감소율 :',100-((df_food_sum_2002/df_food_sum_2001)*100),'%')"
   ]
  },
  {
   "cell_type": "code",
   "execution_count": 16,
   "metadata": {},
   "outputs": [
    {
     "name": "stdout",
     "output_type": "stream",
     "text": [
      "20년 전북/전남 일반음식점업 2,3월 매출감소율 : -3.0058710202095966 %\n"
     ]
    }
   ],
   "source": [
    "print('20년 전북/전남 일반음식점업 2,3월 매출감소율 :',100-((df_food_sum_2003/df_food_sum_2002)*100),'%')"
   ]
  },
  {
   "cell_type": "code",
   "execution_count": 17,
   "metadata": {},
   "outputs": [
    {
     "data": {
      "image/png": "[encoded data removed]",
      "text/plain": [
       "<Figure size 432x288 with 1 Axes>"
      ]
     },
     "metadata": {
      "needs_background": "light"
     },
     "output_type": "display_data"
    }
   ],
   "source": [
    "df_food_2019 = pd.DataFrame({'년월' : [201901,201902,201903],\n",
    "                             '금액' : [df_food_sum_1901,df_food_sum_1902,df_food_sum_1903]})\n",
    "df_food_2020 = pd.DataFrame({'년월' : [202001,202002,202003],\n",
    "                             '금액' : [df_food_sum_2001,df_food_sum_2002,df_food_sum_2003]})\n",
    "\n",
    "bar_width = 0.2\n",
    "alpha = 0.5\n",
    "p1 = plt.bar(index, df_food_2019['금액'], \n",
    "\n",
    "             bar_width, \n",
    "\n",
    "             color='b', \n",
    "\n",
    "             alpha=alpha,\n",
    "\n",
    "             label='2019')\n",
    "\n",
    "p2 = plt.bar(index + bar_width, df_food_2020['금액'], \n",
    "\n",
    "             bar_width, \n",
    "\n",
    "             color='r', \n",
    "\n",
    "             alpha=alpha,\n",
    "\n",
    "             label='2020')\n",
    "\n",
    "\n",
    "plt.title('food', fontsize=20)\n",
    "plt.ylabel('AMT', fontsize=12)\n",
    "plt.xlabel('REG_YYMM', fontsize=12)\n",
    "plt.xticks(index, label, fontsize=11)\n",
    "plt.legend((p1[0], p2[0]), ('2019', '2020'), fontsize=11)\n",
    "plt.show()"
   ]
  },
  {
   "cell_type": "code",
   "execution_count": 18,
   "metadata": {},
   "outputs": [],
   "source": [
    "df_tour_1901=df_tour[(df_tour['년월']==201901)]\n",
    "df_tour_1901\n",
    "df_tour_1901_금액=df_tour_1901['금액']\n",
    "df_tour_sum_1901=sum(df_tour_1901_금액)\n",
    "df_tour_1902=df_tour[(df_tour['년월']==201902)]\n",
    "df_tour_1902\n",
    "df_tour_1902_금액=df_tour_1902['금액']\n",
    "df_tour_sum_1902=sum(df_tour_1902_금액)\n",
    "df_tour_1903=df_tour[(df_tour['년월']==201903)]\n",
    "df_tour_1903\n",
    "df_tour_1903_금액=df_tour_1903['금액']\n",
    "df_tour_sum_1903=sum(df_tour_1903_금액)\n",
    "df_tour_2001=df_tour[(df_tour['년월']==202001)]\n",
    "df_tour_2001\n",
    "df_tour_2001_금액=df_tour_2001['금액']\n",
    "df_tour_sum_2001=sum(df_tour_2001_금액)\n",
    "df_tour_2002=df_tour[(df_tour['년월']==202002)]\n",
    "df_tour_2002\n",
    "df_tour_2002_금액=df_tour_2002['금액']\n",
    "df_tour_sum_2002=sum(df_tour_2002_금액)\n",
    "df_tour_2003=df_tour[(df_tour['년월']==202003)]\n",
    "df_tour_2003\n",
    "df_tour_2003_금액=df_tour_2003['금액']\n",
    "df_tour_sum_2003=sum(df_tour_2003_금액)"
   ]
  },
  {
   "cell_type": "code",
   "execution_count": 19,
   "metadata": {},
   "outputs": [
    {
     "name": "stdout",
     "output_type": "stream",
     "text": [
      "19년 전북/전남 관광업 1,2월 매출감소율 : 24.53453013056881 %\n"
     ]
    }
   ],
   "source": [
    "print('19년 전북/전남 관광업 1,2월 매출감소율 :',100-((df_tour_sum_1902/df_tour_sum_1901)*100),'%')"
   ]
  },
  {
   "cell_type": "code",
   "execution_count": 20,
   "metadata": {},
   "outputs": [
    {
     "name": "stdout",
     "output_type": "stream",
     "text": [
      "19년 전북/전남 관광업 1,2월 매출감소율 : 24.53453013056881 %\n"
     ]
    }
   ],
   "source": [
    "print('19년 전북/전남 관광업 1,2월 매출감소율 :',100-((df_tour_sum_1902/df_tour_sum_1901)*100),'%')"
   ]
  },
  {
   "cell_type": "code",
   "execution_count": 21,
   "metadata": {},
   "outputs": [
    {
     "name": "stdout",
     "output_type": "stream",
     "text": [
      "20년 전북/전남 관광업 1,2월 매출감소율 : 83.13891230837919 %\n"
     ]
    }
   ],
   "source": [
    "print('20년 전북/전남 관광업 1,2월 매출감소율 :',100-((df_tour_sum_2002/df_tour_sum_2001)*100),'%')"
   ]
  },
  {
   "cell_type": "code",
   "execution_count": 22,
   "metadata": {},
   "outputs": [
    {
     "name": "stdout",
     "output_type": "stream",
     "text": [
      "20년 전북/전남 관광업 2,3월 매출감소율 : 32.53063612937959 %\n"
     ]
    }
   ],
   "source": [
    "print('20년 전북/전남 관광업 2,3월 매출감소율 :',100-((df_tour_sum_2003/df_tour_sum_2002)*100),'%')"
   ]
  },
  {
   "cell_type": "code",
   "execution_count": 23,
   "metadata": {},
   "outputs": [
    {
     "data": {
      "image/png": "[encoded data removed]",
      "text/plain": [
       "<Figure size 432x288 with 1 Axes>"
      ]
     },
     "metadata": {
      "needs_background": "light"
     },
     "output_type": "display_data"
    }
   ],
   "source": [
    "df_tour_2019 = pd.DataFrame({'년월' : [201901,201902,201903],\n",
    "                             '금액' : [df_tour_sum_1901,df_tour_sum_1902,df_tour_sum_1903]})\n",
    "df_tour_2020 = pd.DataFrame({'년월' : [202001,202002,202003],\n",
    "                             '금액' : [df_tour_sum_2001,df_tour_sum_2002,df_tour_sum_2003]})\n",
    "\n",
    "bar_width = 0.2\n",
    "alpha = 0.5\n",
    "p1 = plt.bar(index, df_tour_2019['금액'], \n",
    "\n",
    "             bar_width, \n",
    "\n",
    "             color='b', \n",
    "\n",
    "             alpha=alpha,\n",
    "\n",
    "             label='2019')\n",
    "\n",
    "p2 = plt.bar(index + bar_width, df_tour_2020['금액'], \n",
    "\n",
    "             bar_width, \n",
    "\n",
    "             color='r', \n",
    "\n",
    "             alpha=alpha,\n",
    "\n",
    "             label='2020')\n",
    "\n",
    "\n",
    "plt.title('tour', fontsize=20)\n",
    "plt.ylabel('AMT', fontsize=12)\n",
    "plt.xlabel('REG_YYMM', fontsize=12)\n",
    "plt.xticks(index, label, fontsize=11)\n",
    "plt.legend((p1[0], p2[0]), ('2019', '2020'), fontsize=11)\n",
    "plt.show()"
   ]
  },
  {
   "cell_type": "code",
   "execution_count": 24,
   "metadata": {},
   "outputs": [],
   "source": [
    "df_sport_1901=df_sport[(df_sport['년월']==201901)]\n",
    "df_sport_1901\n",
    "df_sport_1901_금액=df_sport_1901['금액']\n",
    "df_sport_sum_1901=sum(df_sport_1901_금액)\n",
    "df_sport_1902=df_sport[(df_sport['년월']==201902)]\n",
    "df_sport_1902\n",
    "df_sport_1902_금액=df_sport_1902['금액']\n",
    "df_sport_sum_1902=sum(df_sport_1902_금액)\n",
    "df_sport_1903=df_sport[(df_sport['년월']==201903)]\n",
    "df_sport_1903\n",
    "df_sport_1903_금액=df_sport_1903['금액']\n",
    "df_sport_sum_1903=sum(df_sport_1903_금액)\n",
    "df_sport_2001=df_sport[(df_sport['년월']==202001)]\n",
    "df_sport_2001\n",
    "df_sport_2001_금액=df_sport_2001['금액']\n",
    "df_sport_sum_2001=sum(df_sport_2001_금액)\n",
    "df_sport_2002=df_sport[(df_sport['년월']==202002)]\n",
    "df_sport_2002\n",
    "df_sport_2002_금액=df_sport_2002['금액']\n",
    "df_sport_sum_2002=sum(df_sport_2002_금액)\n",
    "df_sport_2003=df_sport[(df_sport['년월']==202003)]\n",
    "df_sport_2003\n",
    "df_sport_2003_금액=df_sport_2003['금액']\n",
    "df_sport_sum_2003=sum(df_sport_2003_금액)"
   ]
  },
  {
   "cell_type": "code",
   "execution_count": 25,
   "metadata": {},
   "outputs": [
    {
     "name": "stdout",
     "output_type": "stream",
     "text": [
      "19년 전북/전남 스포츠업 1,2월 매출감소율 : 2.7652437110370016 %\n"
     ]
    }
   ],
   "source": [
    "print('19년 전북/전남 스포츠업 1,2월 매출감소율 :',100-((df_sport_sum_1902/df_sport_sum_1901)*100),'%')"
   ]
  },
  {
   "cell_type": "code",
   "execution_count": 26,
   "metadata": {},
   "outputs": [
    {
     "name": "stdout",
     "output_type": "stream",
     "text": [
      "19년 전북/전남 스포츠업 2,3월 매출감소율 : -31.010282187696333 %\n"
     ]
    }
   ],
   "source": [
    "print('19년 전북/전남 스포츠업 2,3월 매출감소율 :',100-((df_sport_sum_1903/df_sport_sum_1902)*100),'%')"
   ]
  },
  {
   "cell_type": "code",
   "execution_count": 27,
   "metadata": {},
   "outputs": [
    {
     "name": "stdout",
     "output_type": "stream",
     "text": [
      "20년 전북/전남 스포츠업 1,2월 매출감소율 : 21.327594019695212 %\n"
     ]
    }
   ],
   "source": [
    "print('20년 전북/전남 스포츠업 1,2월 매출감소율 :',100-((df_sport_sum_2002/df_sport_sum_2001)*100),'%')"
   ]
  },
  {
   "cell_type": "code",
   "execution_count": 28,
   "metadata": {},
   "outputs": [
    {
     "name": "stdout",
     "output_type": "stream",
     "text": [
      "20년 전북/전남 스포츠업 2,3월 매출감소율 : -26.11052485209369 %\n"
     ]
    }
   ],
   "source": [
    "print('20년 전북/전남 스포츠업 2,3월 매출감소율 :',100-((df_sport_sum_2003/df_sport_sum_2002)*100),'%')\n"
   ]
  },
  {
   "cell_type": "code",
   "execution_count": 29,
   "metadata": {},
   "outputs": [
    {
     "data": {
      "image/png": "[encoded data removed]",
      "text/plain": [
       "<Figure size 432x288 with 1 Axes>"
      ]
     },
     "metadata": {
      "needs_background": "light"
     },
     "output_type": "display_data"
    }
   ],
   "source": [
    "df_sport_2019 = pd.DataFrame({'년월' : [201901,201902,201903],\n",
    "                             '금액' : [df_sport_sum_1901,df_sport_sum_1902,df_sport_sum_1903]})\n",
    "df_sport_2020 = pd.DataFrame({'년월' : [202001,202002,202003],\n",
    "                             '금액' : [df_sport_sum_2001,df_sport_sum_2002,df_sport_sum_2003]})\n",
    "\n",
    "bar_width = 0.2\n",
    "alpha = 0.5\n",
    "p1 = plt.bar(index, df_sport_2019['금액'], \n",
    "\n",
    "             bar_width, \n",
    "\n",
    "             color='b', \n",
    "\n",
    "             alpha=alpha,\n",
    "\n",
    "             label='2019')\n",
    "\n",
    "p2 = plt.bar(index + bar_width, df_sport_2020['금액'], \n",
    "\n",
    "             bar_width, \n",
    "\n",
    "             color='r', \n",
    "\n",
    "             alpha=alpha,\n",
    "\n",
    "             label='2020')\n",
    "\n",
    "\n",
    "plt.title('sport', fontsize=20)\n",
    "plt.ylabel('AMT', fontsize=12)\n",
    "plt.xlabel('REG_YYMM', fontsize=12)\n",
    "plt.xticks(index, label, fontsize=11)\n",
    "plt.legend((p1[0], p2[0]), ('2019', '2020'), fontsize=11)\n",
    "plt.show()"
   ]
  },
  {
   "cell_type": "code",
   "execution_count": 30,
   "metadata": {},
   "outputs": [],
   "source": [
    "df_dis_1901=df_dis[(df_dis['년월']==201901)]\n",
    "df_dis_1901\n",
    "df_dis_1901_금액=df_dis_1901['금액']\n",
    "df_dis_sum_1901=sum(df_dis_1901_금액)\n",
    "df_dis_1902=df_dis[(df_dis['년월']==201902)]\n",
    "df_dis_1902\n",
    "df_dis_1902_금액=df_dis_1902['금액']\n",
    "df_dis_sum_1902=sum(df_dis_1902_금액)\n",
    "df_dis_1903=df_dis[(df_dis['년월']==201903)]\n",
    "df_dis_1903\n",
    "df_dis_1903_금액=df_dis_1903['금액']\n",
    "df_dis_sum_1903=sum(df_dis_1903_금액)\n",
    "df_dis_2001=df_dis[(df_dis['년월']==202001)]\n",
    "df_dis_2001\n",
    "df_dis_2001_금액=df_dis_2001['금액']\n",
    "df_dis_sum_2001=sum(df_dis_2001_금액)\n",
    "df_dis_2002=df_dis[(df_dis['년월']==202002)]\n",
    "df_dis_2002\n",
    "df_dis_2002_금액=df_dis_2002['금액']\n",
    "df_dis_sum_2002=sum(df_dis_2002_금액)\n",
    "df_dis_2003=df_dis[(df_dis['년월']==202003)]\n",
    "df_dis_2003\n",
    "df_dis_2003_금액=df_dis_2003['금액']\n",
    "df_dis_sum_2003=sum(df_dis_2003_금액)"
   ]
  },
  {
   "cell_type": "code",
   "execution_count": 31,
   "metadata": {},
   "outputs": [
    {
     "name": "stdout",
     "output_type": "stream",
     "text": [
      "19년 전북/전남 전시 및 행사업 1,2월 매출감소율 : 4.298088038383298 %\n"
     ]
    }
   ],
   "source": [
    "print('19년 전북/전남 전시 및 행사업 1,2월 매출감소율 :',100-((df_dis_sum_1902/df_dis_sum_1901)*100),'%')"
   ]
  },
  {
   "cell_type": "code",
   "execution_count": 32,
   "metadata": {},
   "outputs": [
    {
     "name": "stdout",
     "output_type": "stream",
     "text": [
      "19년 전북/전남 전시 및 행사업 2,3월 매출감소율 : -1.272298669072299 %\n"
     ]
    }
   ],
   "source": [
    "print('19년 전북/전남 전시 및 행사업 2,3월 매출감소율 :',100-((df_dis_sum_1903/df_dis_sum_1902)*100),'%')"
   ]
  },
  {
   "cell_type": "code",
   "execution_count": 33,
   "metadata": {},
   "outputs": [
    {
     "name": "stdout",
     "output_type": "stream",
     "text": [
      "20년 전북/전남 전시 및 행사업 1,2월 매출감소율 : 63.8074258443489 %\n"
     ]
    }
   ],
   "source": [
    "print('20년 전북/전남 전시 및 행사업 1,2월 매출감소율 :',100-((df_dis_sum_2002/df_dis_sum_2001)*100),'%')"
   ]
  },
  {
   "cell_type": "code",
   "execution_count": 34,
   "metadata": {},
   "outputs": [
    {
     "name": "stdout",
     "output_type": "stream",
     "text": [
      "20년 전북/전남 전시 및 행사업 2,3월 매출감소율 : 28.64301233963677 %\n"
     ]
    }
   ],
   "source": [
    "print('20년 전북/전남 전시 및 행사업 2,3월 매출감소율 :',100-((df_dis_sum_2003/df_dis_sum_2002)*100),'%')"
   ]
  },
  {
   "cell_type": "code",
   "execution_count": 38,
   "metadata": {},
   "outputs": [
    {
     "data": {
      "image/png": "[encoded data removed]",
      "text/plain": [
       "<Figure size 432x288 with 1 Axes>"
      ]
     },
     "metadata": {
      "needs_background": "light"
     },
     "output_type": "display_data"
    }
   ],
   "source": [
    "df_dis_2019 = pd.DataFrame({'년월' : [201901,201902,201903],\n",
    "                             '금액' : [df_dis_sum_1901,df_dis_sum_1902,df_dis_sum_1903]})\n",
    "df_dis_2020 = pd.DataFrame({'년월' : [202001,202002,202003],\n",
    "                             '금액' : [df_dis_sum_2001,df_dis_sum_2002,df_dis_sum_2003]})\n",
    "\n",
    "bar_width = 0.2\n",
    "alpha = 0.5\n",
    "p1 = plt.bar(index, df_dis_2019['금액'], \n",
    "\n",
    "             bar_width, \n",
    "\n",
    "             color='b', \n",
    "\n",
    "             alpha=alpha,\n",
    "\n",
    "             label='2019')\n",
    "\n",
    "p2 = plt.bar(index + bar_width, df_dis_2020['금액'], \n",
    "\n",
    "             bar_width, \n",
    "\n",
    "             color='r', \n",
    "\n",
    "             alpha=alpha,\n",
    "\n",
    "             label='2020')\n",
    "\n",
    "\n",
    "plt.title('dis', fontsize=20)\n",
    "plt.ylabel('AMT', fontsize=12)\n",
    "plt.xlabel('REG_YYMM', fontsize=12)\n",
    "plt.xticks(index, label, fontsize=11)\n",
    "plt.legend((p1[0], p2[0]), ('2019', '2020'), fontsize=11)\n",
    "plt.show()"
   ]
  }
 ],
 "metadata": {
  "kernelspec": {
   "display_name": "Python 3",
   "language": "python",
   "name": "python3"
  },
  "language_info": {
   "codemirror_mode": {
    "name": "ipython",
    "version": 3
   },
   "file_extension": ".py",
   "mimetype": "text/x-python",
   "name": "python",
   "nbconvert_exporter": "python",
   "pygments_lexer": "ipython3",
   "version": "3.7.9"
  }
 },
 "nbformat": 4,
 "nbformat_minor": 4
}
