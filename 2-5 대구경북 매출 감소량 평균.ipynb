{
 "cells": [
  {
   "cell_type": "code",
   "execution_count": 65,
   "metadata": {},
   "outputs": [],
   "source": [
    "import pandas as pd\n",
    "import numpy as np\n",
    "import matplotlib.pyplot as plt\n",
    "import seaborn as sns\n",
    "import scipy as sp\n",
    "from scipy import stats"
   ]
  },
  {
   "cell_type": "code",
   "execution_count": 66,
   "metadata": {},
   "outputs": [],
   "source": [
    "df = pd.read_csv(\"1,2,3월_2.csv\")"
   ]
  },
  {
   "cell_type": "code",
   "execution_count": 67,
   "metadata": {},
   "outputs": [
    {
     "data": {
      "text/html": [
       "<div>\n",
       "<style scoped>\n",
       "    .dataframe tbody tr th:only-of-type {\n",
       "        vertical-align: middle;\n",
       "    }\n",
       "\n",
       "    .dataframe tbody tr th {\n",
       "        vertical-align: top;\n",
       "    }\n",
       "\n",
       "    .dataframe thead th {\n",
       "        text-align: right;\n",
       "    }\n",
       "</style>\n",
       "<table border=\"1\" class=\"dataframe\">\n",
       "  <thead>\n",
       "    <tr style=\"text-align: right;\">\n",
       "      <th></th>\n",
       "      <th>Unnamed: 0</th>\n",
       "      <th>년월</th>\n",
       "      <th>업종명</th>\n",
       "      <th>연령대</th>\n",
       "      <th>성별</th>\n",
       "      <th>생애주기</th>\n",
       "      <th>고객수</th>\n",
       "      <th>금액</th>\n",
       "      <th>건수</th>\n",
       "    </tr>\n",
       "  </thead>\n",
       "  <tbody>\n",
       "    <tr>\n",
       "      <th>0</th>\n",
       "      <td>598167</td>\n",
       "      <td>201901</td>\n",
       "      <td>카페</td>\n",
       "      <td>20s</td>\n",
       "      <td>2</td>\n",
       "      <td>1</td>\n",
       "      <td>3</td>\n",
       "      <td>24890</td>\n",
       "      <td>3</td>\n",
       "    </tr>\n",
       "    <tr>\n",
       "      <th>1</th>\n",
       "      <td>598168</td>\n",
       "      <td>201901</td>\n",
       "      <td>카페</td>\n",
       "      <td>20s</td>\n",
       "      <td>2</td>\n",
       "      <td>1</td>\n",
       "      <td>3</td>\n",
       "      <td>17800</td>\n",
       "      <td>3</td>\n",
       "    </tr>\n",
       "    <tr>\n",
       "      <th>2</th>\n",
       "      <td>598169</td>\n",
       "      <td>201901</td>\n",
       "      <td>카페</td>\n",
       "      <td>30s</td>\n",
       "      <td>2</td>\n",
       "      <td>2</td>\n",
       "      <td>3</td>\n",
       "      <td>28500</td>\n",
       "      <td>4</td>\n",
       "    </tr>\n",
       "    <tr>\n",
       "      <th>3</th>\n",
       "      <td>598170</td>\n",
       "      <td>201901</td>\n",
       "      <td>카페</td>\n",
       "      <td>20s</td>\n",
       "      <td>1</td>\n",
       "      <td>1</td>\n",
       "      <td>3</td>\n",
       "      <td>27900</td>\n",
       "      <td>4</td>\n",
       "    </tr>\n",
       "    <tr>\n",
       "      <th>4</th>\n",
       "      <td>598171</td>\n",
       "      <td>201901</td>\n",
       "      <td>카페</td>\n",
       "      <td>40s</td>\n",
       "      <td>1</td>\n",
       "      <td>3</td>\n",
       "      <td>3</td>\n",
       "      <td>20600</td>\n",
       "      <td>3</td>\n",
       "    </tr>\n",
       "    <tr>\n",
       "      <th>...</th>\n",
       "      <td>...</td>\n",
       "      <td>...</td>\n",
       "      <td>...</td>\n",
       "      <td>...</td>\n",
       "      <td>...</td>\n",
       "      <td>...</td>\n",
       "      <td>...</td>\n",
       "      <td>...</td>\n",
       "      <td>...</td>\n",
       "    </tr>\n",
       "    <tr>\n",
       "      <th>224535</th>\n",
       "      <td>23899428</td>\n",
       "      <td>202003</td>\n",
       "      <td>일반 음식점업</td>\n",
       "      <td>20s</td>\n",
       "      <td>1</td>\n",
       "      <td>1</td>\n",
       "      <td>8</td>\n",
       "      <td>904800</td>\n",
       "      <td>16</td>\n",
       "    </tr>\n",
       "    <tr>\n",
       "      <th>224536</th>\n",
       "      <td>23899429</td>\n",
       "      <td>202003</td>\n",
       "      <td>일반 음식점업</td>\n",
       "      <td>30s</td>\n",
       "      <td>1</td>\n",
       "      <td>1</td>\n",
       "      <td>3</td>\n",
       "      <td>331800</td>\n",
       "      <td>4</td>\n",
       "    </tr>\n",
       "    <tr>\n",
       "      <th>224537</th>\n",
       "      <td>23899430</td>\n",
       "      <td>202003</td>\n",
       "      <td>일반 음식점업</td>\n",
       "      <td>30s</td>\n",
       "      <td>1</td>\n",
       "      <td>2</td>\n",
       "      <td>7</td>\n",
       "      <td>1153000</td>\n",
       "      <td>28</td>\n",
       "    </tr>\n",
       "    <tr>\n",
       "      <th>224538</th>\n",
       "      <td>23899431</td>\n",
       "      <td>202003</td>\n",
       "      <td>일반 음식점업</td>\n",
       "      <td>40s</td>\n",
       "      <td>1</td>\n",
       "      <td>3</td>\n",
       "      <td>3</td>\n",
       "      <td>73000</td>\n",
       "      <td>3</td>\n",
       "    </tr>\n",
       "    <tr>\n",
       "      <th>224539</th>\n",
       "      <td>23899432</td>\n",
       "      <td>202003</td>\n",
       "      <td>일반 음식점업</td>\n",
       "      <td>30s</td>\n",
       "      <td>1</td>\n",
       "      <td>2</td>\n",
       "      <td>4</td>\n",
       "      <td>321000</td>\n",
       "      <td>5</td>\n",
       "    </tr>\n",
       "  </tbody>\n",
       "</table>\n",
       "<p>224540 rows × 9 columns</p>\n",
       "</div>"
      ],
      "text/plain": [
       "        Unnamed: 0      년월      업종명  연령대  성별  생애주기  고객수       금액  건수\n",
       "0           598167  201901       카페  20s   2     1    3    24890   3\n",
       "1           598168  201901       카페  20s   2     1    3    17800   3\n",
       "2           598169  201901       카페  30s   2     2    3    28500   4\n",
       "3           598170  201901       카페  20s   1     1    3    27900   4\n",
       "4           598171  201901       카페  40s   1     3    3    20600   3\n",
       "...            ...     ...      ...  ...  ..   ...  ...      ...  ..\n",
       "224535    23899428  202003  일반 음식점업  20s   1     1    8   904800  16\n",
       "224536    23899429  202003  일반 음식점업  30s   1     1    3   331800   4\n",
       "224537    23899430  202003  일반 음식점업  30s   1     2    7  1153000  28\n",
       "224538    23899431  202003  일반 음식점업  40s   1     3    3    73000   3\n",
       "224539    23899432  202003  일반 음식점업  30s   1     2    4   321000   5\n",
       "\n",
       "[224540 rows x 9 columns]"
      ]
     },
     "execution_count": 67,
     "metadata": {},
     "output_type": "execute_result"
    }
   ],
   "source": [
    "df"
   ]
  },
  {
   "cell_type": "code",
   "execution_count": 68,
   "metadata": {},
   "outputs": [],
   "source": [
    "import matplotlib\n",
    "from matplotlib import font_manager, rc\n",
    "import platform\n",
    "\n",
    "if platform.system() == 'Windows':\n",
    "# windows 인 경우\n",
    "    font_name = font_manager.FontProperties(fname=\"c:\\Windows\\Fonts\\malgun.ttf\").get_name()\n",
    "    rc('font', family=font_name)\n",
    "else: \n",
    "# mac 인 경우\n",
    "    rc('font', family='AppleGothic')\n",
    "    \n",
    "# 그래프에서 마이너스 기호가 표시되도록 하는 설정\n",
    "matplotlib.rcParams['axes.unicode_minus'] = False"
   ]
  },
  {
   "cell_type": "code",
   "execution_count": 69,
   "metadata": {},
   "outputs": [],
   "source": [
    "df_cafe=df[df['업종명']=='카페']\n",
    "df_food=df[df['업종명']=='일반 음식점업']\n",
    "df_tour=df[df['업종명']=='관광업']\n",
    "df_sport=df[df['업종명']=='스포츠 및 레크레이션 용품 임대업']\n",
    "df_dis=df[df['업종명']=='전시 및 행사 대행업']"
   ]
  },
  {
   "cell_type": "code",
   "execution_count": 70,
   "metadata": {},
   "outputs": [],
   "source": [
    "df_cafe_1901=df_cafe[(df_cafe['년월']==201901)]\n",
    "df_cafe_1901\n",
    "df_cafe_1901_금액=df_cafe_1901['금액']\n",
    "df_cafe_sum_1901=sum(df_cafe_1901_금액)\n",
    "df_cafe_1902=df_cafe[(df_cafe['년월']==201902)]\n",
    "df_cafe_1902\n",
    "df_cafe_1902_금액=df_cafe_1902['금액']\n",
    "df_cafe_sum_1902=sum(df_cafe_1902_금액)\n",
    "df_cafe_1903=df_cafe[(df_cafe['년월']==201903)]\n",
    "df_cafe_1903\n",
    "df_cafe_1903_금액=df_cafe_1903['금액']\n",
    "df_cafe_sum_1903=sum(df_cafe_1903_금액)\n",
    "df_cafe_2001=df_cafe[(df_cafe['년월']==202001)]\n",
    "df_cafe_2001\n",
    "df_cafe_2001_금액=df_cafe_2001['금액']\n",
    "df_cafe_sum_2001=sum(df_cafe_2001_금액)\n",
    "df_cafe_2002=df_cafe[(df_cafe['년월']==202002)]\n",
    "df_cafe_2002\n",
    "df_cafe_2002_금액=df_cafe_2002['금액']\n",
    "df_cafe_sum_2002=sum(df_cafe_2002_금액)\n",
    "df_cafe_2003=df_cafe[(df_cafe['년월']==202003)]\n",
    "df_cafe_2003\n",
    "df_cafe_2003_금액=df_cafe_2003['금액']\n",
    "df_cafe_sum_2003=sum(df_cafe_2003_금액) #대구/경북 카페 월별 금액으로 데이터 나누기"
   ]
  },
  {
   "cell_type": "code",
   "execution_count": 71,
   "metadata": {},
   "outputs": [
    {
     "name": "stdout",
     "output_type": "stream",
     "text": [
      "19년 대구/경북 카페 1,2월 매출감소율 : 2.0155795894956725 %\n"
     ]
    }
   ],
   "source": [
    "print('19년 대구/경북 카페 1,2월 매출감소율 :',100-((df_cafe_sum_1902/df_cafe_sum_1901)*100),'%')"
   ]
  },
  {
   "cell_type": "code",
   "execution_count": 72,
   "metadata": {},
   "outputs": [
    {
     "name": "stdout",
     "output_type": "stream",
     "text": [
      "19년 대구/경북 카페 2,3월 매출감소율 : -15.005354202585238 %\n"
     ]
    }
   ],
   "source": [
    "print('19년 대구/경북 카페 2,3월 매출감소율 :',100-((df_cafe_sum_1903/df_cafe_sum_1902)*100),'%')"
   ]
  },
  {
   "cell_type": "markdown",
   "metadata": {},
   "source": [
    "## 19년 대구/경북 카페 매출 감소율 평균"
   ]
  },
  {
   "cell_type": "code",
   "execution_count": 73,
   "metadata": {},
   "outputs": [],
   "source": [
    "cafe19=(100-((df_cafe_sum_1902/df_cafe_sum_1901)*100))+(100-((df_cafe_sum_1903/df_cafe_sum_1902)*100))"
   ]
  },
  {
   "cell_type": "code",
   "execution_count": 74,
   "metadata": {
    "scrolled": true
   },
   "outputs": [
    {
     "name": "stdout",
     "output_type": "stream",
     "text": [
      "-6.494887306544783\n"
     ]
    }
   ],
   "source": [
    "print(cafe19/2)"
   ]
  },
  {
   "cell_type": "code",
   "execution_count": null,
   "metadata": {},
   "outputs": [],
   "source": []
  },
  {
   "cell_type": "code",
   "execution_count": 76,
   "metadata": {},
   "outputs": [
    {
     "name": "stdout",
     "output_type": "stream",
     "text": [
      "20년 대구/경북 카페 1,2월 매출감소율 : 26.10094661723967 %\n"
     ]
    }
   ],
   "source": [
    "print('20년 대구/경북 카페 1,2월 매출감소율 :',100-((df_cafe_sum_2002/df_cafe_sum_2001)*100),'%')"
   ]
  },
  {
   "cell_type": "code",
   "execution_count": 77,
   "metadata": {},
   "outputs": [
    {
     "name": "stdout",
     "output_type": "stream",
     "text": [
      "20년 대구/경북 카페 2,3월 매출감소율 : 20.08255859576404 %\n"
     ]
    }
   ],
   "source": [
    "print('20년 대구/경북 카페 2,3월 매출감소율 :',100-((df_cafe_sum_2003/df_cafe_sum_2002)*100),'%')"
   ]
  },
  {
   "cell_type": "markdown",
   "metadata": {},
   "source": [
    "## 20년 대구/경북 카페 매출 감소율 평균"
   ]
  },
  {
   "cell_type": "code",
   "execution_count": 78,
   "metadata": {},
   "outputs": [],
   "source": [
    "cafe20=(100-((df_cafe_sum_2002/df_cafe_sum_2001)*100))+(100-((df_cafe_sum_2003/df_cafe_sum_2002)*100))\n"
   ]
  },
  {
   "cell_type": "code",
   "execution_count": 79,
   "metadata": {},
   "outputs": [
    {
     "name": "stdout",
     "output_type": "stream",
     "text": [
      "23.091752606501856\n"
     ]
    }
   ],
   "source": [
    "print(cafe20/2)"
   ]
  },
  {
   "cell_type": "code",
   "execution_count": 80,
   "metadata": {},
   "outputs": [
    {
     "data": {
      "image/png": "[encoded data removed]",
      "text/plain": [
       "<Figure size 288x288 with 1 Axes>"
      ]
     },
     "metadata": {},
     "output_type": "display_data"
    }
   ],
   "source": [
    "plt.style.use('ggplot')\n",
    "\n",
    "fig = plt.figure(figsize=(4,4))\n",
    "ax = fig.add_subplot(1,1,1)\n",
    "\n",
    "\n",
    "x=[19,20]\n",
    "y=[cafe19/2,cafe20/2]\n",
    "\n",
    "plt.title('19/20년도 대구/경북 카페 매출감소량 평균',fontsize=20)\n",
    "plt.ylabel('AMT',fontsize=13)\n",
    "plt.xlabel('REG_YYMM',fontsize=13)\n",
    "\n",
    "ax.bar(x,y)\n",
    "plt.show()"
   ]
  },
  {
   "cell_type": "code",
   "execution_count": null,
   "metadata": {},
   "outputs": [],
   "source": []
  },
  {
   "cell_type": "code",
   "execution_count": 81,
   "metadata": {},
   "outputs": [],
   "source": [
    "df_food_1901=df_food[(df_food['년월']==201901)]\n",
    "df_food_1901\n",
    "df_food_1901_금액=df_food_1901['금액']\n",
    "df_food_sum_1901=sum(df_food_1901_금액)\n",
    "df_food_1902=df_food[(df_food['년월']==201902)]\n",
    "df_food_1902\n",
    "df_food_1902_금액=df_food_1902['금액']\n",
    "df_food_sum_1902=sum(df_food_1902_금액)\n",
    "df_food_1903=df_food[(df_food['년월']==201903)]\n",
    "df_food_1903\n",
    "df_food_1903_금액=df_food_1903['금액']\n",
    "df_food_sum_1903=sum(df_food_1903_금액)\n",
    "df_food_2001=df_food[(df_food['년월']==202001)]\n",
    "df_food_2001\n",
    "df_food_2001_금액=df_food_2001['금액']\n",
    "df_food_sum_2001=sum(df_food_2001_금액)\n",
    "df_food_2002=df_food[(df_food['년월']==202002)]\n",
    "df_food_2002\n",
    "df_food_2002_금액=df_food_2002['금액']\n",
    "df_food_sum_2002=sum(df_food_2002_금액)\n",
    "df_food_2003=df_food[(df_food['년월']==202003)]\n",
    "df_food_2003\n",
    "df_food_2003_금액=df_food_2003['금액']\n",
    "df_food_sum_2003=sum(df_food_2003_금액) "
   ]
  },
  {
   "cell_type": "code",
   "execution_count": 82,
   "metadata": {},
   "outputs": [
    {
     "name": "stdout",
     "output_type": "stream",
     "text": [
      "19년 대구/경북 일반음식점업 1,2월 매출감소율 : 9.55506636594528 %\n"
     ]
    }
   ],
   "source": [
    "print('19년 대구/경북 일반음식점업 1,2월 매출감소율 :',100-((df_food_sum_1902/df_food_sum_1901)*100),'%')"
   ]
  },
  {
   "cell_type": "code",
   "execution_count": 83,
   "metadata": {},
   "outputs": [
    {
     "name": "stdout",
     "output_type": "stream",
     "text": [
      "19년 대구/경북 일반음식점업 2,3월 매출감소율 : -14.723187950181796 %\n"
     ]
    }
   ],
   "source": [
    "print('19년 대구/경북 일반음식점업 2,3월 매출감소율 :',100-((df_food_sum_1903/df_food_sum_1902)*100),'%')"
   ]
  },
  {
   "cell_type": "markdown",
   "metadata": {},
   "source": [
    "## 19년 대구/경북 일반음식점업 매출감소량 평균"
   ]
  },
  {
   "cell_type": "code",
   "execution_count": 84,
   "metadata": {},
   "outputs": [],
   "source": [
    "food19=(100-((df_food_sum_1902/df_food_sum_1901)*100))+(100-((df_food_sum_1903/df_food_sum_1902)*100))"
   ]
  },
  {
   "cell_type": "code",
   "execution_count": 85,
   "metadata": {},
   "outputs": [
    {
     "name": "stdout",
     "output_type": "stream",
     "text": [
      "-2.584060792118258\n"
     ]
    }
   ],
   "source": [
    "print(food19/2)"
   ]
  },
  {
   "cell_type": "code",
   "execution_count": null,
   "metadata": {},
   "outputs": [],
   "source": []
  },
  {
   "cell_type": "code",
   "execution_count": 86,
   "metadata": {},
   "outputs": [
    {
     "name": "stdout",
     "output_type": "stream",
     "text": [
      "20년 대구/경북 음식점업 1,2월 매출감소율 : 28.86065578454165 %\n"
     ]
    }
   ],
   "source": [
    "print('20년 대구/경북 음식점업 1,2월 매출감소율 :',100-((df_food_sum_2002/df_food_sum_2001)*100),'%')"
   ]
  },
  {
   "cell_type": "code",
   "execution_count": 87,
   "metadata": {},
   "outputs": [
    {
     "name": "stdout",
     "output_type": "stream",
     "text": [
      "20년 대구/경북 음식접업 2,3월 매출감소율 : 31.562636891469694 %\n"
     ]
    }
   ],
   "source": [
    "print('20년 대구/경북 음식접업 2,3월 매출감소율 :',100-((df_food_sum_2003/df_food_sum_2002)*100),'%')"
   ]
  },
  {
   "cell_type": "markdown",
   "metadata": {},
   "source": [
    "## 20년 대구/경북 일반음식접업 매출감소량 평균"
   ]
  },
  {
   "cell_type": "code",
   "execution_count": 88,
   "metadata": {},
   "outputs": [],
   "source": [
    "food20=(100-((df_food_sum_2002/df_food_sum_2001)*100))+(100-((df_food_sum_2003/df_food_sum_2002)*100))"
   ]
  },
  {
   "cell_type": "code",
   "execution_count": 89,
   "metadata": {},
   "outputs": [
    {
     "name": "stdout",
     "output_type": "stream",
     "text": [
      "30.21164633800567\n"
     ]
    }
   ],
   "source": [
    "print(food20/2)"
   ]
  },
  {
   "cell_type": "code",
   "execution_count": 90,
   "metadata": {},
   "outputs": [
    {
     "data": {
      "image/png": "[encoded data removed]",
      "text/plain": [
       "<Figure size 288x288 with 1 Axes>"
      ]
     },
     "metadata": {},
     "output_type": "display_data"
    }
   ],
   "source": [
    "plt.style.use('ggplot')\n",
    "\n",
    "fig = plt.figure(figsize=(4,4))\n",
    "ax = fig.add_subplot(1,1,1)\n",
    "\n",
    "\n",
    "x=[19,20]\n",
    "y=[food19/2,food20/2]\n",
    "\n",
    "plt.title('19/20년도 대구/경북 음식점업 매출감소량 평균',fontsize=20)\n",
    "plt.ylabel('AMT',fontsize=13)\n",
    "plt.xlabel('REG_YYMM',fontsize=13)\n",
    "\n",
    "ax.bar(x,y)\n",
    "plt.show()"
   ]
  },
  {
   "cell_type": "code",
   "execution_count": null,
   "metadata": {},
   "outputs": [],
   "source": []
  },
  {
   "cell_type": "code",
   "execution_count": 91,
   "metadata": {},
   "outputs": [],
   "source": [
    "df_tour_1901=df_tour[(df_tour['년월']==201901)]\n",
    "df_tour_1901\n",
    "df_tour_1901_금액=df_tour_1901['금액']\n",
    "df_tour_sum_1901=sum(df_tour_1901_금액)\n",
    "df_tour_1902=df_tour[(df_tour['년월']==201902)]\n",
    "df_tour_1902\n",
    "df_tour_1902_금액=df_tour_1902['금액']\n",
    "df_tour_sum_1902=sum(df_tour_1902_금액)\n",
    "df_tour_1903=df_tour[(df_tour['년월']==201903)]\n",
    "df_tour_1903\n",
    "df_tour_1903_금액=df_tour_1903['금액']\n",
    "df_tour_sum_1903=sum(df_tour_1903_금액)\n",
    "df_tour_2001=df_tour[(df_tour['년월']==202001)]\n",
    "df_tour_2001\n",
    "df_tour_2001_금액=df_tour_2001['금액']\n",
    "df_tour_sum_2001=sum(df_tour_2001_금액)\n",
    "df_tour_2002=df_tour[(df_tour['년월']==202002)]\n",
    "df_tour_2002\n",
    "df_tour_2002_금액=df_tour_2002['금액']\n",
    "df_tour_sum_2002=sum(df_tour_2002_금액)\n",
    "df_tour_2003=df_tour[(df_tour['년월']==202003)]\n",
    "df_tour_2003\n",
    "df_tour_2003_금액=df_tour_2003['금액']\n",
    "df_tour_sum_2003=sum(df_tour_2003_금액)"
   ]
  },
  {
   "cell_type": "code",
   "execution_count": 92,
   "metadata": {},
   "outputs": [
    {
     "name": "stdout",
     "output_type": "stream",
     "text": [
      "19년 대구/경북 관광업 1,2월 매출감소율 : 14.705464402998459 %\n"
     ]
    }
   ],
   "source": [
    "print('19년 대구/경북 관광업 1,2월 매출감소율 :',100-((df_tour_sum_1902/df_tour_sum_1901)*100),'%')\n"
   ]
  },
  {
   "cell_type": "code",
   "execution_count": 93,
   "metadata": {},
   "outputs": [
    {
     "name": "stdout",
     "output_type": "stream",
     "text": [
      "19년 대구/경북 관광업 2,3월 매출감소율 : 9.47382054134519 %\n"
     ]
    }
   ],
   "source": [
    "print('19년 대구/경북 관광업 2,3월 매출감소율 :',100-((df_tour_sum_1903/df_tour_sum_1902)*100),'%')"
   ]
  },
  {
   "cell_type": "markdown",
   "metadata": {},
   "source": [
    "## 19년 대구/경북 관광업 매출감소량 평균"
   ]
  },
  {
   "cell_type": "code",
   "execution_count": 94,
   "metadata": {},
   "outputs": [],
   "source": [
    "tour19=(100-((df_tour_sum_1902/df_tour_sum_1901)*100))+(100-((df_tour_sum_1903/df_tour_sum_1902)*100))"
   ]
  },
  {
   "cell_type": "code",
   "execution_count": 95,
   "metadata": {},
   "outputs": [
    {
     "name": "stdout",
     "output_type": "stream",
     "text": [
      "12.089642472171825\n"
     ]
    }
   ],
   "source": [
    "print(tour19/2)"
   ]
  },
  {
   "cell_type": "code",
   "execution_count": null,
   "metadata": {},
   "outputs": [],
   "source": []
  },
  {
   "cell_type": "code",
   "execution_count": 96,
   "metadata": {},
   "outputs": [
    {
     "name": "stdout",
     "output_type": "stream",
     "text": [
      "20년 대구/경북 관광업 1,2월 매출감소율 : 49.839031241494204 %\n"
     ]
    }
   ],
   "source": [
    "print('20년 대구/경북 관광업 1,2월 매출감소율 :',100-((df_tour_sum_2002/df_tour_sum_2001)*100),'%')"
   ]
  },
  {
   "cell_type": "code",
   "execution_count": 97,
   "metadata": {},
   "outputs": [
    {
     "name": "stdout",
     "output_type": "stream",
     "text": [
      "20년 대구/경북 관광업 2,3월 매출감소율 : 90.39982870572885 %\n"
     ]
    }
   ],
   "source": [
    "print('20년 대구/경북 관광업 2,3월 매출감소율 :',100-((df_tour_sum_2003/df_tour_sum_2002)*100),'%')"
   ]
  },
  {
   "cell_type": "markdown",
   "metadata": {},
   "source": [
    "## 20년 대구/경북 관광업 매출감소량 평균"
   ]
  },
  {
   "cell_type": "code",
   "execution_count": 98,
   "metadata": {},
   "outputs": [],
   "source": [
    "tour20=(100-((df_tour_sum_2002/df_tour_sum_2001)*100))+(100-((df_tour_sum_2003/df_tour_sum_2002)*100))\n"
   ]
  },
  {
   "cell_type": "code",
   "execution_count": 99,
   "metadata": {},
   "outputs": [
    {
     "name": "stdout",
     "output_type": "stream",
     "text": [
      "70.11942997361153\n"
     ]
    }
   ],
   "source": [
    "print(tour20/2)"
   ]
  },
  {
   "cell_type": "code",
   "execution_count": null,
   "metadata": {},
   "outputs": [],
   "source": []
  },
  {
   "cell_type": "code",
   "execution_count": 100,
   "metadata": {},
   "outputs": [
    {
     "data": {
      "image/png": "[encoded data removed]",
      "text/plain": [
       "<Figure size 288x288 with 1 Axes>"
      ]
     },
     "metadata": {},
     "output_type": "display_data"
    }
   ],
   "source": [
    "plt.style.use('ggplot')\n",
    "\n",
    "fig = plt.figure(figsize=(4,4))\n",
    "ax = fig.add_subplot(1,1,1)\n",
    "\n",
    "\n",
    "x=[19,20]\n",
    "y=[tour19/2,tour20/2]\n",
    "\n",
    "plt.title('19/20년도 대구/경북 관광업 매출감소량 평균',fontsize=20)\n",
    "plt.ylabel('AMT',fontsize=13)\n",
    "plt.xlabel('REG_YYMM',fontsize=13)\n",
    "\n",
    "ax.bar(x,y)\n",
    "plt.show()"
   ]
  },
  {
   "cell_type": "code",
   "execution_count": null,
   "metadata": {},
   "outputs": [],
   "source": []
  },
  {
   "cell_type": "code",
   "execution_count": 101,
   "metadata": {},
   "outputs": [],
   "source": [
    "df_sport_1901=df_sport[(df_sport['년월']==201901)]\n",
    "df_sport_1901\n",
    "df_sport_1901_금액=df_sport_1901['금액']\n",
    "df_sport_sum_1901=sum(df_sport_1901_금액)\n",
    "df_sport_1902=df_sport[(df_sport['년월']==201902)]\n",
    "df_sport_1902\n",
    "df_sport_1902_금액=df_sport_1902['금액']\n",
    "df_sport_sum_1902=sum(df_sport_1902_금액)\n",
    "df_sport_1903=df_sport[(df_sport['년월']==201903)]\n",
    "df_sport_1903\n",
    "df_sport_1903_금액=df_sport_1903['금액']\n",
    "df_sport_sum_1903=sum(df_sport_1903_금액)\n",
    "df_sport_2001=df_sport[(df_sport['년월']==202001)]\n",
    "df_sport_2001\n",
    "df_sport_2001_금액=df_sport_2001['금액']\n",
    "df_sport_sum_2001=sum(df_sport_2001_금액)\n",
    "df_sport_2002=df_sport[(df_sport['년월']==202002)]\n",
    "df_sport_2002\n",
    "df_sport_2002_금액=df_sport_2002['금액']\n",
    "df_sport_sum_2002=sum(df_sport_2002_금액)\n",
    "df_sport_2003=df_sport[(df_sport['년월']==202003)]\n",
    "df_sport_2003\n",
    "df_sport_2003_금액=df_sport_2003['금액']\n",
    "df_sport_sum_2003=sum(df_sport_2003_금액)"
   ]
  },
  {
   "cell_type": "code",
   "execution_count": 102,
   "metadata": {},
   "outputs": [
    {
     "name": "stdout",
     "output_type": "stream",
     "text": [
      "19년 대구/경북 스포츠업 1,2월 매출감소율 : 5.376440917320608 %\n"
     ]
    }
   ],
   "source": [
    "print('19년 대구/경북 스포츠업 1,2월 매출감소율 :',100-((df_sport_sum_1902/df_sport_sum_1901)*100),'%')"
   ]
  },
  {
   "cell_type": "code",
   "execution_count": 103,
   "metadata": {},
   "outputs": [
    {
     "name": "stdout",
     "output_type": "stream",
     "text": [
      "19년 대구/경북 스포츠업 2,3월 매출감소율 : -32.924115475303154 %\n"
     ]
    }
   ],
   "source": [
    "print('19년 대구/경북 스포츠업 2,3월 매출감소율 :',100-((df_sport_sum_1903/df_sport_sum_1902)*100),'%')"
   ]
  },
  {
   "cell_type": "markdown",
   "metadata": {},
   "source": [
    "## 19년 대구/경북 스포츠업 매출감소량 평균"
   ]
  },
  {
   "cell_type": "code",
   "execution_count": 104,
   "metadata": {},
   "outputs": [],
   "source": [
    "sport19=(100-((df_sport_sum_1902/df_sport_sum_1901)*100))+(100-((df_sport_sum_1903/df_sport_sum_1902)*100))"
   ]
  },
  {
   "cell_type": "code",
   "execution_count": 105,
   "metadata": {},
   "outputs": [
    {
     "name": "stdout",
     "output_type": "stream",
     "text": [
      "-13.773837278991273\n"
     ]
    }
   ],
   "source": [
    "print(sport19/2)"
   ]
  },
  {
   "cell_type": "code",
   "execution_count": null,
   "metadata": {},
   "outputs": [],
   "source": []
  },
  {
   "cell_type": "code",
   "execution_count": 106,
   "metadata": {},
   "outputs": [
    {
     "name": "stdout",
     "output_type": "stream",
     "text": [
      "20년 대구/경북 스포츠업 1,2월 매출감소율 : 33.9707965910755 %\n"
     ]
    }
   ],
   "source": [
    "print('20년 대구/경북 스포츠업 1,2월 매출감소율 :',100-((df_sport_sum_2002/df_sport_sum_2001)*100),'%')\n"
   ]
  },
  {
   "cell_type": "code",
   "execution_count": 107,
   "metadata": {},
   "outputs": [
    {
     "name": "stdout",
     "output_type": "stream",
     "text": [
      "20년 대구/경북 스포츠업 2,3월 매출감소율 : 1.8687284575058243 %\n"
     ]
    }
   ],
   "source": [
    "print('20년 대구/경북 스포츠업 2,3월 매출감소율 :',100-((df_sport_sum_2003/df_sport_sum_2002)*100),'%')"
   ]
  },
  {
   "cell_type": "markdown",
   "metadata": {},
   "source": [
    "## 20년 대구/경북 스포츠업 매출감소량 평균"
   ]
  },
  {
   "cell_type": "code",
   "execution_count": 108,
   "metadata": {},
   "outputs": [],
   "source": [
    "sport20=(100-((df_sport_sum_2002/df_sport_sum_2001)*100))+(100-((df_sport_sum_2003/df_sport_sum_2002)*100))"
   ]
  },
  {
   "cell_type": "code",
   "execution_count": 109,
   "metadata": {},
   "outputs": [
    {
     "name": "stdout",
     "output_type": "stream",
     "text": [
      "17.91976252429066\n"
     ]
    }
   ],
   "source": [
    "print(sport20/2)"
   ]
  },
  {
   "cell_type": "code",
   "execution_count": 110,
   "metadata": {},
   "outputs": [
    {
     "data": {
      "image/png": "[encoded data removed]",
      "text/plain": [
       "<Figure size 288x288 with 1 Axes>"
      ]
     },
     "metadata": {},
     "output_type": "display_data"
    }
   ],
   "source": [
    "plt.style.use('ggplot')\n",
    "\n",
    "fig = plt.figure(figsize=(4,4))\n",
    "ax = fig.add_subplot(1,1,1)\n",
    "\n",
    "\n",
    "x=[19,20]\n",
    "y=[sport19/2,sport20/2]\n",
    "\n",
    "plt.title('19/20년도 대구/경북 스포츠업 매출감소량 평균',fontsize=20)\n",
    "plt.ylabel('AMT',fontsize=13)\n",
    "plt.xlabel('REG_YYMM',fontsize=13)\n",
    "\n",
    "ax.bar(x,y)\n",
    "plt.show()"
   ]
  },
  {
   "cell_type": "code",
   "execution_count": null,
   "metadata": {},
   "outputs": [],
   "source": []
  },
  {
   "cell_type": "code",
   "execution_count": 111,
   "metadata": {},
   "outputs": [],
   "source": [
    "df_dis_1901=df_dis[(df_dis['년월']==201901)]\n",
    "df_dis_1901\n",
    "df_dis_1901_금액=df_dis_1901['금액']\n",
    "df_dis_sum_1901=sum(df_dis_1901_금액)\n",
    "df_dis_1902=df_dis[(df_dis['년월']==201902)]\n",
    "df_dis_1902\n",
    "df_dis_1902_금액=df_dis_1902['금액']\n",
    "df_dis_sum_1902=sum(df_dis_1902_금액)\n",
    "df_dis_1903=df_dis[(df_dis['년월']==201903)]\n",
    "df_dis_1903\n",
    "df_dis_1903_금액=df_dis_1903['금액']\n",
    "df_dis_sum_1903=sum(df_dis_1903_금액)\n",
    "df_dis_2001=df_dis[(df_dis['년월']==202001)]\n",
    "df_dis_2001\n",
    "df_dis_2001_금액=df_dis_2001['금액']\n",
    "df_dis_sum_2001=sum(df_dis_2001_금액)\n",
    "df_dis_2002=df_dis[(df_dis['년월']==202002)]\n",
    "df_dis_2002\n",
    "df_dis_2002_금액=df_dis_2002['금액']\n",
    "df_dis_sum_2002=sum(df_dis_2002_금액)\n",
    "df_dis_2003=df_dis[(df_dis['년월']==202003)]\n",
    "df_dis_2003\n",
    "df_dis_2003_금액=df_dis_2003['금액']\n",
    "df_dis_sum_2003=sum(df_dis_2003_금액)"
   ]
  },
  {
   "cell_type": "code",
   "execution_count": 112,
   "metadata": {},
   "outputs": [
    {
     "name": "stdout",
     "output_type": "stream",
     "text": [
      "19년 대구/경북 전시 및 행사업 1,2월 매출감소율 : -44.40786295633535 %\n"
     ]
    }
   ],
   "source": [
    "print('19년 대구/경북 전시 및 행사업 1,2월 매출감소율 :',100-((df_dis_sum_1902/df_dis_sum_1901)*100),'%')"
   ]
  },
  {
   "cell_type": "code",
   "execution_count": 113,
   "metadata": {},
   "outputs": [
    {
     "name": "stdout",
     "output_type": "stream",
     "text": [
      "19년 대구/경북 전시 및 행사업 2,3월 매출감소율 : -10.110522525184422 %\n"
     ]
    }
   ],
   "source": [
    "print('19년 대구/경북 전시 및 행사업 2,3월 매출감소율 :',100-((df_dis_sum_1903/df_dis_sum_1902)*100),'%')"
   ]
  },
  {
   "cell_type": "markdown",
   "metadata": {},
   "source": [
    "## 19년 대구/경북 전시 및 행사업 매출감소량 평균"
   ]
  },
  {
   "cell_type": "code",
   "execution_count": 114,
   "metadata": {},
   "outputs": [],
   "source": [
    "dis19=(100-((df_dis_sum_1902/df_dis_sum_1901)*100))+(100-((df_dis_sum_1903/df_dis_sum_1902)*100))"
   ]
  },
  {
   "cell_type": "code",
   "execution_count": 115,
   "metadata": {
    "scrolled": true
   },
   "outputs": [
    {
     "name": "stdout",
     "output_type": "stream",
     "text": [
      "-27.259192740759886\n"
     ]
    }
   ],
   "source": [
    "print(dis19/2)"
   ]
  },
  {
   "cell_type": "code",
   "execution_count": null,
   "metadata": {},
   "outputs": [],
   "source": []
  },
  {
   "cell_type": "code",
   "execution_count": 116,
   "metadata": {},
   "outputs": [
    {
     "name": "stdout",
     "output_type": "stream",
     "text": [
      "20년 대구/경북 전시 및 행사업 1,2월 매출감소율 : 20.405423921057462 %\n"
     ]
    }
   ],
   "source": [
    "print('20년 대구/경북 전시 및 행사업 1,2월 매출감소율 :',100-((df_dis_sum_2002/df_dis_sum_2001)*100),'%')"
   ]
  },
  {
   "cell_type": "code",
   "execution_count": 117,
   "metadata": {},
   "outputs": [
    {
     "name": "stdout",
     "output_type": "stream",
     "text": [
      "20년 대구/경북 전시 및 행사업 2,3월 매출감소율 : 79.20315402433431 %\n"
     ]
    }
   ],
   "source": [
    "print('20년 대구/경북 전시 및 행사업 2,3월 매출감소율 :',100-((df_dis_sum_2003/df_dis_sum_2002)*100),'%')"
   ]
  },
  {
   "cell_type": "markdown",
   "metadata": {},
   "source": [
    "## 20년 대구/경북 전시 및 행사업 매출감소량 평균\n"
   ]
  },
  {
   "cell_type": "code",
   "execution_count": 118,
   "metadata": {},
   "outputs": [],
   "source": [
    "dis20=(100-((df_dis_sum_2002/df_dis_sum_2001)*100))+(100-((df_dis_sum_2003/df_dis_sum_2002)*100))"
   ]
  },
  {
   "cell_type": "code",
   "execution_count": 119,
   "metadata": {},
   "outputs": [
    {
     "name": "stdout",
     "output_type": "stream",
     "text": [
      "49.804288972695886\n"
     ]
    }
   ],
   "source": [
    "print(dis20/2)"
   ]
  },
  {
   "cell_type": "code",
   "execution_count": 120,
   "metadata": {},
   "outputs": [
    {
     "data": {
      "image/png": "[encoded data removed]",
      "text/plain": [
       "<Figure size 288x288 with 1 Axes>"
      ]
     },
     "metadata": {},
     "output_type": "display_data"
    }
   ],
   "source": [
    "plt.style.use('ggplot')\n",
    "\n",
    "fig = plt.figure(figsize=(4,4))\n",
    "ax = fig.add_subplot(1,1,1)\n",
    "\n",
    "\n",
    "x=[19,20]\n",
    "y=[dis19/2,dis20/2]\n",
    "\n",
    "plt.title('19/20년도 대구/경북 전시 및 행사 대행업 매출감소량 평균',fontsize=20)\n",
    "plt.ylabel('AMT',fontsize=13)\n",
    "plt.xlabel('REG_YYMM',fontsize=13)\n",
    "\n",
    "ax.bar(x,y)\n",
    "plt.show()"
   ]
  },
  {
   "cell_type": "code",
   "execution_count": null,
   "metadata": {},
   "outputs": [],
   "source": []
  },
  {
   "cell_type": "code",
   "execution_count": 121,
   "metadata": {},
   "outputs": [],
   "source": [
    "df_1901=df[(df['년월']==201901)]\n",
    "df_1901\n",
    "df_1901_금액=df_1901['금액']\n",
    "df_sum_1901=sum(df_1901_금액)\n",
    "df_1902=df[(df['년월']==201902)]\n",
    "df_1902\n",
    "df_1902_금액=df_1902['금액']\n",
    "df_sum_1902=sum(df_1902_금액)\n",
    "df_1903=df[(df['년월']==201903)]\n",
    "df_1903\n",
    "df_1903_금액=df_1903['금액']\n",
    "df_sum_1903=sum(df_1903_금액)\n",
    "df_2001=df[(df['년월']==202001)]\n",
    "df_2001\n",
    "df_2001_금액=df_2001['금액']\n",
    "df_sum_2001=sum(df_2001_금액)\n",
    "df_2002=df[(df['년월']==202002)]\n",
    "df_2002\n",
    "df_2002_금액=df_2002['금액']\n",
    "df_sum_2002=sum(df_2002_금액)\n",
    "df_2003=df[(df['년월']==202003)]\n",
    "df_2003\n",
    "df_2003_금액=df_2003['금액']\n",
    "df_sum_2003=sum(df_2003_금액) "
   ]
  },
  {
   "cell_type": "code",
   "execution_count": 122,
   "metadata": {},
   "outputs": [
    {
     "name": "stdout",
     "output_type": "stream",
     "text": [
      "19년 대구/경북 1,2월 매출감소율 : 8.859665950781817 %\n"
     ]
    }
   ],
   "source": [
    "print('19년 대구/경북 1,2월 매출감소율 :',100-((df_sum_1902/df_sum_1901)*100),'%')"
   ]
  },
  {
   "cell_type": "code",
   "execution_count": 123,
   "metadata": {},
   "outputs": [
    {
     "name": "stdout",
     "output_type": "stream",
     "text": [
      "19년 대구/경북 2,3월 매출감소율 : -15.849699201680693 %\n"
     ]
    }
   ],
   "source": [
    "print('19년 대구/경북 2,3월 매출감소율 :',100-((df_sum_1903/df_sum_1902)*100),'%')"
   ]
  },
  {
   "cell_type": "markdown",
   "metadata": {},
   "source": [
    "## 19년도 대구/경북 모든 업종 매출감소량 평균"
   ]
  },
  {
   "cell_type": "code",
   "execution_count": 124,
   "metadata": {},
   "outputs": [],
   "source": [
    "df19=(100-((df_sum_1902/df_sum_1901)*100))+(100-((df_sum_1903/df_sum_1902)*100))"
   ]
  },
  {
   "cell_type": "code",
   "execution_count": 125,
   "metadata": {},
   "outputs": [
    {
     "name": "stdout",
     "output_type": "stream",
     "text": [
      "-3.4950166254494377\n"
     ]
    }
   ],
   "source": [
    "print(df19/2)"
   ]
  },
  {
   "cell_type": "code",
   "execution_count": null,
   "metadata": {},
   "outputs": [],
   "source": []
  },
  {
   "cell_type": "code",
   "execution_count": 127,
   "metadata": {},
   "outputs": [
    {
     "name": "stdout",
     "output_type": "stream",
     "text": [
      "20년 대구/경북 1,2월 매출감소율 : 29.204145838426655 %\n"
     ]
    }
   ],
   "source": [
    "print('20년 대구/경북 1,2월 매출감소율 :',100-((df_sum_2002/df_sum_2001)*100),'%')"
   ]
  },
  {
   "cell_type": "code",
   "execution_count": 128,
   "metadata": {},
   "outputs": [
    {
     "name": "stdout",
     "output_type": "stream",
     "text": [
      "20년 대구/경북 2,3월 매출감소율 : 29.686100386679698 %\n"
     ]
    }
   ],
   "source": [
    "print('20년 대구/경북 2,3월 매출감소율 :',100-((df_sum_2003/df_sum_2002)*100),'%')"
   ]
  },
  {
   "cell_type": "markdown",
   "metadata": {},
   "source": [
    "## 20년도 대구/경북 모든 업종 매출감소량 평균"
   ]
  },
  {
   "cell_type": "code",
   "execution_count": 129,
   "metadata": {},
   "outputs": [],
   "source": [
    "df20=(100-((df_sum_2002/df_sum_2001)*100))+(100-((df_sum_2003/df_sum_2002)*100))"
   ]
  },
  {
   "cell_type": "code",
   "execution_count": 130,
   "metadata": {},
   "outputs": [
    {
     "name": "stdout",
     "output_type": "stream",
     "text": [
      "29.445123112553176\n"
     ]
    }
   ],
   "source": [
    "print(df20/2)"
   ]
  },
  {
   "cell_type": "code",
   "execution_count": 131,
   "metadata": {},
   "outputs": [
    {
     "data": {
      "image/png": "[encoded data removed]",
      "text/plain": [
       "<Figure size 288x288 with 1 Axes>"
      ]
     },
     "metadata": {},
     "output_type": "display_data"
    }
   ],
   "source": [
    "plt.style.use('ggplot')\n",
    "\n",
    "fig = plt.figure(figsize=(4,4))\n",
    "ax = fig.add_subplot(1,1,1)\n",
    "\n",
    "\n",
    "x=[19,20]\n",
    "y=[df19/2,df20/2]\n",
    "\n",
    "plt.title('19/20년도 대구/경북 모든 업종 매출감소량 평균',fontsize=20)\n",
    "plt.ylabel('AMT',fontsize=13)\n",
    "plt.xlabel('REG_YYMM',fontsize=13)\n",
    "\n",
    "ax.bar(x,y)\n",
    "plt.show()"
   ]
  },
  {
   "cell_type": "code",
   "execution_count": null,
   "metadata": {},
   "outputs": [],
   "source": []
  },
  {
   "cell_type": "code",
   "execution_count": null,
   "metadata": {},
   "outputs": [],
   "source": []
  }
 ],
 "metadata": {
  "kernelspec": {
   "display_name": "Python 3",
   "language": "python",
   "name": "python3"
  },
  "language_info": {
   "codemirror_mode": {
    "name": "ipython",
    "version": 3
   },
   "file_extension": ".py",
   "mimetype": "text/x-python",
   "name": "python",
   "nbconvert_exporter": "python",
   "pygments_lexer": "ipython3",
   "version": "3.7.9"
  }
 },
 "nbformat": 4,
 "nbformat_minor": 4
}
