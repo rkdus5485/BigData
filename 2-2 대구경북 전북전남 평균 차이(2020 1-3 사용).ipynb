{
 "cells": [
  {
   "cell_type": "code",
   "execution_count": 26,
   "metadata": {},
   "outputs": [],
   "source": [
    "import pandas as pd\n",
    "import numpy as np\n",
    "import seaborn as sns\n",
    "from scipy import stats\n",
    "import matplotlib.pyplot as plt"
   ]
  },
  {
   "cell_type": "code",
   "execution_count": 27,
   "metadata": {},
   "outputs": [],
   "source": [
    "from matplotlib import font_manager, rc\n",
    "font_name = font_manager.FontProperties(fname=\"C:/Windows/Fonts/malgun.ttf\").get_name()\n",
    "rc('font', family=font_name)"
   ]
  },
  {
   "cell_type": "code",
   "execution_count": 28,
   "metadata": {},
   "outputs": [],
   "source": [
    "df_d = pd.read_csv('1,2,3월_2.csv')\n",
    "df_j = pd.read_csv('1,2,3월_전북전남.csv')"
   ]
  },
  {
   "cell_type": "code",
   "execution_count": null,
   "metadata": {},
   "outputs": [],
   "source": []
  },
  {
   "cell_type": "code",
   "execution_count": 29,
   "metadata": {},
   "outputs": [],
   "source": [
    "df_d[\"연령대\"] = df_d[\"연령대\"].str.rstrip(\"s\").astype(\"int\")\n",
    "df_j['연령대'] = df_j['연령대'].str.rstrip('s').astype('int')"
   ]
  },
  {
   "cell_type": "code",
   "execution_count": 30,
   "metadata": {},
   "outputs": [
    {
     "data": {
      "text/html": [
       "<div>\n",
       "<style scoped>\n",
       "    .dataframe tbody tr th:only-of-type {\n",
       "        vertical-align: middle;\n",
       "    }\n",
       "\n",
       "    .dataframe tbody tr th {\n",
       "        vertical-align: top;\n",
       "    }\n",
       "\n",
       "    .dataframe thead th {\n",
       "        text-align: right;\n",
       "    }\n",
       "</style>\n",
       "<table border=\"1\" class=\"dataframe\">\n",
       "  <thead>\n",
       "    <tr style=\"text-align: right;\">\n",
       "      <th></th>\n",
       "      <th>Unnamed: 0</th>\n",
       "      <th>년월</th>\n",
       "      <th>업종명</th>\n",
       "      <th>연령대</th>\n",
       "      <th>성별</th>\n",
       "      <th>생애주기</th>\n",
       "      <th>고객수</th>\n",
       "      <th>금액</th>\n",
       "      <th>건수</th>\n",
       "      <th>사용지_시도</th>\n",
       "    </tr>\n",
       "  </thead>\n",
       "  <tbody>\n",
       "    <tr>\n",
       "      <th>0</th>\n",
       "      <td>598167</td>\n",
       "      <td>201901</td>\n",
       "      <td>카페</td>\n",
       "      <td>20</td>\n",
       "      <td>2</td>\n",
       "      <td>1</td>\n",
       "      <td>3</td>\n",
       "      <td>24890</td>\n",
       "      <td>3</td>\n",
       "      <td>대구경북</td>\n",
       "    </tr>\n",
       "    <tr>\n",
       "      <th>1</th>\n",
       "      <td>598168</td>\n",
       "      <td>201901</td>\n",
       "      <td>카페</td>\n",
       "      <td>20</td>\n",
       "      <td>2</td>\n",
       "      <td>1</td>\n",
       "      <td>3</td>\n",
       "      <td>17800</td>\n",
       "      <td>3</td>\n",
       "      <td>대구경북</td>\n",
       "    </tr>\n",
       "    <tr>\n",
       "      <th>2</th>\n",
       "      <td>598169</td>\n",
       "      <td>201901</td>\n",
       "      <td>카페</td>\n",
       "      <td>30</td>\n",
       "      <td>2</td>\n",
       "      <td>2</td>\n",
       "      <td>3</td>\n",
       "      <td>28500</td>\n",
       "      <td>4</td>\n",
       "      <td>대구경북</td>\n",
       "    </tr>\n",
       "    <tr>\n",
       "      <th>3</th>\n",
       "      <td>598170</td>\n",
       "      <td>201901</td>\n",
       "      <td>카페</td>\n",
       "      <td>20</td>\n",
       "      <td>1</td>\n",
       "      <td>1</td>\n",
       "      <td>3</td>\n",
       "      <td>27900</td>\n",
       "      <td>4</td>\n",
       "      <td>대구경북</td>\n",
       "    </tr>\n",
       "    <tr>\n",
       "      <th>4</th>\n",
       "      <td>598171</td>\n",
       "      <td>201901</td>\n",
       "      <td>카페</td>\n",
       "      <td>40</td>\n",
       "      <td>1</td>\n",
       "      <td>3</td>\n",
       "      <td>3</td>\n",
       "      <td>20600</td>\n",
       "      <td>3</td>\n",
       "      <td>대구경북</td>\n",
       "    </tr>\n",
       "  </tbody>\n",
       "</table>\n",
       "</div>"
      ],
      "text/plain": [
       "   Unnamed: 0      년월 업종명  연령대  성별  생애주기  고객수     금액  건수 사용지_시도\n",
       "0      598167  201901  카페   20   2     1    3  24890   3   대구경북\n",
       "1      598168  201901  카페   20   2     1    3  17800   3   대구경북\n",
       "2      598169  201901  카페   30   2     2    3  28500   4   대구경북\n",
       "3      598170  201901  카페   20   1     1    3  27900   4   대구경북\n",
       "4      598171  201901  카페   40   1     3    3  20600   3   대구경북"
      ]
     },
     "execution_count": 30,
     "metadata": {},
     "output_type": "execute_result"
    }
   ],
   "source": [
    "df_d['사용지_시도']='대구경북'\n",
    "df_d.head()"
   ]
  },
  {
   "cell_type": "code",
   "execution_count": 31,
   "metadata": {},
   "outputs": [],
   "source": [
    "df_j=df_j.replace({'전남':'전북전남',\"전북\" : \"전북전남\"})"
   ]
  },
  {
   "cell_type": "code",
   "execution_count": 32,
   "metadata": {},
   "outputs": [],
   "source": [
    "df_d[\"Log10_금액\"] = np.log10(df_d[\"금액\"])\n",
    "df_j[\"Log10_금액\"] = np.log10(df_j[\"금액\"])"
   ]
  },
  {
   "cell_type": "code",
   "execution_count": 33,
   "metadata": {},
   "outputs": [
    {
     "data": {
      "text/html": [
       "<div>\n",
       "<style scoped>\n",
       "    .dataframe tbody tr th:only-of-type {\n",
       "        vertical-align: middle;\n",
       "    }\n",
       "\n",
       "    .dataframe tbody tr th {\n",
       "        vertical-align: top;\n",
       "    }\n",
       "\n",
       "    .dataframe thead th {\n",
       "        text-align: right;\n",
       "    }\n",
       "</style>\n",
       "<table border=\"1\" class=\"dataframe\">\n",
       "  <thead>\n",
       "    <tr style=\"text-align: right;\">\n",
       "      <th></th>\n",
       "      <th>Unnamed: 0</th>\n",
       "      <th>년월</th>\n",
       "      <th>업종명</th>\n",
       "      <th>연령대</th>\n",
       "      <th>성별</th>\n",
       "      <th>생애주기</th>\n",
       "      <th>고객수</th>\n",
       "      <th>금액</th>\n",
       "      <th>건수</th>\n",
       "      <th>사용지_시도</th>\n",
       "      <th>Log10_금액</th>\n",
       "    </tr>\n",
       "  </thead>\n",
       "  <tbody>\n",
       "    <tr>\n",
       "      <th>0</th>\n",
       "      <td>598167</td>\n",
       "      <td>201901</td>\n",
       "      <td>카페</td>\n",
       "      <td>20</td>\n",
       "      <td>2</td>\n",
       "      <td>1</td>\n",
       "      <td>3</td>\n",
       "      <td>24890</td>\n",
       "      <td>3</td>\n",
       "      <td>대구경북</td>\n",
       "      <td>4.396025</td>\n",
       "    </tr>\n",
       "    <tr>\n",
       "      <th>1</th>\n",
       "      <td>598168</td>\n",
       "      <td>201901</td>\n",
       "      <td>카페</td>\n",
       "      <td>20</td>\n",
       "      <td>2</td>\n",
       "      <td>1</td>\n",
       "      <td>3</td>\n",
       "      <td>17800</td>\n",
       "      <td>3</td>\n",
       "      <td>대구경북</td>\n",
       "      <td>4.250420</td>\n",
       "    </tr>\n",
       "    <tr>\n",
       "      <th>2</th>\n",
       "      <td>598169</td>\n",
       "      <td>201901</td>\n",
       "      <td>카페</td>\n",
       "      <td>30</td>\n",
       "      <td>2</td>\n",
       "      <td>2</td>\n",
       "      <td>3</td>\n",
       "      <td>28500</td>\n",
       "      <td>4</td>\n",
       "      <td>대구경북</td>\n",
       "      <td>4.454845</td>\n",
       "    </tr>\n",
       "    <tr>\n",
       "      <th>3</th>\n",
       "      <td>598170</td>\n",
       "      <td>201901</td>\n",
       "      <td>카페</td>\n",
       "      <td>20</td>\n",
       "      <td>1</td>\n",
       "      <td>1</td>\n",
       "      <td>3</td>\n",
       "      <td>27900</td>\n",
       "      <td>4</td>\n",
       "      <td>대구경북</td>\n",
       "      <td>4.445604</td>\n",
       "    </tr>\n",
       "    <tr>\n",
       "      <th>4</th>\n",
       "      <td>598171</td>\n",
       "      <td>201901</td>\n",
       "      <td>카페</td>\n",
       "      <td>40</td>\n",
       "      <td>1</td>\n",
       "      <td>3</td>\n",
       "      <td>3</td>\n",
       "      <td>20600</td>\n",
       "      <td>3</td>\n",
       "      <td>대구경북</td>\n",
       "      <td>4.313867</td>\n",
       "    </tr>\n",
       "    <tr>\n",
       "      <th>...</th>\n",
       "      <td>...</td>\n",
       "      <td>...</td>\n",
       "      <td>...</td>\n",
       "      <td>...</td>\n",
       "      <td>...</td>\n",
       "      <td>...</td>\n",
       "      <td>...</td>\n",
       "      <td>...</td>\n",
       "      <td>...</td>\n",
       "      <td>...</td>\n",
       "      <td>...</td>\n",
       "    </tr>\n",
       "    <tr>\n",
       "      <th>224535</th>\n",
       "      <td>23899428</td>\n",
       "      <td>202003</td>\n",
       "      <td>일반 음식점업</td>\n",
       "      <td>20</td>\n",
       "      <td>1</td>\n",
       "      <td>1</td>\n",
       "      <td>8</td>\n",
       "      <td>904800</td>\n",
       "      <td>16</td>\n",
       "      <td>대구경북</td>\n",
       "      <td>5.956553</td>\n",
       "    </tr>\n",
       "    <tr>\n",
       "      <th>224536</th>\n",
       "      <td>23899429</td>\n",
       "      <td>202003</td>\n",
       "      <td>일반 음식점업</td>\n",
       "      <td>30</td>\n",
       "      <td>1</td>\n",
       "      <td>1</td>\n",
       "      <td>3</td>\n",
       "      <td>331800</td>\n",
       "      <td>4</td>\n",
       "      <td>대구경북</td>\n",
       "      <td>5.520876</td>\n",
       "    </tr>\n",
       "    <tr>\n",
       "      <th>224537</th>\n",
       "      <td>23899430</td>\n",
       "      <td>202003</td>\n",
       "      <td>일반 음식점업</td>\n",
       "      <td>30</td>\n",
       "      <td>1</td>\n",
       "      <td>2</td>\n",
       "      <td>7</td>\n",
       "      <td>1153000</td>\n",
       "      <td>28</td>\n",
       "      <td>대구경북</td>\n",
       "      <td>6.061829</td>\n",
       "    </tr>\n",
       "    <tr>\n",
       "      <th>224538</th>\n",
       "      <td>23899431</td>\n",
       "      <td>202003</td>\n",
       "      <td>일반 음식점업</td>\n",
       "      <td>40</td>\n",
       "      <td>1</td>\n",
       "      <td>3</td>\n",
       "      <td>3</td>\n",
       "      <td>73000</td>\n",
       "      <td>3</td>\n",
       "      <td>대구경북</td>\n",
       "      <td>4.863323</td>\n",
       "    </tr>\n",
       "    <tr>\n",
       "      <th>224539</th>\n",
       "      <td>23899432</td>\n",
       "      <td>202003</td>\n",
       "      <td>일반 음식점업</td>\n",
       "      <td>30</td>\n",
       "      <td>1</td>\n",
       "      <td>2</td>\n",
       "      <td>4</td>\n",
       "      <td>321000</td>\n",
       "      <td>5</td>\n",
       "      <td>대구경북</td>\n",
       "      <td>5.506505</td>\n",
       "    </tr>\n",
       "  </tbody>\n",
       "</table>\n",
       "<p>224540 rows × 11 columns</p>\n",
       "</div>"
      ],
      "text/plain": [
       "        Unnamed: 0      년월      업종명  연령대  성별  생애주기  고객수       금액  건수 사용지_시도  \\\n",
       "0           598167  201901       카페   20   2     1    3    24890   3   대구경북   \n",
       "1           598168  201901       카페   20   2     1    3    17800   3   대구경북   \n",
       "2           598169  201901       카페   30   2     2    3    28500   4   대구경북   \n",
       "3           598170  201901       카페   20   1     1    3    27900   4   대구경북   \n",
       "4           598171  201901       카페   40   1     3    3    20600   3   대구경북   \n",
       "...            ...     ...      ...  ...  ..   ...  ...      ...  ..    ...   \n",
       "224535    23899428  202003  일반 음식점업   20   1     1    8   904800  16   대구경북   \n",
       "224536    23899429  202003  일반 음식점업   30   1     1    3   331800   4   대구경북   \n",
       "224537    23899430  202003  일반 음식점업   30   1     2    7  1153000  28   대구경북   \n",
       "224538    23899431  202003  일반 음식점업   40   1     3    3    73000   3   대구경북   \n",
       "224539    23899432  202003  일반 음식점업   30   1     2    4   321000   5   대구경북   \n",
       "\n",
       "        Log10_금액  \n",
       "0       4.396025  \n",
       "1       4.250420  \n",
       "2       4.454845  \n",
       "3       4.445604  \n",
       "4       4.313867  \n",
       "...          ...  \n",
       "224535  5.956553  \n",
       "224536  5.520876  \n",
       "224537  6.061829  \n",
       "224538  4.863323  \n",
       "224539  5.506505  \n",
       "\n",
       "[224540 rows x 11 columns]"
      ]
     },
     "execution_count": 33,
     "metadata": {},
     "output_type": "execute_result"
    }
   ],
   "source": [
    "df_d"
   ]
  },
  {
   "cell_type": "code",
   "execution_count": 34,
   "metadata": {
    "scrolled": true
   },
   "outputs": [
    {
     "data": {
      "text/html": [
       "<div>\n",
       "<style scoped>\n",
       "    .dataframe tbody tr th:only-of-type {\n",
       "        vertical-align: middle;\n",
       "    }\n",
       "\n",
       "    .dataframe tbody tr th {\n",
       "        vertical-align: top;\n",
       "    }\n",
       "\n",
       "    .dataframe thead th {\n",
       "        text-align: right;\n",
       "    }\n",
       "</style>\n",
       "<table border=\"1\" class=\"dataframe\">\n",
       "  <thead>\n",
       "    <tr style=\"text-align: right;\">\n",
       "      <th></th>\n",
       "      <th>Unnamed: 0</th>\n",
       "      <th>년월</th>\n",
       "      <th>사용지_시도</th>\n",
       "      <th>업종명</th>\n",
       "      <th>연령대</th>\n",
       "      <th>성별</th>\n",
       "      <th>생애주기</th>\n",
       "      <th>고객수</th>\n",
       "      <th>금액</th>\n",
       "      <th>건수</th>\n",
       "      <th>Log10_금액</th>\n",
       "    </tr>\n",
       "  </thead>\n",
       "  <tbody>\n",
       "    <tr>\n",
       "      <th>0</th>\n",
       "      <td>1402924</td>\n",
       "      <td>201901</td>\n",
       "      <td>전북전남</td>\n",
       "      <td>카페</td>\n",
       "      <td>40</td>\n",
       "      <td>2</td>\n",
       "      <td>3</td>\n",
       "      <td>3</td>\n",
       "      <td>13800</td>\n",
       "      <td>3</td>\n",
       "      <td>4.139879</td>\n",
       "    </tr>\n",
       "    <tr>\n",
       "      <th>1</th>\n",
       "      <td>1402925</td>\n",
       "      <td>201901</td>\n",
       "      <td>전북전남</td>\n",
       "      <td>카페</td>\n",
       "      <td>40</td>\n",
       "      <td>1</td>\n",
       "      <td>3</td>\n",
       "      <td>3</td>\n",
       "      <td>14300</td>\n",
       "      <td>3</td>\n",
       "      <td>4.155336</td>\n",
       "    </tr>\n",
       "    <tr>\n",
       "      <th>2</th>\n",
       "      <td>1402926</td>\n",
       "      <td>201901</td>\n",
       "      <td>전북전남</td>\n",
       "      <td>카페</td>\n",
       "      <td>40</td>\n",
       "      <td>1</td>\n",
       "      <td>3</td>\n",
       "      <td>3</td>\n",
       "      <td>17490</td>\n",
       "      <td>3</td>\n",
       "      <td>4.242790</td>\n",
       "    </tr>\n",
       "    <tr>\n",
       "      <th>3</th>\n",
       "      <td>1402927</td>\n",
       "      <td>201901</td>\n",
       "      <td>전북전남</td>\n",
       "      <td>카페</td>\n",
       "      <td>40</td>\n",
       "      <td>1</td>\n",
       "      <td>3</td>\n",
       "      <td>5</td>\n",
       "      <td>34900</td>\n",
       "      <td>5</td>\n",
       "      <td>4.542825</td>\n",
       "    </tr>\n",
       "    <tr>\n",
       "      <th>4</th>\n",
       "      <td>1402928</td>\n",
       "      <td>201901</td>\n",
       "      <td>전북전남</td>\n",
       "      <td>카페</td>\n",
       "      <td>50</td>\n",
       "      <td>1</td>\n",
       "      <td>4</td>\n",
       "      <td>3</td>\n",
       "      <td>13300</td>\n",
       "      <td>3</td>\n",
       "      <td>4.123852</td>\n",
       "    </tr>\n",
       "    <tr>\n",
       "      <th>...</th>\n",
       "      <td>...</td>\n",
       "      <td>...</td>\n",
       "      <td>...</td>\n",
       "      <td>...</td>\n",
       "      <td>...</td>\n",
       "      <td>...</td>\n",
       "      <td>...</td>\n",
       "      <td>...</td>\n",
       "      <td>...</td>\n",
       "      <td>...</td>\n",
       "      <td>...</td>\n",
       "    </tr>\n",
       "    <tr>\n",
       "      <th>186755</th>\n",
       "      <td>24538819</td>\n",
       "      <td>202003</td>\n",
       "      <td>전북전남</td>\n",
       "      <td>일반 음식점업</td>\n",
       "      <td>60</td>\n",
       "      <td>2</td>\n",
       "      <td>5</td>\n",
       "      <td>242</td>\n",
       "      <td>10799645</td>\n",
       "      <td>312</td>\n",
       "      <td>7.033409</td>\n",
       "    </tr>\n",
       "    <tr>\n",
       "      <th>186756</th>\n",
       "      <td>24538820</td>\n",
       "      <td>202003</td>\n",
       "      <td>전북전남</td>\n",
       "      <td>일반 음식점업</td>\n",
       "      <td>70</td>\n",
       "      <td>1</td>\n",
       "      <td>5</td>\n",
       "      <td>176</td>\n",
       "      <td>8602400</td>\n",
       "      <td>294</td>\n",
       "      <td>6.934620</td>\n",
       "    </tr>\n",
       "    <tr>\n",
       "      <th>186757</th>\n",
       "      <td>24538821</td>\n",
       "      <td>202003</td>\n",
       "      <td>전북전남</td>\n",
       "      <td>일반 음식점업</td>\n",
       "      <td>70</td>\n",
       "      <td>2</td>\n",
       "      <td>5</td>\n",
       "      <td>39</td>\n",
       "      <td>1431000</td>\n",
       "      <td>46</td>\n",
       "      <td>6.155640</td>\n",
       "    </tr>\n",
       "    <tr>\n",
       "      <th>186758</th>\n",
       "      <td>24538822</td>\n",
       "      <td>202003</td>\n",
       "      <td>전북전남</td>\n",
       "      <td>일반 음식점업</td>\n",
       "      <td>50</td>\n",
       "      <td>1</td>\n",
       "      <td>4</td>\n",
       "      <td>4</td>\n",
       "      <td>75900</td>\n",
       "      <td>7</td>\n",
       "      <td>4.880242</td>\n",
       "    </tr>\n",
       "    <tr>\n",
       "      <th>186759</th>\n",
       "      <td>24538823</td>\n",
       "      <td>202003</td>\n",
       "      <td>전북전남</td>\n",
       "      <td>일반 음식점업</td>\n",
       "      <td>60</td>\n",
       "      <td>1</td>\n",
       "      <td>5</td>\n",
       "      <td>4</td>\n",
       "      <td>195500</td>\n",
       "      <td>5</td>\n",
       "      <td>5.291147</td>\n",
       "    </tr>\n",
       "  </tbody>\n",
       "</table>\n",
       "<p>186760 rows × 11 columns</p>\n",
       "</div>"
      ],
      "text/plain": [
       "        Unnamed: 0      년월 사용지_시도      업종명  연령대  성별  생애주기  고객수        금액   건수  \\\n",
       "0          1402924  201901   전북전남       카페   40   2     3    3     13800    3   \n",
       "1          1402925  201901   전북전남       카페   40   1     3    3     14300    3   \n",
       "2          1402926  201901   전북전남       카페   40   1     3    3     17490    3   \n",
       "3          1402927  201901   전북전남       카페   40   1     3    5     34900    5   \n",
       "4          1402928  201901   전북전남       카페   50   1     4    3     13300    3   \n",
       "...            ...     ...    ...      ...  ...  ..   ...  ...       ...  ...   \n",
       "186755    24538819  202003   전북전남  일반 음식점업   60   2     5  242  10799645  312   \n",
       "186756    24538820  202003   전북전남  일반 음식점업   70   1     5  176   8602400  294   \n",
       "186757    24538821  202003   전북전남  일반 음식점업   70   2     5   39   1431000   46   \n",
       "186758    24538822  202003   전북전남  일반 음식점업   50   1     4    4     75900    7   \n",
       "186759    24538823  202003   전북전남  일반 음식점업   60   1     5    4    195500    5   \n",
       "\n",
       "        Log10_금액  \n",
       "0       4.139879  \n",
       "1       4.155336  \n",
       "2       4.242790  \n",
       "3       4.542825  \n",
       "4       4.123852  \n",
       "...          ...  \n",
       "186755  7.033409  \n",
       "186756  6.934620  \n",
       "186757  6.155640  \n",
       "186758  4.880242  \n",
       "186759  5.291147  \n",
       "\n",
       "[186760 rows x 11 columns]"
      ]
     },
     "execution_count": 34,
     "metadata": {},
     "output_type": "execute_result"
    }
   ],
   "source": [
    "df_j"
   ]
  },
  {
   "cell_type": "code",
   "execution_count": 37,
   "metadata": {},
   "outputs": [
    {
     "name": "stdout",
     "output_type": "stream",
     "text": [
      "<class 'pandas.core.frame.DataFrame'>\n",
      "RangeIndex: 224540 entries, 0 to 224539\n",
      "Data columns (total 11 columns):\n",
      " #   Column      Non-Null Count   Dtype  \n",
      "---  ------      --------------   -----  \n",
      " 0   Unnamed: 0  224540 non-null  int64  \n",
      " 1   년월          224540 non-null  int64  \n",
      " 2   업종명         224540 non-null  object \n",
      " 3   연령대         224540 non-null  int32  \n",
      " 4   성별          224540 non-null  int64  \n",
      " 5   생애주기        224540 non-null  int64  \n",
      " 6   고객수         224540 non-null  int64  \n",
      " 7   금액          224540 non-null  int64  \n",
      " 8   건수          224540 non-null  int64  \n",
      " 9   사용지_시도      224540 non-null  object \n",
      " 10  Log10_금액    224540 non-null  float64\n",
      "dtypes: float64(1), int32(1), int64(7), object(2)\n",
      "memory usage: 18.0+ MB\n"
     ]
    }
   ],
   "source": [
    "df_d.info()"
   ]
  },
  {
   "cell_type": "markdown",
   "metadata": {},
   "source": [
    "# 대구경북과 전북전남"
   ]
  },
  {
   "cell_type": "markdown",
   "metadata": {},
   "source": [
    "# 2020 1-3 데이터 사용"
   ]
  },
  {
   "cell_type": "markdown",
   "metadata": {},
   "source": [
    "# Log10_금액의 평균차이"
   ]
  },
  {
   "cell_type": "code",
   "execution_count": 35,
   "metadata": {},
   "outputs": [],
   "source": [
    "d_2001 = df_d['년월']==202001\n",
    "d_2002 = df_d['년월']==202002\n",
    "d_2003 = df_d['년월']==202003\n",
    "\n",
    "j_2001 = df_j['년월']==202001\n",
    "j_2002 = df_j['년월']==202002\n",
    "j_2003 = df_j['년월']==202003"
   ]
  },
  {
   "cell_type": "code",
   "execution_count": 42,
   "metadata": {},
   "outputs": [],
   "source": [
    "df_d_sub = df_d[d_2001|d_2002|d_2003]\n",
    "df_j_sub = df_j[j_2001|j_2002|j_2003]"
   ]
  },
  {
   "cell_type": "code",
   "execution_count": null,
   "metadata": {},
   "outputs": [],
   "source": []
  },
  {
   "cell_type": "code",
   "execution_count": 43,
   "metadata": {},
   "outputs": [],
   "source": [
    "df_d_1=df_d_sub['Log10_금액']\n",
    "df_j_1=df_j_sub['Log10_금액']\n",
    "\n",
    "df_d_1=np.array(df_d_1)\n",
    "df_j_1=np.array(df_j_1)"
   ]
  },
  {
   "cell_type": "code",
   "execution_count": 44,
   "metadata": {},
   "outputs": [
    {
     "data": {
      "text/plain": [
       "5.428241890777388"
      ]
     },
     "execution_count": 44,
     "metadata": {},
     "output_type": "execute_result"
    }
   ],
   "source": [
    "np.mean(df_d_1)"
   ]
  },
  {
   "cell_type": "code",
   "execution_count": 45,
   "metadata": {},
   "outputs": [
    {
     "data": {
      "text/plain": [
       "5.4032801885319355"
      ]
     },
     "execution_count": 45,
     "metadata": {},
     "output_type": "execute_result"
    }
   ],
   "source": [
    "np.mean(df_j_1)"
   ]
  },
  {
   "cell_type": "code",
   "execution_count": 46,
   "metadata": {},
   "outputs": [
    {
     "data": {
      "text/plain": [
       "LeveneResult(statistic=150.9211443838963, pvalue=1.1254109846122882e-34)"
      ]
     },
     "execution_count": 46,
     "metadata": {},
     "output_type": "execute_result"
    }
   ],
   "source": [
    "stats.levene(df_d_1, df_j_1)"
   ]
  },
  {
   "cell_type": "markdown",
   "metadata": {},
   "source": [
    "### p-value < 0.05 이므로 귀무가설 기각 => 등분산 아님 => equal_val=False 사용"
   ]
  },
  {
   "cell_type": "code",
   "execution_count": 47,
   "metadata": {},
   "outputs": [
    {
     "data": {
      "text/plain": [
       "Ttest_indResult(statistic=7.004769730976763, pvalue=2.482447308634678e-12)"
      ]
     },
     "execution_count": 47,
     "metadata": {},
     "output_type": "execute_result"
    }
   ],
   "source": [
    "stats.ttest_ind(df_d_1, df_j_1, equal_var=False)"
   ]
  },
  {
   "cell_type": "markdown",
   "metadata": {},
   "source": [
    "### p-value<0.05 이므로 귀무가설 기각 => 대구경북, 전북전남의 Log10_금액의 평균의 차이가 있다"
   ]
  },
  {
   "cell_type": "markdown",
   "metadata": {},
   "source": [
    "# 연령대 평균차이"
   ]
  },
  {
   "cell_type": "code",
   "execution_count": 48,
   "metadata": {},
   "outputs": [],
   "source": [
    "df_d_2=df_d_sub['연령대']\n",
    "df_j_2=df_j_sub['연령대']\n",
    "\n",
    "df_d_2=np.array(df_d_2)\n",
    "df_j_2=np.array(df_j_2)"
   ]
  },
  {
   "cell_type": "code",
   "execution_count": 49,
   "metadata": {},
   "outputs": [
    {
     "data": {
      "text/plain": [
       "38.22710152725467"
      ]
     },
     "execution_count": 49,
     "metadata": {},
     "output_type": "execute_result"
    }
   ],
   "source": [
    "np.mean(df_d_2)"
   ]
  },
  {
   "cell_type": "code",
   "execution_count": 50,
   "metadata": {},
   "outputs": [
    {
     "data": {
      "text/plain": [
       "39.1627470515999"
      ]
     },
     "execution_count": 50,
     "metadata": {},
     "output_type": "execute_result"
    }
   ],
   "source": [
    "np.mean(df_j_2)"
   ]
  },
  {
   "cell_type": "code",
   "execution_count": 51,
   "metadata": {},
   "outputs": [
    {
     "data": {
      "text/plain": [
       "LeveneResult(statistic=170.1427628925703, pvalue=7.167294430333877e-39)"
      ]
     },
     "execution_count": 51,
     "metadata": {},
     "output_type": "execute_result"
    }
   ],
   "source": [
    "stats.levene(df_d_2, df_j_2)"
   ]
  },
  {
   "cell_type": "markdown",
   "metadata": {},
   "source": [
    "### p-value<0.05 이므로 귀무가설 기각 => 등분산 아님 => equal_val=False 사용"
   ]
  },
  {
   "cell_type": "code",
   "execution_count": 52,
   "metadata": {},
   "outputs": [
    {
     "data": {
      "text/plain": [
       "Ttest_indResult(statistic=-14.211804361152684, pvalue=8.191265285210593e-46)"
      ]
     },
     "execution_count": 52,
     "metadata": {},
     "output_type": "execute_result"
    }
   ],
   "source": [
    "stats.ttest_ind(df_d_2, df_j_2, equal_var=False)"
   ]
  },
  {
   "cell_type": "markdown",
   "metadata": {},
   "source": [
    "### p-value<0.05이므로 귀무가설 기각 => 대구경북, 전북 전남의 연령대의 평균의 차이가 있다"
   ]
  },
  {
   "cell_type": "markdown",
   "metadata": {},
   "source": [
    "# 건수 평균차이"
   ]
  },
  {
   "cell_type": "code",
   "execution_count": 53,
   "metadata": {},
   "outputs": [],
   "source": [
    "df_d_3=df_d_sub['건수']\n",
    "df_j_3=df_j_sub['건수']\n",
    "\n",
    "df_d_3=np.array(df_d_3)\n",
    "df_j_3=np.array(df_j_3)"
   ]
  },
  {
   "cell_type": "code",
   "execution_count": 54,
   "metadata": {},
   "outputs": [
    {
     "data": {
      "text/plain": [
       "97.43044575969537"
      ]
     },
     "execution_count": 54,
     "metadata": {},
     "output_type": "execute_result"
    }
   ],
   "source": [
    "np.mean(df_d_3)"
   ]
  },
  {
   "cell_type": "code",
   "execution_count": 55,
   "metadata": {},
   "outputs": [
    {
     "data": {
      "text/plain": [
       "71.3684167844482"
      ]
     },
     "execution_count": 55,
     "metadata": {},
     "output_type": "execute_result"
    }
   ],
   "source": [
    "np.mean(df_j_3)"
   ]
  },
  {
   "cell_type": "code",
   "execution_count": 56,
   "metadata": {
    "scrolled": true
   },
   "outputs": [
    {
     "data": {
      "text/plain": [
       "LeveneResult(statistic=91.36655511386431, pvalue=1.2077620046724077e-21)"
      ]
     },
     "execution_count": 56,
     "metadata": {},
     "output_type": "execute_result"
    }
   ],
   "source": [
    "stats.levene(df_d_3, df_j_3)"
   ]
  },
  {
   "cell_type": "markdown",
   "metadata": {},
   "source": [
    "### p-value<0.05 이므로 귀무가설 기각 => 등분산 아님 => equal_val=Flase 사용"
   ]
  },
  {
   "cell_type": "code",
   "execution_count": 57,
   "metadata": {
    "scrolled": true
   },
   "outputs": [
    {
     "data": {
      "text/plain": [
       "Ttest_indResult(statistic=9.904628759251745, pvalue=4.028829094963883e-23)"
      ]
     },
     "execution_count": 57,
     "metadata": {},
     "output_type": "execute_result"
    }
   ],
   "source": [
    "stats.ttest_ind(df_d_3, df_j_3, equal_var=False)"
   ]
  },
  {
   "cell_type": "markdown",
   "metadata": {},
   "source": [
    "### p-value<0.05이므로 귀무가설 기각 => 대구경북, 전북 전남의 연령대의 평균의 차이가 있다"
   ]
  },
  {
   "cell_type": "code",
   "execution_count": null,
   "metadata": {},
   "outputs": [],
   "source": []
  },
  {
   "cell_type": "markdown",
   "metadata": {},
   "source": [
    "# 고객 수 평균 차이"
   ]
  },
  {
   "cell_type": "code",
   "execution_count": 58,
   "metadata": {},
   "outputs": [],
   "source": [
    "df_d_4=df_d_sub['고객수']\n",
    "df_j_4=df_j_sub['고객수']\n",
    "\n",
    "df_d_4=np.array(df_d_4)\n",
    "df_j_4=np.array(df_j_4)"
   ]
  },
  {
   "cell_type": "code",
   "execution_count": 59,
   "metadata": {},
   "outputs": [
    {
     "data": {
      "text/plain": [
       "68.56135921526428"
      ]
     },
     "execution_count": 59,
     "metadata": {},
     "output_type": "execute_result"
    }
   ],
   "source": [
    "np.mean(df_d_4)"
   ]
  },
  {
   "cell_type": "code",
   "execution_count": 60,
   "metadata": {},
   "outputs": [
    {
     "data": {
      "text/plain": [
       "49.292418730739826"
      ]
     },
     "execution_count": 60,
     "metadata": {},
     "output_type": "execute_result"
    }
   ],
   "source": [
    "np.mean(df_j_4)"
   ]
  },
  {
   "cell_type": "code",
   "execution_count": 61,
   "metadata": {
    "scrolled": true
   },
   "outputs": [
    {
     "data": {
      "text/plain": [
       "LeveneResult(statistic=117.43688377832515, pvalue=2.3476832295502372e-27)"
      ]
     },
     "execution_count": 61,
     "metadata": {},
     "output_type": "execute_result"
    }
   ],
   "source": [
    "stats.levene(df_d_4, df_j_4)"
   ]
  },
  {
   "cell_type": "markdown",
   "metadata": {},
   "source": [
    "### p-value<0.05 이므로 귀무가설 기각 => 등분산 아님 => equal_val=False 사용"
   ]
  },
  {
   "cell_type": "code",
   "execution_count": 62,
   "metadata": {
    "scrolled": true
   },
   "outputs": [
    {
     "data": {
      "text/plain": [
       "Ttest_indResult(statistic=11.19367449990542, pvalue=4.477423886785405e-29)"
      ]
     },
     "execution_count": 62,
     "metadata": {},
     "output_type": "execute_result"
    }
   ],
   "source": [
    "stats.ttest_ind(df_d_4, df_j_4, equal_var=False)"
   ]
  },
  {
   "cell_type": "markdown",
   "metadata": {},
   "source": [
    "### p-value<0.05이므로 귀무가설 기각 => 대구경북, 전북 전남의 연령대의 평균의 차이가 있다"
   ]
  },
  {
   "cell_type": "code",
   "execution_count": null,
   "metadata": {},
   "outputs": [],
   "source": []
  },
  {
   "cell_type": "markdown",
   "metadata": {},
   "source": [
    "## 대구경북 지역의 5개 제외 업종 데이터 고르기"
   ]
  },
  {
   "cell_type": "code",
   "execution_count": 63,
   "metadata": {},
   "outputs": [],
   "source": [
    "data = pd.read_csv(\"201901-202003.csv\")"
   ]
  },
  {
   "cell_type": "code",
   "execution_count": 64,
   "metadata": {},
   "outputs": [
    {
     "data": {
      "text/html": [
       "<div>\n",
       "<style scoped>\n",
       "    .dataframe tbody tr th:only-of-type {\n",
       "        vertical-align: middle;\n",
       "    }\n",
       "\n",
       "    .dataframe tbody tr th {\n",
       "        vertical-align: top;\n",
       "    }\n",
       "\n",
       "    .dataframe thead th {\n",
       "        text-align: right;\n",
       "    }\n",
       "</style>\n",
       "<table border=\"1\" class=\"dataframe\">\n",
       "  <thead>\n",
       "    <tr style=\"text-align: right;\">\n",
       "      <th></th>\n",
       "      <th>REG_YYMM</th>\n",
       "      <th>CARD_SIDO_NM</th>\n",
       "      <th>CARD_CCG_NM</th>\n",
       "      <th>STD_CLSS_NM</th>\n",
       "      <th>HOM_SIDO_NM</th>\n",
       "      <th>HOM_CCG_NM</th>\n",
       "      <th>AGE</th>\n",
       "      <th>SEX_CTGO_CD</th>\n",
       "      <th>FLC</th>\n",
       "      <th>CSTMR_CNT</th>\n",
       "      <th>AMT</th>\n",
       "      <th>CNT</th>\n",
       "    </tr>\n",
       "  </thead>\n",
       "  <tbody>\n",
       "    <tr>\n",
       "      <th>0</th>\n",
       "      <td>201901</td>\n",
       "      <td>강원</td>\n",
       "      <td>강릉시</td>\n",
       "      <td>건강보조식품 소매업</td>\n",
       "      <td>강원</td>\n",
       "      <td>강릉시</td>\n",
       "      <td>20s</td>\n",
       "      <td>1</td>\n",
       "      <td>1</td>\n",
       "      <td>4</td>\n",
       "      <td>311200</td>\n",
       "      <td>4</td>\n",
       "    </tr>\n",
       "    <tr>\n",
       "      <th>1</th>\n",
       "      <td>201901</td>\n",
       "      <td>강원</td>\n",
       "      <td>강릉시</td>\n",
       "      <td>건강보조식품 소매업</td>\n",
       "      <td>강원</td>\n",
       "      <td>강릉시</td>\n",
       "      <td>30s</td>\n",
       "      <td>1</td>\n",
       "      <td>2</td>\n",
       "      <td>7</td>\n",
       "      <td>1374500</td>\n",
       "      <td>8</td>\n",
       "    </tr>\n",
       "    <tr>\n",
       "      <th>2</th>\n",
       "      <td>201901</td>\n",
       "      <td>강원</td>\n",
       "      <td>강릉시</td>\n",
       "      <td>건강보조식품 소매업</td>\n",
       "      <td>강원</td>\n",
       "      <td>강릉시</td>\n",
       "      <td>30s</td>\n",
       "      <td>2</td>\n",
       "      <td>2</td>\n",
       "      <td>6</td>\n",
       "      <td>818700</td>\n",
       "      <td>6</td>\n",
       "    </tr>\n",
       "    <tr>\n",
       "      <th>3</th>\n",
       "      <td>201901</td>\n",
       "      <td>강원</td>\n",
       "      <td>강릉시</td>\n",
       "      <td>건강보조식품 소매업</td>\n",
       "      <td>강원</td>\n",
       "      <td>강릉시</td>\n",
       "      <td>40s</td>\n",
       "      <td>1</td>\n",
       "      <td>3</td>\n",
       "      <td>4</td>\n",
       "      <td>1717000</td>\n",
       "      <td>5</td>\n",
       "    </tr>\n",
       "    <tr>\n",
       "      <th>4</th>\n",
       "      <td>201901</td>\n",
       "      <td>강원</td>\n",
       "      <td>강릉시</td>\n",
       "      <td>건강보조식품 소매업</td>\n",
       "      <td>강원</td>\n",
       "      <td>강릉시</td>\n",
       "      <td>40s</td>\n",
       "      <td>1</td>\n",
       "      <td>4</td>\n",
       "      <td>3</td>\n",
       "      <td>1047300</td>\n",
       "      <td>3</td>\n",
       "    </tr>\n",
       "  </tbody>\n",
       "</table>\n",
       "</div>"
      ],
      "text/plain": [
       "   REG_YYMM CARD_SIDO_NM CARD_CCG_NM STD_CLSS_NM HOM_SIDO_NM HOM_CCG_NM  AGE  \\\n",
       "0    201901           강원         강릉시  건강보조식품 소매업          강원        강릉시  20s   \n",
       "1    201901           강원         강릉시  건강보조식품 소매업          강원        강릉시  30s   \n",
       "2    201901           강원         강릉시  건강보조식품 소매업          강원        강릉시  30s   \n",
       "3    201901           강원         강릉시  건강보조식품 소매업          강원        강릉시  40s   \n",
       "4    201901           강원         강릉시  건강보조식품 소매업          강원        강릉시  40s   \n",
       "\n",
       "   SEX_CTGO_CD  FLC  CSTMR_CNT      AMT  CNT  \n",
       "0            1    1          4   311200    4  \n",
       "1            1    2          7  1374500    8  \n",
       "2            2    2          6   818700    6  \n",
       "3            1    3          4  1717000    5  \n",
       "4            1    4          3  1047300    3  "
      ]
     },
     "execution_count": 64,
     "metadata": {},
     "output_type": "execute_result"
    }
   ],
   "source": [
    "data.head()"
   ]
  },
  {
   "cell_type": "code",
   "execution_count": 65,
   "metadata": {},
   "outputs": [],
   "source": [
    "data.columns = ['년월','사용지_시도','사용지_시군구','업종명','거주지_시도','거주지_시군구','연령대','성별','생애주기','고객수','금액','건수']"
   ]
  },
  {
   "cell_type": "code",
   "execution_count": 66,
   "metadata": {},
   "outputs": [],
   "source": [
    "data_dg = data[(data['사용지_시도'] == \"대구\")]\n",
    "data_gb = data[(data['사용지_시도'] == \"경북\")]\n",
    "data_1 = data_dg.append(data_gb)"
   ]
  },
  {
   "cell_type": "code",
   "execution_count": 67,
   "metadata": {},
   "outputs": [],
   "source": [
    "data_m = data_1[(data_1[\"년월\"] == 202001)\n",
    "               |(data_1[\"년월\"] == 202002)|(data_1[\"년월\"] == 202003)]"
   ]
  },
  {
   "cell_type": "code",
   "execution_count": 68,
   "metadata": {},
   "outputs": [],
   "source": [
    "data_m1 = data_m.drop([\"사용지_시도\",\"사용지_시군구\",\"거주지_시도\",\"거주지_시군구\"], axis = 1, inplace = False)"
   ]
  },
  {
   "cell_type": "code",
   "execution_count": 69,
   "metadata": {},
   "outputs": [],
   "source": [
    "data_s1 = data_m1.replace({\"일식 음식점업\":\"일반 음식점업\",\"한식 음식점업\":\"일반 음식점업\",\"중식 음식점업\":\"일반 음식점업\",\"일반유흥 주점업\":\"일반 음식점업\",\n",
    "                            \"슈퍼마켓\":\"편의점\",\"체인화 편의점\":\"편의점\",\n",
    "                            \"호텔업\":\"관광업\",\"여행사업\":\"관광업\",\"정기 항공 운송업\":\"관광업\",\n",
    "                           \"버스 운송업\":\"대중교통\", \"비알콜 음료점업\":\"카페\"})"
   ]
  },
  {
   "cell_type": "code",
   "execution_count": 70,
   "metadata": {},
   "outputs": [],
   "source": [
    "data_123_n = data_s1[((data_s1['업종명'] != '일반 음식점업') ) | (data_s1['업종명'] != \"전시 및 행사 대행업\")\n",
    "                  |(data_s1[\"업종명\"] != '관광업') | (data_s1[\"업종명\"] != \"카페\")| (data_s1[\"업종명\"] != \"스포츠 및 레크레이션 용품 임대업\")]"
   ]
  },
  {
   "cell_type": "code",
   "execution_count": 71,
   "metadata": {},
   "outputs": [],
   "source": [
    "data_123_n[\"연령대\"] = data_123_n[\"연령대\"].str.rstrip(\"s\").astype(\"int\")"
   ]
  },
  {
   "cell_type": "code",
   "execution_count": 72,
   "metadata": {
    "scrolled": true
   },
   "outputs": [
    {
     "data": {
      "text/html": [
       "<div>\n",
       "<style scoped>\n",
       "    .dataframe tbody tr th:only-of-type {\n",
       "        vertical-align: middle;\n",
       "    }\n",
       "\n",
       "    .dataframe tbody tr th {\n",
       "        vertical-align: top;\n",
       "    }\n",
       "\n",
       "    .dataframe thead th {\n",
       "        text-align: right;\n",
       "    }\n",
       "</style>\n",
       "<table border=\"1\" class=\"dataframe\">\n",
       "  <thead>\n",
       "    <tr style=\"text-align: right;\">\n",
       "      <th></th>\n",
       "      <th>년월</th>\n",
       "      <th>업종명</th>\n",
       "      <th>연령대</th>\n",
       "      <th>성별</th>\n",
       "      <th>생애주기</th>\n",
       "      <th>고객수</th>\n",
       "      <th>금액</th>\n",
       "      <th>건수</th>\n",
       "    </tr>\n",
       "  </thead>\n",
       "  <tbody>\n",
       "    <tr>\n",
       "      <th>21057284</th>\n",
       "      <td>202001</td>\n",
       "      <td>건강보조식품 소매업</td>\n",
       "      <td>20</td>\n",
       "      <td>1</td>\n",
       "      <td>1</td>\n",
       "      <td>4</td>\n",
       "      <td>634400</td>\n",
       "      <td>4</td>\n",
       "    </tr>\n",
       "    <tr>\n",
       "      <th>21057285</th>\n",
       "      <td>202001</td>\n",
       "      <td>건강보조식품 소매업</td>\n",
       "      <td>20</td>\n",
       "      <td>2</td>\n",
       "      <td>1</td>\n",
       "      <td>7</td>\n",
       "      <td>403100</td>\n",
       "      <td>9</td>\n",
       "    </tr>\n",
       "    <tr>\n",
       "      <th>21057286</th>\n",
       "      <td>202001</td>\n",
       "      <td>건강보조식품 소매업</td>\n",
       "      <td>30</td>\n",
       "      <td>1</td>\n",
       "      <td>2</td>\n",
       "      <td>4</td>\n",
       "      <td>320500</td>\n",
       "      <td>4</td>\n",
       "    </tr>\n",
       "    <tr>\n",
       "      <th>21057287</th>\n",
       "      <td>202001</td>\n",
       "      <td>건강보조식품 소매업</td>\n",
       "      <td>30</td>\n",
       "      <td>2</td>\n",
       "      <td>2</td>\n",
       "      <td>6</td>\n",
       "      <td>263000</td>\n",
       "      <td>7</td>\n",
       "    </tr>\n",
       "    <tr>\n",
       "      <th>21057288</th>\n",
       "      <td>202001</td>\n",
       "      <td>건강보조식품 소매업</td>\n",
       "      <td>40</td>\n",
       "      <td>1</td>\n",
       "      <td>3</td>\n",
       "      <td>6</td>\n",
       "      <td>952000</td>\n",
       "      <td>7</td>\n",
       "    </tr>\n",
       "  </tbody>\n",
       "</table>\n",
       "</div>"
      ],
      "text/plain": [
       "              년월         업종명  연령대  성별  생애주기  고객수      금액  건수\n",
       "21057284  202001  건강보조식품 소매업   20   1     1    4  634400   4\n",
       "21057285  202001  건강보조식품 소매업   20   2     1    7  403100   9\n",
       "21057286  202001  건강보조식품 소매업   30   1     2    4  320500   4\n",
       "21057287  202001  건강보조식품 소매업   30   2     2    6  263000   7\n",
       "21057288  202001  건강보조식품 소매업   40   1     3    6  952000   7"
      ]
     },
     "execution_count": 72,
     "metadata": {},
     "output_type": "execute_result"
    }
   ],
   "source": [
    "data_123_n.head()"
   ]
  },
  {
   "cell_type": "code",
   "execution_count": 73,
   "metadata": {},
   "outputs": [],
   "source": [
    "data_123_n[\"Log10_금액\"] = np.log10(data_123_n[\"금액\"])"
   ]
  },
  {
   "cell_type": "code",
   "execution_count": 74,
   "metadata": {},
   "outputs": [
    {
     "data": {
      "text/html": [
       "<div>\n",
       "<style scoped>\n",
       "    .dataframe tbody tr th:only-of-type {\n",
       "        vertical-align: middle;\n",
       "    }\n",
       "\n",
       "    .dataframe tbody tr th {\n",
       "        vertical-align: top;\n",
       "    }\n",
       "\n",
       "    .dataframe thead th {\n",
       "        text-align: right;\n",
       "    }\n",
       "</style>\n",
       "<table border=\"1\" class=\"dataframe\">\n",
       "  <thead>\n",
       "    <tr style=\"text-align: right;\">\n",
       "      <th></th>\n",
       "      <th>년월</th>\n",
       "      <th>업종명</th>\n",
       "      <th>연령대</th>\n",
       "      <th>성별</th>\n",
       "      <th>생애주기</th>\n",
       "      <th>고객수</th>\n",
       "      <th>금액</th>\n",
       "      <th>건수</th>\n",
       "      <th>Log10_금액</th>\n",
       "    </tr>\n",
       "  </thead>\n",
       "  <tbody>\n",
       "    <tr>\n",
       "      <th>21057284</th>\n",
       "      <td>202001</td>\n",
       "      <td>건강보조식품 소매업</td>\n",
       "      <td>20</td>\n",
       "      <td>1</td>\n",
       "      <td>1</td>\n",
       "      <td>4</td>\n",
       "      <td>634400</td>\n",
       "      <td>4</td>\n",
       "      <td>5.802363</td>\n",
       "    </tr>\n",
       "    <tr>\n",
       "      <th>21057285</th>\n",
       "      <td>202001</td>\n",
       "      <td>건강보조식품 소매업</td>\n",
       "      <td>20</td>\n",
       "      <td>2</td>\n",
       "      <td>1</td>\n",
       "      <td>7</td>\n",
       "      <td>403100</td>\n",
       "      <td>9</td>\n",
       "      <td>5.605413</td>\n",
       "    </tr>\n",
       "    <tr>\n",
       "      <th>21057286</th>\n",
       "      <td>202001</td>\n",
       "      <td>건강보조식품 소매업</td>\n",
       "      <td>30</td>\n",
       "      <td>1</td>\n",
       "      <td>2</td>\n",
       "      <td>4</td>\n",
       "      <td>320500</td>\n",
       "      <td>4</td>\n",
       "      <td>5.505828</td>\n",
       "    </tr>\n",
       "    <tr>\n",
       "      <th>21057287</th>\n",
       "      <td>202001</td>\n",
       "      <td>건강보조식품 소매업</td>\n",
       "      <td>30</td>\n",
       "      <td>2</td>\n",
       "      <td>2</td>\n",
       "      <td>6</td>\n",
       "      <td>263000</td>\n",
       "      <td>7</td>\n",
       "      <td>5.419956</td>\n",
       "    </tr>\n",
       "    <tr>\n",
       "      <th>21057288</th>\n",
       "      <td>202001</td>\n",
       "      <td>건강보조식품 소매업</td>\n",
       "      <td>40</td>\n",
       "      <td>1</td>\n",
       "      <td>3</td>\n",
       "      <td>6</td>\n",
       "      <td>952000</td>\n",
       "      <td>7</td>\n",
       "      <td>5.978637</td>\n",
       "    </tr>\n",
       "    <tr>\n",
       "      <th>...</th>\n",
       "      <td>...</td>\n",
       "      <td>...</td>\n",
       "      <td>...</td>\n",
       "      <td>...</td>\n",
       "      <td>...</td>\n",
       "      <td>...</td>\n",
       "      <td>...</td>\n",
       "      <td>...</td>\n",
       "      <td>...</td>\n",
       "    </tr>\n",
       "    <tr>\n",
       "      <th>23899480</th>\n",
       "      <td>202003</td>\n",
       "      <td>화장품 및 방향제 소매업</td>\n",
       "      <td>70</td>\n",
       "      <td>1</td>\n",
       "      <td>5</td>\n",
       "      <td>47</td>\n",
       "      <td>2232800</td>\n",
       "      <td>49</td>\n",
       "      <td>6.348850</td>\n",
       "    </tr>\n",
       "    <tr>\n",
       "      <th>23899481</th>\n",
       "      <td>202003</td>\n",
       "      <td>화장품 및 방향제 소매업</td>\n",
       "      <td>70</td>\n",
       "      <td>2</td>\n",
       "      <td>5</td>\n",
       "      <td>49</td>\n",
       "      <td>3425290</td>\n",
       "      <td>54</td>\n",
       "      <td>6.534697</td>\n",
       "    </tr>\n",
       "    <tr>\n",
       "      <th>23899482</th>\n",
       "      <td>202003</td>\n",
       "      <td>화장품 및 방향제 소매업</td>\n",
       "      <td>20</td>\n",
       "      <td>2</td>\n",
       "      <td>1</td>\n",
       "      <td>4</td>\n",
       "      <td>43800</td>\n",
       "      <td>5</td>\n",
       "      <td>4.641474</td>\n",
       "    </tr>\n",
       "    <tr>\n",
       "      <th>23899483</th>\n",
       "      <td>202003</td>\n",
       "      <td>화장품 및 방향제 소매업</td>\n",
       "      <td>20</td>\n",
       "      <td>2</td>\n",
       "      <td>1</td>\n",
       "      <td>7</td>\n",
       "      <td>160280</td>\n",
       "      <td>15</td>\n",
       "      <td>5.204879</td>\n",
       "    </tr>\n",
       "    <tr>\n",
       "      <th>23899484</th>\n",
       "      <td>202003</td>\n",
       "      <td>화장품 및 방향제 소매업</td>\n",
       "      <td>20</td>\n",
       "      <td>2</td>\n",
       "      <td>1</td>\n",
       "      <td>3</td>\n",
       "      <td>15800</td>\n",
       "      <td>3</td>\n",
       "      <td>4.198657</td>\n",
       "    </tr>\n",
       "  </tbody>\n",
       "</table>\n",
       "<p>319455 rows × 9 columns</p>\n",
       "</div>"
      ],
      "text/plain": [
       "              년월            업종명  연령대  성별  생애주기  고객수       금액  건수  Log10_금액\n",
       "21057284  202001     건강보조식품 소매업   20   1     1    4   634400   4  5.802363\n",
       "21057285  202001     건강보조식품 소매업   20   2     1    7   403100   9  5.605413\n",
       "21057286  202001     건강보조식품 소매업   30   1     2    4   320500   4  5.505828\n",
       "21057287  202001     건강보조식품 소매업   30   2     2    6   263000   7  5.419956\n",
       "21057288  202001     건강보조식품 소매업   40   1     3    6   952000   7  5.978637\n",
       "...          ...            ...  ...  ..   ...  ...      ...  ..       ...\n",
       "23899480  202003  화장품 및 방향제 소매업   70   1     5   47  2232800  49  6.348850\n",
       "23899481  202003  화장품 및 방향제 소매업   70   2     5   49  3425290  54  6.534697\n",
       "23899482  202003  화장품 및 방향제 소매업   20   2     1    4    43800   5  4.641474\n",
       "23899483  202003  화장품 및 방향제 소매업   20   2     1    7   160280  15  5.204879\n",
       "23899484  202003  화장품 및 방향제 소매업   20   2     1    3    15800   3  4.198657\n",
       "\n",
       "[319455 rows x 9 columns]"
      ]
     },
     "execution_count": 74,
     "metadata": {},
     "output_type": "execute_result"
    }
   ],
   "source": [
    "data_123_n"
   ]
  },
  {
   "cell_type": "code",
   "execution_count": null,
   "metadata": {},
   "outputs": [],
   "source": []
  },
  {
   "cell_type": "code",
   "execution_count": null,
   "metadata": {},
   "outputs": [],
   "source": []
  },
  {
   "cell_type": "markdown",
   "metadata": {},
   "source": [
    "# 대구경북의 5개 업종 / 5개 제외 업종 평균 차이"
   ]
  },
  {
   "cell_type": "markdown",
   "metadata": {},
   "source": [
    "# Log10_금액 평균 차이"
   ]
  },
  {
   "cell_type": "code",
   "execution_count": 75,
   "metadata": {},
   "outputs": [],
   "source": [
    "df_d_1=df_d_sub['Log10_금액']\n",
    "data_123_n_1=data_123_n['Log10_금액']\n",
    "\n",
    "df_d_1=np.array(df_d_1)\n",
    "data_123_n_1=np.array(data_123_n_1)"
   ]
  },
  {
   "cell_type": "code",
   "execution_count": 76,
   "metadata": {},
   "outputs": [
    {
     "data": {
      "text/plain": [
       "5.428241890777388"
      ]
     },
     "execution_count": 76,
     "metadata": {},
     "output_type": "execute_result"
    }
   ],
   "source": [
    "np.mean(df_d_1)"
   ]
  },
  {
   "cell_type": "code",
   "execution_count": 77,
   "metadata": {},
   "outputs": [
    {
     "data": {
      "text/plain": [
       "5.513039078504706"
      ]
     },
     "execution_count": 77,
     "metadata": {},
     "output_type": "execute_result"
    }
   ],
   "source": [
    "np.mean(data_123_n_1)"
   ]
  },
  {
   "cell_type": "code",
   "execution_count": 78,
   "metadata": {},
   "outputs": [
    {
     "data": {
      "text/plain": [
       "LeveneResult(statistic=2.190193177649351, pvalue=0.1388926520544457)"
      ]
     },
     "execution_count": 78,
     "metadata": {},
     "output_type": "execute_result"
    }
   ],
   "source": [
    "stats.levene(df_d_1, data_123_n_1)"
   ]
  },
  {
   "cell_type": "markdown",
   "metadata": {},
   "source": [
    "### p-value > 0.05 이므로 귀무가설 채택 => 등분산 => equal_val=True 사용"
   ]
  },
  {
   "cell_type": "code",
   "execution_count": 79,
   "metadata": {},
   "outputs": [
    {
     "data": {
      "text/plain": [
       "Ttest_indResult(statistic=-29.522834413078705, pvalue=2.315487724242672e-191)"
      ]
     },
     "execution_count": 79,
     "metadata": {},
     "output_type": "execute_result"
    }
   ],
   "source": [
    "stats.ttest_ind(df_d_1, data_123_n_1, equal_var=True)"
   ]
  },
  {
   "cell_type": "markdown",
   "metadata": {},
   "source": [
    "### p-value < 0.05 이므로 귀무가설 기각 => 5개 업종 / 5개 제외 업종 간의 Log10_금액의 평균의 차이가 있다"
   ]
  },
  {
   "cell_type": "markdown",
   "metadata": {},
   "source": [
    "# 연령대"
   ]
  },
  {
   "cell_type": "code",
   "execution_count": 81,
   "metadata": {},
   "outputs": [],
   "source": [
    "df_d_2=df_d_sub['연령대']\n",
    "data_123_n_2=data_123_n['연령대']\n",
    "\n",
    "df_d_2=np.array(df_d_2)\n",
    "data_123_n_2=np.array(data_123_n_2)"
   ]
  },
  {
   "cell_type": "code",
   "execution_count": 82,
   "metadata": {},
   "outputs": [
    {
     "data": {
      "text/plain": [
       "38.22710152725467"
      ]
     },
     "execution_count": 82,
     "metadata": {},
     "output_type": "execute_result"
    }
   ],
   "source": [
    "np.mean(df_d_2)"
   ]
  },
  {
   "cell_type": "code",
   "execution_count": 83,
   "metadata": {},
   "outputs": [
    {
     "data": {
      "text/plain": [
       "38.65248626567122"
      ]
     },
     "execution_count": 83,
     "metadata": {},
     "output_type": "execute_result"
    }
   ],
   "source": [
    "np.mean(data_123_n_2)"
   ]
  },
  {
   "cell_type": "code",
   "execution_count": 84,
   "metadata": {
    "scrolled": true
   },
   "outputs": [
    {
     "data": {
      "text/plain": [
       "LeveneResult(statistic=0.010011414111212072, pvalue=0.9202990780558888)"
      ]
     },
     "execution_count": 84,
     "metadata": {},
     "output_type": "execute_result"
    }
   ],
   "source": [
    "stats.levene(df_d_2, data_123_n_2)"
   ]
  },
  {
   "cell_type": "markdown",
   "metadata": {},
   "source": [
    "### p-value > 0.05 이므로 귀무가설 채택 => 등분산 => equal_val=True 사용"
   ]
  },
  {
   "cell_type": "code",
   "execution_count": 85,
   "metadata": {},
   "outputs": [
    {
     "data": {
      "text/plain": [
       "Ttest_indResult(statistic=-8.06071857100034, pvalue=7.60457742234716e-16)"
      ]
     },
     "execution_count": 85,
     "metadata": {},
     "output_type": "execute_result"
    }
   ],
   "source": [
    "stats.ttest_ind(df_d_2, data_123_n_2, equal_var=True)"
   ]
  },
  {
   "cell_type": "markdown",
   "metadata": {},
   "source": [
    "### p-value < 0.05 이므로 귀무가설 기각 => 5개 업종 / 5개 제외 업종 간의 Log10_금액의 평균의 차이가 있다"
   ]
  },
  {
   "cell_type": "markdown",
   "metadata": {},
   "source": [
    "# 건수"
   ]
  },
  {
   "cell_type": "code",
   "execution_count": 86,
   "metadata": {},
   "outputs": [],
   "source": [
    "df_d_3=df_d_sub['건수']\n",
    "data_123_n_3=data_123_n['건수']\n",
    "\n",
    "df_d_3=np.array(df_d_3)\n",
    "data_123_n_3=np.array(data_123_n_3)"
   ]
  },
  {
   "cell_type": "code",
   "execution_count": 87,
   "metadata": {},
   "outputs": [
    {
     "data": {
      "text/plain": [
       "97.43044575969537"
      ]
     },
     "execution_count": 87,
     "metadata": {},
     "output_type": "execute_result"
    }
   ],
   "source": [
    "np.mean(df_d_3)"
   ]
  },
  {
   "cell_type": "code",
   "execution_count": 88,
   "metadata": {},
   "outputs": [
    {
     "data": {
      "text/plain": [
       "150.2121644676089"
      ]
     },
     "execution_count": 88,
     "metadata": {},
     "output_type": "execute_result"
    }
   ],
   "source": [
    "np.mean(data_123_n_3)"
   ]
  },
  {
   "cell_type": "code",
   "execution_count": 89,
   "metadata": {
    "scrolled": true
   },
   "outputs": [
    {
     "data": {
      "text/plain": [
       "LeveneResult(statistic=185.8262805643507, pvalue=2.645576557551978e-42)"
      ]
     },
     "execution_count": 89,
     "metadata": {},
     "output_type": "execute_result"
    }
   ],
   "source": [
    "stats.levene(df_d_3, data_123_n_3)"
   ]
  },
  {
   "cell_type": "markdown",
   "metadata": {},
   "source": [
    "### p-value < 0.05 이므로 귀무가설 기각 => 등분산 아님 => equal_val=False 사용"
   ]
  },
  {
   "cell_type": "code",
   "execution_count": 90,
   "metadata": {},
   "outputs": [
    {
     "data": {
      "text/plain": [
       "Ttest_indResult(statistic=-18.471153964144566, pvalue=3.88738434569933e-76)"
      ]
     },
     "execution_count": 90,
     "metadata": {},
     "output_type": "execute_result"
    }
   ],
   "source": [
    "stats.ttest_ind(df_d_3, data_123_n_3, equal_var=False)"
   ]
  },
  {
   "cell_type": "markdown",
   "metadata": {},
   "source": [
    "### p-value < 0.05 이므로 귀무가설 기각 => 5개 업종 / 5개 제외 업종 간의 Log10_금액의 평균의 차이가 있다"
   ]
  },
  {
   "cell_type": "markdown",
   "metadata": {},
   "source": [
    "# 고객 수"
   ]
  },
  {
   "cell_type": "code",
   "execution_count": 91,
   "metadata": {},
   "outputs": [],
   "source": [
    "df_d_4=df_d_sub['고객수']\n",
    "data_123_n_4=data_123_n['고객수']\n",
    "\n",
    "df_d_4=np.array(df_d_4)\n",
    "data_123_n_4=np.array(data_123_n_4)"
   ]
  },
  {
   "cell_type": "code",
   "execution_count": 92,
   "metadata": {},
   "outputs": [
    {
     "data": {
      "text/plain": [
       "68.56135921526428"
      ]
     },
     "execution_count": 92,
     "metadata": {},
     "output_type": "execute_result"
    }
   ],
   "source": [
    "np.mean(df_d_4)"
   ]
  },
  {
   "cell_type": "code",
   "execution_count": 93,
   "metadata": {},
   "outputs": [
    {
     "data": {
      "text/plain": [
       "75.83036108372072"
      ]
     },
     "execution_count": 93,
     "metadata": {},
     "output_type": "execute_result"
    }
   ],
   "source": [
    "np.mean(data_123_n_4)"
   ]
  },
  {
   "cell_type": "code",
   "execution_count": 94,
   "metadata": {},
   "outputs": [
    {
     "data": {
      "text/plain": [
       "LeveneResult(statistic=21.04020732602956, pvalue=4.4987638092690705e-06)"
      ]
     },
     "execution_count": 94,
     "metadata": {},
     "output_type": "execute_result"
    }
   ],
   "source": [
    "stats.levene(df_d_4, data_123_n_4)"
   ]
  },
  {
   "cell_type": "markdown",
   "metadata": {},
   "source": [
    "### p-value < 0.05 이므로 귀무가설 기각 => 등분산 아님 => equal_val=False 사용"
   ]
  },
  {
   "cell_type": "code",
   "execution_count": 95,
   "metadata": {
    "scrolled": false
   },
   "outputs": [
    {
     "data": {
      "text/plain": [
       "Ttest_indResult(statistic=-18.471153964144566, pvalue=3.88738434569933e-76)"
      ]
     },
     "execution_count": 95,
     "metadata": {},
     "output_type": "execute_result"
    }
   ],
   "source": [
    "stats.ttest_ind(df_d_3, data_123_n_3, equal_var=False)"
   ]
  },
  {
   "cell_type": "markdown",
   "metadata": {},
   "source": [
    "### p-value < 0.05 이므로 귀무가설 기각 => 5개 업종 / 5개 제외 업종 간의 Log10_금액의 평균의 차이가 있다"
   ]
  },
  {
   "cell_type": "code",
   "execution_count": null,
   "metadata": {},
   "outputs": [],
   "source": []
  },
  {
   "cell_type": "code",
   "execution_count": null,
   "metadata": {},
   "outputs": [],
   "source": []
  },
  {
   "cell_type": "code",
   "execution_count": null,
   "metadata": {},
   "outputs": [],
   "source": []
  },
  {
   "cell_type": "markdown",
   "metadata": {},
   "source": [
    "## 밑에 정규성 검정 해본건데 안맞아,,,,"
   ]
  },
  {
   "cell_type": "code",
   "execution_count": 19,
   "metadata": {},
   "outputs": [],
   "source": [
    "from scipy.stats import shapiro"
   ]
  },
  {
   "cell_type": "code",
   "execution_count": 21,
   "metadata": {},
   "outputs": [],
   "source": [
    "df_d_1=df_d['Log10_금액']\n",
    "df_j_1=df_j['Log10_금액']"
   ]
  },
  {
   "cell_type": "code",
   "execution_count": 22,
   "metadata": {},
   "outputs": [
    {
     "data": {
      "text/plain": [
       "ShapiroResult(statistic=0.9600573778152466, pvalue=0.0)"
      ]
     },
     "execution_count": 22,
     "metadata": {},
     "output_type": "execute_result"
    }
   ],
   "source": [
    "shapiro(df_d_1)"
   ]
  },
  {
   "cell_type": "code",
   "execution_count": 23,
   "metadata": {},
   "outputs": [
    {
     "data": {
      "text/plain": [
       "ShapiroResult(statistic=0.9681758284568787, pvalue=0.0)"
      ]
     },
     "execution_count": 23,
     "metadata": {},
     "output_type": "execute_result"
    }
   ],
   "source": [
    "shapiro(df_j_1)"
   ]
  }
 ],
 "metadata": {
  "kernelspec": {
   "display_name": "Python 3",
   "language": "python",
   "name": "python3"
  },
  "language_info": {
   "codemirror_mode": {
    "name": "ipython",
    "version": 3
   },
   "file_extension": ".py",
   "mimetype": "text/x-python",
   "name": "python",
   "nbconvert_exporter": "python",
   "pygments_lexer": "ipython3",
   "version": "3.7.9"
  }
 },
 "nbformat": 4,
 "nbformat_minor": 4
}
