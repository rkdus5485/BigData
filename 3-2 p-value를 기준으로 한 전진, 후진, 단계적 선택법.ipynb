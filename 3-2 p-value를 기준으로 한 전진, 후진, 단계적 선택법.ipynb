{
 "cells": [
  {
   "cell_type": "code",
   "execution_count": 7,
   "metadata": {},
   "outputs": [],
   "source": [
    "import pandas as pd\n",
    "import numpy as np\n",
    "import matplotlib.pyplot as plt\n",
    "import seaborn as sns\n",
    "import matplotlib\n",
    "from matplotlib import font_manager, rc\n",
    "import platform\n",
    "import statsmodels.formula.api as smf\n",
    "\n",
    "if platform.system() == 'Windows':\n",
    "# windows 인 경우\n",
    "    font_name = font_manager.FontProperties(fname=\"c:\\Windows\\Fonts\\malgun.ttf\").get_name()\n",
    "    rc('font', family=font_name)\n",
    "else: \n",
    "# mac 인 경우\n",
    "    rc('font', family='AppleGothic')\n",
    "    \n",
    "# 그래프에서 마이너스 기호가 표시되도록 하는 설정\n",
    "matplotlib.rcParams['axes.unicode_minus'] = False\n",
    "from patsy import dmatrices\n",
    "import statsmodels.api as sm;\n",
    "from statsmodels.stats.outliers_influence import variance_inflation_factor\n",
    "%matplotlib inline\n",
    "import time\n",
    "import itertools \n",
    "from sklearn.model_selection import train_test_split"
   ]
  },
  {
   "cell_type": "code",
   "execution_count": 10,
   "metadata": {},
   "outputs": [],
   "source": [
    "data = pd.read_csv(\"1,2,3월_2.csv\")"
   ]
  },
  {
   "cell_type": "code",
   "execution_count": 11,
   "metadata": {},
   "outputs": [],
   "source": [
    "data = data.drop(['Unnamed: 0'], axis = 1, inplace = False)\n",
    "data[\"연령대\"] = data[\"연령대\"].str.rstrip(\"s\").astype(\"int\")"
   ]
  },
  {
   "cell_type": "code",
   "execution_count": 12,
   "metadata": {},
   "outputs": [],
   "source": [
    "data = data[((data['업종명'] == '일반 음식점업') | (data['업종명'] == \"전시 및 행사 대행업\")\n",
    "                  |(data[\"업종명\"] == '관광업') | (data[\"업종명\"] == \"카페\")| (data[\"업종명\"] == \"스포츠 및 레크레이션 용품 임대업\"))]"
   ]
  },
  {
   "cell_type": "code",
   "execution_count": 13,
   "metadata": {},
   "outputs": [],
   "source": [
    "# 업종별 데이터 분류\n",
    "df1 = data[(data['업종명'] == '카페')]\n",
    "df2 = data[(data['업종명'] == '스포츠 및 레크레이션 용품 임대업')]\n",
    "df3 = data[(data['업종명'] == '일반 음식점업')]\n",
    "df4 = data[(data['업종명'] == '전시 및 행사 대행업')]\n",
    "df5 = data[(data['업종명'] == '관광업')]"
   ]
  },
  {
   "cell_type": "code",
   "execution_count": 14,
   "metadata": {},
   "outputs": [
    {
     "data": {
      "text/html": [
       "<div>\n",
       "<style scoped>\n",
       "    .dataframe tbody tr th:only-of-type {\n",
       "        vertical-align: middle;\n",
       "    }\n",
       "\n",
       "    .dataframe tbody tr th {\n",
       "        vertical-align: top;\n",
       "    }\n",
       "\n",
       "    .dataframe thead th {\n",
       "        text-align: right;\n",
       "    }\n",
       "</style>\n",
       "<table border=\"1\" class=\"dataframe\">\n",
       "  <thead>\n",
       "    <tr style=\"text-align: right;\">\n",
       "      <th></th>\n",
       "      <th>년월</th>\n",
       "      <th>업종명</th>\n",
       "      <th>연령대</th>\n",
       "      <th>성별</th>\n",
       "      <th>생애주기</th>\n",
       "      <th>고객수</th>\n",
       "      <th>금액</th>\n",
       "      <th>건수</th>\n",
       "    </tr>\n",
       "  </thead>\n",
       "  <tbody>\n",
       "    <tr>\n",
       "      <th>0</th>\n",
       "      <td>201901</td>\n",
       "      <td>카페</td>\n",
       "      <td>20</td>\n",
       "      <td>2</td>\n",
       "      <td>1</td>\n",
       "      <td>3</td>\n",
       "      <td>24890</td>\n",
       "      <td>3</td>\n",
       "    </tr>\n",
       "    <tr>\n",
       "      <th>1</th>\n",
       "      <td>201901</td>\n",
       "      <td>카페</td>\n",
       "      <td>20</td>\n",
       "      <td>2</td>\n",
       "      <td>1</td>\n",
       "      <td>3</td>\n",
       "      <td>17800</td>\n",
       "      <td>3</td>\n",
       "    </tr>\n",
       "    <tr>\n",
       "      <th>2</th>\n",
       "      <td>201901</td>\n",
       "      <td>카페</td>\n",
       "      <td>30</td>\n",
       "      <td>2</td>\n",
       "      <td>2</td>\n",
       "      <td>3</td>\n",
       "      <td>28500</td>\n",
       "      <td>4</td>\n",
       "    </tr>\n",
       "    <tr>\n",
       "      <th>3</th>\n",
       "      <td>201901</td>\n",
       "      <td>카페</td>\n",
       "      <td>20</td>\n",
       "      <td>1</td>\n",
       "      <td>1</td>\n",
       "      <td>3</td>\n",
       "      <td>27900</td>\n",
       "      <td>4</td>\n",
       "    </tr>\n",
       "    <tr>\n",
       "      <th>4</th>\n",
       "      <td>201901</td>\n",
       "      <td>카페</td>\n",
       "      <td>40</td>\n",
       "      <td>1</td>\n",
       "      <td>3</td>\n",
       "      <td>3</td>\n",
       "      <td>20600</td>\n",
       "      <td>3</td>\n",
       "    </tr>\n",
       "    <tr>\n",
       "      <th>...</th>\n",
       "      <td>...</td>\n",
       "      <td>...</td>\n",
       "      <td>...</td>\n",
       "      <td>...</td>\n",
       "      <td>...</td>\n",
       "      <td>...</td>\n",
       "      <td>...</td>\n",
       "      <td>...</td>\n",
       "    </tr>\n",
       "    <tr>\n",
       "      <th>223758</th>\n",
       "      <td>202003</td>\n",
       "      <td>카페</td>\n",
       "      <td>30</td>\n",
       "      <td>1</td>\n",
       "      <td>2</td>\n",
       "      <td>3</td>\n",
       "      <td>29600</td>\n",
       "      <td>5</td>\n",
       "    </tr>\n",
       "    <tr>\n",
       "      <th>223759</th>\n",
       "      <td>202003</td>\n",
       "      <td>카페</td>\n",
       "      <td>40</td>\n",
       "      <td>1</td>\n",
       "      <td>3</td>\n",
       "      <td>3</td>\n",
       "      <td>21800</td>\n",
       "      <td>7</td>\n",
       "    </tr>\n",
       "    <tr>\n",
       "      <th>223760</th>\n",
       "      <td>202003</td>\n",
       "      <td>카페</td>\n",
       "      <td>20</td>\n",
       "      <td>2</td>\n",
       "      <td>1</td>\n",
       "      <td>3</td>\n",
       "      <td>7500</td>\n",
       "      <td>3</td>\n",
       "    </tr>\n",
       "    <tr>\n",
       "      <th>223761</th>\n",
       "      <td>202003</td>\n",
       "      <td>카페</td>\n",
       "      <td>20</td>\n",
       "      <td>1</td>\n",
       "      <td>1</td>\n",
       "      <td>6</td>\n",
       "      <td>54900</td>\n",
       "      <td>7</td>\n",
       "    </tr>\n",
       "    <tr>\n",
       "      <th>223762</th>\n",
       "      <td>202003</td>\n",
       "      <td>카페</td>\n",
       "      <td>20</td>\n",
       "      <td>2</td>\n",
       "      <td>1</td>\n",
       "      <td>3</td>\n",
       "      <td>53000</td>\n",
       "      <td>7</td>\n",
       "    </tr>\n",
       "  </tbody>\n",
       "</table>\n",
       "<p>36070 rows × 8 columns</p>\n",
       "</div>"
      ],
      "text/plain": [
       "            년월 업종명  연령대  성별  생애주기  고객수     금액  건수\n",
       "0       201901  카페   20   2     1    3  24890   3\n",
       "1       201901  카페   20   2     1    3  17800   3\n",
       "2       201901  카페   30   2     2    3  28500   4\n",
       "3       201901  카페   20   1     1    3  27900   4\n",
       "4       201901  카페   40   1     3    3  20600   3\n",
       "...        ...  ..  ...  ..   ...  ...    ...  ..\n",
       "223758  202003  카페   30   1     2    3  29600   5\n",
       "223759  202003  카페   40   1     3    3  21800   7\n",
       "223760  202003  카페   20   2     1    3   7500   3\n",
       "223761  202003  카페   20   1     1    6  54900   7\n",
       "223762  202003  카페   20   2     1    3  53000   7\n",
       "\n",
       "[36070 rows x 8 columns]"
      ]
     },
     "execution_count": 14,
     "metadata": {},
     "output_type": "execute_result"
    }
   ],
   "source": [
    "df1"
   ]
  },
  {
   "cell_type": "markdown",
   "metadata": {},
   "source": [
    "# cafe\n",
    "## 3가지 방법 모두 연령대, 생애주기, 고객수, 건수를 변수로 저장"
   ]
  },
  {
   "cell_type": "code",
   "execution_count": 15,
   "metadata": {},
   "outputs": [],
   "source": [
    "df1 = df1[[\"년월\",\"업종명\",\"연령대\",\"성별\",\"생애주기\",\"고객수\",\"건수\",\"금액\"]]"
   ]
  },
  {
   "cell_type": "code",
   "execution_count": 16,
   "metadata": {},
   "outputs": [
    {
     "name": "stderr",
     "output_type": "stream",
     "text": [
      "C:\\Users\\LG\\anaconda3\\envs\\tens_2\\lib\\site-packages\\ipykernel_launcher.py:14: DeprecationWarning: The default dtype for empty Series will be 'object' instead of 'float64' in a future version. Specify a dtype explicitly to silence this warning.\n",
      "  \n",
      "C:\\Users\\LG\\anaconda3\\envs\\tens_2\\lib\\site-packages\\ipykernel_launcher.py:14: DeprecationWarning: The default dtype for empty Series will be 'object' instead of 'float64' in a future version. Specify a dtype explicitly to silence this warning.\n",
      "  \n",
      "C:\\Users\\LG\\anaconda3\\envs\\tens_2\\lib\\site-packages\\ipykernel_launcher.py:14: DeprecationWarning: The default dtype for empty Series will be 'object' instead of 'float64' in a future version. Specify a dtype explicitly to silence this warning.\n",
      "  \n",
      "C:\\Users\\LG\\anaconda3\\envs\\tens_2\\lib\\site-packages\\ipykernel_launcher.py:14: DeprecationWarning: The default dtype for empty Series will be 'object' instead of 'float64' in a future version. Specify a dtype explicitly to silence this warning.\n",
      "  \n",
      "C:\\Users\\LG\\anaconda3\\envs\\tens_2\\lib\\site-packages\\ipykernel_launcher.py:14: DeprecationWarning: The default dtype for empty Series will be 'object' instead of 'float64' in a future version. Specify a dtype explicitly to silence this warning.\n",
      "  \n"
     ]
    }
   ],
   "source": [
    "# 전진 선택법\n",
    "variables = df1.columns[2:-1].tolist() # 설명변수 설정\n",
    "\n",
    "y =df1[\"금액\"] # 반응변수 설정\n",
    "selected_variables=[] # 선택된 변수\n",
    "sl_enter = 0.05\n",
    "\n",
    "sv_per_step = [] # 단계별 선택된 변수\n",
    "adjusted_r_squared = [] # 단계별 수정된 결정계수\n",
    "steps = []\n",
    "step = 0\n",
    "while len(variables) > 0:\n",
    "    remainder = list(set(variables) - set(selected_variables))\n",
    "    pval = pd.Series(index = remainder)\n",
    "    for col in remainder:\n",
    "        X = df1[selected_variables+[col]]  \n",
    "        X = sm.add_constant(X) \n",
    "        model = sm.OLS(y,X).fit()\n",
    "        pval[col] = model.pvalues[col]\n",
    "   \n",
    "    min_pval = pval.min()\n",
    "    if min_pval < sl_enter:\n",
    "        selected_variables.append(pval.idxmin())\n",
    "        \n",
    "        step += 1\n",
    "        steps.append(step)\n",
    "        adj_r_squared = sm.OLS(y, sm.add_constant(df1[selected_variables]))\n",
    "        adjusted_r_squared.append(adj_r_squared)\n",
    "        sv_per_step.append(selected_variables.copy())\n",
    "    else:\n",
    "        break"
   ]
  },
  {
   "cell_type": "code",
   "execution_count": 17,
   "metadata": {},
   "outputs": [
    {
     "data": {
      "text/plain": [
       "['고객수', '연령대', '건수', '생애주기']"
      ]
     },
     "execution_count": 17,
     "metadata": {},
     "output_type": "execute_result"
    }
   ],
   "source": [
    "selected_variables"
   ]
  },
  {
   "cell_type": "code",
   "execution_count": 18,
   "metadata": {},
   "outputs": [],
   "source": [
    "# 후진 제거법\n",
    "variables = df1.columns[2:-1].tolist() # 설명변수 설정\n",
    "\n",
    "y =df1[\"금액\"] # 반응변수 설정\n",
    "selected_variables= variables # 초기에는 모든 변수 선택\n",
    "sl_remove = 0.05\n",
    "\n",
    "sv_per_step = [] # 단계별 선택된 변수\n",
    "adjusted_r_squared = [] # 단계별 수정된 결정계수\n",
    "steps = []\n",
    "step = 0\n",
    "while len(variables) > 0:\n",
    "    X = sm.add_constant(df1[selected_variables])\n",
    "    p_vals = sm.OLS(y,X).fit().pvalues[1:]\n",
    "    max_pval = p_vals.max()\n",
    "    if max_pval >= sl_remove:\n",
    "        remove_variable = p_vals.idxmax()\n",
    "        selected_variables.remove(remove_variable)\n",
    "        \n",
    "        step += 1\n",
    "        steps.append(step)\n",
    "        adj_r_squared = sm.OLS(y, sm.add_constant(df1[selected_variables]))\n",
    "        adjusted_r_squared.append(adj_r_squared)\n",
    "        sv_per_step.append(selected_variables.copy())\n",
    "    else:\n",
    "        break"
   ]
  },
  {
   "cell_type": "code",
   "execution_count": 19,
   "metadata": {},
   "outputs": [
    {
     "data": {
      "text/plain": [
       "['연령대', '생애주기', '고객수', '건수']"
      ]
     },
     "execution_count": 19,
     "metadata": {},
     "output_type": "execute_result"
    }
   ],
   "source": [
    "selected_variables"
   ]
  },
  {
   "cell_type": "code",
   "execution_count": 20,
   "metadata": {},
   "outputs": [
    {
     "name": "stderr",
     "output_type": "stream",
     "text": [
      "C:\\Users\\LG\\anaconda3\\envs\\tens_2\\lib\\site-packages\\ipykernel_launcher.py:15: DeprecationWarning: The default dtype for empty Series will be 'object' instead of 'float64' in a future version. Specify a dtype explicitly to silence this warning.\n",
      "  from ipykernel import kernelapp as app\n",
      "C:\\Users\\LG\\anaconda3\\envs\\tens_2\\lib\\site-packages\\ipykernel_launcher.py:15: DeprecationWarning: The default dtype for empty Series will be 'object' instead of 'float64' in a future version. Specify a dtype explicitly to silence this warning.\n",
      "  from ipykernel import kernelapp as app\n",
      "C:\\Users\\LG\\anaconda3\\envs\\tens_2\\lib\\site-packages\\ipykernel_launcher.py:15: DeprecationWarning: The default dtype for empty Series will be 'object' instead of 'float64' in a future version. Specify a dtype explicitly to silence this warning.\n",
      "  from ipykernel import kernelapp as app\n",
      "C:\\Users\\LG\\anaconda3\\envs\\tens_2\\lib\\site-packages\\ipykernel_launcher.py:15: DeprecationWarning: The default dtype for empty Series will be 'object' instead of 'float64' in a future version. Specify a dtype explicitly to silence this warning.\n",
      "  from ipykernel import kernelapp as app\n",
      "C:\\Users\\LG\\anaconda3\\envs\\tens_2\\lib\\site-packages\\ipykernel_launcher.py:15: DeprecationWarning: The default dtype for empty Series will be 'object' instead of 'float64' in a future version. Specify a dtype explicitly to silence this warning.\n",
      "  from ipykernel import kernelapp as app\n"
     ]
    }
   ],
   "source": [
    "# 단계적 선택법 \n",
    "variables = df1.columns[2:-1].tolist() # 설명변수 설정\n",
    "\n",
    "y =df1[\"금액\"] # 반응변수 설정\n",
    "selected_variables=[] # 선택된 변수\n",
    "sl_enter = 0.05\n",
    "sl_remove = 0.05\n",
    "\n",
    "sv_per_step = [] # 단계별 선택된 변수\n",
    "adjusted_r_squared = [] # 단계별 수정된 결정계수\n",
    "steps = []\n",
    "step = 0\n",
    "while len(variables) > 0:\n",
    "    remainder = list(set(variables) - set(selected_variables))\n",
    "    pval = pd.Series(index = remainder)\n",
    "    for col in remainder:\n",
    "        X = df1[selected_variables+[col]]  \n",
    "        X = sm.add_constant(X) \n",
    "        model = sm.OLS(y,X).fit()\n",
    "        pval[col] = model.pvalues[col]\n",
    "   \n",
    "    min_pval = pval.min()\n",
    "    if min_pval < sl_enter:\n",
    "        selected_variables.append(pval.idxmin())\n",
    "        while len(selected_variables) > 0:\n",
    "            selected_X = df1[selected_variables]\n",
    "            selected_X = sm.add_constant(selected_X)\n",
    "            selected_pval = sm.OLS(y,selected_X).fit().pvalues[1:]\n",
    "            max_pval = selected_pval.max()\n",
    "            if max_pval >= sl_remove:\n",
    "                remove_variable = selected_pval.idxmax()\n",
    "                selected_variabels.remove(remove_variable)\n",
    "            else:\n",
    "                break\n",
    "        \n",
    "        step += 1\n",
    "        steps.append(step)\n",
    "        adj_r_squared = sm.OLS(y, sm.add_constant(df1[selected_variables]))\n",
    "        adjusted_r_squared.append(adj_r_squared)\n",
    "        sv_per_step.append(selected_variables.copy())\n",
    "    else:\n",
    "        break"
   ]
  },
  {
   "cell_type": "code",
   "execution_count": 21,
   "metadata": {},
   "outputs": [
    {
     "data": {
      "text/plain": [
       "['고객수', '연령대', '건수', '생애주기']"
      ]
     },
     "execution_count": 21,
     "metadata": {},
     "output_type": "execute_result"
    }
   ],
   "source": [
    "selected_variables"
   ]
  },
  {
   "cell_type": "code",
   "execution_count": 22,
   "metadata": {},
   "outputs": [
    {
     "data": {
      "text/html": [
       "<table class=\"simpletable\">\n",
       "<caption>OLS Regression Results</caption>\n",
       "<tr>\n",
       "  <th>Dep. Variable:</th>           <td>금액</td>        <th>  R-squared:         </th>  <td>   0.982</td>  \n",
       "</tr>\n",
       "<tr>\n",
       "  <th>Model:</th>                   <td>OLS</td>       <th>  Adj. R-squared:    </th>  <td>   0.982</td>  \n",
       "</tr>\n",
       "<tr>\n",
       "  <th>Method:</th>             <td>Least Squares</td>  <th>  F-statistic:       </th>  <td>4.922e+05</td> \n",
       "</tr>\n",
       "<tr>\n",
       "  <th>Date:</th>             <td>Mon, 18 Jan 2021</td> <th>  Prob (F-statistic):</th>   <td>  0.00</td>   \n",
       "</tr>\n",
       "<tr>\n",
       "  <th>Time:</th>                 <td>17:38:01</td>     <th>  Log-Likelihood:    </th> <td>-5.2200e+05</td>\n",
       "</tr>\n",
       "<tr>\n",
       "  <th>No. Observations:</th>      <td> 36070</td>      <th>  AIC:               </th>  <td>1.044e+06</td> \n",
       "</tr>\n",
       "<tr>\n",
       "  <th>Df Residuals:</th>          <td> 36065</td>      <th>  BIC:               </th>  <td>1.044e+06</td> \n",
       "</tr>\n",
       "<tr>\n",
       "  <th>Df Model:</th>              <td>     4</td>      <th>                     </th>      <td> </td>     \n",
       "</tr>\n",
       "<tr>\n",
       "  <th>Covariance Type:</th>      <td>nonrobust</td>    <th>                     </th>      <td> </td>     \n",
       "</tr>\n",
       "</table>\n",
       "<table class=\"simpletable\">\n",
       "<tr>\n",
       "      <td></td>         <th>coef</th>     <th>std err</th>      <th>t</th>      <th>P>|t|</th>  <th>[0.025</th>    <th>0.975]</th>  \n",
       "</tr>\n",
       "<tr>\n",
       "  <th>Intercept</th> <td>-1.517e+05</td> <td> 7538.664</td> <td>  -20.129</td> <td> 0.000</td> <td>-1.67e+05</td> <td>-1.37e+05</td>\n",
       "</tr>\n",
       "<tr>\n",
       "  <th>고객수</th>       <td> 1.074e+04</td> <td>   83.836</td> <td>  128.136</td> <td> 0.000</td> <td> 1.06e+04</td> <td> 1.09e+04</td>\n",
       "</tr>\n",
       "<tr>\n",
       "  <th>연령대</th>       <td> 3605.9034</td> <td>  521.262</td> <td>    6.918</td> <td> 0.000</td> <td> 2584.214</td> <td> 4627.593</td>\n",
       "</tr>\n",
       "<tr>\n",
       "  <th>건수</th>        <td>  777.5586</td> <td>   52.116</td> <td>   14.920</td> <td> 0.000</td> <td>  675.409</td> <td>  879.708</td>\n",
       "</tr>\n",
       "<tr>\n",
       "  <th>생애주기</th>      <td> 1.494e+04</td> <td> 5395.953</td> <td>    2.769</td> <td> 0.006</td> <td> 4367.728</td> <td> 2.55e+04</td>\n",
       "</tr>\n",
       "</table>\n",
       "<table class=\"simpletable\">\n",
       "<tr>\n",
       "  <th>Omnibus:</th>       <td>60759.658</td> <th>  Durbin-Watson:     </th>   <td>   1.588</td>   \n",
       "</tr>\n",
       "<tr>\n",
       "  <th>Prob(Omnibus):</th>  <td> 0.000</td>   <th>  Jarque-Bera (JB):  </th> <td>472944375.127</td>\n",
       "</tr>\n",
       "<tr>\n",
       "  <th>Skew:</th>           <td>10.632</td>   <th>  Prob(JB):          </th>   <td>    0.00</td>   \n",
       "</tr>\n",
       "<tr>\n",
       "  <th>Kurtosis:</th>       <td>563.564</td>  <th>  Cond. No.          </th>   <td>1.86e+03</td>   \n",
       "</tr>\n",
       "</table><br/><br/>Notes:<br/>[1] Standard Errors assume that the covariance matrix of the errors is correctly specified.<br/>[2] The condition number is large, 1.86e+03. This might indicate that there are<br/>strong multicollinearity or other numerical problems."
      ],
      "text/plain": [
       "<class 'statsmodels.iolib.summary.Summary'>\n",
       "\"\"\"\n",
       "                            OLS Regression Results                            \n",
       "==============================================================================\n",
       "Dep. Variable:                     금액   R-squared:                       0.982\n",
       "Model:                            OLS   Adj. R-squared:                  0.982\n",
       "Method:                 Least Squares   F-statistic:                 4.922e+05\n",
       "Date:                Mon, 18 Jan 2021   Prob (F-statistic):               0.00\n",
       "Time:                        17:38:01   Log-Likelihood:            -5.2200e+05\n",
       "No. Observations:               36070   AIC:                         1.044e+06\n",
       "Df Residuals:                   36065   BIC:                         1.044e+06\n",
       "Df Model:                           4                                         \n",
       "Covariance Type:            nonrobust                                         \n",
       "==============================================================================\n",
       "                 coef    std err          t      P>|t|      [0.025      0.975]\n",
       "------------------------------------------------------------------------------\n",
       "Intercept  -1.517e+05   7538.664    -20.129      0.000   -1.67e+05   -1.37e+05\n",
       "고객수         1.074e+04     83.836    128.136      0.000    1.06e+04    1.09e+04\n",
       "연령대         3605.9034    521.262      6.918      0.000    2584.214    4627.593\n",
       "건수           777.5586     52.116     14.920      0.000     675.409     879.708\n",
       "생애주기        1.494e+04   5395.953      2.769      0.006    4367.728    2.55e+04\n",
       "==============================================================================\n",
       "Omnibus:                    60759.658   Durbin-Watson:                   1.588\n",
       "Prob(Omnibus):                  0.000   Jarque-Bera (JB):        472944375.127\n",
       "Skew:                          10.632   Prob(JB):                         0.00\n",
       "Kurtosis:                     563.564   Cond. No.                     1.86e+03\n",
       "==============================================================================\n",
       "\n",
       "Notes:\n",
       "[1] Standard Errors assume that the covariance matrix of the errors is correctly specified.\n",
       "[2] The condition number is large, 1.86e+03. This might indicate that there are\n",
       "strong multicollinearity or other numerical problems.\n",
       "\"\"\""
      ]
     },
     "execution_count": 22,
     "metadata": {},
     "output_type": "execute_result"
    }
   ],
   "source": [
    "model1 = smf.ols(formula = \"금액 ~ 고객수+연령대+건수+생애주기\", data = df1)\n",
    "result1 = model1.fit()\n",
    "result1.summary()"
   ]
  },
  {
   "cell_type": "markdown",
   "metadata": {},
   "source": [
    "# sport\n",
    "## 세가지 방법 모두 모든 변수 선택"
   ]
  },
  {
   "cell_type": "code",
   "execution_count": 23,
   "metadata": {},
   "outputs": [],
   "source": [
    "df2 = df2[[\"년월\",\"업종명\",\"연령대\",\"성별\",\"생애주기\",\"고객수\",\"건수\",\"금액\"]]"
   ]
  },
  {
   "cell_type": "code",
   "execution_count": 24,
   "metadata": {},
   "outputs": [
    {
     "name": "stderr",
     "output_type": "stream",
     "text": [
      "C:\\Users\\LG\\anaconda3\\envs\\tens_2\\lib\\site-packages\\ipykernel_launcher.py:14: DeprecationWarning: The default dtype for empty Series will be 'object' instead of 'float64' in a future version. Specify a dtype explicitly to silence this warning.\n",
      "  \n",
      "C:\\Users\\LG\\anaconda3\\envs\\tens_2\\lib\\site-packages\\ipykernel_launcher.py:14: DeprecationWarning: The default dtype for empty Series will be 'object' instead of 'float64' in a future version. Specify a dtype explicitly to silence this warning.\n",
      "  \n",
      "C:\\Users\\LG\\anaconda3\\envs\\tens_2\\lib\\site-packages\\ipykernel_launcher.py:14: DeprecationWarning: The default dtype for empty Series will be 'object' instead of 'float64' in a future version. Specify a dtype explicitly to silence this warning.\n",
      "  \n",
      "C:\\Users\\LG\\anaconda3\\envs\\tens_2\\lib\\site-packages\\ipykernel_launcher.py:14: DeprecationWarning: The default dtype for empty Series will be 'object' instead of 'float64' in a future version. Specify a dtype explicitly to silence this warning.\n",
      "  \n",
      "C:\\Users\\LG\\anaconda3\\envs\\tens_2\\lib\\site-packages\\ipykernel_launcher.py:14: DeprecationWarning: The default dtype for empty Series will be 'object' instead of 'float64' in a future version. Specify a dtype explicitly to silence this warning.\n",
      "  \n",
      "C:\\Users\\LG\\anaconda3\\envs\\tens_2\\lib\\site-packages\\ipykernel_launcher.py:14: DeprecationWarning: The default dtype for empty Series will be 'object' instead of 'float64' in a future version. Specify a dtype explicitly to silence this warning.\n",
      "  \n"
     ]
    }
   ],
   "source": [
    "# 전진 선택법\n",
    "variables = df2.columns[2:-1].tolist() # 설명변수 설정\n",
    "\n",
    "y =df2[\"금액\"] # 반응변수 설정\n",
    "selected_variables=[] # 선택된 변수\n",
    "sl_enter = 0.05\n",
    "\n",
    "sv_per_step = [] # 단계별 선택된 변수\n",
    "adjusted_r_squared = [] # 단계별 수정된 결정계수\n",
    "steps = []\n",
    "step = 0\n",
    "while len(variables) > 0:\n",
    "    remainder = list(set(variables) - set(selected_variables))\n",
    "    pval = pd.Series(index = remainder)\n",
    "    for col in remainder:\n",
    "        X = df2[selected_variables+[col]]  \n",
    "        X = sm.add_constant(X) \n",
    "        model = sm.OLS(y,X).fit()\n",
    "        pval[col] = model.pvalues[col]\n",
    "   \n",
    "    min_pval = pval.min()\n",
    "    if min_pval < sl_enter:\n",
    "        selected_variables.append(pval.idxmin())\n",
    "        \n",
    "        step += 1\n",
    "        steps.append(step)\n",
    "        adj_r_squared = sm.OLS(y, sm.add_constant(df2[selected_variables]))\n",
    "        adjusted_r_squared.append(adj_r_squared)\n",
    "        sv_per_step.append(selected_variables.copy())\n",
    "    else:\n",
    "        break"
   ]
  },
  {
   "cell_type": "code",
   "execution_count": 25,
   "metadata": {},
   "outputs": [
    {
     "data": {
      "text/plain": [
       "['고객수', '생애주기', '건수', '성별', '연령대']"
      ]
     },
     "execution_count": 25,
     "metadata": {},
     "output_type": "execute_result"
    }
   ],
   "source": [
    "selected_variables"
   ]
  },
  {
   "cell_type": "code",
   "execution_count": 26,
   "metadata": {},
   "outputs": [],
   "source": [
    "# 후진 제거법\n",
    "variables = df2.columns[2:-1].tolist() # 설명변수 설정\n",
    "\n",
    "y =df2[\"금액\"] # 반응변수 설정\n",
    "selected_variables= variables # 초기에는 모든 변수 선택\n",
    "sl_remove = 0.05\n",
    "\n",
    "sv_per_step = [] # 단계별 선택된 변수\n",
    "adjusted_r_squared = [] # 단계별 수정된 결정계수\n",
    "steps = []\n",
    "step = 0\n",
    "while len(variables) > 0:\n",
    "    X = sm.add_constant(df2[selected_variables])\n",
    "    p_vals = sm.OLS(y,X).fit().pvalues[1:]\n",
    "    max_pval = p_vals.max()\n",
    "    if max_pval >= sl_remove:\n",
    "        remove_variable = p_vals.idxmax()\n",
    "        selected_variables.remove(remove_variable)\n",
    "        \n",
    "        step += 1\n",
    "        steps.append(step)\n",
    "        adj_r_squared = sm.OLS(y, sm.add_constant(df2[selected_variables]))\n",
    "        adjusted_r_squared.append(adj_r_squared)\n",
    "        sv_per_step.append(selected_variables.copy())\n",
    "    else:\n",
    "        break"
   ]
  },
  {
   "cell_type": "code",
   "execution_count": 27,
   "metadata": {},
   "outputs": [
    {
     "data": {
      "text/plain": [
       "['연령대', '성별', '생애주기', '고객수', '건수']"
      ]
     },
     "execution_count": 27,
     "metadata": {},
     "output_type": "execute_result"
    }
   ],
   "source": [
    "selected_variables"
   ]
  },
  {
   "cell_type": "code",
   "execution_count": 28,
   "metadata": {},
   "outputs": [],
   "source": [
    "# 후진 제거법\n",
    "variables = df2.columns[2:-1].tolist() # 설명변수 설정\n",
    "\n",
    "y =df2[\"금액\"] # 반응변수 설정\n",
    "selected_variables= variables # 초기에는 모든 변수 선택\n",
    "sl_remove = 0.05\n",
    "\n",
    "sv_per_step = [] # 단계별 선택된 변수\n",
    "adjusted_r_squared = [] # 단계별 수정된 결정계수\n",
    "steps = []\n",
    "step = 0\n",
    "while len(variables) > 0:\n",
    "    X = sm.add_constant(df2[selected_variables])\n",
    "    p_vals = sm.OLS(y,X).fit().pvalues[1:]\n",
    "    max_pval = p_vals.max()\n",
    "    if max_pval >= sl_remove:\n",
    "        remove_variable = p_vals.idxmax()\n",
    "        selected_variables.remove(remove_variable)\n",
    "        \n",
    "        step += 1\n",
    "        steps.append(step)\n",
    "        adj_r_squared = sm.OLS(y, sm.add_constant(df2[selected_variables]))\n",
    "        adjusted_r_squared.append(adj_r_squared)\n",
    "        sv_per_step.append(selected_variables.copy())\n",
    "    else:\n",
    "        break"
   ]
  },
  {
   "cell_type": "code",
   "execution_count": 29,
   "metadata": {},
   "outputs": [
    {
     "data": {
      "text/plain": [
       "['연령대', '성별', '생애주기', '고객수', '건수']"
      ]
     },
     "execution_count": 29,
     "metadata": {},
     "output_type": "execute_result"
    }
   ],
   "source": [
    "selected_variables"
   ]
  },
  {
   "cell_type": "code",
   "execution_count": 30,
   "metadata": {},
   "outputs": [
    {
     "name": "stderr",
     "output_type": "stream",
     "text": [
      "C:\\Users\\LG\\anaconda3\\envs\\tens_2\\lib\\site-packages\\ipykernel_launcher.py:15: DeprecationWarning: The default dtype for empty Series will be 'object' instead of 'float64' in a future version. Specify a dtype explicitly to silence this warning.\n",
      "  from ipykernel import kernelapp as app\n",
      "C:\\Users\\LG\\anaconda3\\envs\\tens_2\\lib\\site-packages\\ipykernel_launcher.py:15: DeprecationWarning: The default dtype for empty Series will be 'object' instead of 'float64' in a future version. Specify a dtype explicitly to silence this warning.\n",
      "  from ipykernel import kernelapp as app\n",
      "C:\\Users\\LG\\anaconda3\\envs\\tens_2\\lib\\site-packages\\ipykernel_launcher.py:15: DeprecationWarning: The default dtype for empty Series will be 'object' instead of 'float64' in a future version. Specify a dtype explicitly to silence this warning.\n",
      "  from ipykernel import kernelapp as app\n",
      "C:\\Users\\LG\\anaconda3\\envs\\tens_2\\lib\\site-packages\\ipykernel_launcher.py:15: DeprecationWarning: The default dtype for empty Series will be 'object' instead of 'float64' in a future version. Specify a dtype explicitly to silence this warning.\n",
      "  from ipykernel import kernelapp as app\n",
      "C:\\Users\\LG\\anaconda3\\envs\\tens_2\\lib\\site-packages\\ipykernel_launcher.py:15: DeprecationWarning: The default dtype for empty Series will be 'object' instead of 'float64' in a future version. Specify a dtype explicitly to silence this warning.\n",
      "  from ipykernel import kernelapp as app\n",
      "C:\\Users\\LG\\anaconda3\\envs\\tens_2\\lib\\site-packages\\ipykernel_launcher.py:15: DeprecationWarning: The default dtype for empty Series will be 'object' instead of 'float64' in a future version. Specify a dtype explicitly to silence this warning.\n",
      "  from ipykernel import kernelapp as app\n"
     ]
    }
   ],
   "source": [
    "# 단계적 선택법 \n",
    "variables = df2.columns[2:-1].tolist() # 설명변수 설정\n",
    "\n",
    "y =df2[\"금액\"] # 반응변수 설정\n",
    "selected_variables=[] # 선택된 변수\n",
    "sl_enter = 0.05\n",
    "sl_remove = 0.05\n",
    "\n",
    "sv_per_step = [] # 단계별 선택된 변수\n",
    "adjusted_r_squared = [] # 단계별 수정된 결정계수\n",
    "steps = []\n",
    "step = 0\n",
    "while len(variables) > 0:\n",
    "    remainder = list(set(variables) - set(selected_variables))\n",
    "    pval = pd.Series(index = remainder)\n",
    "    for col in remainder:\n",
    "        X = df2[selected_variables+[col]]  \n",
    "        X = sm.add_constant(X) \n",
    "        model = sm.OLS(y,X).fit()\n",
    "        pval[col] = model.pvalues[col]\n",
    "   \n",
    "    min_pval = pval.min()\n",
    "    if min_pval < sl_enter:\n",
    "        selected_variables.append(pval.idxmin())\n",
    "        while len(selected_variables) > 0:\n",
    "            selected_X = df2[selected_variables]\n",
    "            selected_X = sm.add_constant(selected_X)\n",
    "            selected_pval = sm.OLS(y,selected_X).fit().pvalues[1:]\n",
    "            max_pval = selected_pval.max()\n",
    "            if max_pval >= sl_remove:\n",
    "                remove_variable = selected_pval.idxmax()\n",
    "                selected_variabels.remove(remove_variable)\n",
    "            else:\n",
    "                break\n",
    "        \n",
    "        step += 1\n",
    "        steps.append(step)\n",
    "        adj_r_squared = sm.OLS(y, sm.add_constant(df2[selected_variables]))\n",
    "        adjusted_r_squared.append(adj_r_squared)\n",
    "        sv_per_step.append(selected_variables.copy())\n",
    "    else:\n",
    "        break"
   ]
  },
  {
   "cell_type": "code",
   "execution_count": 31,
   "metadata": {},
   "outputs": [
    {
     "data": {
      "text/plain": [
       "['고객수', '생애주기', '건수', '성별', '연령대']"
      ]
     },
     "execution_count": 31,
     "metadata": {},
     "output_type": "execute_result"
    }
   ],
   "source": [
    "selected_variables"
   ]
  },
  {
   "cell_type": "code",
   "execution_count": 32,
   "metadata": {},
   "outputs": [
    {
     "data": {
      "text/html": [
       "<table class=\"simpletable\">\n",
       "<caption>OLS Regression Results</caption>\n",
       "<tr>\n",
       "  <th>Dep. Variable:</th>           <td>금액</td>        <th>  R-squared:         </th>  <td>   0.937</td>  \n",
       "</tr>\n",
       "<tr>\n",
       "  <th>Model:</th>                   <td>OLS</td>       <th>  Adj. R-squared:    </th>  <td>   0.937</td>  \n",
       "</tr>\n",
       "<tr>\n",
       "  <th>Method:</th>             <td>Least Squares</td>  <th>  F-statistic:       </th>  <td>3.342e+04</td> \n",
       "</tr>\n",
       "<tr>\n",
       "  <th>Date:</th>             <td>Mon, 18 Jan 2021</td> <th>  Prob (F-statistic):</th>   <td>  0.00</td>   \n",
       "</tr>\n",
       "<tr>\n",
       "  <th>Time:</th>                 <td>17:38:10</td>     <th>  Log-Likelihood:    </th> <td>-1.8206e+05</td>\n",
       "</tr>\n",
       "<tr>\n",
       "  <th>No. Observations:</th>      <td> 11301</td>      <th>  AIC:               </th>  <td>3.641e+05</td> \n",
       "</tr>\n",
       "<tr>\n",
       "  <th>Df Residuals:</th>          <td> 11295</td>      <th>  BIC:               </th>  <td>3.642e+05</td> \n",
       "</tr>\n",
       "<tr>\n",
       "  <th>Df Model:</th>              <td>     5</td>      <th>                     </th>      <td> </td>     \n",
       "</tr>\n",
       "<tr>\n",
       "  <th>Covariance Type:</th>      <td>nonrobust</td>    <th>                     </th>      <td> </td>     \n",
       "</tr>\n",
       "</table>\n",
       "<table class=\"simpletable\">\n",
       "<tr>\n",
       "      <td></td>         <th>coef</th>     <th>std err</th>      <th>t</th>      <th>P>|t|</th>  <th>[0.025</th>    <th>0.975]</th>  \n",
       "</tr>\n",
       "<tr>\n",
       "  <th>Intercept</th> <td>-1.773e+06</td> <td> 9.55e+04</td> <td>  -18.562</td> <td> 0.000</td> <td>-1.96e+06</td> <td>-1.59e+06</td>\n",
       "</tr>\n",
       "<tr>\n",
       "  <th>연령대</th>       <td>   1.2e+04</td> <td> 4420.395</td> <td>    2.715</td> <td> 0.007</td> <td> 3336.932</td> <td> 2.07e+04</td>\n",
       "</tr>\n",
       "<tr>\n",
       "  <th>생애주기</th>      <td> 3.035e+05</td> <td> 4.75e+04</td> <td>    6.391</td> <td> 0.000</td> <td>  2.1e+05</td> <td> 3.97e+05</td>\n",
       "</tr>\n",
       "<tr>\n",
       "  <th>성별</th>        <td> 1.522e+05</td> <td>  4.6e+04</td> <td>    3.308</td> <td> 0.001</td> <td>  6.2e+04</td> <td> 2.42e+05</td>\n",
       "</tr>\n",
       "<tr>\n",
       "  <th>고객수</th>       <td> 6.759e+04</td> <td> 2558.313</td> <td>   26.420</td> <td> 0.000</td> <td> 6.26e+04</td> <td> 7.26e+04</td>\n",
       "</tr>\n",
       "<tr>\n",
       "  <th>건수</th>        <td> 4.801e+04</td> <td> 2048.189</td> <td>   23.441</td> <td> 0.000</td> <td>  4.4e+04</td> <td>  5.2e+04</td>\n",
       "</tr>\n",
       "</table>\n",
       "<table class=\"simpletable\">\n",
       "<tr>\n",
       "  <th>Omnibus:</th>       <td>4540.931</td> <th>  Durbin-Watson:     </th>  <td>   1.443</td> \n",
       "</tr>\n",
       "<tr>\n",
       "  <th>Prob(Omnibus):</th>  <td> 0.000</td>  <th>  Jarque-Bera (JB):  </th> <td>646298.645</td>\n",
       "</tr>\n",
       "<tr>\n",
       "  <th>Skew:</th>           <td>-0.880</td>  <th>  Prob(JB):          </th>  <td>    0.00</td> \n",
       "</tr>\n",
       "<tr>\n",
       "  <th>Kurtosis:</th>       <td>40.006</td>  <th>  Cond. No.          </th>  <td>    575.</td> \n",
       "</tr>\n",
       "</table><br/><br/>Notes:<br/>[1] Standard Errors assume that the covariance matrix of the errors is correctly specified."
      ],
      "text/plain": [
       "<class 'statsmodels.iolib.summary.Summary'>\n",
       "\"\"\"\n",
       "                            OLS Regression Results                            \n",
       "==============================================================================\n",
       "Dep. Variable:                     금액   R-squared:                       0.937\n",
       "Model:                            OLS   Adj. R-squared:                  0.937\n",
       "Method:                 Least Squares   F-statistic:                 3.342e+04\n",
       "Date:                Mon, 18 Jan 2021   Prob (F-statistic):               0.00\n",
       "Time:                        17:38:10   Log-Likelihood:            -1.8206e+05\n",
       "No. Observations:               11301   AIC:                         3.641e+05\n",
       "Df Residuals:                   11295   BIC:                         3.642e+05\n",
       "Df Model:                           5                                         \n",
       "Covariance Type:            nonrobust                                         \n",
       "==============================================================================\n",
       "                 coef    std err          t      P>|t|      [0.025      0.975]\n",
       "------------------------------------------------------------------------------\n",
       "Intercept  -1.773e+06   9.55e+04    -18.562      0.000   -1.96e+06   -1.59e+06\n",
       "연령대           1.2e+04   4420.395      2.715      0.007    3336.932    2.07e+04\n",
       "생애주기        3.035e+05   4.75e+04      6.391      0.000     2.1e+05    3.97e+05\n",
       "성별          1.522e+05    4.6e+04      3.308      0.001     6.2e+04    2.42e+05\n",
       "고객수         6.759e+04   2558.313     26.420      0.000    6.26e+04    7.26e+04\n",
       "건수          4.801e+04   2048.189     23.441      0.000     4.4e+04     5.2e+04\n",
       "==============================================================================\n",
       "Omnibus:                     4540.931   Durbin-Watson:                   1.443\n",
       "Prob(Omnibus):                  0.000   Jarque-Bera (JB):           646298.645\n",
       "Skew:                          -0.880   Prob(JB):                         0.00\n",
       "Kurtosis:                      40.006   Cond. No.                         575.\n",
       "==============================================================================\n",
       "\n",
       "Notes:\n",
       "[1] Standard Errors assume that the covariance matrix of the errors is correctly specified.\n",
       "\"\"\""
      ]
     },
     "execution_count": 32,
     "metadata": {},
     "output_type": "execute_result"
    }
   ],
   "source": [
    "model2 = smf.ols(formula = \"금액 ~ 연령대+생애주기+성별+고객수+건수\", data = df2)\n",
    "result2 = model2.fit()\n",
    "result2.summary()"
   ]
  },
  {
   "cell_type": "markdown",
   "metadata": {},
   "source": [
    "# Food\n",
    "## 세가지 방법 모두 모든 변수 선택"
   ]
  },
  {
   "cell_type": "code",
   "execution_count": 34,
   "metadata": {},
   "outputs": [],
   "source": [
    "df3 = df3[[\"년월\",\"업종명\",\"연령대\",\"성별\",\"생애주기\",\"고객수\",\"건수\",\"금액\"]]"
   ]
  },
  {
   "cell_type": "code",
   "execution_count": 36,
   "metadata": {},
   "outputs": [
    {
     "name": "stderr",
     "output_type": "stream",
     "text": [
      "C:\\Users\\LG\\anaconda3\\envs\\tens_2\\lib\\site-packages\\ipykernel_launcher.py:14: DeprecationWarning: The default dtype for empty Series will be 'object' instead of 'float64' in a future version. Specify a dtype explicitly to silence this warning.\n",
      "  \n",
      "C:\\Users\\LG\\anaconda3\\envs\\tens_2\\lib\\site-packages\\ipykernel_launcher.py:14: DeprecationWarning: The default dtype for empty Series will be 'object' instead of 'float64' in a future version. Specify a dtype explicitly to silence this warning.\n",
      "  \n",
      "C:\\Users\\LG\\anaconda3\\envs\\tens_2\\lib\\site-packages\\ipykernel_launcher.py:14: DeprecationWarning: The default dtype for empty Series will be 'object' instead of 'float64' in a future version. Specify a dtype explicitly to silence this warning.\n",
      "  \n",
      "C:\\Users\\LG\\anaconda3\\envs\\tens_2\\lib\\site-packages\\ipykernel_launcher.py:14: DeprecationWarning: The default dtype for empty Series will be 'object' instead of 'float64' in a future version. Specify a dtype explicitly to silence this warning.\n",
      "  \n",
      "C:\\Users\\LG\\anaconda3\\envs\\tens_2\\lib\\site-packages\\ipykernel_launcher.py:14: DeprecationWarning: The default dtype for empty Series will be 'object' instead of 'float64' in a future version. Specify a dtype explicitly to silence this warning.\n",
      "  \n",
      "C:\\Users\\LG\\anaconda3\\envs\\tens_2\\lib\\site-packages\\ipykernel_launcher.py:14: DeprecationWarning: The default dtype for empty Series will be 'object' instead of 'float64' in a future version. Specify a dtype explicitly to silence this warning.\n",
      "  \n"
     ]
    }
   ],
   "source": [
    "# 전진 선택법\n",
    "variables = df3.columns[2:-1].tolist() # 설명변수 설정\n",
    "\n",
    "y =df3[\"금액\"] # 반응변수 설정\n",
    "selected_variables=[] # 선택된 변수\n",
    "sl_enter = 0.05\n",
    "\n",
    "sv_per_step = [] # 단계별 선택된 변수\n",
    "adjusted_r_squared = [] # 단계별 수정된 결정계수\n",
    "steps = []\n",
    "step = 0\n",
    "while len(variables) > 0:\n",
    "    remainder = list(set(variables) - set(selected_variables))\n",
    "    pval = pd.Series(index = remainder)\n",
    "    for col in remainder:\n",
    "        X = df3[selected_variables+[col]]  \n",
    "        X = sm.add_constant(X) \n",
    "        model = sm.OLS(y,X).fit()\n",
    "        pval[col] = model.pvalues[col]\n",
    "   \n",
    "    min_pval = pval.min()\n",
    "    if min_pval < sl_enter:\n",
    "        selected_variables.append(pval.idxmin())\n",
    "        \n",
    "        step += 1\n",
    "        steps.append(step)\n",
    "        adj_r_squared = sm.OLS(y, sm.add_constant(df3[selected_variables]))\n",
    "        adjusted_r_squared.append(adj_r_squared)\n",
    "        sv_per_step.append(selected_variables.copy())\n",
    "    else:\n",
    "        break"
   ]
  },
  {
   "cell_type": "code",
   "execution_count": 37,
   "metadata": {},
   "outputs": [
    {
     "data": {
      "text/plain": [
       "['고객수', '건수', '연령대', '성별', '생애주기']"
      ]
     },
     "execution_count": 37,
     "metadata": {},
     "output_type": "execute_result"
    }
   ],
   "source": [
    "selected_variables"
   ]
  },
  {
   "cell_type": "code",
   "execution_count": 38,
   "metadata": {},
   "outputs": [],
   "source": [
    "# 후진 제거법\n",
    "variables = df3.columns[2:-1].tolist() # 설명변수 설정\n",
    "\n",
    "y =df3[\"금액\"] # 반응변수 설정\n",
    "selected_variables= variables # 초기에는 모든 변수 선택\n",
    "sl_remove = 0.05\n",
    "\n",
    "sv_per_step = [] # 단계별 선택된 변수\n",
    "adjusted_r_squared = [] # 단계별 수정된 결정계수\n",
    "steps = []\n",
    "step = 0\n",
    "while len(variables) > 0:\n",
    "    X = sm.add_constant(df3[selected_variables])\n",
    "    p_vals = sm.OLS(y,X).fit().pvalues[1:]\n",
    "    max_pval = p_vals.max()\n",
    "    if max_pval >= sl_remove:\n",
    "        remove_variable = p_vals.idxmax()\n",
    "        selected_variables.remove(remove_variable)\n",
    "        \n",
    "        step += 1\n",
    "        steps.append(step)\n",
    "        adj_r_squared = sm.OLS(y, sm.add_constant(df3[selected_variables]))\n",
    "        adjusted_r_squared.append(adj_r_squared)\n",
    "        sv_per_step.append(selected_variables.copy())\n",
    "    else:\n",
    "        break"
   ]
  },
  {
   "cell_type": "code",
   "execution_count": 39,
   "metadata": {},
   "outputs": [
    {
     "data": {
      "text/plain": [
       "['연령대', '성별', '생애주기', '고객수', '건수']"
      ]
     },
     "execution_count": 39,
     "metadata": {},
     "output_type": "execute_result"
    }
   ],
   "source": [
    "selected_variables"
   ]
  },
  {
   "cell_type": "code",
   "execution_count": 40,
   "metadata": {},
   "outputs": [
    {
     "name": "stderr",
     "output_type": "stream",
     "text": [
      "C:\\Users\\LG\\anaconda3\\envs\\tens_2\\lib\\site-packages\\ipykernel_launcher.py:15: DeprecationWarning: The default dtype for empty Series will be 'object' instead of 'float64' in a future version. Specify a dtype explicitly to silence this warning.\n",
      "  from ipykernel import kernelapp as app\n",
      "C:\\Users\\LG\\anaconda3\\envs\\tens_2\\lib\\site-packages\\ipykernel_launcher.py:15: DeprecationWarning: The default dtype for empty Series will be 'object' instead of 'float64' in a future version. Specify a dtype explicitly to silence this warning.\n",
      "  from ipykernel import kernelapp as app\n",
      "C:\\Users\\LG\\anaconda3\\envs\\tens_2\\lib\\site-packages\\ipykernel_launcher.py:15: DeprecationWarning: The default dtype for empty Series will be 'object' instead of 'float64' in a future version. Specify a dtype explicitly to silence this warning.\n",
      "  from ipykernel import kernelapp as app\n",
      "C:\\Users\\LG\\anaconda3\\envs\\tens_2\\lib\\site-packages\\ipykernel_launcher.py:15: DeprecationWarning: The default dtype for empty Series will be 'object' instead of 'float64' in a future version. Specify a dtype explicitly to silence this warning.\n",
      "  from ipykernel import kernelapp as app\n",
      "C:\\Users\\LG\\anaconda3\\envs\\tens_2\\lib\\site-packages\\ipykernel_launcher.py:15: DeprecationWarning: The default dtype for empty Series will be 'object' instead of 'float64' in a future version. Specify a dtype explicitly to silence this warning.\n",
      "  from ipykernel import kernelapp as app\n",
      "C:\\Users\\LG\\anaconda3\\envs\\tens_2\\lib\\site-packages\\ipykernel_launcher.py:15: DeprecationWarning: The default dtype for empty Series will be 'object' instead of 'float64' in a future version. Specify a dtype explicitly to silence this warning.\n",
      "  from ipykernel import kernelapp as app\n"
     ]
    }
   ],
   "source": [
    "# 단계적 선택법 \n",
    "variables = df3.columns[2:-1].tolist() # 설명변수 설정\n",
    "\n",
    "y =df3[\"금액\"] # 반응변수 설정\n",
    "selected_variables=[] # 선택된 변수\n",
    "sl_enter = 0.05\n",
    "sl_remove = 0.05\n",
    "\n",
    "sv_per_step = [] # 단계별 선택된 변수\n",
    "adjusted_r_squared = [] # 단계별 수정된 결정계수\n",
    "steps = []\n",
    "step = 0\n",
    "while len(variables) > 0:\n",
    "    remainder = list(set(variables) - set(selected_variables))\n",
    "    pval = pd.Series(index = remainder)\n",
    "    for col in remainder:\n",
    "        X = df3[selected_variables+[col]]  \n",
    "        X = sm.add_constant(X) \n",
    "        model = sm.OLS(y,X).fit()\n",
    "        pval[col] = model.pvalues[col]\n",
    "   \n",
    "    min_pval = pval.min()\n",
    "    if min_pval < sl_enter:\n",
    "        selected_variables.append(pval.idxmin())\n",
    "        while len(selected_variables) > 0:\n",
    "            selected_X = df3[selected_variables]\n",
    "            selected_X = sm.add_constant(selected_X)\n",
    "            selected_pval = sm.OLS(y,selected_X).fit().pvalues[1:]\n",
    "            max_pval = selected_pval.max()\n",
    "            if max_pval >= sl_remove:\n",
    "                remove_variable = selected_pval.idxmax()\n",
    "                selected_variabels.remove(remove_variable)\n",
    "            else:\n",
    "                break\n",
    "        \n",
    "        step += 1\n",
    "        steps.append(step)\n",
    "        adj_r_squared = sm.OLS(y, sm.add_constant(df3[selected_variables]))\n",
    "        adjusted_r_squared.append(adj_r_squared)\n",
    "        sv_per_step.append(selected_variables.copy())\n",
    "    else:\n",
    "        break"
   ]
  },
  {
   "cell_type": "code",
   "execution_count": 41,
   "metadata": {},
   "outputs": [
    {
     "data": {
      "text/plain": [
       "['고객수', '건수', '연령대', '성별', '생애주기']"
      ]
     },
     "execution_count": 41,
     "metadata": {},
     "output_type": "execute_result"
    }
   ],
   "source": [
    "selected_variables"
   ]
  },
  {
   "cell_type": "code",
   "execution_count": 42,
   "metadata": {},
   "outputs": [
    {
     "data": {
      "text/html": [
       "<table class=\"simpletable\">\n",
       "<caption>OLS Regression Results</caption>\n",
       "<tr>\n",
       "  <th>Dep. Variable:</th>           <td>금액</td>        <th>  R-squared:         </th>  <td>   0.977</td>  \n",
       "</tr>\n",
       "<tr>\n",
       "  <th>Model:</th>                   <td>OLS</td>       <th>  Adj. R-squared:    </th>  <td>   0.977</td>  \n",
       "</tr>\n",
       "<tr>\n",
       "  <th>Method:</th>             <td>Least Squares</td>  <th>  F-statistic:       </th>  <td>1.412e+06</td> \n",
       "</tr>\n",
       "<tr>\n",
       "  <th>Date:</th>             <td>Mon, 18 Jan 2021</td> <th>  Prob (F-statistic):</th>   <td>  0.00</td>   \n",
       "</tr>\n",
       "<tr>\n",
       "  <th>Time:</th>                 <td>17:38:22</td>     <th>  Log-Likelihood:    </th> <td>-2.7409e+06</td>\n",
       "</tr>\n",
       "<tr>\n",
       "  <th>No. Observations:</th>      <td>165688</td>      <th>  AIC:               </th>  <td>5.482e+06</td> \n",
       "</tr>\n",
       "<tr>\n",
       "  <th>Df Residuals:</th>          <td>165682</td>      <th>  BIC:               </th>  <td>5.482e+06</td> \n",
       "</tr>\n",
       "<tr>\n",
       "  <th>Df Model:</th>              <td>     5</td>      <th>                     </th>      <td> </td>     \n",
       "</tr>\n",
       "<tr>\n",
       "  <th>Covariance Type:</th>      <td>nonrobust</td>    <th>                     </th>      <td> </td>     \n",
       "</tr>\n",
       "</table>\n",
       "<table class=\"simpletable\">\n",
       "<tr>\n",
       "      <td></td>         <th>coef</th>     <th>std err</th>      <th>t</th>      <th>P>|t|</th>  <th>[0.025</th>    <th>0.975]</th>  \n",
       "</tr>\n",
       "<tr>\n",
       "  <th>Intercept</th> <td>-4.843e+05</td> <td> 4.04e+04</td> <td>  -11.978</td> <td> 0.000</td> <td>-5.64e+05</td> <td>-4.05e+05</td>\n",
       "</tr>\n",
       "<tr>\n",
       "  <th>연령대</th>       <td> 1.276e+04</td> <td> 1912.351</td> <td>    6.673</td> <td> 0.000</td> <td> 9012.480</td> <td> 1.65e+04</td>\n",
       "</tr>\n",
       "<tr>\n",
       "  <th>성별</th>        <td>-3.357e+05</td> <td> 1.89e+04</td> <td>  -17.733</td> <td> 0.000</td> <td>-3.73e+05</td> <td>-2.99e+05</td>\n",
       "</tr>\n",
       "<tr>\n",
       "  <th>생애주기</th>      <td> 1.014e+05</td> <td> 1.97e+04</td> <td>    5.160</td> <td> 0.000</td> <td> 6.29e+04</td> <td>  1.4e+05</td>\n",
       "</tr>\n",
       "<tr>\n",
       "  <th>고객수</th>       <td>-8391.8081</td> <td>  221.430</td> <td>  -37.898</td> <td> 0.000</td> <td>-8825.806</td> <td>-7957.811</td>\n",
       "</tr>\n",
       "<tr>\n",
       "  <th>건수</th>        <td> 3.844e+04</td> <td>  146.515</td> <td>  262.340</td> <td> 0.000</td> <td> 3.81e+04</td> <td> 3.87e+04</td>\n",
       "</tr>\n",
       "</table>\n",
       "<table class=\"simpletable\">\n",
       "<tr>\n",
       "  <th>Omnibus:</th>       <td>141498.061</td> <th>  Durbin-Watson:     </th>    <td>   1.622</td>   \n",
       "</tr>\n",
       "<tr>\n",
       "  <th>Prob(Omnibus):</th>   <td> 0.000</td>   <th>  Jarque-Bera (JB):  </th> <td>3236662438.967</td>\n",
       "</tr>\n",
       "<tr>\n",
       "  <th>Skew:</th>            <td>-2.296</td>   <th>  Prob(JB):          </th>    <td>    0.00</td>   \n",
       "</tr>\n",
       "<tr>\n",
       "  <th>Kurtosis:</th>        <td>687.698</td>  <th>  Cond. No.          </th>    <td>4.23e+03</td>   \n",
       "</tr>\n",
       "</table><br/><br/>Notes:<br/>[1] Standard Errors assume that the covariance matrix of the errors is correctly specified.<br/>[2] The condition number is large, 4.23e+03. This might indicate that there are<br/>strong multicollinearity or other numerical problems."
      ],
      "text/plain": [
       "<class 'statsmodels.iolib.summary.Summary'>\n",
       "\"\"\"\n",
       "                            OLS Regression Results                            \n",
       "==============================================================================\n",
       "Dep. Variable:                     금액   R-squared:                       0.977\n",
       "Model:                            OLS   Adj. R-squared:                  0.977\n",
       "Method:                 Least Squares   F-statistic:                 1.412e+06\n",
       "Date:                Mon, 18 Jan 2021   Prob (F-statistic):               0.00\n",
       "Time:                        17:38:22   Log-Likelihood:            -2.7409e+06\n",
       "No. Observations:              165688   AIC:                         5.482e+06\n",
       "Df Residuals:                  165682   BIC:                         5.482e+06\n",
       "Df Model:                           5                                         \n",
       "Covariance Type:            nonrobust                                         \n",
       "==============================================================================\n",
       "                 coef    std err          t      P>|t|      [0.025      0.975]\n",
       "------------------------------------------------------------------------------\n",
       "Intercept  -4.843e+05   4.04e+04    -11.978      0.000   -5.64e+05   -4.05e+05\n",
       "연령대         1.276e+04   1912.351      6.673      0.000    9012.480    1.65e+04\n",
       "성별         -3.357e+05   1.89e+04    -17.733      0.000   -3.73e+05   -2.99e+05\n",
       "생애주기        1.014e+05   1.97e+04      5.160      0.000    6.29e+04     1.4e+05\n",
       "고객수        -8391.8081    221.430    -37.898      0.000   -8825.806   -7957.811\n",
       "건수          3.844e+04    146.515    262.340      0.000    3.81e+04    3.87e+04\n",
       "==============================================================================\n",
       "Omnibus:                   141498.061   Durbin-Watson:                   1.622\n",
       "Prob(Omnibus):                  0.000   Jarque-Bera (JB):       3236662438.967\n",
       "Skew:                          -2.296   Prob(JB):                         0.00\n",
       "Kurtosis:                     687.698   Cond. No.                     4.23e+03\n",
       "==============================================================================\n",
       "\n",
       "Notes:\n",
       "[1] Standard Errors assume that the covariance matrix of the errors is correctly specified.\n",
       "[2] The condition number is large, 4.23e+03. This might indicate that there are\n",
       "strong multicollinearity or other numerical problems.\n",
       "\"\"\""
      ]
     },
     "execution_count": 42,
     "metadata": {},
     "output_type": "execute_result"
    }
   ],
   "source": [
    "model3 = smf.ols(formula = \"금액 ~ 연령대+성별+생애주기+고객수+건수\", data = df3)\n",
    "result3 = model3.fit()\n",
    "result3.summary()"
   ]
  },
  {
   "cell_type": "markdown",
   "metadata": {},
   "source": [
    "# Display\n",
    "## 세가지 방법 모두 고객수, 연령대, 건수, 성별 선택"
   ]
  },
  {
   "cell_type": "code",
   "execution_count": 43,
   "metadata": {},
   "outputs": [],
   "source": [
    "df4 = df4[[\"년월\",\"업종명\",\"연령대\",\"성별\",\"생애주기\",\"고객수\",\"건수\",\"금액\"]]"
   ]
  },
  {
   "cell_type": "code",
   "execution_count": 44,
   "metadata": {},
   "outputs": [
    {
     "name": "stderr",
     "output_type": "stream",
     "text": [
      "C:\\Users\\LG\\anaconda3\\envs\\tens_2\\lib\\site-packages\\ipykernel_launcher.py:14: DeprecationWarning: The default dtype for empty Series will be 'object' instead of 'float64' in a future version. Specify a dtype explicitly to silence this warning.\n",
      "  \n",
      "C:\\Users\\LG\\anaconda3\\envs\\tens_2\\lib\\site-packages\\ipykernel_launcher.py:14: DeprecationWarning: The default dtype for empty Series will be 'object' instead of 'float64' in a future version. Specify a dtype explicitly to silence this warning.\n",
      "  \n",
      "C:\\Users\\LG\\anaconda3\\envs\\tens_2\\lib\\site-packages\\ipykernel_launcher.py:14: DeprecationWarning: The default dtype for empty Series will be 'object' instead of 'float64' in a future version. Specify a dtype explicitly to silence this warning.\n",
      "  \n",
      "C:\\Users\\LG\\anaconda3\\envs\\tens_2\\lib\\site-packages\\ipykernel_launcher.py:14: DeprecationWarning: The default dtype for empty Series will be 'object' instead of 'float64' in a future version. Specify a dtype explicitly to silence this warning.\n",
      "  \n",
      "C:\\Users\\LG\\anaconda3\\envs\\tens_2\\lib\\site-packages\\ipykernel_launcher.py:14: DeprecationWarning: The default dtype for empty Series will be 'object' instead of 'float64' in a future version. Specify a dtype explicitly to silence this warning.\n",
      "  \n"
     ]
    }
   ],
   "source": [
    "# 전진 선택법\n",
    "variables = df4.columns[2:-1].tolist() # 설명변수 설정\n",
    "\n",
    "y =df4[\"금액\"] # 반응변수 설정\n",
    "selected_variables=[] # 선택된 변수\n",
    "sl_enter = 0.05\n",
    "\n",
    "sv_per_step = [] # 단계별 선택된 변수\n",
    "adjusted_r_squared = [] # 단계별 수정된 결정계수\n",
    "steps = []\n",
    "step = 0\n",
    "while len(variables) > 0:\n",
    "    remainder = list(set(variables) - set(selected_variables))\n",
    "    pval = pd.Series(index = remainder)\n",
    "    for col in remainder:\n",
    "        X = df4[selected_variables+[col]]  \n",
    "        X = sm.add_constant(X) \n",
    "        model = sm.OLS(y,X).fit()\n",
    "        pval[col] = model.pvalues[col]\n",
    "   \n",
    "    min_pval = pval.min()\n",
    "    if min_pval < sl_enter:\n",
    "        selected_variables.append(pval.idxmin())\n",
    "        \n",
    "        step += 1\n",
    "        steps.append(step)\n",
    "        adj_r_squared = sm.OLS(y, sm.add_constant(df4[selected_variables]))\n",
    "        adjusted_r_squared.append(adj_r_squared)\n",
    "        sv_per_step.append(selected_variables.copy())\n",
    "    else:\n",
    "        break"
   ]
  },
  {
   "cell_type": "code",
   "execution_count": 45,
   "metadata": {},
   "outputs": [
    {
     "data": {
      "text/plain": [
       "['고객수', '연령대', '건수', '성별']"
      ]
     },
     "execution_count": 45,
     "metadata": {},
     "output_type": "execute_result"
    }
   ],
   "source": [
    "selected_variables"
   ]
  },
  {
   "cell_type": "code",
   "execution_count": 46,
   "metadata": {},
   "outputs": [],
   "source": [
    "# 후진 제거법\n",
    "variables = df4.columns[2:-1].tolist() # 설명변수 설정\n",
    "\n",
    "y =df4[\"금액\"] # 반응변수 설정\n",
    "selected_variables= variables # 초기에는 모든 변수 선택\n",
    "sl_remove = 0.05\n",
    "\n",
    "sv_per_step = [] # 단계별 선택된 변수\n",
    "adjusted_r_squared = [] # 단계별 수정된 결정계수\n",
    "steps = []\n",
    "step = 0\n",
    "while len(variables) > 0:\n",
    "    X = sm.add_constant(df4[selected_variables])\n",
    "    p_vals = sm.OLS(y,X).fit().pvalues[1:]\n",
    "    max_pval = p_vals.max()\n",
    "    if max_pval >= sl_remove:\n",
    "        remove_variable = p_vals.idxmax()\n",
    "        selected_variables.remove(remove_variable)\n",
    "        \n",
    "        step += 1\n",
    "        steps.append(step)\n",
    "        adj_r_squared = sm.OLS(y, sm.add_constant(df4[selected_variables]))\n",
    "        adjusted_r_squared.append(adj_r_squared)\n",
    "        sv_per_step.append(selected_variables.copy())\n",
    "    else:\n",
    "        break"
   ]
  },
  {
   "cell_type": "code",
   "execution_count": 47,
   "metadata": {},
   "outputs": [
    {
     "data": {
      "text/plain": [
       "['연령대', '성별', '고객수', '건수']"
      ]
     },
     "execution_count": 47,
     "metadata": {},
     "output_type": "execute_result"
    }
   ],
   "source": [
    "selected_variables"
   ]
  },
  {
   "cell_type": "code",
   "execution_count": 48,
   "metadata": {},
   "outputs": [
    {
     "name": "stderr",
     "output_type": "stream",
     "text": [
      "C:\\Users\\LG\\anaconda3\\envs\\tens_2\\lib\\site-packages\\ipykernel_launcher.py:15: DeprecationWarning: The default dtype for empty Series will be 'object' instead of 'float64' in a future version. Specify a dtype explicitly to silence this warning.\n",
      "  from ipykernel import kernelapp as app\n",
      "C:\\Users\\LG\\anaconda3\\envs\\tens_2\\lib\\site-packages\\ipykernel_launcher.py:15: DeprecationWarning: The default dtype for empty Series will be 'object' instead of 'float64' in a future version. Specify a dtype explicitly to silence this warning.\n",
      "  from ipykernel import kernelapp as app\n",
      "C:\\Users\\LG\\anaconda3\\envs\\tens_2\\lib\\site-packages\\ipykernel_launcher.py:15: DeprecationWarning: The default dtype for empty Series will be 'object' instead of 'float64' in a future version. Specify a dtype explicitly to silence this warning.\n",
      "  from ipykernel import kernelapp as app\n",
      "C:\\Users\\LG\\anaconda3\\envs\\tens_2\\lib\\site-packages\\ipykernel_launcher.py:15: DeprecationWarning: The default dtype for empty Series will be 'object' instead of 'float64' in a future version. Specify a dtype explicitly to silence this warning.\n",
      "  from ipykernel import kernelapp as app\n",
      "C:\\Users\\LG\\anaconda3\\envs\\tens_2\\lib\\site-packages\\ipykernel_launcher.py:15: DeprecationWarning: The default dtype for empty Series will be 'object' instead of 'float64' in a future version. Specify a dtype explicitly to silence this warning.\n",
      "  from ipykernel import kernelapp as app\n"
     ]
    }
   ],
   "source": [
    "# 단계적 선택법 \n",
    "variables = df4.columns[2:-1].tolist() # 설명변수 설정\n",
    "\n",
    "y =df4[\"금액\"] # 반응변수 설정\n",
    "selected_variables=[] # 선택된 변수\n",
    "sl_enter = 0.05\n",
    "sl_remove = 0.05\n",
    "\n",
    "sv_per_step = [] # 단계별 선택된 변수\n",
    "adjusted_r_squared = [] # 단계별 수정된 결정계수\n",
    "steps = []\n",
    "step = 0\n",
    "while len(variables) > 0:\n",
    "    remainder = list(set(variables) - set(selected_variables))\n",
    "    pval = pd.Series(index = remainder)\n",
    "    for col in remainder:\n",
    "        X = df4[selected_variables+[col]]  \n",
    "        X = sm.add_constant(X) \n",
    "        model = sm.OLS(y,X).fit()\n",
    "        pval[col] = model.pvalues[col]\n",
    "   \n",
    "    min_pval = pval.min()\n",
    "    if min_pval < sl_enter:\n",
    "        selected_variables.append(pval.idxmin())\n",
    "        while len(selected_variables) > 0:\n",
    "            selected_X = df4[selected_variables]\n",
    "            selected_X = sm.add_constant(selected_X)\n",
    "            selected_pval = sm.OLS(y,selected_X).fit().pvalues[1:]\n",
    "            max_pval = selected_pval.max()\n",
    "            if max_pval >= sl_remove:\n",
    "                remove_variable = selected_pval.idxmax()\n",
    "                selected_variabels.remove(remove_variable)\n",
    "            else:\n",
    "                break\n",
    "        \n",
    "        step += 1\n",
    "        steps.append(step)\n",
    "        adj_r_squared = sm.OLS(y, sm.add_constant(df4[selected_variables]))\n",
    "        adjusted_r_squared.append(adj_r_squared)\n",
    "        sv_per_step.append(selected_variables.copy())\n",
    "    else:\n",
    "        break"
   ]
  },
  {
   "cell_type": "code",
   "execution_count": 49,
   "metadata": {},
   "outputs": [
    {
     "data": {
      "text/plain": [
       "['고객수', '연령대', '건수', '성별']"
      ]
     },
     "execution_count": 49,
     "metadata": {},
     "output_type": "execute_result"
    }
   ],
   "source": [
    "selected_variables"
   ]
  },
  {
   "cell_type": "code",
   "execution_count": 50,
   "metadata": {},
   "outputs": [
    {
     "data": {
      "text/html": [
       "<table class=\"simpletable\">\n",
       "<caption>OLS Regression Results</caption>\n",
       "<tr>\n",
       "  <th>Dep. Variable:</th>           <td>금액</td>        <th>  R-squared:         </th> <td>   0.810</td> \n",
       "</tr>\n",
       "<tr>\n",
       "  <th>Model:</th>                   <td>OLS</td>       <th>  Adj. R-squared:    </th> <td>   0.810</td> \n",
       "</tr>\n",
       "<tr>\n",
       "  <th>Method:</th>             <td>Least Squares</td>  <th>  F-statistic:       </th> <td>   6630.</td> \n",
       "</tr>\n",
       "<tr>\n",
       "  <th>Date:</th>             <td>Mon, 18 Jan 2021</td> <th>  Prob (F-statistic):</th>  <td>  0.00</td>  \n",
       "</tr>\n",
       "<tr>\n",
       "  <th>Time:</th>                 <td>17:38:29</td>     <th>  Log-Likelihood:    </th> <td> -87582.</td> \n",
       "</tr>\n",
       "<tr>\n",
       "  <th>No. Observations:</th>      <td>  6217</td>      <th>  AIC:               </th> <td>1.752e+05</td>\n",
       "</tr>\n",
       "<tr>\n",
       "  <th>Df Residuals:</th>          <td>  6212</td>      <th>  BIC:               </th> <td>1.752e+05</td>\n",
       "</tr>\n",
       "<tr>\n",
       "  <th>Df Model:</th>              <td>     4</td>      <th>                     </th>     <td> </td>    \n",
       "</tr>\n",
       "<tr>\n",
       "  <th>Covariance Type:</th>      <td>nonrobust</td>    <th>                     </th>     <td> </td>    \n",
       "</tr>\n",
       "</table>\n",
       "<table class=\"simpletable\">\n",
       "<tr>\n",
       "      <td></td>         <th>coef</th>     <th>std err</th>      <th>t</th>      <th>P>|t|</th>  <th>[0.025</th>    <th>0.975]</th>  \n",
       "</tr>\n",
       "<tr>\n",
       "  <th>Intercept</th> <td>-4.017e+05</td> <td>  1.9e+04</td> <td>  -21.128</td> <td> 0.000</td> <td>-4.39e+05</td> <td>-3.64e+05</td>\n",
       "</tr>\n",
       "<tr>\n",
       "  <th>연령대</th>       <td> 4646.8870</td> <td>  338.132</td> <td>   13.743</td> <td> 0.000</td> <td> 3984.032</td> <td> 5309.742</td>\n",
       "</tr>\n",
       "<tr>\n",
       "  <th>성별</th>        <td> 5.291e+04</td> <td> 8179.572</td> <td>    6.468</td> <td> 0.000</td> <td> 3.69e+04</td> <td> 6.89e+04</td>\n",
       "</tr>\n",
       "<tr>\n",
       "  <th>고객수</th>       <td> 6.094e+04</td> <td> 1540.066</td> <td>   39.573</td> <td> 0.000</td> <td> 5.79e+04</td> <td>  6.4e+04</td>\n",
       "</tr>\n",
       "<tr>\n",
       "  <th>건수</th>        <td>-1.171e+04</td> <td> 1328.259</td> <td>   -8.813</td> <td> 0.000</td> <td>-1.43e+04</td> <td>-9102.573</td>\n",
       "</tr>\n",
       "</table>\n",
       "<table class=\"simpletable\">\n",
       "<tr>\n",
       "  <th>Omnibus:</th>       <td>7268.299</td> <th>  Durbin-Watson:     </th>  <td>   1.177</td>  \n",
       "</tr>\n",
       "<tr>\n",
       "  <th>Prob(Omnibus):</th>  <td> 0.000</td>  <th>  Jarque-Bera (JB):  </th> <td>3078403.270</td>\n",
       "</tr>\n",
       "<tr>\n",
       "  <th>Skew:</th>           <td> 5.602</td>  <th>  Prob(JB):          </th>  <td>    0.00</td>  \n",
       "</tr>\n",
       "<tr>\n",
       "  <th>Kurtosis:</th>       <td>111.436</td> <th>  Cond. No.          </th>  <td>    212.</td>  \n",
       "</tr>\n",
       "</table><br/><br/>Notes:<br/>[1] Standard Errors assume that the covariance matrix of the errors is correctly specified."
      ],
      "text/plain": [
       "<class 'statsmodels.iolib.summary.Summary'>\n",
       "\"\"\"\n",
       "                            OLS Regression Results                            \n",
       "==============================================================================\n",
       "Dep. Variable:                     금액   R-squared:                       0.810\n",
       "Model:                            OLS   Adj. R-squared:                  0.810\n",
       "Method:                 Least Squares   F-statistic:                     6630.\n",
       "Date:                Mon, 18 Jan 2021   Prob (F-statistic):               0.00\n",
       "Time:                        17:38:29   Log-Likelihood:                -87582.\n",
       "No. Observations:                6217   AIC:                         1.752e+05\n",
       "Df Residuals:                    6212   BIC:                         1.752e+05\n",
       "Df Model:                           4                                         \n",
       "Covariance Type:            nonrobust                                         \n",
       "==============================================================================\n",
       "                 coef    std err          t      P>|t|      [0.025      0.975]\n",
       "------------------------------------------------------------------------------\n",
       "Intercept  -4.017e+05    1.9e+04    -21.128      0.000   -4.39e+05   -3.64e+05\n",
       "연령대         4646.8870    338.132     13.743      0.000    3984.032    5309.742\n",
       "성별          5.291e+04   8179.572      6.468      0.000    3.69e+04    6.89e+04\n",
       "고객수         6.094e+04   1540.066     39.573      0.000    5.79e+04     6.4e+04\n",
       "건수         -1.171e+04   1328.259     -8.813      0.000   -1.43e+04   -9102.573\n",
       "==============================================================================\n",
       "Omnibus:                     7268.299   Durbin-Watson:                   1.177\n",
       "Prob(Omnibus):                  0.000   Jarque-Bera (JB):          3078403.270\n",
       "Skew:                           5.602   Prob(JB):                         0.00\n",
       "Kurtosis:                     111.436   Cond. No.                         212.\n",
       "==============================================================================\n",
       "\n",
       "Notes:\n",
       "[1] Standard Errors assume that the covariance matrix of the errors is correctly specified.\n",
       "\"\"\""
      ]
     },
     "execution_count": 50,
     "metadata": {},
     "output_type": "execute_result"
    }
   ],
   "source": [
    "model4 = smf.ols(formula = \"금액 ~ 연령대+성별+고객수+건수\", data = df4)\n",
    "result4 = model4.fit()\n",
    "result4.summary()"
   ]
  },
  {
   "cell_type": "markdown",
   "metadata": {},
   "source": [
    "# Tour\n",
    "## 3가지 방법 모두 고객수, 건수, 성별 변수 선택"
   ]
  },
  {
   "cell_type": "code",
   "execution_count": 51,
   "metadata": {},
   "outputs": [],
   "source": [
    "df5 = df5[[\"년월\",\"업종명\",\"연령대\",\"성별\",\"생애주기\",\"고객수\",\"건수\",\"금액\"]]"
   ]
  },
  {
   "cell_type": "code",
   "execution_count": 52,
   "metadata": {},
   "outputs": [
    {
     "name": "stderr",
     "output_type": "stream",
     "text": [
      "C:\\Users\\LG\\anaconda3\\envs\\tens_2\\lib\\site-packages\\ipykernel_launcher.py:14: DeprecationWarning: The default dtype for empty Series will be 'object' instead of 'float64' in a future version. Specify a dtype explicitly to silence this warning.\n",
      "  \n",
      "C:\\Users\\LG\\anaconda3\\envs\\tens_2\\lib\\site-packages\\ipykernel_launcher.py:14: DeprecationWarning: The default dtype for empty Series will be 'object' instead of 'float64' in a future version. Specify a dtype explicitly to silence this warning.\n",
      "  \n",
      "C:\\Users\\LG\\anaconda3\\envs\\tens_2\\lib\\site-packages\\ipykernel_launcher.py:14: DeprecationWarning: The default dtype for empty Series will be 'object' instead of 'float64' in a future version. Specify a dtype explicitly to silence this warning.\n",
      "  \n",
      "C:\\Users\\LG\\anaconda3\\envs\\tens_2\\lib\\site-packages\\ipykernel_launcher.py:14: DeprecationWarning: The default dtype for empty Series will be 'object' instead of 'float64' in a future version. Specify a dtype explicitly to silence this warning.\n",
      "  \n"
     ]
    }
   ],
   "source": [
    "# 전진 선택법\n",
    "variables = df5.columns[2:-1].tolist() # 설명변수 설정\n",
    "\n",
    "y =df5[\"금액\"] # 반응변수 설정\n",
    "selected_variables=[] # 선택된 변수\n",
    "sl_enter = 0.05\n",
    "\n",
    "sv_per_step = [] # 단계별 선택된 변수\n",
    "adjusted_r_squared = [] # 단계별 수정된 결정계수\n",
    "steps = []\n",
    "step = 0\n",
    "while len(variables) > 0:\n",
    "    remainder = list(set(variables) - set(selected_variables))\n",
    "    pval = pd.Series(index = remainder)\n",
    "    for col in remainder:\n",
    "        X = df5[selected_variables+[col]]  \n",
    "        X = sm.add_constant(X) \n",
    "        model = sm.OLS(y,X).fit()\n",
    "        pval[col] = model.pvalues[col]\n",
    "   \n",
    "    min_pval = pval.min()\n",
    "    if min_pval < sl_enter:\n",
    "        selected_variables.append(pval.idxmin())\n",
    "        \n",
    "        step += 1\n",
    "        steps.append(step)\n",
    "        adj_r_squared = sm.OLS(y, sm.add_constant(df5[selected_variables]))\n",
    "        adjusted_r_squared.append(adj_r_squared)\n",
    "        sv_per_step.append(selected_variables.copy())\n",
    "    else:\n",
    "        break"
   ]
  },
  {
   "cell_type": "code",
   "execution_count": 53,
   "metadata": {},
   "outputs": [
    {
     "data": {
      "text/plain": [
       "['고객수', '건수', '성별']"
      ]
     },
     "execution_count": 53,
     "metadata": {},
     "output_type": "execute_result"
    }
   ],
   "source": [
    "selected_variables"
   ]
  },
  {
   "cell_type": "code",
   "execution_count": 54,
   "metadata": {},
   "outputs": [],
   "source": [
    "# 후진 제거법\n",
    "variables = df5.columns[2:-1].tolist() # 설명변수 설정\n",
    "\n",
    "y =df5[\"금액\"] # 반응변수 설정\n",
    "selected_variables= variables # 초기에는 모든 변수 선택\n",
    "sl_remove = 0.05\n",
    "\n",
    "sv_per_step = [] # 단계별 선택된 변수\n",
    "adjusted_r_squared = [] # 단계별 수정된 결정계수\n",
    "steps = []\n",
    "step = 0\n",
    "while len(variables) > 0:\n",
    "    X = sm.add_constant(df5[selected_variables])\n",
    "    p_vals = sm.OLS(y,X).fit().pvalues[1:]\n",
    "    max_pval = p_vals.max()\n",
    "    if max_pval >= sl_remove:\n",
    "        remove_variable = p_vals.idxmax()\n",
    "        selected_variables.remove(remove_variable)\n",
    "        \n",
    "        step += 1\n",
    "        steps.append(step)\n",
    "        adj_r_squared = sm.OLS(y, sm.add_constant(df5[selected_variables]))\n",
    "        adjusted_r_squared.append(adj_r_squared)\n",
    "        sv_per_step.append(selected_variables.copy())\n",
    "    else:\n",
    "        break"
   ]
  },
  {
   "cell_type": "code",
   "execution_count": 55,
   "metadata": {},
   "outputs": [
    {
     "data": {
      "text/plain": [
       "['성별', '고객수', '건수']"
      ]
     },
     "execution_count": 55,
     "metadata": {},
     "output_type": "execute_result"
    }
   ],
   "source": [
    "selected_variables"
   ]
  },
  {
   "cell_type": "code",
   "execution_count": 56,
   "metadata": {},
   "outputs": [
    {
     "name": "stderr",
     "output_type": "stream",
     "text": [
      "C:\\Users\\LG\\anaconda3\\envs\\tens_2\\lib\\site-packages\\ipykernel_launcher.py:15: DeprecationWarning: The default dtype for empty Series will be 'object' instead of 'float64' in a future version. Specify a dtype explicitly to silence this warning.\n",
      "  from ipykernel import kernelapp as app\n",
      "C:\\Users\\LG\\anaconda3\\envs\\tens_2\\lib\\site-packages\\ipykernel_launcher.py:15: DeprecationWarning: The default dtype for empty Series will be 'object' instead of 'float64' in a future version. Specify a dtype explicitly to silence this warning.\n",
      "  from ipykernel import kernelapp as app\n",
      "C:\\Users\\LG\\anaconda3\\envs\\tens_2\\lib\\site-packages\\ipykernel_launcher.py:15: DeprecationWarning: The default dtype for empty Series will be 'object' instead of 'float64' in a future version. Specify a dtype explicitly to silence this warning.\n",
      "  from ipykernel import kernelapp as app\n",
      "C:\\Users\\LG\\anaconda3\\envs\\tens_2\\lib\\site-packages\\ipykernel_launcher.py:15: DeprecationWarning: The default dtype for empty Series will be 'object' instead of 'float64' in a future version. Specify a dtype explicitly to silence this warning.\n",
      "  from ipykernel import kernelapp as app\n"
     ]
    }
   ],
   "source": [
    "# 단계적 선택법 \n",
    "variables = df5.columns[2:-1].tolist() # 설명변수 설정\n",
    "\n",
    "y =df5[\"금액\"] # 반응변수 설정\n",
    "selected_variables=[] # 선택된 변수\n",
    "sl_enter = 0.05\n",
    "sl_remove = 0.05\n",
    "\n",
    "sv_per_step = [] # 단계별 선택된 변수\n",
    "adjusted_r_squared = [] # 단계별 수정된 결정계수\n",
    "steps = []\n",
    "step = 0\n",
    "while len(variables) > 0:\n",
    "    remainder = list(set(variables) - set(selected_variables))\n",
    "    pval = pd.Series(index = remainder)\n",
    "    for col in remainder:\n",
    "        X = df5[selected_variables+[col]]  \n",
    "        X = sm.add_constant(X) \n",
    "        model = sm.OLS(y,X).fit()\n",
    "        pval[col] = model.pvalues[col]\n",
    "   \n",
    "    min_pval = pval.min()\n",
    "    if min_pval < sl_enter:\n",
    "        selected_variables.append(pval.idxmin())\n",
    "        while len(selected_variables) > 0:\n",
    "            selected_X = df5[selected_variables]\n",
    "            selected_X = sm.add_constant(selected_X)\n",
    "            selected_pval = sm.OLS(y,selected_X).fit().pvalues[1:]\n",
    "            max_pval = selected_pval.max()\n",
    "            if max_pval >= sl_remove:\n",
    "                remove_variable = selected_pval.idxmax()\n",
    "                selected_variabels.remove(remove_variable)\n",
    "            else:\n",
    "                break\n",
    "        \n",
    "        step += 1\n",
    "        steps.append(step)\n",
    "        adj_r_squared = sm.OLS(y, sm.add_constant(df5[selected_variables]))\n",
    "        adjusted_r_squared.append(adj_r_squared)\n",
    "        sv_per_step.append(selected_variables.copy())\n",
    "    else:\n",
    "        break"
   ]
  },
  {
   "cell_type": "code",
   "execution_count": 57,
   "metadata": {},
   "outputs": [
    {
     "data": {
      "text/plain": [
       "['고객수', '건수', '성별']"
      ]
     },
     "execution_count": 57,
     "metadata": {},
     "output_type": "execute_result"
    }
   ],
   "source": [
    "selected_variables"
   ]
  },
  {
   "cell_type": "code",
   "execution_count": 58,
   "metadata": {},
   "outputs": [
    {
     "data": {
      "text/html": [
       "<table class=\"simpletable\">\n",
       "<caption>OLS Regression Results</caption>\n",
       "<tr>\n",
       "  <th>Dep. Variable:</th>           <td>금액</td>        <th>  R-squared:         </th> <td>   0.328</td> \n",
       "</tr>\n",
       "<tr>\n",
       "  <th>Model:</th>                   <td>OLS</td>       <th>  Adj. R-squared:    </th> <td>   0.328</td> \n",
       "</tr>\n",
       "<tr>\n",
       "  <th>Method:</th>             <td>Least Squares</td>  <th>  F-statistic:       </th> <td>   856.0</td> \n",
       "</tr>\n",
       "<tr>\n",
       "  <th>Date:</th>             <td>Mon, 18 Jan 2021</td> <th>  Prob (F-statistic):</th>  <td>  0.00</td>  \n",
       "</tr>\n",
       "<tr>\n",
       "  <th>Time:</th>                 <td>17:38:35</td>     <th>  Log-Likelihood:    </th> <td> -83873.</td> \n",
       "</tr>\n",
       "<tr>\n",
       "  <th>No. Observations:</th>      <td>  5264</td>      <th>  AIC:               </th> <td>1.678e+05</td>\n",
       "</tr>\n",
       "<tr>\n",
       "  <th>Df Residuals:</th>          <td>  5260</td>      <th>  BIC:               </th> <td>1.678e+05</td>\n",
       "</tr>\n",
       "<tr>\n",
       "  <th>Df Model:</th>              <td>     3</td>      <th>                     </th>     <td> </td>    \n",
       "</tr>\n",
       "<tr>\n",
       "  <th>Covariance Type:</th>      <td>nonrobust</td>    <th>                     </th>     <td> </td>    \n",
       "</tr>\n",
       "</table>\n",
       "<table class=\"simpletable\">\n",
       "<tr>\n",
       "      <td></td>         <th>coef</th>     <th>std err</th>      <th>t</th>      <th>P>|t|</th>  <th>[0.025</th>    <th>0.975]</th>  \n",
       "</tr>\n",
       "<tr>\n",
       "  <th>Intercept</th> <td>-2.251e+04</td> <td> 8.68e+04</td> <td>   -0.259</td> <td> 0.795</td> <td>-1.93e+05</td> <td> 1.48e+05</td>\n",
       "</tr>\n",
       "<tr>\n",
       "  <th>성별</th>        <td>-1.526e+05</td> <td> 5.66e+04</td> <td>   -2.696</td> <td> 0.007</td> <td>-2.64e+05</td> <td>-4.16e+04</td>\n",
       "</tr>\n",
       "<tr>\n",
       "  <th>고객수</th>       <td> 2.622e+05</td> <td> 9355.977</td> <td>   28.023</td> <td> 0.000</td> <td> 2.44e+05</td> <td> 2.81e+05</td>\n",
       "</tr>\n",
       "<tr>\n",
       "  <th>건수</th>        <td>-1.005e+05</td> <td> 5994.755</td> <td>  -16.764</td> <td> 0.000</td> <td>-1.12e+05</td> <td>-8.87e+04</td>\n",
       "</tr>\n",
       "</table>\n",
       "<table class=\"simpletable\">\n",
       "<tr>\n",
       "  <th>Omnibus:</th>       <td>7691.317</td> <th>  Durbin-Watson:     </th>  <td>   1.312</td>  \n",
       "</tr>\n",
       "<tr>\n",
       "  <th>Prob(Omnibus):</th>  <td> 0.000</td>  <th>  Jarque-Bera (JB):  </th> <td>4253981.096</td>\n",
       "</tr>\n",
       "<tr>\n",
       "  <th>Skew:</th>           <td> 8.623</td>  <th>  Prob(JB):          </th>  <td>    0.00</td>  \n",
       "</tr>\n",
       "<tr>\n",
       "  <th>Kurtosis:</th>       <td>141.194</td> <th>  Cond. No.          </th>  <td>    99.2</td>  \n",
       "</tr>\n",
       "</table><br/><br/>Notes:<br/>[1] Standard Errors assume that the covariance matrix of the errors is correctly specified."
      ],
      "text/plain": [
       "<class 'statsmodels.iolib.summary.Summary'>\n",
       "\"\"\"\n",
       "                            OLS Regression Results                            \n",
       "==============================================================================\n",
       "Dep. Variable:                     금액   R-squared:                       0.328\n",
       "Model:                            OLS   Adj. R-squared:                  0.328\n",
       "Method:                 Least Squares   F-statistic:                     856.0\n",
       "Date:                Mon, 18 Jan 2021   Prob (F-statistic):               0.00\n",
       "Time:                        17:38:35   Log-Likelihood:                -83873.\n",
       "No. Observations:                5264   AIC:                         1.678e+05\n",
       "Df Residuals:                    5260   BIC:                         1.678e+05\n",
       "Df Model:                           3                                         \n",
       "Covariance Type:            nonrobust                                         \n",
       "==============================================================================\n",
       "                 coef    std err          t      P>|t|      [0.025      0.975]\n",
       "------------------------------------------------------------------------------\n",
       "Intercept  -2.251e+04   8.68e+04     -0.259      0.795   -1.93e+05    1.48e+05\n",
       "성별         -1.526e+05   5.66e+04     -2.696      0.007   -2.64e+05   -4.16e+04\n",
       "고객수         2.622e+05   9355.977     28.023      0.000    2.44e+05    2.81e+05\n",
       "건수         -1.005e+05   5994.755    -16.764      0.000   -1.12e+05   -8.87e+04\n",
       "==============================================================================\n",
       "Omnibus:                     7691.317   Durbin-Watson:                   1.312\n",
       "Prob(Omnibus):                  0.000   Jarque-Bera (JB):          4253981.096\n",
       "Skew:                           8.623   Prob(JB):                         0.00\n",
       "Kurtosis:                     141.194   Cond. No.                         99.2\n",
       "==============================================================================\n",
       "\n",
       "Notes:\n",
       "[1] Standard Errors assume that the covariance matrix of the errors is correctly specified.\n",
       "\"\"\""
      ]
     },
     "execution_count": 58,
     "metadata": {},
     "output_type": "execute_result"
    }
   ],
   "source": [
    "# 세가지 변수를 이용한 회귀 모델 구현\n",
    "model5 = smf.ols(formula = \"금액 ~ 성별+고객수+건수\", data = df5)\n",
    "result5 = model5.fit()\n",
    "result5.summary()"
   ]
  },
  {
   "cell_type": "code",
   "execution_count": null,
   "metadata": {},
   "outputs": [],
   "source": []
  },
  {
   "cell_type": "code",
   "execution_count": null,
   "metadata": {},
   "outputs": [],
   "source": []
  }
 ],
 "metadata": {
  "kernelspec": {
   "display_name": "Python 3",
   "language": "python",
   "name": "python3"
  },
  "language_info": {
   "codemirror_mode": {
    "name": "ipython",
    "version": 3
   },
   "file_extension": ".py",
   "mimetype": "text/x-python",
   "name": "python",
   "nbconvert_exporter": "python",
   "pygments_lexer": "ipython3",
   "version": "3.7.9"
  }
 },
 "nbformat": 4,
 "nbformat_minor": 4
}
